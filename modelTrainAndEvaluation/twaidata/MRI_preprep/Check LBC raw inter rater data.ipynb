{
 "cells": [
  {
   "cell_type": "markdown",
   "id": "ff657ae0-3629-4848-9f05-5615098a75c9",
   "metadata": {},
   "source": [
    "### Check the raw LBC data inter rater"
   ]
  },
  {
   "cell_type": "code",
   "execution_count": 1,
   "id": "b42ed49c-490d-4277-98f2-10536f165e95",
   "metadata": {
    "tags": []
   },
   "outputs": [],
   "source": [
    "import numpy as np\n",
    "import matplotlib.pyplot as plt\n",
    "import os\n",
    "from twaidata.MRI_preprep.io import load_nii_img"
   ]
  },
  {
   "cell_type": "code",
   "execution_count": 9,
   "id": "e2045312-509e-4653-856d-5b8d01b62207",
   "metadata": {
    "tags": []
   },
   "outputs": [
    {
     "data": {
      "text/plain": [
       "['LBC360222_1_CSF.nii.gz',\n",
       " 'LBC360222_1_ICV.nii.gz',\n",
       " 'LBC360222_1_T1brain_reg_T2.nii.gz',\n",
       " 'LBC360222_1_brain.nii.gz',\n",
       " 'LBC360222_1_I_T2Wbrain.nii.gz',\n",
       " 'LBC360222_1_I_FLAIRbrain.nii.gz',\n",
       " 'LBC360222_1_WMH_FLAIR_thresholding.nii.gz',\n",
       " 'LBC360222_1_WMH.nii.gz',\n",
       " 'LBC360222_1_brain_tissue.nii.gz']"
      ]
     },
     "execution_count": 9,
     "metadata": {},
     "output_type": "execute_result"
    }
   ],
   "source": [
    "os.listdir(\"/home/s2208943/LBC360222\")"
   ]
  },
  {
   "cell_type": "code",
   "execution_count": 16,
   "id": "edfd16d4-3957-4cca-99c6-c917b08f9b53",
   "metadata": {
    "tags": []
   },
   "outputs": [
    {
     "data": {
      "text/plain": [
       "((256, 256, 80), (256, 256, 80))"
      ]
     },
     "execution_count": 16,
     "metadata": {},
     "output_type": "execute_result"
    }
   ],
   "source": [
    "img1, _ = load_nii_img(\"/home/s2208943/ipdis/data/InterRater_data/LBC360222/LBC360222_1_WMH_FLAIR_thresholding.nii.gz\")\n",
    "img2, _ = load_nii_img(\"/home/s2208943/ipdis/data/InterRater_data/LBC360222/LBC360222_1_WMH.nii.gz\")\n",
    "img1.shape, img2.shape"
   ]
  },
  {
   "cell_type": "code",
   "execution_count": 17,
   "id": "40348212-6ec9-478c-b9af-a95f6c8aa5e2",
   "metadata": {
    "tags": []
   },
   "outputs": [],
   "source": [
    "import torch\n",
    "from trustworthai.journal_run.evaluation.new_scripts.eval_helper_functions import fast_dice, fast_avd\n",
    "img1 = torch.Tensor(img1.squeeze())\n",
    "img2 = torch.Tensor(img2.squeeze())"
   ]
  },
  {
   "cell_type": "code",
   "execution_count": 18,
   "id": "a0bc8b98-e177-4db8-bc22-377c09f7a76f",
   "metadata": {
    "tags": []
   },
   "outputs": [
    {
     "data": {
      "text/plain": [
       "0.6476117372512817"
      ]
     },
     "execution_count": 18,
     "metadata": {},
     "output_type": "execute_result"
    }
   ],
   "source": [
    "fast_dice(img1, img2)"
   ]
  },
  {
   "cell_type": "code",
   "execution_count": 32,
   "id": "aed8be1d-97ee-4ecf-94c8-dd376833672d",
   "metadata": {
    "tags": []
   },
   "outputs": [],
   "source": [
    "def plot_wmhs(foldername):\n",
    "    files = [\"/home/s2208943/ipdis/data/InterRater_data/\"+foldername + \"/\" + f for f in os.listdir(\"/home/s2208943/ipdis/data/InterRater_data/\"+foldername) if \"wmh\" in f.lower()]\n",
    "    \n",
    "    plt.figure(figsize=(15, 5))\n",
    "    imgs = []\n",
    "    \n",
    "    for i in range(len(files)):\n",
    "        img, _ = load_nii_img(files[i])\n",
    "        img = torch.Tensor(img).squeeze()\n",
    "        imgs.append(img)\n",
    "        slices = img.shape[-1]\n",
    "        for j in range(3):\n",
    "            plt.subplot(len(files), 3, 3 * i + j + 1)\n",
    "            plt.imshow(img[:,:,int(slices * 0.25 * (j+1))])\n",
    "            plt.axis('off')\n",
    "            \n",
    "    print(fast_dice(imgs[0], imgs[1]))"
   ]
  },
  {
   "cell_type": "code",
   "execution_count": 34,
   "id": "b92c8f28-e33e-4ba6-8dc3-3a3bedabe833",
   "metadata": {
    "tags": []
   },
   "outputs": [
    {
     "name": "stdout",
     "output_type": "stream",
     "text": [
      "0.994355320930481\n"
     ]
    },
    {
     "data": {
      "image/png": "[encoded data removed]",
      "text/plain": [
       "<Figure size 1500x500 with 6 Axes>"
      ]
     },
     "metadata": {},
     "output_type": "display_data"
    }
   ],
   "source": [
    "plot_wmhs(\"LBC360386\")"
   ]
  },
  {
   "cell_type": "code",
   "execution_count": null,
   "id": "57ee3eda-a28e-49dc-a3ea-390485ffccaf",
   "metadata": {},
   "outputs": [],
   "source": []
  }
 ],
 "metadata": {
  "kernelspec": {
   "display_name": "Python 3 (ipykernel)",
   "language": "python",
   "name": "python3"
  },
  "language_info": {
   "codemirror_mode": {
    "name": "ipython",
    "version": 3
   },
   "file_extension": ".py",
   "mimetype": "text/x-python",
   "name": "python",
   "nbconvert_exporter": "python",
   "pygments_lexer": "ipython3",
   "version": "3.8.10"
  }
 },
 "nbformat": 4,
 "nbformat_minor": 5
}
