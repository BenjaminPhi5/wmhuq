{
 "cells": [
  {
   "cell_type": "code",
   "execution_count": 12,
   "id": "6c933f5f-81f5-4553-bf2b-9b654941fbea",
   "metadata": {
    "tags": []
   },
   "outputs": [],
   "source": [
    "import subprocess\n",
    "import os\n",
    "from tqdm import tqdm"
   ]
  },
  {
   "cell_type": "code",
   "execution_count": 13,
   "id": "e3db9205-032d-403e-ba72-579b80c1cf53",
   "metadata": {
    "tags": []
   },
   "outputs": [],
   "source": [
    "path = \"/home/s2208943/datasets/Inter_observer/\""
   ]
  },
  {
   "cell_type": "code",
   "execution_count": 14,
   "id": "0a62318d-b17f-4968-b578-424602553e90",
   "metadata": {
    "tags": []
   },
   "outputs": [],
   "source": [
    "folders = os.listdir(path)"
   ]
  },
  {
   "cell_type": "code",
   "execution_count": 16,
   "id": "91827514-cb37-46ed-b7d1-ba1fb96c1acc",
   "metadata": {
    "tags": []
   },
   "outputs": [
    {
     "name": "stderr",
     "output_type": "stream",
     "text": [
      " 34%|███████████████████████████████████████████████████████████████████▉                                                                                                                                   | 44/129 [00:00<00:00, 416.85it/s]"
     ]
    },
    {
     "name": "stdout",
     "output_type": "stream",
     "text": [
      "Inter_observer_lacunes.xlsx does not appear to be a folder\n",
      "called for LBC360375_4_T2W_reg_T2W_BET_brain.nii\n",
      "/home/s2208943/ipdis/data/InterRater_data/LBC360375/LBC360375_4_T2W_reg_T2W_BET_brain.nii /home/s2208943/ipdis/data/InterRater_data/LBC360375/LBC360375_4_T2W_reg_T2W_BET_brain.nii.gz\n"
     ]
    },
    {
     "name": "stderr",
     "output_type": "stream",
     "text": [
      "gzip: /home/s2208943/ipdis/data/InterRater_data/LBC360375/LBC360375_4_T2W_reg_T2W_BET_brain.nii.gz already has .gz suffix -- unchanged\n"
     ]
    },
    {
     "name": "stdout",
     "output_type": "stream",
     "text": [
      "called for LBC360375_4_FLAIR_reg_T2W_BET_brain.nii\n",
      "/home/s2208943/ipdis/data/InterRater_data/LBC360375/LBC360375_4_FLAIR_reg_T2W_BET_brain.nii /home/s2208943/ipdis/data/InterRater_data/LBC360375/LBC360375_4_FLAIR_reg_T2W_BET_brain.nii.gz\n"
     ]
    },
    {
     "name": "stderr",
     "output_type": "stream",
     "text": [
      "gzip: /home/s2208943/ipdis/data/InterRater_data/LBC360375/LBC360375_4_FLAIR_reg_T2W_BET_brain.nii.gz already has .gz suffix -- unchanged\n"
     ]
    },
    {
     "name": "stdout",
     "output_type": "stream",
     "text": [
      "called for LBC360375_4_T1W_reg_T2W_BET_brain.nii\n",
      "/home/s2208943/ipdis/data/InterRater_data/LBC360375/LBC360375_4_T1W_reg_T2W_BET_brain.nii /home/s2208943/ipdis/data/InterRater_data/LBC360375/LBC360375_4_T1W_reg_T2W_BET_brain.nii.gz\n"
     ]
    },
    {
     "name": "stderr",
     "output_type": "stream",
     "text": [
      "gzip: /home/s2208943/ipdis/data/InterRater_data/LBC360375/LBC360375_4_T1W_reg_T2W_BET_brain.nii.gz already has .gz suffix -- unchanged\n"
     ]
    },
    {
     "name": "stdout",
     "output_type": "stream",
     "text": [
      "called for LBC360330_4_FLAIR_reg_T2W_BET_brain.nii\n",
      "/home/s2208943/ipdis/data/InterRater_data/LBC360330/LBC360330_4_FLAIR_reg_T2W_BET_brain.nii /home/s2208943/ipdis/data/InterRater_data/LBC360330/LBC360330_4_FLAIR_reg_T2W_BET_brain.nii.gz\n"
     ]
    },
    {
     "name": "stderr",
     "output_type": "stream",
     "text": [
      "gzip: /home/s2208943/ipdis/data/InterRater_data/LBC360330/LBC360330_4_FLAIR_reg_T2W_BET_brain.nii.gz already has .gz suffix -- unchanged\n"
     ]
    },
    {
     "name": "stdout",
     "output_type": "stream",
     "text": [
      "called for LBC360330_4_T1W_reg_T2W_BET_brain.nii\n",
      "/home/s2208943/ipdis/data/InterRater_data/LBC360330/LBC360330_4_T1W_reg_T2W_BET_brain.nii /home/s2208943/ipdis/data/InterRater_data/LBC360330/LBC360330_4_T1W_reg_T2W_BET_brain.nii.gz\n"
     ]
    },
    {
     "name": "stderr",
     "output_type": "stream",
     "text": [
      "gzip: /home/s2208943/ipdis/data/InterRater_data/LBC360330/LBC360330_4_T1W_reg_T2W_BET_brain.nii.gz already has .gz suffix -- unchanged\n"
     ]
    },
    {
     "name": "stdout",
     "output_type": "stream",
     "text": [
      "called for LBC360330_4_T2W_reg_T2W_BET_brain.nii\n",
      "/home/s2208943/ipdis/data/InterRater_data/LBC360330/LBC360330_4_T2W_reg_T2W_BET_brain.nii /home/s2208943/ipdis/data/InterRater_data/LBC360330/LBC360330_4_T2W_reg_T2W_BET_brain.nii.gz\n"
     ]
    },
    {
     "name": "stderr",
     "output_type": "stream",
     "text": [
      "gzip: /home/s2208943/ipdis/data/InterRater_data/LBC360330/LBC360330_4_T2W_reg_T2W_BET_brain.nii.gz already has .gz suffix -- unchanged\n"
     ]
    },
    {
     "name": "stdout",
     "output_type": "stream",
     "text": [
      "called for LBC360251_4_T2W_reg_T2W_BET_brain.nii\n",
      "/home/s2208943/ipdis/data/InterRater_data/LBC360251/LBC360251_4_T2W_reg_T2W_BET_brain.nii /home/s2208943/ipdis/data/InterRater_data/LBC360251/LBC360251_4_T2W_reg_T2W_BET_brain.nii.gz\n"
     ]
    },
    {
     "name": "stderr",
     "output_type": "stream",
     "text": [
      "gzip: /home/s2208943/ipdis/data/InterRater_data/LBC360251/LBC360251_4_T2W_reg_T2W_BET_brain.nii.gz already has .gz suffix -- unchanged\n"
     ]
    },
    {
     "name": "stdout",
     "output_type": "stream",
     "text": [
      "called for LBC360251_4_T1W_reg_T2W_BET_brain.nii\n",
      "/home/s2208943/ipdis/data/InterRater_data/LBC360251/LBC360251_4_T1W_reg_T2W_BET_brain.nii /home/s2208943/ipdis/data/InterRater_data/LBC360251/LBC360251_4_T1W_reg_T2W_BET_brain.nii.gz\n"
     ]
    },
    {
     "name": "stderr",
     "output_type": "stream",
     "text": [
      "gzip: /home/s2208943/ipdis/data/InterRater_data/LBC360251/LBC360251_4_T1W_reg_T2W_BET_brain.nii.gz already has .gz suffix -- unchanged\n"
     ]
    },
    {
     "name": "stdout",
     "output_type": "stream",
     "text": [
      "called for LBC360251_4_FLAIR_reg_T2W_BET_brain.nii\n",
      "/home/s2208943/ipdis/data/InterRater_data/LBC360251/LBC360251_4_FLAIR_reg_T2W_BET_brain.nii /home/s2208943/ipdis/data/InterRater_data/LBC360251/LBC360251_4_FLAIR_reg_T2W_BET_brain.nii.gz\n"
     ]
    },
    {
     "name": "stderr",
     "output_type": "stream",
     "text": [
      "gzip: /home/s2208943/ipdis/data/InterRater_data/LBC360251/LBC360251_4_FLAIR_reg_T2W_BET_brain.nii.gz already has .gz suffix -- unchanged\n"
     ]
    },
    {
     "name": "stdout",
     "output_type": "stream",
     "text": [
      "called for LBC360406_4_FLAIR_reg_T2W_BET_brain.nii\n",
      "/home/s2208943/ipdis/data/InterRater_data/LBC360406/LBC360406_4_FLAIR_reg_T2W_BET_brain.nii /home/s2208943/ipdis/data/InterRater_data/LBC360406/LBC360406_4_FLAIR_reg_T2W_BET_brain.nii.gz\n"
     ]
    },
    {
     "name": "stderr",
     "output_type": "stream",
     "text": [
      "gzip: /home/s2208943/ipdis/data/InterRater_data/LBC360406/LBC360406_4_FLAIR_reg_T2W_BET_brain.nii.gz already has .gz suffix -- unchanged\n"
     ]
    },
    {
     "name": "stdout",
     "output_type": "stream",
     "text": [
      "called for LBC360406_4_T1W_reg_T2W_BET_brain.nii\n",
      "/home/s2208943/ipdis/data/InterRater_data/LBC360406/LBC360406_4_T1W_reg_T2W_BET_brain.nii /home/s2208943/ipdis/data/InterRater_data/LBC360406/LBC360406_4_T1W_reg_T2W_BET_brain.nii.gz\n"
     ]
    },
    {
     "name": "stderr",
     "output_type": "stream",
     "text": [
      "gzip: /home/s2208943/ipdis/data/InterRater_data/LBC360406/LBC360406_4_T1W_reg_T2W_BET_brain.nii.gz already has .gz suffix -- unchanged\n"
     ]
    },
    {
     "name": "stdout",
     "output_type": "stream",
     "text": [
      "called for LBC360406_4_T2W_reg_T2W_BET_brain.nii\n",
      "/home/s2208943/ipdis/data/InterRater_data/LBC360406/LBC360406_4_T2W_reg_T2W_BET_brain.nii /home/s2208943/ipdis/data/InterRater_data/LBC360406/LBC360406_4_T2W_reg_T2W_BET_brain.nii.gz\n"
     ]
    },
    {
     "name": "stderr",
     "output_type": "stream",
     "text": [
      "gzip: /home/s2208943/ipdis/data/InterRater_data/LBC360406/LBC360406_4_T2W_reg_T2W_BET_brain.nii.gz already has .gz suffix -- unchanged\n",
      " 67%|█████████████████████████████████████████████████████████████████████████████████████████████████████████████████████████████████████▎                                                                  | 86/129 [00:07<00:04,  9.69it/s]"
     ]
    },
    {
     "name": "stdout",
     "output_type": "stream",
     "text": [
      "called for LBC360109_4_T1W_reg_T2W_BET_brain.nii\n",
      "/home/s2208943/ipdis/data/InterRater_data/LBC360109/LBC360109_4_T1W_reg_T2W_BET_brain.nii /home/s2208943/ipdis/data/InterRater_data/LBC360109/LBC360109_4_T1W_reg_T2W_BET_brain.nii.gz\n"
     ]
    },
    {
     "name": "stderr",
     "output_type": "stream",
     "text": [
      "gzip: /home/s2208943/ipdis/data/InterRater_data/LBC360109/LBC360109_4_T1W_reg_T2W_BET_brain.nii.gz already has .gz suffix -- unchanged\n"
     ]
    },
    {
     "name": "stdout",
     "output_type": "stream",
     "text": [
      "called for LBC360109_4_T2W_reg_T2W_BET_brain.nii\n",
      "/home/s2208943/ipdis/data/InterRater_data/LBC360109/LBC360109_4_T2W_reg_T2W_BET_brain.nii /home/s2208943/ipdis/data/InterRater_data/LBC360109/LBC360109_4_T2W_reg_T2W_BET_brain.nii.gz\n"
     ]
    },
    {
     "name": "stderr",
     "output_type": "stream",
     "text": [
      "gzip: /home/s2208943/ipdis/data/InterRater_data/LBC360109/LBC360109_4_T2W_reg_T2W_BET_brain.nii.gz already has .gz suffix -- unchanged\n"
     ]
    },
    {
     "name": "stdout",
     "output_type": "stream",
     "text": [
      "called for LBC360109_4_FLAIR_reg_T2W_BET_brain.nii\n",
      "/home/s2208943/ipdis/data/InterRater_data/LBC360109/LBC360109_4_FLAIR_reg_T2W_BET_brain.nii /home/s2208943/ipdis/data/InterRater_data/LBC360109/LBC360109_4_FLAIR_reg_T2W_BET_brain.nii.gz\n"
     ]
    },
    {
     "name": "stderr",
     "output_type": "stream",
     "text": [
      "gzip: /home/s2208943/ipdis/data/InterRater_data/LBC360109/LBC360109_4_FLAIR_reg_T2W_BET_brain.nii.gz already has .gz suffix -- unchanged\n"
     ]
    },
    {
     "name": "stdout",
     "output_type": "stream",
     "text": [
      "called for LBC360097_4_T2W_reg_T2W_BET_brain.nii\n",
      "/home/s2208943/ipdis/data/InterRater_data/LBC360097/LBC360097_4_T2W_reg_T2W_BET_brain.nii /home/s2208943/ipdis/data/InterRater_data/LBC360097/LBC360097_4_T2W_reg_T2W_BET_brain.nii.gz\n"
     ]
    },
    {
     "name": "stderr",
     "output_type": "stream",
     "text": [
      "gzip: /home/s2208943/ipdis/data/InterRater_data/LBC360097/LBC360097_4_T2W_reg_T2W_BET_brain.nii.gz already has .gz suffix -- unchanged\n"
     ]
    },
    {
     "name": "stdout",
     "output_type": "stream",
     "text": [
      "called for LBC360097_4_T1W_reg_T2W_BET_brain.nii\n",
      "/home/s2208943/ipdis/data/InterRater_data/LBC360097/LBC360097_4_T1W_reg_T2W_BET_brain.nii /home/s2208943/ipdis/data/InterRater_data/LBC360097/LBC360097_4_T1W_reg_T2W_BET_brain.nii.gz\n"
     ]
    },
    {
     "name": "stderr",
     "output_type": "stream",
     "text": [
      "gzip: /home/s2208943/ipdis/data/InterRater_data/LBC360097/LBC360097_4_T1W_reg_T2W_BET_brain.nii.gz already has .gz suffix -- unchanged\n"
     ]
    },
    {
     "name": "stdout",
     "output_type": "stream",
     "text": [
      "called for LBC360097_4_FLAIR_reg_T2W_BET_brain.nii\n",
      "/home/s2208943/ipdis/data/InterRater_data/LBC360097/LBC360097_4_FLAIR_reg_T2W_BET_brain.nii /home/s2208943/ipdis/data/InterRater_data/LBC360097/LBC360097_4_FLAIR_reg_T2W_BET_brain.nii.gz\n"
     ]
    },
    {
     "name": "stderr",
     "output_type": "stream",
     "text": [
      "gzip: /home/s2208943/ipdis/data/InterRater_data/LBC360097/LBC360097_4_FLAIR_reg_T2W_BET_brain.nii.gz already has .gz suffix -- unchanged\n"
     ]
    },
    {
     "name": "stdout",
     "output_type": "stream",
     "text": [
      "called for LBC360058_4_FLAIR_reg_T2W_BET_brain.nii\n",
      "/home/s2208943/ipdis/data/InterRater_data/LBC360058/LBC360058_4_FLAIR_reg_T2W_BET_brain.nii /home/s2208943/ipdis/data/InterRater_data/LBC360058/LBC360058_4_FLAIR_reg_T2W_BET_brain.nii.gz\n"
     ]
    },
    {
     "name": "stderr",
     "output_type": "stream",
     "text": [
      "gzip: /home/s2208943/ipdis/data/InterRater_data/LBC360058/LBC360058_4_FLAIR_reg_T2W_BET_brain.nii.gz already has .gz suffix -- unchanged\n"
     ]
    },
    {
     "name": "stdout",
     "output_type": "stream",
     "text": [
      "called for LBC360058_4_T1W_reg_T2W_BET_brain.nii\n",
      "/home/s2208943/ipdis/data/InterRater_data/LBC360058/LBC360058_4_T1W_reg_T2W_BET_brain.nii /home/s2208943/ipdis/data/InterRater_data/LBC360058/LBC360058_4_T1W_reg_T2W_BET_brain.nii.gz\n"
     ]
    },
    {
     "name": "stderr",
     "output_type": "stream",
     "text": [
      "gzip: /home/s2208943/ipdis/data/InterRater_data/LBC360058/LBC360058_4_T1W_reg_T2W_BET_brain.nii.gz already has .gz suffix -- unchanged\n"
     ]
    },
    {
     "name": "stdout",
     "output_type": "stream",
     "text": [
      "called for LBC360058_4_T2W_reg_T2W_BET_brain.nii\n",
      "/home/s2208943/ipdis/data/InterRater_data/LBC360058/LBC360058_4_T2W_reg_T2W_BET_brain.nii /home/s2208943/ipdis/data/InterRater_data/LBC360058/LBC360058_4_T2W_reg_T2W_BET_brain.nii.gz\n"
     ]
    },
    {
     "name": "stderr",
     "output_type": "stream",
     "text": [
      "gzip: /home/s2208943/ipdis/data/InterRater_data/LBC360058/LBC360058_4_T2W_reg_T2W_BET_brain.nii.gz already has .gz suffix -- unchanged\n"
     ]
    },
    {
     "name": "stdout",
     "output_type": "stream",
     "text": [
      "called for LBC360025_4_T1W_reg_T2W_BET_brain.nii\n",
      "/home/s2208943/ipdis/data/InterRater_data/LBC360025/LBC360025_4_T1W_reg_T2W_BET_brain.nii /home/s2208943/ipdis/data/InterRater_data/LBC360025/LBC360025_4_T1W_reg_T2W_BET_brain.nii.gz\n"
     ]
    },
    {
     "name": "stderr",
     "output_type": "stream",
     "text": [
      "gzip: /home/s2208943/ipdis/data/InterRater_data/LBC360025/LBC360025_4_T1W_reg_T2W_BET_brain.nii.gz already has .gz suffix -- unchanged\n"
     ]
    },
    {
     "name": "stdout",
     "output_type": "stream",
     "text": [
      "called for LBC360025_4_T2W_reg_T2W_BET_brain.nii\n",
      "/home/s2208943/ipdis/data/InterRater_data/LBC360025/LBC360025_4_T2W_reg_T2W_BET_brain.nii /home/s2208943/ipdis/data/InterRater_data/LBC360025/LBC360025_4_T2W_reg_T2W_BET_brain.nii.gz\n"
     ]
    },
    {
     "name": "stderr",
     "output_type": "stream",
     "text": [
      "gzip: /home/s2208943/ipdis/data/InterRater_data/LBC360025/LBC360025_4_T2W_reg_T2W_BET_brain.nii.gz already has .gz suffix -- unchanged\n"
     ]
    },
    {
     "name": "stdout",
     "output_type": "stream",
     "text": [
      "called for LBC360025_4_WMH_kjf.nii\n",
      "/home/s2208943/ipdis/data/InterRater_data/LBC360025/LBC360025_4_WMH_kjf.nii /home/s2208943/ipdis/data/InterRater_data/LBC360025/LBC360025_4_WMH_kjf.nii.gz\n"
     ]
    },
    {
     "name": "stderr",
     "output_type": "stream",
     "text": [
      "gzip: /home/s2208943/ipdis/data/InterRater_data/LBC360025/LBC360025_4_WMH_kjf.nii.gz already has .gz suffix -- unchanged\n"
     ]
    },
    {
     "name": "stdout",
     "output_type": "stream",
     "text": [
      "called for LBC360025_4_FLAIR_reg_T2W_BET_brain.nii\n",
      "/home/s2208943/ipdis/data/InterRater_data/LBC360025/LBC360025_4_FLAIR_reg_T2W_BET_brain.nii /home/s2208943/ipdis/data/InterRater_data/LBC360025/LBC360025_4_FLAIR_reg_T2W_BET_brain.nii.gz\n"
     ]
    },
    {
     "name": "stderr",
     "output_type": "stream",
     "text": [
      "gzip: /home/s2208943/ipdis/data/InterRater_data/LBC360025/LBC360025_4_FLAIR_reg_T2W_BET_brain.nii.gz already has .gz suffix -- unchanged\n"
     ]
    },
    {
     "name": "stdout",
     "output_type": "stream",
     "text": [
      "called for LBC1921_21138_lacune.nii\n",
      "/home/s2208943/ipdis/data/InterRater_data/LBC1921_21138/LBC1921_21138_lacune.nii /home/s2208943/ipdis/data/InterRater_data/LBC1921_21138/LBC1921_21138_lacune.nii.gz\n",
      "called for LBC360151_4_FLAIR_reg_T2W_BET_brain.nii\n",
      "/home/s2208943/ipdis/data/InterRater_data/LBC360151/LBC360151_4_FLAIR_reg_T2W_BET_brain.nii /home/s2208943/ipdis/data/InterRater_data/LBC360151/LBC360151_4_FLAIR_reg_T2W_BET_brain.nii.gz\n"
     ]
    },
    {
     "name": "stderr",
     "output_type": "stream",
     "text": [
      "gzip: /home/s2208943/ipdis/data/InterRater_data/LBC1921_21138/LBC1921_21138_lacune.nii.gz already has .gz suffix -- unchanged\n",
      "gzip: /home/s2208943/ipdis/data/InterRater_data/LBC360151/LBC360151_4_FLAIR_reg_T2W_BET_brain.nii.gz already has .gz suffix -- unchanged\n"
     ]
    },
    {
     "name": "stdout",
     "output_type": "stream",
     "text": [
      "called for LBC360151_4_T2W_reg_T2W_BET_brain.nii\n",
      "/home/s2208943/ipdis/data/InterRater_data/LBC360151/LBC360151_4_T2W_reg_T2W_BET_brain.nii /home/s2208943/ipdis/data/InterRater_data/LBC360151/LBC360151_4_T2W_reg_T2W_BET_brain.nii.gz\n"
     ]
    },
    {
     "name": "stderr",
     "output_type": "stream",
     "text": [
      "gzip: /home/s2208943/ipdis/data/InterRater_data/LBC360151/LBC360151_4_T2W_reg_T2W_BET_brain.nii.gz already has .gz suffix -- unchanged\n"
     ]
    },
    {
     "name": "stdout",
     "output_type": "stream",
     "text": [
      "called for LBC360151_4_T1W_reg_T2W_BET_brain.nii\n",
      "/home/s2208943/ipdis/data/InterRater_data/LBC360151/LBC360151_4_T1W_reg_T2W_BET_brain.nii /home/s2208943/ipdis/data/InterRater_data/LBC360151/LBC360151_4_T1W_reg_T2W_BET_brain.nii.gz\n"
     ]
    },
    {
     "name": "stderr",
     "output_type": "stream",
     "text": [
      "gzip: /home/s2208943/ipdis/data/InterRater_data/LBC360151/LBC360151_4_T1W_reg_T2W_BET_brain.nii.gz already has .gz suffix -- unchanged\n",
      " 81%|████████████████████████████████████████████████████████████████████████████████████████████████████████████████████████████████████████████████████████████████▍                                      | 104/129 [00:16<00:05,  4.83it/s]"
     ]
    },
    {
     "name": "stdout",
     "output_type": "stream",
     "text": [
      "called for LBC360138_4_T2W_reg_T2W_BET_brain.nii\n",
      "/home/s2208943/ipdis/data/InterRater_data/LBC360138/LBC360138_4_T2W_reg_T2W_BET_brain.nii /home/s2208943/ipdis/data/InterRater_data/LBC360138/LBC360138_4_T2W_reg_T2W_BET_brain.nii.gz\n"
     ]
    },
    {
     "name": "stderr",
     "output_type": "stream",
     "text": [
      "gzip: /home/s2208943/ipdis/data/InterRater_data/LBC360138/LBC360138_4_T2W_reg_T2W_BET_brain.nii.gz already has .gz suffix -- unchanged\n"
     ]
    },
    {
     "name": "stdout",
     "output_type": "stream",
     "text": [
      "called for LBC360138_4_FLAIR_reg_T2W_BET_brain.nii\n",
      "/home/s2208943/ipdis/data/InterRater_data/LBC360138/LBC360138_4_FLAIR_reg_T2W_BET_brain.nii /home/s2208943/ipdis/data/InterRater_data/LBC360138/LBC360138_4_FLAIR_reg_T2W_BET_brain.nii.gz\n"
     ]
    },
    {
     "name": "stderr",
     "output_type": "stream",
     "text": [
      "gzip: /home/s2208943/ipdis/data/InterRater_data/LBC360138/LBC360138_4_FLAIR_reg_T2W_BET_brain.nii.gz already has .gz suffix -- unchanged\n"
     ]
    },
    {
     "name": "stdout",
     "output_type": "stream",
     "text": [
      "called for LBC360138_4_T1W_reg_T2W_BET_brain.nii\n",
      "/home/s2208943/ipdis/data/InterRater_data/LBC360138/LBC360138_4_T1W_reg_T2W_BET_brain.nii /home/s2208943/ipdis/data/InterRater_data/LBC360138/LBC360138_4_T1W_reg_T2W_BET_brain.nii.gz\n"
     ]
    },
    {
     "name": "stderr",
     "output_type": "stream",
     "text": [
      "gzip: /home/s2208943/ipdis/data/InterRater_data/LBC360138/LBC360138_4_T1W_reg_T2W_BET_brain.nii.gz already has .gz suffix -- unchanged\n",
      " 88%|███████████████████████████████████████████████████████████████████████████████████████████████████████████████████████████████████████████████████████████████████████████████▊                       | 114/129 [00:18<00:02,  5.07it/s]"
     ]
    },
    {
     "name": "stdout",
     "output_type": "stream",
     "text": [
      "called for LBC360199_4_T1W_reg_T2W_BET_brain.nii\n",
      "/home/s2208943/ipdis/data/InterRater_data/LBC360199/LBC360199_4_T1W_reg_T2W_BET_brain.nii /home/s2208943/ipdis/data/InterRater_data/LBC360199/LBC360199_4_T1W_reg_T2W_BET_brain.nii.gz\n"
     ]
    },
    {
     "name": "stderr",
     "output_type": "stream",
     "text": [
      "gzip: /home/s2208943/ipdis/data/InterRater_data/LBC360199/LBC360199_4_T1W_reg_T2W_BET_brain.nii.gz already has .gz suffix -- unchanged\n"
     ]
    },
    {
     "name": "stdout",
     "output_type": "stream",
     "text": [
      "called for LBC360199_4_T2W_reg_T2W_BET_brain.nii\n",
      "/home/s2208943/ipdis/data/InterRater_data/LBC360199/LBC360199_4_T2W_reg_T2W_BET_brain.nii /home/s2208943/ipdis/data/InterRater_data/LBC360199/LBC360199_4_T2W_reg_T2W_BET_brain.nii.gz\n"
     ]
    },
    {
     "name": "stderr",
     "output_type": "stream",
     "text": [
      "gzip: /home/s2208943/ipdis/data/InterRater_data/LBC360199/LBC360199_4_T2W_reg_T2W_BET_brain.nii.gz already has .gz suffix -- unchanged\n"
     ]
    },
    {
     "name": "stdout",
     "output_type": "stream",
     "text": [
      "called for LBC360199_4_FLAIR_reg_T2W_BET_brain.nii\n",
      "/home/s2208943/ipdis/data/InterRater_data/LBC360199/LBC360199_4_FLAIR_reg_T2W_BET_brain.nii /home/s2208943/ipdis/data/InterRater_data/LBC360199/LBC360199_4_FLAIR_reg_T2W_BET_brain.nii.gz\n"
     ]
    },
    {
     "name": "stderr",
     "output_type": "stream",
     "text": [
      "gzip: /home/s2208943/ipdis/data/InterRater_data/LBC360199/LBC360199_4_FLAIR_reg_T2W_BET_brain.nii.gz already has .gz suffix -- unchanged\n",
      "100%|███████████████████████████████████████████████████████████████████████████████████████████████████████████████████████████████████████████████████████████████████████████████████████████████████████| 129/129 [00:19<00:00,  6.50it/s]\n"
     ]
    }
   ],
   "source": [
    "for d in tqdm(folders):\n",
    "    try:\n",
    "        files = os.listdir(os.path.join(path, d))\n",
    "    except:\n",
    "        print(f\"{d} does not appear to be a folder\")\n",
    "        continue\n",
    "    for f in files:\n",
    "        if \".nii\" in f and \".gz\" not in f:\n",
    "            print(f\"called for {f}\")\n",
    "            print(os.path.join(path, d, f),\n",
    "                os.path.join(path, d, f + \".gz\"))\n",
    "            os.system(\n",
    "                f\"gzip {os.path.join(path, d, f)} {os.path.join(path, d, f)}.gz\"\n",
    "            )"
   ]
  },
  {
   "cell_type": "code",
   "execution_count": null,
   "id": "498dd3f6-44d2-4623-9960-2e4cd79ec770",
   "metadata": {},
   "outputs": [],
   "source": []
  },
  {
   "cell_type": "code",
   "execution_count": null,
   "id": "e84a5c25-628e-4372-aca1-1c5847ce469f",
   "metadata": {},
   "outputs": [],
   "source": [
    "bet_command = [os.path.join(*[FSLDIR,'bin', 'bet']), next_file + FORMAT, out_file, \"-m\", \"-S\"]\n",
    "                    \n",
    "                    _ = subprocess.call(bet_command)"
   ]
  }
 ],
 "metadata": {
  "kernelspec": {
   "display_name": "Python 3 (ipykernel)",
   "language": "python",
   "name": "python3"
  },
  "language_info": {
   "codemirror_mode": {
    "name": "ipython",
    "version": 3
   },
   "file_extension": ".py",
   "mimetype": "text/x-python",
   "name": "python",
   "nbconvert_exporter": "python",
   "pygments_lexer": "ipython3",
   "version": "3.10.14"
  }
 },
 "nbformat": 4,
 "nbformat_minor": 5
}
