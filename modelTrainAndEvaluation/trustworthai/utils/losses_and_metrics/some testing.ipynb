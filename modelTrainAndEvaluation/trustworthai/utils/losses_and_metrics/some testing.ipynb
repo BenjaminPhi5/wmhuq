{
 "cells": [
  {
   "cell_type": "markdown",
   "id": "b3da8de1-a54d-463a-81d8-b9eb13886212",
   "metadata": {},
   "source": [
    "# some testing"
   ]
  },
  {
   "cell_type": "code",
   "execution_count": 1,
   "id": "187d8f8c-e302-459e-874c-adfccec326e2",
   "metadata": {},
   "outputs": [],
   "source": [
    "import torch"
   ]
  },
  {
   "cell_type": "code",
   "execution_count": 2,
   "id": "69ed8652-a913-49f9-b088-95fe719688ec",
   "metadata": {},
   "outputs": [],
   "source": [
    "def get_one_hot_target(K, target):\n",
    "    one_hot = torch.zeros((target.shape[0], K, *target.shape[1:])).to(target.device)\n",
    "    one_hot[:,0] = 1 - target\n",
    "    one_hot[:,1] = target\n",
    "    \n",
    "    return one_hot"
   ]
  },
  {
   "cell_type": "code",
   "execution_count": 3,
   "id": "a78ea895-70fd-478b-9eef-f137fac20880",
   "metadata": {},
   "outputs": [],
   "source": [
    "a = torch.randn(12, 5) > 0.5"
   ]
  },
  {
   "cell_type": "code",
   "execution_count": 5,
   "id": "9d38cdc0-ab1f-4f93-825f-bd79c1c9e1e3",
   "metadata": {},
   "outputs": [],
   "source": [
    "a = a.type(torch.float32)"
   ]
  },
  {
   "cell_type": "code",
   "execution_count": 7,
   "id": "a8cdd717-fe3f-4774-98e3-5da9a7bf8e4e",
   "metadata": {},
   "outputs": [
    {
     "data": {
      "text/plain": [
       "tensor([[0., 1., 0., 0., 0.],\n",
       "        [0., 0., 1., 0., 0.],\n",
       "        [0., 1., 0., 0., 0.],\n",
       "        [0., 1., 1., 1., 1.],\n",
       "        [0., 1., 1., 0., 1.],\n",
       "        [1., 0., 1., 0., 0.],\n",
       "        [1., 1., 0., 0., 1.],\n",
       "        [0., 0., 0., 1., 0.],\n",
       "        [0., 1., 0., 0., 0.],\n",
       "        [1., 0., 1., 1., 1.],\n",
       "        [1., 1., 0., 0., 1.],\n",
       "        [0., 0., 0., 1., 1.]])"
      ]
     },
     "execution_count": 7,
     "metadata": {},
     "output_type": "execute_result"
    }
   ],
   "source": [
    "a"
   ]
  },
  {
   "cell_type": "code",
   "execution_count": 8,
   "id": "bb840359-0dde-4b97-8548-ce194bacd52c",
   "metadata": {},
   "outputs": [
    {
     "data": {
      "text/plain": [
       "tensor([[[1., 0., 1., 1., 1.],\n",
       "         [0., 1., 0., 0., 0.]],\n",
       "\n",
       "        [[1., 1., 0., 1., 1.],\n",
       "         [0., 0., 1., 0., 0.]],\n",
       "\n",
       "        [[1., 0., 1., 1., 1.],\n",
       "         [0., 1., 0., 0., 0.]],\n",
       "\n",
       "        [[1., 0., 0., 0., 0.],\n",
       "         [0., 1., 1., 1., 1.]],\n",
       "\n",
       "        [[1., 0., 0., 1., 0.],\n",
       "         [0., 1., 1., 0., 1.]],\n",
       "\n",
       "        [[0., 1., 0., 1., 1.],\n",
       "         [1., 0., 1., 0., 0.]],\n",
       "\n",
       "        [[0., 0., 1., 1., 0.],\n",
       "         [1., 1., 0., 0., 1.]],\n",
       "\n",
       "        [[1., 1., 1., 0., 1.],\n",
       "         [0., 0., 0., 1., 0.]],\n",
       "\n",
       "        [[1., 0., 1., 1., 1.],\n",
       "         [0., 1., 0., 0., 0.]],\n",
       "\n",
       "        [[0., 1., 0., 0., 0.],\n",
       "         [1., 0., 1., 1., 1.]],\n",
       "\n",
       "        [[0., 0., 1., 1., 0.],\n",
       "         [1., 1., 0., 0., 1.]],\n",
       "\n",
       "        [[1., 1., 1., 0., 0.],\n",
       "         [0., 0., 0., 1., 1.]]])"
      ]
     },
     "execution_count": 8,
     "metadata": {},
     "output_type": "execute_result"
    }
   ],
   "source": [
    "get_one_hot_target(2, a)"
   ]
  },
  {
   "cell_type": "code",
   "execution_count": 11,
   "id": "293919c6-b0ad-46a1-bfb0-aa0f5b719b07",
   "metadata": {},
   "outputs": [],
   "source": [
    "def relu_evidence(logits):\n",
    "    return torch.nn.functional.relu(logits)\n",
    "\n",
    "def exp_evidence(logits):\n",
    "    return logits.clamp(-10, 10).exp()\n",
    "\n",
    "def softplus_evidence(logits):\n",
    "    return torch.nn.functional.softplus(logits)\n",
    "\n",
    "\n",
    "def get_S(alpha):\n",
    "    # evidence is shape [b, c, <dims>], we want an S per pixel, so reduce on dim 1\n",
    "    S = alpha.sum(dim = 1).unsqueeze(1)\n",
    "    return S\n",
    "\n",
    "def get_bk(evidence, S):\n",
    "    return evidence / S\n",
    "\n",
    "def get_uncert(K, S):\n",
    "    return K / S\n",
    "\n",
    "def get_alpha(evidence):\n",
    "    return (evidence + 1.)**2\n",
    "\n",
    "def get_one_hot_target(K, target):\n",
    "    one_hot = torch.zeros((target.shape[0], K, *target.shape[1:])).to(target.device)\n",
    "    one_hot[:,0] = 1 - target\n",
    "    one_hot[:,1] = target\n",
    "    \n",
    "    return one_hot\n",
    "\n",
    "def get_mean_p_hat(alpha, S):\n",
    "    return alpha / S\n",
    "\n",
    "######\n",
    "def digamma(values):\n",
    "    return torch.digamma(values).clamp(-100,100)\n",
    "\n",
    "def get_alpha_modified(alpha, one_hot_target):\n",
    "    return one_hot_target + ((1 - one_hot_target) * alpha)"
   ]
  },
  {
   "cell_type": "code",
   "execution_count": 95,
   "id": "2efc6bb3-e50b-498e-be88-64ed7ba37c54",
   "metadata": {},
   "outputs": [],
   "source": [
    "def dice_bayes_risk(K, alpha, one_hot_target, S, empty_slice_weight):\n",
    "    bs = alpha.shape[0]\n",
    "    alpha = alpha.view(bs, K, -1)\n",
    "    one_hot_target = one_hot_target.view(bs, K, -1)\n",
    "    S = S.view(bs, 1, -1)\n",
    "    #print(one_hot_target.shape, alpha.shape, S.shape)\n",
    "    numerator = torch.sum(one_hot_target * alpha / S, dim=2)\n",
    "    denominator = torch.sum(one_hot_target ** 2 + (alpha/S)**2 + (alpha*(S-alpha)/((S**2)*(S+1))), dim=2)\n",
    "    \n",
    "    if empty_slice_weight == 1:\n",
    "        dice = 1 - (2/K) * ((numerator/denominator).sum(dim=1))\n",
    "        #print(dice.shape)\n",
    "        return dice.mean()\n",
    "    \n",
    "    else:\n",
    "        # finding the empties\n",
    "        locs = torch.sum(one_hot_target[:,1], dim=1) == 0\n",
    "        #print(torch.sum(one_hot_target[:,1], dim=(-2, -1)), locs)\n",
    "        wheres = torch.where(locs)[0]\n",
    "        combined = (numerator/denominator)\n",
    "        combined[wheres] *= empty_slice_weight\n",
    "        #print(wheres)\n",
    "        ratio = ((one_hot_target.shape[0] - wheres.shape[0]) + (wheres.shape[0] * empty_slice_weight))\n",
    "        print(ratio)\n",
    "        \n",
    "        dice_frac = (2/K) * combined.sum(dim=1)\n",
    "\n",
    "        return  (1 - dice_frac.sum()/ratio)"
   ]
  },
  {
   "cell_type": "code",
   "execution_count": 106,
   "id": "61efc185-58e9-4f7e-9e9c-2a2464dcab07",
   "metadata": {},
   "outputs": [],
   "source": [
    "logits = torch.randn(12, 2, 225, 225)\n",
    "target = (torch.randn(12, 225, 225) > 0.5).type(torch.long)\n",
    "target[0] = 0\n",
    "\n",
    "evidence = softplus_evidence(logits)\n",
    "alpha = get_alpha(evidence)\n",
    "S = get_S(alpha)\n",
    "K = alpha.shape[1]\n",
    "one_hot = get_one_hot_target(K, target)\n",
    "mean_p_hat = get_mean_p_hat(alpha, S)\n",
    "alpha_modified = get_alpha_modified(alpha, one_hot)"
   ]
  },
  {
   "cell_type": "code",
   "execution_count": 107,
   "id": "f7e17ab8-34cf-42bc-8b3b-a2e025e8f44c",
   "metadata": {},
   "outputs": [
    {
     "data": {
      "text/plain": [
       "tensor(0.4392)"
      ]
     },
     "execution_count": 107,
     "metadata": {},
     "output_type": "execute_result"
    }
   ],
   "source": [
    "dice_bayes_risk(K, alpha, one_hot, S, empty_slice_weight=1)"
   ]
  },
  {
   "cell_type": "code",
   "execution_count": 112,
   "id": "8c079366-a758-474d-962a-203b44efcef2",
   "metadata": {},
   "outputs": [
    {
     "data": {
      "text/plain": [
       "tensor(0.4998)"
      ]
     },
     "execution_count": 112,
     "metadata": {},
     "output_type": "execute_result"
    }
   ],
   "source": [
    "((logits[:,1] > logits[:,0]) == target).type(torch.float32).mean()"
   ]
  },
  {
   "cell_type": "code",
   "execution_count": null,
   "id": "89573121-a4ec-4bce-a954-ed6760fd3845",
   "metadata": {},
   "outputs": [],
   "source": []
  }
 ],
 "metadata": {
  "kernelspec": {
   "display_name": "Python 3 (ipykernel)",
   "language": "python",
   "name": "python3"
  },
  "language_info": {
   "codemirror_mode": {
    "name": "ipython",
    "version": 3
   },
   "file_extension": ".py",
   "mimetype": "text/x-python",
   "name": "python",
   "nbconvert_exporter": "python",
   "pygments_lexer": "ipython3",
   "version": "3.10.8"
  }
 },
 "nbformat": 4,
 "nbformat_minor": 5
}
