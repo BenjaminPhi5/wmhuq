{
 "cells": [
  {
   "cell_type": "code",
   "execution_count": 1,
   "id": "dc16d4c5-3464-4b99-9039-f84134825aa6",
   "metadata": {
    "tags": []
   },
   "outputs": [
    {
     "name": "stdout",
     "output_type": "stream",
     "text": [
      "running on local machine!\n"
     ]
    }
   ],
   "source": [
    "import torch\n",
    "import numpy as np\n",
    "from trustworthai.utils.data_preprep.dataset_pipelines import load_data\n",
    "from trustworthai.utils.data_preprep.splits import cross_validate_split"
   ]
  },
  {
   "cell_type": "code",
   "execution_count": 2,
   "id": "fb9257e3-5649-49e6-84cb-296efc90b61f",
   "metadata": {
    "tags": []
   },
   "outputs": [],
   "source": [
    "trainds, _, _ = load_data(dataset=\"chal\", test_proportion=0.15, validation_proportion=0.15, seed=3407, empty_proportion_retained=0.1, batch_size=32, dataloader2d_only=False, dataset3d_only=True)"
   ]
  },
  {
   "cell_type": "code",
   "execution_count": 3,
   "id": "3df8c7ee-a7e9-4d04-bb81-212ec8b5ae9d",
   "metadata": {
    "tags": []
   },
   "outputs": [
    {
     "data": {
      "text/plain": [
       "42"
      ]
     },
     "execution_count": 3,
     "metadata": {},
     "output_type": "execute_result"
    }
   ],
   "source": [
    "len(trainds)"
   ]
  },
  {
   "cell_type": "code",
   "execution_count": 7,
   "id": "621c5082-8f74-4d6a-b41a-abcbaf2e78ad",
   "metadata": {
    "tags": []
   },
   "outputs": [],
   "source": [
    "train, val = cross_validate_split(trainds, val_prop = 0.1, seed=3407, split=8)"
   ]
  },
  {
   "cell_type": "code",
   "execution_count": 8,
   "id": "96e900ce-ece1-4a10-bd0e-58cd56520d4c",
   "metadata": {
    "tags": []
   },
   "outputs": [
    {
     "data": {
      "text/plain": [
       "array([ 0, 15, 30, 31, 26, 14,  6, 40, 12, 32,  4,  7, 41,  8, 38, 28, 29,\n",
       "        2, 37, 22, 20, 35, 13, 23, 27, 19, 21, 39,  5, 16, 34,  9, 33,  3,\n",
       "       11, 24,  1, 10])"
      ]
     },
     "execution_count": 8,
     "metadata": {},
     "output_type": "execute_result"
    }
   ],
   "source": [
    "train.new_indexes"
   ]
  },
  {
   "cell_type": "code",
   "execution_count": 9,
   "id": "9f51ac80-1e81-4b32-857a-511c61cde1e3",
   "metadata": {
    "tags": []
   },
   "outputs": [
    {
     "data": {
      "text/plain": [
       "array([17, 36, 18, 25])"
      ]
     },
     "execution_count": 9,
     "metadata": {},
     "output_type": "execute_result"
    }
   ],
   "source": [
    "val.new_indexes"
   ]
  },
  {
   "cell_type": "code",
   "execution_count": null,
   "id": "6ffb471c-cfc0-4bd0-b94a-0e7d7c9ef7ed",
   "metadata": {},
   "outputs": [],
   "source": []
  },
  {
   "cell_type": "code",
   "execution_count": null,
   "id": "78ec4b96-29eb-435d-85dc-38d224f121a0",
   "metadata": {},
   "outputs": [],
   "source": []
  },
  {
   "cell_type": "code",
   "execution_count": null,
   "id": "679a6e21-df0f-4110-b3f6-3678807206c6",
   "metadata": {},
   "outputs": [],
   "source": []
  },
  {
   "cell_type": "code",
   "execution_count": null,
   "id": "644f565f-e6c6-4897-b0dd-16014bf9044d",
   "metadata": {},
   "outputs": [],
   "source": []
  },
  {
   "cell_type": "code",
   "execution_count": 2,
   "id": "afb29e95-d823-4b9c-8d98-d000c9f459e5",
   "metadata": {},
   "outputs": [],
   "source": [
    "import numpy as np"
   ]
  },
  {
   "cell_type": "code",
   "execution_count": 20,
   "id": "53c6b6ad-49c9-429d-bf52-a4d9c7911ddb",
   "metadata": {
    "tags": []
   },
   "outputs": [],
   "source": [
    "b = np.arange(0, 100, 1)\n",
    "split = 5\n",
    "\n",
    "size = len(b)\n",
    "val_prop = 0.15\n",
    "val_size = int(val_prop*size)\n",
    "split_size = val_size\n",
    "\n",
    "#assert split <= (size // split_size) - 1\n",
    "assert split <= int(1/val_prop) - 1\n",
    "\n",
    "if split == 0:\n",
    "    b_train = b[split_size:]\n",
    "    b_val = b[:split_size]\n",
    "    \n",
    "elif split == (len(b) // split_size) - 1:\n",
    "#elif split == int(1/val_prop) - 1:\n",
    "    b_train = b[:split_size * split]\n",
    "    b_val = b[split_size * split:]\n",
    "    \n",
    "else:\n",
    "    b_train = np.concatenate([b[0:split_size * split], b[split_size * (split + 1): ]])\n",
    "    b_val = b[split_size * split : split_size * (split+1)]\n",
    "\n",
    "#b_train = np.concatenate([b[0:split_size * s - 1], b[split_size * s + 1: ]])"
   ]
  },
  {
   "cell_type": "code",
   "execution_count": 21,
   "id": "a624fd72-c9ae-4359-93c5-88039a48e75c",
   "metadata": {
    "tags": []
   },
   "outputs": [
    {
     "data": {
      "text/plain": [
       "array([75, 76, 77, 78, 79, 80, 81, 82, 83, 84, 85, 86, 87, 88, 89, 90, 91,\n",
       "       92, 93, 94, 95, 96, 97, 98, 99])"
      ]
     },
     "execution_count": 21,
     "metadata": {},
     "output_type": "execute_result"
    }
   ],
   "source": [
    "b_val"
   ]
  },
  {
   "cell_type": "code",
   "execution_count": 64,
   "id": "d9913204-2c0b-4b5d-b376-967067a2755f",
   "metadata": {
    "tags": []
   },
   "outputs": [
    {
     "data": {
      "text/plain": [
       "array([36, 37, 38, 39, 40, 41])"
      ]
     },
     "execution_count": 64,
     "metadata": {},
     "output_type": "execute_result"
    }
   ],
   "source": [
    "b_val"
   ]
  },
  {
   "cell_type": "code",
   "execution_count": 59,
   "id": "39dcf9d6-072e-4782-8f19-6a96ecf44f7e",
   "metadata": {
    "tags": []
   },
   "outputs": [
    {
     "data": {
      "text/plain": [
       "11"
      ]
     },
     "execution_count": 59,
     "metadata": {},
     "output_type": "execute_result"
    }
   ],
   "source": [
    "int(np.ceil(101/ 10))"
   ]
  },
  {
   "cell_type": "code",
   "execution_count": 23,
   "id": "cbcb706c-b7e2-4a08-a196-8880a10c950a",
   "metadata": {},
   "outputs": [
    {
     "data": {
      "text/plain": [
       "5"
      ]
     },
     "execution_count": 23,
     "metadata": {},
     "output_type": "execute_result"
    }
   ],
   "source": [
    "int(1//0.15) - 1"
   ]
  },
  {
   "cell_type": "code",
   "execution_count": null,
   "id": "e3932568-7d04-482c-be7f-fa43d51b8a54",
   "metadata": {},
   "outputs": [],
   "source": []
  }
 ],
 "metadata": {
  "kernelspec": {
   "display_name": "Python 3 (ipykernel)",
   "language": "python",
   "name": "python3"
  },
  "language_info": {
   "codemirror_mode": {
    "name": "ipython",
    "version": 3
   },
   "file_extension": ".py",
   "mimetype": "text/x-python",
   "name": "python",
   "nbconvert_exporter": "python",
   "pygments_lexer": "ipython3",
   "version": "3.10.8"
  }
 },
 "nbformat": 4,
 "nbformat_minor": 5
}
