{
 "cells": [
  {
   "cell_type": "markdown",
   "id": "43cb06d9-4040-4d73-b4ac-2cd41810f70c",
   "metadata": {},
   "source": [
    "# Evaluate a UQ model"
   ]
  },
  {
   "cell_type": "code",
   "execution_count": 2,
   "id": "b5cab633-3607-4d55-b458-379dfdf8546f",
   "metadata": {},
   "outputs": [
    {
     "name": "stdout",
     "output_type": "stream",
     "text": [
      "apple\n"
     ]
    }
   ],
   "source": [
    "print(\"apple\")"
   ]
  },
  {
   "cell_type": "code",
   "execution_count": 3,
   "id": "47275a1d-1089-43b2-8bfa-c7cbc61a4ae2",
   "metadata": {},
   "outputs": [],
   "source": [
    "import torch\n",
    "import numpy as np\n",
    "\n",
    "# dataset\n",
    "from twaidata.torchdatasets.in_ram_ds import MRISegmentation2DDataset, MRISegmentation3DDataset\n",
    "from torch.utils.data import DataLoader, random_split, ConcatDataset\n",
    "\n",
    "# model\n",
    "from trustworthai.models.uq_models.drop_UNet import UNet\n",
    "\n",
    "# augmentation and pretrain processing\n",
    "from trustworthai.utils.augmentation.standard_transforms import RandomFlip, GaussianBlur, GaussianNoise, \\\n",
    "                                                            RandomResizeCrop, RandomAffine, \\\n",
    "                                                            NormalizeImg, PairedCompose, LabelSelect, \\\n",
    "                                                            PairedCentreCrop, CropZDim\n",
    "# loss function\n",
    "from trustworthai.utils.losses_and_metrics.tversky_loss import TverskyLoss\n",
    "from trustworthai.utils.losses_and_metrics.misc_metrics import IOU\n",
    "from trustworthai.utils.losses_and_metrics.dice import dice, DiceMetric\n",
    "from trustworthai.utils.losses_and_metrics.dice_losses import DiceLoss, GeneralizedDiceLoss\n",
    "from trustworthai.utils.losses_and_metrics.power_jaccard_loss import PowerJaccardLoss\n",
    "from torch.nn import BCELoss, MSELoss\n",
    "\n",
    "# pl\n",
    "from trustworthai.utils.uq.sampling.sampling_pl_wrapper import UQSamplingPredictorLitModelWrapper\n",
    "from pytorch_lightning.callbacks.early_stopping import EarlyStopping\n",
    "from pytorch_lightning.callbacks.model_checkpoint import ModelCheckpoint\n",
    "import pytorch_lightning as pl\n",
    "\n",
    "# misc\n",
    "import os\n",
    "import torch\n",
    "import matplotlib.pyplot as plt\n",
    "import torch\n",
    "from torchinfo import summary"
   ]
  },
  {
   "cell_type": "code",
   "execution_count": 4,
   "id": "0b431667-93d7-4b9a-993f-4bf78401875d",
   "metadata": {},
   "outputs": [],
   "source": [
    "seed = 3407\n",
    "torch.manual_seed(seed)\n",
    "torch.cuda.manual_seed_all(seed)"
   ]
  },
  {
   "cell_type": "code",
   "execution_count": 5,
   "id": "27e6cce9-3fc3-443d-9c19-863c58180b7f",
   "metadata": {},
   "outputs": [],
   "source": [
    "root_dir = \"/disk/scratch/s2208943/ipdis/preprep/out_data/collated/\"\n",
    "wmh_dir = root_dir + \"WMH_challenge_dataset/\"\n",
    "ed_dir = root_dir + \"EdData/\""
   ]
  },
  {
   "cell_type": "code",
   "execution_count": 6,
   "id": "7bd1238e-4053-44aa-9b1a-0c3528df0a9f",
   "metadata": {},
   "outputs": [],
   "source": [
    "# domains = [\n",
    "#             wmh_dir + d for d in [\"Singapore\", \"Utrecht\", \"GE3T\"]\n",
    "#           ]\n",
    "# domains = [\n",
    "#             wmh_dir + d for d in [\"Singapore\", \"Utrecht\", \"GE3T\"]\n",
    "#           ] + [\n",
    "#             ed_dir + d for d in [\"domainA\", \"domainB\", \"domainC\", \"domainD\"]\n",
    "#           ]\n",
    "\n",
    "domains = [\n",
    "            ed_dir + d for d in [\"domainA\", \"domainB\", \"domainC\", \"domainD\"]\n",
    "          ]"
   ]
  },
  {
   "cell_type": "code",
   "execution_count": 7,
   "id": "670a865c-f3d5-4224-a7ba-53b62faff586",
   "metadata": {},
   "outputs": [],
   "source": [
    "# function to do train validate test split\n",
    "test_proportion = 0.1\n",
    "validation_proportion = 0.2\n",
    "\n",
    "def train_val_test_split(dataset, val_prop, test_prop, seed):\n",
    "    # I think the sklearn version might be prefereable for determinism and things\n",
    "    # but that involves fiddling with the dataset implementation I think....\n",
    "    size = len(dataset)\n",
    "    test_size = int(test_prop*size) \n",
    "    val_size = int(val_prop*size)\n",
    "    train_size = size - val_size - test_size\n",
    "    train, val, test = random_split(dataset, [train_size, val_size, test_size], generator=torch.Generator().manual_seed(seed))\n",
    "    return train, val, test"
   ]
  },
  {
   "cell_type": "code",
   "execution_count": 8,
   "id": "bb86b0ee-b739-4026-9ade-c2bc2d73b367",
   "metadata": {},
   "outputs": [],
   "source": [
    "is3D = True"
   ]
  },
  {
   "cell_type": "code",
   "execution_count": 9,
   "id": "5ca05a79-6d56-4e9a-a8da-2682a15ebefe",
   "metadata": {},
   "outputs": [],
   "source": [
    "# augmentation definintion\n",
    "def get_transforms(is3D):\n",
    "    transforms = [\n",
    "        LabelSelect(label_id=1),\n",
    "        RandomFlip(p=0.5, orientation=\"horizontal\"),\n",
    "        # GaussianBlur(p=0.5, kernel_size=7, sigma=(.1, 1.5)),\n",
    "        # GaussianNoise(p=0.2, mean=0, sigma=0.2),\n",
    "        # RandomAffine(p=0.2, shear=(.1,3.)),\n",
    "        # RandomAffine(p=0.2, degrees=5),\n",
    "        # RandomResizeCrop(p=1., scale=(0.6, 1.), ratio=(3./4., 4./3.))\n",
    "    ]\n",
    "    if not is3D:\n",
    "        return PairedCompose(transforms)\n",
    "    else:\n",
    "        transforms.append(CropZDim(size=32, minimum=0, maximum=-1))\n",
    "        return PairedCompose(transforms)"
   ]
  },
  {
   "cell_type": "code",
   "execution_count": 10,
   "id": "036f9608-2974-43f3-ba78-6dbc35e2cced",
   "metadata": {},
   "outputs": [],
   "source": [
    "if is3D:\n",
    "    transforms = CropZDim(size=32, minimum=0, maximum=-1)\n",
    "    datasets_domains = [MRISegmentation3DDataset(root_dir, domain, transforms=get_transforms(is3D)) for domain in domains]\n",
    "else:\n",
    "    datasets_domains = [MRISegmentation2DDataset(root_dir, domain, transforms=get_transforms(is3D)) for domain in domains]\n",
    "\n",
    "# split into train, val test datasets\n",
    "datasets = [train_val_test_split(dataset, validation_proportion, test_proportion, seed) for dataset in datasets_domains]\n",
    "\n",
    "# concat the train val test datsets\n",
    "train_dataset = ConcatDataset([ds[0] for ds in datasets])\n",
    "val_dataset = ConcatDataset([ds[1] for ds in datasets])\n",
    "test_dataset = ConcatDataset([ds[2] for ds in datasets])"
   ]
  },
  {
   "cell_type": "code",
   "execution_count": 11,
   "id": "43b29fa2-4a5a-4eaa-9672-445e40d04945",
   "metadata": {},
   "outputs": [
    {
     "data": {
      "text/plain": [
       "(177, 49, 24)"
      ]
     },
     "execution_count": 11,
     "metadata": {},
     "output_type": "execute_result"
    }
   ],
   "source": [
    "len(train_dataset), len(val_dataset), len(test_dataset)"
   ]
  },
  {
   "cell_type": "code",
   "execution_count": 12,
   "id": "0fa68006-bbbf-4f24-827b-d97224c23504",
   "metadata": {
    "tags": []
   },
   "outputs": [],
   "source": [
    "# define dataloaders\n",
    "train_dataloader = DataLoader(train_dataset, batch_size=16, shuffle=True, num_workers=4)\n",
    "test_dataloader = DataLoader(test_dataset, batch_size = 16, shuffle=False, num_workers=4)\n",
    "val_dataloader = DataLoader(val_dataset, batch_size=16, shuffle=False, num_workers=4)"
   ]
  },
  {
   "cell_type": "markdown",
   "id": "96adb95a-e409-485e-a947-481a4e6cd557",
   "metadata": {},
   "source": [
    "### Evaluate each model in turn"
   ]
  },
  {
   "cell_type": "code",
   "execution_count": 13,
   "id": "a6a70ca8-b030-4d64-af53-08514a9f5e3f",
   "metadata": {},
   "outputs": [],
   "source": [
    "from trustworthai.utils.uq.sampling.uq_prediction_sampler import ModeUQSampler, UQSampler"
   ]
  },
  {
   "cell_type": "code",
   "execution_count": 14,
   "id": "888fafd3-ac4c-4aa4-aeed-fd24ae4a0640",
   "metadata": {},
   "outputs": [],
   "source": [
    "#from trustworthai.utils.uq.sampling.sampling_pl_wrapper import UQSamplingPredictorLitModelWrapper\n",
    "from trustworthai.utils.uq.uncertainty_maps.gen_map import samples_entropy_map, samples_variance_map\n",
    "from trustworthai.utils.uq.sampling.uq_prediction_sampler import DeterministicModelUQSampler, DeterministicModelNoSample, UQSampler, ModeUQSampler\n",
    "from natsort import natsorted"
   ]
  },
  {
   "cell_type": "code",
   "execution_count": 15,
   "id": "1e36d717-1218-48be-82b4-b7788362731a",
   "metadata": {},
   "outputs": [],
   "source": [
    "import os\n",
    "from collections import namedtuple"
   ]
  },
  {
   "cell_type": "code",
   "execution_count": 16,
   "id": "72156d11-1cee-4da8-8741-5f1ec982972d",
   "metadata": {},
   "outputs": [],
   "source": [
    "root_checkpoint_dir = \"/home/s2208943/ipdis/results/dropout_and_norm_initial_tests/\"\n",
    "\n",
    "def gen_folder_name(args, checkpoint_dir):\n",
    "    # NOTE IF THE ARGS WERE INPUT WOULD NEED THE EXTRACT BOOL FUNCTOIN\n",
    "    use_multidim_dropout = args.use_multidim_dropout\n",
    "    use_multidim_dropconnect = args.use_multidim_dropconnect\n",
    "    #print(use_multidim_dropconnect)\n",
    "    \n",
    "    # calculate the checkpoint folder name\n",
    "    dropout_str = f\"dropout_{args.dropout_type}_{args.dropout_p}_\" if args.dropout_type != None else \"\"\n",
    "    \n",
    "    a = use_multidim_dropout\n",
    "    b = (args.dropout_type != None)\n",
    "    \n",
    "    if (use_multidim_dropout and (args.dropout_type != None)):\n",
    "        dropout_str = f\"{dropout_str}mdim_\"\n",
    "    \n",
    "    dropconn_str = f\"dropconn_{args.dropconnect_type}_{args.dropconnect_p}_\" if args.dropconnect_type != None else \"\"\n",
    "    if use_multidim_dropconnect and args.dropconnect_type != None:\n",
    "        dropconn_str = f\"{dropconn_str}mdim_\"\n",
    "    \n",
    "    norm_str = args.norm_type\n",
    "    epochs_str = f\"epochs_{args.max_epochs}\"\n",
    "    \n",
    "    checkpoint_dir = os.path.join(checkpoint_dir, f\"UNet2D_{dropout_str}{dropconn_str}{norm_str}_{epochs_str}\")\n",
    "    #print(\"checkpoint_dir: \", checkpoint_dir)\n",
    "    \n",
    "    return checkpoint_dir, args\n",
    "\n",
    "def gen_args(dropout_type, drop_connect_type, p, norm_type, mdim, mepochs):\n",
    "    fields = {\n",
    "        \"dropout_type\":dropout_type,\n",
    "        \"dropconnect_type\":drop_connect_type,\n",
    "        \"dropout_p\":p,\n",
    "        \"dropconnect_p\":p,\n",
    "        \"p\":p,\n",
    "        \"mdim\":mdim,\n",
    "        \"use_multidim_dropout\":mdim,\n",
    "        \"use_multidim_dropconnect\":mdim,\n",
    "        \"norm_type\":norm_type,\n",
    "        \"max_epochs\":mepochs\n",
    "    }\n",
    "    return namedtuple(\"args\", fields.keys())(*fields.values())"
   ]
  },
  {
   "cell_type": "code",
   "execution_count": 17,
   "id": "fc532df7-c82c-4705-9807-fdc33a599e8d",
   "metadata": {},
   "outputs": [],
   "source": [
    "folders = []\n",
    "ps = [0.05, 0.1, 0.2, 0.3, 0.4]\n",
    "multidim = [True, False]\n",
    "    \n",
    "for p in ps:\n",
    "    for mdim in multidim:\n",
    "        folders.append(gen_folder_name(gen_args(None, \"bernoulli\", p, 'bn', mdim, 400),root_checkpoint_dir))\n",
    "        folders.append(gen_folder_name(gen_args(None, \"gaussian\", p, 'bn', mdim, 400),root_checkpoint_dir))\n",
    "        folders.append(gen_folder_name(gen_args(\"bernoulli\", None, p, 'bn', mdim, 400),root_checkpoint_dir))\n",
    "        folders.append(gen_folder_name(gen_args(\"gaussian\", None, p, 'bn', mdim, 400),root_checkpoint_dir))\n",
    "        folders.append(gen_folder_name(gen_args(\"bernoulli\", \"gaussian\", p, 'bn', mdim, 400),root_checkpoint_dir))\n",
    "        folders.append(gen_folder_name(gen_args(\"gaussian\", \"bernoulli\", p, 'bn', mdim, 400),root_checkpoint_dir))\n",
    "folders.append(gen_folder_name(gen_args(None, None, None, 'bn', True, 400),root_checkpoint_dir))\n",
    "folders.append(gen_folder_name(gen_args(None, None, None, 'in', True, 400),root_checkpoint_dir))\n",
    "folders.append(gen_folder_name(gen_args(None, None, None, 'gn', True, 400),root_checkpoint_dir))\n"
   ]
  },
  {
   "cell_type": "code",
   "execution_count": 18,
   "id": "dad6c129-323e-4e10-817e-03510846f766",
   "metadata": {},
   "outputs": [
    {
     "name": "stderr",
     "output_type": "stream",
     "text": [
      "Using 16bit native Automatic Mixed Precision (AMP)\n",
      "/home/s2208943/miniconda3/envs/ip/lib/python3.9/site-packages/pytorch_lightning/loops/utilities.py:91: PossibleUserWarning: `max_epochs` was not set. Setting it to 1000 epochs. To train without an epoch limit, set `max_epochs=-1`.\n",
      "  rank_zero_warn(\n",
      "GPU available: True, used: True\n",
      "TPU available: False, using: 0 TPU cores\n",
      "IPU available: False, using: 0 IPUs\n",
      "HPU available: False, using: 0 HPUs\n"
     ]
    }
   ],
   "source": [
    "accelerator=\"gpu\"\n",
    "devices=1\n",
    "precision = 16\n",
    "\n",
    "trainer = pl.Trainer(\n",
    "    accelerator=accelerator,\n",
    "    devices=devices,\n",
    "    precision=precision,\n",
    ")"
   ]
  },
  {
   "cell_type": "code",
   "execution_count": 19,
   "id": "19dfbf0d-dabf-4e20-b5ed-711b6a007595",
   "metadata": {},
   "outputs": [],
   "source": [
    "in_channels = 3\n",
    "out_channels = 1\n",
    "# TODO: put in the path to the assets on your machine here\n",
    "\"UNet2D_dropout_bernoulli_0.4_bn_epochs_400/\"\n",
    "\n",
    "loss = GeneralizedDiceLoss(normalization='sigmoid')"
   ]
  },
  {
   "cell_type": "markdown",
   "id": "c87d1f45-6fbe-4a45-bad0-3a8cd7c45da7",
   "metadata": {},
   "source": [
    "### now picking a specific model\n",
    "\n",
    "dropout 0.3: \n",
    "\n",
    "/home/s2208943/ipdis/results/dropout_and_norm_initial_tests/UNet2D_dropout_bernoulli_0.3_mdim_bn_epochs_400\n",
    "\n",
    "dropconnect 0.3: \n",
    "\n",
    "home/s2208943/ipdis/results/dropout_and_norm_initial_tests/UNet2D_dropconn_gaussian_0.3_mdim_bn_epochs_400\n",
    "\n",
    "spike and slab 0.3: \n",
    "\n",
    "'slab and spike' 0.3:\n",
    "\n",
    "\n",
    "bn:\n",
    "\n",
    "/home/s2208943/ipdis/results/dropout_and_norm_initial_tests/UNet2D_bn_epochs_400\n",
    "\n",
    "in:\n",
    "\n",
    "/home/s2208943/ipdis/results/dropout_and_norm_initial_tests/UNet2D_in_epochs_400\n",
    "\n",
    "I also need to test mdim vs not mdim"
   ]
  },
  {
   "cell_type": "code",
   "execution_count": 20,
   "id": "f64f88c5-0eb9-4418-b0e2-cde55f44f37b",
   "metadata": {},
   "outputs": [],
   "source": [
    "def get_last_checkpoint(folder):\n",
    "    files = natsorted(os.listdir(folder))\n",
    "    epochs = [f for f in files if \"epoch\" in f]\n",
    "    checkpoint = os.path.join(folder, epochs[-1])\n",
    "    return checkpoint\n",
    "\n",
    "def get_folder_args(folder):\n",
    "    for (f, a) in folders:\n",
    "        if f == folder:\n",
    "            return a"
   ]
  },
  {
   "cell_type": "code",
   "execution_count": 21,
   "id": "9a424bc2-f0b3-4541-be63-6b0ad388944b",
   "metadata": {},
   "outputs": [],
   "source": [
    "root_folder = \"/home/s2208943/ipdis/results/dropout_and_norm_initial_tests/\"\n",
    "#exp_folder = root_folder + \"UNet2D_dropout_bernoulli_0.1_mdim_bn_epochs_400\"\n",
    "exp_folder = root_folder + \"UNet2D_bn_epochs_400\"\n",
    "#exp_folder = root_folder+\"UNet2D_dropout_bernoulli_0.1_dropconn_gaussian_0.1_bn_epochs_400\"\n",
    "\n",
    "chkpt = get_last_checkpoint(exp_folder)\n",
    "\n",
    "args = get_folder_args(exp_folder)"
   ]
  },
  {
   "cell_type": "code",
   "execution_count": 40,
   "id": "f84626f5-f6f3-46d6-97b2-5a8fdf9fc170",
   "metadata": {},
   "outputs": [],
   "source": [
    "loss = GeneralizedDiceLoss(normalization='sigmoid')\n",
    "\n",
    "model = UNet(in_channels,\n",
    "             out_channels,\n",
    "             kernel_size=3,\n",
    "             init_features=32,\n",
    "             softmax=False,\n",
    "             dropout_type=args.dropout_type,\n",
    "             dropout_p=args.p,\n",
    "             gaussout_mean=1, \n",
    "             dropconnect_type=args.dropconnect_type,\n",
    "             dropconnect_p=args.p,\n",
    "             gaussconnect_mean=1,\n",
    "             norm_type=args.norm_type,\n",
    "             use_multidim_dropout=args.mdim,  \n",
    "             use_multidim_dropconnect=args.mdim, \n",
    "             groups=None,\n",
    "             gn_groups=4,\n",
    "             use_uq_norm_layer=False\n",
    "            )"
   ]
  },
  {
   "cell_type": "code",
   "execution_count": 41,
   "id": "b692ed22-7d8e-47cf-a841-c68e081f39d8",
   "metadata": {},
   "outputs": [],
   "source": [
    "sampler = DeterministicModelNoSample(N=20, is_uq_model=True)\n",
    "model = UQSamplingPredictorLitModelWrapper.load_from_checkpoint(chkpt, model=model, loss=loss, sampler=sampler, is_uq_model=True)"
   ]
  },
  {
   "cell_type": "code",
   "execution_count": 24,
   "id": "0025a3c7-4c2b-4bf6-bf32-12e89f6dfd84",
   "metadata": {},
   "outputs": [],
   "source": [
    "from torch.utils.data import TensorDataset, DataLoader"
   ]
  },
  {
   "cell_type": "code",
   "execution_count": 25,
   "id": "0b001102-e123-4a82-b75f-f009c22412dc",
   "metadata": {},
   "outputs": [],
   "source": [
    "# 3d imgs as inidivdual batches\n",
    "img_batches = [b for b in val_dataset]"
   ]
  },
  {
   "cell_type": "code",
   "execution_count": 26,
   "id": "96b2f64e-1a15-4f7f-b625-78d7edc2a526",
   "metadata": {},
   "outputs": [
    {
     "data": {
      "text/plain": [
       "torch.Size([3, 32, 224, 160])"
      ]
     },
     "execution_count": 26,
     "metadata": {},
     "output_type": "execute_result"
    }
   ],
   "source": [
    "img_batches[0][0].shape"
   ]
  },
  {
   "cell_type": "code",
   "execution_count": 27,
   "id": "f5deb6ab-3e39-495e-bb84-1a1ba7111ddc",
   "metadata": {},
   "outputs": [],
   "source": [
    "rotated = [(torch.permute(i, (1,0,2,3)),\n",
    "            torch.permute(l, (1,0,2,3)))\n",
    "           for (i, l) in img_batches \n",
    "          ] "
   ]
  },
  {
   "cell_type": "code",
   "execution_count": 28,
   "id": "897ca1d8-d5bf-4072-b407-942785ef528d",
   "metadata": {},
   "outputs": [],
   "source": [
    "combined_is = torch.cat([r[0] for r in rotated])\n",
    "combined_ls = torch.cat([r[1] for r in rotated])"
   ]
  },
  {
   "cell_type": "code",
   "execution_count": 29,
   "id": "1b39f63f-ba3f-45e4-896d-7101245fd238",
   "metadata": {},
   "outputs": [],
   "source": [
    "combined_ds = TensorDataset(combined_is, combined_ls)"
   ]
  },
  {
   "cell_type": "code",
   "execution_count": 30,
   "id": "da0b3659-2540-4b44-9393-39e41f9001ad",
   "metadata": {},
   "outputs": [],
   "source": [
    "combined_dl = DataLoader(combined_ds, batch_size=32, shuffle=False, num_workers=4)"
   ]
  },
  {
   "cell_type": "code",
   "execution_count": 31,
   "id": "990f1623-65e0-4610-9f66-ddbfe6dea346",
   "metadata": {},
   "outputs": [],
   "source": [
    "brain_pair = next(iter(combined_dl))"
   ]
  },
  {
   "cell_type": "code",
   "execution_count": 32,
   "id": "e8e2f17e-8105-4971-8021-b15fc8560346",
   "metadata": {},
   "outputs": [
    {
     "name": "stderr",
     "output_type": "stream",
     "text": [
      "LOCAL_RANK: 0 - CUDA_VISIBLE_DEVICES: [0]\n"
     ]
    },
    {
     "data": {
      "application/vnd.jupyter.widget-view+json": {
       "model_id": "37c0b74f197b4dd982f7c5bdfc62dbdb",
       "version_major": 2,
       "version_minor": 0
      },
      "text/plain": [
       "Validation: 0it [00:00, ?it/s]"
      ]
     },
     "metadata": {},
     "output_type": "display_data"
    },
    {
     "name": "stdout",
     "output_type": "stream",
     "text": [
      "────────────────────────────────────────────────────────────────────────────────────────────────────────────────────────\n",
      "     Validate metric           DataLoader 0\n",
      "────────────────────────────────────────────────────────────────────────────────────────────────────────────────────────\n",
      "        val_loss            0.3125365376472473\n",
      "────────────────────────────────────────────────────────────────────────────────────────────────────────────────────────\n"
     ]
    },
    {
     "data": {
      "text/plain": [
       "[{'val_loss': 0.3125365376472473}]"
      ]
     },
     "execution_count": 32,
     "metadata": {},
     "output_type": "execute_result"
    }
   ],
   "source": [
    "trainer.validate(model, combined_dl)"
   ]
  },
  {
   "cell_type": "markdown",
   "id": "ac32453c-f379-450b-bf00-ca9f5ef3ebe8",
   "metadata": {},
   "source": [
    "### Implementing Calibration\n",
    "\n",
    "one method is to use volume variation coefficient\n",
    "VVC = sigma_v / mean_v, this is calculated across all the samples.\n",
    "\n",
    "three other ways, see\n",
    "- how they did it in the spike and slab paper\n",
    "- how the do it in the ieee paper\n",
    "- how they do it in the batch norm paper.\n",
    "\n",
    "\n",
    "other plots\n",
    "\n",
    "the https://arxiv.org/pdf/1807.07356.pdf paper also has error rate vs\n",
    "uncertainty plots (a bit like those batch norm plots)\n",
    "and I think these would be good to implement.\n",
    "\n",
    "Also I need to implement the overlap uncertainty on prediction plots and put all of these functions in the plots script.\n",
    "\n",
    "Then move on to the other reporductoin parts, try calibration on unseen data (test set and other domains) and try adversarial stuff, move on to the ssn paper."
   ]
  },
  {
   "cell_type": "code",
   "execution_count": 33,
   "id": "a738a836-3df8-4ca1-96f3-925bdfbea4f3",
   "metadata": {},
   "outputs": [],
   "source": [
    "def yielder(dl):\n",
    "    for b in dl:\n",
    "        for i in b[0]:\n",
    "            yield torch.permute(i, (1, 0, 2, 3))"
   ]
  },
  {
   "cell_type": "code",
   "execution_count": 34,
   "id": "fefcedd3-79bc-4e51-8a0c-cf05f0cf2260",
   "metadata": {},
   "outputs": [
    {
     "data": {
      "text/plain": [
       "Parameter containing:\n",
       "tensor([1.1058, 0.9466, 0.9084, 1.0385, 0.9268, 0.9018, 0.9010, 0.9652, 0.9706,\n",
       "        0.9117, 1.1070, 1.1768, 0.9908, 1.2189, 1.0234, 1.0337, 0.8246, 1.1416,\n",
       "        0.8724, 1.0433, 0.9811, 0.9664, 1.0877, 1.0413, 0.9995, 1.0622, 1.0583,\n",
       "        1.0620, 1.0892, 0.9474, 0.9935, 1.0071], requires_grad=True)"
      ]
     },
     "execution_count": 34,
     "metadata": {},
     "output_type": "execute_result"
    }
   ],
   "source": [
    "model.model.encoder1.norm1.weight"
   ]
  },
  {
   "cell_type": "code",
   "execution_count": 42,
   "id": "15f8a2bf-21bb-40ee-bfff-bcf9509b8f41",
   "metadata": {},
   "outputs": [
    {
     "name": "stderr",
     "output_type": "stream",
     "text": [
      "LOCAL_RANK: 0 - CUDA_VISIBLE_DEVICES: [0]\n"
     ]
    },
    {
     "data": {
      "application/vnd.jupyter.widget-view+json": {
       "model_id": "8ee1b15b111e41bca50ce52a0dba9caf",
       "version_major": 2,
       "version_minor": 0
      },
      "text/plain": [
       "Predicting: 0it [00:00, ?it/s]"
      ]
     },
     "metadata": {},
     "output_type": "display_data"
    },
    {
     "name": "stderr",
     "output_type": "stream",
     "text": [
      "LOCAL_RANK: 0 - CUDA_VISIBLE_DEVICES: [0]\n"
     ]
    },
    {
     "data": {
      "application/vnd.jupyter.widget-view+json": {
       "model_id": "fa1f269955f340858ea69fb125edbc5f",
       "version_major": 2,
       "version_minor": 0
      },
      "text/plain": [
       "Predicting: 0it [00:00, ?it/s]"
      ]
     },
     "metadata": {},
     "output_type": "display_data"
    },
    {
     "name": "stderr",
     "output_type": "stream",
     "text": [
      "LOCAL_RANK: 0 - CUDA_VISIBLE_DEVICES: [0]\n"
     ]
    },
    {
     "data": {
      "application/vnd.jupyter.widget-view+json": {
       "model_id": "958dafa2f3da4e76bc48b2694b178d40",
       "version_major": 2,
       "version_minor": 0
      },
      "text/plain": [
       "Predicting: 0it [00:00, ?it/s]"
      ]
     },
     "metadata": {},
     "output_type": "display_data"
    },
    {
     "name": "stderr",
     "output_type": "stream",
     "text": [
      "LOCAL_RANK: 0 - CUDA_VISIBLE_DEVICES: [0]\n"
     ]
    },
    {
     "data": {
      "application/vnd.jupyter.widget-view+json": {
       "model_id": "c3a8190a15c1456192c41b7bc04c4586",
       "version_major": 2,
       "version_minor": 0
      },
      "text/plain": [
       "Predicting: 0it [00:00, ?it/s]"
      ]
     },
     "metadata": {},
     "output_type": "display_data"
    },
    {
     "name": "stderr",
     "output_type": "stream",
     "text": [
      "LOCAL_RANK: 0 - CUDA_VISIBLE_DEVICES: [0]\n"
     ]
    },
    {
     "data": {
      "application/vnd.jupyter.widget-view+json": {
       "model_id": "f1010eb2961b4a4685ba8fa78692f765",
       "version_major": 2,
       "version_minor": 0
      },
      "text/plain": [
       "Predicting: 0it [00:00, ?it/s]"
      ]
     },
     "metadata": {},
     "output_type": "display_data"
    },
    {
     "name": "stderr",
     "output_type": "stream",
     "text": [
      "LOCAL_RANK: 0 - CUDA_VISIBLE_DEVICES: [0]\n"
     ]
    },
    {
     "data": {
      "application/vnd.jupyter.widget-view+json": {
       "model_id": "7d0ad6f0c6a14ebda56c6d11eda33781",
       "version_major": 2,
       "version_minor": 0
      },
      "text/plain": [
       "Predicting: 0it [00:00, ?it/s]"
      ]
     },
     "metadata": {},
     "output_type": "display_data"
    },
    {
     "name": "stderr",
     "output_type": "stream",
     "text": [
      "LOCAL_RANK: 0 - CUDA_VISIBLE_DEVICES: [0]\n"
     ]
    },
    {
     "data": {
      "application/vnd.jupyter.widget-view+json": {
       "model_id": "820bc9dd95e54c239d8285d6634712f2",
       "version_major": 2,
       "version_minor": 0
      },
      "text/plain": [
       "Predicting: 0it [00:00, ?it/s]"
      ]
     },
     "metadata": {},
     "output_type": "display_data"
    },
    {
     "name": "stderr",
     "output_type": "stream",
     "text": [
      "LOCAL_RANK: 0 - CUDA_VISIBLE_DEVICES: [0]\n"
     ]
    },
    {
     "data": {
      "application/vnd.jupyter.widget-view+json": {
       "model_id": "8b53d766673542daacb7dd24ad463536",
       "version_major": 2,
       "version_minor": 0
      },
      "text/plain": [
       "Predicting: 0it [00:00, ?it/s]"
      ]
     },
     "metadata": {},
     "output_type": "display_data"
    },
    {
     "name": "stderr",
     "output_type": "stream",
     "text": [
      "LOCAL_RANK: 0 - CUDA_VISIBLE_DEVICES: [0]\n"
     ]
    },
    {
     "data": {
      "application/vnd.jupyter.widget-view+json": {
       "model_id": "4c8b7bb2e38a4ad08725236be65e73df",
       "version_major": 2,
       "version_minor": 0
      },
      "text/plain": [
       "Predicting: 0it [00:00, ?it/s]"
      ]
     },
     "metadata": {},
     "output_type": "display_data"
    },
    {
     "name": "stderr",
     "output_type": "stream",
     "text": [
      "LOCAL_RANK: 0 - CUDA_VISIBLE_DEVICES: [0]\n"
     ]
    },
    {
     "data": {
      "application/vnd.jupyter.widget-view+json": {
       "model_id": "5ec27e97379a4c208719e51b9ed091b0",
       "version_major": 2,
       "version_minor": 0
      },
      "text/plain": [
       "Predicting: 0it [00:00, ?it/s]"
      ]
     },
     "metadata": {},
     "output_type": "display_data"
    },
    {
     "name": "stderr",
     "output_type": "stream",
     "text": [
      "LOCAL_RANK: 0 - CUDA_VISIBLE_DEVICES: [0]\n"
     ]
    },
    {
     "data": {
      "application/vnd.jupyter.widget-view+json": {
       "model_id": "987ea55a9f0142daaaefcc73bd834085",
       "version_major": 2,
       "version_minor": 0
      },
      "text/plain": [
       "Predicting: 0it [00:00, ?it/s]"
      ]
     },
     "metadata": {},
     "output_type": "display_data"
    },
    {
     "name": "stderr",
     "output_type": "stream",
     "text": [
      "LOCAL_RANK: 0 - CUDA_VISIBLE_DEVICES: [0]\n"
     ]
    },
    {
     "data": {
      "application/vnd.jupyter.widget-view+json": {
       "model_id": "4f6f6b17ea104bb185b72a4d185c9bbc",
       "version_major": 2,
       "version_minor": 0
      },
      "text/plain": [
       "Predicting: 0it [00:00, ?it/s]"
      ]
     },
     "metadata": {},
     "output_type": "display_data"
    },
    {
     "name": "stderr",
     "output_type": "stream",
     "text": [
      "LOCAL_RANK: 0 - CUDA_VISIBLE_DEVICES: [0]\n"
     ]
    },
    {
     "data": {
      "application/vnd.jupyter.widget-view+json": {
       "model_id": "86d294978f1645b8a602032be41c8721",
       "version_major": 2,
       "version_minor": 0
      },
      "text/plain": [
       "Predicting: 0it [00:00, ?it/s]"
      ]
     },
     "metadata": {},
     "output_type": "display_data"
    },
    {
     "name": "stderr",
     "output_type": "stream",
     "text": [
      "LOCAL_RANK: 0 - CUDA_VISIBLE_DEVICES: [0]\n"
     ]
    },
    {
     "data": {
      "application/vnd.jupyter.widget-view+json": {
       "model_id": "a905e598595d4e18bb31825d11c9e622",
       "version_major": 2,
       "version_minor": 0
      },
      "text/plain": [
       "Predicting: 0it [00:00, ?it/s]"
      ]
     },
     "metadata": {},
     "output_type": "display_data"
    },
    {
     "name": "stderr",
     "output_type": "stream",
     "text": [
      "LOCAL_RANK: 0 - CUDA_VISIBLE_DEVICES: [0]\n"
     ]
    },
    {
     "data": {
      "application/vnd.jupyter.widget-view+json": {
       "model_id": "470c0e73c48140fbbc0bc744a01e4468",
       "version_major": 2,
       "version_minor": 0
      },
      "text/plain": [
       "Predicting: 0it [00:00, ?it/s]"
      ]
     },
     "metadata": {},
     "output_type": "display_data"
    },
    {
     "name": "stderr",
     "output_type": "stream",
     "text": [
      "LOCAL_RANK: 0 - CUDA_VISIBLE_DEVICES: [0]\n"
     ]
    },
    {
     "data": {
      "application/vnd.jupyter.widget-view+json": {
       "model_id": "bb16b96eb3e243b6b233185d7b0850e1",
       "version_major": 2,
       "version_minor": 0
      },
      "text/plain": [
       "Predicting: 0it [00:00, ?it/s]"
      ]
     },
     "metadata": {},
     "output_type": "display_data"
    },
    {
     "name": "stderr",
     "output_type": "stream",
     "text": [
      "LOCAL_RANK: 0 - CUDA_VISIBLE_DEVICES: [0]\n"
     ]
    },
    {
     "data": {
      "application/vnd.jupyter.widget-view+json": {
       "model_id": "d8a22dec85c047eda87dcf6c5038c815",
       "version_major": 2,
       "version_minor": 0
      },
      "text/plain": [
       "Predicting: 0it [00:00, ?it/s]"
      ]
     },
     "metadata": {},
     "output_type": "display_data"
    },
    {
     "name": "stderr",
     "output_type": "stream",
     "text": [
      "LOCAL_RANK: 0 - CUDA_VISIBLE_DEVICES: [0]\n"
     ]
    },
    {
     "data": {
      "application/vnd.jupyter.widget-view+json": {
       "model_id": "3ccf6ea16c91415f8d180abe4197594f",
       "version_major": 2,
       "version_minor": 0
      },
      "text/plain": [
       "Predicting: 0it [00:00, ?it/s]"
      ]
     },
     "metadata": {},
     "output_type": "display_data"
    },
    {
     "name": "stderr",
     "output_type": "stream",
     "text": [
      "LOCAL_RANK: 0 - CUDA_VISIBLE_DEVICES: [0]\n"
     ]
    },
    {
     "data": {
      "application/vnd.jupyter.widget-view+json": {
       "model_id": "14fa204c112244448c63826ae4fd2b67",
       "version_major": 2,
       "version_minor": 0
      },
      "text/plain": [
       "Predicting: 0it [00:00, ?it/s]"
      ]
     },
     "metadata": {},
     "output_type": "display_data"
    },
    {
     "name": "stderr",
     "output_type": "stream",
     "text": [
      "LOCAL_RANK: 0 - CUDA_VISIBLE_DEVICES: [0]\n"
     ]
    },
    {
     "data": {
      "application/vnd.jupyter.widget-view+json": {
       "model_id": "6db489fe51164ce9b4cbedf4bc107bfd",
       "version_major": 2,
       "version_minor": 0
      },
      "text/plain": [
       "Predicting: 0it [00:00, ?it/s]"
      ]
     },
     "metadata": {},
     "output_type": "display_data"
    }
   ],
   "source": [
    "results = []\n",
    "first_run_results = []\n",
    "N = 20\n",
    "dliter = yielder(train_dataloader)\n",
    "with torch.no_grad():\n",
    "    for n in range(N):\n",
    "        #model.model.set_applyfunc(True)\n",
    "        model.train()\n",
    "        t_batch = next(dliter)\n",
    "        # print(torch.var(t_batch.cuda()))\n",
    "        # print(t_batch.shape)\n",
    "        model(t_batch)\n",
    "        #del t_batch\n",
    "        model.eval()\n",
    "        #model.model.set_applyfunc(False)\n",
    "        if n == 0:\n",
    "            first_run_results.append(trainer.predict(model, combined_dl))\n",
    "            results.append([r[1] for r in first_run_results[0]])\n",
    "        else:\n",
    "            ra = trainer.predict(model, combined_dl)\n",
    "            results.append([r[1] for r in ra])\n",
    "            del ra\n",
    "\n",
    "model.model.set_applyfunc(False)"
   ]
  },
  {
   "cell_type": "code",
   "execution_count": null,
   "id": "ff75f14a-3801-4367-96f8-406899f85165",
   "metadata": {},
   "outputs": [],
   "source": [
    "model.model.applyfunc"
   ]
  },
  {
   "cell_type": "code",
   "execution_count": 43,
   "id": "d3448deb-5c51-4efa-b182-70784fb07df5",
   "metadata": {},
   "outputs": [
    {
     "data": {
      "text/plain": [
       "tensor(33663)"
      ]
     },
     "execution_count": 43,
     "metadata": {},
     "output_type": "execute_result"
    }
   ],
   "source": [
    "torch.sum(results[0][1][1] != results [1][1][1])"
   ]
  },
  {
   "cell_type": "code",
   "execution_count": 44,
   "id": "7da75b62-b405-428f-bd8d-eeab66688d6d",
   "metadata": {},
   "outputs": [],
   "source": [
    "#results = trainer.predict(model, combined_dl)"
   ]
  },
  {
   "cell_type": "raw",
   "id": "b8c95239-ab1b-4650-b139-cd07c1292a05",
   "metadata": {},
   "source": [
    "# results shapes\n",
    "[batch, my_values -> [samples, mle_est, x, y]]\n",
    "samples should be shape [batch_size, samples, 1, h, w]\n",
    "mle_est should be shape [batch_size, samples, 1, h, w]\n",
    "x should be shape       [batch_size, samples, c, h, w]\n",
    "y should be shape       [batch_size, samples, 1, h, w]"
   ]
  },
  {
   "cell_type": "code",
   "execution_count": 76,
   "id": "06374052-4f4a-425d-93e7-c6e9c0eddf22",
   "metadata": {},
   "outputs": [],
   "source": [
    "# we do the [:-1] on results to drop the last batch which is of length 1\n",
    "# samples = torch.stack([r[0] for r in results[:-1]], dim=0).type(torch.float32)\n",
    "# #mle_ests = torch.stack([r[1] for r in results[:-1]], dim=0)\n",
    "# xs = torch.stack([r[2] for r in results[:-1]], dim=0)\n",
    "# ys = torch.stack([r[3] for r in results[:-1]], dim=0)\n",
    "xs = torch.stack([r[2] for r in first_run_results[0]], dim=0)\n",
    "ys = torch.stack([r[3] for r in first_run_results[0]], dim=0)"
   ]
  },
  {
   "cell_type": "code",
   "execution_count": 78,
   "id": "5c18cdc2-97c2-4299-85ee-246c34c922ed",
   "metadata": {},
   "outputs": [
    {
     "data": {
      "text/plain": [
       "torch.Size([49, 32, 3, 224, 160])"
      ]
     },
     "execution_count": 78,
     "metadata": {},
     "output_type": "execute_result"
    }
   ],
   "source": [
    "xs.shape"
   ]
  },
  {
   "cell_type": "code",
   "execution_count": 49,
   "id": "af077bc8-5ded-46e8-b40e-2a7d9274acb5",
   "metadata": {},
   "outputs": [
    {
     "data": {
      "text/plain": [
       "32"
      ]
     },
     "execution_count": 49,
     "metadata": {},
     "output_type": "execute_result"
    }
   ],
   "source": [
    "len(results[0][0])"
   ]
  },
  {
   "cell_type": "code",
   "execution_count": 62,
   "id": "dcc34388-ceab-4ef4-96ef-dd33543d5885",
   "metadata": {},
   "outputs": [],
   "source": [
    "ind_samples = [[r[i] for r in results] for i in range(len(results[0]))]\n",
    "samples = [torch.stack(i, dim=0) for i in ind_samples]"
   ]
  },
  {
   "cell_type": "code",
   "execution_count": 91,
   "id": "da5f817e-3d3c-4026-9578-cb10771f9488",
   "metadata": {},
   "outputs": [],
   "source": [
    "mle_ests = [torch.mode(ss, dim=0)[0] for ss in samples]"
   ]
  },
  {
   "cell_type": "code",
   "execution_count": 94,
   "id": "488c5edd-d5dd-4c29-a6bf-16e1f6e99b24",
   "metadata": {},
   "outputs": [],
   "source": [
    "batch = 42\n",
    "b1_sample = samples[batch]\n",
    "b1_mle_est = mle_ests[batch]\n",
    "b1_xs = xs[batch]\n",
    "b1_ys = ys[batch]"
   ]
  },
  {
   "cell_type": "code",
   "execution_count": 80,
   "id": "2dc5800c-c0b0-48b6-bfd5-ba5ca47d3c08",
   "metadata": {},
   "outputs": [],
   "source": [
    "b1_tsample = b1_sample.type(torch.float32)"
   ]
  },
  {
   "cell_type": "code",
   "execution_count": 86,
   "id": "93afe44d-fde6-4df9-b696-6cb5f9919535",
   "metadata": {},
   "outputs": [
    {
     "data": {
      "text/plain": [
       "torch.Size([20, 32, 1, 224, 160])"
      ]
     },
     "execution_count": 86,
     "metadata": {},
     "output_type": "execute_result"
    }
   ],
   "source": [
    "b1_tsample.shape"
   ]
  },
  {
   "cell_type": "code",
   "execution_count": 84,
   "id": "da0855eb-8d84-4b19-bfac-99a3a2b2837f",
   "metadata": {},
   "outputs": [
    {
     "data": {
      "image/png": "[encoded data removed]",
      "text/plain": [
       "<Figure size 432x288 with 2 Axes>"
      ]
     },
     "metadata": {
      "needs_background": "light"
     },
     "output_type": "display_data"
    }
   ],
   "source": [
    "img = 23\n",
    "plt.subplot(1,2,1)\n",
    "plt.imshow(b1_xs[img][0].squeeze(), cmap='gray')\n",
    "plt.subplot(1,2,2)\n",
    "plt.imshow(b1_ys[img].squeeze()); plt.show()"
   ]
  },
  {
   "cell_type": "code",
   "execution_count": 87,
   "id": "801e1e54-4cde-4d7b-8c1e-296c65791ca2",
   "metadata": {},
   "outputs": [
    {
     "data": {
      "image/png": "[encoded data removed]",
      "text/plain": [
       "<Figure size 1440x1440 with 20 Axes>"
      ]
     },
     "metadata": {
      "needs_background": "light"
     },
     "output_type": "display_data"
    }
   ],
   "source": [
    "# see all the samples from an index in the batch\n",
    "# this is messed up it should be 77, 16 not 16, 77\n",
    "plt.figure(figsize=(20, 20))\n",
    "for i in range(20):\n",
    "    plt.subplot(4, 5, i+1)\n",
    "    plt.imshow(torch.sigmoid(b1_tsample[i, img]).squeeze(), cmap='gray')"
   ]
  },
  {
   "cell_type": "code",
   "execution_count": 88,
   "id": "0778dd5f-461d-4dcb-899f-11af163118fe",
   "metadata": {},
   "outputs": [],
   "source": [
    "# plt.figure(figsize=(20, 20))\n",
    "# for i in range(20):\n",
    "#     plt.subplot(4, 5, i+1)\n",
    "#     plt.imshow((b1_tsample[img, i]).squeeze(), cmap='gray')"
   ]
  },
  {
   "cell_type": "code",
   "execution_count": 97,
   "id": "06323768-de32-4204-870c-022e26b5715c",
   "metadata": {},
   "outputs": [
    {
     "data": {
      "image/png": "[encoded data removed]",
      "text/plain": [
       "<Figure size 432x288 with 1 Axes>"
      ]
     },
     "metadata": {
      "needs_background": "light"
     },
     "output_type": "display_data"
    }
   ],
   "source": [
    "plt.imshow(torch.sigmoid(b1_mle_est[img].squeeze().type(torch.float32))); plt.show()"
   ]
  },
  {
   "cell_type": "code",
   "execution_count": 98,
   "id": "44b6f70d-0d0b-4357-8354-d77f6801fa44",
   "metadata": {},
   "outputs": [
    {
     "data": {
      "text/plain": [
       "(tensor(1.), tensor(0.4015))"
      ]
     },
     "execution_count": 98,
     "metadata": {},
     "output_type": "execute_result"
    }
   ],
   "source": [
    "# loss of a sample\n",
    "loss(b1_mle_est[img] > 0.5, b1_ys[img]), dice(b1_mle_est[img] > 0.5, b1_ys[img])"
   ]
  },
  {
   "cell_type": "code",
   "execution_count": 100,
   "id": "d0d617cc-de57-40f5-b808-6d1deb1d3a4c",
   "metadata": {},
   "outputs": [
    {
     "name": "stdout",
     "output_type": "stream",
     "text": [
      "warning, binning should only be applied where output is a probability\n",
      "warning: multiclass problems should be presented as single channel, value = id of class\n",
      "[0.  0.1 0.2 0.3 0.4 0.5 0.6 0.7 0.8 0.9 1. ]\n"
     ]
    },
    {
     "ename": "ValueError",
     "evalue": "non-broadcastable output operand with shape (32,1,224,160) doesn't match the broadcast shape (32,32,224,160)",
     "output_type": "error",
     "traceback": [
      "\u001b[0;31m---------------------------------------------------------------------------\u001b[0m",
      "\u001b[0;31mValueError\u001b[0m                                Traceback (most recent call last)",
      "Input \u001b[0;32mIn [100]\u001b[0m, in \u001b[0;36m<cell line: 1>\u001b[0;34m()\u001b[0m\n\u001b[0;32m----> 1\u001b[0m e \u001b[38;5;241m=\u001b[39m \u001b[43msamples_entropy_map\u001b[49m\u001b[43m(\u001b[49m\u001b[43mtorch\u001b[49m\u001b[38;5;241;43m.\u001b[39;49m\u001b[43msigmoid\u001b[49m\u001b[43m(\u001b[49m\u001b[43mb1_tsample\u001b[49m\u001b[38;5;241;43m.\u001b[39;49m\u001b[43mtype\u001b[49m\u001b[43m(\u001b[49m\u001b[43mtorch\u001b[49m\u001b[38;5;241;43m.\u001b[39;49m\u001b[43mfloat32\u001b[49m\u001b[43m)\u001b[49m\u001b[43m)\u001b[49m\u001b[43m,\u001b[49m\n\u001b[1;32m      2\u001b[0m \u001b[43m                    \u001b[49m\u001b[43mp_from_mode\u001b[49m\u001b[38;5;241;43m=\u001b[39;49m\u001b[38;5;28;43;01mTrue\u001b[39;49;00m\u001b[43m,\u001b[49m\n\u001b[1;32m      3\u001b[0m \u001b[43m                    \u001b[49m\u001b[43mthreshold_preds\u001b[49m\u001b[38;5;241;43m=\u001b[39;49m\u001b[38;5;28;43;01mFalse\u001b[39;49;00m\u001b[43m,\u001b[49m\n\u001b[1;32m      4\u001b[0m \u001b[43m                    \u001b[49m\u001b[43mpreds_threshold\u001b[49m\u001b[38;5;241;43m=\u001b[39;49m\u001b[38;5;28;43;01mNone\u001b[39;49;00m\u001b[43m,\u001b[49m\n\u001b[1;32m      5\u001b[0m \u001b[43m                    \u001b[49m\u001b[43mapply_norm\u001b[49m\u001b[38;5;241;43m=\u001b[39;49m\u001b[38;5;28;43;01mFalse\u001b[39;49;00m\u001b[43m,\u001b[49m\n\u001b[1;32m      6\u001b[0m \u001b[43m                    \u001b[49m\u001b[43mnorm_func\u001b[49m\u001b[38;5;241;43m=\u001b[39;49m\u001b[38;5;124;43m'\u001b[39;49m\u001b[38;5;124;43msigmoid\u001b[39;49m\u001b[38;5;124;43m'\u001b[39;49m\u001b[43m,\u001b[49m\n\u001b[1;32m      7\u001b[0m \u001b[43m                    \u001b[49m\u001b[43mapply_binning\u001b[49m\u001b[38;5;241;43m=\u001b[39;49m\u001b[38;5;28;43;01mTrue\u001b[39;49;00m\u001b[43m,\u001b[49m\n\u001b[1;32m      8\u001b[0m \u001b[43m                    \u001b[49m\u001b[43mbinning_dp\u001b[49m\u001b[43m \u001b[49m\u001b[38;5;241;43m=\u001b[39;49m\u001b[43m \u001b[49m\u001b[38;5;241;43m1\u001b[39;49m\u001b[43m,\u001b[49m\n\u001b[1;32m      9\u001b[0m \u001b[43m                    \u001b[49m\u001b[43msupress_warning\u001b[49m\u001b[38;5;241;43m=\u001b[39;49m\u001b[38;5;28;43;01mFalse\u001b[39;49;00m\u001b[43m,\u001b[49m\n\u001b[1;32m     10\u001b[0m \u001b[43m                    \u001b[49m\u001b[43mprint_uniques\u001b[49m\u001b[38;5;241;43m=\u001b[39;49m\u001b[38;5;28;43;01mTrue\u001b[39;49;00m\n\u001b[1;32m     11\u001b[0m \u001b[43m                   \u001b[49m\u001b[43m)\u001b[49m\n",
      "File \u001b[0;32m~/ipdis/Trustworthai-MRI-WMH/trustworthai/utils/uq/uncertainty_maps/gen_map.py:48\u001b[0m, in \u001b[0;36msamples_entropy_map\u001b[0;34m(samples, p_from_mode, threshold_preds, preds_threshold, apply_norm, norm_func, apply_binning, binning_dp, supress_warning, print_uniques)\u001b[0m\n\u001b[1;32m     45\u001b[0m         \u001b[38;5;28mprint\u001b[39m(\u001b[38;5;124m\"\u001b[39m\u001b[38;5;124mwarning, binning should only be applied where output is a probability\u001b[39m\u001b[38;5;124m\"\u001b[39m)\n\u001b[1;32m     46\u001b[0m     samples \u001b[38;5;241m=\u001b[39m np\u001b[38;5;241m.\u001b[39maround(samples, binning_dp)\n\u001b[0;32m---> 48\u001b[0m \u001b[38;5;28;01mreturn\u001b[39;00m \u001b[43mentropy\u001b[49m\u001b[43m(\u001b[49m\u001b[43msamples\u001b[49m\u001b[43m,\u001b[49m\u001b[43m \u001b[49m\u001b[43msupress_warning\u001b[49m\u001b[43m,\u001b[49m\u001b[43m \u001b[49m\u001b[43mprint_uniques\u001b[49m\u001b[43m)\u001b[49m\n",
      "File \u001b[0;32m~/ipdis/Trustworthai-MRI-WMH/trustworthai/utils/uq/uncertainty_maps/gen_map.py:69\u001b[0m, in \u001b[0;36mentropy\u001b[0;34m(samples, supress_warning, print_uniques)\u001b[0m\n\u001b[1;32m     67\u001b[0m \u001b[38;5;28;01mfor\u001b[39;00m u \u001b[38;5;129;01min\u001b[39;00m uniques:\n\u001b[1;32m     68\u001b[0m     p_m_hat \u001b[38;5;241m=\u001b[39m np\u001b[38;5;241m.\u001b[39msum([samples\u001b[38;5;241m==\u001b[39mu], axis\u001b[38;5;241m=\u001b[39m\u001b[38;5;241m-\u001b[39m\u001b[38;5;241m1\u001b[39m)\u001b[38;5;241m.\u001b[39msqueeze() \u001b[38;5;241m/\u001b[39m V\n\u001b[0;32m---> 69\u001b[0m     entropy \u001b[38;5;241m+\u001b[39m\u001b[38;5;241m=\u001b[39m \u001b[38;5;241m-\u001b[39m p_m_hat \u001b[38;5;241m*\u001b[39m np\u001b[38;5;241m.\u001b[39mma\u001b[38;5;241m.\u001b[39mlog(p_m_hat)\u001b[38;5;241m.\u001b[39mfilled(\u001b[38;5;241m0\u001b[39m) \u001b[38;5;66;03m# where p doesnt occur just fill with zeros.\u001b[39;00m\n\u001b[1;32m     70\u001b[0m \u001b[38;5;28;01mreturn\u001b[39;00m entropy\n",
      "\u001b[0;31mValueError\u001b[0m: non-broadcastable output operand with shape (32,1,224,160) doesn't match the broadcast shape (32,32,224,160)"
     ]
    }
   ],
   "source": [
    "e = samples_entropy_map(torch.sigmoid(b1_tsample.type(torch.float32)),\n",
    "                    p_from_mode=True,\n",
    "                    threshold_preds=False,\n",
    "                    preds_threshold=None,\n",
    "                    apply_norm=False,\n",
    "                    norm_func='sigmoid',\n",
    "                    apply_binning=True,\n",
    "                    binning_dp = 1,\n",
    "                    supress_warning=False,\n",
    "                    print_uniques=True\n",
    "                   )"
   ]
  },
  {
   "cell_type": "code",
   "execution_count": null,
   "id": "412b7019-8d49-49ea-95c5-058f4e068b65",
   "metadata": {},
   "outputs": [],
   "source": [
    "plt.figure(figsize=(8,8))\n",
    "plt.imshow(e.squeeze())\n",
    "plt.colorbar()\n",
    "plt.show()\n"
   ]
  },
  {
   "cell_type": "code",
   "execution_count": 163,
   "id": "be5871fa-232c-4289-b523-16bbb68e51a8",
   "metadata": {},
   "outputs": [
    {
     "name": "stdout",
     "output_type": "stream",
     "text": [
      "warning, thresholding only valid for binary class problem\n",
      "warning: multiclass problems should be presented as single channel, value = id of class\n",
      "[False  True]\n"
     ]
    }
   ],
   "source": [
    "e2 = samples_entropy_map(torch.sigmoid(b1_tsample[img].type(torch.float32)),\n",
    "                    p_from_mode=True,\n",
    "                    threshold_preds=True,\n",
    "                    preds_threshold=0.5,\n",
    "                    apply_norm=False,\n",
    "                    norm_func='sigmoid',\n",
    "                    apply_binning=False,\n",
    "                    binning_dp = 1,\n",
    "                    supress_warning=False,\n",
    "                    print_uniques=True\n",
    "                   )"
   ]
  },
  {
   "cell_type": "code",
   "execution_count": 164,
   "id": "4e722faf-ebaf-4bc0-a01d-7135dae5f871",
   "metadata": {},
   "outputs": [
    {
     "data": {
      "image/png": "[encoded data removed]",
      "text/plain": [
       "<Figure size 576x576 with 2 Axes>"
      ]
     },
     "metadata": {
      "needs_background": "light"
     },
     "output_type": "display_data"
    }
   ],
   "source": [
    "plt.figure(figsize=(8,8))\n",
    "plt.imshow(e2.squeeze())\n",
    "plt.colorbar()\n",
    "plt.show()\n"
   ]
  },
  {
   "cell_type": "markdown",
   "id": "e8c4bfa8-a72e-4a7e-9e9d-ce2c303decd7",
   "metadata": {},
   "source": [
    "### Implementing dice vs uncertainty plot"
   ]
  },
  {
   "cell_type": "code",
   "execution_count": 104,
   "id": "17318e88-ce4f-4991-8f9c-451d392b921d",
   "metadata": {},
   "outputs": [],
   "source": [
    "mle_ests = torch.stack(mle_ests)"
   ]
  },
  {
   "cell_type": "code",
   "execution_count": 105,
   "id": "e779680d-4095-464b-a3c7-0d1d401c7297",
   "metadata": {},
   "outputs": [
    {
     "data": {
      "text/plain": [
       "torch.Size([49, 32, 1, 224, 160])"
      ]
     },
     "execution_count": 105,
     "metadata": {},
     "output_type": "execute_result"
    }
   ],
   "source": [
    "ys.shape"
   ]
  },
  {
   "cell_type": "code",
   "execution_count": 106,
   "id": "40857bc4-3bdb-4410-bcd1-01817db45d2b",
   "metadata": {},
   "outputs": [],
   "source": [
    "# first a plot of dices, a batch is an image\n",
    "dices = [dice(mle_ests[b] > 0.5, ys[b]) \n",
    "         for b in range(mle_ests.shape[0])\n",
    "]"
   ]
  },
  {
   "cell_type": "code",
   "execution_count": 107,
   "id": "b821f11b-e7a0-4b76-8fd0-b1088169ced9",
   "metadata": {},
   "outputs": [],
   "source": [
    "dices_sorted = torch.sort(torch.Tensor(dices))[0]"
   ]
  },
  {
   "cell_type": "code",
   "execution_count": 108,
   "id": "be276a2f-d866-45c9-8447-5a116c1d2bf3",
   "metadata": {},
   "outputs": [
    {
     "data": {
      "text/plain": [
       "torch.return_types.sort(\n",
       "values=tensor([0.2520, 0.3794, 0.3819, 0.4314, 0.4806, 0.5102, 0.5466, 0.5783, 0.5810,\n",
       "        0.5992, 0.6017, 0.6083, 0.6187, 0.6231, 0.6424, 0.6531, 0.6602, 0.6665,\n",
       "        0.6670, 0.6705, 0.6709, 0.6717, 0.6861, 0.6876, 0.6888, 0.7012, 0.7098,\n",
       "        0.7114, 0.7127, 0.7271, 0.7283, 0.7418, 0.7661, 0.7743, 0.7746, 0.7945,\n",
       "        0.7981, 0.8006, 0.8097, 0.8101, 0.8175, 0.8232, 0.8245, 0.8299, 0.8371,\n",
       "        0.8424, 0.8741, 0.8965, 0.9302]),\n",
       "indices=tensor([28, 11, 41,  8, 36, 32, 42, 38, 13,  6, 22,  5, 10, 46, 43, 29, 45,  0,\n",
       "        23, 47, 14, 44, 30,  2,  1, 40,  3, 20, 31, 35, 12, 21, 39, 18,  7,  4,\n",
       "        48, 34, 17, 24, 15, 16, 33, 37, 26, 27,  9, 25, 19]))"
      ]
     },
     "execution_count": 108,
     "metadata": {},
     "output_type": "execute_result"
    }
   ],
   "source": [
    "torch.sort(torch.Tensor(dices))"
   ]
  },
  {
   "cell_type": "code",
   "execution_count": 109,
   "id": "7a1461f4-c300-4c61-b7cf-49b5aa20d4a7",
   "metadata": {},
   "outputs": [
    {
     "data": {
      "image/png": "[encoded data removed]",
      "text/plain": [
       "<Figure size 432x288 with 1 Axes>"
      ]
     },
     "metadata": {
      "needs_background": "light"
     },
     "output_type": "display_data"
    }
   ],
   "source": [
    "plt.scatter(np.arange(0, len(dices), 1), dices_sorted); plt.show()"
   ]
  },
  {
   "cell_type": "code",
   "execution_count": 111,
   "id": "9ee7f663-a250-4bc9-89aa-694549f9d8b6",
   "metadata": {},
   "outputs": [],
   "source": [
    "# now a plot of the VCC score\n",
    "\n",
    "def calc_VCC(sample_set, norm=True):\n",
    "    if norm:\n",
    "        sample_set = sample_set.type(torch.float32)\n",
    "        sample_set = torch.sigmoid(sample_set)\n",
    "    return torch.std(sample_set) / torch.mean(sample_set)\n",
    "\n",
    "# first a plot of dices\n",
    "VCC_norm = [calc_VCC(samples[b], norm=True) \n",
    "         for b in range(ys.shape[0])\n",
    "]\n",
    "\n",
    "VCC = [calc_VCC(samples[b], norm=False) \n",
    "         for b in range(ys.shape[0])\n",
    "]"
   ]
  },
  {
   "cell_type": "code",
   "execution_count": 112,
   "id": "8f73de5b-8056-4d4c-8d72-4fa01785b0b9",
   "metadata": {},
   "outputs": [],
   "source": [
    "pairs = np.array([(d, v) for (d, v) in zip(dices, VCC_norm) if not torch.isnan(d)])"
   ]
  },
  {
   "cell_type": "markdown",
   "id": "673c65fe-643c-498b-9827-c32bb3f613c0",
   "metadata": {},
   "source": [
    "### VCC vs Dice for Batch Normalization"
   ]
  },
  {
   "cell_type": "code",
   "execution_count": 116,
   "id": "466de8a6-24af-46ee-a69c-b238005bcadb",
   "metadata": {},
   "outputs": [
    {
     "data": {
      "image/png": "[encoded data removed]",
      "text/plain": [
       "<Figure size 432x288 with 1 Axes>"
      ]
     },
     "metadata": {
      "needs_background": "light"
     },
     "output_type": "display_data"
    }
   ],
   "source": [
    "plt.scatter(pairs[:,0], pairs[:,1]); \n",
    "plt.xlabel(\"Dice\")\n",
    "plt.ylabel(\"VCC\"); plt.show()"
   ]
  }
 ],
 "metadata": {
  "kernelspec": {
   "display_name": "Python 3 (ipykernel)",
   "language": "python",
   "name": "python3"
  },
  "language_info": {
   "codemirror_mode": {
    "name": "ipython",
    "version": 3
   },
   "file_extension": ".py",
   "mimetype": "text/x-python",
   "name": "python",
   "nbconvert_exporter": "python",
   "pygments_lexer": "ipython3",
   "version": "3.9.12"
  }
 },
 "nbformat": 4,
 "nbformat_minor": 5
}
