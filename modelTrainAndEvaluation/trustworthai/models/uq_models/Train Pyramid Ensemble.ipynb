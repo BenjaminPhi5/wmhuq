{
 "cells": [
  {
   "cell_type": "code",
   "execution_count": 1,
   "id": "9a0f17b7-2d77-4cff-b5a1-9e65edeb869e",
   "metadata": {},
   "outputs": [
    {
     "name": "stdout",
     "output_type": "stream",
     "text": [
      "strawberry\n"
     ]
    }
   ],
   "source": [
    "print(\"strawberry\")"
   ]
  },
  {
   "cell_type": "code",
   "execution_count": 8,
   "id": "c30a30ac-ab1c-47fd-b725-1e8719756516",
   "metadata": {},
   "outputs": [],
   "source": [
    "import torch\n",
    "import numpy as np\n",
    "\n",
    "# dataset\n",
    "from twaidata.torchdatasets.in_ram_ds import MRISegmentation2DDataset, MRISegmentation3DDataset\n",
    "from torch.utils.data import DataLoader, random_split, ConcatDataset\n",
    "\n",
    "# model\n",
    "from trustworthai.models.uq_models.drop_UNet import UNet\n",
    "#from trustworthai.models.uq_models.HyperMapp3r import HyperMapp3r\n",
    "from trustworthai.models.base_models.torchUNet import UNet as StandardUNet\n",
    "\n",
    "# augmentation and pretrain processing\n",
    "from trustworthai.utils.augmentation.standard_transforms import RandomFlip, GaussianBlur, GaussianNoise, \\\n",
    "                                                            RandomResizeCrop, RandomAffine, \\\n",
    "                                                            NormalizeImg, PairedCompose, LabelSelect, \\\n",
    "                                                            PairedCentreCrop, CropZDim\n",
    "# loss function\n",
    "from trustworthai.utils.losses_and_metrics.tversky_loss import TverskyLoss\n",
    "from trustworthai.utils.losses_and_metrics.misc_metrics import IOU\n",
    "from trustworthai.utils.losses_and_metrics.dice import dice, DiceMetric\n",
    "from trustworthai.utils.losses_and_metrics.dice_losses import DiceLoss, GeneralizedDiceLoss\n",
    "from trustworthai.utils.losses_and_metrics.power_jaccard_loss import PowerJaccardLoss\n",
    "from torch.nn import BCELoss, MSELoss, BCEWithLogitsLoss\n",
    "\n",
    "# fitter\n",
    "from trustworthai.utils.fitting_and_inference.fitters.basic_lightning_fitter import StandardLitModelWrapper\n",
    "from pytorch_lightning.callbacks.early_stopping import EarlyStopping\n",
    "from pytorch_lightning.callbacks.model_checkpoint import ModelCheckpoint\n",
    "import pytorch_lightning as pl\n",
    "\n",
    "# misc\n",
    "import os\n",
    "import torch\n",
    "import matplotlib.pyplot as plt\n",
    "import torch\n",
    "from torchinfo import summary"
   ]
  },
  {
   "cell_type": "markdown",
   "id": "fb0e3f18-0236-4cf8-8e26-e76661200c01",
   "metadata": {},
   "source": [
    "### Set the seed"
   ]
  },
  {
   "cell_type": "code",
   "execution_count": 9,
   "id": "a450935a-a087-4b81-816b-cd4397db8680",
   "metadata": {},
   "outputs": [],
   "source": [
    "seed = 3407\n",
    "torch.manual_seed(seed)\n",
    "torch.cuda.manual_seed_all(seed)"
   ]
  },
  {
   "cell_type": "markdown",
   "id": "7cfd568d-9fc6-4868-9d4a-617163ae6e9e",
   "metadata": {},
   "source": [
    "### define datasets and dataloaders"
   ]
  },
  {
   "cell_type": "code",
   "execution_count": 10,
   "id": "401f9272-0a3b-4670-8880-82f04714d436",
   "metadata": {},
   "outputs": [],
   "source": [
    "is3D = False"
   ]
  },
  {
   "cell_type": "code",
   "execution_count": 11,
   "id": "91099153-5471-4603-8d5e-f8079445aea1",
   "metadata": {},
   "outputs": [],
   "source": [
    "root_dir = \"/disk/scratch/s2208943/ipdis/preprep/out_data/collated/\"\n",
    "wmh_dir = root_dir + \"WMH_challenge_dataset/\"\n",
    "ed_dir = root_dir + \"EdData/\""
   ]
  },
  {
   "cell_type": "code",
   "execution_count": 12,
   "id": "74c6f9d9-dd1d-411f-a85b-26a3d82cc48a",
   "metadata": {},
   "outputs": [],
   "source": [
    "# domains = [\n",
    "#             wmh_dir + d for d in [\"Singapore\", \"Utrecht\", \"GE3T\"]\n",
    "#           ]\n",
    "\n",
    "# domains = [\n",
    "#             wmh_dir + d for d in [\"Singapore\", \"Utrecht\", \"GE3T\"]\n",
    "#           ] + [\n",
    "#             ed_dir + d for d in [\"domainA\", \"domainB\", \"domainC\", \"domainD\"]\n",
    "#           ]\n",
    "\n",
    "\n",
    "domains = [\n",
    "            ed_dir + d for d in [\"domainA\", \"domainB\", \"domainC\", \"domainD\"]\n",
    "          ]"
   ]
  },
  {
   "cell_type": "code",
   "execution_count": 13,
   "id": "d6c807e6-40f1-48bc-aed7-d395b569b138",
   "metadata": {},
   "outputs": [],
   "source": [
    "# augmentation definintion\n",
    "def get_transforms(is_3D):\n",
    "    transforms = [\n",
    "        LabelSelect(label_id=1),\n",
    "        RandomFlip(p=0.5, orientation=\"horizontal\"),\n",
    "        # GaussianBlur(p=0.5, kernel_size=7, sigma=(.1, 1.5)),\n",
    "        # GaussianNoise(p=0.2, mean=0, sigma=0.2),\n",
    "        # RandomAffine(p=0.2, shear=(.1,3.)),\n",
    "        # RandomAffine(p=0.2, degrees=5),\n",
    "        # RandomResizeCrop(p=1., scale=(0.6, 1.), ratio=(3./4., 4./3.))\n",
    "    ]\n",
    "    if not is_3D:\n",
    "        return PairedCompose(transforms)\n",
    "    else:\n",
    "        transforms.append(CropZDim(size=32, minimum=0, maximum=-1))\n",
    "        return PairedCompose(transforms)"
   ]
  },
  {
   "cell_type": "code",
   "execution_count": 14,
   "id": "e417fb72-4419-456d-b5ce-e14f0591651a",
   "metadata": {},
   "outputs": [],
   "source": [
    "# function to do train validate test split\n",
    "test_proportion = 0.1\n",
    "validation_proportion = 0.2\n",
    "\n",
    "def train_val_test_split(dataset, val_prop, test_prop, seed):\n",
    "    # I think the sklearn version might be prefereable for determinism and things\n",
    "    # but that involves fiddling with the dataset implementation I think....\n",
    "    size = len(dataset)\n",
    "    test_size = int(test_prop*size) \n",
    "    val_size = int(val_prop*size)\n",
    "    train_size = size - val_size - test_size\n",
    "    train, val, test = random_split(dataset, [train_size, val_size, test_size], generator=torch.Generator().manual_seed(seed))\n",
    "    return train, val, test"
   ]
  },
  {
   "cell_type": "code",
   "execution_count": 15,
   "id": "567c247d-2265-4012-bc80-a92b4f2adec3",
   "metadata": {},
   "outputs": [],
   "source": [
    "# load datasets\n",
    "# this step is quite slow, all the data is being loaded into memory\n",
    "if is3D:\n",
    "    datasets_domains = [MRISegmentation3DDataset(root_dir, domain, transforms=get_transforms(is_3D=True)) for domain in domains]\n",
    "else:\n",
    "    datasets_domains = [MRISegmentation2DDataset(root_dir, domain, transforms=get_transforms(is_3D=False)) for domain in domains]\n",
    "\n",
    "# split into train, val test datasets\n",
    "datasets = [train_val_test_split(dataset, validation_proportion, test_proportion, seed) for dataset in datasets_domains]\n",
    "\n",
    "# concat the train val test datsets\n",
    "train_dataset = ConcatDataset([ds[0] for ds in datasets])\n",
    "val_dataset = ConcatDataset([ds[1] for ds in datasets])\n",
    "test_dataset = ConcatDataset([ds[2] for ds in datasets])"
   ]
  },
  {
   "cell_type": "code",
   "execution_count": 16,
   "id": "52f5844a-5c39-47ff-897e-ad36de855931",
   "metadata": {},
   "outputs": [
    {
     "data": {
      "text/plain": [
       "(8743, 2497, 1248)"
      ]
     },
     "execution_count": 16,
     "metadata": {},
     "output_type": "execute_result"
    }
   ],
   "source": [
    "len(train_dataset), len(val_dataset), len(test_dataset)"
   ]
  },
  {
   "cell_type": "code",
   "execution_count": 17,
   "id": "abfe0f1c-3c76-4069-b698-d7dd2a9c67f2",
   "metadata": {
    "tags": []
   },
   "outputs": [],
   "source": [
    "# define dataloaders\n",
    "train_dataloader = DataLoader(train_dataset, batch_size=64, shuffle=True, num_workers=4)\n",
    "test_dataloader = DataLoader(test_dataset, batch_size = 16, shuffle=False, num_workers=4)\n",
    "val_dataloader = DataLoader(val_dataset, batch_size=32, shuffle=False, num_workers=4)"
   ]
  },
  {
   "cell_type": "markdown",
   "id": "71898c27-608d-4ad3-9375-7710bfeb23a5",
   "metadata": {},
   "source": [
    "### setup model"
   ]
  },
  {
   "cell_type": "code",
   "execution_count": 18,
   "id": "01a6dbac-5dfe-44bc-9b5f-fb743f7e819a",
   "metadata": {
    "jupyter": {
     "source_hidden": true
    },
    "tags": []
   },
   "outputs": [],
   "source": [
    "import torch\n",
    "import torch.nn as nn\n",
    "from trustworthai.models.uq_models.uq_model import UQModel\n",
    "from trustworthai.models.uq_models.uq_layers.uq_generic_layer import UQLayerWrapper\n",
    " \n",
    "# various dropout and dropconnect layers\n",
    "from trustworthai.models.uq_models.uq_layers.dropoutconnect import (\n",
    "    UQDropout,\n",
    "    UQDropout2d,\n",
    "    UQDropout3d,\n",
    "    UQGaussianDropout,\n",
    "    UQGaussianDropout2d,\n",
    "    UQGaussianDropout3d,\n",
    "    UQDropConnect,\n",
    "    UQDropConnect2d,\n",
    "    UQDropConnect3d,\n",
    "    UQGaussianConnect,\n",
    "    UQGaussianConnect2d,\n",
    "    UQGaussianConnect3d,\n",
    ")\n",
    "\n",
    "def normalization_layer(planes, norm='gn', gn_groups=None, dims=2, as_uq_layer=False):\n",
    "    if as_uq_layer:\n",
    "        wrapper = lambda l : UQLayerWrapper(l)\n",
    "    else:\n",
    "        wrapper = lambda x : x\n",
    "    if dims == 2:\n",
    "        if norm == \"bn\":\n",
    "            return lambda : wrapper(nn.BatchNorm2d(planes))\n",
    "        elif norm == \"gn\":\n",
    "            return lambda : wrapper(nn.GroupNorm(gn_groups, planes)) # it does 2d auomatically?\n",
    "        elif norm == \"in\":\n",
    "            return lambda : wrapper(nn.InstanceNorm2d(planes))\n",
    "        else:\n",
    "            raise ValueError(f\"norm type {norm} not supported, only 'bn', 'in', or 'gn' supported\")\n",
    "    elif dims == 3:\n",
    "        if norm == \"bn\":\n",
    "            return lambda : wrapper(nn.BatchNorm3d(planes))\n",
    "        elif norm == \"gn\":\n",
    "            return lambda : wrapper(nn.GroupNorm(gn_groups, planes)) # it does 3d automatically?\n",
    "        elif norm == \"in\":\n",
    "            return lambda : wrapper(nn.InstanceNorm3d(planes))\n",
    "        else:\n",
    "            raise ValueError(f\"norm type {norm} not supported, only 'bn', 'in', or 'gn' supported\")\n",
    "\n",
    "# custom block for selecting dropout/drop connect methods and normalization methods\n",
    "class Block(UQModel):\n",
    "    def __init__(self, \n",
    "                 in_channels,\n",
    "                 out_channels,\n",
    "                 name,\n",
    "                 dims=2, # 2 =2D, 3=3D,\n",
    "                 kernel_size=3,\n",
    "                 dropout_type=\"bernoulli\",\n",
    "                 dropout_p=0.1,\n",
    "                 gaussout_mean=1, # NOTE THE PREDICT STEP CURRENTLY ONLY SUPPORTS MEAN = 1\n",
    "                 dropconnect_type=\"bernoulli\",\n",
    "                 dropconnect_p=0.1,\n",
    "                 gaussconnect_mean=1,\n",
    "                 norm_type=\"bn\", # batch norm, or instance 'in' or group 'gn'\n",
    "                 use_uq_norm_layer=False,\n",
    "                 use_multidim_dropout=True, # use 2d or 3d dropout instead of 1d dropout. applies to gaussian dropout too\n",
    "                 use_multidim_dropconnect = True, # use 2d or 3d dropconnect instead of 1d dropconnect, applies to gaussian dropconnect too\n",
    "                 groups=1,\n",
    "                 gn_groups=4, # number of groups for group norm normalization.\n",
    "                ):\n",
    "        super().__init__()\n",
    "        \n",
    "        # determine convolution func\n",
    "        if dims == 2:\n",
    "            conv_f = nn.Conv2d\n",
    "        elif dims == 3:\n",
    "            conv_f = nn.Conv3d\n",
    "        else:\n",
    "            raise ValueError(f\"values of dims of 2 or 3 (2D or 2D conv) are supported only, not {dims}\")\n",
    "            \n",
    "        # determine dropout func\n",
    "        if dropout_type:\n",
    "            # standard dropout\n",
    "            if dropout_type == \"bernoulli\":\n",
    "                if use_multidim_dropout:\n",
    "                    if dims == 2:\n",
    "                        dropout_f = UQDropout2d\n",
    "                    else:\n",
    "                        dropout_f = UQDropout3d\n",
    "                else:\n",
    "                    dropout_f = UQDropout\n",
    "                    \n",
    "            # gaussian dropout    \n",
    "            elif dropout_type == \"gaussian\":\n",
    "                if use_multidim_dropout:\n",
    "                    if dims == 2:\n",
    "                        dropout_f = UQGaussianDropout2d\n",
    "                    elif dims == 3:\n",
    "                        dropout_f = UQGaussianDropout3d\n",
    "                else:\n",
    "                    dropout_f = UQGaussianDropout\n",
    "            else:\n",
    "                raise ValueError(f\"dropout type {dropout_type} not supported, \"\n",
    "                                 \"only 'bernoulli' or 'gaussian' are supported\")\n",
    "        # no dropout\n",
    "        else:\n",
    "            dropout_f = None\n",
    "        \n",
    "        # determine dropconnect function\n",
    "        if dropconnect_type:\n",
    "            # standard dropconnect\n",
    "            if dropconnect_type == \"bernoulli\":\n",
    "                if use_multidim_dropout:\n",
    "                    if dims == 2:\n",
    "                        dropconnect_f = UQDropConnect2d\n",
    "                    else:\n",
    "                        dropconnect_f = UQDropConnect3d\n",
    "                else:\n",
    "                    dropconnect_f = UQDropConnect\n",
    "                    \n",
    "            # gaussian dropout    \n",
    "            elif dropconnect_type == \"gaussian\":\n",
    "                if use_multidim_dropconnect:\n",
    "                    if dims == 2:\n",
    "                        dropconnect_f = UQGaussianConnect2d\n",
    "                    elif dims == 3:\n",
    "                        dropconnect_f = UQGaussianConnect3d\n",
    "                else:\n",
    "                    dropconnect_f = UQGaussianConnect\n",
    "            else:\n",
    "                raise ValueError(f\"dropconnect type {dropconnect_type} not supported, \"\n",
    "                                 \"only 'bernoulli' or 'gaussian' are supported\")\n",
    "        else:\n",
    "            dropconnect_f = None\n",
    "    \n",
    "        # determine normalization type\n",
    "        norm_layer = normalization_layer(out_channels, norm=norm_type, gn_groups=gn_groups, dims=dims, as_uq_layer=use_uq_norm_layer)\n",
    "\n",
    "        # layers needed for the forward pass\n",
    "        self.conv1 = conv_f(in_channels, out_channels, kernel_size, padding=1, bias=False)\n",
    "        if dropconnect_f:\n",
    "            if dropconnect_type == \"bernoulli\":\n",
    "                self.convout1 = dropconnect_f(self.conv1, None, dropconnect_p)\n",
    "            else:\n",
    "                self.convout1 = dropconnect_f(self.conv1, None, gaussconnect_mean, dropconnect_p)\n",
    "        else:\n",
    "            self.convout1 = self.conv1\n",
    "\n",
    "        if dropout_f:\n",
    "            if dropout_type == \"bernoulli\":\n",
    "                self.dropout1 = dropout_f(dropout_p)\n",
    "            else:\n",
    "                self.dropout1 = dropout_f(gaussout_mean, dropout_p)\n",
    "        else:\n",
    "            self.dropout1 = None\n",
    "\n",
    "        self.norm1 = norm_layer()\n",
    "\n",
    "        self.conv2 = conv_f(out_channels, out_channels, kernel_size, padding=1, bias=False)\n",
    "        if dropconnect_f:\n",
    "            if dropconnect_type == \"bernoulli\":\n",
    "                self.convout2 = dropconnect_f(self.conv2, None, dropconnect_p)\n",
    "            else:\n",
    "                self.convout2 = dropconnect_f(self.conv2, None, gaussconnect_mean, dropconnect_p)\n",
    "        else:\n",
    "            self.convout2 = self.conv2\n",
    "\n",
    "        if dropout_f:\n",
    "            if dropout_type == \"bernoulli\":\n",
    "                self.dropout2 = dropout_f(dropout_p)\n",
    "            else:\n",
    "                self.dropout2 = dropout_f(gaussout_mean, dropout_p)\n",
    "        else:\n",
    "            self.dropout2 = None\n",
    "\n",
    "        self.norm2 = norm_layer()\n",
    "\n",
    "\n",
    "        self.relu = nn.ReLU(inplace=True)\n",
    "    \n",
    "    def forward(self, x):\n",
    "        x = self.convout1(x)\n",
    "        x = self.norm1(x)\n",
    "        if self.dropout1:\n",
    "            x = self.dropout1(x)\n",
    "        x = self.relu(x)\n",
    "        \n",
    "        x = self.convout2(x)\n",
    "        x = self.norm2(x)\n",
    "        if self.dropout2:\n",
    "            x = self.dropout2(x)\n",
    "        x = self.relu(x)\n",
    "        \n",
    "        return x"
   ]
  },
  {
   "cell_type": "code",
   "execution_count": 39,
   "id": "71ff7d23-0176-4d5e-ba78-61147611abdd",
   "metadata": {
    "jupyter": {
     "source_hidden": true
    },
    "tags": []
   },
   "outputs": [],
   "source": [
    "from trustworthai.models.uq_models.uq_model import UQModel\n",
    "class PyramidUNet(UQModel):\n",
    "\n",
    "    def __init__(self, in_channels=3, out_channels=1, init_features=32, softmax=True,\n",
    "                 kernel_size=3,\n",
    "                 dropout_type=\"bernoulli\",\n",
    "                 dropout_p=0.1,\n",
    "                 gaussout_mean=1, # NOTE THE PREDICT STEP CURRENTLY ONLY SUPPORTS MEAN = 1\n",
    "                 dropconnect_type=\"bernoulli\",\n",
    "                 dropconnect_p=0.1,\n",
    "                 gaussconnect_mean=1,\n",
    "                 norm_type=\"bn\", # batch norm, or instance 'in' or group 'gn'\n",
    "                 use_uq_norm_layer=False,\n",
    "                 use_multidim_dropout = True, # use 2d or 3d dropout instead of 1d dropout. applies to gaussian dropout too\n",
    "                 use_multidim_dropconnect = True, # use 2d or 3d dropconnect instead of 1d dropconnect, applies to gaussian dropconnect too\n",
    "                 groups=1,\n",
    "                 gn_groups=4, # number of groups for group norm normalization.\n",
    "                ):\n",
    "        super().__init__()\n",
    "                 \n",
    "        block_params = {\"dims\":2, \"kernel_size\":kernel_size,\"dropout_type\":dropout_type,\n",
    "                        \"dropout_p\":dropout_p,\"gaussout_mean\":gaussout_mean,\n",
    "                        \"dropconnect_p\":dropconnect_p,\"dropconnect_type\":dropconnect_type,\"gaussconnect_mean\":gaussconnect_mean,\n",
    "                        \"norm_type\":norm_type,\"use_uq_norm_layer\":use_uq_norm_layer,\"use_multidim_dropout\":use_multidim_dropout,\n",
    "                        \"use_multidim_dropconnect\":use_multidim_dropconnect,\"groups\":groups,\n",
    "                        \"gn_groups\":gn_groups,\n",
    "                       }\n",
    "\n",
    "        features = init_features\n",
    "        self.encoder1 = Block(in_channels, features, name=\"enc1\", **block_params)\n",
    "        self.pool1 = nn.MaxPool2d(kernel_size=2, stride=2)\n",
    "        self.encoder2 = Block(features, features * 2, name=\"enc2\",**block_params)\n",
    "        self.pool2 = nn.MaxPool2d(kernel_size=2, stride=2)\n",
    "        self.encoder3 = Block(features * 2, features * 4, name=\"enc3\", **block_params)\n",
    "        self.pool3 = nn.MaxPool2d(kernel_size=2, stride=2)\n",
    "        self.encoder4 = Block(features * 4, features * 8, name=\"enc4\", **block_params)\n",
    "        self.pool4 = nn.MaxPool2d(kernel_size=2, stride=2)\n",
    "\n",
    "        self.bottleneck = Block(features * 8, features * 16, name=\"bottleneck\", **block_params)\n",
    "\n",
    "        self.upconv4 = nn.ConvTranspose2d(\n",
    "            features * 16, features * 8, kernel_size=2, stride=2\n",
    "        )\n",
    "        self.decoder4 = Block((features * 8) * 2, features * 8, name=\"dec4\", **block_params)\n",
    "        self.upconv3 = nn.ConvTranspose2d(\n",
    "            features * 8, features * 4, kernel_size=2, stride=2\n",
    "        )\n",
    "        self.decoder3 = Block((features * 4) * 2, features * 4, name=\"dec3\", **block_params)\n",
    "        self.upconv2 = nn.ConvTranspose2d(\n",
    "            features * 4, features * 2, kernel_size=2, stride=2\n",
    "        )\n",
    "        self.decoder2 = Block((features * 2) * 2, features * 2, name=\"dec2\", **block_params)\n",
    "        self.upconv1 = nn.ConvTranspose2d(\n",
    "            features * 2, features, kernel_size=2, stride=2\n",
    "        )\n",
    "        self.decoder1 = Block(features * 2, features, name=\"dec1\", **block_params)\n",
    "\n",
    "        self.conv = nn.Conv2d(\n",
    "            in_channels=features, out_channels=out_channels, kernel_size=1\n",
    "        )\n",
    "        self.do_softmax = softmax\n",
    "        \n",
    "        self.final_bottle = nn.Conv2d(in_channels=features*16, out_channels=out_channels, kernel_size=1)\n",
    "        self.final4 = nn.Conv2d(in_channels=features*8, out_channels=out_channels, kernel_size=1)\n",
    "        self.final3 = nn.Conv2d(in_channels=features*4, out_channels=out_channels, kernel_size=1)\n",
    "        self.final2 = nn.Conv2d(in_channels=features*2, out_channels=out_channels, kernel_size=1)\n",
    "        self.final1 = nn.Conv2d(in_channels=features, out_channels=out_channels,kernel_size=1)\n",
    "\n",
    "    def forward(self, x, return_layer=None):\n",
    "        #print(return_layer)\n",
    "        if return_layer == None:\n",
    "            return_layer = -1\n",
    "        curr_layer = 0\n",
    "        \n",
    "        enc1 = self.encoder1(x)\n",
    "        curr_layer += 1\n",
    "        if curr_layer == return_layer:\n",
    "            return enc1\n",
    "        \n",
    "        enc2 = self.encoder2(self.pool1(enc1))\n",
    "        curr_layer += 1\n",
    "        if curr_layer == return_layer:\n",
    "            return enc2\n",
    "        \n",
    "        enc3 = self.encoder3(self.pool2(enc2))\n",
    "        if curr_layer == return_layer:\n",
    "            return enc3\n",
    "        \n",
    "        enc4 = self.encoder4(self.pool3(enc3))\n",
    "        if curr_layer == return_layer:\n",
    "            return enc4\n",
    "        \n",
    "\n",
    "        bottleneck = self.bottleneck(self.pool4(enc4))\n",
    "        if curr_layer == return_layer:\n",
    "            return bottleneck\n",
    "        \n",
    "        out_bln = self.final_bottle(bottleneck)\n",
    "\n",
    "        dec4 = self.upconv4(bottleneck)\n",
    "        if curr_layer == return_layer:\n",
    "            return dec4\n",
    "        \n",
    "        out4 = self.final4(dec4)\n",
    "        \n",
    "        dec4 = torch.cat((dec4, enc4), dim=1)\n",
    "        \n",
    "        dec4 = self.decoder4(dec4)\n",
    "        if curr_layer == return_layer:\n",
    "            return dec4\n",
    "        \n",
    "        dec3 = self.upconv3(dec4)\n",
    "        if curr_layer == return_layer:\n",
    "            return dec3\n",
    "        \n",
    "        out3 = self.final3(dec3)\n",
    "        \n",
    "        dec3 = torch.cat((dec3, enc3), dim=1)\n",
    "        \n",
    "        dec3 = self.decoder3(dec3)\n",
    "        if curr_layer == return_layer:\n",
    "            return dec3\n",
    "        \n",
    "        dec2 = self.upconv2(dec3)\n",
    "        if curr_layer == return_layer:\n",
    "            return dec2\n",
    "        \n",
    "        out2 = self.final2(dec2)\n",
    "        \n",
    "        dec2 = torch.cat((dec2, enc2), dim=1)\n",
    "        \n",
    "        dec2 = self.decoder2(dec2)\n",
    "        if curr_layer == return_layer:\n",
    "            return dec2\n",
    "        \n",
    "        dec1 = self.upconv1(dec2)\n",
    "        if curr_layer == return_layer:\n",
    "            return dec1\n",
    "        \n",
    "        out1 = self.final1(dec1)\n",
    "        \n",
    "        dec1 = torch.cat((dec1, enc1), dim=1)\n",
    "        \n",
    "        dec1 = self.decoder1(dec1)\n",
    "        if curr_layer == return_layer:\n",
    "            return dec1\n",
    "        \n",
    "        out = self.conv(dec1)\n",
    "        \n",
    "        out1 = torch.nn.functional.interpolate(out1, out.shape[-2:], mode='bilinear')\n",
    "        out2 = torch.nn.functional.interpolate(out2, out.shape[-2:], mode='bilinear')\n",
    "        out3 = torch.nn.functional.interpolate(out3, out.shape[-2:], mode='bilinear')\n",
    "        out4 = torch.nn.functional.interpolate(out4, out.shape[-2:], mode='bilinear')\n",
    "        out_bln = torch.nn.functional.interpolate(out_bln, out.shape[-2:], mode='bilinear')\n",
    "        \n",
    "        return [out, out1, out2, out3, out4, out_bln]"
   ]
  },
  {
   "cell_type": "code",
   "execution_count": 40,
   "id": "5cf9f593-6e8a-4c26-b9de-0ae024870248",
   "metadata": {
    "tags": []
   },
   "outputs": [],
   "source": [
    "in_channels = 3\n",
    "out_channels = 1\n",
    "\n",
    "if is3D:\n",
    "    model = UNet3D(in_channels,\n",
    "                 out_channels,\n",
    "                 init_features=32,\n",
    "                 kernel_size=3,\n",
    "                 softmax=False,\n",
    "                 dropout_type=None,\n",
    "                 dropout_p=None,\n",
    "                 gaussout_mean=None, \n",
    "                 dropconnect_type=None,\n",
    "                 dropconnect_p=None,\n",
    "                 gaussconnect_mean=None,\n",
    "                 norm_type=\"bn\", \n",
    "                 use_multidim_dropout = None,  \n",
    "                 use_multidim_dropconnect = None, \n",
    "                 groups=None,\n",
    "                 gn_groups=None, \n",
    "                )\n",
    "    optimizer_params={\"lr\":2e-3}\n",
    "    lr_scheduler_params={\"step_size\":100, \"gamma\":0.5}\n",
    "else:\n",
    "    model = PyramidUNet(in_channels,\n",
    "                 out_channels,\n",
    "                 kernel_size=3,\n",
    "                 init_features=32,\n",
    "                 softmax=False,\n",
    "                 dropout_type=\"bernoulli\",\n",
    "                 dropout_p=0.1,\n",
    "                 gaussout_mean=None, \n",
    "                 dropconnect_type=\"gaussian\",\n",
    "                 dropconnect_p=0.1,\n",
    "                 gaussconnect_mean=1,\n",
    "                 norm_type=\"bn\", \n",
    "                 use_multidim_dropout = True,  \n",
    "                 use_multidim_dropconnect = True, \n",
    "                 groups=None,\n",
    "                 gn_groups=None, \n",
    "                )\n",
    "    optimizer_params={\"lr\":1e-3}\n",
    "    lr_scheduler_params={\"step_size\":30, \"gamma\":0.1}\n",
    "    # encoder_features=[16, 32, 64, 128, 256] # orig: [16, 32, 64, 128, 256]\n",
    "    # decoder_features=encoder_features[::-1][1:]\n",
    "    # model = HyperMapp3r(dims=2, in_channels=in_channels, out_channels=1, softmax=False,\n",
    "    #                    encoder_features=encoder_features,\n",
    "    #              decoder_features=decoder_features)\n",
    "    optimizer_params={\"lr\":1e-3}\n",
    "    lr_scheduler_params={\"step_size\":5, \"gamma\":0.1}\n"
   ]
  },
  {
   "cell_type": "code",
   "execution_count": 41,
   "id": "3cd3bea6-6172-47ed-9634-e82617dc9064",
   "metadata": {
    "jupyter": {
     "source_hidden": true
    },
    "tags": []
   },
   "outputs": [],
   "source": [
    "import pytorch_lightning as pl\n",
    "from pytorch_lightning.callbacks.early_stopping import EarlyStopping\n",
    "from pytorch_lightning.callbacks.model_checkpoint import ModelCheckpoint\n",
    "\n",
    "import torch\n",
    "import torch.nn as nn\n",
    "import torch.nn.functional as F\n",
    "\n",
    "class PyramidLitModelWrapper(pl.LightningModule):\n",
    "    def __init__(self, model, loss=F.cross_entropy, logging_metrics=None, optimizer_params={\"lr\":1e-3}, lr_scheduler_params={\"step_size\":30, \"gamma\":0.1}, is_uq_model=False):\n",
    "        super().__init__()\n",
    "        \"\"\"\n",
    "        logging metrics are (name, metric function)\n",
    "        \"\"\"\n",
    "        self.model = model\n",
    "        self.loss = loss\n",
    "        self.logging_metrics = nn.ModuleList(logging_metrics)\n",
    "        self.optim_params = optimizer_params\n",
    "        self.lr_scheduler_params = lr_scheduler_params\n",
    "        self.is_uq_model = False\n",
    "\n",
    "        \n",
    "    def forward(self, x, **kwargs):\n",
    "        return self.model(x, **kwargs)\n",
    "    \n",
    "    def configure_optimizers(self):\n",
    "        # optimizer and schedulers go in the configure optimizers hook\n",
    "        optimizer = torch.optim.Adam(self.parameters(), **self.optim_params)\n",
    "        lr_scheduler = torch.optim.lr_scheduler.StepLR(optimizer, **self.lr_scheduler_params)\n",
    "        return [optimizer], [lr_scheduler]\n",
    "    \n",
    "    def training_step(self, batch, batch_idx):\n",
    "        \"\"\"\n",
    "        lightning automates the training loop, \n",
    "        does epoch, back_tracking, optimizers and schedulers,\n",
    "        and metric reduction.\n",
    "        we just define how we want to process a single batch. \n",
    "        we can optionally pass optimizer_idx if we want to define multiple optimizers within the configure_optimizers\n",
    "        hook, and I presume we can add our own parameters also to functions?\n",
    "        \"\"\"\n",
    "        \n",
    "        if self.is_uq_model:\n",
    "            self.model.set_applyfunc(True)\n",
    "        \n",
    "        X, y = batch\n",
    "        y_hats = self(X)\n",
    "        loss = 0\n",
    "        for y_hat in y_hats:\n",
    "            loss += self.loss(y_hat, y)\n",
    "        self.log(\"train_loss\", loss)\n",
    "        \n",
    "        return loss\n",
    "    \n",
    "    def validation_step(self, batch, batch_idx):\n",
    "        \"\"\"\n",
    "        note: call trainer.validate() automatically loads the best checkpoint if checkpointing was enabled during fitting\n",
    "        well yes I want to enable checkpointing but will deal with that later.\n",
    "        also it does stuff like model.eval() and torch.no_grad() automatically which is nice.\n",
    "        I will need a custom eval thing to do my dropout estimation but can solve that later too.\n",
    "        \"\"\"\n",
    "        if self.is_uq_model:\n",
    "            self.model.set_applyfunc(False)\n",
    "        \n",
    "        X, y = batch\n",
    "        y_hats = self(X)\n",
    "        val_loss = 0\n",
    "        for y_hat in y_hats:\n",
    "            val_loss += self.loss(y_hat, y)\n",
    "        self.log(\"val_loss\", val_loss)\n",
    "        \n",
    "    def test_step(self, batch, batch_idx):\n",
    "        \"\"\"\n",
    "        we would need to directly call this function using the trainer\n",
    "        \"\"\"\n",
    "        \n",
    "        if self.is_uq_model:\n",
    "            self.model.set_applyfunc(False)\n",
    "        \n",
    "        X, y = batch\n",
    "        y_hats = self(X)\n",
    "        test_loss = 0\n",
    "        for y_hat in y_hats:\n",
    "            test_loss += self.loss(y_hat, y)\n",
    "        self.log(\"test_loss\", test_loss)\n",
    "        \n",
    "    def predict_step(self, batch, batch_idx):\n",
    "        \"\"\"\n",
    "        just for making predictions as opposed to collecting metrics etc\n",
    "        note to use this, we just call .predict(dataloader) and it then automates the look\n",
    "        these functions are for a single batch. Nice.\n",
    "        \"\"\"\n",
    "        X, y = batch\n",
    "        pred = self(X)\n",
    "        return pred"
   ]
  },
  {
   "cell_type": "code",
   "execution_count": 42,
   "id": "cc830c99-d2a5-4dfa-8208-2f45661255e6",
   "metadata": {},
   "outputs": [
    {
     "name": "stdout",
     "output_type": "stream",
     "text": [
      "WARNING: FOR SOME REASON PARAMETERS INSIDE DROPCONNECT BLOCKS ARE NOT REGISTERING THEIR NUMBER OF PARAMS CORRECTLY\n"
     ]
    }
   ],
   "source": [
    "print(\"WARNING: FOR SOME REASON PARAMETERS INSIDE DROPCONNECT BLOCKS ARE NOT REGISTERING THEIR NUMBER OF PARAMS CORRECTLY\")"
   ]
  },
  {
   "cell_type": "code",
   "execution_count": 43,
   "id": "d24859dc-d219-4d6f-8a17-7c9b8cb79211",
   "metadata": {
    "jupyter": {
     "source_hidden": true
    },
    "tags": []
   },
   "outputs": [
    {
     "data": {
      "text/plain": [
       "==========================================================================================\n",
       "Layer (type:depth-idx)                   Output Shape              Param #\n",
       "==========================================================================================\n",
       "PyramidUNet                              --                        --\n",
       "├─Block: 1-1                             [1, 32, 128, 128]         --\n",
       "│    └─UQGaussianConnect2d: 2-1          [1, 32, 128, 128]         --\n",
       "│    └─BatchNorm2d: 2-2                  [1, 32, 128, 128]         64\n",
       "│    └─UQDropout2d: 2-3                  [1, 32, 128, 128]         --\n",
       "│    └─ReLU: 2-4                         [1, 32, 128, 128]         --\n",
       "│    └─UQGaussianConnect2d: 2-5          [1, 32, 128, 128]         --\n",
       "│    └─BatchNorm2d: 2-6                  [1, 32, 128, 128]         64\n",
       "│    └─UQDropout2d: 2-7                  [1, 32, 128, 128]         --\n",
       "│    └─ReLU: 2-8                         [1, 32, 128, 128]         --\n",
       "├─MaxPool2d: 1-2                         [1, 32, 64, 64]           --\n",
       "├─Block: 1-3                             [1, 64, 64, 64]           --\n",
       "│    └─UQGaussianConnect2d: 2-9          [1, 64, 64, 64]           --\n",
       "│    └─BatchNorm2d: 2-10                 [1, 64, 64, 64]           128\n",
       "│    └─UQDropout2d: 2-11                 [1, 64, 64, 64]           --\n",
       "│    └─ReLU: 2-12                        [1, 64, 64, 64]           --\n",
       "│    └─UQGaussianConnect2d: 2-13         [1, 64, 64, 64]           --\n",
       "│    └─BatchNorm2d: 2-14                 [1, 64, 64, 64]           128\n",
       "│    └─UQDropout2d: 2-15                 [1, 64, 64, 64]           --\n",
       "│    └─ReLU: 2-16                        [1, 64, 64, 64]           --\n",
       "├─MaxPool2d: 1-4                         [1, 64, 32, 32]           --\n",
       "├─Block: 1-5                             [1, 128, 32, 32]          --\n",
       "│    └─UQGaussianConnect2d: 2-17         [1, 128, 32, 32]          --\n",
       "│    └─BatchNorm2d: 2-18                 [1, 128, 32, 32]          256\n",
       "│    └─UQDropout2d: 2-19                 [1, 128, 32, 32]          --\n",
       "│    └─ReLU: 2-20                        [1, 128, 32, 32]          --\n",
       "│    └─UQGaussianConnect2d: 2-21         [1, 128, 32, 32]          --\n",
       "│    └─BatchNorm2d: 2-22                 [1, 128, 32, 32]          256\n",
       "│    └─UQDropout2d: 2-23                 [1, 128, 32, 32]          --\n",
       "│    └─ReLU: 2-24                        [1, 128, 32, 32]          --\n",
       "├─MaxPool2d: 1-6                         [1, 128, 16, 16]          --\n",
       "├─Block: 1-7                             [1, 256, 16, 16]          --\n",
       "│    └─UQGaussianConnect2d: 2-25         [1, 256, 16, 16]          --\n",
       "│    └─BatchNorm2d: 2-26                 [1, 256, 16, 16]          512\n",
       "│    └─UQDropout2d: 2-27                 [1, 256, 16, 16]          --\n",
       "│    └─ReLU: 2-28                        [1, 256, 16, 16]          --\n",
       "│    └─UQGaussianConnect2d: 2-29         [1, 256, 16, 16]          --\n",
       "│    └─BatchNorm2d: 2-30                 [1, 256, 16, 16]          512\n",
       "│    └─UQDropout2d: 2-31                 [1, 256, 16, 16]          --\n",
       "│    └─ReLU: 2-32                        [1, 256, 16, 16]          --\n",
       "├─MaxPool2d: 1-8                         [1, 256, 8, 8]            --\n",
       "├─Block: 1-9                             [1, 512, 8, 8]            --\n",
       "│    └─UQGaussianConnect2d: 2-33         [1, 512, 8, 8]            --\n",
       "│    └─BatchNorm2d: 2-34                 [1, 512, 8, 8]            1,024\n",
       "│    └─UQDropout2d: 2-35                 [1, 512, 8, 8]            --\n",
       "│    └─ReLU: 2-36                        [1, 512, 8, 8]            --\n",
       "│    └─UQGaussianConnect2d: 2-37         [1, 512, 8, 8]            --\n",
       "│    └─BatchNorm2d: 2-38                 [1, 512, 8, 8]            1,024\n",
       "│    └─UQDropout2d: 2-39                 [1, 512, 8, 8]            --\n",
       "│    └─ReLU: 2-40                        [1, 512, 8, 8]            --\n",
       "├─Conv2d: 1-10                           [1, 1, 8, 8]              513\n",
       "├─ConvTranspose2d: 1-11                  [1, 256, 16, 16]          524,544\n",
       "├─Conv2d: 1-12                           [1, 1, 16, 16]            257\n",
       "├─Block: 1-13                            [1, 256, 16, 16]          --\n",
       "│    └─UQGaussianConnect2d: 2-41         [1, 256, 16, 16]          --\n",
       "│    └─BatchNorm2d: 2-42                 [1, 256, 16, 16]          512\n",
       "│    └─UQDropout2d: 2-43                 [1, 256, 16, 16]          --\n",
       "│    └─ReLU: 2-44                        [1, 256, 16, 16]          --\n",
       "│    └─UQGaussianConnect2d: 2-45         [1, 256, 16, 16]          --\n",
       "│    └─BatchNorm2d: 2-46                 [1, 256, 16, 16]          512\n",
       "│    └─UQDropout2d: 2-47                 [1, 256, 16, 16]          --\n",
       "│    └─ReLU: 2-48                        [1, 256, 16, 16]          --\n",
       "├─ConvTranspose2d: 1-14                  [1, 128, 32, 32]          131,200\n",
       "├─Conv2d: 1-15                           [1, 1, 32, 32]            129\n",
       "├─Block: 1-16                            [1, 128, 32, 32]          --\n",
       "│    └─UQGaussianConnect2d: 2-49         [1, 128, 32, 32]          --\n",
       "│    └─BatchNorm2d: 2-50                 [1, 128, 32, 32]          256\n",
       "│    └─UQDropout2d: 2-51                 [1, 128, 32, 32]          --\n",
       "│    └─ReLU: 2-52                        [1, 128, 32, 32]          --\n",
       "│    └─UQGaussianConnect2d: 2-53         [1, 128, 32, 32]          --\n",
       "│    └─BatchNorm2d: 2-54                 [1, 128, 32, 32]          256\n",
       "│    └─UQDropout2d: 2-55                 [1, 128, 32, 32]          --\n",
       "│    └─ReLU: 2-56                        [1, 128, 32, 32]          --\n",
       "├─ConvTranspose2d: 1-17                  [1, 64, 64, 64]           32,832\n",
       "├─Conv2d: 1-18                           [1, 1, 64, 64]            65\n",
       "├─Block: 1-19                            [1, 64, 64, 64]           --\n",
       "│    └─UQGaussianConnect2d: 2-57         [1, 64, 64, 64]           --\n",
       "│    └─BatchNorm2d: 2-58                 [1, 64, 64, 64]           128\n",
       "│    └─UQDropout2d: 2-59                 [1, 64, 64, 64]           --\n",
       "│    └─ReLU: 2-60                        [1, 64, 64, 64]           --\n",
       "│    └─UQGaussianConnect2d: 2-61         [1, 64, 64, 64]           --\n",
       "│    └─BatchNorm2d: 2-62                 [1, 64, 64, 64]           128\n",
       "│    └─UQDropout2d: 2-63                 [1, 64, 64, 64]           --\n",
       "│    └─ReLU: 2-64                        [1, 64, 64, 64]           --\n",
       "├─ConvTranspose2d: 1-20                  [1, 32, 128, 128]         8,224\n",
       "├─Conv2d: 1-21                           [1, 1, 128, 128]          33\n",
       "├─Block: 1-22                            [1, 32, 128, 128]         --\n",
       "│    └─UQGaussianConnect2d: 2-65         [1, 32, 128, 128]         --\n",
       "│    └─BatchNorm2d: 2-66                 [1, 32, 128, 128]         64\n",
       "│    └─UQDropout2d: 2-67                 [1, 32, 128, 128]         --\n",
       "│    └─ReLU: 2-68                        [1, 32, 128, 128]         --\n",
       "│    └─UQGaussianConnect2d: 2-69         [1, 32, 128, 128]         --\n",
       "│    └─BatchNorm2d: 2-70                 [1, 32, 128, 128]         64\n",
       "│    └─UQDropout2d: 2-71                 [1, 32, 128, 128]         --\n",
       "│    └─ReLU: 2-72                        [1, 32, 128, 128]         --\n",
       "├─Conv2d: 1-23                           [1, 1, 128, 128]          33\n",
       "==========================================================================================\n",
       "Total params: 703,718\n",
       "Trainable params: 703,718\n",
       "Non-trainable params: 0\n",
       "Total mult-adds (M): 539.44\n",
       "==========================================================================================\n",
       "Input size (MB): 0.20\n",
       "Forward/backward pass size (MB): 40.15\n",
       "Params size (MB): 2.81\n",
       "Estimated Total Size (MB): 43.16\n",
       "=========================================================================================="
      ]
     },
     "execution_count": 43,
     "metadata": {},
     "output_type": "execute_result"
    }
   ],
   "source": [
    "summary(model, (1, 3, 128, 128))"
   ]
  },
  {
   "cell_type": "code",
   "execution_count": 44,
   "id": "5d139f55-4aa6-4a99-94e6-212d88d6e69d",
   "metadata": {},
   "outputs": [],
   "source": [
    "loss = GeneralizedDiceLoss(normalization='sigmoid')"
   ]
  },
  {
   "cell_type": "code",
   "execution_count": 45,
   "id": "e60ae5da-3073-4c42-86b1-753fc874b272",
   "metadata": {},
   "outputs": [],
   "source": [
    "model = PyramidLitModelWrapper(model, loss, \n",
    "                                optimizer_params=optimizer_params,\n",
    "                                lr_scheduler_params=lr_scheduler_params,\n",
    "                                is_uq_model=True\n",
    "                               )"
   ]
  },
  {
   "cell_type": "code",
   "execution_count": 46,
   "id": "669b2864-efcf-4e7b-bbd8-ea20000f128c",
   "metadata": {},
   "outputs": [
    {
     "name": "stderr",
     "output_type": "stream",
     "text": [
      "Using 16bit native Automatic Mixed Precision (AMP)\n",
      "GPU available: True, used: True\n",
      "TPU available: False, using: 0 TPU cores\n",
      "IPU available: False, using: 0 IPUs\n",
      "HPU available: False, using: 0 HPUs\n"
     ]
    }
   ],
   "source": [
    "checkpoint_dir = \"/disk/scratch/s2208943/results/\"\n",
    "strategy = None\n",
    "# strategy = \"deepspeed_stage_2\"\n",
    "# strategy = \"dp\"\n",
    "#strategy = \"deepspeed_stage_2_offload\"\n",
    "\n",
    "accelerator=\"gpu\"\n",
    "devices=1\n",
    "max_epochs=1000\n",
    "precision = 16\n",
    "\n",
    "checkpoint_callback = ModelCheckpoint(checkpoint_dir, save_top_k=2, monitor=\"val_loss\")\n",
    "early_stop_callback = EarlyStopping(monitor=\"val_loss\", min_delta=0.00, patience=100, verbose=\"False\", mode=\"min\", check_finite=True)\n",
    "trainer = pl.Trainer(\n",
    "    callbacks=[checkpoint_callback, early_stop_callback],\n",
    "    accelerator=accelerator,\n",
    "    devices=devices,\n",
    "    max_epochs=max_epochs,\n",
    "    strategy=strategy,\n",
    "    precision=precision,\n",
    "    default_root_dir=checkpoint_dir\n",
    ")\n"
   ]
  },
  {
   "cell_type": "markdown",
   "id": "c1de0353-be84-4764-b89e-8326d6d2b021",
   "metadata": {},
   "source": [
    "### train"
   ]
  },
  {
   "cell_type": "code",
   "execution_count": 47,
   "id": "22b84231-df5d-4cb4-ae82-2dc586ebb311",
   "metadata": {},
   "outputs": [
    {
     "name": "stderr",
     "output_type": "stream",
     "text": [
      "/home/s2208943/miniconda3/envs/ip/lib/python3.9/site-packages/pytorch_lightning/callbacks/model_checkpoint.py:611: UserWarning: Checkpoint directory /disk/scratch/s2208943/results exists and is not empty.\n",
      "  rank_zero_warn(f\"Checkpoint directory {dirpath} exists and is not empty.\")\n",
      "LOCAL_RANK: 0 - CUDA_VISIBLE_DEVICES: [0]\n",
      "\n",
      "  | Name            | Type                | Params\n",
      "--------------------------------------------------------\n",
      "0 | model           | PyramidUNet         | 14.8 M\n",
      "1 | loss            | GeneralizedDiceLoss | 0     \n",
      "2 | logging_metrics | ModuleList          | 0     \n",
      "--------------------------------------------------------\n",
      "14.8 M    Trainable params\n",
      "0         Non-trainable params\n",
      "14.8 M    Total params\n",
      "29.649    Total estimated model params size (MB)\n"
     ]
    },
    {
     "data": {
      "application/vnd.jupyter.widget-view+json": {
       "model_id": "",
       "version_major": 2,
       "version_minor": 0
      },
      "text/plain": [
       "Sanity Checking: 0it [00:00, ?it/s]"
      ]
     },
     "metadata": {},
     "output_type": "display_data"
    },
    {
     "data": {
      "application/vnd.jupyter.widget-view+json": {
       "model_id": "9e60b247d75f40eca58f10c5b7a3d73a",
       "version_major": 2,
       "version_minor": 0
      },
      "text/plain": [
       "Training: 0it [00:00, ?it/s]"
      ]
     },
     "metadata": {},
     "output_type": "display_data"
    },
    {
     "data": {
      "application/vnd.jupyter.widget-view+json": {
       "model_id": "",
       "version_major": 2,
       "version_minor": 0
      },
      "text/plain": [
       "Validation: 0it [00:00, ?it/s]"
      ]
     },
     "metadata": {},
     "output_type": "display_data"
    },
    {
     "name": "stderr",
     "output_type": "stream",
     "text": [
      "Metric val_loss improved. New best score: 4.830\n"
     ]
    },
    {
     "data": {
      "application/vnd.jupyter.widget-view+json": {
       "model_id": "",
       "version_major": 2,
       "version_minor": 0
      },
      "text/plain": [
       "Validation: 0it [00:00, ?it/s]"
      ]
     },
     "metadata": {},
     "output_type": "display_data"
    },
    {
     "name": "stderr",
     "output_type": "stream",
     "text": [
      "Metric val_loss improved by 0.961 >= min_delta = 0.0. New best score: 3.869\n"
     ]
    },
    {
     "data": {
      "application/vnd.jupyter.widget-view+json": {
       "model_id": "",
       "version_major": 2,
       "version_minor": 0
      },
      "text/plain": [
       "Validation: 0it [00:00, ?it/s]"
      ]
     },
     "metadata": {},
     "output_type": "display_data"
    },
    {
     "name": "stderr",
     "output_type": "stream",
     "text": [
      "Metric val_loss improved by 0.133 >= min_delta = 0.0. New best score: 3.736\n"
     ]
    },
    {
     "data": {
      "application/vnd.jupyter.widget-view+json": {
       "model_id": "",
       "version_major": 2,
       "version_minor": 0
      },
      "text/plain": [
       "Validation: 0it [00:00, ?it/s]"
      ]
     },
     "metadata": {},
     "output_type": "display_data"
    },
    {
     "name": "stderr",
     "output_type": "stream",
     "text": [
      "Metric val_loss improved by 0.178 >= min_delta = 0.0. New best score: 3.558\n"
     ]
    },
    {
     "data": {
      "application/vnd.jupyter.widget-view+json": {
       "model_id": "",
       "version_major": 2,
       "version_minor": 0
      },
      "text/plain": [
       "Validation: 0it [00:00, ?it/s]"
      ]
     },
     "metadata": {},
     "output_type": "display_data"
    },
    {
     "name": "stderr",
     "output_type": "stream",
     "text": [
      "Metric val_loss improved by 0.124 >= min_delta = 0.0. New best score: 3.435\n"
     ]
    },
    {
     "data": {
      "application/vnd.jupyter.widget-view+json": {
       "model_id": "",
       "version_major": 2,
       "version_minor": 0
      },
      "text/plain": [
       "Validation: 0it [00:00, ?it/s]"
      ]
     },
     "metadata": {},
     "output_type": "display_data"
    },
    {
     "data": {
      "application/vnd.jupyter.widget-view+json": {
       "model_id": "",
       "version_major": 2,
       "version_minor": 0
      },
      "text/plain": [
       "Validation: 0it [00:00, ?it/s]"
      ]
     },
     "metadata": {},
     "output_type": "display_data"
    },
    {
     "name": "stderr",
     "output_type": "stream",
     "text": [
      "Metric val_loss improved by 0.021 >= min_delta = 0.0. New best score: 3.414\n"
     ]
    },
    {
     "data": {
      "application/vnd.jupyter.widget-view+json": {
       "model_id": "",
       "version_major": 2,
       "version_minor": 0
      },
      "text/plain": [
       "Validation: 0it [00:00, ?it/s]"
      ]
     },
     "metadata": {},
     "output_type": "display_data"
    },
    {
     "name": "stderr",
     "output_type": "stream",
     "text": [
      "Metric val_loss improved by 0.049 >= min_delta = 0.0. New best score: 3.365\n"
     ]
    },
    {
     "data": {
      "application/vnd.jupyter.widget-view+json": {
       "model_id": "",
       "version_major": 2,
       "version_minor": 0
      },
      "text/plain": [
       "Validation: 0it [00:00, ?it/s]"
      ]
     },
     "metadata": {},
     "output_type": "display_data"
    },
    {
     "data": {
      "application/vnd.jupyter.widget-view+json": {
       "model_id": "",
       "version_major": 2,
       "version_minor": 0
      },
      "text/plain": [
       "Validation: 0it [00:00, ?it/s]"
      ]
     },
     "metadata": {},
     "output_type": "display_data"
    },
    {
     "name": "stderr",
     "output_type": "stream",
     "text": [
      "Metric val_loss improved by 0.043 >= min_delta = 0.0. New best score: 3.322\n"
     ]
    },
    {
     "data": {
      "application/vnd.jupyter.widget-view+json": {
       "model_id": "",
       "version_major": 2,
       "version_minor": 0
      },
      "text/plain": [
       "Validation: 0it [00:00, ?it/s]"
      ]
     },
     "metadata": {},
     "output_type": "display_data"
    },
    {
     "data": {
      "application/vnd.jupyter.widget-view+json": {
       "model_id": "",
       "version_major": 2,
       "version_minor": 0
      },
      "text/plain": [
       "Validation: 0it [00:00, ?it/s]"
      ]
     },
     "metadata": {},
     "output_type": "display_data"
    },
    {
     "data": {
      "application/vnd.jupyter.widget-view+json": {
       "model_id": "",
       "version_major": 2,
       "version_minor": 0
      },
      "text/plain": [
       "Validation: 0it [00:00, ?it/s]"
      ]
     },
     "metadata": {},
     "output_type": "display_data"
    },
    {
     "data": {
      "application/vnd.jupyter.widget-view+json": {
       "model_id": "",
       "version_major": 2,
       "version_minor": 0
      },
      "text/plain": [
       "Validation: 0it [00:00, ?it/s]"
      ]
     },
     "metadata": {},
     "output_type": "display_data"
    },
    {
     "data": {
      "application/vnd.jupyter.widget-view+json": {
       "model_id": "",
       "version_major": 2,
       "version_minor": 0
      },
      "text/plain": [
       "Validation: 0it [00:00, ?it/s]"
      ]
     },
     "metadata": {},
     "output_type": "display_data"
    },
    {
     "data": {
      "application/vnd.jupyter.widget-view+json": {
       "model_id": "",
       "version_major": 2,
       "version_minor": 0
      },
      "text/plain": [
       "Validation: 0it [00:00, ?it/s]"
      ]
     },
     "metadata": {},
     "output_type": "display_data"
    },
    {
     "data": {
      "application/vnd.jupyter.widget-view+json": {
       "model_id": "",
       "version_major": 2,
       "version_minor": 0
      },
      "text/plain": [
       "Validation: 0it [00:00, ?it/s]"
      ]
     },
     "metadata": {},
     "output_type": "display_data"
    },
    {
     "data": {
      "application/vnd.jupyter.widget-view+json": {
       "model_id": "",
       "version_major": 2,
       "version_minor": 0
      },
      "text/plain": [
       "Validation: 0it [00:00, ?it/s]"
      ]
     },
     "metadata": {},
     "output_type": "display_data"
    },
    {
     "data": {
      "application/vnd.jupyter.widget-view+json": {
       "model_id": "",
       "version_major": 2,
       "version_minor": 0
      },
      "text/plain": [
       "Validation: 0it [00:00, ?it/s]"
      ]
     },
     "metadata": {},
     "output_type": "display_data"
    },
    {
     "data": {
      "application/vnd.jupyter.widget-view+json": {
       "model_id": "",
       "version_major": 2,
       "version_minor": 0
      },
      "text/plain": [
       "Validation: 0it [00:00, ?it/s]"
      ]
     },
     "metadata": {},
     "output_type": "display_data"
    },
    {
     "data": {
      "application/vnd.jupyter.widget-view+json": {
       "model_id": "",
       "version_major": 2,
       "version_minor": 0
      },
      "text/plain": [
       "Validation: 0it [00:00, ?it/s]"
      ]
     },
     "metadata": {},
     "output_type": "display_data"
    },
    {
     "data": {
      "application/vnd.jupyter.widget-view+json": {
       "model_id": "",
       "version_major": 2,
       "version_minor": 0
      },
      "text/plain": [
       "Validation: 0it [00:00, ?it/s]"
      ]
     },
     "metadata": {},
     "output_type": "display_data"
    },
    {
     "data": {
      "application/vnd.jupyter.widget-view+json": {
       "model_id": "",
       "version_major": 2,
       "version_minor": 0
      },
      "text/plain": [
       "Validation: 0it [00:00, ?it/s]"
      ]
     },
     "metadata": {},
     "output_type": "display_data"
    },
    {
     "data": {
      "application/vnd.jupyter.widget-view+json": {
       "model_id": "",
       "version_major": 2,
       "version_minor": 0
      },
      "text/plain": [
       "Validation: 0it [00:00, ?it/s]"
      ]
     },
     "metadata": {},
     "output_type": "display_data"
    },
    {
     "data": {
      "application/vnd.jupyter.widget-view+json": {
       "model_id": "",
       "version_major": 2,
       "version_minor": 0
      },
      "text/plain": [
       "Validation: 0it [00:00, ?it/s]"
      ]
     },
     "metadata": {},
     "output_type": "display_data"
    },
    {
     "data": {
      "application/vnd.jupyter.widget-view+json": {
       "model_id": "",
       "version_major": 2,
       "version_minor": 0
      },
      "text/plain": [
       "Validation: 0it [00:00, ?it/s]"
      ]
     },
     "metadata": {},
     "output_type": "display_data"
    },
    {
     "data": {
      "application/vnd.jupyter.widget-view+json": {
       "model_id": "",
       "version_major": 2,
       "version_minor": 0
      },
      "text/plain": [
       "Validation: 0it [00:00, ?it/s]"
      ]
     },
     "metadata": {},
     "output_type": "display_data"
    },
    {
     "data": {
      "application/vnd.jupyter.widget-view+json": {
       "model_id": "",
       "version_major": 2,
       "version_minor": 0
      },
      "text/plain": [
       "Validation: 0it [00:00, ?it/s]"
      ]
     },
     "metadata": {},
     "output_type": "display_data"
    },
    {
     "data": {
      "application/vnd.jupyter.widget-view+json": {
       "model_id": "",
       "version_major": 2,
       "version_minor": 0
      },
      "text/plain": [
       "Validation: 0it [00:00, ?it/s]"
      ]
     },
     "metadata": {},
     "output_type": "display_data"
    },
    {
     "data": {
      "application/vnd.jupyter.widget-view+json": {
       "model_id": "",
       "version_major": 2,
       "version_minor": 0
      },
      "text/plain": [
       "Validation: 0it [00:00, ?it/s]"
      ]
     },
     "metadata": {},
     "output_type": "display_data"
    },
    {
     "data": {
      "application/vnd.jupyter.widget-view+json": {
       "model_id": "",
       "version_major": 2,
       "version_minor": 0
      },
      "text/plain": [
       "Validation: 0it [00:00, ?it/s]"
      ]
     },
     "metadata": {},
     "output_type": "display_data"
    },
    {
     "data": {
      "application/vnd.jupyter.widget-view+json": {
       "model_id": "",
       "version_major": 2,
       "version_minor": 0
      },
      "text/plain": [
       "Validation: 0it [00:00, ?it/s]"
      ]
     },
     "metadata": {},
     "output_type": "display_data"
    },
    {
     "data": {
      "application/vnd.jupyter.widget-view+json": {
       "model_id": "",
       "version_major": 2,
       "version_minor": 0
      },
      "text/plain": [
       "Validation: 0it [00:00, ?it/s]"
      ]
     },
     "metadata": {},
     "output_type": "display_data"
    },
    {
     "data": {
      "application/vnd.jupyter.widget-view+json": {
       "model_id": "",
       "version_major": 2,
       "version_minor": 0
      },
      "text/plain": [
       "Validation: 0it [00:00, ?it/s]"
      ]
     },
     "metadata": {},
     "output_type": "display_data"
    },
    {
     "data": {
      "application/vnd.jupyter.widget-view+json": {
       "model_id": "",
       "version_major": 2,
       "version_minor": 0
      },
      "text/plain": [
       "Validation: 0it [00:00, ?it/s]"
      ]
     },
     "metadata": {},
     "output_type": "display_data"
    },
    {
     "data": {
      "application/vnd.jupyter.widget-view+json": {
       "model_id": "",
       "version_major": 2,
       "version_minor": 0
      },
      "text/plain": [
       "Validation: 0it [00:00, ?it/s]"
      ]
     },
     "metadata": {},
     "output_type": "display_data"
    },
    {
     "data": {
      "application/vnd.jupyter.widget-view+json": {
       "model_id": "",
       "version_major": 2,
       "version_minor": 0
      },
      "text/plain": [
       "Validation: 0it [00:00, ?it/s]"
      ]
     },
     "metadata": {},
     "output_type": "display_data"
    },
    {
     "data": {
      "application/vnd.jupyter.widget-view+json": {
       "model_id": "",
       "version_major": 2,
       "version_minor": 0
      },
      "text/plain": [
       "Validation: 0it [00:00, ?it/s]"
      ]
     },
     "metadata": {},
     "output_type": "display_data"
    },
    {
     "data": {
      "application/vnd.jupyter.widget-view+json": {
       "model_id": "",
       "version_major": 2,
       "version_minor": 0
      },
      "text/plain": [
       "Validation: 0it [00:00, ?it/s]"
      ]
     },
     "metadata": {},
     "output_type": "display_data"
    },
    {
     "data": {
      "application/vnd.jupyter.widget-view+json": {
       "model_id": "",
       "version_major": 2,
       "version_minor": 0
      },
      "text/plain": [
       "Validation: 0it [00:00, ?it/s]"
      ]
     },
     "metadata": {},
     "output_type": "display_data"
    },
    {
     "data": {
      "application/vnd.jupyter.widget-view+json": {
       "model_id": "",
       "version_major": 2,
       "version_minor": 0
      },
      "text/plain": [
       "Validation: 0it [00:00, ?it/s]"
      ]
     },
     "metadata": {},
     "output_type": "display_data"
    },
    {
     "data": {
      "application/vnd.jupyter.widget-view+json": {
       "model_id": "",
       "version_major": 2,
       "version_minor": 0
      },
      "text/plain": [
       "Validation: 0it [00:00, ?it/s]"
      ]
     },
     "metadata": {},
     "output_type": "display_data"
    },
    {
     "data": {
      "application/vnd.jupyter.widget-view+json": {
       "model_id": "",
       "version_major": 2,
       "version_minor": 0
      },
      "text/plain": [
       "Validation: 0it [00:00, ?it/s]"
      ]
     },
     "metadata": {},
     "output_type": "display_data"
    },
    {
     "data": {
      "application/vnd.jupyter.widget-view+json": {
       "model_id": "",
       "version_major": 2,
       "version_minor": 0
      },
      "text/plain": [
       "Validation: 0it [00:00, ?it/s]"
      ]
     },
     "metadata": {},
     "output_type": "display_data"
    },
    {
     "data": {
      "application/vnd.jupyter.widget-view+json": {
       "model_id": "",
       "version_major": 2,
       "version_minor": 0
      },
      "text/plain": [
       "Validation: 0it [00:00, ?it/s]"
      ]
     },
     "metadata": {},
     "output_type": "display_data"
    },
    {
     "data": {
      "application/vnd.jupyter.widget-view+json": {
       "model_id": "",
       "version_major": 2,
       "version_minor": 0
      },
      "text/plain": [
       "Validation: 0it [00:00, ?it/s]"
      ]
     },
     "metadata": {},
     "output_type": "display_data"
    },
    {
     "data": {
      "application/vnd.jupyter.widget-view+json": {
       "model_id": "",
       "version_major": 2,
       "version_minor": 0
      },
      "text/plain": [
       "Validation: 0it [00:00, ?it/s]"
      ]
     },
     "metadata": {},
     "output_type": "display_data"
    },
    {
     "data": {
      "application/vnd.jupyter.widget-view+json": {
       "model_id": "",
       "version_major": 2,
       "version_minor": 0
      },
      "text/plain": [
       "Validation: 0it [00:00, ?it/s]"
      ]
     },
     "metadata": {},
     "output_type": "display_data"
    },
    {
     "data": {
      "application/vnd.jupyter.widget-view+json": {
       "model_id": "",
       "version_major": 2,
       "version_minor": 0
      },
      "text/plain": [
       "Validation: 0it [00:00, ?it/s]"
      ]
     },
     "metadata": {},
     "output_type": "display_data"
    },
    {
     "data": {
      "application/vnd.jupyter.widget-view+json": {
       "model_id": "",
       "version_major": 2,
       "version_minor": 0
      },
      "text/plain": [
       "Validation: 0it [00:00, ?it/s]"
      ]
     },
     "metadata": {},
     "output_type": "display_data"
    },
    {
     "data": {
      "application/vnd.jupyter.widget-view+json": {
       "model_id": "",
       "version_major": 2,
       "version_minor": 0
      },
      "text/plain": [
       "Validation: 0it [00:00, ?it/s]"
      ]
     },
     "metadata": {},
     "output_type": "display_data"
    },
    {
     "data": {
      "application/vnd.jupyter.widget-view+json": {
       "model_id": "",
       "version_major": 2,
       "version_minor": 0
      },
      "text/plain": [
       "Validation: 0it [00:00, ?it/s]"
      ]
     },
     "metadata": {},
     "output_type": "display_data"
    },
    {
     "data": {
      "application/vnd.jupyter.widget-view+json": {
       "model_id": "",
       "version_major": 2,
       "version_minor": 0
      },
      "text/plain": [
       "Validation: 0it [00:00, ?it/s]"
      ]
     },
     "metadata": {},
     "output_type": "display_data"
    },
    {
     "data": {
      "application/vnd.jupyter.widget-view+json": {
       "model_id": "",
       "version_major": 2,
       "version_minor": 0
      },
      "text/plain": [
       "Validation: 0it [00:00, ?it/s]"
      ]
     },
     "metadata": {},
     "output_type": "display_data"
    },
    {
     "data": {
      "application/vnd.jupyter.widget-view+json": {
       "model_id": "",
       "version_major": 2,
       "version_minor": 0
      },
      "text/plain": [
       "Validation: 0it [00:00, ?it/s]"
      ]
     },
     "metadata": {},
     "output_type": "display_data"
    },
    {
     "data": {
      "application/vnd.jupyter.widget-view+json": {
       "model_id": "",
       "version_major": 2,
       "version_minor": 0
      },
      "text/plain": [
       "Validation: 0it [00:00, ?it/s]"
      ]
     },
     "metadata": {},
     "output_type": "display_data"
    },
    {
     "data": {
      "application/vnd.jupyter.widget-view+json": {
       "model_id": "",
       "version_major": 2,
       "version_minor": 0
      },
      "text/plain": [
       "Validation: 0it [00:00, ?it/s]"
      ]
     },
     "metadata": {},
     "output_type": "display_data"
    },
    {
     "data": {
      "application/vnd.jupyter.widget-view+json": {
       "model_id": "",
       "version_major": 2,
       "version_minor": 0
      },
      "text/plain": [
       "Validation: 0it [00:00, ?it/s]"
      ]
     },
     "metadata": {},
     "output_type": "display_data"
    },
    {
     "data": {
      "application/vnd.jupyter.widget-view+json": {
       "model_id": "",
       "version_major": 2,
       "version_minor": 0
      },
      "text/plain": [
       "Validation: 0it [00:00, ?it/s]"
      ]
     },
     "metadata": {},
     "output_type": "display_data"
    },
    {
     "data": {
      "application/vnd.jupyter.widget-view+json": {
       "model_id": "",
       "version_major": 2,
       "version_minor": 0
      },
      "text/plain": [
       "Validation: 0it [00:00, ?it/s]"
      ]
     },
     "metadata": {},
     "output_type": "display_data"
    },
    {
     "name": "stderr",
     "output_type": "stream",
     "text": [
      "/home/s2208943/miniconda3/envs/ip/lib/python3.9/site-packages/pytorch_lightning/trainer/trainer.py:724: UserWarning: Detected KeyboardInterrupt, attempting graceful shutdown...\n",
      "  rank_zero_warn(\"Detected KeyboardInterrupt, attempting graceful shutdown...\")\n"
     ]
    }
   ],
   "source": [
    "trainer.fit(model, train_dataloader, val_dataloader)"
   ]
  },
  {
   "cell_type": "code",
   "execution_count": 79,
   "id": "50feb889-67c0-4d89-818a-159ff7e3daa9",
   "metadata": {},
   "outputs": [
    {
     "name": "stderr",
     "output_type": "stream",
     "text": [
      "Restoring states from the checkpoint path at /disk/scratch/s2208943/results/epoch=9-step=1370.ckpt\n",
      "LOCAL_RANK: 0 - CUDA_VISIBLE_DEVICES: [0]\n",
      "Loaded model weights from checkpoint at /disk/scratch/s2208943/results/epoch=9-step=1370.ckpt\n"
     ]
    },
    {
     "data": {
      "application/vnd.jupyter.widget-view+json": {
       "model_id": "ee4d989d6ff146e5833562028e5ec64b",
       "version_major": 2,
       "version_minor": 0
      },
      "text/plain": [
       "Validation: 0it [00:00, ?it/s]"
      ]
     },
     "metadata": {},
     "output_type": "display_data"
    },
    {
     "name": "stdout",
     "output_type": "stream",
     "text": [
      "────────────────────────────────────────────────────────────────────────────────────────────────────────────────────────\n",
      "     Validate metric           DataLoader 0\n",
      "────────────────────────────────────────────────────────────────────────────────────────────────────────────────────────\n",
      "        val_loss            3.3639798164367676\n",
      "────────────────────────────────────────────────────────────────────────────────────────────────────────────────────────\n"
     ]
    },
    {
     "data": {
      "text/plain": [
       "[{'val_loss': 3.3639798164367676}]"
      ]
     },
     "execution_count": 79,
     "metadata": {},
     "output_type": "execute_result"
    }
   ],
   "source": [
    "trainer.validate(model, val_dataloader, ckpt_path=\"best\")"
   ]
  },
  {
   "cell_type": "code",
   "execution_count": 80,
   "id": "5b4c62ef-4e59-4026-8199-c53074d05deb",
   "metadata": {},
   "outputs": [
    {
     "name": "stderr",
     "output_type": "stream",
     "text": [
      "LOCAL_RANK: 0 - CUDA_VISIBLE_DEVICES: [0]\n"
     ]
    },
    {
     "data": {
      "application/vnd.jupyter.widget-view+json": {
       "model_id": "7860ddaa0b274d12a4cc0095c5c2e487",
       "version_major": 2,
       "version_minor": 0
      },
      "text/plain": [
       "Testing: 0it [00:00, ?it/s]"
      ]
     },
     "metadata": {},
     "output_type": "display_data"
    },
    {
     "name": "stdout",
     "output_type": "stream",
     "text": [
      "────────────────────────────────────────────────────────────────────────────────────────────────────────────────────────\n",
      "       Test metric             DataLoader 0\n",
      "────────────────────────────────────────────────────────────────────────────────────────────────────────────────────────\n",
      "        test_loss            3.596513509750366\n",
      "────────────────────────────────────────────────────────────────────────────────────────────────────────────────────────\n"
     ]
    },
    {
     "data": {
      "text/plain": [
       "[{'test_loss': 3.596513509750366}]"
      ]
     },
     "execution_count": 80,
     "metadata": {},
     "output_type": "execute_result"
    }
   ],
   "source": [
    "trainer.test(model, test_dataloader)"
   ]
  },
  {
   "cell_type": "markdown",
   "id": "451eb802-eac6-4217-85d3-7f4785284c80",
   "metadata": {},
   "source": [
    "### validate each layer separately"
   ]
  },
  {
   "cell_type": "code",
   "execution_count": 64,
   "id": "740d65bd-3028-4340-95fd-b0ee1cba8063",
   "metadata": {
    "tags": []
   },
   "outputs": [],
   "source": [
    "class PyramidLitModelWrapperLayerSel(StandardLitModelWrapper):\n",
    "    def __init__(self, layer, *args, **kwargs):\n",
    "        super().__init__(*args, **kwargs)\n",
    "        self.layer = layer\n",
    "        \n",
    "    def forward(self, x, **kwargs):\n",
    "        outs = self.model(x, **kwargs)\n",
    "        return outs[self.layer]"
   ]
  },
  {
   "cell_type": "code",
   "execution_count": 59,
   "id": "e1b1a8d2-c09c-4f0b-a55e-7c28ab84025f",
   "metadata": {},
   "outputs": [],
   "source": [
    "x, y = next(iter(val_dataloader))"
   ]
  },
  {
   "cell_type": "code",
   "execution_count": 62,
   "id": "1f964c07-988a-4461-9df6-d7fce9e35e0e",
   "metadata": {},
   "outputs": [],
   "source": [
    "v = model2(x)"
   ]
  },
  {
   "cell_type": "code",
   "execution_count": 63,
   "id": "0062d88b-aa08-4479-b962-e6b930c5b1d7",
   "metadata": {},
   "outputs": [
    {
     "data": {
      "text/plain": [
       "torch.Size([32, 1, 224, 160])"
      ]
     },
     "execution_count": 63,
     "metadata": {},
     "output_type": "execute_result"
    }
   ],
   "source": [
    "v.shape"
   ]
  },
  {
   "cell_type": "code",
   "execution_count": 85,
   "id": "bf7cb8b6-65e1-45b0-9743-f681591de4cc",
   "metadata": {},
   "outputs": [],
   "source": [
    "ckpt = \"pyramid_sigmoid.ckpt\"\n",
    "model2 = PyramidLitModelWrapperLayerSel.load_from_checkpoint(\n",
    "    ckpt,\n",
    "    model=model.model, \n",
    "    layer=1,\n",
    "    loss=loss, \n",
    "    is_uq_model=True,\n",
    ")"
   ]
  },
  {
   "cell_type": "code",
   "execution_count": 86,
   "id": "8afc9ac0-b1c2-498e-93fb-1fa80a728366",
   "metadata": {},
   "outputs": [
    {
     "name": "stderr",
     "output_type": "stream",
     "text": [
      "LOCAL_RANK: 0 - CUDA_VISIBLE_DEVICES: [0]\n"
     ]
    },
    {
     "data": {
      "application/vnd.jupyter.widget-view+json": {
       "model_id": "d4318fd507204b94b1d7603281fbf06b",
       "version_major": 2,
       "version_minor": 0
      },
      "text/plain": [
       "Validation: 0it [00:00, ?it/s]"
      ]
     },
     "metadata": {},
     "output_type": "display_data"
    },
    {
     "name": "stdout",
     "output_type": "stream",
     "text": [
      "────────────────────────────────────────────────────────────────────────────────────────────────────────────────────────\n",
      "     Validate metric           DataLoader 0\n",
      "────────────────────────────────────────────────────────────────────────────────────────────────────────────────────────\n",
      "        val_loss            0.4824848473072052\n",
      "────────────────────────────────────────────────────────────────────────────────────────────────────────────────────────\n"
     ]
    },
    {
     "data": {
      "text/plain": [
       "[{'val_loss': 0.4824848473072052}]"
      ]
     },
     "execution_count": 86,
     "metadata": {},
     "output_type": "execute_result"
    }
   ],
   "source": [
    "trainer.validate(model2, val_dataloader)"
   ]
  },
  {
   "cell_type": "code",
   "execution_count": null,
   "id": "7ab875d7-dbaf-4ad4-a5e7-e6f3fc0084f0",
   "metadata": {},
   "outputs": [],
   "source": []
  }
 ],
 "metadata": {
  "kernelspec": {
   "display_name": "Python 3 (ipykernel)",
   "language": "python",
   "name": "python3"
  },
  "language_info": {
   "codemirror_mode": {
    "name": "ipython",
    "version": 3
   },
   "file_extension": ".py",
   "mimetype": "text/x-python",
   "name": "python",
   "nbconvert_exporter": "python",
   "pygments_lexer": "ipython3",
   "version": "3.9.12"
  }
 },
 "nbformat": 4,
 "nbformat_minor": 5
}
