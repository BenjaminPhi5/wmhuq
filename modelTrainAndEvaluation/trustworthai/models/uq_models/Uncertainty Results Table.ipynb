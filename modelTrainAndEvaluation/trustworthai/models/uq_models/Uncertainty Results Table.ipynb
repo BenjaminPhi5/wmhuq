{
 "cells": [
  {
   "cell_type": "markdown",
   "id": "985e460b-402a-49d4-a129-85ab0be0e7fb",
   "metadata": {},
   "source": [
    "# Evaluate a UQ model"
   ]
  },
  {
   "cell_type": "code",
   "execution_count": 1,
   "id": "7b3222db-d19d-4cfe-b62c-5581f9e423b0",
   "metadata": {},
   "outputs": [
    {
     "name": "stdout",
     "output_type": "stream",
     "text": [
      "apple\n"
     ]
    }
   ],
   "source": [
    "print(\"apple\")"
   ]
  },
  {
   "cell_type": "code",
   "execution_count": 2,
   "id": "18b2b079-1933-4ffa-a86a-eb795ee64f2c",
   "metadata": {},
   "outputs": [],
   "source": [
    "import torch\n",
    "import numpy as np\n",
    "\n",
    "# dataset\n",
    "from twaidata.torchdatasets.in_ram_ds import MRISegmentation2DDataset, MRISegmentation3DDataset\n",
    "from torch.utils.data import DataLoader, random_split, ConcatDataset\n",
    "\n",
    "# model\n",
    "from trustworthai.models.uq_models.drop_UNet import UNet\n",
    "\n",
    "# augmentation and pretrain processing\n",
    "from trustworthai.utils.augmentation.standard_transforms import RandomFlip, GaussianBlur, GaussianNoise, \\\n",
    "                                                            RandomResizeCrop, RandomAffine, \\\n",
    "                                                            NormalizeImg, PairedCompose, LabelSelect, \\\n",
    "                                                            PairedCentreCrop, CropZDim\n",
    "# loss function\n",
    "from trustworthai.utils.losses_and_metrics.tversky_loss import TverskyLoss\n",
    "from trustworthai.utils.losses_and_metrics.misc_metrics import IOU\n",
    "from trustworthai.utils.losses_and_metrics.dice import dice, DiceMetric\n",
    "from trustworthai.utils.losses_and_metrics.dice_losses import DiceLoss, GeneralizedDiceLoss\n",
    "from trustworthai.utils.losses_and_metrics.power_jaccard_loss import PowerJaccardLoss\n",
    "from torch.nn import BCELoss, MSELoss\n",
    "\n",
    "# pl\n",
    "from trustworthai.utils.uq.sampling.sampling_pl_wrapper import UQSamplingPredictorLitModelWrapper\n",
    "from pytorch_lightning.callbacks.early_stopping import EarlyStopping\n",
    "from pytorch_lightning.callbacks.model_checkpoint import ModelCheckpoint\n",
    "import pytorch_lightning as pl\n",
    "\n",
    "# misc\n",
    "import os\n",
    "import torch\n",
    "import matplotlib.pyplot as plt\n",
    "import torch\n",
    "from torchinfo import summary"
   ]
  },
  {
   "cell_type": "code",
   "execution_count": 3,
   "id": "88811478-817d-4894-a5b1-bcaa518302cb",
   "metadata": {},
   "outputs": [],
   "source": [
    "seed = 3407\n",
    "torch.manual_seed(seed)\n",
    "torch.cuda.manual_seed_all(seed)"
   ]
  },
  {
   "cell_type": "code",
   "execution_count": 4,
   "id": "39394306-6e79-4bc5-9524-0671285db3e4",
   "metadata": {},
   "outputs": [],
   "source": [
    "root_dir = \"/disk/scratch/s2208943/ipdis/preprep/out_data/collated/\"\n",
    "wmh_dir = root_dir + \"WMH_challenge_dataset/\"\n",
    "ed_dir = root_dir + \"EdData/\""
   ]
  },
  {
   "cell_type": "code",
   "execution_count": 5,
   "id": "72ccf481-acc3-4565-a5a5-6892e865d053",
   "metadata": {},
   "outputs": [],
   "source": [
    "# domains = [\n",
    "#             wmh_dir + d for d in [\"Singapore\", \"Utrecht\", \"GE3T\"]\n",
    "#           ]\n",
    "# domains = [\n",
    "#             wmh_dir + d for d in [\"Singapore\", \"Utrecht\", \"GE3T\"]\n",
    "#           ] + [\n",
    "#             ed_dir + d for d in [\"domainA\", \"domainB\", \"domainC\", \"domainD\"]\n",
    "#           ]\n",
    "\n",
    "domains = [\n",
    "            ed_dir + d for d in [\"domainA\", \"domainB\", \"domainC\", \"domainD\"]\n",
    "          ]"
   ]
  },
  {
   "cell_type": "code",
   "execution_count": 6,
   "id": "037235f1-9aff-4b5d-9fae-9f61252046f4",
   "metadata": {},
   "outputs": [],
   "source": [
    "# function to do train validate test split\n",
    "test_proportion = 0.1\n",
    "validation_proportion = 0.2\n",
    "\n",
    "def train_val_test_split(dataset, val_prop, test_prop, seed):\n",
    "    # I think the sklearn version might be prefereable for determinism and things\n",
    "    # but that involves fiddling with the dataset implementation I think....\n",
    "    size = len(dataset)\n",
    "    test_size = int(test_prop*size) \n",
    "    val_size = int(val_prop*size)\n",
    "    train_size = size - val_size - test_size\n",
    "    train, val, test = random_split(dataset, [train_size, val_size, test_size], generator=torch.Generator().manual_seed(seed))\n",
    "    return train, val, test"
   ]
  },
  {
   "cell_type": "code",
   "execution_count": 7,
   "id": "541820f0-6838-4589-96f3-8f50e864e2e6",
   "metadata": {},
   "outputs": [],
   "source": [
    "is3D = False"
   ]
  },
  {
   "cell_type": "code",
   "execution_count": 8,
   "id": "ce60e127-2061-45e2-bcdb-7a4e767401f1",
   "metadata": {},
   "outputs": [],
   "source": [
    "# augmentation definintion\n",
    "def get_transforms(is3D):\n",
    "    transforms = [\n",
    "        LabelSelect(label_id=1),\n",
    "        RandomFlip(p=0.5, orientation=\"horizontal\"),\n",
    "        # GaussianBlur(p=0.5, kernel_size=7, sigma=(.1, 1.5)),\n",
    "        # GaussianNoise(p=0.2, mean=0, sigma=0.2),\n",
    "        # RandomAffine(p=0.2, shear=(.1,3.)),\n",
    "        # RandomAffine(p=0.2, degrees=5),\n",
    "        # RandomResizeCrop(p=1., scale=(0.6, 1.), ratio=(3./4., 4./3.))\n",
    "    ]\n",
    "    if not is3D:\n",
    "        return PairedCompose(transforms)\n",
    "    else:\n",
    "        transforms.append(CropZDim(size=32, minimum=0, maximum=-1))\n",
    "        return PairedCompose(transforms)"
   ]
  },
  {
   "cell_type": "code",
   "execution_count": 9,
   "id": "e003297e-db4e-4cb5-af7c-251db7c6900f",
   "metadata": {},
   "outputs": [],
   "source": [
    "if is3D:\n",
    "    transforms = CropZDim(size=32, minimum=0, maximum=-1)\n",
    "    datasets_domains = [MRISegmentation3DDataset(root_dir, domain, transforms=get_transforms(is3D)) for domain in domains]\n",
    "else:\n",
    "    datasets_domains = [MRISegmentation2DDataset(root_dir, domain, transforms=get_transforms(is3D)) for domain in domains]\n",
    "\n",
    "# split into train, val test datasets\n",
    "datasets = [train_val_test_split(dataset, validation_proportion, test_proportion, seed) for dataset in datasets_domains]\n",
    "\n",
    "# concat the train val test datsets\n",
    "train_dataset = ConcatDataset([ds[0] for ds in datasets])\n",
    "val_dataset = ConcatDataset([ds[1] for ds in datasets])\n",
    "test_dataset = ConcatDataset([ds[2] for ds in datasets])"
   ]
  },
  {
   "cell_type": "code",
   "execution_count": 10,
   "id": "691c8df1-e977-4b80-b1a1-d2e82d955827",
   "metadata": {},
   "outputs": [
    {
     "data": {
      "text/plain": [
       "(8743, 2497, 1248)"
      ]
     },
     "execution_count": 10,
     "metadata": {},
     "output_type": "execute_result"
    }
   ],
   "source": [
    "len(train_dataset), len(val_dataset), len(test_dataset)"
   ]
  },
  {
   "cell_type": "code",
   "execution_count": 11,
   "id": "5f1aa345-bb7f-422c-aa50-a03293a1b322",
   "metadata": {
    "tags": []
   },
   "outputs": [],
   "source": [
    "# define dataloaders\n",
    "train_dataloader = DataLoader(train_dataset, batch_size=16, shuffle=True, num_workers=4)\n",
    "test_dataloader = DataLoader(test_dataset, batch_size = 16, shuffle=False, num_workers=4)\n",
    "val_dataloader = DataLoader(val_dataset, batch_size=16, shuffle=False, num_workers=4)"
   ]
  },
  {
   "cell_type": "markdown",
   "id": "4e826c15-44e0-49a4-a68f-4587d73b1544",
   "metadata": {},
   "source": [
    "### Evaluate each model in turn"
   ]
  },
  {
   "cell_type": "code",
   "execution_count": 18,
   "id": "41133e38-bccf-47b5-96df-9adce543ee89",
   "metadata": {},
   "outputs": [],
   "source": [
    "from trustworthai.utils.uq.sampling.uq_prediction_sampler import ModeUQSampler, UQSampler"
   ]
  },
  {
   "cell_type": "code",
   "execution_count": 12,
   "id": "c8b623cb-7b41-49d2-978e-b950d03065a9",
   "metadata": {},
   "outputs": [],
   "source": [
    "#from trustworthai.utils.uq.sampling.sampling_pl_wrapper import UQSamplingPredictorLitModelWrapper\n",
    "from trustworthai.utils.uq.uncertainty_maps.gen_map import samples_entropy_map, samples_variance_map\n",
    "from trustworthai.utils.uq.sampling.uq_prediction_sampler import DeterministicModelUQSampler, DeterministicModelNoSample\n",
    "from natsort import natsorted"
   ]
  },
  {
   "cell_type": "code",
   "execution_count": 13,
   "id": "db1e89dc-afb8-4d33-959d-d3e85b662639",
   "metadata": {},
   "outputs": [],
   "source": [
    "import os\n",
    "from collections import namedtuple"
   ]
  },
  {
   "cell_type": "code",
   "execution_count": 14,
   "id": "583bee6d-c8a7-4b63-ad5c-da822240b485",
   "metadata": {},
   "outputs": [],
   "source": [
    "root_checkpoint_dir = \"/home/s2208943/ipdis/results/dropout_and_norm_initial_tests/\"\n",
    "\n",
    "def gen_folder_name(args, checkpoint_dir):\n",
    "    # NOTE IF THE ARGS WERE INPUT WOULD NEED THE EXTRACT BOOL FUNCTOIN\n",
    "    use_multidim_dropout = args.use_multidim_dropout\n",
    "    use_multidim_dropconnect = args.use_multidim_dropconnect\n",
    "    #print(use_multidim_dropconnect)\n",
    "    \n",
    "    # calculate the checkpoint folder name\n",
    "    dropout_str = f\"dropout_{args.dropout_type}_{args.dropout_p}_\" if args.dropout_type != None else \"\"\n",
    "    \n",
    "    a = use_multidim_dropout\n",
    "    b = (args.dropout_type != None)\n",
    "    \n",
    "    if (use_multidim_dropout and (args.dropout_type != None)):\n",
    "        dropout_str = f\"{dropout_str}mdim_\"\n",
    "    \n",
    "    dropconn_str = f\"dropconn_{args.dropconnect_type}_{args.dropconnect_p}_\" if args.dropconnect_type != None else \"\"\n",
    "    if use_multidim_dropconnect and args.dropconnect_type != None:\n",
    "        dropconn_str = f\"{dropconn_str}mdim_\"\n",
    "    \n",
    "    norm_str = args.norm_type\n",
    "    epochs_str = f\"epochs_{args.max_epochs}\"\n",
    "    \n",
    "    checkpoint_dir = os.path.join(checkpoint_dir, f\"UNet2D_{dropout_str}{dropconn_str}{norm_str}_{epochs_str}\")\n",
    "    #print(\"checkpoint_dir: \", checkpoint_dir)\n",
    "    \n",
    "    return checkpoint_dir, args\n",
    "\n",
    "def gen_args(dropout_type, drop_connect_type, p, norm_type, mdim, mepochs):\n",
    "    fields = {\n",
    "        \"dropout_type\":dropout_type,\n",
    "        \"dropconnect_type\":drop_connect_type,\n",
    "        \"dropout_p\":p,\n",
    "        \"dropconnect_p\":p,\n",
    "        \"p\":p,\n",
    "        \"mdim\":mdim,\n",
    "        \"use_multidim_dropout\":mdim,\n",
    "        \"use_multidim_dropconnect\":mdim,\n",
    "        \"norm_type\":norm_type,\n",
    "        \"max_epochs\":mepochs\n",
    "    }\n",
    "    return namedtuple(\"args\", fields.keys())(*fields.values())"
   ]
  },
  {
   "cell_type": "code",
   "execution_count": 15,
   "id": "02dac325-1b0e-4bd2-9153-57c658df2f48",
   "metadata": {},
   "outputs": [],
   "source": [
    "folders = []\n",
    "ps = [0.05, 0.1, 0.2, 0.3, 0.4]\n",
    "multidim = [True, False]\n",
    "    \n",
    "for p in ps:\n",
    "    for mdim in multidim:\n",
    "        folders.append(gen_folder_name(gen_args(None, \"bernoulli\", p, 'bn', mdim, 400),root_checkpoint_dir))\n",
    "        folders.append(gen_folder_name(gen_args(None, \"gaussian\", p, 'bn', mdim, 400),root_checkpoint_dir))\n",
    "        folders.append(gen_folder_name(gen_args(\"bernoulli\", None, p, 'bn', mdim, 400),root_checkpoint_dir))\n",
    "        folders.append(gen_folder_name(gen_args(\"gaussian\", None, p, 'bn', mdim, 400),root_checkpoint_dir))\n",
    "        folders.append(gen_folder_name(gen_args(\"bernoulli\", \"gaussian\", p, 'bn', mdim, 400),root_checkpoint_dir))\n",
    "        folders.append(gen_folder_name(gen_args(\"gaussian\", \"bernoulli\", p, 'bn', mdim, 400),root_checkpoint_dir))\n",
    "folders.append(gen_folder_name(gen_args(None, None, None, 'bn', True, 400),root_checkpoint_dir))\n",
    "folders.append(gen_folder_name(gen_args(None, None, None, 'in', True, 400),root_checkpoint_dir))\n",
    "folders.append(gen_folder_name(gen_args(None, None, None, 'gn', True, 400),root_checkpoint_dir))\n"
   ]
  },
  {
   "cell_type": "code",
   "execution_count": 16,
   "id": "67fad23c-e717-4d0b-94bc-5a0cfee080be",
   "metadata": {},
   "outputs": [
    {
     "name": "stderr",
     "output_type": "stream",
     "text": [
      "Using 16bit native Automatic Mixed Precision (AMP)\n",
      "/home/s2208943/miniconda3/envs/ip/lib/python3.9/site-packages/pytorch_lightning/loops/utilities.py:91: PossibleUserWarning: `max_epochs` was not set. Setting it to 1000 epochs. To train without an epoch limit, set `max_epochs=-1`.\n",
      "  rank_zero_warn(\n",
      "GPU available: True, used: True\n",
      "TPU available: False, using: 0 TPU cores\n",
      "IPU available: False, using: 0 IPUs\n",
      "HPU available: False, using: 0 HPUs\n"
     ]
    }
   ],
   "source": [
    "accelerator=\"gpu\"\n",
    "devices=1\n",
    "precision = 16\n",
    "\n",
    "trainer = pl.Trainer(\n",
    "    accelerator=accelerator,\n",
    "    devices=devices,\n",
    "    precision=precision,\n",
    ")"
   ]
  },
  {
   "cell_type": "code",
   "execution_count": 21,
   "id": "9e911914-c42c-4ade-ae8c-bfa36d235ed4",
   "metadata": {},
   "outputs": [],
   "source": [
    "in_channels = 3\n",
    "out_channels = 1\n",
    "# TODO: put in the path to the assets on your machine here\n",
    "\"UNet2D_dropout_bernoulli_0.4_bn_epochs_400/\"\n",
    "\n",
    "loss = GeneralizedDiceLoss(normalization='sigmoid')\n",
    "\n",
    "# results = []\n",
    "\n",
    "# for folder, args in folders:\n",
    "#     model = UNet(in_channels,\n",
    "#                  out_channels,\n",
    "#                  kernel_size=3,\n",
    "#                  init_features=32,\n",
    "#                  softmax=False,\n",
    "#                  dropout_type=args.dropout_type,\n",
    "#                  dropout_p=args.p,\n",
    "#                  gaussout_mean=1, \n",
    "#                  dropconnect_type=args.dropconnect_type,\n",
    "#                  dropconnect_p=args.p,\n",
    "#                  gaussconnect_mean=1,\n",
    "#                  norm_type=args.norm_type,\n",
    "#                  use_multidim_dropout=args.mdim,  \n",
    "#                  use_multidim_dropconnect=args.mdim, \n",
    "#                  groups=None,\n",
    "#                  gn_groups=4, \n",
    "#                 )\n",
    "#     files = natsorted(os.listdir(folder))\n",
    "#     epochs = [f for f in files if \"epoch\" in f]\n",
    "#     checkpoint = os.path.join(folder, epochs[-1]) # last saved one should be best epoch...\n",
    "#     print(checkpoint)\n",
    "\n",
    "#     sampler = DeterministicModelNoSample(N=20, is_uq_model=True)\n",
    "#     model = UQSamplingPredictorLitModelWrapper.load_from_checkpoint(checkpoint, model=model, loss=loss, sampler=sampler, is_uq_model=True)\n",
    "    \n",
    "#     r = trainer.validate(model, val_dataloader)\n",
    "#     results.append((r, folder))"
   ]
  },
  {
   "cell_type": "code",
   "execution_count": 17,
   "id": "0f5a5357-6eaf-4668-b9d0-49acb83c3987",
   "metadata": {},
   "outputs": [],
   "source": [
    "#[(r[0]['val_loss'], f.split(\"/\")[-1]) for (r, f) in results]"
   ]
  },
  {
   "cell_type": "code",
   "execution_count": 19,
   "id": "7fd273a9-c910-4999-9d62-9f67dcffe5b8",
   "metadata": {},
   "outputs": [],
   "source": [
    "# mode_results = []\n",
    "\n",
    "# nonorm_loss = GeneralizedDiceLoss(normalization='none')\n",
    "\n",
    "# for folder, args in folders:\n",
    "#     model = UNet(in_channels,\n",
    "#                  out_channels,\n",
    "#                  kernel_size=3,\n",
    "#                  init_features=32,\n",
    "#                  softmax=False,\n",
    "#                  dropout_type=args.dropout_type,\n",
    "#                  dropout_p=args.p,\n",
    "#                  gaussout_mean=1, \n",
    "#                  dropconnect_type=args.dropconnect_type,\n",
    "#                  dropconnect_p=args.p,\n",
    "#                  gaussconnect_mean=1,\n",
    "#                  norm_type=args.norm_type,\n",
    "#                  use_multidim_dropout=args.mdim,  \n",
    "#                  use_multidim_dropconnect=args.mdim, \n",
    "#                  groups=None,\n",
    "#                  gn_groups=4, \n",
    "#                 )\n",
    "#     files = natsorted(os.listdir(folder))\n",
    "#     epochs = [f for f in files if \"epoch\" in f]\n",
    "#     checkpoint = os.path.join(folder, epochs[-1]) # last saved one should be best epoch...\n",
    "#     print(checkpoint)\n",
    "\n",
    "#     sampler = ModeUQSampler(N=20, is_uq_model=True, apply_binning=True, norm_function=torch.sigmoid)\n",
    "#     model = UQSamplingPredictorLitModelWrapper.load_from_checkpoint(checkpoint, model=model, loss=nonorm_loss, sampler=sampler, is_uq_model=True)\n",
    "    \n",
    "#     r = trainer.validate(model, val_dataloader)\n",
    "#     mode_results.append((r, folder))"
   ]
  },
  {
   "cell_type": "code",
   "execution_count": 20,
   "id": "00c26e7c-ac07-4478-8f6c-1f2174b4c567",
   "metadata": {},
   "outputs": [],
   "source": [
    "#[(rm[0][0]['val_loss'] < r[0][0]['val_loss']) for (rm, r) in zip(mode_results, results)]\n",
    "#[(r[0]['val_loss'], f.split(\"/\")[-1]) for (r, f) in mode_results]"
   ]
  },
  {
   "cell_type": "code",
   "execution_count": 23,
   "id": "a6685af2-2c20-4f2e-a3f4-f33c2bc7ee5e",
   "metadata": {},
   "outputs": [],
   "source": [
    "# write each thing to the file\n",
    "def write_results_list(rlist, name):\n",
    "    with open(name + \".txt\", 'w') as file:\n",
    "        for (r, f) in rlist:\n",
    "            file.write(str(r[0]['val_loss']))\n",
    "            file.write(\":\")\n",
    "            file.write(f)\n",
    "            file.write(\"\\n\")"
   ]
  },
  {
   "cell_type": "code",
   "execution_count": 61,
   "id": "07d48323-a525-43fc-b8ca-e8f07aa42e6f",
   "metadata": {},
   "outputs": [],
   "source": [
    "# write_results_list(results, \"results_tables/deterministic_uq_paramtest\")\n",
    "# write_results_list(mode_results, \"results_tables/mode_uq_paramtest\")"
   ]
  },
  {
   "cell_type": "code",
   "execution_count": 52,
   "id": "dfc35733-48ae-4aeb-9ec6-73328d3f51d4",
   "metadata": {},
   "outputs": [],
   "source": [
    "class ModeUQSampler(UQSampler):\n",
    "    \"\"\"\n",
    "    this is what we should use for semantic segmentation\n",
    "    https://arxiv.org/pdf/1807.07356.pdf (Section 3)\n",
    "    \"\"\"\n",
    "    def __init__(self, apply_thresholding=False, threshold=0.7, apply_binning=False, bin_decimal=1, norm_function=None, *args, **kwargs):\n",
    "        super().__init__(*args, **kwargs)\n",
    "        self.apply_thresholding = apply_thresholding\n",
    "        self.threshold = threshold\n",
    "        self.apply_binning = apply_binning\n",
    "        self.bin_decimal = bin_decimal\n",
    "        self.norm_func = norm_function\n",
    "        \n",
    "        if apply_thresholding and apply_binning:\n",
    "            raise ValueError(\"can only do one of thresholding or binning, not both\")\n",
    "    \n",
    "    def _gen_mle_estimate(self, x, samples, model, **kwargs):\n",
    "        if self.apply_thresholding:\n",
    "            samples = samples > self.threshold\n",
    "        if self.apply_binning:\n",
    "            samples = torch.round(samples, decimals=self.bin_decimal)\n",
    "            \n",
    "        if self.norm_func:\n",
    "            samples = self.norm_func(samples)\n",
    "\n",
    "        #print(samples.shape)\n",
    "        mode = torch.mode(samples, dim=1)[0]\n",
    "        #print(mode.shape)\n",
    "        return mode"
   ]
  },
  {
   "cell_type": "markdown",
   "id": "1e2473fe-49a6-4742-af8b-f417eab0e3e9",
   "metadata": {},
   "source": [
    "### now picking a specific model\n",
    "\n",
    "dropout 0.3: \n",
    "\n",
    "/home/s2208943/ipdis/results/dropout_and_norm_initial_tests/UNet2D_dropout_bernoulli_0.3_mdim_bn_epochs_400\n",
    "\n",
    "dropconnect 0.3: \n",
    "\n",
    "home/s2208943/ipdis/results/dropout_and_norm_initial_tests/UNet2D_dropconn_gaussian_0.3_mdim_bn_epochs_400\n",
    "\n",
    "spike and slab 0.3: \n",
    "\n",
    "'slab and spike' 0.3:\n",
    "\n",
    "\n",
    "bn:\n",
    "\n",
    "/home/s2208943/ipdis/results/dropout_and_norm_initial_tests/UNet2D_bn_epochs_400\n",
    "\n",
    "in:\n",
    "\n",
    "/home/s2208943/ipdis/results/dropout_and_norm_initial_tests/UNet2D_in_epochs_400\n",
    "\n",
    "I also need to test mdim vs not mdim"
   ]
  },
  {
   "cell_type": "code",
   "execution_count": 53,
   "id": "e85569ea-6258-4499-85fb-44e10609d8c1",
   "metadata": {},
   "outputs": [],
   "source": [
    "def get_last_checkpoint(folder):\n",
    "    files = natsorted(os.listdir(folder))\n",
    "    epochs = [f for f in files if \"epoch\" in f]\n",
    "    checkpoint = os.path.join(folder, epochs[-1])\n",
    "    return checkpoint\n",
    "\n",
    "def get_folder_args(folder):\n",
    "    for (f, a) in folders:\n",
    "        if f == folder:\n",
    "            return a"
   ]
  },
  {
   "cell_type": "code",
   "execution_count": 149,
   "id": "e8e69413-7348-45d3-b623-d7da7e64a5e9",
   "metadata": {},
   "outputs": [],
   "source": [
    "root_folder = \"/home/s2208943/ipdis/results/dropout_and_norm_initial_tests/\"\n",
    "exp_folder = root_folder + \"UNet2D_dropout_bernoulli_0.3_mdim_bn_epochs_400\"\n",
    "#exp_folder = root_folder + \"UNet2D_in_epochs_400\"\n",
    "\n",
    "chkpt = get_last_checkpoint(exp_folder)\n",
    "\n",
    "args = get_folder_args(exp_folder)"
   ]
  },
  {
   "cell_type": "code",
   "execution_count": 150,
   "id": "a8aa0036-884a-40a4-856d-bcacdefa5956",
   "metadata": {},
   "outputs": [],
   "source": [
    "loss = GeneralizedDiceLoss(normalization='none')\n",
    "\n",
    "model = UNet(in_channels,\n",
    "             out_channels,\n",
    "             kernel_size=3,\n",
    "             init_features=32,\n",
    "             softmax=False,\n",
    "             dropout_type=args.dropout_type,\n",
    "             dropout_p=args.p,\n",
    "             gaussout_mean=1, \n",
    "             dropconnect_type=args.dropconnect_type,\n",
    "             dropconnect_p=args.p,\n",
    "             gaussconnect_mean=1,\n",
    "             norm_type=args.norm_type,\n",
    "             use_multidim_dropout=args.mdim,  \n",
    "             use_multidim_dropconnect=args.mdim, \n",
    "             groups=None,\n",
    "             gn_groups=4, \n",
    "            )"
   ]
  },
  {
   "cell_type": "code",
   "execution_count": 151,
   "id": "d3e6c3e0-5868-479d-99f0-c0a1609622b9",
   "metadata": {},
   "outputs": [],
   "source": [
    "sampler = ModeUQSampler(N=20, is_uq_model=True, norm_function=torch.sigmoid)\n",
    "model = UQSamplingPredictorLitModelWrapper.load_from_checkpoint(chkpt, model=model, loss=loss, sampler=sampler, is_uq_model=True)"
   ]
  },
  {
   "cell_type": "code",
   "execution_count": 250,
   "id": "1a89f8dd-4b3c-499c-9dab-21cd14588990",
   "metadata": {},
   "outputs": [
    {
     "name": "stderr",
     "output_type": "stream",
     "text": [
      "LOCAL_RANK: 0 - CUDA_VISIBLE_DEVICES: [0]\n"
     ]
    },
    {
     "data": {
      "application/vnd.jupyter.widget-view+json": {
       "model_id": "03561e6a057540f1916de020a7d04968",
       "version_major": 2,
       "version_minor": 0
      },
      "text/plain": [
       "Validation: 0it [00:00, ?it/s]"
      ]
     },
     "metadata": {},
     "output_type": "display_data"
    },
    {
     "name": "stdout",
     "output_type": "stream",
     "text": [
      "────────────────────────────────────────────────────────────────────────────────────────────────────────────────────────\n",
      "     Validate metric           DataLoader 0\n",
      "────────────────────────────────────────────────────────────────────────────────────────────────────────────────────────\n",
      "        val_loss            0.2748901844024658\n",
      "────────────────────────────────────────────────────────────────────────────────────────────────────────────────────────\n"
     ]
    },
    {
     "data": {
      "text/plain": [
       "[{'val_loss': 0.2748901844024658}]"
      ]
     },
     "execution_count": 250,
     "metadata": {},
     "output_type": "execute_result"
    }
   ],
   "source": [
    "trainer.validate(model, test_dataloader)"
   ]
  },
  {
   "cell_type": "code",
   "execution_count": 153,
   "id": "6c5474b1-d32e-4e12-8b49-057bf1153fd6",
   "metadata": {},
   "outputs": [
    {
     "data": {
      "text/plain": [
       "True"
      ]
     },
     "execution_count": 153,
     "metadata": {},
     "output_type": "execute_result"
    }
   ],
   "source": [
    "# check this is actually true still!!\n",
    "model.model.applyfunc"
   ]
  },
  {
   "cell_type": "markdown",
   "id": "ead1b7b1-4909-4b0b-842e-911f57b68135",
   "metadata": {},
   "source": [
    "### Implementing Calibration\n",
    "\n",
    "one method is to use volume variation coefficient\n",
    "VVC = sigma_v / mean_v, this is calculated across all the samples.\n",
    "\n",
    "three other ways, see\n",
    "- how they did it in the spike and slab paper\n",
    "- how the do it in the ieee paper\n",
    "- how they do it in the batch norm paper.\n",
    "\n",
    "\n",
    "other plots\n",
    "\n",
    "the https://arxiv.org/pdf/1807.07356.pdf paper also has error rate vs\n",
    "uncertainty plots (a bit like those batch norm plots)\n",
    "and I think these would be good to implement.\n",
    "\n",
    "Also I need to implement the overlap uncertainty on prediction plots and put all of these functions in the plots script.\n",
    "\n",
    "Then move on to the other reporductoin parts, try calibration on unseen data (test set and other domains) and try adversarial stuff, move on to the ssn paper."
   ]
  },
  {
   "cell_type": "code",
   "execution_count": 251,
   "id": "db317802-5d86-4245-822c-6f605df7d128",
   "metadata": {},
   "outputs": [
    {
     "name": "stderr",
     "output_type": "stream",
     "text": [
      "LOCAL_RANK: 0 - CUDA_VISIBLE_DEVICES: [0]\n"
     ]
    },
    {
     "data": {
      "application/vnd.jupyter.widget-view+json": {
       "model_id": "8543be6bf19d4c168cc9c426ac4d95d1",
       "version_major": 2,
       "version_minor": 0
      },
      "text/plain": [
       "Predicting: 0it [00:00, ?it/s]"
      ]
     },
     "metadata": {},
     "output_type": "display_data"
    }
   ],
   "source": [
    "results = trainer.predict(model, test_dataloader)"
   ]
  },
  {
   "cell_type": "raw",
   "id": "9e7da1cf-e995-450d-83cf-a64da39e8c17",
   "metadata": {},
   "source": [
    "# results shapes\n",
    "[batch, my_values -> [samples, mle_est, x, y]]\n",
    "samples should be shape [batch_size, samples, 1, h, w]\n",
    "mle_est should be shape [batch_size, samples, 1, h, w]\n",
    "x should be shape       [batch_size, samples, c, h, w]\n",
    "y should be shape       [batch_size, samples, 1, h, w]"
   ]
  },
  {
   "cell_type": "code",
   "execution_count": 409,
   "id": "62e561cf-a04e-426b-9203-c8a1d1361441",
   "metadata": {},
   "outputs": [],
   "source": [
    "# we do the [:-1] on results to drop the last batch which is of length 1\n",
    "samples = torch.stack([r[0] for r in results[:-1]], dim=1).type(torch.float32)\n",
    "mle_ests = torch.stack([r[1] for r in results[:-1]], dim=1)\n",
    "xs = torch.stack([r[2] for r in results[:-1]], dim=1)\n",
    "ys = torch.stack([r[3] for r in results[:-1]], dim=1)"
   ]
  },
  {
   "cell_type": "code",
   "execution_count": 410,
   "id": "c8008683-f989-4add-a104-e134fdd75be8",
   "metadata": {},
   "outputs": [
    {
     "data": {
      "text/plain": [
       "torch.Size([16, 77, 20, 1, 224, 160])"
      ]
     },
     "execution_count": 410,
     "metadata": {},
     "output_type": "execute_result"
    }
   ],
   "source": [
    "samples.shape"
   ]
  },
  {
   "cell_type": "code",
   "execution_count": 411,
   "id": "03298367-6d40-4439-8294-2de4263da8ee",
   "metadata": {},
   "outputs": [],
   "source": [
    "batch = 0\n",
    "b1_sample = samples[batch]\n",
    "b1_mle_est = mle_ests[batch]\n",
    "b1_xs = xs[batch]\n",
    "b1_ys = ys[batch]"
   ]
  },
  {
   "cell_type": "code",
   "execution_count": 412,
   "id": "8f8ba9e4-bf5b-43e2-85a1-ea02a76ff7ff",
   "metadata": {},
   "outputs": [],
   "source": [
    "b1_tsample = b1_sample.type(torch.float32)"
   ]
  },
  {
   "cell_type": "code",
   "execution_count": 413,
   "id": "241340e6-09ca-4c67-b2af-a3ddc215e2b4",
   "metadata": {},
   "outputs": [
    {
     "data": {
      "image/png": "[encoded data removed]",
      "text/plain": [
       "<Figure size 432x288 with 2 Axes>"
      ]
     },
     "metadata": {
      "needs_background": "light"
     },
     "output_type": "display_data"
    }
   ],
   "source": [
    "img = 55\n",
    "plt.subplot(1,2,1)\n",
    "plt.imshow(b1_xs[img][0].squeeze(), cmap='gray')\n",
    "plt.subplot(1,2,2)\n",
    "plt.imshow(b1_ys[img].squeeze()); plt.show()"
   ]
  },
  {
   "cell_type": "code",
   "execution_count": 414,
   "id": "c5488eae-07ae-43c7-9bd3-6714237535ac",
   "metadata": {},
   "outputs": [
    {
     "data": {
      "image/png": "[encoded data removed]",
      "text/plain": [
       "<Figure size 1440x1440 with 20 Axes>"
      ]
     },
     "metadata": {
      "needs_background": "light"
     },
     "output_type": "display_data"
    }
   ],
   "source": [
    "# see all the samples from an index in the batch\n",
    "# this is messed up it should be 77, 16 not 16, 77\n",
    "plt.figure(figsize=(20, 20))\n",
    "for i in range(20):\n",
    "    plt.subplot(4, 5, i+1)\n",
    "    plt.imshow(torch.sigmoid(b1_tsample[img, i]).squeeze(), cmap='gray')"
   ]
  },
  {
   "cell_type": "code",
   "execution_count": 415,
   "id": "a5df68de-d1d9-4e15-a0cb-774f64de8919",
   "metadata": {},
   "outputs": [],
   "source": [
    "# plt.figure(figsize=(20, 20))\n",
    "# for i in range(20):\n",
    "#     plt.subplot(4, 5, i+1)\n",
    "#     plt.imshow((b1_tsample[img, i]).squeeze(), cmap='gray')"
   ]
  },
  {
   "cell_type": "code",
   "execution_count": 416,
   "id": "18aa4335-3355-4aca-b5ff-a087c356d58f",
   "metadata": {},
   "outputs": [
    {
     "data": {
      "image/png": "[encoded data removed]",
      "text/plain": [
       "<Figure size 432x288 with 1 Axes>"
      ]
     },
     "metadata": {
      "needs_background": "light"
     },
     "output_type": "display_data"
    }
   ],
   "source": [
    "plt.imshow(b1_mle_est[img].squeeze()); plt.show()"
   ]
  },
  {
   "cell_type": "code",
   "execution_count": 417,
   "id": "1bf95045-92da-40ac-a180-f3a7e6d5dd7a",
   "metadata": {},
   "outputs": [
    {
     "data": {
      "text/plain": [
       "(tensor(0.3931), tensor(0.7733))"
      ]
     },
     "execution_count": 417,
     "metadata": {},
     "output_type": "execute_result"
    }
   ],
   "source": [
    "# loss of a sample\n",
    "loss(b1_mle_est[img] > 0.5, b1_ys[img]), dice(b1_mle_est[img] > 0.5, b1_ys[img])"
   ]
  },
  {
   "cell_type": "code",
   "execution_count": 418,
   "id": "94bea299-de62-4e38-8ddc-899fa8ab1733",
   "metadata": {},
   "outputs": [
    {
     "name": "stdout",
     "output_type": "stream",
     "text": [
      "warning, binning should only be applied where output is a probability\n",
      "warning: multiclass problems should be presented as single channel, value = id of class\n",
      "[0.  0.1 0.2 0.3 0.4 0.5 0.6 0.7 0.8 0.9 1. ]\n"
     ]
    }
   ],
   "source": [
    "e = samples_entropy_map(torch.sigmoid(b1_tsample[img].type(torch.float32)),\n",
    "                    p_from_mode=True,\n",
    "                    threshold_preds=False,\n",
    "                    preds_threshold=None,\n",
    "                    apply_norm=False,\n",
    "                    norm_func='sigmoid',\n",
    "                    apply_binning=True,\n",
    "                    binning_dp = 1,\n",
    "                    supress_warning=False,\n",
    "                    print_uniques=True\n",
    "                   )"
   ]
  },
  {
   "cell_type": "code",
   "execution_count": 419,
   "id": "fae9cac2-b1dd-4803-8dd3-d4a2cea940d6",
   "metadata": {},
   "outputs": [
    {
     "data": {
      "image/png": "[encoded data removed]",
      "text/plain": [
       "<Figure size 576x576 with 2 Axes>"
      ]
     },
     "metadata": {
      "needs_background": "light"
     },
     "output_type": "display_data"
    }
   ],
   "source": [
    "plt.figure(figsize=(8,8))\n",
    "plt.imshow(e.squeeze())\n",
    "plt.colorbar()\n",
    "plt.show()\n"
   ]
  },
  {
   "cell_type": "code",
   "execution_count": 420,
   "id": "c736a918-edc1-4cf5-a395-7d1abc012717",
   "metadata": {},
   "outputs": [
    {
     "name": "stdout",
     "output_type": "stream",
     "text": [
      "warning, thresholding only valid for binary class problem\n",
      "warning: multiclass problems should be presented as single channel, value = id of class\n",
      "[False  True]\n"
     ]
    }
   ],
   "source": [
    "e2 = samples_entropy_map(torch.sigmoid(b1_tsample[img].type(torch.float32)),\n",
    "                    p_from_mode=True,\n",
    "                    threshold_preds=True,\n",
    "                    preds_threshold=0.5,\n",
    "                    apply_norm=False,\n",
    "                    norm_func='sigmoid',\n",
    "                    apply_binning=False,\n",
    "                    binning_dp = 1,\n",
    "                    supress_warning=False,\n",
    "                    print_uniques=True\n",
    "                   )"
   ]
  },
  {
   "cell_type": "code",
   "execution_count": 421,
   "id": "9882f74d-8133-4601-bb94-6e7830989121",
   "metadata": {},
   "outputs": [
    {
     "data": {
      "image/png": "[encoded data removed]",
      "text/plain": [
       "<Figure size 576x576 with 2 Axes>"
      ]
     },
     "metadata": {
      "needs_background": "light"
     },
     "output_type": "display_data"
    }
   ],
   "source": [
    "plt.figure(figsize=(8,8))\n",
    "plt.imshow(e2.squeeze())\n",
    "plt.colorbar()\n",
    "plt.show()\n"
   ]
  },
  {
   "cell_type": "markdown",
   "id": "9ca6dc26-e75a-4879-8e81-6a4fdaf86488",
   "metadata": {},
   "source": [
    "### Implementing dice vs uncertainty plot"
   ]
  },
  {
   "cell_type": "code",
   "execution_count": 422,
   "id": "0da4d2ba-30e5-4870-a963-140abd507be1",
   "metadata": {},
   "outputs": [
    {
     "data": {
      "text/plain": [
       "torch.Size([16, 77, 1, 224, 160])"
      ]
     },
     "execution_count": 422,
     "metadata": {},
     "output_type": "execute_result"
    }
   ],
   "source": [
    "mle_ests.shape"
   ]
  },
  {
   "cell_type": "code",
   "execution_count": 423,
   "id": "48403c48-28e6-470d-8ad3-c5b9d6bca129",
   "metadata": {},
   "outputs": [
    {
     "data": {
      "text/plain": [
       "torch.Size([16, 77, 1, 224, 160])"
      ]
     },
     "execution_count": 423,
     "metadata": {},
     "output_type": "execute_result"
    }
   ],
   "source": [
    "ys.shape"
   ]
  },
  {
   "cell_type": "code",
   "execution_count": 436,
   "id": "846bbf9e-363a-4e4a-9896-17b8a2efaa52",
   "metadata": {},
   "outputs": [],
   "source": [
    "# first a plot of dices\n",
    "dices = [dice(mle_ests[b, bi] > 0.5, ys[b, bi]) \n",
    "         for b in range(ys.shape[0])\n",
    "         for bi in range(ys.shape[1])\n",
    "]"
   ]
  },
  {
   "cell_type": "code",
   "execution_count": 425,
   "id": "759bd523-a559-4c33-a835-0380d0832378",
   "metadata": {},
   "outputs": [],
   "source": [
    "dices_sorted = torch.sort(torch.Tensor(dices))[0]"
   ]
  },
  {
   "cell_type": "code",
   "execution_count": 426,
   "id": "66d43964-8335-4ec7-965f-ef6e7002b86b",
   "metadata": {},
   "outputs": [
    {
     "data": {
      "image/png": "[encoded data removed]",
      "text/plain": [
       "<Figure size 432x288 with 1 Axes>"
      ]
     },
     "metadata": {
      "needs_background": "light"
     },
     "output_type": "display_data"
    }
   ],
   "source": [
    "plt.scatter(np.arange(0, len(dices), 1), dices_sorted); plt.show()"
   ]
  },
  {
   "cell_type": "code",
   "execution_count": 435,
   "id": "2d9d27b8-2d63-492d-ab20-a085bb404a0c",
   "metadata": {},
   "outputs": [],
   "source": [
    "# now a plot of the VCC score\n",
    "\n",
    "def calc_VCC(sample_set, norm=True):\n",
    "    if norm:\n",
    "        sample_set = torch.sigmoid(sample_set)\n",
    "    return torch.std(sample_set) / torch.mean(sample_set)\n",
    "\n",
    "# first a plot of dices\n",
    "VCC_norm = [calc_VCC(samples[b, bi], norm=True) \n",
    "         for b in range(ys.shape[0])\n",
    "         for bi in range(ys.shape[1])\n",
    "]\n",
    "\n",
    "VCC = [calc_VCC(samples[b, bi], norm=False) \n",
    "         for b in range(ys.shape[0])\n",
    "         for bi in range(ys.shape[1])\n",
    "]"
   ]
  },
  {
   "cell_type": "code",
   "execution_count": 446,
   "id": "11ba6ed9-a5bc-4e88-9c25-8ece100f37f5",
   "metadata": {},
   "outputs": [
    {
     "data": {
      "text/plain": [
       "tensor(True)"
      ]
     },
     "execution_count": 446,
     "metadata": {},
     "output_type": "execute_result"
    }
   ],
   "source": [
    "torch.isnan(dices[0])"
   ]
  },
  {
   "cell_type": "code",
   "execution_count": 453,
   "id": "cc3625da-31d8-49bd-8094-3d7767ef781c",
   "metadata": {},
   "outputs": [],
   "source": [
    "pairs = np.array([(d, v) for (d, v) in zip(dices, VCC_norm) if not torch.isnan(d) and v < 100])"
   ]
  },
  {
   "cell_type": "code",
   "execution_count": 454,
   "id": "0386042c-e5fd-44ca-8342-4e0caa0ee00f",
   "metadata": {},
   "outputs": [
    {
     "data": {
      "image/png": "[encoded data removed]",
      "text/plain": [
       "<Figure size 432x288 with 1 Axes>"
      ]
     },
     "metadata": {
      "needs_background": "light"
     },
     "output_type": "display_data"
    }
   ],
   "source": [
    "plt.scatter(pairs[:,0], pairs[:,1]); plt.show()"
   ]
  },
  {
   "cell_type": "code",
   "execution_count": 472,
   "id": "d8296d0c-2255-499a-a852-171e5f5f15b5",
   "metadata": {},
   "outputs": [
    {
     "data": {
      "text/plain": [
       "[tensor(nan),\n",
       " tensor(0.2857),\n",
       " tensor(0.),\n",
       " tensor(nan),\n",
       " tensor(nan),\n",
       " tensor(nan),\n",
       " tensor(0.4667),\n",
       " tensor(nan),\n",
       " tensor(0.8400),\n",
       " tensor(nan)]"
      ]
     },
     "execution_count": 472,
     "metadata": {},
     "output_type": "execute_result"
    }
   ],
   "source": [
    "dices[0:10]"
   ]
  },
  {
   "cell_type": "code",
   "execution_count": 460,
   "id": "351b55e0-4c59-4384-a637-af334992a9c2",
   "metadata": {},
   "outputs": [
    {
     "data": {
      "text/plain": [
       "[tensor(0.2857), tensor(0.), tensor(0.4667), tensor(0.8400), tensor(0.3857)]"
      ]
     },
     "execution_count": 460,
     "metadata": {},
     "output_type": "execute_result"
    }
   ],
   "source": [
    "[d for d in dices if not torch.isnan(d)][0:5]"
   ]
  },
  {
   "cell_type": "code",
   "execution_count": 473,
   "id": "58c87838-c313-491f-ac64-987abce57911",
   "metadata": {},
   "outputs": [
    {
     "data": {
      "image/png": "[encoded data removed]",
      "text/plain": [
       "<Figure size 432x288 with 1 Axes>"
      ]
     },
     "metadata": {
      "needs_background": "light"
     },
     "output_type": "display_data"
    }
   ],
   "source": [
    "plt.imshow(ys[0][2].squeeze()); plt.show()"
   ]
  },
  {
   "cell_type": "code",
   "execution_count": 474,
   "id": "5e1cbb6a-25cb-4da8-a917-c11313880e1d",
   "metadata": {},
   "outputs": [
    {
     "data": {
      "image/png": "[encoded data removed]",
      "text/plain": [
       "<Figure size 432x288 with 1 Axes>"
      ]
     },
     "metadata": {
      "needs_background": "light"
     },
     "output_type": "display_data"
    }
   ],
   "source": [
    "plt.imshow(mle_ests[0][2].squeeze()); plt.show()"
   ]
  },
  {
   "cell_type": "code",
   "execution_count": 469,
   "id": "772b2cff-dafa-4952-a6d3-3d888152210e",
   "metadata": {},
   "outputs": [
    {
     "data": {
      "text/plain": [
       "tensor(0.2857)"
      ]
     },
     "execution_count": 469,
     "metadata": {},
     "output_type": "execute_result"
    }
   ],
   "source": [
    "dice(mle_ests[0][1].squeeze() > 0.5, ys[0][1].squeeze())"
   ]
  },
  {
   "cell_type": "code",
   "execution_count": 432,
   "id": "8e7e90b4-bd83-459d-be6c-650c7352397d",
   "metadata": {},
   "outputs": [
    {
     "data": {
      "text/plain": [
       "tensor(22.2869)"
      ]
     },
     "execution_count": 432,
     "metadata": {},
     "output_type": "execute_result"
    }
   ],
   "source": [
    "calc_VCC(samples[0][0])"
   ]
  },
  {
   "cell_type": "code",
   "execution_count": 396,
   "id": "ca9b47f8-4eec-45db-8f4c-48bb1e1d6ad3",
   "metadata": {},
   "outputs": [
    {
     "data": {
      "text/plain": [
       "tensor(6.2617, dtype=torch.float16)"
      ]
     },
     "execution_count": 396,
     "metadata": {},
     "output_type": "execute_result"
    }
   ],
   "source": [
    "torch.std(samples[0][0])"
   ]
  },
  {
   "cell_type": "code",
   "execution_count": 408,
   "id": "b01e100e-3ec4-43e7-87e0-756264b94ec2",
   "metadata": {},
   "outputs": [
    {
     "data": {
      "text/plain": [
       "tensor(-23.7738)"
      ]
     },
     "execution_count": 408,
     "metadata": {},
     "output_type": "execute_result"
    }
   ],
   "source": [
    "torch.mean(samples[0][0].squeeze().type(torch.float32))"
   ]
  },
  {
   "cell_type": "code",
   "execution_count": 407,
   "id": "6b2f9046-290d-42c1-a57c-6e45186c053d",
   "metadata": {},
   "outputs": [
    {
     "data": {
      "text/plain": [
       "tensor(-23.7738)"
      ]
     },
     "execution_count": 407,
     "metadata": {},
     "output_type": "execute_result"
    }
   ],
   "source": [
    "torch.mean(samples[0][0].type(torch.float32))"
   ]
  },
  {
   "cell_type": "code",
   "execution_count": null,
   "id": "f6029663-ff76-4650-8475-d5271b3ed9cb",
   "metadata": {},
   "outputs": [],
   "source": []
  },
  {
   "cell_type": "code",
   "execution_count": 475,
   "id": "f40a6b96-cd82-4b66-8b04-bb40c6641724",
   "metadata": {},
   "outputs": [],
   "source": [
    "batch_samples = torch.stack([r[0] for r in results[:-1]], dim=0).type(torch.float32)"
   ]
  },
  {
   "cell_type": "code",
   "execution_count": 476,
   "id": "bb67cbc7-a07d-4988-8a95-160277ae8374",
   "metadata": {},
   "outputs": [
    {
     "data": {
      "text/plain": [
       "torch.Size([77, 16, 20, 1, 224, 160])"
      ]
     },
     "execution_count": 476,
     "metadata": {},
     "output_type": "execute_result"
    }
   ],
   "source": [
    "batch_samples.shape"
   ]
  },
  {
   "cell_type": "code",
   "execution_count": 477,
   "id": "d00a9376-b3ab-4462-b7ca-43c9d5c7694e",
   "metadata": {},
   "outputs": [],
   "source": [
    "batch_mle_ests = torch.stack([r[1] for r in results[:-1]], dim=0).type(torch.float32)"
   ]
  },
  {
   "cell_type": "code",
   "execution_count": 482,
   "id": "f58b1479-07f4-4872-a2b5-86dc60716f69",
   "metadata": {},
   "outputs": [],
   "source": [
    "batch_ys = torch.stack([r[3] for r in results[:-1]], dim=0).type(torch.float32)"
   ]
  },
  {
   "cell_type": "code",
   "execution_count": 483,
   "id": "59995a39-2c93-4666-a9f9-1ba46956ebdf",
   "metadata": {},
   "outputs": [
    {
     "data": {
      "text/plain": [
       "torch.Size([77, 16, 1, 224, 160])"
      ]
     },
     "execution_count": 483,
     "metadata": {},
     "output_type": "execute_result"
    }
   ],
   "source": [
    "batch_ys.shape"
   ]
  },
  {
   "cell_type": "code",
   "execution_count": 500,
   "id": "1d0d9aff-afea-48f3-ac83-3e8e18f1bbc6",
   "metadata": {},
   "outputs": [],
   "source": [
    "# for i in range(77):\n",
    "#     print(1 - loss(batch_mle_ests[i], batch_ys[i]))\n",
    "#     print(dice(batch_mle_ests[i] > 0.5, batch_ys[i]))\n",
    "    \n",
    "#     ds = []\n",
    "#     for j in range(16):\n",
    "#       ds.append(dice(batch_mle_ests[i][j], batch_ys[i][j]))\n",
    "#     print(torch.mean(torch.tensor([d for d in ds if not torch.isnan(d)])))\n",
    "          \n",
    "#     print()"
   ]
  },
  {
   "cell_type": "markdown",
   "id": "c5f87350-5803-4390-b68c-c6a6da95d986",
   "metadata": {},
   "source": [
    "### try loading the data in 3D"
   ]
  },
  {
   "cell_type": "markdown",
   "id": "fd80eb86-fab1-4108-8fd0-d507913e9d99",
   "metadata": {},
   "source": [
    "### Calibrate some models"
   ]
  },
  {
   "cell_type": "code",
   "execution_count": 379,
   "id": "394e29eb-79fb-4a1c-b6b0-462793a1f3f6",
   "metadata": {},
   "outputs": [
    {
     "data": {
      "text/plain": [
       "<function _VariableFunctionsClass.std>"
      ]
     },
     "execution_count": 379,
     "metadata": {},
     "output_type": "execute_result"
    }
   ],
   "source": [
    "torch.std"
   ]
  },
  {
   "cell_type": "code",
   "execution_count": null,
   "id": "2fc0f40a-e3a2-4a2c-8bd7-fb3df15f6fd5",
   "metadata": {},
   "outputs": [],
   "source": []
  },
  {
   "cell_type": "code",
   "execution_count": null,
   "id": "836490c9-6dea-4cc7-8b11-98b9c79f42c8",
   "metadata": {},
   "outputs": [],
   "source": []
  },
  {
   "cell_type": "code",
   "execution_count": null,
   "id": "1b590574-e0d6-403a-afca-21c13d193be7",
   "metadata": {},
   "outputs": [],
   "source": []
  }
 ],
 "metadata": {
  "kernelspec": {
   "display_name": "Python 3 (ipykernel)",
   "language": "python",
   "name": "python3"
  },
  "language_info": {
   "codemirror_mode": {
    "name": "ipython",
    "version": 3
   },
   "file_extension": ".py",
   "mimetype": "text/x-python",
   "name": "python",
   "nbconvert_exporter": "python",
   "pygments_lexer": "ipython3",
   "version": "3.9.12"
  }
 },
 "nbformat": 4,
 "nbformat_minor": 5
}
