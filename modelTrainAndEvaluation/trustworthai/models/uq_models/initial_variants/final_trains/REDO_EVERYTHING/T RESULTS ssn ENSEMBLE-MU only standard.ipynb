{
 "cells": [
  {
   "cell_type": "code",
   "execution_count": 2,
   "id": "66016330-97f9-49f0-8637-099c21ac5cd5",
   "metadata": {},
   "outputs": [
    {
     "name": "stdout",
     "output_type": "stream",
     "text": [
      "strawberry\n"
     ]
    }
   ],
   "source": [
    "print(\"strawberry\")\n",
    "\n",
    "import torch\n",
    "import numpy as np\n",
    "import torch.nn.functional as F\n",
    "\n",
    "# dataset\n",
    "from twaidata.torchdatasets.in_ram_ds import MRISegmentation2DDataset, MRISegmentation3DDataset\n",
    "from torch.utils.data import DataLoader, random_split, ConcatDataset\n",
    "\n",
    "# model\n",
    "from trustworthai.models.uq_models.initial_variants.HyperMapp3r_deterministic import HyperMapp3r\n",
    "from trustworthai.models.uq_models.initial_variants.HyperMapp3r_DDU import HyperMapp3rDDU\n",
    "from trustworthai.models.uq_models.initial_variants.HyperMapp3r_SSN import HyperMapp3rSSN\n",
    "\n",
    "\n",
    "# augmentation and pretrain processing\n",
    "from trustworthai.utils.augmentation.standard_transforms import RandomFlip, GaussianBlur, GaussianNoise, \\\n",
    "                                                            RandomResizeCrop, RandomAffine, \\\n",
    "                                                            NormalizeImg, PairedCompose, LabelSelect, \\\n",
    "                                                            PairedCentreCrop, CropZDim\n",
    "# loss function\n",
    "from trustworthai.utils.losses_and_metrics.per_individual_losses import (\n",
    "    log_cosh_dice_loss,\n",
    "    TverskyLoss,\n",
    "    FocalTverskyLoss,\n",
    "    DiceLossMetric\n",
    ")\n",
    "from torch.nn import BCELoss, MSELoss, BCEWithLogitsLoss\n",
    "\n",
    "# fitter\n",
    "from trustworthai.utils.fitting_and_inference.fitters.basic_lightning_fitter import StandardLitModelWrapper\n",
    "from pytorch_lightning.callbacks.early_stopping import EarlyStopping\n",
    "from pytorch_lightning.callbacks.model_checkpoint import ModelCheckpoint\n",
    "import pytorch_lightning as pl\n",
    "\n",
    "# misc\n",
    "import os\n",
    "import torch\n",
    "import matplotlib.pyplot as plt\n",
    "import torch\n",
    "from torchinfo import summary\n",
    "import argparse\n",
    "\n",
    "import torch.nn as nn\n",
    "import torch\n",
    "from torchmetrics import Metric\n",
    "import math"
   ]
  },
  {
   "cell_type": "code",
   "execution_count": 3,
   "id": "46522f74-a209-4f46-abc4-7510d9c2fdb1",
   "metadata": {},
   "outputs": [
    {
     "data": {
      "text/plain": [
       "<torch._C.Generator at 0x7f85107f06b0>"
      ]
     },
     "execution_count": 3,
     "metadata": {},
     "output_type": "execute_result"
    }
   ],
   "source": [
    "torch.manual_seed(1307)"
   ]
  },
  {
   "cell_type": "code",
   "execution_count": 4,
   "id": "a436e24b-e9e3-4bcf-a1a5-a51b8aa39c90",
   "metadata": {},
   "outputs": [],
   "source": [
    "def get_transforms():\n",
    "    transforms = [\n",
    "        LabelSelect(label_id=1),\n",
    "        RandomFlip(p=0.5, orientation=\"horizontal\"),\n",
    "        # GaussianBlur(p=0.5, kernel_size=7, sigma=(.1, 1.5)),\n",
    "        # GaussianNoise(p=0.2, mean=0, sigma=0.2),\n",
    "        RandomAffine(p=0.2, shear=(-18,18)),\n",
    "        RandomAffine(p=0.2, degrees=15),\n",
    "        RandomAffine(p=0.2, translate=(-0.1,0.1)),\n",
    "        RandomAffine(p=0.2, scale=(0.9, 1.1)),\n",
    "#         #RandomResizeCrop(p=1., scale=(0.6, 1.), ratio=(3./4., 4./3.))\n",
    "\n",
    "#         #RandomResizeCrop(p=1., scale=(0.3, 0.5), ratio=(3./4., 4./3.)) # ssn\n",
    "            \n",
    "    ]\n",
    "    transforms.append(lambda x, y: (x, y.squeeze().type(torch.long)))\n",
    "    return PairedCompose(transforms)\n",
    "\n",
    "def none_transform():\n",
    "    transforms = [\n",
    "        LabelSelect(label_id=1),\n",
    "        lambda x, y: (x, y.squeeze().type(torch.long))\n",
    "    ]\n",
    "    return PairedCompose(transforms)\n",
    "\n",
    "def train_val_test_split(dataset, val_prop, test_prop, seed):\n",
    "        # I think the sklearn version might be prefereable for determinism and things\n",
    "        # but that involves fiddling with the dataset implementation I think....\n",
    "        size = len(dataset)\n",
    "        test_size = int(test_prop*size) \n",
    "        val_size = int(val_prop*size)\n",
    "        train_size = size - val_size - test_size\n",
    "        train, val, test = random_split(dataset, [train_size, val_size, test_size], generator=torch.Generator().manual_seed(seed))\n",
    "        return train, val, test"
   ]
  },
  {
   "cell_type": "code",
   "execution_count": 5,
   "id": "581552a2-11fb-4fbb-80f4-37e6d043aef7",
   "metadata": {},
   "outputs": [],
   "source": [
    "import torch\n",
    "import torch.nn as nn\n",
    "from trustworthai.models.uq_models.drop_UNet import normalization_layer\n",
    "import torch.nn.functional as F\n",
    "from trustworthai.models.uq_models.initial_variants.HyperMapp3r_deterministic import HyperMapp3r\n",
    "import torch.distributions as td\n",
    "from typing import Tuple\n",
    "from torch.utils.data import Dataset"
   ]
  },
  {
   "cell_type": "code",
   "execution_count": 6,
   "id": "b480ad28-8e8d-4e4b-9305-d3024aaa1ddc",
   "metadata": {},
   "outputs": [],
   "source": [
    "ckpt_dir = None\n",
    "is3D = False\n",
    "root_dir = \"/disk/scratch/s2208943/ipdis/preprep/out_data/collated/\"\n",
    "#root_dir = \"/media/benp/NVMEspare/datasets/preprocessing_attempts/local_results/collated/\"\n",
    "wmh_dir = root_dir + \"WMH_challenge_dataset/\"\n",
    "ed_dir = root_dir + \"EdData/\"\n",
    "\n",
    "domains = [ed_dir + d for d in [\"domainA\", \"domainB\", \"domainC\", \"domainD\"]]\n",
    "# domains = [ wmh_dir + d for d in ['Singapore', 'GE3T', 'Utrecht']]\n",
    "\n",
    "train_proportion = 0.7\n",
    "test_proportion = 0.15\n",
    "validation_proportion = 0.15\n",
    "seed = 3407"
   ]
  },
  {
   "cell_type": "code",
   "execution_count": 7,
   "id": "35a3c6cf-84b5-4f1e-8c35-3f181101dd5b",
   "metadata": {},
   "outputs": [],
   "source": [
    "### 3d to 2d dataset\n",
    "class MRISegDataset2DFrom3D(Dataset):\n",
    "    def __init__(self, dataset3D, transforms=None):\n",
    "        # calculate total number of slices (note need to iterate through every item\n",
    "        # because each image may have a different number of slices\n",
    "        size = 0\n",
    "        for data in dataset3D:\n",
    "            x = data[0]\n",
    "            size += x.shape[1]\n",
    "            \n",
    "        self.size = size\n",
    "        self.dataset3D = dataset3D\n",
    "        self.transforms = transforms\n",
    "        \n",
    "        idx_to_scan_index = []\n",
    "        scan_starting_index = []\n",
    "        \n",
    "        scan_count = 0\n",
    "        starting_index = 0\n",
    "        for (ind, _) in dataset3D:\n",
    "            d_size = ind.shape[1] # slices are the second dim of 3D scan\n",
    "            idx_to_scan_index.append(torch.ones(d_size) * scan_count)\n",
    "            scan_starting_index.append(starting_index)\n",
    "            \n",
    "            scan_count += 1\n",
    "            starting_index += d_size\n",
    "            \n",
    "        self.idx_to_scan = torch.cat(idx_to_scan_index, dim=0).type(torch.int32)\n",
    "        # print(self.idx_to_scan.shape)\n",
    "        self.scan_starting_index = scan_starting_index\n",
    "        \n",
    "    def __getitem__(self, idx):\n",
    "        # find out which scan to use\n",
    "        scan_idx = self.idx_to_scan[idx]\n",
    "        # get that dataset\n",
    "        scan_img, scan_label = self.dataset3D[scan_idx]\n",
    "        # find out where the element is in that dataset\n",
    "        item_idx = idx - self.scan_starting_index[scan_idx]\n",
    "        \n",
    "        #print(scan_img.shape, scan_label.shape)\n",
    "        slice_x = scan_img[:, item_idx]\n",
    "        slice_y = scan_label[:, item_idx] # slices are the second dim of a 3D scan (its channels, z, x, y for 3D scans)\n",
    "        \n",
    "        if self.transforms:\n",
    "            slice_x, slice_y = self.transforms(slice_x, slice_y)\n",
    "        \n",
    "        return slice_x, slice_y\n",
    "        \n",
    "    def __len__(self):\n",
    "        return self.size"
   ]
  },
  {
   "cell_type": "code",
   "execution_count": 8,
   "id": "afb26101-3bae-4801-95db-81127d60a056",
   "metadata": {},
   "outputs": [],
   "source": [
    "### empty slice splitting\n",
    "class FilteredEmptyElementsDataset(Dataset):\n",
    "    def __init__(self, dataset, seed, transforms=None, empty_proportion_retained=0.1):\n",
    "        # print(len(dataset))\n",
    "        self.base_dataset = dataset\n",
    "        self.transforms = transforms\n",
    "        empty_indices = []\n",
    "        self.non_empty_indices = []\n",
    "        count = 0\n",
    "        for i, (x, y) in enumerate(dataset):\n",
    "            if y.sum() == 0:\n",
    "                count += 1\n",
    "                empty_indices.append(i)\n",
    "            else:\n",
    "                self.non_empty_indices.append(i)\n",
    "           \n",
    "        # print(count)\n",
    "        # print(len(self.non_empty_indices))\n",
    "        #print(count * empty_proportion_retained)\n",
    "                \n",
    "        # extract only a limited proportion of empty slices (take a random selection)\n",
    "        shuffled_indices = torch.randperm(count, generator=torch.Generator().manual_seed(seed))\n",
    "        emtpy_indices = torch.Tensor(empty_indices)\n",
    "        self.retained_empty_indices = torch.Tensor(empty_indices)[shuffled_indices[0:int(count * empty_proportion_retained)]]\n",
    "        self.size = len(self.non_empty_indices) + len(self.retained_empty_indices)\n",
    "        self.non_empty_size = len(self.non_empty_indices)\n",
    "        \n",
    "            \n",
    "    def __getitem__(self, idx):\n",
    "        if idx >= self.non_empty_size:\n",
    "            # select an empty slice\n",
    "            new_idx = self.retained_empty_indices[idx - self.non_empty_size]\n",
    "        else:\n",
    "            # select a slice with label in it\n",
    "            new_idx = self.non_empty_indices[idx]\n",
    "        new_idx = int(new_idx)\n",
    "        \n",
    "        img, label = self.base_dataset[new_idx]\n",
    "        \n",
    "        if self.transforms:\n",
    "            img, label = self.transforms(img, label)\n",
    "            \n",
    "        return img, label\n",
    "\n",
    "    def __len__(self):\n",
    "        return self.size"
   ]
  },
  {
   "cell_type": "code",
   "execution_count": 9,
   "id": "01b604dd-8578-4a41-b2c4-2cd5d3c86f10",
   "metadata": {},
   "outputs": [],
   "source": [
    "datasets_domains = [MRISegmentation3DDataset(root_dir, domain, transforms=None) for domain in domains]\n",
    "\n",
    "# split into train, val test datasets\n",
    "datasets_3d = [train_val_test_split(dataset, validation_proportion, test_proportion, seed) for dataset in datasets_domains]\n",
    "\n",
    "# concat the train val test datsets\n",
    "train_dataset_3d = ConcatDataset([ds[0] for ds in datasets_3d])\n",
    "val_dataset_3d = ConcatDataset([ds[1] for ds in datasets_3d])\n",
    "test_dataset_3d = ConcatDataset([ds[2] for ds in datasets_3d])"
   ]
  },
  {
   "cell_type": "code",
   "execution_count": 10,
   "id": "42b1953d-6c45-4cd9-8530-e9fe1b15e314",
   "metadata": {},
   "outputs": [],
   "source": [
    "datasets_2d = [MRISegDataset2DFrom3D(ds, transforms=None) for ds in [train_dataset_3d, val_dataset_3d, test_dataset_3d]]"
   ]
  },
  {
   "cell_type": "code",
   "execution_count": 11,
   "id": "27886bdf-2651-4824-b26e-55bd7bc9f1e1",
   "metadata": {},
   "outputs": [],
   "source": [
    "train_dataset, val_dataset, test_dataset = [FilteredEmptyElementsDataset(ds, seed=seed, transforms=get_transforms()) for ds in datasets_2d]"
   ]
  },
  {
   "cell_type": "code",
   "execution_count": 12,
   "id": "d668d153-7de4-4e02-9e47-bff64f76aeb8",
   "metadata": {},
   "outputs": [
    {
     "data": {
      "text/plain": [
       "torch.Size([224, 160])"
      ]
     },
     "execution_count": 12,
     "metadata": {},
     "output_type": "execute_result"
    }
   ],
   "source": [
    "val_dataset[0][1].shape"
   ]
  },
  {
   "cell_type": "code",
   "execution_count": 13,
   "id": "ab944a5e-c663-4113-ad12-7abbc66df80a",
   "metadata": {},
   "outputs": [],
   "source": [
    "# define dataloaders\n",
    "train_dataloader = DataLoader(train_dataset, batch_size=64, shuffle=True, num_workers=4)\n",
    "test_dataloader = DataLoader(test_dataset, batch_size = 30, shuffle=False, num_workers=4)\n",
    "val_dataloader = DataLoader(val_dataset, batch_size=64, shuffle=False, num_workers=4)"
   ]
  },
  {
   "cell_type": "code",
   "execution_count": 14,
   "id": "3d971987-cfae-404b-80bd-7a92a9c076f9",
   "metadata": {},
   "outputs": [],
   "source": [
    "def two_class_prob(p_hat):\n",
    "    p_hat = torch.nn.functional.softmax(p_hat, dim=1)\n",
    "    p_hat = p_hat[:,1,:] # select class 0\n",
    "    return p_hat\n",
    "\n",
    "def individual_dice(p_hat, y_true):\n",
    "    p_hat = two_class_prob(p_hat)\n",
    "    s0 = p_hat.shape[0]\n",
    "    p_hat = p_hat.view(s0,-1)\n",
    "    y_true = y_true.view(s0,-1)\n",
    "    numerator = torch.sum(2. * p_hat * y_true, dim=1) + 1.\n",
    "    denominator = torch.sum(y_true + p_hat, dim=1) + 1.\n",
    "    combined = 1. - (numerator/denominator)\n",
    "    return combined\n",
    "    \n",
    "def dice_loss(p_hat, y_true):\n",
    "    combined = individual_dice(p_hat, y_true)\n",
    "    \n",
    "    # is empties\n",
    "    locs = torch.sum(y_true, dim=(-2, -1)) == 0\n",
    "    wheres = torch.where(locs)[0]\n",
    "    #print(wheres.shape)\n",
    "    # print(wheres)\n",
    "    #print(combined)\n",
    "    r = 0.5\n",
    "    combined[wheres] *= r\n",
    "    #print(combined)\n",
    "    \n",
    "    return torch.sum(combined) / ((y_true.shape[0] - wheres.shape[0]) + (wheres.shape[0] * r))\n",
    "\n",
    "def dice_loss_old(p_hat, y_true):\n",
    "    combined = individual_dice(p_hat, y_true)\n",
    "    return torch.mean(combined)"
   ]
  },
  {
   "cell_type": "code",
   "execution_count": 15,
   "id": "70620e2f",
   "metadata": {},
   "outputs": [],
   "source": [
    "import torch\n",
    "import torch.nn as nn\n",
    "from trustworthai.models.uq_models.drop_UNet import normalization_layer\n",
    "import torch.nn.functional as F\n",
    "from trustworthai.models.uq_models.initial_variants.HyperMapp3r_deterministic import HyperMapp3r\n",
    "import torch.distributions as td\n",
    "from typing import Tuple\n",
    "from torch.utils.data import Dataset"
   ]
  },
  {
   "cell_type": "code",
   "execution_count": 16,
   "id": "e45c1f78-65e6-43b4-9403-88d655293f6d",
   "metadata": {},
   "outputs": [],
   "source": [
    "def get_conv_func(dims, transpose=False):\n",
    "    # determine convolution func\n",
    "        if dims == 2:\n",
    "            if transpose:\n",
    "                return nn.ConvTranspose2d\n",
    "            else:\n",
    "                return nn.Conv2d\n",
    "        elif dims == 3:\n",
    "            if transpose:\n",
    "                return nn.ConvTranspose3d\n",
    "            else:\n",
    "                return nn.Conv3d\n",
    "        else:\n",
    "            raise ValueError(f\"values of dims of 2 or 3 (2D or 2D conv) are supported only, not {dims}\")\n",
    "            \n",
    "def get_dropout_func(dims):\n",
    "    if dims == 2:\n",
    "        return nn.Dropout2d\n",
    "    if dims == 3:\n",
    "        return nn.Dropout3d\n",
    "    else:\n",
    "        return nn.Dropout"
   ]
  },
  {
   "cell_type": "code",
   "execution_count": 17,
   "id": "abad93bf-b8ac-4a2d-b8f5-7f8a6009617d",
   "metadata": {},
   "outputs": [],
   "source": [
    "class ReshapedDistribution(td.Distribution):\n",
    "    def __init__(self, base_distribution: td.Distribution, new_event_shape: Tuple[int, ...]):\n",
    "        super().__init__(batch_shape=base_distribution.batch_shape, event_shape=new_event_shape, validate_args=False)\n",
    "        self.base_distribution = base_distribution\n",
    "        self.new_shape = base_distribution.batch_shape + new_event_shape\n",
    "        \n",
    "        #print(\"base distribution: \", self.base_distribution)\n",
    "\n",
    "    @property\n",
    "    def support(self):\n",
    "        return self.base_distribution.support\n",
    "\n",
    "    @property\n",
    "    def arg_constraints(self):\n",
    "        return self.base_distribution.arg_constraints()\n",
    "\n",
    "    @property\n",
    "    def mean(self):\n",
    "        return self.base_distribution.mean.view(self.new_shape)\n",
    "\n",
    "    @property\n",
    "    def variance(self):\n",
    "        return self.base_distribution.variance.view(self.new_shape)\n",
    "\n",
    "    def rsample(self, sample_shape=torch.Size()):\n",
    "        return self.base_distribution.rsample(sample_shape).view(sample_shape + self.new_shape)\n",
    "    \n",
    "    def rsample_single(self, sample_shape=torch.Size()):\n",
    "        return self.base_distribution.rsample_single(sample_shape).view(sample_shape + self.new_shape)\n",
    "\n",
    "    def log_prob(self, value):\n",
    "        return self.base_distribution.log_prob(value.view(self.batch_shape + (-1,)))\n",
    "\n",
    "    def entropy(self):\n",
    "        return self.base_distribution.entropy()   "
   ]
  },
  {
   "cell_type": "code",
   "execution_count": 18,
   "id": "29df04d4-4c0e-4973-bc10-12d18de8c20a",
   "metadata": {},
   "outputs": [],
   "source": [
    "# import pyro\n",
    "from torch.distributions.multivariate_normal import _batch_mahalanobis, _batch_mv\n",
    "from torch.distributions.utils import _standard_normal, lazy_property\n",
    "# from pyro.distributions.torch_distribution import TorchDistribution\n",
    "\n",
    "import math\n",
    "\n",
    "import torch\n",
    "from torch.distributions import constraints\n",
    "from torch.distributions.utils import lazy_property\n",
    "\n",
    "# from pyro.distributions.torch import Chi2\n",
    "# from pyro.distributions.torch_distribution import TorchDistribution\n",
    "# from pyro.distributions.util import broadcast_shape\n",
    "\n",
    "# def _batch_capacitance_tril(W, D):\n",
    "#     r\"\"\"\n",
    "#     Computes Cholesky of :math:`I + W.T @ inv(D) @ W` for a batch of matrices :math:`W`\n",
    "#     and a batch of vectors :math:`D`.\n",
    "#     \"\"\"\n",
    "#     m = W.size(-1)\n",
    "#     Wt_Dinv = W.mT / D.unsqueeze(-2)\n",
    "#     K = torch.matmul(Wt_Dinv, W).contiguous()\n",
    "#     K.view(-1, m * m)[:, ::m + 1] += 1  # add identity matrix to K\n",
    "#     return torch.linalg.cholesky(K)\n",
    "\n",
    "\n",
    "# def _batch_lowrank_logdet(W, D, capacitance_tril):\n",
    "#     r\"\"\"\n",
    "#     Uses \"matrix determinant lemma\"::\n",
    "#         log|W @ W.T + D| = log|C| + log|D|,\n",
    "#     where :math:`C` is the capacitance matrix :math:`I + W.T @ inv(D) @ W`, to compute\n",
    "#     the log determinant.\n",
    "#     \"\"\"\n",
    "#     return 2 * capacitance_tril.diagonal(dim1=-2, dim2=-1).log().sum(-1) + D.log().sum(-1)\n",
    "\n",
    "\n",
    "# def _batch_lowrank_mahalanobis(W, D, x, capacitance_tril):\n",
    "#     r\"\"\"\n",
    "#     Uses \"Woodbury matrix identity\"::\n",
    "#         inv(W @ W.T + D) = inv(D) - inv(D) @ W @ inv(C) @ W.T @ inv(D),\n",
    "#     where :math:`C` is the capacitance matrix :math:`I + W.T @ inv(D) @ W`, to compute the squared\n",
    "#     Mahalanobis distance :math:`x.T @ inv(W @ W.T + D) @ x`.\n",
    "#     \"\"\"\n",
    "#     Wt_Dinv = W.mT / D.unsqueeze(-2)\n",
    "#     Wt_Dinv_x = _batch_mv(Wt_Dinv, x)\n",
    "#     mahalanobis_term1 = (x.pow(2) / D).sum(-1)\n",
    "#     mahalanobis_term2 = _batch_mahalanobis(capacitance_tril, Wt_Dinv_x)\n",
    "#     return mahalanobis_term1 - mahalanobis_term2\n",
    "\n",
    "# class LowRankMultivariateStudentT_V3(TorchDistribution):\n",
    "#     \"\"\"\n",
    "#     Creates a multivariate t distribution with covariance matrix having a low-rank\n",
    "#     form parameterized by :attr:`cov_factor` and :attr:`cov_diag`::\n",
    "#         covariance_matrix = cov_factor @ cov_factor.T + cov_diag\n",
    "    \n",
    "#     Args:\n",
    "    \n",
    "#     df (Tensor): degrees of freedom of the distribution\n",
    "#     loc (Tensor): mean of the distribution with shape `batch_shape + event_shape`\n",
    "#     cov_factor (Tensor): factor part of low-rank form of covariance matrix with shape\n",
    "#         `batch_shape + event_shape + (rank,)`\n",
    "#     cov_diag (Tensor): diagonal part of low-rank form of covariance matrix with shape\n",
    "#         `batch_shape + event_shape`\n",
    "\n",
    "#     Note:\n",
    "#         The computation for determinant and inverse of covariance matrix is avoided when\n",
    "#         `cov_factor.shape[1] << cov_factor.shape[0]` thanks to `Woodbury matrix identity\n",
    "#         <https://en.wikipedia.org/wiki/Woodbury_matrix_identity>`_ and\n",
    "#         `matrix determinant lemma <https://en.wikipedia.org/wiki/Matrix_determinant_lemma>`_.\n",
    "#         Thanks to these formulas, we just need to compute the determinant and inverse of\n",
    "#         the small size \"capacitance\" matrix::\n",
    "\n",
    "#             capacitance = I + cov_factor.T @ inv(cov_diag) @ cov_factor\n",
    "#     \"\"\"\n",
    "    \n",
    "#     arg_constraints = {\"df\": constraints.positive,\n",
    "#                        \"loc\": constraints.real_vector,\n",
    "#                        \"cov_factor\": constraints.independent(constraints.real, 2),\n",
    "#                        \"cov_diag\": constraints.independent(constraints.positive, 1)}\n",
    "    \n",
    "#     support = constraints.real_vector\n",
    "#     has_rsample = True\n",
    "    \n",
    "#     def __init__(self, df, loc, cov_factor, cov_diag, validate_args=None):\n",
    "#         if loc.dim() < 1:\n",
    "#             raise ValueError(\"loc must be at least one-dimensional.\")\n",
    "#         event_shape = loc.shape[-1:]\n",
    "#         if cov_factor.dim() < 2:\n",
    "#             raise ValueError(\"cov_factor must be at least two_dimensional\")\n",
    "#         if cov_factor.shape[-2:-1] != event_shape:\n",
    "#             raise ValueError(\"cov_factor must be a batch of matrices with shape {} x m\".format(event_shape[0]))\n",
    "#         if cov_diag.shape[-1:] != event_shape:\n",
    "#             raise ValueError(\"cov_diag must be a batch of vectors with shape {}\".format(event_shape))\n",
    "            \n",
    "#         if not isinstance(df, torch.Tensor):\n",
    "#             df = loc.new_tensor(df)\n",
    "            \n",
    "#         loc_ = loc.unsqueeze(-1)\n",
    "#         cov_diag_ = cov_diag.unsqueeze(-1)\n",
    "#         try:\n",
    "#             loc_, self.cov_factor, cov_diag_ = torch.broadcast_tensors(loc_, cov_factor, cov_diag_)\n",
    "#         except RuntimeError as e:\n",
    "#             raise ValueError(\"Incompatible batch shapes: loc {}, cov_factor {}, cov_diag {}\"\n",
    "#                              .format(loc.shape, cov_factor.shape, cov_diag.shape)) from e\n",
    "        \n",
    "#         self.loc = loc_[..., 0]\n",
    "#         self.cov_diag = cov_diag_[..., 0]\n",
    "#         batch_shape = self.loc.shape[:-1]\n",
    "#         self.df = df.expand(batch_shape)\n",
    "\n",
    "#         self._unbroadcasted_cov_factor = cov_factor\n",
    "#         self._unbroadcasted_cov_diag = cov_diag\n",
    "#         self._capacitance_tril = _batch_capacitance_tril(cov_factor, cov_diag)\n",
    "        \n",
    "#         self._chi2 = Chi2(self.df)\n",
    "        \n",
    "#         super().__init__(batch_shape, event_shape, validate_args=validate_args)\n",
    "        \n",
    "#     def expand(self, batch_shape, _instance=None):\n",
    "#         new = self._get_checked_instance(LowRankMultivariateNormal, _instance)\n",
    "#         batch_shape = torch.Size(batch_shape)\n",
    "#         loc_shape = batch_shape + self.event_shape\n",
    "#         new.df = self.df = df.expand(loc_shape)\n",
    "#         new.loc = self.loc.expand(loc_shape)\n",
    "#         new._chi2 = self._chi2.expand(loc_shape)\n",
    "#         new.cov_diag = self.cov_diag.expand(loc_shape)\n",
    "#         new.cov_factor = self.cov_factor.expand(loc_shape + self.cov_factor.shape[-1:])\n",
    "#         new._unbroadcasted_cov_factor = self._unbroadcasted_cov_factor\n",
    "#         new._unbroadcasted_cov_diag = self._unbroadcasted_cov_diag\n",
    "#         new._capacitance_tril = self._capacitance_tril\n",
    "#         super(LowRankMultivariateStudentT_V2, new).__init__(batch_shape,\n",
    "#                                                        self.event_shape,\n",
    "#                                                        validate_args=False)\n",
    "#         new._validate_args = self._validate_args\n",
    "#         return new\n",
    "    \n",
    "#     @lazy_property\n",
    "#     def scale_tril(self):\n",
    "#         # The following identity is used to increase the numerically computation stability\n",
    "#         # for Cholesky decomposition (see http://www.gaussianprocess.org/gpml/, Section 3.4.3):\n",
    "#         #     W @ W.T + D = D1/2 @ (I + D-1/2 @ W @ W.T @ D-1/2) @ D1/2\n",
    "#         # The matrix \"I + D-1/2 @ W @ W.T @ D-1/2\" has eigenvalues bounded from below by 1,\n",
    "#         # hence it is well-conditioned and safe to take Cholesky decomposition.\n",
    "#         n = self._event_shape[0]\n",
    "#         cov_diag_sqrt_unsqueeze = self._unbroadcasted_cov_diag.sqrt().unsqueeze(-1)\n",
    "#         Dinvsqrt_W = self._unbroadcasted_cov_factor / cov_diag_sqrt_unsqueeze\n",
    "#         K = torch.matmul(Dinvsqrt_W, Dinvsqrt_W.mT).contiguous()\n",
    "#         K.view(-1, n * n)[:, ::n + 1] += 1  # add identity matrix to K\n",
    "#         scale_tril = cov_diag_sqrt_unsqueeze * torch.linalg.cholesky(K)\n",
    "#         return scale_tril.expand(self._batch_shape + self._event_shape + self._event_shape)\n",
    "\n",
    "#     @lazy_property\n",
    "#     def covariance_matrix(self):\n",
    "#         # NB: this is not covariance of this distribution;\n",
    "#         # the actual covariance is df / (df - 2) * covariance_matrix\n",
    "#         covariance_matrix = (torch.matmul(self._unbroadcasted_cov_factor,\n",
    "#                                           self._unbroadcasted_cov_factor.mT)\n",
    "#                              + torch.diag_embed(self._unbroadcasted_cov_diag))\n",
    "#         return covariance_matrix.expand(self._batch_shape + self._event_shape +\n",
    "#                                         self._event_shape)\n",
    "\n",
    "#     @lazy_property\n",
    "#     def precision_matrix(self):\n",
    "#         # We use \"Woodbury matrix identity\" to take advantage of low rank form::\n",
    "#         #     inv(W @ W.T + D) = inv(D) - inv(D) @ W @ inv(C) @ W.T @ inv(D)\n",
    "#         # where :math:`C` is the capacitance matrix.\n",
    "#         Wt_Dinv = (self._unbroadcasted_cov_factor.mT\n",
    "#                    / self._unbroadcasted_cov_diag.unsqueeze(-2))\n",
    "#         A = torch.linalg.solve_triangular(self._capacitance_tril, Wt_Dinv, upper=False)\n",
    "#         precision_matrix = torch.diag_embed(self._unbroadcasted_cov_diag.reciprocal()) - A.mT @ A\n",
    "#         return precision_matrix.expand(self._batch_shape + self._event_shape +\n",
    "#                                        self._event_shape)\n",
    "    \n",
    "#     def rsample(self, sample_shape=torch.Size()):\n",
    "#         shape = self._extended_shape(sample_shape)\n",
    "#         #X = torch.empty(shape, dtype=self.df.dtype, device=self.df.device).normal_()\n",
    "#         Z = self._chi2.rsample(sample_shape)\n",
    "#         #Y = X * torch.rsqrt(Z / self.df).unsqueeze(-1)\n",
    "#         #return self.loc + self.scale_tril.matmul(Y.unsqueeze(-1)).squeeze(-1)\n",
    "        \n",
    "#         W_shape = shape[:-1] + self.cov_factor.shape[-1:]\n",
    "#         eps_W = _standard_normal(W_shape, dtype=self.loc.dtype, device=self.loc.device)\n",
    "#         eps_D = _standard_normal(shape, dtype=self.loc.dtype, device=self.loc.device)\n",
    "        \n",
    "#         frac = torch.rsqrt(Z / self.df).unsqueeze(-1)\n",
    "#         Yeps_W = eps_W * frac\n",
    "#         Yeps_D = eps_D * frac\n",
    "#         return (self.loc + _batch_mv(self._unbroadcasted_cov_factor, Yeps_W)\n",
    "#                 + self._unbroadcasted_cov_diag.sqrt() * Yeps_D)\n",
    "        \n",
    "\n",
    "\n",
    "#     def log_prob(self, value):\n",
    "#         if self._validate_args:\n",
    "#             self._validate_sample(value)\n",
    "#         n = self.loc.size(-1)\n",
    "#         diff = (value - self.loc)\n",
    "#         y = _batch_lowrank_mahalanobis(self._unbroadcasted_cov_factor,\n",
    "#                                        self._unbroadcasted_cov_diag,\n",
    "#                                        diff,\n",
    "#                                        self._capacitance_tril)\n",
    "        \n",
    "#         log_det = _batch_lowrank_logdet(self._unbroadcasted_cov_factor,\n",
    "#                                         self._unbroadcasted_cov_diag,\n",
    "#                                         self._capacitance_tril)\n",
    "#         Z = (\n",
    "#             log_det * 0.5\n",
    "#             + 0.5 * n * self.df.log()\n",
    "#             + 0.5 * n * math.log(math.pi)\n",
    "#             + torch.lgamma(0.5 * self.df)\n",
    "#             - torch.lgamma(0.5 * (self.df + n))\n",
    "#         )\n",
    "#         return -0.5 * (self.df + n) * torch.log1p(y / self.df) - Z\n",
    "\n",
    "\n",
    "#     @property\n",
    "#     def mean(self):\n",
    "#         m = self.loc.clone()\n",
    "#         m[self.df <= 1, :] = float(\"nan\")\n",
    "#         return m\n",
    "\n",
    "#     @property\n",
    "#     def variance(self):\n",
    "#         m = self.scale_tril.pow(2).sum(-1) * (self.df / (self.df - 2)).unsqueeze(-1)\n",
    "#         m[(self.df <= 2) & (self.df > 1), :] = float(\"inf\")\n",
    "#         m[self.df <= 1, :] = float(\"nan\")\n",
    "#         return m"
   ]
  },
  {
   "cell_type": "code",
   "execution_count": 19,
   "id": "13875f43-101c-4d6d-9254-47cb7a5c1f45",
   "metadata": {},
   "outputs": [],
   "source": [
    "import torch\n",
    "import torch.nn as nn\n",
    "import torch.nn.functional as F\n",
    "import torchvision.transforms.functional as transforms\n",
    "\n",
    "class HmResBlock(nn.Module):\n",
    "    def __init__(self, channels, p):\n",
    "        super().__init__()\n",
    "        self.conv1 = nn.Conv2d(channels, channels, kernel_size=7, stride=1, dilation=2, padding='same')\n",
    "        self.dropout1 = nn.Dropout2d(p)\n",
    "        self.norm1 = nn.InstanceNorm2d(channels)\n",
    "        self.conv2 = nn.Conv2d(channels, channels, kernel_size=3, stride=1, dilation=2, padding='same')\n",
    "        self.norm2 = nn.InstanceNorm2d(channels)\n",
    "        self.activ = nn.ReLU()\n",
    "        \n",
    "    def forward(self, x):\n",
    "        identity = x\n",
    "        \n",
    "        out = self.conv1(x)\n",
    "        out = self.norm1(out)\n",
    "        out = self.activ(out)\n",
    "        out = self.dropout1(out)\n",
    "        \n",
    "        out = self.conv2(out)\n",
    "        out = self.norm2(out)\n",
    "        out = self.activ(out)\n",
    "        \n",
    "        out = out + identity\n",
    "        \n",
    "        return out\n",
    "    \n",
    "class DownBlock(nn.Module):\n",
    "    def __init__(self, ins, outs):\n",
    "        super().__init__()\n",
    "        self.conv = nn.Conv2d(ins, outs, kernel_size=3, stride=2, dilation=1, padding=1)\n",
    "        self.norm = nn.InstanceNorm2d(outs)\n",
    "        self.activ = nn.ReLU()\n",
    "        \n",
    "    def forward(self, x):\n",
    "        return self.activ(self.norm(self.conv(x)))\n",
    "\n",
    "class HmUpsampBlock(nn.Module):\n",
    "    def __init__(self, channels):\n",
    "        super().__init__()\n",
    "        self.conv = nn.Conv2d(channels*2, channels, kernel_size=3, stride=1, dilation=1, padding='same')\n",
    "        self.norm = nn.InstanceNorm2d(channels)\n",
    "        self.activ = nn.ReLU()\n",
    "        \n",
    "    def forward(self, x):\n",
    "        out = F.interpolate(x, scale_factor=2, mode='bilinear')\n",
    "        return self.activ(self.norm(self.conv(out)))\n",
    "        \n",
    "\n",
    "class HmFeatureBlock(nn.Module):\n",
    "    def __init__(self, ins):\n",
    "        super().__init__()\n",
    "        self.conv1 = nn.Conv2d(ins, ins//2, kernel_size=3, stride=1, dilation=2, padding='same')\n",
    "        self.activ = nn.ReLU()\n",
    "        self.norm1 = nn.InstanceNorm2d(ins)\n",
    "        self.conv2 = nn.Conv2d(ins//2, ins//2, kernel_size=1, stride=1, dilation=1)\n",
    "        self.norm2 = nn.InstanceNorm2d(ins)\n",
    "        \n",
    "    def forward(self, x):\n",
    "        out = self.conv1(x)\n",
    "        out = self.norm1(out)\n",
    "        out = self.activ(out)\n",
    "        out = self.conv2(out)\n",
    "        out = self.norm2(out)\n",
    "        out = self.activ(out)\n",
    "        \n",
    "        return out\n",
    "    \n",
    "class HyperMapREDO(nn.Module):\n",
    "    def __init__(self,dropout_p = 0., encoder_sizes=[16,32,64,128,256], inchannels=3, outchannels=2):\n",
    "        super().__init__()\n",
    "        \n",
    "        \n",
    "        # input layer\n",
    "        self.conv_first = nn.Conv2d(inchannels, encoder_sizes[0], kernel_size=5, stride=1, dilation=1, padding='same')\n",
    "        self.activ = nn.ReLU()\n",
    "        \n",
    "        # encoder section\n",
    "        l = len(encoder_sizes) - 1\n",
    "        self.down_blocks = nn.ModuleList([\n",
    "            DownBlock(encoder_sizes[i], encoder_sizes[i+1]) for i in range(0, l)\n",
    "        ])\n",
    "        \n",
    "        self.res_blocks = nn.ModuleList([\n",
    "            HmResBlock(c, dropout_p) for c in encoder_sizes\n",
    "        ])\n",
    "        \n",
    "        # decoder section\n",
    "        self.upsample_blocks = nn.ModuleList([\n",
    "            HmUpsampBlock(c) for c in encoder_sizes[:-1][::-1]\n",
    "        ])\n",
    "        \n",
    "        self.feature_blocks = nn.ModuleList([\n",
    "            HmFeatureBlock(encoder_sizes[l - i]) for i in range(l-1)\n",
    "        ])\n",
    "        \n",
    "        \n",
    "        # multi-scale feature section\n",
    "        self.ms_feature_layers = nn.ModuleList([\n",
    "            nn.Conv2d(encoder_sizes[2], encoder_sizes[1], 3, padding='same'),\n",
    "            nn.Conv2d(encoder_sizes[1], encoder_sizes[1], 3, padding='same'),\n",
    "            nn.Conv2d(encoder_sizes[1], encoder_sizes[1], 3, padding='same')\n",
    "        ])\n",
    "        \n",
    "        \n",
    "        # output layer\n",
    "        self.last_1 = nn.Conv2d(encoder_sizes[1], encoder_sizes[1], 3, padding='same')\n",
    "        self.last_2 = nn.Conv2d(encoder_sizes[1]*3, encoder_sizes[1], 1)\n",
    "        self.last_3 = nn.Conv2d(encoder_sizes[1], outchannels, 1)\n",
    "        self.last_norm = nn.InstanceNorm2d(encoder_sizes[1])\n",
    "        \n",
    "    def forward(self, x):\n",
    "        # input layer\n",
    "        out = self.activ(self.conv_first(x))\n",
    "        # print(out.shape)\n",
    "        \n",
    "        skips = []\n",
    "        \n",
    "        # encoder section\n",
    "        out = self.res_blocks[0](out)\n",
    "        # print(out.shape)\n",
    "        skips.append(out)\n",
    "        for i in range(len(self.res_blocks) - 1):\n",
    "            out = self.down_blocks[i](out)\n",
    "            out = self.res_blocks[i+1](out)\n",
    "            # print(\"loop: \", out.shape)\n",
    "            skips.append(out)\n",
    "        \n",
    "        # decoder section\n",
    "        ml_features = []\n",
    "        out = skips.pop()\n",
    "        for i in range(len(self.upsample_blocks)):\n",
    "            # print(\"dec\")\n",
    "            if i > 0:\n",
    "                sk = skips.pop()\n",
    "                sk = transforms.center_crop(sk, out.shape[-2:])\n",
    "                out = torch.cat([out, sk], dim=1)\n",
    "                out = self.feature_blocks[i-1](out)\n",
    "            \n",
    "            if i > 1:\n",
    "                ml_features.append(self.ms_feature_layers[i-2](out))\n",
    "                \n",
    "            out = self.upsample_blocks[i](out)\n",
    "        \n",
    "        # final layers\n",
    "        sk = skips.pop()\n",
    "        sk = transforms.center_crop(sk, out.shape[-2:])\n",
    "        out = torch.cat([out, sk], dim=1)\n",
    "        out = self.last_norm(self.activ(self.last_1(out)))\n",
    "        \n",
    "        # multiscale feature section\n",
    "        ml_features = [out] + ml_features\n",
    "        ml_features = [F.interpolate(mf, size=x.shape[-2:], mode='bilinear') for mf in ml_features]\n",
    "        combined_features = torch.cat(ml_features, dim=1)\n",
    "        \n",
    "        out = self.activ(self.last_2(combined_features))\n",
    "        out = self.last_3(out)\n",
    "        \n",
    "        return out\n",
    "        "
   ]
  },
  {
   "cell_type": "code",
   "execution_count": 20,
   "id": "8cb08829-1f8b-4bad-a376-6982fa471bd6",
   "metadata": {},
   "outputs": [],
   "source": [
    "class LowRankMultivariateNormalCustom(td.Distribution):\n",
    "    r\"\"\"\n",
    "    Creates a multivariate normal distribution with covariance matrix having a low-rank form\n",
    "    parameterized by :attr:`cov_factor` and :attr:`cov_diag`::\n",
    "\n",
    "        covariance_matrix = cov_factor @ cov_factor.T + cov_diag\n",
    "\n",
    "    Example:\n",
    "        >>> # xdoctest: +REQUIRES(env:TORCH_DOCTEST_LAPACK)\n",
    "        >>> # xdoctest: +IGNORE_WANT(\"non-determenistic\")\n",
    "        >>> m = LowRankMultivariateNormal(torch.zeros(2), torch.tensor([[1.], [0.]]), torch.ones(2))\n",
    "        >>> m.sample()  # normally distributed with mean=`[0,0]`, cov_factor=`[[1],[0]]`, cov_diag=`[1,1]`\n",
    "        tensor([-0.2102, -0.5429])\n",
    "\n",
    "    Args:\n",
    "        loc (Tensor): mean of the distribution with shape `batch_shape + event_shape`\n",
    "        cov_factor (Tensor): factor part of low-rank form of covariance matrix with shape\n",
    "            `batch_shape + event_shape + (rank,)`\n",
    "        cov_diag (Tensor): diagonal part of low-rank form of covariance matrix with shape\n",
    "            `batch_shape + event_shape`\n",
    "\n",
    "    Note:\n",
    "        The computation for determinant and inverse of covariance matrix is avoided when\n",
    "        `cov_factor.shape[1] << cov_factor.shape[0]` thanks to `Woodbury matrix identity\n",
    "        <https://en.wikipedia.org/wiki/Woodbury_matrix_identity>`_ and\n",
    "        `matrix determinant lemma <https://en.wikipedia.org/wiki/Matrix_determinant_lemma>`_.\n",
    "        Thanks to these formulas, we just need to compute the determinant and inverse of\n",
    "        the small size \"capacitance\" matrix::\n",
    "\n",
    "            capacitance = I + cov_factor.T @ inv(cov_diag) @ cov_factor\n",
    "    \"\"\"\n",
    "    arg_constraints = {\"loc\": constraints.real_vector,\n",
    "                       \"cov_factor\": constraints.independent(constraints.real, 2),\n",
    "                       \"cov_diag\": constraints.independent(constraints.positive, 1)}\n",
    "    support = constraints.real_vector\n",
    "    has_rsample = True\n",
    "\n",
    "    def __init__(self, loc, cov_factor, cov_diag, validate_args=None):\n",
    "        if loc.dim() < 1:\n",
    "            raise ValueError(\"loc must be at least one-dimensional.\")\n",
    "        event_shape = loc.shape[-1:]\n",
    "        if cov_factor.dim() < 2:\n",
    "            raise ValueError(\"cov_factor must be at least two-dimensional, \"\n",
    "                             \"with optional leading batch dimensions\")\n",
    "        if cov_factor.shape[-2:-1] != event_shape:\n",
    "            raise ValueError(\"cov_factor must be a batch of matrices with shape {} x m\"\n",
    "                             .format(event_shape[0]))\n",
    "        if cov_diag.shape[-1:] != event_shape:\n",
    "            raise ValueError(\"cov_diag must be a batch of vectors with shape {}\".format(event_shape))\n",
    "\n",
    "        loc_ = loc.unsqueeze(-1)\n",
    "        cov_diag_ = cov_diag.unsqueeze(-1)\n",
    "        try:\n",
    "            loc_, self.cov_factor, cov_diag_ = torch.broadcast_tensors(loc_, cov_factor, cov_diag_)\n",
    "        except RuntimeError as e:\n",
    "            raise ValueError(\"Incompatible batch shapes: loc {}, cov_factor {}, cov_diag {}\"\n",
    "                             .format(loc.shape, cov_factor.shape, cov_diag.shape)) from e\n",
    "        self.loc = loc_[..., 0]\n",
    "        self.cov_diag = cov_diag_[..., 0]\n",
    "        batch_shape = self.loc.shape[:-1]\n",
    "\n",
    "        self._unbroadcasted_cov_factor = cov_factor\n",
    "        self._unbroadcasted_cov_diag = cov_diag\n",
    "        #self._capacitance_tril = _batch_capacitance_tril(cov_factor, cov_diag)\n",
    "        super().__init__(batch_shape, event_shape,\n",
    "                                                        validate_args=validate_args)\n",
    "\n",
    "    def expand(self, batch_shape, _instance=None):\n",
    "        new = self._get_checked_instance(LowRankMultivariateNormal, _instance)\n",
    "        batch_shape = torch.Size(batch_shape)\n",
    "        loc_shape = batch_shape + self.event_shape\n",
    "        new.loc = self.loc.expand(loc_shape)\n",
    "        new.cov_diag = self.cov_diag.expand(loc_shape)\n",
    "        new.cov_factor = self.cov_factor.expand(loc_shape + self.cov_factor.shape[-1:])\n",
    "        new._unbroadcasted_cov_factor = self._unbroadcasted_cov_factor\n",
    "        new._unbroadcasted_cov_diag = self._unbroadcasted_cov_diag\n",
    "        new._capacitance_tril = self._capacitance_tril\n",
    "        super(LowRankMultivariateNormal, new).__init__(batch_shape,\n",
    "                                                       self.event_shape,\n",
    "                                                       validate_args=False)\n",
    "        new._validate_args = self._validate_args\n",
    "        return new\n",
    "\n",
    "\n",
    "    @property\n",
    "    def mean(self):\n",
    "        return self.loc\n",
    "\n",
    "    @property\n",
    "    def mode(self):\n",
    "        return self.loc\n",
    "\n",
    "    @lazy_property\n",
    "    def variance(self):\n",
    "        return (self._unbroadcasted_cov_factor.pow(2).sum(-1)\n",
    "                + self._unbroadcasted_cov_diag).expand(self._batch_shape + self._event_shape)\n",
    "\n",
    "    @lazy_property\n",
    "    def scale_tril(self):\n",
    "        # The following identity is used to increase the numerically computation stability\n",
    "        # for Cholesky decomposition (see http://www.gaussianprocess.org/gpml/, Section 3.4.3):\n",
    "        #     W @ W.T + D = D1/2 @ (I + D-1/2 @ W @ W.T @ D-1/2) @ D1/2\n",
    "        # The matrix \"I + D-1/2 @ W @ W.T @ D-1/2\" has eigenvalues bounded from below by 1,\n",
    "        # hence it is well-conditioned and safe to take Cholesky decomposition.\n",
    "        n = self._event_shape[0]\n",
    "        cov_diag_sqrt_unsqueeze = self._unbroadcasted_cov_diag.sqrt().unsqueeze(-1)\n",
    "        Dinvsqrt_W = self._unbroadcasted_cov_factor / cov_diag_sqrt_unsqueeze\n",
    "        K = torch.matmul(Dinvsqrt_W, Dinvsqrt_W.mT).contiguous()\n",
    "        K.view(-1, n * n)[:, ::n + 1] += 1  # add identity matrix to K\n",
    "        scale_tril = cov_diag_sqrt_unsqueeze * torch.linalg.cholesky(K)\n",
    "        return scale_tril.expand(self._batch_shape + self._event_shape + self._event_shape)\n",
    "\n",
    "    @lazy_property\n",
    "    def covariance_matrix(self):\n",
    "        covariance_matrix = (torch.matmul(self._unbroadcasted_cov_factor,\n",
    "                                          self._unbroadcasted_cov_factor.mT)\n",
    "                             + torch.diag_embed(self._unbroadcasted_cov_diag))\n",
    "        return covariance_matrix.expand(self._batch_shape + self._event_shape +\n",
    "                                        self._event_shape)\n",
    "\n",
    "    @lazy_property\n",
    "    def precision_matrix(self):\n",
    "        # We use \"Woodbury matrix identity\" to take advantage of low rank form::\n",
    "        #     inv(W @ W.T + D) = inv(D) - inv(D) @ W @ inv(C) @ W.T @ inv(D)\n",
    "        # where :math:`C` is the capacitance matrix.\n",
    "        Wt_Dinv = (self._unbroadcasted_cov_factor.mT\n",
    "                   / self._unbroadcasted_cov_diag.unsqueeze(-2))\n",
    "        A = torch.linalg.solve_triangular(self._capacitance_tril, Wt_Dinv, upper=False)\n",
    "        precision_matrix = torch.diag_embed(self._unbroadcasted_cov_diag.reciprocal()) - A.mT @ A\n",
    "        return precision_matrix.expand(self._batch_shape + self._event_shape +\n",
    "                                       self._event_shape)\n",
    "\n",
    "    def rsample(self, sample_shape=torch.Size()):\n",
    "        shape = self._extended_shape(sample_shape)\n",
    "        W_shape = shape[:-1] + self.cov_factor.shape[-1:]\n",
    "        eps_W = _standard_normal(W_shape, dtype=self.loc.dtype, device=self.loc.device)\n",
    "        eps_D = _standard_normal(shape, dtype=self.loc.dtype, device=self.loc.device)\n",
    "        return (self.loc + _batch_mv(self._unbroadcasted_cov_factor, eps_W)\n",
    "                + self._unbroadcasted_cov_diag.sqrt() * eps_D)\n",
    "    \n",
    "    def rsample_single(self, sample_shape=torch.Size()):\n",
    "        # returns a sample where every element in the batch is multiplied\n",
    "        # by the same random vector\n",
    "        shape = self._extended_shape(sample_shape)\n",
    "        W_shape = shape[:-1] + self.cov_factor.shape[-1:]\n",
    "        eps_W = _standard_normal(W_shape[1:], dtype=self.loc.dtype, device=self.loc.device)\n",
    "        eps_D = _standard_normal(shape[1:], dtype=self.loc.dtype, device=self.loc.device)\n",
    "        \n",
    "        eps_W = eps_W.expand((shape[0], *eps_W.shape))\n",
    "        eps_D = eps_D.expand((shape[0], *eps_D.shape))\n",
    "        \n",
    "        # print(eps_W.shape)\n",
    "        # print(eps_D.shape)\n",
    "        \n",
    "        return (self.loc + _batch_mv(self._unbroadcasted_cov_factor, eps_W)\n",
    "                + self._unbroadcasted_cov_diag.sqrt() * eps_D)\n",
    "\n",
    "\n",
    "    def log_prob(self, value):\n",
    "        if self._validate_args:\n",
    "            self._validate_sample(value)\n",
    "        diff = value - self.loc\n",
    "        M = _batch_lowrank_mahalanobis(self._unbroadcasted_cov_factor,\n",
    "                                       self._unbroadcasted_cov_diag,\n",
    "                                       diff,\n",
    "                                       self._capacitance_tril)\n",
    "        log_det = _batch_lowrank_logdet(self._unbroadcasted_cov_factor,\n",
    "                                        self._unbroadcasted_cov_diag,\n",
    "                                        self._capacitance_tril)\n",
    "        return -0.5 * (self._event_shape[0] * math.log(2 * math.pi) + log_det + M)\n",
    "\n",
    "\n",
    "    def entropy(self):\n",
    "        log_det = _batch_lowrank_logdet(self._unbroadcasted_cov_factor,\n",
    "                                        self._unbroadcasted_cov_diag,\n",
    "                                        self._capacitance_tril)\n",
    "        H = 0.5 * (self._event_shape[0] * (1.0 + math.log(2 * math.pi)) + log_det)\n",
    "        if len(self._batch_shape) == 0:\n",
    "            return H\n",
    "        else:\n",
    "            return H.expand(self._batch_shape)"
   ]
  },
  {
   "cell_type": "code",
   "execution_count": 35,
   "id": "ec4e7977-1b9d-4245-b936-a944f486fe9d",
   "metadata": {},
   "outputs": [],
   "source": [
    "class HyperMapp3rSSN2(HyperMapREDO):\n",
    "    def __init__(self,\n",
    "                 dropout_p = 0., encoder_sizes=[16,32,64,128,256], inchannels=3, out_channels=2,\n",
    "                 ssn_rank = 10,\n",
    "                 ssn_epsilon=1e-5,\n",
    "                 ssn_diagonal=False,\n",
    "                 dims=2\n",
    "                ):\n",
    "        super().__init__(dropout_p, encoder_sizes, inchannels, outchannels=encoder_sizes[0]) # last layer of just keeps number of nodes fixed this time)\n",
    "        \n",
    "        print(\"WARNING: this model assumes that the input to the model contains the brain mask in the first channel!\")\n",
    "        conv_func = get_conv_func(dims, transpose=False)\n",
    "        self.ssn_rank = ssn_rank\n",
    "        self.ssn_diagonal = ssn_diagonal\n",
    "        self.ssn_epsilon = ssn_epsilon\n",
    "        self.ssn_num_classes = out_channels\n",
    "        \n",
    "        self.lrelu = nn.LeakyReLU(0.01)\n",
    "        \n",
    "        self.mean_l = conv_func(encoder_sizes[0], out_channels, kernel_size = (1,) *  dims, padding='same')\n",
    "        self.log_cov_diag_l = conv_func(encoder_sizes[0], out_channels, kernel_size = (1,) * dims, padding='same')\n",
    "        self.cov_factor_l = conv_func(encoder_sizes[0], out_channels * ssn_rank, kernel_size = (1,) * dims, padding='same')\n",
    "        #self.vk_l = conv_func(encoder_sizes[0], 2, kernel_size=7, padding='same')\n",
    "\n",
    "    def forward(self, x):\n",
    "        logits = self.lrelu(super().forward(x))\n",
    "\n",
    "        if torch.sum(torch.isnan(logits)) > 0:\n",
    "            print(\"NAN 1\", torch.sum(torch.isnan(logits)))\n",
    "        batch_size = logits.shape[0]\n",
    "        event_shape = (self.ssn_num_classes,) + logits.shape[2:]\n",
    "        \n",
    "        mean = self.mean_l(logits)\n",
    "        mean = mean.view((batch_size, -1))\n",
    "        \n",
    "        cov_diag = self.log_cov_diag_l(logits).exp() + self.ssn_epsilon\n",
    "        cov_diag = cov_diag.view((batch_size, -1))\n",
    "        \n",
    "        cov_factor = self.cov_factor_l(logits)\n",
    "        cov_factor = cov_factor.view((batch_size, self.ssn_rank, self.ssn_num_classes, -1))\n",
    "        cov_factor = cov_factor.flatten(2,3)\n",
    "        cov_factor = cov_factor.transpose(1,2)\n",
    "        if torch.sum(torch.isnan(mean)) > 0:\n",
    "            print(\"NAN 2\")\n",
    "        if torch.sum(torch.isnan(cov_diag)) > 0:\n",
    "            print(\"NAN 3\")\n",
    "        if torch.sum(torch.isnan(cov_factor)) > 0:\n",
    "            print(\"NAN 4\")\n",
    "            \n",
    "            \n",
    "        #vk = self.vk_l(logits).exp()\n",
    "        # print(vk.shape)\n",
    "        #vk = vk.mean(dim=(-1, -2)) # mean along each axis except for channel, yielding two values\n",
    "        #D = mean.shape[1]\n",
    "        #v = vk[:,0]\n",
    "        #k = vk[:,1]\n",
    "        #evidence_scale = (k+1) / (k*v)\n",
    "        \n",
    "        # print(\"vk shapes\")\n",
    "        # print(v.shape)\n",
    "        # print(k.shape)\n",
    "        # print(v, k, evidence_scale)\n",
    "        \n",
    "        # covariance tends to blow up to infinity, hence set to 0 outside the ROI\n",
    "        mask = x[:,1]\n",
    "        mask = mask.unsqueeze(1).expand((batch_size, self.ssn_num_classes) + mask.shape[1:]).reshape(batch_size, -1)\n",
    "        cov_factor = cov_factor * mask.unsqueeze(-1)\n",
    "        cov_diag = cov_diag * mask + self.ssn_epsilon\n",
    "        \n",
    "        if torch.sum(torch.isnan(cov_diag)) > 0:\n",
    "            print(\"NAN 3\")\n",
    "        if torch.sum(torch.isnan(cov_factor)) > 0:\n",
    "            print(\"NAN 4\")\n",
    "        \n",
    "        # print(evidence_scale.shape, (evidence_scale**0.5).shape)\n",
    "        # print(cov_diag.shape, cov_factor.shape)\n",
    "#         cov_diag *= evidence_scale.unsqueeze(-1)\n",
    "#         cov_factor *= (evidence_scale**0.5).unsqueeze(-1).unsqueeze(-1)\n",
    "        \n",
    "        if torch.sum(torch.isnan(mask)) > 0:\n",
    "            print(\"NAN 5\")\n",
    "        if torch.sum(torch.isnan(cov_factor)) > 0:\n",
    "            print(\"NAN 6\")\n",
    "        if torch.sum(torch.isnan(cov_diag)) > 0:\n",
    "            print(\"NAN 7\")\n",
    "            \n",
    "        # print(cov_diag)\n",
    "        \n",
    "        if self.ssn_diagonal:\n",
    "            base_distribution = td.Independent(td.Normal(loc=mean, scale=torch.sqrt(cov_diag)), 1)\n",
    "        else:\n",
    "            try:\n",
    "                base_distribution = LowRankMultivariateNormalCustom(loc=mean, cov_factor=cov_factor, cov_diag=cov_diag)\n",
    "                #base_distribution = LowRankMultivariateStudentT_V3(df=v, loc=mean, cov_factor=cov_factor, cov_diag=cov_diag)\n",
    "                #print(\"using multivariate normal!\")\n",
    "            except Exception as e:\n",
    "                print(\"was thrown: \", e)\n",
    "                print('hmm: Covariance became non invertible using independent normals for this batch!')\n",
    "                print(\"cov diag okay: \", torch.sum(cov_diag <=0))\n",
    "                print(\"sqrt cov diag okay: \", torch.sum(torch.sqrt(cov_diag) <=0))\n",
    "                \n",
    "                try:\n",
    "                    base_distribution = td.Independent(td.Normal(loc=mean, scale=torch.sqrt(cov_diag)),1)\n",
    "                except Exception as e:\n",
    "                    print(\"second fail: \", e)\n",
    "                    print(torch.min(torch.sqrt(cov_diag), torch.max(torch.sqrt(cov_diag))))\n",
    "        \n",
    "        distribution = ReshapedDistribution(base_distribution, event_shape)\n",
    "        \n",
    "        shape = (batch_size,) + event_shape\n",
    "        logit_mean_view = mean.view(shape).detach()\n",
    "        cov_diag_view = cov_diag.view(shape).detach()\n",
    "        cov_factor_view = cov_factor.transpose(2,1).view((batch_size, self.ssn_num_classes * self.ssn_rank) + event_shape[1:]).detach()\n",
    "        \n",
    "        # compute the diagonal of the precision matrix for the evidence regularizer\n",
    "#         U = cov_factor\n",
    "#         D_inv = 1./cov_diag\n",
    "#         # print(\"shapes for regularizer\")\n",
    "#         # print(\"U, U.mt\", U.shape, U.mT.shape)\n",
    "#         # print(\"D\", D_inv.shape)\n",
    "        \n",
    "#         D_inv_mult = D_inv.unsqueeze(-1).expand(U.shape)\n",
    "#         # print(\"D inv mult\", D_inv_mult.shape)\n",
    "        \n",
    "#         F = torch.eye(self.ssn_rank).to(U.device) + U.mT.bmm(D_inv_mult * U)\n",
    "#         # print(\"F\", F.shape)\n",
    "        \n",
    "#         RRT = torch.cholesky_inverse(F)\n",
    "#         R = torch.cholesky(RRT)\n",
    "        \n",
    "#         # print(\"R\", R.shape)\n",
    "#         V = (D_inv_mult * U).bmm(R)\n",
    "#         # print(\"V\", V.shape)\n",
    "        \n",
    "#         # print(\"diag v\", torch.diagonal(V, dim1=1, dim2=2).shape, V.shape)\n",
    "        \n",
    "#         pres_diag = D_inv - torch.sum(V * V, dim=2) # get the diagonal of the V@V.T matrix without computing it\n",
    "             \n",
    "        \n",
    "        output_dict = {\n",
    "            # 'v':v,\n",
    "            # 'k':k,\n",
    "            'logit_mean':logit_mean_view,\n",
    "            'cov_diag':cov_diag_view,\n",
    "            'cov_factor':cov_factor_view,\n",
    "            'distribution':distribution,\n",
    "            # 'pres_diag':pres_diag,\n",
    "        }\n",
    "        \n",
    "        return output_dict"
   ]
  },
  {
   "cell_type": "code",
   "execution_count": 36,
   "id": "65e68de3-0454-44aa-893a-255cd3a1e207",
   "metadata": {},
   "outputs": [],
   "source": [
    "#model_raw = HyperMapp3rSSN2().cuda()"
   ]
  },
  {
   "cell_type": "code",
   "execution_count": 37,
   "id": "47444f31-f60a-406a-b98c-1f20b10fc8e1",
   "metadata": {},
   "outputs": [],
   "source": [
    "# model = StandardLitModelWrapper.load_from_checkpoint('/disk/scratch_big/s2208943/results/new_tests/epoch=15-step=2192.ckpt', model=model_raw, loss=loss, \n",
    "#                                 logging_metric=SsnDiceMetricWrapper,\n",
    "#                                )"
   ]
  },
  {
   "cell_type": "code",
   "execution_count": 38,
   "id": "8a81ef93-d78b-4638-8b61-d82baa47e764",
   "metadata": {},
   "outputs": [],
   "source": [
    "def fixed_re_parametrization_trick(dist, num_samples, use_single):\n",
    "    assert num_samples % 2 == 0\n",
    "    if use_single:\n",
    "        samples = dist.rsample_single((num_samples // 2,))\n",
    "    else:\n",
    "        samples = dist.rsample((num_samples // 2,))\n",
    "    mean = dist.mean.unsqueeze(0)\n",
    "    samples = samples - mean\n",
    "    return torch.cat([samples, -samples]) + mean"
   ]
  },
  {
   "cell_type": "code",
   "execution_count": 39,
   "id": "287a10f1-6cd1-4d91-bab6-2b22cce8ca63",
   "metadata": {},
   "outputs": [],
   "source": [
    "#dist = model_raw(x.cuda())"
   ]
  },
  {
   "cell_type": "code",
   "execution_count": 40,
   "id": "0314ceed-3a03-4b2f-8b02-f23a686bef8e",
   "metadata": {},
   "outputs": [],
   "source": [
    "#l = loss(dist, y.cuda())"
   ]
  },
  {
   "cell_type": "code",
   "execution_count": 41,
   "id": "464a2317-bad0-4f61-bf59-6de11b9fcfc9",
   "metadata": {},
   "outputs": [],
   "source": [
    "#loss(dist, y.cuda())"
   ]
  },
  {
   "cell_type": "code",
   "execution_count": 42,
   "id": "42c9dc6b-382b-4a81-bc8e-71202a273ac5",
   "metadata": {},
   "outputs": [],
   "source": [
    "def correction_loss(dist, target):\n",
    "    y = target\n",
    "    m = dist['logit_mean']\n",
    "    v = torch.nn.functional.softmax(m, dim=1)\n",
    "    \n",
    "    shape = [*y.unsqueeze(1).shape]\n",
    "    shape[1] = 2 # 2 classes\n",
    "    bs = shape[0]\n",
    "    \n",
    "    a = torch.zeros(shape)\n",
    "    \n",
    "    a[:,1] = y\n",
    "    a[:,0] = 1-y\n",
    "    pair_y = a.to(v.device)\n",
    "    \n",
    "    diff = (v.view(bs, -1) - pair_y.reshape(bs, -1)).abs().view(bs, -1) * 0.5\n",
    "    \n",
    "    correction = dist['v'].view(-1, 1).expand(diff.shape) + dist['k'].view(-1, 1).expand(diff.shape) * dist['pres_diag']\n",
    "    \n",
    "    closs = (correction * diff).mean()\n",
    "    \n",
    "    closs = closs.clip(0,1000)\n",
    "    \n",
    "    return closs"
   ]
  },
  {
   "cell_type": "code",
   "execution_count": 43,
   "id": "5c2d279d-1657-4697-b570-64f88a189c07",
   "metadata": {},
   "outputs": [],
   "source": [
    "class StochasticSegmentationNetworkLossMCIntegral(nn.Module):\n",
    "    def __init__(self, num_mc_samples: int = 1):\n",
    "        super().__init__()\n",
    "        self.num_mc_samples = num_mc_samples\n",
    "\n",
    "    @staticmethod\n",
    "    def fixed_re_parametrization_trick(dist, num_samples):\n",
    "        assert num_samples % 2 == 0\n",
    "        samples = dist.rsample((num_samples // 2,))\n",
    "        mean = dist.mean.unsqueeze(0)\n",
    "        samples = samples - mean\n",
    "        return torch.cat([samples, -samples]) + mean\n",
    "\n",
    "    def forward(self, result_dict, target, **kwargs):\n",
    "        logits = result_dict['logit_mean']\n",
    "        distribution = result_dict['distribution']\n",
    "        \n",
    "        batch_size = logits.shape[0]\n",
    "        num_classes = logits.shape[1]\n",
    "        assert num_classes >= 2  # not implemented for binary case with implied background\n",
    "        # logit_sample = distribution.rsample((self.num_mc_samples,))\n",
    "        logit_sample = self.fixed_re_parametrization_trick(distribution, self.num_mc_samples)\n",
    "        target = target.unsqueeze(1)\n",
    "        target = target.expand((self.num_mc_samples,) + target.shape)\n",
    "\n",
    "        flat_size = self.num_mc_samples * batch_size\n",
    "        logit_sample = logit_sample.view((flat_size, num_classes, -1))\n",
    "        target = target.reshape((flat_size, -1))\n",
    "\n",
    "        log_prob = -F.cross_entropy(logit_sample, target, reduction='none').view((self.num_mc_samples, batch_size, -1))\n",
    "        loglikelihood = torch.mean(torch.logsumexp(torch.sum(log_prob, dim=-1), dim=0) - math.log(self.num_mc_samples))\n",
    "        loss = -loglikelihood\n",
    "        return loss\n",
    "    \n",
    "# def fixed_re_parametrization_trick(dist, num_samples):\n",
    "#         assert num_samples % 2 == 0\n",
    "#         samples = dist.rsample_single((num_samples // 2,))\n",
    "#         mean = dist.mean.unsqueeze(0)\n",
    "#         samples = samples - mean\n",
    "#         return torch.cat([samples, -samples]) + mean\n",
    "\n",
    "\n",
    "class SsnNetworkMeanLossWrapper(nn.Module):\n",
    "    def __init__(self, loss_func):\n",
    "        super().__init__()\n",
    "        self.loss = loss_func\n",
    "    def forward(self, result_dict, target):\n",
    "        mean = result_dict['logit_mean']\n",
    "        return self.loss(mean, target)\n",
    "    \n",
    "class SsnNetworkSampleLossWrapper(nn.Module):\n",
    "    def __init__(self, loss_func, samples=10):\n",
    "        super().__init__()\n",
    "        self.loss = loss_func\n",
    "        self.samples = samples\n",
    "    def forward(self, result_dict, target):\n",
    "        samples = fixed_re_parametrization_trick(result_dict['distribution'], self.samples).to(target.device)\n",
    "        loss = 0\n",
    "        for s in samples:\n",
    "            loss += self.loss(s, target)\n",
    "        return loss / self.samples\n",
    "    \n",
    "def avd(logits, target):\n",
    "    preds = torch.nn.functional.softmax(logits, dim=1)[:,1]\n",
    "    bs = preds.shape[0]\n",
    "    preds = preds.view(bs, -1)\n",
    "    target = target.view(bs, -1)\n",
    "\n",
    "    vd = torch.sum(target, dim=1) - torch.sum(preds, dim=1)\n",
    "    avd = vd.abs()\n",
    "    l = avd.sum()\n",
    "    return l\n",
    "    \n",
    "    \n",
    "class SsnNetworkMuAndSamplesLossWrapper(nn.Module):\n",
    "    def __init__(self, loss_func, samples=10):\n",
    "        super().__init__()\n",
    "        self.loss = loss_func\n",
    "        self.samples = samples\n",
    "    def forward(self, result_dict, target):\n",
    "        s = result_dict['distribution'].mean # samples[0]\n",
    "        #print(s.shape, result_dict['distribution'].mean.shape)\n",
    "        dice = self.loss(s, target)\n",
    "        samples = fixed_re_parametrization_trick(result_dict['distribution'], self.samples).to(target.device)\n",
    "        loss = 0\n",
    "        for s in samples:\n",
    "            loss += self.loss(s, target)\n",
    "        \n",
    "        return dice + ((0.1*loss) / self.samples)\n",
    "    \n",
    "class SsnDiceMetricWrapper(DiceLossMetric):\n",
    "\n",
    "    def update(self, preds_dict, target: torch.Tensor):\n",
    "        super().update(preds_dict['logit_mean'], target)\n",
    "\n",
    "    def compute(self):\n",
    "        return super().compute()"
   ]
  },
  {
   "cell_type": "code",
   "execution_count": 44,
   "id": "6ebe3449-7758-4791-819d-c77cf30b0d6f",
   "metadata": {},
   "outputs": [],
   "source": [
    "ssn_diceloss = SsnNetworkMuAndSamplesLossWrapper(dice_loss)# SsnNetworkMeanLossWrapper(dice_loss)\n",
    "mc_loss = StochasticSegmentationNetworkLossMCIntegral(num_mc_samples=10)"
   ]
  },
  {
   "cell_type": "code",
   "execution_count": 45,
   "id": "41481167-7b64-4b35-b1dc-5b67c7f3608d",
   "metadata": {},
   "outputs": [],
   "source": [
    "class StandardLitModelWrapper(pl.LightningModule):\n",
    "        def __init__(self, model, loss=F.cross_entropy, logging_metric=None, optimizer_params={\"lr\":1e-3}, lr_scheduler_params={\"step_size\":30, \"gamma\":0.1}, is_uq_model=False,\n",
    "                    optimizer_constructor=None, lr_scheduler_constructor=None):\n",
    "            super().__init__()\n",
    "            self.model = model\n",
    "            self.loss = loss\n",
    "            self.logging_metric_train = logging_metric()\n",
    "            self.logging_metric_val = logging_metric()\n",
    "            self.optim_params = optimizer_params\n",
    "            self.lr_scheduler_params = lr_scheduler_params\n",
    "            self.is_uq_model = False\n",
    "            self.optimizer_constructor = optimizer_constructor\n",
    "            self.lr_scheduler_constructor = lr_scheduler_constructor\n",
    "\n",
    "\n",
    "        def forward(self, x, **kwargs):\n",
    "            return self.model(x, **kwargs)\n",
    "\n",
    "        def configure_optimizers(self):\n",
    "            # optimizer and schedulers go in the configure optimizers hook\n",
    "            if self.optimizer_constructor:\n",
    "                optimizer = self.optimizer_constructor(self.parameters(), **self.optim_params)\n",
    "            else:\n",
    "                optimizer = torch.optim.Adam(self.parameters(), **self.optim_params)\n",
    "\n",
    "            if self.lr_scheduler_constructor:\n",
    "                lr_scheduler = self.lr_scheduler_constructor(optimizer, **self.lr_scheduler_params)\n",
    "            else:\n",
    "                lr_scheduler = torch.optim.lr_scheduler.StepLR(optimizer, **self.lr_scheduler_params)\n",
    "\n",
    "            return [optimizer], [lr_scheduler]\n",
    "\n",
    "        def training_step(self, batch, batch_idx):\n",
    "            \"\"\"\n",
    "            lightning automates the training loop, \n",
    "            does epoch, back_tracking, optimizers and schedulers,\n",
    "            and metric reduction.\n",
    "            we just define how we want to process a single batch. \n",
    "            we can optionally pass optimizer_idx if we want to define multiple optimizers within the configure_optimizers\n",
    "            hook, and I presume we can add our own parameters also to functions?\n",
    "            \"\"\"\n",
    "\n",
    "            if self.is_uq_model:\n",
    "                self.model.set_applyfunc(True)\n",
    "\n",
    "            X, y = batch\n",
    "            y_hat = self(X)\n",
    "            loss = self.loss(y_hat, y)\n",
    "\n",
    "            # metrics \n",
    "            if self.logging_metric_train:\n",
    "                self.logging_metric_train(y_hat, y)\n",
    "                self.log(f\"train_metric\", self.logging_metric_train, on_step=True, on_epoch=False, prog_bar=True)\n",
    "            self.log(\"train_loss\", loss)\n",
    "\n",
    "            return loss\n",
    "\n",
    "    #     def training_epoch_end(self, outs):\n",
    "    #         self.log('train_metric_epoch', self.logging_metric_train.compute())\n",
    "\n",
    "    #     def validation_epoch_end(self, outs):\n",
    "    #         self.log('val_metric_epoch', self.logging_metric_val.compute())\n",
    "\n",
    "        def validation_step(self, batch, batch_idx):\n",
    "            \"\"\"\n",
    "            note: call trainer.validate() automatically loads the best checkpoint if checkpointing was enabled during fitting\n",
    "            well yes I want to enable checkpointing but will deal with that later.\n",
    "            also it does stuff like model.eval() and torch.no_grad() automatically which is nice.\n",
    "            I will need a custom eval thing to do my dropout estimation but can solve that later too.\n",
    "            \"\"\"\n",
    "            if self.is_uq_model:\n",
    "                self.model.set_applyfunc(False)\n",
    "\n",
    "            X, y = batch\n",
    "            y_hat = self(X)\n",
    "            val_loss = self.loss(y_hat, y)\n",
    "\n",
    "            if self.logging_metric_val:\n",
    "                self.logging_metric_val(y_hat, y)\n",
    "                self.log(f\"val_metric\", self.logging_metric_val, on_step=True, on_epoch=True, prog_bar=True)\n",
    "            self.log(\"val_loss\", val_loss)\n",
    "\n",
    "        def test_step(self, batch, batch_idx):\n",
    "            \"\"\"\n",
    "            we would need to directly call this function using the trainer\n",
    "            \"\"\"\n",
    "\n",
    "            if self.is_uq_model:\n",
    "                self.model.set_applyfunc(False)\n",
    "\n",
    "            X, y = batch\n",
    "            y_hat = self(X)\n",
    "            test_loss = self.loss(y_hat, y)\n",
    "            self.log(\"test_loss\", test_loss)\n",
    "\n",
    "        def predict_step(self, batch, batch_idx):\n",
    "            \"\"\"\n",
    "            just for making predictions as opposed to collecting metrics etc\n",
    "            note to use this, we just call .predict(dataloader) and it then automates the look\n",
    "            these functions are for a single batch. Nice.\n",
    "            \"\"\"\n",
    "            X, y = batch\n",
    "            pred = self(X)\n",
    "            return pred"
   ]
  },
  {
   "cell_type": "code",
   "execution_count": 46,
   "id": "ce3bf63c-6159-462a-bbba-2f562a8e7c72",
   "metadata": {},
   "outputs": [],
   "source": [
    "dice_factor = 5\n",
    "#avd_factor = 0.001\n",
    "    \n",
    "def double_loss(outs, target):\n",
    "    dice = ssn_diceloss(outs, target)\n",
    "    return dice * dice_factor + mc_loss(outs, target) * 0.01\n",
    "\n",
    "def triple_loss(outs, target):\n",
    "    main_loss = ssn_diceloss(outs, target) * dice_factor + mc_loss(outs, target) * 0.01\n",
    "    \n",
    "    if main_loss < 60:\n",
    "        main_loss += correction_loss(outs, target) * 0.1\n",
    "    return main_loss\n",
    "\n"
   ]
  },
  {
   "cell_type": "code",
   "execution_count": 47,
   "id": "542f4859-551e-4124-afd8-20b0e3a0a255",
   "metadata": {},
   "outputs": [],
   "source": [
    "loss = double_loss"
   ]
  },
  {
   "cell_type": "code",
   "execution_count": 48,
   "id": "b8fb50c3-f3e3-452e-90ea-80f10f28c28e",
   "metadata": {},
   "outputs": [
    {
     "name": "stdout",
     "output_type": "stream",
     "text": [
      "WARNING: this model assumes that the input to the model contains the brain mask in the first channel!\n"
     ]
    }
   ],
   "source": [
    "model_raw = HyperMapp3rSSN2(ssn_rank=15).cuda()"
   ]
  },
  {
   "cell_type": "code",
   "execution_count": 49,
   "id": "5ea2ce0a-de52-4770-92f7-877ae360ba10",
   "metadata": {},
   "outputs": [],
   "source": [
    "loss = double_loss\n",
    "#loss = triple_loss\n",
    "\n",
    "optimizer_params={\"lr\":2e-4}\n",
    "optimizer = torch.optim.Adam\n",
    "lr_scheduler_params={\"milestones\":[1000], \"gamma\":0.5}\n",
    "lr_scheduler_constructor = torch.optim.lr_scheduler.MultiStepLR\n",
    "\n",
    "trained_ckpt_dir = '/disk/scratch/s2208943/results/new_tests/evid_ssn/'\n",
    "trained_model = 'epoch=29-step=4110.ckpt'\n",
    "\n",
    "model = StandardLitModelWrapper(model_raw, loss, \n",
    "                                logging_metric=SsnDiceMetricWrapper, # lambda : None,\n",
    "                                optimizer_params=optimizer_params,\n",
    "                                lr_scheduler_params=lr_scheduler_params,\n",
    "                                is_uq_model=False,\n",
    "                                optimizer_constructor=optimizer,\n",
    "                                lr_scheduler_constructor=lr_scheduler_constructor\n",
    "                               )\n",
    "\n",
    "# model = StandardLitModelWrapper.load_from_checkpoint(trained_ckpt_dir + trained_model,\n",
    "#                                                      model_raw, loss, \n",
    "#                                 logging_metric=SsnDiceMetricWrapper, # lambda : None,\n",
    "#                                )"
   ]
  },
  {
   "cell_type": "code",
   "execution_count": 50,
   "id": "b91e26e5-55e9-485b-ad01-1c6c8dff58b7",
   "metadata": {},
   "outputs": [
    {
     "name": "stderr",
     "output_type": "stream",
     "text": [
      "/home/s2208943/miniconda3/envs/uq/lib/python3.10/site-packages/lightning_lite/plugins/environments/slurm.py:167: PossibleUserWarning: The `srun` command is available on your system but is not used. HINT: If your intention is to run Lightning on SLURM, prepend your python command with `srun` like so: srun python /home/s2208943/miniconda3/envs/uq/lib/python3.10/sit ...\n",
      "  rank_zero_warn(\n",
      "GPU available: True (cuda), used: True\n",
      "TPU available: False, using: 0 TPU cores\n",
      "IPU available: False, using: 0 IPUs\n",
      "HPU available: False, using: 0 HPUs\n"
     ]
    }
   ],
   "source": [
    "accelerator=\"gpu\"\n",
    "devices=1\n",
    "max_epochs=1000\n",
    "precision = 32\n",
    "\n",
    "rootdir = \"/disk/scratch/s2208943/results/new_tests/evid_ssn\"\n",
    "final_dir = rootdir\n",
    "checkpoint_callback = ModelCheckpoint(final_dir, save_top_k=-1, monitor=\"val_loss\", every_n_epochs=5)\n",
    "early_stop_callback = EarlyStopping(monitor=\"val_loss\", min_delta=0.01, patience=15, verbose=\"False\", mode=\"min\", check_finite=True)\n",
    "trainer = pl.Trainer(\n",
    "    callbacks=[checkpoint_callback, early_stop_callback],\n",
    "    accelerator=accelerator,\n",
    "    devices=devices,\n",
    "    max_epochs=max_epochs,\n",
    "    precision=precision,\n",
    "    default_root_dir=final_dir\n",
    ")\n",
    "\n",
    "#trainer.fit(model, train_dataloader, val_dataloader,)# ckpt_path='/disk/scratch_big/s2208943/results/new_tests/epoch=15-step=2192.ckpt')"
   ]
  },
  {
   "cell_type": "code",
   "execution_count": 51,
   "id": "6a5bcbeb-0f4e-43d8-b3d7-62978559e7dd",
   "metadata": {},
   "outputs": [],
   "source": [
    "def ndigit(n, x):\n",
    "    s = str(x)\n",
    "    ns = \"0\" * (n - len(s))\n",
    "    return ns + s"
   ]
  },
  {
   "cell_type": "code",
   "execution_count": 52,
   "id": "a67df927-c65c-4a0a-be52-edfb493e8a4d",
   "metadata": {},
   "outputs": [],
   "source": [
    "root = \"/home/s2208943/ipdis/results/final_models/\"\n",
    "folders = [\"Xnew_ssn_ens\" + ndigit(2, x+1) + \"/\" for x in range(10)]"
   ]
  },
  {
   "cell_type": "code",
   "execution_count": 53,
   "id": "52a633ae-c5b0-49c0-8db1-a585335e35f1",
   "metadata": {},
   "outputs": [],
   "source": [
    "cs = []\n",
    "for f in folders:\n",
    "    ckpts = sorted([c for c in os.listdir(root+f) if \"epoch\" in c])\n",
    "    c = ckpts[-2] # the second from last seems to be the 'best' checkpoint\n",
    "    cs.append(c)"
   ]
  },
  {
   "cell_type": "code",
   "execution_count": 54,
   "id": "14bc1205-8176-4575-8d66-4796ea7ab333",
   "metadata": {},
   "outputs": [],
   "source": [
    "# for i in range(len(folders)):\n",
    "#         f = folders[i]\n",
    "#         c = cs[i]\n",
    "#         ckpt = root + f + c\n",
    "\n",
    "#         model = StandardLitModelWrapper.load_from_checkpoint(root + f + c, model=model_raw, loss=loss, \n",
    "#                                     logging_metric=SsnDiceMetricWrapper).cuda()\n",
    "#         print(\"checkpoint: \", root + f + c)\n",
    "#         trainer.validate(model, val_dataloader)"
   ]
  },
  {
   "cell_type": "code",
   "execution_count": 55,
   "id": "0fcece1f-ce4f-49ed-b118-e2def5365aa8",
   "metadata": {},
   "outputs": [],
   "source": [
    "#trainer.validate(model, test_dataloader)#"
   ]
  },
  {
   "cell_type": "markdown",
   "id": "427d796c-8f63-423e-bbdf-b6e63158a164",
   "metadata": {},
   "source": [
    "### Loading the dataset in 3D for analysis\n",
    "now each sample from the 3D dataset we can treat as a batch, and is a single image sample. Note that each batch may not be the same size now."
   ]
  },
  {
   "cell_type": "code",
   "execution_count": 56,
   "id": "4eefcd38-7925-42b1-9098-5fd31bc4bdef",
   "metadata": {},
   "outputs": [],
   "source": [
    "# # load datasets\n",
    "# # this step is quite slow, all the data is being loaded into memory\n",
    "# # BIG NOTE\n",
    "# # during evaluating the modle, we set is_3d false here to avoid doing the z cropping (which can cause nans)\n",
    "# # and instead we run the whole brain scan through and it gives us a good prediction over all. Nice.\n",
    "# datasets_domains_3d = [MRISegmentation3DDataset(root_dir, domain, transforms=get_transforms(is_3D=False)) for domain in domains]\n",
    "\n",
    "\n",
    "# # split into train, val test datasets\n",
    "# datasets_3d = [train_val_test_split(dataset, validation_proportion, test_proportion, seed) for dataset in datasets_domains_3d]\n",
    "\n",
    "# # concat the train val test datsets\n",
    "# train_dataset_3d = ConcatDataset([ds[0] for ds in datasets_3d])\n",
    "# val_dataset_3d = ConcatDataset([ds[1] for ds in datasets_3d])\n",
    "# test_dataset_3d = ConcatDataset([ds[2] for ds in datasets_3d])"
   ]
  },
  {
   "cell_type": "markdown",
   "id": "3a36507a-6704-40a3-8acb-0ae57e78b1a7",
   "metadata": {},
   "source": [
    "### generating the samples procedure, only do this once"
   ]
  },
  {
   "cell_type": "code",
   "execution_count": 57,
   "id": "54c73cc7-377b-4f39-894c-08f838b1fe73",
   "metadata": {},
   "outputs": [],
   "source": [
    "from tqdm import tqdm"
   ]
  },
  {
   "cell_type": "code",
   "execution_count": 58,
   "id": "60c27a99-98ba-419c-9d75-2aaf7a8a28ea",
   "metadata": {},
   "outputs": [],
   "source": [
    "xs3d = []\n",
    "ys3d = []\n",
    "for x, y in test_dataset_3d:\n",
    "    xs3d.append(x)\n",
    "    ys3d.append(y.squeeze())"
   ]
  },
  {
   "cell_type": "code",
   "execution_count": 59,
   "id": "dfd78cc3-7af4-41c7-bf7e-300a309d37c5",
   "metadata": {},
   "outputs": [
    {
     "data": {
      "text/plain": [
       "torch.Size([3, 40, 224, 160])"
      ]
     },
     "execution_count": 59,
     "metadata": {},
     "output_type": "execute_result"
    }
   ],
   "source": [
    "xs3d[0].shape"
   ]
  },
  {
   "cell_type": "code",
   "execution_count": 60,
   "id": "97dec448-7cad-4269-aa51-63b40f466ba1",
   "metadata": {},
   "outputs": [],
   "source": [
    "def gen_samples(xs3dQ, ys3dQ):\n",
    "    samples3d = [[] for i in range(len(ys3dQ))]\n",
    "    model_means3d = [[] for i in range(len(ys3dQ))]\n",
    "    for i in range(len(folders)):\n",
    "        f = folders[i]\n",
    "        c = cs[i]\n",
    "        ckpt = root + f + c\n",
    "\n",
    "        model = StandardLitModelWrapper.load_from_checkpoint(root + f + c, model=model_raw, loss=loss, \n",
    "                                    logging_metric=DiceLossMetric).cuda()\n",
    "\n",
    "        for j in tqdm(range(len(xs3dQ)), position=0, leave=True, ncols=150):\n",
    "            x3d = xs3dQ[j]\n",
    "            y3d = ys3dQ[j]\n",
    "            with torch.no_grad():\n",
    "                out = model(xs3dQ[j].swapaxes(0,1).cuda())\n",
    "                samples = fixed_re_parametrization_trick(out['distribution'], 2, use_single=True).cpu()\n",
    "                samples3d[j].append(samples[0])\n",
    "                samples3d[j].append(samples[1])\n",
    "                mean = out['distribution'].mean.cpu()\n",
    "                model_means3d[j].append(mean)\n",
    "                \n",
    "    return [torch.stack(ss) for ss in samples3d], [torch.stack(mus) for mus in model_means3d]"
   ]
  },
  {
   "cell_type": "code",
   "execution_count": 61,
   "id": "baa1d305-7f4f-4569-ae74-ad9e5be12b51",
   "metadata": {},
   "outputs": [],
   "source": [
    "# def gen_samples(xs3dQ, ys3dQ, model=model):\n",
    "#     samples3d = []\n",
    "#     model = model.cuda()\n",
    "#     for i in tqdm(range(len(ys3dQ)), position=0, leave=True, ncols=150):\n",
    "\n",
    "#         with torch.no_grad():\n",
    "#             out = model(xs3dQ[i].swapaxes(0,1).cuda())\n",
    "#             samples = fixed_re_parametrization_trick(out['distribution'], 20).cpu()\n",
    "#             samples3d.append(samples)\n",
    "            \n",
    "#     return samples3d"
   ]
  },
  {
   "cell_type": "code",
   "execution_count": 73,
   "id": "fdc0b039-8ed3-4c64-9a63-955309e8e062",
   "metadata": {},
   "outputs": [
    {
     "name": "stderr",
     "output_type": "stream",
     "text": [
      "100%|█████████████████████████████████████████████████████████████████████████████████████████████████████████████████| 35/35 [00:02<00:00, 13.68it/s]\n",
      "100%|█████████████████████████████████████████████████████████████████████████████████████████████████████████████████| 35/35 [00:03<00:00,  9.27it/s]\n",
      "100%|█████████████████████████████████████████████████████████████████████████████████████████████████████████████████| 35/35 [00:03<00:00,  9.23it/s]\n",
      "100%|█████████████████████████████████████████████████████████████████████████████████████████████████████████████████| 35/35 [00:03<00:00,  9.23it/s]\n",
      "100%|█████████████████████████████████████████████████████████████████████████████████████████████████████████████████| 35/35 [00:03<00:00,  9.26it/s]\n",
      "100%|█████████████████████████████████████████████████████████████████████████████████████████████████████████████████| 35/35 [00:03<00:00,  9.27it/s]\n",
      "100%|█████████████████████████████████████████████████████████████████████████████████████████████████████████████████| 35/35 [00:03<00:00,  9.26it/s]\n",
      "100%|█████████████████████████████████████████████████████████████████████████████████████████████████████████████████| 35/35 [00:03<00:00,  9.25it/s]\n",
      "100%|█████████████████████████████████████████████████████████████████████████████████████████████████████████████████| 35/35 [00:03<00:00,  9.22it/s]\n",
      "100%|█████████████████████████████████████████████████████████████████████████████████████████████████████████████████| 35/35 [00:03<00:00,  9.24it/s]\n"
     ]
    }
   ],
   "source": [
    "samples3d, means3d = gen_samples(xs3d, ys3d)"
   ]
  },
  {
   "cell_type": "code",
   "execution_count": 74,
   "id": "8885d7b4-0d67-4131-9555-1a7204d25f3b",
   "metadata": {},
   "outputs": [],
   "source": [
    "#means3d = [torch.mean(samples3d[i], dim=0) for i in range(len(samples3d))]\n",
    "means3d = [torch.mean(m, dim=0) for m in means3d]"
   ]
  },
  {
   "cell_type": "code",
   "execution_count": 75,
   "id": "1e23e6f0-a10e-40ec-bac0-76e1a4bcb7bd",
   "metadata": {},
   "outputs": [
    {
     "data": {
      "text/plain": [
       "torch.Size([40, 2, 224, 160])"
      ]
     },
     "execution_count": 75,
     "metadata": {},
     "output_type": "execute_result"
    }
   ],
   "source": [
    "means3d[0].shape"
   ]
  },
  {
   "cell_type": "code",
   "execution_count": 72,
   "id": "187f6e45-5d2c-440f-b8f9-a9b007d30bb3",
   "metadata": {},
   "outputs": [
    {
     "data": {
      "text/plain": [
       "torch.Size([40, 224, 160])"
      ]
     },
     "execution_count": 72,
     "metadata": {},
     "output_type": "execute_result"
    }
   ],
   "source": [
    "ys3d[0].shape"
   ]
  },
  {
   "cell_type": "code",
   "execution_count": 76,
   "id": "e6dac93a-44a0-45c7-a4b6-93daa7653cd3",
   "metadata": {},
   "outputs": [],
   "source": [
    "vol_diff = []\n",
    "vol = []\n",
    "for i in range(len(means3d)):\n",
    "    vol_diff.append(\n",
    "        means3d[i].argmax(dim=1).sum() - ys3d[i].sum()\n",
    "    )\n",
    "    vol.append(ys3d[i].sum())\n",
    "    \n"
   ]
  },
  {
   "cell_type": "code",
   "execution_count": 77,
   "id": "8d4f712e-d4d4-417c-85f5-d7546b836ecb",
   "metadata": {},
   "outputs": [
    {
     "data": {
      "text/plain": [
       "tensor(1421)"
      ]
     },
     "execution_count": 77,
     "metadata": {},
     "output_type": "execute_result"
    }
   ],
   "source": [
    "means3d[2].argmax(dim=1).sum()"
   ]
  },
  {
   "cell_type": "code",
   "execution_count": null,
   "id": "973fa776-bd60-4203-ad31-f8bb349292f1",
   "metadata": {},
   "outputs": [],
   "source": []
  },
  {
   "cell_type": "code",
   "execution_count": 78,
   "id": "abb939fb-3413-45a6-b1ca-5ddc981a7a20",
   "metadata": {},
   "outputs": [
    {
     "data": {
      "text/plain": [
       "<matplotlib.collections.PathCollection at 0x7f82b4db18a0>"
      ]
     },
     "execution_count": 78,
     "metadata": {},
     "output_type": "execute_result"
    },
    {
     "data": {
      "image/png": "[encoded data removed]",
      "text/plain": [
       "<Figure size 640x480 with 1 Axes>"
      ]
     },
     "metadata": {},
     "output_type": "display_data"
    }
   ],
   "source": [
    "plt.scatter(vol, vol_diff)"
   ]
  },
  {
   "cell_type": "code",
   "execution_count": null,
   "id": "ac4a42e5-3c03-44fe-9eb3-dc1f0fadb97b",
   "metadata": {},
   "outputs": [],
   "source": []
  },
  {
   "cell_type": "code",
   "execution_count": 79,
   "id": "f29b4068-3816-49dc-937e-4cc0f417a10f",
   "metadata": {},
   "outputs": [],
   "source": [
    "# compute majority vote on mean, see which is better actually. - maybe majority vote is better? but then what to do for samples?"
   ]
  },
  {
   "cell_type": "code",
   "execution_count": 80,
   "id": "ba3a335a-d65d-44e4-ad49-54f903fed7ae",
   "metadata": {},
   "outputs": [
    {
     "data": {
      "text/plain": [
       "(torch.Size([20, 40, 2, 224, 160]), torch.Size([40, 2, 224, 160]))"
      ]
     },
     "execution_count": 80,
     "metadata": {},
     "output_type": "execute_result"
    }
   ],
   "source": [
    "samples3d[0].shape, means3d[0].shape"
   ]
  },
  {
   "cell_type": "code",
   "execution_count": 81,
   "id": "b0420ccd-f4a6-4cfb-9a54-29d2bfe9dae4",
   "metadata": {},
   "outputs": [
    {
     "data": {
      "text/plain": [
       "(35, 35)"
      ]
     },
     "execution_count": 81,
     "metadata": {},
     "output_type": "execute_result"
    }
   ],
   "source": [
    "len(samples3d), len(means3d)"
   ]
  },
  {
   "cell_type": "markdown",
   "id": "5a1e9b97-2c36-4483-97d9-33e8a1dbfb5b",
   "metadata": {},
   "source": [
    "### fixed compute section"
   ]
  },
  {
   "cell_type": "code",
   "execution_count": 147,
   "id": "68765d44-e637-4bc0-ba76-6e45999008e2",
   "metadata": {},
   "outputs": [],
   "source": [
    "model_name = \"ssn\""
   ]
  },
  {
   "cell_type": "code",
   "execution_count": 148,
   "id": "a77217f7-8e76-4b23-ac24-9b56719c99aa",
   "metadata": {},
   "outputs": [],
   "source": [
    "#os.mkdir(\"results/\" + model_name)"
   ]
  },
  {
   "cell_type": "code",
   "execution_count": 149,
   "id": "7f0b1ebb-9168-44fc-a132-60896304c4c0",
   "metadata": {},
   "outputs": [],
   "source": [
    "def save(fname):\n",
    "    plt.tight_layout()\n",
    "    plt.savefig(\"results/\"+model_name + \"/\" + fname, bbox_inches = \"tight\")"
   ]
  },
  {
   "cell_type": "markdown",
   "id": "ca4fa530-0ae6-4036-8a31-f1e4692d55ae",
   "metadata": {},
   "source": [
    "### Generating uncertainty maps for a batch\n"
   ]
  },
  {
   "cell_type": "code",
   "execution_count": 150,
   "id": "6ad86065-5963-4453-b9c9-31a589732672",
   "metadata": {},
   "outputs": [],
   "source": [
    "def entropy_map_from_samples(samples):\n",
    "    \"samples is of shape samples, batch size, channels, image dims  [s, b, c *<dims>]\"\n",
    "    probs = torch.nn.functional.softmax(samples, dim=2)\n",
    "    pic = torch.mean(probs, dim=0)\n",
    "    ent_map = torch.sum(-pic * torch.log(pic+1e-30), dim=1)\n",
    "    \n",
    "    return ent_map"
   ]
  },
  {
   "cell_type": "code",
   "execution_count": 151,
   "id": "9be5da7b-0249-4a5a-bbc1-06a47b435118",
   "metadata": {},
   "outputs": [],
   "source": [
    "# plt.figure(figsize=(30,20))\n",
    "# ids = 5, 20, 58, 37, 62, 49, 50, 23, 30, 48\n",
    "# count = 0\n",
    "# for i in range(64):\n",
    "#     if torch.sum(ys[0][i]) > 0:\n",
    "#         plt.subplot(6, 12, count+1)\n",
    "#         plt.imshow(ys[0][i], cmap='gray')\n",
    "#         plt.title(i)\n",
    "#         plt.axis('off')\n",
    "#         plt.subplot(6, 12, count+2)\n",
    "#         plt.imshow(ent2dbatch[i], vmin=0, vmax=0.7)\n",
    "#         plt.title(i)\n",
    "#         plt.axis('off')\n",
    "#         count += 2"
   ]
  },
  {
   "cell_type": "code",
   "execution_count": 152,
   "id": "3c923430-edcb-4c7c-9217-40475bb5d4bb",
   "metadata": {},
   "outputs": [],
   "source": [
    "# good scans: 0, 1, 3, 27 (low dice), -1 (very interesting)"
   ]
  },
  {
   "cell_type": "code",
   "execution_count": 153,
   "id": "e59a1a7e-d2e2-4a29-a513-a32a6604c286",
   "metadata": {},
   "outputs": [],
   "source": [
    "scan_id = -1\n",
    "scan_ent_map = entropy_map_from_samples(samples3d[scan_id])"
   ]
  },
  {
   "cell_type": "code",
   "execution_count": 154,
   "id": "80e34f4e-9ff2-42a1-81da-72b96302dff2",
   "metadata": {},
   "outputs": [
    {
     "data": {
      "image/png": "[encoded data removed]",
      "text/plain": [
       "<Figure size 3000x800 with 20 Axes>"
      ]
     },
     "metadata": {},
     "output_type": "display_data"
    }
   ],
   "source": [
    "slice_id = 38\n",
    "count = 0\n",
    "samples = samples3d[scan_id][:,slice_id]\n",
    "plt.figure(figsize=(30,8))\n",
    "for i in range(2*10):\n",
    "    plt.subplot(2, 10, count+1)\n",
    "    plt.imshow(samples[i].argmax(dim=0), cmap='gray')\n",
    "    plt.title(i)\n",
    "    plt.axis('off')\n",
    "    count += 1"
   ]
  },
  {
   "cell_type": "code",
   "execution_count": 155,
   "id": "b10b3c22-076e-460d-97f1-7729d8de0432",
   "metadata": {},
   "outputs": [
    {
     "data": {
      "image/png": "[encoded data removed]",
      "text/plain": [
       "<Figure size 640x480 with 2 Axes>"
      ]
     },
     "metadata": {},
     "output_type": "display_data"
    }
   ],
   "source": [
    "# show ground truth and uncertainty map\n",
    "slice_ent_map = scan_ent_map[slice_id]\n",
    "plt.subplot(1,2,1)\n",
    "plt.imshow(ys3d[scan_id][slice_id], cmap='gray'); plt.axis('off')\n",
    "plt.subplot(1,2,2)\n",
    "plt.imshow(slice_ent_map); plt.axis('off');"
   ]
  },
  {
   "cell_type": "code",
   "execution_count": 63,
   "id": "3f0be1ff-46f9-4056-9a91-a0d3dfa039a6",
   "metadata": {},
   "outputs": [
    {
     "data": {
      "image/png": "[encoded data removed]",
      "text/plain": [
       "<Figure size 2160x576 with 20 Axes>"
      ]
     },
     "metadata": {
      "needs_background": "light"
     },
     "output_type": "display_data"
    }
   ],
   "source": [
    "slice_id = 26\n",
    "count = 0\n",
    "samples = samples3d[scan_id][:,slice_id]\n",
    "plt.figure(figsize=(30,8))\n",
    "for i in range(2*10):\n",
    "    plt.subplot(2, 10, count+1)\n",
    "    plt.imshow(samples[i].argmax(dim=0), cmap='gray')\n",
    "    plt.title(i)\n",
    "    plt.axis('off')\n",
    "    count += 1"
   ]
  },
  {
   "cell_type": "code",
   "execution_count": 64,
   "id": "a9978a59-1027-4485-8ee0-660475ec6b2c",
   "metadata": {},
   "outputs": [
    {
     "data": {
      "image/png": "[encoded data removed]",
      "text/plain": [
       "<Figure size 432x288 with 2 Axes>"
      ]
     },
     "metadata": {
      "needs_background": "light"
     },
     "output_type": "display_data"
    }
   ],
   "source": [
    "# show ground truth and uncertainty map\n",
    "slice_ent_map = scan_ent_map[slice_id]\n",
    "plt.subplot(1,2,1)\n",
    "plt.imshow(ys3d[scan_id][slice_id], cmap='gray'); plt.axis('off')\n",
    "plt.subplot(1,2,2)\n",
    "plt.imshow(slice_ent_map); plt.axis('off');"
   ]
  },
  {
   "cell_type": "code",
   "execution_count": 65,
   "id": "bb15ef7e-25f1-4d7f-8c7e-a2af541e1d38",
   "metadata": {},
   "outputs": [],
   "source": [
    "scan_id = 3\n",
    "scan_ent_map = entropy_map_from_samples(samples3d[scan_id])"
   ]
  },
  {
   "cell_type": "code",
   "execution_count": 66,
   "id": "6e901ee6-449a-459f-a36e-c7d3348f85c5",
   "metadata": {},
   "outputs": [
    {
     "data": {
      "image/png": "[encoded data removed]",
      "text/plain": [
       "<Figure size 2160x576 with 20 Axes>"
      ]
     },
     "metadata": {
      "needs_background": "light"
     },
     "output_type": "display_data"
    }
   ],
   "source": [
    "slice_id = 32\n",
    "count = 0\n",
    "samples = samples3d[scan_id][:,slice_id]\n",
    "plt.figure(figsize=(30,8))\n",
    "for i in range(2*10):\n",
    "    plt.subplot(2, 10, count+1)\n",
    "    plt.imshow(samples[i].argmax(dim=0), cmap='gray')\n",
    "    plt.title(i)\n",
    "    plt.axis('off')\n",
    "    count += 1"
   ]
  },
  {
   "cell_type": "code",
   "execution_count": 67,
   "id": "23c16e0d-7f2c-4bab-9475-86b4bf8ebdee",
   "metadata": {},
   "outputs": [
    {
     "data": {
      "image/png": "[encoded data removed]",
      "text/plain": [
       "<Figure size 432x288 with 2 Axes>"
      ]
     },
     "metadata": {
      "needs_background": "light"
     },
     "output_type": "display_data"
    }
   ],
   "source": [
    "# show ground truth and uncertainty map\n",
    "slice_ent_map = scan_ent_map[slice_id]\n",
    "plt.subplot(1,2,1)\n",
    "plt.imshow(ys3d[scan_id][slice_id], cmap='gray'); plt.axis('off')\n",
    "plt.subplot(1,2,2)\n",
    "plt.imshow(slice_ent_map); plt.axis('off');"
   ]
  },
  {
   "cell_type": "code",
   "execution_count": 68,
   "id": "cfccdf03-346e-4bf4-a8bf-ee4bbf448b45",
   "metadata": {},
   "outputs": [
    {
     "data": {
      "image/png": "[encoded data removed]",
      "text/plain": [
       "<Figure size 2160x576 with 20 Axes>"
      ]
     },
     "metadata": {
      "needs_background": "light"
     },
     "output_type": "display_data"
    }
   ],
   "source": [
    "slice_id = 18\n",
    "count = 0\n",
    "samples = samples3d[scan_id][:,slice_id]\n",
    "plt.figure(figsize=(30,8))\n",
    "for i in range(2*10):\n",
    "    plt.subplot(2, 10, count+1)\n",
    "    plt.imshow(samples[i].argmax(dim=0), cmap='gray')\n",
    "    plt.title(i)\n",
    "    plt.axis('off')\n",
    "    count += 1"
   ]
  },
  {
   "cell_type": "code",
   "execution_count": 69,
   "id": "000ab03a-8211-45dd-805a-b4c033b2b5a5",
   "metadata": {},
   "outputs": [
    {
     "data": {
      "image/png": "[encoded data removed]",
      "text/plain": [
       "<Figure size 432x288 with 2 Axes>"
      ]
     },
     "metadata": {
      "needs_background": "light"
     },
     "output_type": "display_data"
    }
   ],
   "source": [
    "# show ground truth and uncertainty map\n",
    "slice_ent_map = scan_ent_map[slice_id]\n",
    "plt.subplot(1,2,1)\n",
    "plt.imshow(ys3d[scan_id][slice_id], cmap='gray'); plt.axis('off')\n",
    "plt.subplot(1,2,2)\n",
    "plt.imshow(slice_ent_map); plt.axis('off');"
   ]
  },
  {
   "cell_type": "code",
   "execution_count": 70,
   "id": "0d3c7346-0c49-4aca-a7db-6143b1333715",
   "metadata": {
    "tags": []
   },
   "outputs": [],
   "source": [
    "scan_id = 27\n",
    "scan_ent_map = entropy_map_from_samples(samples3d[scan_id])"
   ]
  },
  {
   "cell_type": "code",
   "execution_count": 71,
   "id": "f2bfd719-056a-4b0b-801d-b41bd811d0e8",
   "metadata": {},
   "outputs": [
    {
     "data": {
      "image/png": "[encoded data removed]",
      "text/plain": [
       "<Figure size 2160x576 with 20 Axes>"
      ]
     },
     "metadata": {
      "needs_background": "light"
     },
     "output_type": "display_data"
    }
   ],
   "source": [
    "slice_id = 33\n",
    "count = 0\n",
    "samples = samples3d[scan_id][:,slice_id]\n",
    "plt.figure(figsize=(30,8))\n",
    "for i in range(2*10):\n",
    "    plt.subplot(2, 10, count+1)\n",
    "    plt.imshow(samples[i].argmax(dim=0), cmap='gray')\n",
    "    plt.title(i)\n",
    "    plt.axis('off')\n",
    "    count += 1"
   ]
  },
  {
   "cell_type": "code",
   "execution_count": 72,
   "id": "56c56110-6d2e-4852-bd98-a6c2e6e57dc2",
   "metadata": {},
   "outputs": [
    {
     "data": {
      "image/png": "[encoded data removed]",
      "text/plain": [
       "<Figure size 432x288 with 2 Axes>"
      ]
     },
     "metadata": {
      "needs_background": "light"
     },
     "output_type": "display_data"
    }
   ],
   "source": [
    "# show ground truth and uncertainty map\n",
    "slice_ent_map = scan_ent_map[slice_id]\n",
    "plt.subplot(1,2,1)\n",
    "plt.imshow(ys3d[scan_id][slice_id], cmap='gray'); plt.axis('off')\n",
    "plt.subplot(1,2,2)\n",
    "plt.imshow(slice_ent_map); plt.axis('off');"
   ]
  },
  {
   "cell_type": "code",
   "execution_count": 73,
   "id": "e5772a78-172a-4a36-80b4-9272665337f2",
   "metadata": {},
   "outputs": [
    {
     "data": {
      "image/png": "[encoded data removed]",
      "text/plain": [
       "<Figure size 2160x576 with 20 Axes>"
      ]
     },
     "metadata": {
      "needs_background": "light"
     },
     "output_type": "display_data"
    }
   ],
   "source": [
    "slice_id = 37\n",
    "count = 0\n",
    "samples = samples3d[scan_id][:,slice_id]\n",
    "plt.figure(figsize=(30,8))\n",
    "for i in range(2*10):\n",
    "    plt.subplot(2, 10, count+1)\n",
    "    plt.imshow(samples[i].argmax(dim=0), cmap='gray')\n",
    "    plt.title(i)\n",
    "    plt.axis('off')\n",
    "    count += 1"
   ]
  },
  {
   "cell_type": "code",
   "execution_count": 74,
   "id": "6a33e99a-80df-4210-ae67-45f85a8d7d21",
   "metadata": {},
   "outputs": [
    {
     "data": {
      "image/png": "[encoded data removed]",
      "text/plain": [
       "<Figure size 432x288 with 2 Axes>"
      ]
     },
     "metadata": {
      "needs_background": "light"
     },
     "output_type": "display_data"
    }
   ],
   "source": [
    "# show ground truth and uncertainty map\n",
    "slice_ent_map = scan_ent_map[slice_id]\n",
    "plt.subplot(1,2,1)\n",
    "plt.imshow(ys3d[scan_id][slice_id], cmap='gray'); plt.axis('off')\n",
    "plt.subplot(1,2,2)\n",
    "plt.imshow(slice_ent_map); plt.axis('off');"
   ]
  },
  {
   "cell_type": "code",
   "execution_count": 75,
   "id": "c7aa924c-e400-487f-8dae-4b674ed9d4c9",
   "metadata": {
    "tags": []
   },
   "outputs": [],
   "source": [
    "scan_id = 0\n",
    "scan_ent_map = entropy_map_from_samples(samples3d[scan_id])"
   ]
  },
  {
   "cell_type": "code",
   "execution_count": 76,
   "id": "bf23754c-e214-4d61-a81c-3c6e8e78f2d9",
   "metadata": {},
   "outputs": [
    {
     "data": {
      "image/png": "[encoded data removed]",
      "text/plain": [
       "<Figure size 2160x576 with 20 Axes>"
      ]
     },
     "metadata": {
      "needs_background": "light"
     },
     "output_type": "display_data"
    }
   ],
   "source": [
    "slice_id = 22\n",
    "count = 0\n",
    "samples = samples3d[scan_id][:,slice_id]\n",
    "plt.figure(figsize=(30,8))\n",
    "for i in range(2*10):\n",
    "    plt.subplot(2, 10, count+1)\n",
    "    plt.imshow(samples[i].argmax(dim=0), cmap='gray')\n",
    "    plt.title(i)\n",
    "    plt.axis('off')\n",
    "    count += 1"
   ]
  },
  {
   "cell_type": "code",
   "execution_count": 77,
   "id": "5172fe51-a90f-4adb-a6c4-1c1aaecb272c",
   "metadata": {},
   "outputs": [
    {
     "data": {
      "image/png": "[encoded data removed]",
      "text/plain": [
       "<Figure size 432x288 with 2 Axes>"
      ]
     },
     "metadata": {
      "needs_background": "light"
     },
     "output_type": "display_data"
    }
   ],
   "source": [
    "# show ground truth and uncertainty map\n",
    "slice_ent_map = scan_ent_map[slice_id]\n",
    "plt.subplot(1,2,1)\n",
    "plt.imshow(ys3d[scan_id][slice_id], cmap='gray'); plt.axis('off')\n",
    "plt.subplot(1,2,2)\n",
    "plt.imshow(slice_ent_map); plt.axis('off');"
   ]
  },
  {
   "cell_type": "code",
   "execution_count": 78,
   "id": "6c52ca9b-3fce-4e45-a56e-697163f55815",
   "metadata": {},
   "outputs": [
    {
     "data": {
      "image/png": "[encoded data removed]",
      "text/plain": [
       "<Figure size 2160x576 with 20 Axes>"
      ]
     },
     "metadata": {
      "needs_background": "light"
     },
     "output_type": "display_data"
    }
   ],
   "source": [
    "slice_id = 24\n",
    "count = 0\n",
    "samples = samples3d[scan_id][:,slice_id]\n",
    "plt.figure(figsize=(30,8))\n",
    "for i in range(2*10):\n",
    "    plt.subplot(2, 10, count+1)\n",
    "    plt.imshow(samples[i].argmax(dim=0), cmap='gray')\n",
    "    plt.title(i)\n",
    "    plt.axis('off')\n",
    "    count += 1"
   ]
  },
  {
   "cell_type": "code",
   "execution_count": 79,
   "id": "77ad7add-a57f-45d2-b909-25b90c767044",
   "metadata": {},
   "outputs": [
    {
     "data": {
      "image/png": "[encoded data removed]",
      "text/plain": [
       "<Figure size 432x288 with 2 Axes>"
      ]
     },
     "metadata": {
      "needs_background": "light"
     },
     "output_type": "display_data"
    }
   ],
   "source": [
    "# show ground truth and uncertainty map\n",
    "slice_ent_map = scan_ent_map[slice_id]\n",
    "plt.subplot(1,2,1)\n",
    "plt.imshow(ys3d[scan_id][slice_id], cmap='gray'); plt.axis('off')\n",
    "plt.subplot(1,2,2)\n",
    "plt.imshow(slice_ent_map); plt.axis('off');"
   ]
  },
  {
   "cell_type": "markdown",
   "id": "eff34980-b224-41ad-9270-b168db02abab",
   "metadata": {},
   "source": [
    "### How do average dice and best dice improve with samples"
   ]
  },
  {
   "cell_type": "code",
   "execution_count": 156,
   "id": "75114bcf-814a-4fa3-8f64-dd2b6dc10f3a",
   "metadata": {},
   "outputs": [],
   "source": [
    "def dice(y_pred, y_true):\n",
    "    y_pred = torch.nn.functional.softmax(y_pred, dim=1).argmax(dim=1)\n",
    "    #print(y_pred.shape, y_true.shape)\n",
    "    denominator = torch.sum(y_pred) + torch.sum(y_true)\n",
    "    numerator = 2. * torch.sum(torch.logical_and(y_pred, y_true))\n",
    "    return numerator / denominator"
   ]
  },
  {
   "cell_type": "code",
   "execution_count": 157,
   "id": "ca6b9b61-0ecf-49c7-b91a-0207070ce7d9",
   "metadata": {},
   "outputs": [],
   "source": [
    "def AVD(y_pred, y_true):\n",
    "    y_pred = y_pred.argmax(dim=1)\n",
    "    avd = (y_pred.sum() - y_true.sum()).abs() / y_true.sum() * 100\n",
    "    return avd.item()"
   ]
  },
  {
   "cell_type": "code",
   "execution_count": 158,
   "id": "33469ddb-d2d6-4274-8a2b-369c4275761c",
   "metadata": {},
   "outputs": [],
   "source": [
    "avds_mean = []\n",
    "for ind in range(len(ys3d)):\n",
    "    mu = means3d[ind]\n",
    "    target = ys3d[ind]\n",
    "    avds_mean.append(AVD(mu, target))"
   ]
  },
  {
   "cell_type": "code",
   "execution_count": 159,
   "id": "f12d3c3c-48d3-4b87-aa34-ffc9be4ed49e",
   "metadata": {},
   "outputs": [
    {
     "name": "stdout",
     "output_type": "stream",
     "text": [
      "mean absolute volume difference, percent\n"
     ]
    },
    {
     "data": {
      "text/plain": [
       "tensor(26.3171)"
      ]
     },
     "execution_count": 159,
     "metadata": {},
     "output_type": "execute_result"
    }
   ],
   "source": [
    "print(\"mean absolute volume difference, percent\")\n",
    "torch.Tensor(avds_mean).mean()"
   ]
  },
  {
   "cell_type": "code",
   "execution_count": 160,
   "id": "b3394eb3-23c1-4ed7-b9eb-9660fe851b89",
   "metadata": {},
   "outputs": [],
   "source": [
    "# import scipy.spatial"
   ]
  },
  {
   "cell_type": "code",
   "execution_count": 161,
   "id": "c43a1ec3-42ef-4105-b883-48ea0e04e847",
   "metadata": {},
   "outputs": [],
   "source": [
    "# def scipy_dice(y_pred, y_true):\n",
    "#     bs = y_pred.shape[0]\n",
    "#     y_pred = y_pred.argmax(dim=1).view(-1).type(torch.float32)\n",
    "#     y_true = y_true.view(-1).type(torch.float32)\n",
    "#     return 1.0 - scipy.spatial.distance.dice(y_true, y_pred)"
   ]
  },
  {
   "cell_type": "code",
   "execution_count": 162,
   "id": "bf48e898-73ff-4108-8d78-c1e014097e58",
   "metadata": {},
   "outputs": [],
   "source": [
    "# compute dice for the mean produced by the model\n",
    "dices_mean = []\n",
    "for ind in range(len(ys3d)):\n",
    "    mu = means3d[ind]\n",
    "    target = ys3d[ind]\n",
    "    dices_mean.append(dice(mu, target))"
   ]
  },
  {
   "cell_type": "code",
   "execution_count": 163,
   "id": "7ec542ef-eaea-4e7e-8c1c-12dc4e6bf9a0",
   "metadata": {},
   "outputs": [
    {
     "name": "stdout",
     "output_type": "stream",
     "text": [
      "mean dice\n",
      "tensor(0.6974)\n"
     ]
    }
   ],
   "source": [
    "print(\"mean dice\")\n",
    "dices_mean = torch.Tensor(dices_mean)\n",
    "print(dices_mean.mean())"
   ]
  },
  {
   "cell_type": "code",
   "execution_count": 164,
   "id": "6e45a461-30dd-48d7-9348-68f1091a5da1",
   "metadata": {},
   "outputs": [
    {
     "name": "stderr",
     "output_type": "stream",
     "text": [
      "100%|█████████████████████████████████████████████████████████████████████████████████████████████████████████████████| 35/35 [02:48<00:00,  4.82s/it]\n"
     ]
    }
   ],
   "source": [
    "# compute the dice per sample, per individual\n",
    "dices3d = []\n",
    "for ind in tqdm(range(len(samples3d)), position=0, leave=True, ncols=150):\n",
    "    sample_dices = []\n",
    "    for s in range(len(samples3d[ind])):\n",
    "        y_hat = samples3d[ind][s]\n",
    "        y = ys3d[ind]\n",
    "        sample_dices.append(dice(y_hat, y))\n",
    "    dices3d.append(sample_dices)"
   ]
  },
  {
   "cell_type": "code",
   "execution_count": 165,
   "id": "aa7265f5-22d0-4aaa-9bc9-24297301257e",
   "metadata": {},
   "outputs": [],
   "source": [
    "tensor_alldice3d = torch.stack([torch.Tensor(ds) for ds in dices3d], dim=0).swapaxes(0,1)"
   ]
  },
  {
   "cell_type": "code",
   "execution_count": 166,
   "id": "e0073404-45fe-4732-a7c9-0a61c9667121",
   "metadata": {},
   "outputs": [
    {
     "data": {
      "text/plain": [
       "tensor(0.6961)"
      ]
     },
     "execution_count": 166,
     "metadata": {},
     "output_type": "execute_result"
    }
   ],
   "source": [
    "# best dice mean. This is a little dissapointing.\n",
    "tensor_alldice3d.max(dim=0)[0].mean()"
   ]
  },
  {
   "cell_type": "code",
   "execution_count": 167,
   "id": "f16779ba-772a-4332-b1eb-2d5b3e19af06",
   "metadata": {},
   "outputs": [],
   "source": [
    "plt.style.use('fivethirtyeight')"
   ]
  },
  {
   "cell_type": "code",
   "execution_count": 170,
   "id": "fb438283-9e6f-4f33-8fc2-7a60765ffc04",
   "metadata": {},
   "outputs": [
    {
     "data": {
      "image/png": "[encoded data removed]",
      "text/plain": [
       "<Figure size 2000x500 with 1 Axes>"
      ]
     },
     "metadata": {},
     "output_type": "display_data"
    }
   ],
   "source": [
    "# sort in order of quality\n",
    "order = torch.sort(torch.median(tensor_alldice3d, dim=0)[0])[1]\n",
    "plt.figure(figsize=(20, 5))\n",
    "plt.boxplot(tensor_alldice3d.T[order]);\n",
    "plt.ylim(0, 1);\n",
    "plt.tick_params(\n",
    "    axis='x',          # changes apply to the x-axis\n",
    "    which='both',      # both major and minor ticks are affected\n",
    "    bottom=False,      # ticks along the bottom edge are off\n",
    "    top=False,         # ticks along the top edge are off\n",
    "    labelbottom=False) # labels along the bottom edge are off\n",
    "plt.ylabel(\"Dice\")\n",
    "plt.xlabel(\"Individuals\");\n",
    "#save(\"sample_diversity\")"
   ]
  },
  {
   "cell_type": "markdown",
   "id": "83b4e47f-93c7-4486-8535-cfc1be3f5bad",
   "metadata": {},
   "source": [
    "### Calibration"
   ]
  },
  {
   "cell_type": "code",
   "execution_count": 93,
   "id": "1701ad5b-f173-4e04-b623-07c335e6a010",
   "metadata": {},
   "outputs": [],
   "source": [
    "def place_in_bin(value):\n",
    "    return torch.round(value, decimals=1)"
   ]
  },
  {
   "cell_type": "code",
   "execution_count": 94,
   "id": "470dcd3f-8163-4e90-8935-d639ff57a3b3",
   "metadata": {},
   "outputs": [],
   "source": [
    "def rolling_average(value, n, G):\n",
    "    return value / n + ((n-1) / n) * G\n",
    "\n",
    "def batch_rolling_average(values, n, G):\n",
    "    \"\"\"\n",
    "    assumes all batches but the last batch are the same size\n",
    "    \"\"\"\n",
    "    return values.sum() / (values.shape[0]*n) + ((n-1) / n) * G"
   ]
  },
  {
   "cell_type": "code",
   "execution_count": 95,
   "id": "15cb7d42-4ea5-40d5-94a1-fd76e121c3fc",
   "metadata": {},
   "outputs": [
    {
     "data": {
      "text/plain": [
       "35"
      ]
     },
     "execution_count": 95,
     "metadata": {},
     "output_type": "execute_result"
    }
   ],
   "source": [
    "len(samples3d)"
   ]
  },
  {
   "cell_type": "code",
   "execution_count": 96,
   "id": "8af3e50c-5e83-47be-a8da-ecd1b7d2123d",
   "metadata": {},
   "outputs": [
    {
     "name": "stderr",
     "output_type": "stream",
     "text": [
      "100%|█████████████████████████████████████████████████████████████████████████████████████████████████████████████████| 35/35 [01:28<00:00,  2.54s/it]\n"
     ]
    }
   ],
   "source": [
    "# assess bin counts of p y = 1\n",
    "bins = 10 + 1 # for the 0 bin\n",
    "bin_batch_accuracies = [[] for b in range(bins)]\n",
    "bin_batch_confidences = [[] for b in range(bins)]\n",
    "bin_batch_sizes = [[] for b in range(bins)]\n",
    "bin_counts = [0 for b in range(bins)]\n",
    "for batch_idx in tqdm(range(len(ys3d)), ncols=150, position=0, leave=True): # skip the last batch with a different shape\n",
    "    batch_t = ys3d[batch_idx].squeeze()\n",
    "    batch_samples = samples3d[batch_idx]\n",
    "    \n",
    "    if batch_t.shape[0] < 10:\n",
    "        continue # skip last batch if it is very small.\n",
    "    \n",
    "    # get probabilities\n",
    "    probs = torch.nn.functional.softmax(batch_samples, dim=2)\n",
    "    p1s = probs[:,:,1]\n",
    "    \n",
    "    # split into bins\n",
    "    bin_ids = place_in_bin(p1s)\n",
    "    \n",
    "    # compute counts\n",
    "    for i in range(bins):\n",
    "        is_in_bin = (bin_ids == (i / 10))\n",
    "        # print(is_in_bin.shape)\n",
    "        # print(batch_t.shape)\n",
    "        \n",
    "        # number of elements in each bin\n",
    "        num_elem = torch.sum(is_in_bin).item()\n",
    "        if num_elem == 0:\n",
    "            print(\"zero\")\n",
    "        \n",
    "        # number of predictions = to class 1\n",
    "        c1_acc = batch_t.expand(p1s.shape)[is_in_bin].sum() / num_elem\n",
    "        \n",
    "        if torch.isnan(c1_acc):\n",
    "            print(\"acc_nan\")\n",
    "        \n",
    "        # average confidence of values in that bin\n",
    "        c1_conf = p1s[is_in_bin].mean()\n",
    "        \n",
    "        if torch.isnan(c1_conf):\n",
    "            print(\"conf_nan\")\n",
    "        \n",
    "        bin_batch_accuracies[i].append(c1_acc)\n",
    "        bin_batch_confidences[i].append(c1_conf)\n",
    "        bin_batch_sizes[i].append(num_elem)"
   ]
  },
  {
   "cell_type": "code",
   "execution_count": 97,
   "id": "94f4675f-380c-4467-8584-dffec3119aff",
   "metadata": {},
   "outputs": [],
   "source": [
    "bin_sizes = [torch.Tensor(bbs).sum() for bbs in bin_batch_sizes]\n",
    "bin_accuracies = [torch.Tensor([bin_batch_accuracies[i][j] * bin_batch_sizes[i][j] / bin_sizes[i] for j in range(len(bin_batch_accuracies[i]))]).sum().item() for i in range(len(bin_sizes))]\n",
    "bin_confidences = [torch.Tensor([bin_batch_confidences[i][j] * bin_batch_sizes[i][j] / bin_sizes[i] for j in range(len(bin_batch_confidences[i]))]).sum().item() for i in range(len(bin_sizes))]\n"
   ]
  },
  {
   "cell_type": "code",
   "execution_count": 98,
   "id": "f698135c-d73e-49fe-bff8-88bce783078e",
   "metadata": {},
   "outputs": [
    {
     "data": {
      "text/plain": [
       "[0.0004714438982773572,\n",
       " 0.1155690997838974,\n",
       " 0.19830727577209473,\n",
       " 0.26476261019706726,\n",
       " 0.3279672861099243,\n",
       " 0.39086371660232544,\n",
       " 0.45577380061149597,\n",
       " 0.5302352905273438,\n",
       " 0.6230083107948303,\n",
       " 0.7468774318695068,\n",
       " 0.91825270652771]"
      ]
     },
     "execution_count": 98,
     "metadata": {},
     "output_type": "execute_result"
    }
   ],
   "source": [
    "bin_accuracies"
   ]
  },
  {
   "cell_type": "code",
   "execution_count": 99,
   "id": "47a2dc9d-ee42-4c74-9aae-38f56b2df65c",
   "metadata": {},
   "outputs": [
    {
     "data": {
      "text/plain": [
       "[0.00015949111548252404,\n",
       " 0.08865717053413391,\n",
       " 0.19523954391479492,\n",
       " 0.2972811162471771,\n",
       " 0.39849892258644104,\n",
       " 0.4991968870162964,\n",
       " 0.6000404357910156,\n",
       " 0.7009148597717285,\n",
       " 0.8025236129760742,\n",
       " 0.9070276021957397,\n",
       " 0.9890485405921936]"
      ]
     },
     "execution_count": 99,
     "metadata": {},
     "output_type": "execute_result"
    }
   ],
   "source": [
    "bin_confidences"
   ]
  },
  {
   "cell_type": "code",
   "execution_count": 100,
   "id": "da0e65fc-6c4d-4cbe-9f5d-10b2d5958796",
   "metadata": {},
   "outputs": [
    {
     "name": "stdout",
     "output_type": "stream",
     "text": [
      "EXPECTED CALIBRATION ERROR: note we skip the first bin due to its size tensor(0.0730)\n"
     ]
    }
   ],
   "source": [
    "total_size = torch.sum(torch.Tensor(bin_sizes)[1:])\n",
    "ece = torch.sum( (torch.Tensor(bin_sizes)[1:]/ total_size) * (torch.abs(torch.Tensor(bin_accuracies)[1:] - torch.Tensor(bin_confidences)[1:])))\n",
    "print(\"EXPECTED CALIBRATION ERROR: note we skip the first bin due to its size\", ece)"
   ]
  },
  {
   "cell_type": "code",
   "execution_count": 101,
   "id": "46137c04-4841-4de5-89e0-1262049d1dcd",
   "metadata": {},
   "outputs": [
    {
     "data": {
      "text/plain": [
       "'\\nlooking at just the class one calibration is useful due to the extreme lack of class 1 in the image, this gives us a better idea of how the model is doing\\nand when optimizing calibration I should be optimizing this.\\n'"
      ]
     },
     "execution_count": 101,
     "metadata": {},
     "output_type": "execute_result"
    }
   ],
   "source": [
    "\"\"\"\n",
    "looking at just the class one calibration is useful due to the extreme lack of class 1 in the image, this gives us a better idea of how the model is doing\n",
    "and when optimizing calibration I should be optimizing this.\n",
    "\"\"\""
   ]
  },
  {
   "cell_type": "code",
   "execution_count": 102,
   "id": "f64da5cb-c64d-4515-a9f6-55d38ba4bdb3",
   "metadata": {},
   "outputs": [
    {
     "data": {
      "image/png": "[encoded data removed]",
      "text/plain": [
       "<Figure size 432x288 with 1 Axes>"
      ]
     },
     "metadata": {},
     "output_type": "display_data"
    }
   ],
   "source": [
    "plt.plot(bin_confidences, bin_accuracies)\n",
    "plt.plot([0,1],[0,1]);\n",
    "plt.xlabel(\"Confidence\")\n",
    "plt.ylabel(\"Accuracy\");\n",
    "save(\"calibration\")"
   ]
  },
  {
   "cell_type": "markdown",
   "id": "2e848550-ba3b-455e-b8be-ccd79a48b4d9",
   "metadata": {},
   "source": [
    "### Sample Diversity and Generalized Energy Distance\n"
   ]
  },
  {
   "cell_type": "code",
   "execution_count": 103,
   "id": "982b8249-a521-471a-8099-7a07a7665a97",
   "metadata": {},
   "outputs": [],
   "source": [
    "def IOU(bs, cs, cs_are_targets=True):\n",
    "    # for computing on a 3D image\n",
    "    bs = bs.argmax(dim=1)\n",
    "    if not cs_are_targets:\n",
    "        cs = cs.argmax(dim=1)\n",
    "    intersection = torch.sum(bs * cs)\n",
    "    union = torch.logical_or(bs, cs).sum()\n",
    "    return intersection / union\n",
    "\n",
    "def all_samples_IOU(bs, cs):\n",
    "    # for computing on a 3D image\n",
    "    intersection = torch.sum(bs * cs, dim=1)\n",
    "    union = torch.logical_or(bs, cs).sum(dim=1)\n",
    "    return (intersection / union).mean()"
   ]
  },
  {
   "cell_type": "code",
   "execution_count": 104,
   "id": "3e2b4c50-8a54-48e5-a128-22a04c4c29d3",
   "metadata": {},
   "outputs": [],
   "source": [
    "def sample_diversity(samples):\n",
    "    samples = samples.argmax(dim=2)\n",
    "    ss = samples.shape[0]\n",
    "    samples = samples.view(ss, -1)\n",
    "    rolled = samples\n",
    "    diversities = []\n",
    "    for i in range(5):\n",
    "        rolled = torch.roll(rolled, 1, 0)\n",
    "        diversities.append(all_samples_IOU(samples, rolled))\n",
    "    return torch.mean(torch.Tensor(diversities))"
   ]
  },
  {
   "cell_type": "code",
   "execution_count": 105,
   "id": "c22ebd41-ed1a-4963-8f77-82bd9b759a59",
   "metadata": {},
   "outputs": [
    {
     "name": "stderr",
     "output_type": "stream",
     "text": [
      "100%|███████████████████████████████████████████████████████████████████████████████████████████████████████████████████████████████████████████████████████| 18/18 [01:44<00:00,  5.81s/it]\n"
     ]
    }
   ],
   "source": [
    "per_ind_diversities = []\n",
    "for s in tqdm(samples3d[::2], position=0, leave=True):\n",
    "    per_ind_diversities.append(sample_diversity(s))"
   ]
  },
  {
   "cell_type": "code",
   "execution_count": 106,
   "id": "82a6dc30-bd4b-4d05-a1a4-e506b82442b9",
   "metadata": {},
   "outputs": [
    {
     "data": {
      "text/plain": [
       "tensor(0.5377)"
      ]
     },
     "execution_count": 106,
     "metadata": {},
     "output_type": "execute_result"
    }
   ],
   "source": [
    "overall_sample_diversity = torch.Tensor(per_ind_diversities).mean()\n",
    "overall_sample_diversity"
   ]
  },
  {
   "cell_type": "code",
   "execution_count": 107,
   "id": "433361d9-1381-4d76-b28e-de72e007797a",
   "metadata": {},
   "outputs": [],
   "source": [
    "def sample_to_target_distance(samples, target):\n",
    "    samples = samples.argmax(dim=2)\n",
    "    target = target.unsqueeze(0).expand(samples.shape)\n",
    "    ns = samples.shape[0]\n",
    "    ind_distance = all_samples_IOU(samples.view(ns, -1),target.view(ns, -1))\n",
    "    return ind_distance"
   ]
  },
  {
   "cell_type": "code",
   "execution_count": 108,
   "id": "b5ed8c47-caae-4441-867e-3bf76ae15154",
   "metadata": {},
   "outputs": [
    {
     "name": "stderr",
     "output_type": "stream",
     "text": [
      "100%|███████████████████████████████████████████████████████████████████████████████████████████████████████████████████████████████████████████████████████| 35/35 [02:51<00:00,  4.89s/it]\n"
     ]
    }
   ],
   "source": [
    "all_imgs_stot_distance = []\n",
    "for i in tqdm(range(len(ys3d)), position=0, leave=True):\n",
    "    all_imgs_stot_distance.append(sample_to_target_distance(samples3d[i], ys3d[i]))"
   ]
  },
  {
   "cell_type": "code",
   "execution_count": 109,
   "id": "0e961f4d-da47-4772-acd3-9b39c28f224e",
   "metadata": {},
   "outputs": [
    {
     "name": "stdout",
     "output_type": "stream",
     "text": [
      "generalized energy distance\n"
     ]
    },
    {
     "data": {
      "text/plain": [
       "tensor(0.4444)"
      ]
     },
     "execution_count": 109,
     "metadata": {},
     "output_type": "execute_result"
    }
   ],
   "source": [
    "print(\"generalized energy distance\")\n",
    "2 * torch.Tensor(all_imgs_stot_distance).mean() - overall_sample_diversity"
   ]
  },
  {
   "cell_type": "markdown",
   "id": "a3267eb7-c082-4728-a01f-d68a26a6a90c",
   "metadata": {},
   "source": [
    "### Compute the PavPU metrics cause I'm not convinced my previous code in original ssn notebook was incorrect."
   ]
  },
  {
   "cell_type": "code",
   "execution_count": 110,
   "id": "6b72b7f7-dc24-44ff-85e4-cd99a6ba6041",
   "metadata": {},
   "outputs": [
    {
     "name": "stderr",
     "output_type": "stream",
     "text": [
      "100%|█████████████████████████████████████████████████████████████████████████████████████████████████████████████████| 35/35 [03:08<00:00,  5.39s/it]\n"
     ]
    }
   ],
   "source": [
    "# I am going to do it per patch, but take the average accuracy per patch (perhaps I should qc average dice as well, best dice, worst dice.\n",
    "uncetainty_thresholds = torch.arange(0, 0.7, 0.01)\n",
    "accuracy_threshold = 0.9\n",
    "window = 16\n",
    "stride = 16\n",
    "n_acs = [[] for i in range(len(uncetainty_thresholds))]\n",
    "n_aus = [[] for i in range(len(uncetainty_thresholds))]\n",
    "n_ics = [[] for i in range(len(uncetainty_thresholds))]\n",
    "n_ius = [[] for i in range(len(uncetainty_thresholds))]\n",
    "\n",
    "for batch_idx in tqdm(range(len(ys3d)), ncols=150, position=0, leave=True): # skip the last batch with a different shape\n",
    "    batch_t = ys3d[batch_idx].squeeze()\n",
    "    batch_samples = samples3d[batch_idx]\n",
    "    batch_mean = means3d[batch_idx]\n",
    "    ent = entropy_map_from_samples(batch_samples)\n",
    "    \n",
    "    # get probabilities\n",
    "    probs = torch.nn.functional.softmax(batch_samples, dim=2)\n",
    "    pred_classes = probs.argmax(dim=2)\n",
    "    confidences = probs.max(dim=2)[0]\n",
    "    \n",
    "    # get average accuracy of each sample using the mean\n",
    "    # or I could treat each patch of each sample as a separate thing but that is not what I am doing here.\n",
    "    #avg_accuracy = ((batch_t.expand(pred_classes.shape) == pred_classes) * 1.).mean(dim=0)\n",
    "    accuracy = batch_t == batch_mean.argmax(dim=1)\n",
    "    \n",
    "    # unroll predictions and targets and entropy\n",
    "    t_unrolled = batch_t.unfold(-2, window, stride).unfold(-1, window, stride).reshape(-1, window, window)\n",
    "    #accuracy_unrolled = avg_accuracy.unfold(-2, window, stride).unfold(-1, window, stride).reshape(-1, window, window)\n",
    "    accuracy_unrolled = accuracy.unfold(-2, window, stride).unfold(-1, window, stride).reshape(-1, window, window)\n",
    "    ent_unrolled = ent.unfold(-2, window, stride).unfold(-1, window, stride).reshape(-1, window, window)\n",
    "    \n",
    "    #accurate_patches = accuracy_unrolled > 0.9\n",
    "    accurate_patches = accuracy_unrolled.type(torch.float32).mean(dim=(1,2)) > 0.9\n",
    "    # print(accurate_patches.shape)\n",
    "    \n",
    "    # try applying around patches that have lesion burden.\n",
    "    has_lesion = t_unrolled.mean(dim=(1,2)) > 0.\n",
    "    \n",
    "    # for each uncertainty threshold, compute the 4 numbers\n",
    "    for i, uncert_t in enumerate(uncetainty_thresholds):\n",
    "        #uncertain_patches = ent_unrolled > uncert_t\n",
    "        uncertain_patches = ent_unrolled.mean(dim=(1,2)) > uncert_t\n",
    "        # print(uncertain_patches.shape)\n",
    "        \n",
    "        n_acs[i].append(torch.sum(torch.logical_and(has_lesion, torch.logical_and(accurate_patches, ~uncertain_patches))))\n",
    "        n_aus[i].append(torch.sum(torch.logical_and(has_lesion, torch.logical_and(accurate_patches, uncertain_patches))))\n",
    "        n_ics[i].append(torch.sum(torch.logical_and(has_lesion, torch.logical_and(~accurate_patches, ~uncertain_patches))))\n",
    "        n_ius[i].append(torch.sum(torch.logical_and(has_lesion, torch.logical_and(~accurate_patches, uncertain_patches))))\n",
    "        "
   ]
  },
  {
   "cell_type": "code",
   "execution_count": 111,
   "id": "8842bfc5-4e7c-412d-8c4e-1fcca9038a78",
   "metadata": {},
   "outputs": [],
   "source": [
    "n_acs_t = [torch.Tensor(n_acs[i]).sum() for i in range(len(uncetainty_thresholds))]\n",
    "n_aus_t = [torch.Tensor(n_aus[i]).sum() for i in range(len(uncetainty_thresholds))]\n",
    "n_ics_t = [torch.Tensor(n_ics[i]).sum() for i in range(len(uncetainty_thresholds))]\n",
    "n_ius_t = [torch.Tensor(n_ius[i]).sum() for i in range(len(uncetainty_thresholds))]"
   ]
  },
  {
   "cell_type": "code",
   "execution_count": 112,
   "id": "af3d8354-075c-4d75-8d8f-0d10f280dcbb",
   "metadata": {},
   "outputs": [],
   "source": [
    "p_acs = [n_acs_t[i] / (n_acs_t[i] + n_ics_t[i]) for i in range(len(uncetainty_thresholds))]\n",
    "p_aus = [n_ius_t[i] / (n_ius_t[i] + n_ics_t[i]) for i in range(len(uncetainty_thresholds))]\n",
    "pavpu = [(n_acs_t[i] + n_ius_t[i]) / (n_ius_t[i] + n_ics_t[i] + n_aus_t[i] + n_acs_t[i]) for i in range(len(uncetainty_thresholds))]"
   ]
  },
  {
   "cell_type": "code",
   "execution_count": 113,
   "id": "494c1922-23fc-4714-b2a8-e3cb9418df67",
   "metadata": {},
   "outputs": [
    {
     "data": {
      "image/png": "[encoded data removed]",
      "text/plain": [
       "<Figure size 936x216 with 3 Axes>"
      ]
     },
     "metadata": {},
     "output_type": "display_data"
    }
   ],
   "source": [
    "plt.figure(figsize=(13,3))\n",
    "plt.subplot(1,3,1)\n",
    "plt.plot(uncetainty_thresholds, p_acs, c='g')\n",
    "plt.xlim((-0.01,0.7)); plt.ylim((-0.05,1.05))\n",
    "plt.xlabel(\"τ\")\n",
    "plt.ylabel(\"p(acc|cert)\")\n",
    "plt.subplot(1,3,2)\n",
    "plt.plot(uncetainty_thresholds, p_aus, c='g')\n",
    "plt.xlim((-0.01,0.7)); plt.ylim((-0.05,1.05))\n",
    "plt.ylabel(\"p(uncert|inacc)\")\n",
    "plt.xlabel(\"τ\")\n",
    "plt.subplot(1,3,3)\n",
    "plt.plot(uncetainty_thresholds, pavpu, c='g')\n",
    "plt.xlim((-0.01,0.7)); plt.ylim((-0.05,1.05))\n",
    "plt.ylabel(\"PAVPU\")\n",
    "plt.xlabel(\"τ\")\n",
    "save(\"pavpu\")"
   ]
  },
  {
   "cell_type": "code",
   "execution_count": 114,
   "id": "ea39f174-2464-46f0-a0cd-0ea8677ecb15",
   "metadata": {},
   "outputs": [
    {
     "name": "stdout",
     "output_type": "stream",
     "text": [
      "these metrics show the tradeoffs depending on what we want to capture, if tau is too low, then we have too many false positives\n"
     ]
    }
   ],
   "source": [
    "print(\"these metrics show the tradeoffs depending on what we want to capture, if tau is too low, then we have too many false positives\")"
   ]
  },
  {
   "cell_type": "code",
   "execution_count": 115,
   "id": "950c11d8-99f7-4e5a-9d6d-dbeb0b854529",
   "metadata": {},
   "outputs": [],
   "source": [
    "#uncetainty_thresholds"
   ]
  },
  {
   "cell_type": "code",
   "execution_count": 116,
   "id": "026cbc7b-f3c2-4d31-9322-26cf03e966ea",
   "metadata": {},
   "outputs": [
    {
     "data": {
      "text/plain": [
       "(tensor(0.1000), tensor(0.9842), tensor(0.8720), tensor(0.7021))"
      ]
     },
     "execution_count": 116,
     "metadata": {},
     "output_type": "execute_result"
    }
   ],
   "source": [
    "i=10\n",
    "uncetainty_thresholds[i], p_acs[i], p_aus[i], pavpu[i]"
   ]
  },
  {
   "cell_type": "code",
   "execution_count": 117,
   "id": "004fcdbf-628d-4311-b9e6-232f1acc14bd",
   "metadata": {},
   "outputs": [],
   "source": [
    "#ent_thresh = uncetainty_thresholds[i]"
   ]
  },
  {
   "cell_type": "code",
   "execution_count": 118,
   "id": "e5b40ad5-fb24-4a3f-ba54-96bf93e59a16",
   "metadata": {},
   "outputs": [],
   "source": [
    "ent_thresh = 0.05"
   ]
  },
  {
   "cell_type": "markdown",
   "id": "fb1231f0-976a-4f92-8694-54aa43f4040c",
   "metadata": {},
   "source": [
    "### Quality Control in 3D - vcc corr-coeff"
   ]
  },
  {
   "cell_type": "code",
   "execution_count": 119,
   "id": "91aff01c-1a87-4a13-9d44-e5ff18ed0de2",
   "metadata": {},
   "outputs": [],
   "source": [
    "# generate entropy maps per individual\n",
    "ind_ent_maps = [entropy_map_from_samples(samples3d[i]) for i in range(len(ys3d))]"
   ]
  },
  {
   "cell_type": "code",
   "execution_count": 120,
   "id": "5b02f2b6-e1f4-4105-8397-d3d3d8b8158b",
   "metadata": {},
   "outputs": [],
   "source": [
    "def VVC(v):\n",
    "    v = torch.nn.functional.softmax(v, dim=2)\n",
    "    return torch.std(v) / torch.mean(v)"
   ]
  },
  {
   "cell_type": "code",
   "execution_count": 121,
   "id": "98288919-655b-4755-baee-e0d21570bca2",
   "metadata": {},
   "outputs": [],
   "source": [
    "vvcs = [VVC(samples3d[i]) for i in range(len(ys3d))]"
   ]
  },
  {
   "cell_type": "code",
   "execution_count": 122,
   "id": "7d79cc54-ff35-49a6-bd13-b9db27c5c650",
   "metadata": {},
   "outputs": [],
   "source": [
    "#vvcs_ent = [VVC(ind_ent_maps[i]) for i in range(len(ys3d))]"
   ]
  },
  {
   "cell_type": "code",
   "execution_count": 123,
   "id": "f570f2fe-9c9f-40c7-8c46-9a00241289a2",
   "metadata": {},
   "outputs": [],
   "source": [
    "medians = torch.median(tensor_alldice3d, dim=0)[0]"
   ]
  },
  {
   "cell_type": "code",
   "execution_count": 124,
   "id": "4bb8c945-5a2c-4de6-b3f5-714021037b76",
   "metadata": {},
   "outputs": [
    {
     "name": "stdout",
     "output_type": "stream",
     "text": [
      "correlation coefficient:  tensor(-0.7122)\n"
     ]
    }
   ],
   "source": [
    "print(\"correlation coefficient: \", torch.corrcoef(torch.stack([torch.Tensor(vvcs), medians]))[0][1])"
   ]
  },
  {
   "cell_type": "code",
   "execution_count": 125,
   "id": "45987bb9-b302-4424-bdd0-9a3d99ec4e27",
   "metadata": {},
   "outputs": [],
   "source": [
    "#plt.scatter(vvcs, medians)"
   ]
  },
  {
   "cell_type": "markdown",
   "id": "c086f0c3-2597-4546-998c-551d419a1bb6",
   "metadata": {},
   "source": [
    "### TP FP TN FN distribution"
   ]
  },
  {
   "cell_type": "code",
   "execution_count": 126,
   "id": "d69a890c-ffdf-44c2-8cb8-1cdb2e98cbf9",
   "metadata": {},
   "outputs": [
    {
     "name": "stderr",
     "output_type": "stream",
     "text": [
      "100%|█████████████████████████████████████████████████████████████████████████████████████████████████████████████████| 35/35 [00:08<00:00,  3.94it/s]\n"
     ]
    }
   ],
   "source": [
    "all_tps = []\n",
    "#all_tns = []\n",
    "all_fps = []\n",
    "all_fns = []\n",
    "\n",
    "with torch.no_grad():\n",
    "    for i in tqdm(range(len(ys3d)), position=0, leave=True, ncols=150):\n",
    "        samples = samples3d[i]\n",
    "        mean = means3d[i]\n",
    "        ent = ind_ent_maps[i].view(-1)\n",
    "        mean_class = mean.argmax(dim=1).view(-1)\n",
    "        y = ys3d[i]\n",
    "        x = xs3d[i].swapaxes(0,1)\n",
    "        y_flat = y.view(-1)\n",
    "        \n",
    "        tp_loc = torch.where(torch.logical_and(y_flat == 1, mean_class == 1))[0]\n",
    "        #tn_loc = torch.where(torch.logical_and(torch.logical_and(y_flat == 0, mean_class == 0), x[:,1].reshape(-1) == 1))[0]\n",
    "        fp_loc = torch.where(torch.logical_and(y_flat == 0, mean_class == 1))[0]\n",
    "        fn_loc = torch.where(torch.logical_and(torch.logical_and(y_flat == 1, mean_class == 0), x[:,1].reshape(-1) == 1))[0]\n",
    "        # print(tp_loc.shape)\n",
    "        # print(ent.view(-1).shape)\n",
    "        \n",
    "        all_tps.append(ent[tp_loc])\n",
    "        #all_tns.append(ent[tn_loc])\n",
    "        all_fps.append(ent[fp_loc])\n",
    "        all_fns.append(ent[fn_loc])"
   ]
  },
  {
   "cell_type": "code",
   "execution_count": 127,
   "id": "232f8514-a620-4f5f-bb08-92743149f4df",
   "metadata": {},
   "outputs": [],
   "source": [
    "tps = torch.cat(all_tps)\n",
    "#tns = torch.cat(all_tns)\n",
    "fps = torch.cat(all_fps)\n",
    "fns = torch.cat(all_fns)"
   ]
  },
  {
   "cell_type": "code",
   "execution_count": 128,
   "id": "c3ed3504-fd2d-406e-9e2d-643c866d400d",
   "metadata": {},
   "outputs": [
    {
     "data": {
      "text/plain": [
       "(torch.Size([221017]), torch.Size([39020]), torch.Size([67380]))"
      ]
     },
     "execution_count": 128,
     "metadata": {},
     "output_type": "execute_result"
    }
   ],
   "source": [
    "tps.shape, fps.shape, fns.shape"
   ]
  },
  {
   "cell_type": "code",
   "execution_count": 129,
   "id": "e9f0c8c8-ba09-4475-8067-47c062f53600",
   "metadata": {},
   "outputs": [
    {
     "data": {
      "text/plain": [
       "(tensor(0.2879), tensor(0.5556), tensor(0.4459))"
      ]
     },
     "execution_count": 129,
     "metadata": {},
     "output_type": "execute_result"
    }
   ],
   "source": [
    "tps.mean(), fps.mean(), fns.mean()"
   ]
  },
  {
   "cell_type": "code",
   "execution_count": 130,
   "id": "73400938-7bed-48b2-b296-1fd33921fcf3",
   "metadata": {},
   "outputs": [
    {
     "data": {
      "image/png": "[encoded data removed]",
      "text/plain": [
       "<Figure size 432x288 with 1 Axes>"
      ]
     },
     "metadata": {},
     "output_type": "display_data"
    }
   ],
   "source": [
    "plt.hist(tps, bins=100, color='r');\n",
    "plt.ylabel(\"Voxels per Bin\")\n",
    "#plt.ylim((0, 350000))\n",
    "plt.xlabel(\"$H$\")\n",
    "save(\"tps\")"
   ]
  },
  {
   "cell_type": "code",
   "execution_count": 131,
   "id": "1adca605-27e2-4555-99d2-7624c528b100",
   "metadata": {},
   "outputs": [
    {
     "data": {
      "image/png": "[encoded data removed]",
      "text/plain": [
       "<Figure size 432x288 with 1 Axes>"
      ]
     },
     "metadata": {},
     "output_type": "display_data"
    }
   ],
   "source": [
    "plt.hist(fps, bins=100, color='r');\n",
    "plt.ylabel(\"Voxels per Bin\")\n",
    "#plt.ylim((0, 50000))\n",
    "plt.xlabel(\"$H$\")\n",
    "save(\"fps\")"
   ]
  },
  {
   "cell_type": "code",
   "execution_count": 132,
   "id": "2c4ad20d-7dfc-4268-9587-e535685fbfae",
   "metadata": {},
   "outputs": [
    {
     "data": {
      "image/png": "[encoded data removed]",
      "text/plain": [
       "<Figure size 432x288 with 1 Axes>"
      ]
     },
     "metadata": {},
     "output_type": "display_data"
    }
   ],
   "source": [
    "plt.hist(fns, bins=100, color='r');\n",
    "plt.ylabel(\"Voxels per Bin\")\n",
    "#plt.ylim((0, 155000))\n",
    "plt.xlabel(\"$H$\")\n",
    "save(\"fns\")"
   ]
  },
  {
   "cell_type": "code",
   "execution_count": 133,
   "id": "2dda6138-4c3c-49c5-b5a9-831b793905e3",
   "metadata": {},
   "outputs": [],
   "source": [
    "import seaborn as sns"
   ]
  },
  {
   "cell_type": "code",
   "execution_count": 134,
   "id": "0bac1e7a-70c0-4196-998b-377dea437e96",
   "metadata": {},
   "outputs": [],
   "source": [
    "j = -1\n",
    "ntps = len(tps)\n",
    "nfns = len(fns)\n",
    "nfps = len(fps)\n",
    "data = {\"label\":[\"TP\" for _ in range(ntps)][0:j] + [\"FN\" for _ in range(nfns)][0:j] + [\"FP\" for _ in range(nfps)][0:j], \"ent\": torch.cat([tps[0:j], fns[0:j], fps[0:j]]).numpy()}"
   ]
  },
  {
   "cell_type": "code",
   "execution_count": 135,
   "id": "091d0860-2923-4402-b8fd-12967acbe82e",
   "metadata": {},
   "outputs": [
    {
     "data": {
      "image/png": "[encoded data removed]",
      "text/plain": [
       "<Figure size 288x180 with 1 Axes>"
      ]
     },
     "metadata": {},
     "output_type": "display_data"
    }
   ],
   "source": [
    "plt.figure(figsize=(4, 2.5))\n",
    "sns.violinplot(x=\"label\", y=\"ent\", data=data, linewidth=0.5, inner=None)\n",
    "plt.ylabel(\"$H$\")\n",
    "save(\"types_violin\")"
   ]
  },
  {
   "cell_type": "markdown",
   "id": "55940009-4762-43e5-b23b-c63f3856e14c",
   "metadata": {},
   "source": [
    "### Missing lesions in 2D slices"
   ]
  },
  {
   "cell_type": "code",
   "execution_count": 136,
   "id": "0e73250f-6447-40e4-832a-c45370d1d23e",
   "metadata": {},
   "outputs": [],
   "source": [
    "from typing import Dict, Tuple\n",
    "\n",
    "import matplotlib.pyplot as plt\n",
    "import torch\n",
    "import torch.nn.functional as F\n",
    "import numpy as np\n",
    "import kornia as K\n",
    "\n",
    "def create_random_labels_map(classes: int) -> Dict[int, Tuple[int, int, int]]:\n",
    "    labels_map: Dict[int, Tuple[int, int, int]] = {}\n",
    "    for i in classes:\n",
    "        labels_map[i] = torch.randint(0, 255, (3, ))\n",
    "    labels_map[0] = torch.zeros(3)\n",
    "    return labels_map\n",
    "\n",
    "def labels_to_image(img_labels: torch.Tensor, labels_map: Dict[int, Tuple[int, int, int]]) -> torch.Tensor:\n",
    "    \"\"\"Function that given an image with labels ids and their pixels intrensity mapping, creates a RGB\n",
    "    representation for visualisation purposes.\"\"\"\n",
    "    assert len(img_labels.shape) == 2, img_labels.shape\n",
    "    H, W = img_labels.shape\n",
    "    out = torch.empty(3, H, W, dtype=torch.uint8)\n",
    "    for label_id, label_val in labels_map.items():\n",
    "        mask = (img_labels == label_id)\n",
    "        for i in range(3):\n",
    "            out[i].masked_fill_(mask, label_val[i])\n",
    "    return out\n",
    "\n",
    "def show_components(img, labels):\n",
    "    color_ids = torch.unique(labels)\n",
    "    labels_map = create_random_labels_map(color_ids)\n",
    "    labels_img = labels_to_image(labels, labels_map)\n",
    "\n",
    "    fig, (ax1, ax2) = plt.subplots(1, 2, figsize=(12,12))\n",
    "    \n",
    "    # Showing Original Image\n",
    "    ax1.imshow(img)\n",
    "    ax1.axis(\"off\")\n",
    "    ax1.set_title(\"Orginal Image\")\n",
    "    \n",
    "    #Showing Image after Component Labeling\n",
    "    ax2.imshow(labels_img.permute(1,2,0).squeeze().numpy())\n",
    "    ax2.axis('off')\n",
    "    ax2.set_title(\"Component Labeling\")"
   ]
  },
  {
   "cell_type": "code",
   "execution_count": 137,
   "id": "485ee4b0-b515-48a5-abfe-d74e04bdc210",
   "metadata": {},
   "outputs": [
    {
     "name": "stderr",
     "output_type": "stream",
     "text": [
      "100%|█████████████████████████████████████████████████████████████████████████████████████████████████████████████████| 35/35 [01:03<00:00,  1.83s/it]\n"
     ]
    }
   ],
   "source": [
    "conncomp_outs = []\n",
    "\n",
    "for y in tqdm(ys3d, position=0, leave=True, ncols=150):\n",
    "    labels_out = K.contrib.connected_components(y.unsqueeze(1).type(torch.float32), num_iterations=150)\n",
    "    conncomp_outs.append(labels_out)"
   ]
  },
  {
   "cell_type": "code",
   "execution_count": 138,
   "id": "3dcf972d-8dfe-4c35-b588-1598a9633dde",
   "metadata": {},
   "outputs": [
    {
     "name": "stderr",
     "output_type": "stream",
     "text": [
      "100%|█████████████████████████████████████████████████████████████████████████████████████████████████████████████████| 35/35 [02:30<00:00,  4.30s/it]\n"
     ]
    }
   ],
   "source": [
    "# this is the 1 pixel is covered by the entropy\n",
    "c_thresholds = [0.05, 0.1, 0.2, 0.3]\n",
    "coverages = [0.1, 0.5, 0.9]\n",
    "missing_lesion_size_ent = []\n",
    "existing_lesion_size_ent = []\n",
    "\n",
    "missing_lesion_size_mean = []\n",
    "\n",
    "num_entirely_missed_lesions = {ct:0 for ct in c_thresholds}\n",
    "entirely_missed_lesions_size = {ct:[] for ct in c_thresholds}\n",
    "proportion_missing_lesion_covered_ent = {ct:[] for ct in c_thresholds}\n",
    "num_lesions = 0\n",
    "sizes = []\n",
    "missing_area_sizes = []\n",
    "missing_area_coverage = {ct:[] for ct in c_thresholds}\n",
    "for batch in tqdm(range(len(ys3d)), position=0, leave=True, ncols=150):\n",
    "    for i in range(0, ys3d[batch].shape[0], 3):\n",
    "        conncomps = conncomp_outs[batch][i]\n",
    "        ent = ind_ent_maps[batch][i]\n",
    "        mean = means3d[batch].argmax(dim=1)[i]\n",
    "        \n",
    "        ids = conncomps.unique()[1:]\n",
    "        for idx in ids:\n",
    "            cc = (conncomps == idx)\n",
    "            num_lesions += 1\n",
    "            size = torch.sum(cc)\n",
    "            sizes.append(size)\n",
    "            \n",
    "            missing_area = (mean == 0) & cc\n",
    "            ma_size = missing_area.sum()\n",
    "            missing_area_sizes.append(ma_size)\n",
    "            \n",
    "            # get uncertain pixels for each threshold\n",
    "            for tau in c_thresholds:\n",
    "                uncert = (ent > tau).type(torch.long)\n",
    "                \n",
    "                # coverage proportion\n",
    "                coverage = (uncert * missing_area).sum() / ma_size\n",
    "                missing_area_coverage[tau].append(coverage)\n",
    "                \n",
    "            \n",
    "                if torch.max(mean * cc) == 0:\n",
    "                    # proportion of those lesions that are missing from mean covered by uncertainty\n",
    "                    proportion_missing_lesion_covered_ent[tau].append(torch.sum(uncert * cc) / size)\n",
    "\n",
    "                    # lesions entirely missed by both mean prediction and uncertainty map\n",
    "                    # i.e not a single voxel is identified as uncertain or mean, total silent failure.\n",
    "                    if torch.max(uncert * cc) == 0:\n",
    "                        num_entirely_missed_lesions[tau] += 1\n",
    "                        entirely_missed_lesions_size[tau].append(size)\n",
    "                "
   ]
  },
  {
   "cell_type": "markdown",
   "id": "65c69425-0a27-492c-964c-3fccc249968d",
   "metadata": {},
   "source": [
    "### coverage information"
   ]
  },
  {
   "cell_type": "code",
   "execution_count": 139,
   "id": "155c6473-1026-4cc7-b99f-667f8207f9b5",
   "metadata": {},
   "outputs": [],
   "source": [
    "# replace nans and convert to tensor\n",
    "for tau in c_thresholds:\n",
    "    missing_area_coverage[tau] = torch.Tensor([c.item() if not torch.isnan(c) else 0 for c in missing_area_coverage[tau]])"
   ]
  },
  {
   "cell_type": "code",
   "execution_count": 140,
   "id": "72850803-2f86-4d30-9aeb-b8503c994ff4",
   "metadata": {},
   "outputs": [
    {
     "name": "stdout",
     "output_type": "stream",
     "text": [
      "coverage of areas missed by mean as tau increases\n"
     ]
    },
    {
     "data": {
      "text/plain": [
       "[(0.05, tensor(0.7979)),\n",
       " (0.1, tensor(0.7446)),\n",
       " (0.2, tensor(0.6445)),\n",
       " (0.3, tensor(0.5547))]"
      ]
     },
     "execution_count": 140,
     "metadata": {},
     "output_type": "execute_result"
    }
   ],
   "source": [
    "print(\"coverage of areas missed by mean as tau increases\")\n",
    "[(tau, mac.mean()) for tau, mac in missing_area_coverage.items()]"
   ]
  },
  {
   "cell_type": "code",
   "execution_count": 141,
   "id": "3b90b393-3db3-450c-b19c-b5360f8085cf",
   "metadata": {},
   "outputs": [
    {
     "name": "stdout",
     "output_type": "stream",
     "text": [
      "mean size of entirely missed lesions\n"
     ]
    },
    {
     "data": {
      "text/plain": [
       "[(0.05, tensor(3.3118)),\n",
       " (0.1, tensor(3.1818)),\n",
       " (0.2, tensor(3.0060)),\n",
       " (0.3, tensor(3.0232))]"
      ]
     },
     "execution_count": 141,
     "metadata": {},
     "output_type": "execute_result"
    }
   ],
   "source": [
    "print(\"mean size of entirely missed lesions\")\n",
    "[(tau, torch.Tensor(eml).mean()) for tau, eml in entirely_missed_lesions_size.items()]"
   ]
  },
  {
   "cell_type": "code",
   "execution_count": 142,
   "id": "3464e5bb-e088-4301-89ce-c329001303b5",
   "metadata": {},
   "outputs": [
    {
     "name": "stdout",
     "output_type": "stream",
     "text": [
      "mean coverage of lesions entirely missed by the mean segmentation\n"
     ]
    },
    {
     "data": {
      "text/plain": [
       "[(0.05, tensor(0.8383)),\n",
       " (0.1, tensor(0.7450)),\n",
       " (0.2, tensor(0.5789)),\n",
       " (0.3, tensor(0.4412))]"
      ]
     },
     "execution_count": 142,
     "metadata": {},
     "output_type": "execute_result"
    }
   ],
   "source": [
    "print(\"mean coverage of lesions entirely missed by the mean segmentation\")\n",
    "[(tau, torch.Tensor(coverage).mean()) for tau, coverage in proportion_missing_lesion_covered_ent.items()]"
   ]
  },
  {
   "cell_type": "code",
   "execution_count": 143,
   "id": "3e6a5aad-bab5-457c-911c-70bc5864100c",
   "metadata": {},
   "outputs": [
    {
     "name": "stdout",
     "output_type": "stream",
     "text": [
      "total number of missing lesions\n",
      "[(0.05, 186), (0.1, 286), (0.2, 502), (0.3, 691)]\n",
      "proportion of lesions entirely missed\n",
      "[(0.05, 0.06535488404778636), (0.1, 0.10049191848208011), (0.2, 0.1763879128601546), (0.3, 0.24279690794096978)]\n"
     ]
    }
   ],
   "source": [
    "print(\"total number of missing lesions\")\n",
    "print([(tau, num) for tau, num in num_entirely_missed_lesions.items()])\n",
    "print(\"proportion of lesions entirely missed\")\n",
    "print([(tau, num/num_lesions) for tau, num in num_entirely_missed_lesions.items()])"
   ]
  },
  {
   "cell_type": "code",
   "execution_count": 144,
   "id": "f5c83871-6739-4b0f-bd11-25b68d96f508",
   "metadata": {},
   "outputs": [
    {
     "data": {
      "text/plain": [
       "True"
      ]
     },
     "execution_count": 144,
     "metadata": {},
     "output_type": "execute_result"
    }
   ],
   "source": [
    "num_lesions == len(sizes)"
   ]
  },
  {
   "cell_type": "markdown",
   "id": "38ba1471-d91d-460e-825e-146814475e47",
   "metadata": {},
   "source": [
    "### Domain Adaption"
   ]
  },
  {
   "cell_type": "code",
   "execution_count": 145,
   "id": "0bde8827-b6b6-46a0-9bc9-b6813a5e8a06",
   "metadata": {},
   "outputs": [],
   "source": [
    "domains_all = [wmh_dir + d for d in [\"Singapore\", \"Utrecht\", \"GE3T\"]\n",
    "          ]"
   ]
  },
  {
   "cell_type": "code",
   "execution_count": 146,
   "id": "7397b477-1bc2-4ee0-880d-c7792e892914",
   "metadata": {},
   "outputs": [],
   "source": [
    "# load datasets\n",
    "# this step is quite slow, all the data is being loaded into memory\n",
    "datasets_domains_all = [MRISegmentation3DDataset(root_dir, domain, transforms=None) for domain in domains_all]\n",
    "wmh_dataset = ConcatDataset(datasets_domains_all)"
   ]
  },
  {
   "cell_type": "code",
   "execution_count": 147,
   "id": "c8b471a9-48a7-400f-93eb-2bf9eea2c672",
   "metadata": {},
   "outputs": [],
   "source": [
    "# turn our xs, ys into our 3D data stuff and samples etc.\n",
    "xs3d = []\n",
    "ys3d = []\n",
    "for x, y in wmh_dataset:\n",
    "    xs3d.append(x)\n",
    "    ys3d.append(y.squeeze())"
   ]
  },
  {
   "cell_type": "code",
   "execution_count": 148,
   "id": "68bb2e5e-4864-4ec1-9457-37c84e93b31b",
   "metadata": {},
   "outputs": [
    {
     "data": {
      "text/plain": [
       "torch.Size([3, 48, 224, 160])"
      ]
     },
     "execution_count": 148,
     "metadata": {},
     "output_type": "execute_result"
    }
   ],
   "source": [
    "xs3d[0].shape"
   ]
  },
  {
   "cell_type": "code",
   "execution_count": null,
   "id": "065472c9-0160-4feb-a8bc-4b8fe701a87f",
   "metadata": {},
   "outputs": [
    {
     "name": "stderr",
     "output_type": "stream",
     "text": [
      "100%|█████████████████████████████████████████████████████████████████████████████████████████████████████████████████| 60/60 [00:08<00:00,  6.85it/s]\n",
      "100%|█████████████████████████████████████████████████████████████████████████████████████████████████████████████████| 60/60 [00:07<00:00,  7.68it/s]\n",
      "100%|█████████████████████████████████████████████████████████████████████████████████████████████████████████████████| 60/60 [00:07<00:00,  7.63it/s]\n",
      "100%|█████████████████████████████████████████████████████████████████████████████████████████████████████████████████| 60/60 [00:08<00:00,  7.13it/s]\n",
      "100%|█████████████████████████████████████████████████████████████████████████████████████████████████████████████████| 60/60 [00:08<00:00,  7.15it/s]\n",
      "100%|█████████████████████████████████████████████████████████████████████████████████████████████████████████████████| 60/60 [00:08<00:00,  7.17it/s]\n",
      "100%|█████████████████████████████████████████████████████████████████████████████████████████████████████████████████| 60/60 [00:08<00:00,  7.15it/s]\n",
      "100%|█████████████████████████████████████████████████████████████████████████████████████████████████████████████████| 60/60 [00:08<00:00,  7.15it/s]\n",
      "100%|█████████████████████████████████████████████████████████████████████████████████████████████████████████████████| 60/60 [00:08<00:00,  7.14it/s]\n",
      "100%|█████████████████████████████████████████████████████████████████████████████████████████████████████████████████| 60/60 [00:08<00:00,  7.16it/s]\n"
     ]
    }
   ],
   "source": [
    "samples3d, means3d = gen_samples(xs3d, ys3d)"
   ]
  },
  {
   "cell_type": "code",
   "execution_count": null,
   "id": "01406449-12a1-469e-90d5-d32624e9c0bf",
   "metadata": {},
   "outputs": [],
   "source": [
    "#means3d = [torch.mean(samples3d[i], dim=0) for i in range(len(samples3d))]\n",
    "means3d = [torch.mean(m, dim=0) for m in means3d]"
   ]
  },
  {
   "cell_type": "code",
   "execution_count": null,
   "id": "07749e3f-ef75-4e59-86eb-6abb0eecbac5",
   "metadata": {},
   "outputs": [],
   "source": [
    "len(samples3d), len(means3d)"
   ]
  },
  {
   "cell_type": "markdown",
   "id": "44123d5e-4d24-4dc5-8b5d-f1e5172f3ead",
   "metadata": {},
   "source": [
    "### fixed compute section"
   ]
  },
  {
   "cell_type": "markdown",
   "id": "2aa2218e-6d52-4b1f-8e1d-78e62203817d",
   "metadata": {},
   "source": [
    "### Generating uncertainty maps for a batch\n"
   ]
  },
  {
   "cell_type": "markdown",
   "id": "490af678-6ef9-4a89-819b-8c049d5b1d83",
   "metadata": {},
   "source": [
    "### How do average dice and best dice improve with samples"
   ]
  },
  {
   "cell_type": "code",
   "execution_count": null,
   "id": "ac4c8f5f-d371-47e6-bef2-007715dc466f",
   "metadata": {},
   "outputs": [],
   "source": [
    "avds_mean = []\n",
    "for ind in range(len(ys3d)):\n",
    "    mu = means3d[ind]\n",
    "    target = ys3d[ind]\n",
    "    avds_mean.append(AVD(mu, target))"
   ]
  },
  {
   "cell_type": "code",
   "execution_count": null,
   "id": "de8d5ba1-8a0f-4501-b17a-aa96c84fc04b",
   "metadata": {},
   "outputs": [],
   "source": [
    "print(\"mean absolute volume difference, percent\")\n",
    "torch.Tensor(avds_mean).mean()"
   ]
  },
  {
   "cell_type": "code",
   "execution_count": null,
   "id": "02c8a5c9-fe3b-4de0-9a4c-96d1d59918c6",
   "metadata": {},
   "outputs": [],
   "source": [
    "# compute dice for the mean produced by the model\n",
    "dices_mean = []\n",
    "for ind in range(len(ys3d)):\n",
    "    mu = means3d[ind]\n",
    "    target = ys3d[ind]\n",
    "    dices_mean.append(dice(mu, target))"
   ]
  },
  {
   "cell_type": "code",
   "execution_count": null,
   "id": "69029d23-3a61-4095-9f56-03f90a01f7ee",
   "metadata": {},
   "outputs": [],
   "source": [
    "print(\"mean dice\")\n",
    "dices_mean = torch.Tensor(dices_mean)\n",
    "print(dices_mean.mean())"
   ]
  },
  {
   "cell_type": "code",
   "execution_count": null,
   "id": "b22a355d-28e7-44dd-8242-2c9bf9c69f3d",
   "metadata": {},
   "outputs": [],
   "source": [
    "# compute the dice per sample, per individual\n",
    "dices3d = []\n",
    "for ind in tqdm(range(len(samples3d)), position=0, leave=True, ncols=150):\n",
    "    sample_dices = []\n",
    "    for s in range(len(samples3d[ind])):\n",
    "        y_hat = samples3d[ind][s]\n",
    "        y = ys3d[ind]\n",
    "        sample_dices.append(dice(y_hat, y))\n",
    "    dices3d.append(sample_dices)"
   ]
  },
  {
   "cell_type": "code",
   "execution_count": null,
   "id": "8604e969-37fe-49c3-bc41-e89166c85b29",
   "metadata": {},
   "outputs": [],
   "source": [
    "tensor_alldice3d = torch.stack([torch.Tensor(ds) for ds in dices3d], dim=0).swapaxes(0,1)"
   ]
  },
  {
   "cell_type": "code",
   "execution_count": null,
   "id": "1451c92d-2e28-4a28-8d9a-5a11950ecbb5",
   "metadata": {},
   "outputs": [],
   "source": [
    "# best dice mean. This is a little dissapointing.\n",
    "tensor_alldice3d.max(dim=0)[0].mean()"
   ]
  },
  {
   "cell_type": "code",
   "execution_count": null,
   "id": "a765d0e8-bcd4-4bec-bd91-5792e6a7bb07",
   "metadata": {},
   "outputs": [],
   "source": [
    "# sort in order of quality\n",
    "order = torch.sort(torch.median(tensor_alldice3d, dim=0)[0])[1]\n",
    "plt.figure(figsize=(20, 5))\n",
    "plt.boxplot(tensor_alldice3d.T[order]);\n",
    "plt.ylim(0, 1);\n",
    "plt.tick_params(\n",
    "    axis='x',          # changes apply to the x-axis\n",
    "    which='both',      # both major and minor ticks are affected\n",
    "    bottom=False,      # ticks along the bottom edge are off\n",
    "    top=False,         # ticks along the top edge are off\n",
    "    labelbottom=False) # labels along the bottom edge are off\n",
    "plt.ylabel(\"Dice\")\n",
    "plt.xlabel(\"Individuals\")\n",
    "#save(\"sample_diversity\")"
   ]
  },
  {
   "cell_type": "markdown",
   "id": "647a3619-63da-47f9-bbf5-427b867473b6",
   "metadata": {},
   "source": [
    "### Calibration"
   ]
  },
  {
   "cell_type": "code",
   "execution_count": null,
   "id": "a8a37f97-3e9a-4109-8766-19c8b6aeb70d",
   "metadata": {},
   "outputs": [],
   "source": [
    "# assess bin counts of p y = 1\n",
    "bins = 10 + 1 # for the 0 bin\n",
    "bin_batch_accuracies = [[] for b in range(bins)]\n",
    "bin_batch_confidences = [[] for b in range(bins)]\n",
    "bin_batch_sizes = [[] for b in range(bins)]\n",
    "bin_counts = [0 for b in range(bins)]\n",
    "for batch_idx in tqdm(range(len(ys3d)), ncols=150, position=0, leave=True): # skip the last batch with a different shape\n",
    "    batch_t = ys3d[batch_idx].squeeze()\n",
    "    batch_samples = samples3d[batch_idx]\n",
    "    \n",
    "    if batch_t.shape[0] < 10:\n",
    "        continue # skip last batch if it is very small.\n",
    "    \n",
    "    # get probabilities\n",
    "    probs = torch.nn.functional.softmax(batch_samples, dim=2)\n",
    "    p1s = probs[:,:,1]\n",
    "    \n",
    "    # split into bins\n",
    "    bin_ids = place_in_bin(p1s)\n",
    "    \n",
    "    # compute counts\n",
    "    for i in range(bins):\n",
    "        is_in_bin = (bin_ids == (i / 10))\n",
    "        # print(is_in_bin.shape)\n",
    "        # print(batch_t.shape)\n",
    "        \n",
    "        # number of elements in each bin\n",
    "        num_elem = torch.sum(is_in_bin).item()\n",
    "        if num_elem == 0:\n",
    "            print(\"zero\")\n",
    "        \n",
    "        # number of predictions = to class 1\n",
    "        c1_acc = batch_t.expand(p1s.shape)[is_in_bin].sum() / num_elem\n",
    "        \n",
    "        if torch.isnan(c1_acc):\n",
    "            print(\"acc_nan\")\n",
    "        \n",
    "        # average confidence of values in that bin\n",
    "        c1_conf = p1s[is_in_bin].mean()\n",
    "        \n",
    "        if torch.isnan(c1_conf):\n",
    "            print(\"conf_nan\")\n",
    "        \n",
    "        bin_batch_accuracies[i].append(c1_acc)\n",
    "        bin_batch_confidences[i].append(c1_conf)\n",
    "        bin_batch_sizes[i].append(num_elem)"
   ]
  },
  {
   "cell_type": "code",
   "execution_count": null,
   "id": "d2cb3439-8625-4d8b-8bdd-99c4a3ff1a8c",
   "metadata": {},
   "outputs": [],
   "source": [
    "bin_sizes = [torch.Tensor(bbs).sum() for bbs in bin_batch_sizes]\n",
    "bin_accuracies = [torch.Tensor([bin_batch_accuracies[i][j] * bin_batch_sizes[i][j] / bin_sizes[i] for j in range(len(bin_batch_accuracies[i]))]).sum().item() for i in range(len(bin_sizes))]\n",
    "bin_confidences = [torch.Tensor([bin_batch_confidences[i][j] * bin_batch_sizes[i][j] / bin_sizes[i] for j in range(len(bin_batch_confidences[i]))]).sum().item() for i in range(len(bin_sizes))]\n"
   ]
  },
  {
   "cell_type": "code",
   "execution_count": null,
   "id": "52903518-3d20-4808-b915-f49e3f5381c6",
   "metadata": {},
   "outputs": [],
   "source": [
    "bin_accuracies"
   ]
  },
  {
   "cell_type": "code",
   "execution_count": null,
   "id": "dddd9b06-68e1-4756-b70b-7a9ac530f72b",
   "metadata": {},
   "outputs": [],
   "source": [
    "bin_confidences"
   ]
  },
  {
   "cell_type": "code",
   "execution_count": null,
   "id": "c9592844-2da8-42f8-9e60-c47876b18e0f",
   "metadata": {},
   "outputs": [],
   "source": [
    "total_size = torch.sum(torch.Tensor(bin_sizes)[1:])\n",
    "ece = torch.sum( (torch.Tensor(bin_sizes)[1:]/ total_size) * (torch.abs(torch.Tensor(bin_accuracies)[1:] - torch.Tensor(bin_confidences)[1:])))\n",
    "print(\"EXPECTED CALIBRATION ERROR: note we skip the first bin due to its size\", ece)"
   ]
  },
  {
   "cell_type": "code",
   "execution_count": null,
   "id": "1c9e9c69-60dd-43d4-8594-6a2440c84b03",
   "metadata": {},
   "outputs": [],
   "source": [
    "\"\"\"\n",
    "looking at just the class one calibration is useful due to the extreme lack of class 1 in the image, this gives us a better idea of how the model is doing\n",
    "and when optimizing calibration I should be optimizing this.\n",
    "\"\"\""
   ]
  },
  {
   "cell_type": "code",
   "execution_count": null,
   "id": "1553f76f-d0e6-45d9-9cee-e3fbb70188d9",
   "metadata": {},
   "outputs": [],
   "source": [
    "plt.plot(bin_confidences, bin_accuracies)\n",
    "plt.plot([0,1],[0,1]);\n",
    "plt.xlabel(\"Confidence\")\n",
    "plt.ylabel(\"Accuracy\");\n",
    "#save(\"calibration\")"
   ]
  },
  {
   "cell_type": "markdown",
   "id": "1eb0cc39-2283-484d-9f80-ab2d559a0d88",
   "metadata": {},
   "source": [
    "### Sample Diversity and Generalized Energy Distance\n"
   ]
  },
  {
   "cell_type": "code",
   "execution_count": null,
   "id": "fde62e74-aa70-4bde-afc7-d51a3e2e5c06",
   "metadata": {},
   "outputs": [],
   "source": [
    "per_ind_diversities = []\n",
    "for s in tqdm(samples3d[::2], position=0, leave=True):\n",
    "    per_ind_diversities.append(sample_diversity(s))"
   ]
  },
  {
   "cell_type": "code",
   "execution_count": null,
   "id": "4e597a63-6b27-4c6c-8e2a-1a4327666a5c",
   "metadata": {},
   "outputs": [],
   "source": [
    "overall_sample_diversity = torch.Tensor(per_ind_diversities).mean()\n",
    "overall_sample_diversity"
   ]
  },
  {
   "cell_type": "code",
   "execution_count": null,
   "id": "ef245deb-0f11-4002-a673-26ede508ceb9",
   "metadata": {},
   "outputs": [],
   "source": [
    "def sample_to_target_distance(samples, target):\n",
    "    samples = samples.argmax(dim=2)\n",
    "    target = target.unsqueeze(0).expand(samples.shape)\n",
    "    ns = samples.shape[0]\n",
    "    ind_distance = all_samples_IOU(samples.view(ns, -1),target.view(ns, -1))\n",
    "    return ind_distance"
   ]
  },
  {
   "cell_type": "code",
   "execution_count": null,
   "id": "e5c9234e-ba20-4a78-a2aa-70eaa4e0d63a",
   "metadata": {},
   "outputs": [],
   "source": [
    "all_imgs_stot_distance = []\n",
    "for i in tqdm(range(len(ys3d)), position=0, leave=True):\n",
    "    all_imgs_stot_distance.append(sample_to_target_distance(samples3d[i], ys3d[i]))"
   ]
  },
  {
   "cell_type": "code",
   "execution_count": null,
   "id": "fc06df19-2457-4c92-9ab3-83cd008e1635",
   "metadata": {},
   "outputs": [],
   "source": [
    "print(\"generalized energy distance\")\n",
    "2 * torch.Tensor(all_imgs_stot_distance).mean() - overall_sample_diversity"
   ]
  },
  {
   "cell_type": "markdown",
   "id": "6172412a-a443-4d9e-a8cc-e5da4802a53f",
   "metadata": {},
   "source": [
    "### Compute the PavPU metrics cause I'm not convinced my previous code in original ssn notebook was incorrect."
   ]
  },
  {
   "cell_type": "code",
   "execution_count": null,
   "id": "baf45f32-4b4e-4e57-b434-eaf2b4a2a374",
   "metadata": {},
   "outputs": [],
   "source": [
    "# I am going to do it per patch, but take the average accuracy per patch (perhaps I should qc average dice as well, best dice, worst dice.\n",
    "uncetainty_thresholds = torch.arange(0, 0.7, 0.01)\n",
    "accuracy_threshold = 0.9\n",
    "window = 16\n",
    "stride = 16\n",
    "n_acs = [[] for i in range(len(uncetainty_thresholds))]\n",
    "n_aus = [[] for i in range(len(uncetainty_thresholds))]\n",
    "n_ics = [[] for i in range(len(uncetainty_thresholds))]\n",
    "n_ius = [[] for i in range(len(uncetainty_thresholds))]\n",
    "\n",
    "for batch_idx in tqdm(range(len(ys3d)), ncols=150, position=0, leave=True): # skip the last batch with a different shape\n",
    "    batch_t = ys3d[batch_idx].squeeze()\n",
    "    batch_samples = samples3d[batch_idx]\n",
    "    batch_mean = means3d[batch_idx]\n",
    "    ent = entropy_map_from_samples(batch_samples)\n",
    "    \n",
    "    # get probabilities\n",
    "    probs = torch.nn.functional.softmax(batch_samples, dim=2)\n",
    "    pred_classes = probs.argmax(dim=2)\n",
    "    confidences = probs.max(dim=2)[0]\n",
    "    \n",
    "    # get average accuracy of each sample using the mean\n",
    "    # or I could treat each patch of each sample as a separate thing but that is not what I am doing here.\n",
    "    #avg_accuracy = ((batch_t.expand(pred_classes.shape) == pred_classes) * 1.).mean(dim=0)\n",
    "    accuracy = batch_t == batch_mean.argmax(dim=1)\n",
    "    \n",
    "    # unroll predictions and targets and entropy\n",
    "    t_unrolled = batch_t.unfold(-2, window, stride).unfold(-1, window, stride).reshape(-1, window, window)\n",
    "    #accuracy_unrolled = avg_accuracy.unfold(-2, window, stride).unfold(-1, window, stride).reshape(-1, window, window)\n",
    "    accuracy_unrolled = accuracy.unfold(-2, window, stride).unfold(-1, window, stride).reshape(-1, window, window)\n",
    "    ent_unrolled = ent.unfold(-2, window, stride).unfold(-1, window, stride).reshape(-1, window, window)\n",
    "    \n",
    "    #accurate_patches = accuracy_unrolled > 0.9\n",
    "    accurate_patches = accuracy_unrolled.type(torch.float32).mean(dim=(1,2)) > 0.9\n",
    "    # print(accurate_patches.shape)\n",
    "    \n",
    "    # try applying around patches that have lesion burden.\n",
    "    has_lesion = t_unrolled.mean(dim=(1,2)) > 0.\n",
    "    \n",
    "    # for each uncertainty threshold, compute the 4 numbers\n",
    "    for i, uncert_t in enumerate(uncetainty_thresholds):\n",
    "        #uncertain_patches = ent_unrolled > uncert_t\n",
    "        uncertain_patches = ent_unrolled.mean(dim=(1,2)) > uncert_t\n",
    "        # print(uncertain_patches.shape)\n",
    "        \n",
    "        n_acs[i].append(torch.sum(torch.logical_and(has_lesion, torch.logical_and(accurate_patches, ~uncertain_patches))))\n",
    "        n_aus[i].append(torch.sum(torch.logical_and(has_lesion, torch.logical_and(accurate_patches, uncertain_patches))))\n",
    "        n_ics[i].append(torch.sum(torch.logical_and(has_lesion, torch.logical_and(~accurate_patches, ~uncertain_patches))))\n",
    "        n_ius[i].append(torch.sum(torch.logical_and(has_lesion, torch.logical_and(~accurate_patches, uncertain_patches))))\n",
    "        "
   ]
  },
  {
   "cell_type": "code",
   "execution_count": null,
   "id": "3cfb9315-ded5-4ea1-951a-f4d38f427bc8",
   "metadata": {},
   "outputs": [],
   "source": [
    "n_acs_t = [torch.Tensor(n_acs[i]).sum() for i in range(len(uncetainty_thresholds))]\n",
    "n_aus_t = [torch.Tensor(n_aus[i]).sum() for i in range(len(uncetainty_thresholds))]\n",
    "n_ics_t = [torch.Tensor(n_ics[i]).sum() for i in range(len(uncetainty_thresholds))]\n",
    "n_ius_t = [torch.Tensor(n_ius[i]).sum() for i in range(len(uncetainty_thresholds))]"
   ]
  },
  {
   "cell_type": "code",
   "execution_count": null,
   "id": "8670a4d3-bf69-4fc5-be1c-88b17f731105",
   "metadata": {},
   "outputs": [],
   "source": [
    "p_acs = [n_acs_t[i] / (n_acs_t[i] + n_ics_t[i]) for i in range(len(uncetainty_thresholds))]\n",
    "p_aus = [n_ius_t[i] / (n_ius_t[i] + n_ics_t[i]) for i in range(len(uncetainty_thresholds))]\n",
    "pavpu = [(n_acs_t[i] + n_ius_t[i]) / (n_ius_t[i] + n_ics_t[i] + n_aus_t[i] + n_acs_t[i]) for i in range(len(uncetainty_thresholds))]"
   ]
  },
  {
   "cell_type": "code",
   "execution_count": null,
   "id": "da07f92b-3a3f-4b6d-b396-7cec765de8d8",
   "metadata": {},
   "outputs": [],
   "source": [
    "plt.figure(figsize=(13,3))\n",
    "plt.subplot(1,3,1)\n",
    "plt.plot(uncetainty_thresholds, p_acs, c='g')\n",
    "plt.xlim((-0.01,0.7)); plt.ylim((-0.05,1.05))\n",
    "plt.xlabel(\"τ\")\n",
    "plt.ylabel(\"p(acc|cert)\")\n",
    "plt.subplot(1,3,2)\n",
    "plt.plot(uncetainty_thresholds, p_aus, c='g')\n",
    "plt.xlim((-0.01,0.7)); plt.ylim((-0.05,1.05))\n",
    "plt.ylabel(\"p(uncert|inacc)\")\n",
    "plt.xlabel(\"τ\")\n",
    "plt.subplot(1,3,3)\n",
    "plt.plot(uncetainty_thresholds, pavpu, c='g')\n",
    "plt.xlim((-0.01,0.7)); plt.ylim((-0.05,1.05))\n",
    "plt.ylabel(\"PAVPU\")\n",
    "plt.xlabel(\"τ\")\n",
    "#save(\"pavpu\")"
   ]
  },
  {
   "cell_type": "code",
   "execution_count": null,
   "id": "8ce444dc-ce16-4083-b9e1-57be44388f62",
   "metadata": {},
   "outputs": [],
   "source": [
    "print(\"these metrics show the tradeoffs depending on what we want to capture, if tau is too low, then we have too many false positives\")"
   ]
  },
  {
   "cell_type": "code",
   "execution_count": null,
   "id": "c29329d9-a8f7-40c3-bbb8-405f57fc88ca",
   "metadata": {},
   "outputs": [],
   "source": [
    "#uncetainty_thresholds"
   ]
  },
  {
   "cell_type": "code",
   "execution_count": null,
   "id": "ab3f4375-02b9-4345-9f31-3e458cc740c2",
   "metadata": {},
   "outputs": [],
   "source": [
    "i=10\n",
    "uncetainty_thresholds[i], p_acs[i], p_aus[i], pavpu[i]"
   ]
  },
  {
   "cell_type": "code",
   "execution_count": null,
   "id": "21b78b9a-103e-49fb-befc-cea6857c2aaf",
   "metadata": {},
   "outputs": [],
   "source": [
    "#ent_thresh = uncetainty_thresholds[i]"
   ]
  },
  {
   "cell_type": "code",
   "execution_count": null,
   "id": "37d49e5d-1c99-4133-b894-fe97b6c0b20d",
   "metadata": {},
   "outputs": [],
   "source": [
    "ent_thresh = 0.05"
   ]
  },
  {
   "cell_type": "markdown",
   "id": "c86cb41b-c273-4f12-ab15-695d8685465b",
   "metadata": {},
   "source": [
    "### Quality Control in 3D - vcc corr-coeff"
   ]
  },
  {
   "cell_type": "code",
   "execution_count": null,
   "id": "6cc5e18d-6359-4de5-b399-55431a73db91",
   "metadata": {},
   "outputs": [],
   "source": [
    "# generate entropy maps per individual\n",
    "ind_ent_maps = [entropy_map_from_samples(samples3d[i]) for i in range(len(ys3d))]"
   ]
  },
  {
   "cell_type": "code",
   "execution_count": null,
   "id": "f4ca319e-7f28-4689-b7d0-a80124bf41c0",
   "metadata": {},
   "outputs": [],
   "source": [
    "vvcs = [VVC(samples3d[i]) for i in range(len(ys3d))]"
   ]
  },
  {
   "cell_type": "code",
   "execution_count": null,
   "id": "192771fb-5244-4bf6-8cf5-e3eccdaeb1d0",
   "metadata": {},
   "outputs": [],
   "source": [
    "#vvcs_ent = [VVC(ind_ent_maps[i]) for i in range(len(ys3d))]"
   ]
  },
  {
   "cell_type": "code",
   "execution_count": null,
   "id": "7f5c4034-db08-4570-a311-6c229f926346",
   "metadata": {},
   "outputs": [],
   "source": [
    "medians = torch.median(tensor_alldice3d, dim=0)[0]"
   ]
  },
  {
   "cell_type": "code",
   "execution_count": null,
   "id": "00032452-d892-4b41-ad8e-8e60776272d6",
   "metadata": {},
   "outputs": [],
   "source": [
    "print(\"correlation coefficient: \", torch.corrcoef(torch.stack([torch.Tensor(vvcs), medians]))[0][1])"
   ]
  },
  {
   "cell_type": "code",
   "execution_count": null,
   "id": "c284bdc4-5a29-444f-8e09-69aee6db8638",
   "metadata": {},
   "outputs": [],
   "source": [
    "#plt.scatter(vvcs, medians)"
   ]
  },
  {
   "cell_type": "markdown",
   "id": "b7aff845-19f2-412d-add3-8d96d09bac80",
   "metadata": {},
   "source": [
    "### TP FP TN FN distribution"
   ]
  },
  {
   "cell_type": "code",
   "execution_count": null,
   "id": "6bfac801-d079-4ace-aeb9-f0d1a6b0d30c",
   "metadata": {},
   "outputs": [],
   "source": [
    "all_tps = []\n",
    "#all_tns = []\n",
    "all_fps = []\n",
    "all_fns = []\n",
    "\n",
    "with torch.no_grad():\n",
    "    for i in tqdm(range(len(ys3d)), position=0, leave=True, ncols=150):\n",
    "        samples = samples3d[i]\n",
    "        mean = means3d[i]\n",
    "        ent = ind_ent_maps[i].view(-1)\n",
    "        mean_class = mean.argmax(dim=1).view(-1)\n",
    "        y = ys3d[i]\n",
    "        x = xs3d[i].swapaxes(0,1)\n",
    "        y_flat = y.view(-1)\n",
    "        \n",
    "        tp_loc = torch.where(torch.logical_and(y_flat == 1, mean_class == 1))[0]\n",
    "        #tn_loc = torch.where(torch.logical_and(torch.logical_and(y_flat == 0, mean_class == 0), x[:,1].reshape(-1) == 1))[0]\n",
    "        fp_loc = torch.where(torch.logical_and(y_flat == 0, mean_class == 1))[0]\n",
    "        fn_loc = torch.where(torch.logical_and(torch.logical_and(y_flat == 1, mean_class == 0), x[:,1].reshape(-1) == 1))[0]\n",
    "        # print(tp_loc.shape)\n",
    "        # print(ent.view(-1).shape)\n",
    "        \n",
    "        all_tps.append(ent[tp_loc])\n",
    "        #all_tns.append(ent[tn_loc])\n",
    "        all_fps.append(ent[fp_loc])\n",
    "        all_fns.append(ent[fn_loc])"
   ]
  },
  {
   "cell_type": "code",
   "execution_count": null,
   "id": "f0e429aa-6d3b-43af-be8e-79113cbdd027",
   "metadata": {},
   "outputs": [],
   "source": [
    "tps = torch.cat(all_tps)\n",
    "#tns = torch.cat(all_tns)\n",
    "fps = torch.cat(all_fps)\n",
    "fns = torch.cat(all_fns)"
   ]
  },
  {
   "cell_type": "code",
   "execution_count": null,
   "id": "33e18506-1b33-4bfe-94bd-25d4ca977afd",
   "metadata": {},
   "outputs": [],
   "source": [
    "tps.shape, fps.shape, fns.shape"
   ]
  },
  {
   "cell_type": "code",
   "execution_count": null,
   "id": "efc38426-4ed3-4b8e-ab90-2c6133ea98a0",
   "metadata": {},
   "outputs": [],
   "source": [
    "tps.mean(), fps.mean(), fns.mean()"
   ]
  },
  {
   "cell_type": "code",
   "execution_count": null,
   "id": "5f69f9af-f704-402d-8bdf-8a900d88c9a7",
   "metadata": {},
   "outputs": [],
   "source": [
    "import seaborn as sns"
   ]
  },
  {
   "cell_type": "code",
   "execution_count": null,
   "id": "d31c504a-79a1-4402-b7e0-0c9295d94f74",
   "metadata": {},
   "outputs": [],
   "source": [
    "j = -1\n",
    "ntps = len(tps)\n",
    "nfns = len(fns)\n",
    "nfps = len(fps)\n",
    "data = {\"label\":[\"TP\" for _ in range(ntps)][0:j] + [\"FN\" for _ in range(nfns)][0:j] + [\"FP\" for _ in range(nfps)][0:j], \"ent\": torch.cat([tps[0:j], fns[0:j], fps[0:j]]).numpy()}"
   ]
  },
  {
   "cell_type": "code",
   "execution_count": null,
   "id": "50ba6482-bca1-4dd5-8ef9-a8e5e77aa054",
   "metadata": {},
   "outputs": [],
   "source": [
    "plt.figure(figsize=(4, 2.5))\n",
    "sns.violinplot(x=\"label\", y=\"ent\", data=data, linewidth=0.5, inner=None)\n",
    "plt.ylabel(\"$H$\")\n",
    "#save(\"types_violin\")"
   ]
  },
  {
   "cell_type": "markdown",
   "id": "7830f504-4557-4566-aec3-ba242876c277",
   "metadata": {},
   "source": [
    "### Missing lesions in 2D slices"
   ]
  },
  {
   "cell_type": "code",
   "execution_count": null,
   "id": "e2a4f428-1401-4bd5-bac5-9472c48f403a",
   "metadata": {},
   "outputs": [],
   "source": [
    "conncomp_outs = []\n",
    "\n",
    "for y in tqdm(ys3d, position=0, leave=True, ncols=150):\n",
    "    labels_out = K.contrib.connected_components(y.unsqueeze(1).type(torch.float32), num_iterations=150)\n",
    "    conncomp_outs.append(labels_out)"
   ]
  },
  {
   "cell_type": "code",
   "execution_count": null,
   "id": "73a9993f-1c30-4aa2-8241-17ffad3b972e",
   "metadata": {},
   "outputs": [],
   "source": [
    "# this is the 1 pixel is covered by the entropy\n",
    "c_thresholds = [0.05, 0.1, 0.2, 0.3]\n",
    "coverages = [0.1, 0.5, 0.9]\n",
    "missing_lesion_size_ent = []\n",
    "existing_lesion_size_ent = []\n",
    "\n",
    "missing_lesion_size_mean = []\n",
    "\n",
    "num_entirely_missed_lesions = {ct:0 for ct in c_thresholds}\n",
    "entirely_missed_lesions_size = {ct:[] for ct in c_thresholds}\n",
    "proportion_missing_lesion_covered_ent = {ct:[] for ct in c_thresholds}\n",
    "num_lesions = 0\n",
    "sizes = []\n",
    "missing_area_sizes = []\n",
    "missing_area_coverage = {ct:[] for ct in c_thresholds}\n",
    "for batch in tqdm(range(len(ys3d)), position=0, leave=True, ncols=150):\n",
    "    for i in range(0, ys3d[batch].shape[0], 3):\n",
    "        conncomps = conncomp_outs[batch][i]\n",
    "        ent = ind_ent_maps[batch][i]\n",
    "        mean = means3d[batch].argmax(dim=1)[i]\n",
    "        \n",
    "        ids = conncomps.unique()[1:]\n",
    "        for idx in ids:\n",
    "            cc = (conncomps == idx)\n",
    "            num_lesions += 1\n",
    "            size = torch.sum(cc)\n",
    "            sizes.append(size)\n",
    "            \n",
    "            missing_area = (mean == 0) & cc\n",
    "            ma_size = missing_area.sum()\n",
    "            missing_area_sizes.append(ma_size)\n",
    "            \n",
    "            # get uncertain pixels for each threshold\n",
    "            for tau in c_thresholds:\n",
    "                uncert = (ent > tau).type(torch.long)\n",
    "                \n",
    "                # coverage proportion\n",
    "                coverage = (uncert * missing_area).sum() / ma_size\n",
    "                missing_area_coverage[tau].append(coverage)\n",
    "                \n",
    "            \n",
    "                if torch.max(mean * cc) == 0:\n",
    "                    # proportion of those lesions that are missing from mean covered by uncertainty\n",
    "                    proportion_missing_lesion_covered_ent[tau].append(torch.sum(uncert * cc) / size)\n",
    "\n",
    "                    # lesions entirely missed by both mean prediction and uncertainty map\n",
    "                    # i.e not a single voxel is identified as uncertain or mean, total silent failure.\n",
    "                    if torch.max(uncert * cc) == 0:\n",
    "                        num_entirely_missed_lesions[tau] += 1\n",
    "                        entirely_missed_lesions_size[tau].append(size)\n",
    "                "
   ]
  },
  {
   "cell_type": "markdown",
   "id": "7089d79d-6ee4-41dc-b275-0ad1ed124d44",
   "metadata": {},
   "source": [
    "### coverage information"
   ]
  },
  {
   "cell_type": "code",
   "execution_count": null,
   "id": "284c3fa5-25f9-4783-a7c6-ecc562a85709",
   "metadata": {},
   "outputs": [],
   "source": [
    "# replace nans and convert to tensor\n",
    "for tau in c_thresholds:\n",
    "    missing_area_coverage[tau] = torch.Tensor([c.item() if not torch.isnan(c) else 0 for c in missing_area_coverage[tau]])"
   ]
  },
  {
   "cell_type": "code",
   "execution_count": null,
   "id": "fbc80753-7a74-41bf-a42f-747c5b47e7cb",
   "metadata": {},
   "outputs": [],
   "source": [
    "print(\"coverage of areas missed by mean as tau increases\")\n",
    "[(tau, mac.mean()) for tau, mac in missing_area_coverage.items()]"
   ]
  },
  {
   "cell_type": "code",
   "execution_count": null,
   "id": "f2a8c74e-9e7e-40d1-a460-1e103bc19192",
   "metadata": {},
   "outputs": [],
   "source": [
    "print(\"mean size of entirely missed lesions\")\n",
    "[(tau, torch.Tensor(eml).mean()) for tau, eml in entirely_missed_lesions_size.items()]"
   ]
  },
  {
   "cell_type": "code",
   "execution_count": null,
   "id": "a3628c29-2d29-48be-82e7-49304c89976f",
   "metadata": {},
   "outputs": [],
   "source": [
    "print(\"mean coverage of lesions entirely missed by the mean segmentation\")\n",
    "[(tau, torch.Tensor(coverage).mean()) for tau, coverage in proportion_missing_lesion_covered_ent.items()]"
   ]
  },
  {
   "cell_type": "code",
   "execution_count": null,
   "id": "c7ec004a-4ce6-43ac-97c1-b80fa5e0a198",
   "metadata": {},
   "outputs": [],
   "source": [
    "print(\"total number of missing lesions\")\n",
    "[(tau, num) for tau, num in num_entirely_missed_lesions.items()]\n",
    "print(\"proportion of lesions entirely missed\")\n",
    "[(tau, num/num_lesions) for tau, num in num_entirely_missed_lesions.items()]"
   ]
  },
  {
   "cell_type": "code",
   "execution_count": null,
   "id": "d19c6411-dfeb-4b4e-8d1a-b729b9b149e6",
   "metadata": {},
   "outputs": [],
   "source": [
    "num_lesions == len(sizes)"
   ]
  },
  {
   "cell_type": "code",
   "execution_count": null,
   "id": "45208407-5129-4746-92c5-a271cb5ed7a9",
   "metadata": {},
   "outputs": [],
   "source": []
  },
  {
   "cell_type": "code",
   "execution_count": null,
   "id": "56f91104-a0ac-4ecb-a3a3-37ad4aed4e45",
   "metadata": {},
   "outputs": [],
   "source": []
  },
  {
   "cell_type": "code",
   "execution_count": null,
   "id": "c37e2a7c-72bd-463b-8e36-ecbca77f69bc",
   "metadata": {},
   "outputs": [],
   "source": []
  },
  {
   "cell_type": "code",
   "execution_count": null,
   "id": "830ae21f-5742-4328-a418-688da71d2c7b",
   "metadata": {},
   "outputs": [],
   "source": []
  },
  {
   "cell_type": "code",
   "execution_count": null,
   "id": "f569dc1a-62ea-431d-98b3-f05c85dcef85",
   "metadata": {},
   "outputs": [],
   "source": []
  },
  {
   "cell_type": "code",
   "execution_count": null,
   "id": "5a243d6d-0385-4149-9f93-6c6a20986699",
   "metadata": {},
   "outputs": [],
   "source": []
  },
  {
   "cell_type": "code",
   "execution_count": null,
   "id": "7f072ddd-dd2f-4b36-8fbc-b6833cfe0ce4",
   "metadata": {},
   "outputs": [],
   "source": []
  },
  {
   "cell_type": "code",
   "execution_count": null,
   "id": "fdc1e8c6-c92e-4447-98aa-5b8efde1b892",
   "metadata": {},
   "outputs": [],
   "source": []
  },
  {
   "cell_type": "code",
   "execution_count": null,
   "id": "4461cecd-5244-4030-941f-1d2a7042b0bf",
   "metadata": {},
   "outputs": [],
   "source": []
  },
  {
   "cell_type": "code",
   "execution_count": null,
   "id": "2a0cf453-50e9-416a-8af6-a36b617d7004",
   "metadata": {},
   "outputs": [],
   "source": [
    "\n"
   ]
  },
  {
   "cell_type": "code",
   "execution_count": null,
   "id": "e2e74374-f5e7-4254-8686-80577659a7ad",
   "metadata": {},
   "outputs": [],
   "source": []
  },
  {
   "cell_type": "code",
   "execution_count": null,
   "id": "34da5e4c-ea9c-444a-9b63-3649347625e5",
   "metadata": {},
   "outputs": [],
   "source": []
  },
  {
   "cell_type": "code",
   "execution_count": null,
   "id": "5cfce8d8-b8f8-4612-9d1a-d080c66831e3",
   "metadata": {},
   "outputs": [],
   "source": []
  },
  {
   "cell_type": "code",
   "execution_count": null,
   "id": "0cc56ab4-81ec-4a19-9421-9146e9b78cc1",
   "metadata": {},
   "outputs": [],
   "source": []
  },
  {
   "cell_type": "code",
   "execution_count": null,
   "id": "e6f3e2d2-62d0-4b9b-9a1f-aeea706b1495",
   "metadata": {},
   "outputs": [],
   "source": []
  },
  {
   "cell_type": "code",
   "execution_count": null,
   "id": "fc4b792a-695a-41a4-88a3-14fef6530806",
   "metadata": {},
   "outputs": [],
   "source": []
  }
 ],
 "metadata": {
  "kernelspec": {
   "display_name": "Python 3 (ipykernel)",
   "language": "python",
   "name": "python3"
  },
  "language_info": {
   "codemirror_mode": {
    "name": "ipython",
    "version": 3
   },
   "file_extension": ".py",
   "mimetype": "text/x-python",
   "name": "python",
   "nbconvert_exporter": "python",
   "pygments_lexer": "ipython3",
   "version": "3.10.8"
  }
 },
 "nbformat": 4,
 "nbformat_minor": 5
}
