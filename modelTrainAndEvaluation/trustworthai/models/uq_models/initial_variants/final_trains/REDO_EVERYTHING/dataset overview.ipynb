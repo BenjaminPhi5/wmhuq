{
 "cells": [
  {
   "cell_type": "code",
   "execution_count": 1,
   "id": "66016330-97f9-49f0-8637-099c21ac5cd5",
   "metadata": {},
   "outputs": [
    {
     "name": "stdout",
     "output_type": "stream",
     "text": [
      "strawberry\n",
      "banana\n"
     ]
    }
   ],
   "source": [
    "print(\"strawberry\")\n",
    "\n",
    "import torch\n",
    "import numpy as np\n",
    "import torch.nn.functional as F\n",
    "\n",
    "# dataset\n",
    "from twaidata.torchdatasets.in_ram_ds import MRISegmentation2DDataset, MRISegmentation3DDataset\n",
    "from torch.utils.data import DataLoader, random_split, ConcatDataset\n",
    "\n",
    "# model\n",
    "from trustworthai.models.uq_models.initial_variants.HyperMapp3r_deterministic import HyperMapp3r\n",
    "from trustworthai.models.uq_models.initial_variants.HyperMapp3r_DDU import HyperMapp3rDDU\n",
    "from trustworthai.models.uq_models.initial_variants.HyperMapp3r_SSN import HyperMapp3rSSN\n",
    "\n",
    "\n",
    "# augmentation and pretrain processing\n",
    "from trustworthai.utils.augmentation.standard_transforms import RandomFlip, GaussianBlur, GaussianNoise, \\\n",
    "                                                            RandomResizeCrop, RandomAffine, \\\n",
    "                                                            NormalizeImg, PairedCompose, LabelSelect, \\\n",
    "                                                            PairedCentreCrop, CropZDim\n",
    "# loss function\n",
    "from trustworthai.utils.losses_and_metrics.per_individual_losses import (\n",
    "    log_cosh_dice_loss,\n",
    "    TverskyLoss,\n",
    "    FocalTverskyLoss,\n",
    "    DiceLossMetric\n",
    ")\n",
    "from torch.nn import BCELoss, MSELoss, BCEWithLogitsLoss\n",
    "\n",
    "# fitter\n",
    "from trustworthai.utils.fitting_and_inference.fitters.basic_lightning_fitter import StandardLitModelWrapper\n",
    "from pytorch_lightning.callbacks.early_stopping import EarlyStopping\n",
    "from pytorch_lightning.callbacks.model_checkpoint import ModelCheckpoint\n",
    "import pytorch_lightning as pl\n",
    "\n",
    "# misc\n",
    "import os\n",
    "import torch\n",
    "import matplotlib.pyplot as plt\n",
    "import torch\n",
    "from torchinfo import summary\n",
    "import argparse\n",
    "\n",
    "import torch.nn as nn\n",
    "import torch\n",
    "from torchmetrics import Metric\n",
    "import math\n",
    "import seaborn as sns\n",
    "\n",
    "print(\"banana\")"
   ]
  },
  {
   "cell_type": "code",
   "execution_count": 2,
   "id": "46522f74-a209-4f46-abc4-7510d9c2fdb1",
   "metadata": {},
   "outputs": [
    {
     "data": {
      "text/plain": [
       "<torch._C.Generator at 0x7fa1d403a890>"
      ]
     },
     "execution_count": 2,
     "metadata": {},
     "output_type": "execute_result"
    }
   ],
   "source": [
    "torch.manual_seed(1307)"
   ]
  },
  {
   "cell_type": "code",
   "execution_count": 3,
   "id": "a436e24b-e9e3-4bcf-a1a5-a51b8aa39c90",
   "metadata": {},
   "outputs": [],
   "source": [
    "def get_transforms():\n",
    "    transforms = [\n",
    "        LabelSelect(label_id=1),\n",
    "        RandomFlip(p=0.5, orientation=\"horizontal\"),\n",
    "        # GaussianBlur(p=0.5, kernel_size=7, sigma=(.1, 1.5)),\n",
    "        # GaussianNoise(p=0.2, mean=0, sigma=0.2),\n",
    "        RandomAffine(p=0.2, shear=(-18,18)),\n",
    "        RandomAffine(p=0.2, degrees=15),\n",
    "        RandomAffine(p=0.2, translate=(-0.1,0.1)),\n",
    "        RandomAffine(p=0.2, scale=(0.9, 1.1)),\n",
    "#         #RandomResizeCrop(p=1., scale=(0.6, 1.), ratio=(3./4., 4./3.))\n",
    "\n",
    "#         #RandomResizeCrop(p=1., scale=(0.3, 0.5), ratio=(3./4., 4./3.)) # ssn\n",
    "            \n",
    "    ]\n",
    "    transforms.append(lambda x, y: (x, y.squeeze().type(torch.long)))\n",
    "    return PairedCompose(transforms)\n",
    "\n",
    "def none_transform():\n",
    "    transforms = [\n",
    "        LabelSelect(label_id=1),\n",
    "        lambda x, y: (x, y.squeeze().type(torch.long))\n",
    "    ]\n",
    "    return PairedCompose(transforms)\n",
    "\n",
    "def train_val_test_split(dataset, val_prop, test_prop, seed):\n",
    "        # I think the sklearn version might be prefereable for determinism and things\n",
    "        # but that involves fiddling with the dataset implementation I think....\n",
    "        size = len(dataset)\n",
    "        test_size = int(test_prop*size) \n",
    "        val_size = int(val_prop*size)\n",
    "        train_size = size - val_size - test_size\n",
    "        train, val, test = random_split(dataset, [train_size, val_size, test_size], generator=torch.Generator().manual_seed(seed))\n",
    "        return train, val, test"
   ]
  },
  {
   "cell_type": "code",
   "execution_count": 4,
   "id": "581552a2-11fb-4fbb-80f4-37e6d043aef7",
   "metadata": {},
   "outputs": [],
   "source": [
    "import torch\n",
    "import torch.nn as nn\n",
    "from trustworthai.models.uq_models.drop_UNet import normalization_layer\n",
    "import torch.nn.functional as F\n",
    "from trustworthai.models.uq_models.initial_variants.HyperMapp3r_deterministic import HyperMapp3r\n",
    "import torch.distributions as td\n",
    "from typing import Tuple\n",
    "from torch.utils.data import Dataset"
   ]
  },
  {
   "cell_type": "code",
   "execution_count": 26,
   "id": "b480ad28-8e8d-4e4b-9305-d3024aaa1ddc",
   "metadata": {},
   "outputs": [],
   "source": [
    "ckpt_dir = None\n",
    "is3D = False\n",
    "root_dir = \"/disk/scratch/s2208943/ipdis/preprep/out_data/collated/\"\n",
    "#root_dir = \"/media/benp/NVMEspare/datasets/preprocessing_attempts/local_results/collated/\"\n",
    "wmh_dir = root_dir + \"WMH_challenge_dataset/\"\n",
    "ed_dir = root_dir + \"EdData/\"\n",
    "\n",
    "ednames = [\"domainA\", \"domainB\", \"domainC\", \"domainD\"]\n",
    "domains = [ed_dir + d for d in ednames]\n",
    "# domains = [ wmh_dir + d for d in ['Singapore', 'GE3T', 'Utrecht']]\n",
    "\n",
    "train_proportion = 0.7\n",
    "test_proportion = 0.15\n",
    "validation_proportion = 0.15\n",
    "seed = 3407"
   ]
  },
  {
   "cell_type": "code",
   "execution_count": 6,
   "id": "35a3c6cf-84b5-4f1e-8c35-3f181101dd5b",
   "metadata": {},
   "outputs": [],
   "source": [
    "### 3d to 2d dataset\n",
    "class MRISegDataset2DFrom3D(Dataset):\n",
    "    def __init__(self, dataset3D, transforms=None):\n",
    "        # calculate total number of slices (note need to iterate through every item\n",
    "        # because each image may have a different number of slices\n",
    "        size = 0\n",
    "        for data in dataset3D:\n",
    "            x = data[0]\n",
    "            size += x.shape[1]\n",
    "            \n",
    "        self.size = size\n",
    "        self.dataset3D = dataset3D\n",
    "        self.transforms = transforms\n",
    "        \n",
    "        idx_to_scan_index = []\n",
    "        scan_starting_index = []\n",
    "        \n",
    "        scan_count = 0\n",
    "        starting_index = 0\n",
    "        for (ind, _) in dataset3D:\n",
    "            d_size = ind.shape[1] # slices are the second dim of 3D scan\n",
    "            idx_to_scan_index.append(torch.ones(d_size) * scan_count)\n",
    "            scan_starting_index.append(starting_index)\n",
    "            \n",
    "            scan_count += 1\n",
    "            starting_index += d_size\n",
    "            \n",
    "        self.idx_to_scan = torch.cat(idx_to_scan_index, dim=0).type(torch.int32)\n",
    "        # print(self.idx_to_scan.shape)\n",
    "        self.scan_starting_index = scan_starting_index\n",
    "        \n",
    "    def __getitem__(self, idx):\n",
    "        # find out which scan to use\n",
    "        scan_idx = self.idx_to_scan[idx]\n",
    "        # get that dataset\n",
    "        scan_img, scan_label = self.dataset3D[scan_idx]\n",
    "        # find out where the element is in that dataset\n",
    "        item_idx = idx - self.scan_starting_index[scan_idx]\n",
    "        \n",
    "        #print(scan_img.shape, scan_label.shape)\n",
    "        slice_x = scan_img[:, item_idx]\n",
    "        slice_y = scan_label[:, item_idx] # slices are the second dim of a 3D scan (its channels, z, x, y for 3D scans)\n",
    "        \n",
    "        if self.transforms:\n",
    "            slice_x, slice_y = self.transforms(slice_x, slice_y)\n",
    "        \n",
    "        return slice_x, slice_y\n",
    "        \n",
    "    def __len__(self):\n",
    "        return self.size"
   ]
  },
  {
   "cell_type": "code",
   "execution_count": 7,
   "id": "afb26101-3bae-4801-95db-81127d60a056",
   "metadata": {},
   "outputs": [],
   "source": [
    "### empty slice splitting\n",
    "class FilteredEmptyElementsDataset(Dataset):\n",
    "    def __init__(self, dataset, seed, transforms=None, empty_proportion_retained=0.1):\n",
    "        # print(len(dataset))\n",
    "        self.base_dataset = dataset\n",
    "        self.transforms = transforms\n",
    "        empty_indices = []\n",
    "        self.non_empty_indices = []\n",
    "        count = 0\n",
    "        for i, (x, y) in enumerate(dataset):\n",
    "            if y.sum() == 0:\n",
    "                count += 1\n",
    "                empty_indices.append(i)\n",
    "            else:\n",
    "                self.non_empty_indices.append(i)\n",
    "           \n",
    "        # print(count)\n",
    "        # print(len(self.non_empty_indices))\n",
    "        #print(count * empty_proportion_retained)\n",
    "                \n",
    "        # extract only a limited proportion of empty slices (take a random selection)\n",
    "        shuffled_indices = torch.randperm(count, generator=torch.Generator().manual_seed(seed))\n",
    "        emtpy_indices = torch.Tensor(empty_indices)\n",
    "        self.retained_empty_indices = torch.Tensor(empty_indices)[shuffled_indices[0:int(count * empty_proportion_retained)]]\n",
    "        self.size = len(self.non_empty_indices) + len(self.retained_empty_indices)\n",
    "        self.non_empty_size = len(self.non_empty_indices)\n",
    "        \n",
    "            \n",
    "    def __getitem__(self, idx):\n",
    "        if idx >= self.non_empty_size:\n",
    "            # select an empty slice\n",
    "            new_idx = self.retained_empty_indices[idx - self.non_empty_size]\n",
    "        else:\n",
    "            # select a slice with label in it\n",
    "            new_idx = self.non_empty_indices[idx]\n",
    "        new_idx = int(new_idx)\n",
    "        \n",
    "        img, label = self.base_dataset[new_idx]\n",
    "        \n",
    "        if self.transforms:\n",
    "            img, label = self.transforms(img, label)\n",
    "            \n",
    "        return img, label\n",
    "\n",
    "    def __len__(self):\n",
    "        return self.size"
   ]
  },
  {
   "cell_type": "code",
   "execution_count": 8,
   "id": "01b604dd-8578-4a41-b2c4-2cd5d3c86f10",
   "metadata": {},
   "outputs": [],
   "source": [
    "datasets_domains = [MRISegmentation3DDataset(root_dir, domain, transforms=None) for domain in domains]\n",
    "\n",
    "# split into train, val test datasets\n",
    "datasets_3d = [train_val_test_split(dataset, validation_proportion, test_proportion, seed) for dataset in datasets_domains]\n",
    "\n",
    "# concat the train val test datsets\n",
    "train_dataset_3d = ConcatDataset([ds[0] for ds in datasets_3d])\n",
    "val_dataset_3d = ConcatDataset([ds[1] for ds in datasets_3d])\n",
    "test_dataset_3d = ConcatDataset([ds[2] for ds in datasets_3d])"
   ]
  },
  {
   "cell_type": "code",
   "execution_count": 9,
   "id": "42b1953d-6c45-4cd9-8530-e9fe1b15e314",
   "metadata": {},
   "outputs": [],
   "source": [
    "datasets_2d = [MRISegDataset2DFrom3D(ds, transforms=None) for ds in [train_dataset_3d, val_dataset_3d, test_dataset_3d]]"
   ]
  },
  {
   "cell_type": "code",
   "execution_count": 10,
   "id": "27886bdf-2651-4824-b26e-55bd7bc9f1e1",
   "metadata": {},
   "outputs": [],
   "source": [
    "train_dataset, val_dataset, test_dataset = [FilteredEmptyElementsDataset(ds, seed=seed, transforms=get_transforms()) for ds in datasets_2d]"
   ]
  },
  {
   "cell_type": "code",
   "execution_count": 18,
   "id": "0bde8827-b6b6-46a0-9bc9-b6813a5e8a06",
   "metadata": {},
   "outputs": [],
   "source": [
    "chal_names = [\"Singapore\", \"Utrecht\", \"GE3T\"]\n",
    "domains_chal = [wmh_dir + d for d in chal_names\n",
    "          ]"
   ]
  },
  {
   "cell_type": "code",
   "execution_count": 12,
   "id": "7397b477-1bc2-4ee0-880d-c7792e892914",
   "metadata": {},
   "outputs": [],
   "source": [
    "# load datasets\n",
    "# this step is quite slow, all the data is being loaded into memory\n",
    "datasets_domains_chal = [MRISegmentation3DDataset(root_dir, domain, transforms=None) for domain in domains_chal]\n",
    "wmh_dataset = ConcatDataset(datasets_domains_chal)"
   ]
  },
  {
   "cell_type": "markdown",
   "id": "0bfa81e4-e1fd-4e64-bfc0-c86b18a0496c",
   "metadata": {},
   "source": [
    "### Dataset distribution information\n",
    "\n",
    "- summary of lesion cluster sizes in 2d axial slices per dataset and per domain\n",
    "- plot of voxel intensity distribution per domain\n",
    "- summary of wmh damage scores"
   ]
  },
  {
   "cell_type": "code",
   "execution_count": 27,
   "id": "b5b196b7-71a5-4586-8168-47adfd282b47",
   "metadata": {},
   "outputs": [],
   "source": [
    "### voxel intensity of WMH lesions in FLAIR\n",
    "intensities_domains = {}\n",
    "def extract_WMH_intensities(dss, names):\n",
    "    for ds in range(len(dss)):\n",
    "        intensities = []\n",
    "        for x, y in dss[ds]:\n",
    "            voxels = y.view(-1)\n",
    "            flair = x[0].view(-1)\n",
    "            wmh_intensities = flair[voxels == 1]\n",
    "            intensities.append(wmh_intensities)\n",
    "        intensities_domains[names[ds]] = torch.cat(intensities, dim=0)\n",
    "        \n",
    "extract_WMH_intensities(datasets_domains_chal, chal_names)\n",
    "extract_WMH_intensities(datasets_domains, ednames)"
   ]
  },
  {
   "cell_type": "code",
   "execution_count": 28,
   "id": "1dd66c94-3df5-4664-bd4b-057c137d6990",
   "metadata": {},
   "outputs": [
    {
     "data": {
      "text/plain": [
       "<AxesSubplot:ylabel='Count'>"
      ]
     },
     "execution_count": 28,
     "metadata": {},
     "output_type": "execute_result"
    },
    {
     "data": {
      "image/png": "[encoded data removed]",
      "text/plain": [
       "<Figure size 432x288 with 1 Axes>"
      ]
     },
     "metadata": {
      "needs_background": "light"
     },
     "output_type": "display_data"
    }
   ],
   "source": [
    "sns.histplot(intensities_domains)\n",
    "# this looks wierd, is there a bug in my preprocessing?"
   ]
  },
  {
   "cell_type": "code",
   "execution_count": 31,
   "id": "66c5ad30-8cb0-4001-81bb-fb7ff76b15d6",
   "metadata": {},
   "outputs": [],
   "source": [
    "its = intensities_domains['Singapore']"
   ]
  },
  {
   "cell_type": "code",
   "execution_count": 32,
   "id": "e23ee677-9551-4efe-87de-babcc5029735",
   "metadata": {},
   "outputs": [
    {
     "data": {
      "text/plain": [
       "tensor([1.7276, 2.2272, 2.1717,  ..., 1.1104, 1.4574, 1.4574])"
      ]
     },
     "execution_count": 32,
     "metadata": {},
     "output_type": "execute_result"
    }
   ],
   "source": [
    "# lets do frequencies of -10 to 10"
   ]
  },
  {
   "cell_type": "code",
   "execution_count": 39,
   "id": "d53d83b0-a772-4b00-9655-178b8f7c6374",
   "metadata": {},
   "outputs": [],
   "source": [
    "bin_width = 1/50"
   ]
  },
  {
   "cell_type": "code",
   "execution_count": 47,
   "id": "1b862b32-d554-4cba-9a35-3c2e378f5ae7",
   "metadata": {},
   "outputs": [],
   "source": [
    "bins = np.arange(-5, 11, bin_width)\n",
    "bins = torch.Tensor(bins).round(decimals=2)"
   ]
  },
  {
   "cell_type": "code",
   "execution_count": 45,
   "id": "6f8c31f7-8036-4df4-894a-3e7d1b0a962c",
   "metadata": {},
   "outputs": [
    {
     "data": {
      "text/plain": [
       "tensor([1.7300, 2.2300, 2.1700,  ..., 1.1100, 1.4600, 1.4600])"
      ]
     },
     "execution_count": 45,
     "metadata": {},
     "output_type": "execute_result"
    }
   ],
   "source": [
    "torch.round(its, decimals=2)"
   ]
  },
  {
   "cell_type": "code",
   "execution_count": 51,
   "id": "d6d10b2e-12ee-47b5-81d6-063f5a72f279",
   "metadata": {},
   "outputs": [],
   "source": [
    "from tqdm import tqdm"
   ]
  },
  {
   "cell_type": "code",
   "execution_count": 66,
   "id": "165f685d-e136-4110-accb-7f25d862ca60",
   "metadata": {},
   "outputs": [
    {
     "name": "stderr",
     "output_type": "stream",
     "text": [
      "100%|███████████████████████████████████████████████████████████████████████████████████████████████████████████████████████████████████████████████████████| 20/20 [01:18<00:00,  3.94s/it]\n",
      "100%|███████████████████████████████████████████████████████████████████████████████████████████████████████████████████████████████████████████████████████| 20/20 [01:14<00:00,  3.73s/it]\n",
      "100%|███████████████████████████████████████████████████████████████████████████████████████████████████████████████████████████████████████████████████████| 20/20 [03:02<00:00,  9.13s/it]\n",
      "100%|███████████████████████████████████████████████████████████████████████████████████████████████████████████████████████████████████████████████████████| 51/51 [01:37<00:00,  1.91s/it]\n",
      "100%|███████████████████████████████████████████████████████████████████████████████████████████████████████████████████████████████████████████████████████| 25/25 [00:59<00:00,  2.38s/it]\n",
      "100%|███████████████████████████████████████████████████████████████████████████████████████████████████████████████████████████████████████████████████████| 62/62 [02:27<00:00,  2.39s/it]\n",
      "100%|█████████████████████████████████████████████████████████████████████████████████████████████████████████████████████████████████████████████████████| 112/112 [05:24<00:00,  2.90s/it]\n"
     ]
    }
   ],
   "source": [
    "all_intensities_domains = {}\n",
    "def extract_all_voxels_intensities(dss, names):\n",
    "    domain_intensity_bins = torch.zeros(len(bins))\n",
    "    for ds in range(len(dss)):\n",
    "        for x, y in tqdm(dss[ds], position=0, leave=True):\n",
    "            voxels = y.view(-1)\n",
    "            flair = x[0].view(-1)\n",
    "            \n",
    "            # extract the intensities for each bin\n",
    "            for i, b in enumerate(bins):\n",
    "                domain_intensity_bins[i] += (torch.round(flair, decimals=2) == b).sum()\n",
    "                \n",
    "        all_intensities_domains[names[ds]] = domain_intensity_bins\n",
    "    \n",
    "extract_all_voxels_intensities(datasets_domains_chal, chal_names)\n",
    "extract_all_voxels_intensities(datasets_domains, ednames)"
   ]
  },
  {
   "cell_type": "code",
   "execution_count": 67,
   "id": "d360eb06-a3fd-4ed0-b28f-69b712f3f6da",
   "metadata": {},
   "outputs": [
    {
     "data": {
      "text/plain": [
       "dict_keys(['Singapore', 'Utrecht', 'GE3T', 'domainA', 'domainB', 'domainC', 'domainD'])"
      ]
     },
     "execution_count": 67,
     "metadata": {},
     "output_type": "execute_result"
    }
   ],
   "source": [
    "all_intensities_domains.keys()"
   ]
  },
  {
   "cell_type": "code",
   "execution_count": 73,
   "id": "2abb4154-cff5-42be-bf6e-b6788afb97c1",
   "metadata": {},
   "outputs": [
    {
     "data": {
      "text/plain": [
       "(tensor([250]),)"
      ]
     },
     "execution_count": 73,
     "metadata": {},
     "output_type": "execute_result"
    }
   ],
   "source": [
    "torch.where(bins == 0)"
   ]
  },
  {
   "cell_type": "code",
   "execution_count": 89,
   "id": "5cdb7cb5-3b35-4a10-a4bf-70ec4f672b8d",
   "metadata": {},
   "outputs": [
    {
     "data": {
      "image/png": "[encoded data removed]",
      "text/plain": [
       "<Figure size 432x288 with 1 Axes>"
      ]
     },
     "metadata": {
      "needs_background": "light"
     },
     "output_type": "display_data"
    }
   ],
   "source": [
    "# ignore the 0 bin (thats background)\n",
    "\n",
    "for d in chal_names + ednames:\n",
    "# for d in chal_names[::-1]:\n",
    "    sel_bins = torch.cat([bins[0:250], bins[251:]])\n",
    "    bin_values = torch.cat([all_intensities_domains[d][0:250], all_intensities_domains[d][251:]])\n",
    "    total = torch.sum(bin_values)\n",
    "    plt.plot(sel_bins, bin_values/total, label=d)\n",
    "    #plt.legend()\n",
    "    # break"
   ]
  },
  {
   "cell_type": "code",
   "execution_count": 90,
   "id": "e5a84ba6-44fe-4e96-99b8-ebb76459f96d",
   "metadata": {},
   "outputs": [
    {
     "name": "stdout",
     "output_type": "stream",
     "text": [
      "after normalizing, I find that the voxel intensity distributions are very similar\n"
     ]
    }
   ],
   "source": [
    "print(\"after normalizing, I find that the voxel intensity distributions are very similar\")"
   ]
  },
  {
   "cell_type": "code",
   "execution_count": 94,
   "id": "790847e7-6342-4a63-b79a-4d0e6d8e584b",
   "metadata": {},
   "outputs": [],
   "source": [
    "import kornia as K"
   ]
  },
  {
   "cell_type": "code",
   "execution_count": 104,
   "id": "5f836d2f-4021-4c55-a1cd-1242a0981d4e",
   "metadata": {},
   "outputs": [
    {
     "name": "stderr",
     "output_type": "stream",
     "text": [
      "100%|███████████████████████████████████████████████████████████████████████████████████████████████████████████████████████████████████████████████████████| 20/20 [00:34<00:00,  1.73s/it]\n",
      "20it [00:01, 19.20it/s]\n",
      "100%|███████████████████████████████████████████████████████████████████████████████████████████████████████████████████████████████████████████████████████| 20/20 [00:34<00:00,  1.74s/it]\n",
      "20it [00:01, 17.08it/s]\n",
      "100%|███████████████████████████████████████████████████████████████████████████████████████████████████████████████████████████████████████████████████████| 20/20 [00:58<00:00,  2.95s/it]\n",
      "20it [00:01, 12.99it/s]\n",
      "100%|███████████████████████████████████████████████████████████████████████████████████████████████████████████████████████████████████████████████████████| 51/51 [01:14<00:00,  1.46s/it]\n",
      "51it [00:02, 18.94it/s]\n",
      "100%|███████████████████████████████████████████████████████████████████████████████████████████████████████████████████████████████████████████████████████| 25/25 [00:43<00:00,  1.74s/it]\n",
      "25it [00:01, 15.15it/s]\n",
      "100%|███████████████████████████████████████████████████████████████████████████████████████████████████████████████████████████████████████████████████████| 62/62 [01:47<00:00,  1.74s/it]\n",
      "62it [00:03, 18.24it/s]\n",
      "100%|█████████████████████████████████████████████████████████████████████████████████████████████████████████████████████████████████████████████████████| 112/112 [03:46<00:00,  2.02s/it]\n",
      "112it [00:08, 13.86it/s]\n"
     ]
    }
   ],
   "source": [
    "domain_num_lesions = {}\n",
    "domain_lesion_sizes = {}\n",
    "\n",
    "def compute_connected_component_sizes(dss, names):\n",
    "    for ds in range(len(dss)):\n",
    "        conncomp_outs = []\n",
    "        for x, y in tqdm(dss[ds], position=0, leave=True):\n",
    "            labels_out = K.contrib.connected_components(y.squeeze().unsqueeze(1).type(torch.float32), num_iterations=150)\n",
    "            conncomp_outs.append(labels_out)\n",
    "            \n",
    "        num_lesions = 0\n",
    "        sizes = []\n",
    "        # per individual\n",
    "        for batch, (x, y) in tqdm(enumerate(dss[ds]), position=0, leave=True):\n",
    "            # per slice\n",
    "            # print(y.shape)\n",
    "            for i in range(0, y.squeeze().shape[0]):\n",
    "                conncomps = conncomp_outs[batch][i]\n",
    "                ids = conncomps.unique()[1:]\n",
    "                # print(ids)\n",
    "                \n",
    "                # per WMH cluster (connected component)\n",
    "                for idx in ids:\n",
    "                    cc = (conncomps == idx)\n",
    "                    num_lesions += 1\n",
    "                    size = torch.sum(cc)\n",
    "                    sizes.append(size)\n",
    "                    # print(size)\n",
    "                    \n",
    "        domain_num_lesions[names[ds]] = num_lesions\n",
    "        domain_lesion_sizes[names[ds]] = sizes\n",
    "        \n",
    "        \n",
    "compute_connected_component_sizes(datasets_domains_chal, chal_names)\n",
    "compute_connected_component_sizes(datasets_domains, ednames)"
   ]
  },
  {
   "cell_type": "code",
   "execution_count": 97,
   "id": "dbcce156-4cc2-46dd-9529-fe3dcd971bb4",
   "metadata": {},
   "outputs": [
    {
     "name": "stdout",
     "output_type": "stream",
     "text": [
      "hi\n"
     ]
    }
   ],
   "source": [
    "print(\"hi\")"
   ]
  },
  {
   "cell_type": "code",
   "execution_count": 106,
   "id": "78ddd456-20c5-4035-b53e-42b70794d82e",
   "metadata": {},
   "outputs": [
    {
     "data": {
      "text/plain": [
       "{'Singapore': 2883,\n",
       " 'Utrecht': 4136,\n",
       " 'GE3T': 3016,\n",
       " 'domainA': 10798,\n",
       " 'domainB': 7131,\n",
       " 'domainC': 10460,\n",
       " 'domainD': 29272}"
      ]
     },
     "execution_count": 106,
     "metadata": {},
     "output_type": "execute_result"
    }
   ],
   "source": [
    "domain_num_lesions"
   ]
  },
  {
   "cell_type": "code",
   "execution_count": 108,
   "id": "b3a9e4b9-9ba9-4faf-a11a-a14fbb800567",
   "metadata": {},
   "outputs": [
    {
     "name": "stdout",
     "output_type": "stream",
     "text": [
      "2883 2883\n",
      "4136 4136\n",
      "3016 3016\n",
      "10798 10798\n",
      "7131 7131\n",
      "10460 10460\n",
      "29272 29272\n"
     ]
    }
   ],
   "source": [
    "for d in domain_lesion_sizes.keys():\n",
    "    print(len(domain_lesion_sizes[d]), domain_num_lesions[d])"
   ]
  },
  {
   "cell_type": "code",
   "execution_count": 129,
   "id": "52546604-00e6-4e83-9eea-ea842f111e15",
   "metadata": {},
   "outputs": [],
   "source": [
    "plt.style.use('fivethirtyeight')"
   ]
  },
  {
   "cell_type": "code",
   "execution_count": 150,
   "id": "221a171f-fd1a-4793-a044-23cc489829a4",
   "metadata": {},
   "outputs": [
    {
     "data": {
      "image/png": "[encoded data removed]",
      "text/plain": [
       "<Figure size 432x288 with 1 Axes>"
      ]
     },
     "metadata": {},
     "output_type": "display_data"
    }
   ],
   "source": [
    "plt.title(\"Histogram of WMH cluster sizes in 2D axial slices\\n (Log y scale)\")\n",
    "\n",
    "dd = 'domainC'\n",
    "plt.hist(domain_lesion_sizes[dd], bins=50, density=True, label = \"Ed Data\", alpha=0.7, color='orange');\n",
    "plt.yscale('log');\n",
    "\n",
    "dd = 'Utrecht'\n",
    "plt.hist(domain_lesion_sizes[dd], bins=50, density=True, label=\"WMH Challenge\", alpha=0.7, color='g');\n",
    "plt.yscale('log');\n",
    "\n",
    "\n",
    "plt.xlabel(\"WMH cluster area (num pixels)\")\n",
    "plt.ylabel(\"Probability Density\")\n",
    "plt.legend();\n",
    "plt.savefig(\"inplace_plots/wmh_cluster_size_histogram\", bbox_inches = \"tight\")"
   ]
  },
  {
   "cell_type": "code",
   "execution_count": null,
   "id": "55ae46e9-c405-429e-bb22-1ec66e2bd042",
   "metadata": {},
   "outputs": [],
   "source": []
  }
 ],
 "metadata": {
  "kernelspec": {
   "display_name": "Python 3 (ipykernel)",
   "language": "python",
   "name": "python3"
  },
  "language_info": {
   "codemirror_mode": {
    "name": "ipython",
    "version": 3
   },
   "file_extension": ".py",
   "mimetype": "text/x-python",
   "name": "python",
   "nbconvert_exporter": "python",
   "pygments_lexer": "ipython3",
   "version": "3.9.12"
  }
 },
 "nbformat": 4,
 "nbformat_minor": 5
}
