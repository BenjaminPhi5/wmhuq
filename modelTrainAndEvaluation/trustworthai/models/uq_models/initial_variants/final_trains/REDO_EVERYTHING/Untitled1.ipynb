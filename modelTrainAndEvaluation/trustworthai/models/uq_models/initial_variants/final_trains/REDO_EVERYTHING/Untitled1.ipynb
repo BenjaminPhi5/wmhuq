{
 "cells": [
  {
   "cell_type": "code",
   "execution_count": 2,
   "id": "6928ef8e-f08b-483d-9ff4-2c6478743096",
   "metadata": {},
   "outputs": [],
   "source": [
    "import torch"
   ]
  },
  {
   "cell_type": "code",
   "execution_count": 3,
   "id": "a5462657-c772-43f9-b235-23ef28056c2c",
   "metadata": {},
   "outputs": [],
   "source": [
    "a = torch.randn(12,3,224,160)"
   ]
  },
  {
   "cell_type": "code",
   "execution_count": 7,
   "id": "cc8dfda3-9187-47f7-94c3-3e05d29ae26c",
   "metadata": {},
   "outputs": [],
   "source": [
    "v = a.unsqueeze(0).expand([20] + [*a.shape])"
   ]
  },
  {
   "cell_type": "code",
   "execution_count": 8,
   "id": "30928b3d-748e-425a-9031-8a4659d42114",
   "metadata": {},
   "outputs": [
    {
     "data": {
      "text/plain": [
       "tensor(0.)"
      ]
     },
     "execution_count": 8,
     "metadata": {},
     "output_type": "execute_result"
    }
   ],
   "source": [
    "v[0].sum() - v[1].sum()"
   ]
  },
  {
   "cell_type": "code",
   "execution_count": null,
   "id": "f24dbeec-2721-408e-8e56-adf07fefa261",
   "metadata": {},
   "outputs": [],
   "source": []
  }
 ],
 "metadata": {
  "kernelspec": {
   "display_name": "Python 3 (ipykernel)",
   "language": "python",
   "name": "python3"
  },
  "language_info": {
   "codemirror_mode": {
    "name": "ipython",
    "version": 3
   },
   "file_extension": ".py",
   "mimetype": "text/x-python",
   "name": "python",
   "nbconvert_exporter": "python",
   "pygments_lexer": "ipython3",
   "version": "3.9.12"
  }
 },
 "nbformat": 4,
 "nbformat_minor": 5
}
