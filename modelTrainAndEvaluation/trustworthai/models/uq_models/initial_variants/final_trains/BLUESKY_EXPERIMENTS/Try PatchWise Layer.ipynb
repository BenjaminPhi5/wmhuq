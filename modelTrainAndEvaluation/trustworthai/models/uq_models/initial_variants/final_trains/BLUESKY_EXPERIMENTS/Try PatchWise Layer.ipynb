{
 "cells": [
  {
   "cell_type": "code",
   "execution_count": 64,
   "id": "2fbe5d34-e4f5-4064-8c7d-b8d659ccc291",
   "metadata": {},
   "outputs": [],
   "source": [
    "import torch\n",
    "import torch.nn as nn\n",
    "import numpy as np\n",
    "import matplotlib.pyplot as plt\n",
    "import torch.distributions as td"
   ]
  },
  {
   "cell_type": "code",
   "execution_count": 6,
   "id": "c0ca5ccd-fda6-4f60-8ec1-6cc10349b9e5",
   "metadata": {},
   "outputs": [],
   "source": [
    "batch = 12\n",
    "classes = 2\n",
    "patch_width = 16\n",
    "patch_size = (patch_width, patch_width)\n",
    "mean = torch.randn(batch, classes, 224, 160)"
   ]
  },
  {
   "cell_type": "code",
   "execution_count": 7,
   "id": "8163ce03-345c-4edd-9479-e8acf9c221f9",
   "metadata": {},
   "outputs": [],
   "source": [
    "cov_factor = torch.randn(batch, classes * patch_width, 224, 160)\n",
    "cov_diag = torch.randn(batch, classes, 224, 160).exp() + 1e-8"
   ]
  },
  {
   "cell_type": "code",
   "execution_count": 8,
   "id": "bb678d21-07f4-48ed-9dbb-77447506eaef",
   "metadata": {},
   "outputs": [
    {
     "data": {
      "text/plain": [
       "140.0"
      ]
     },
     "execution_count": 8,
     "metadata": {},
     "output_type": "execute_result"
    }
   ],
   "source": [
    "# now I want to split this into a patch by patch representation...\n",
    "224*160 / (16*16)"
   ]
  },
  {
   "cell_type": "code",
   "execution_count": 109,
   "id": "bdf1fc6f-566d-43a7-b700-893ba751c3a1",
   "metadata": {},
   "outputs": [],
   "source": [
    "blocks = [torch.ones((32, 32)) * i for i in range(224*160 // (32*32))]"
   ]
  },
  {
   "cell_type": "code",
   "execution_count": 110,
   "id": "51403177-368c-4da7-b0e8-149c86505fd0",
   "metadata": {},
   "outputs": [],
   "source": [
    "grid = torch.stack(blocks).unsqueeze(0)"
   ]
  },
  {
   "cell_type": "code",
   "execution_count": 111,
   "id": "e935dce4-6f86-4f6c-bd4d-dca3419d3b36",
   "metadata": {},
   "outputs": [],
   "source": [
    "grid = grid.flatten(2,3)\n",
    "grid = grid.swapaxes(1,2)"
   ]
  },
  {
   "cell_type": "code",
   "execution_count": 112,
   "id": "e1f35fd4-4c39-4c50-8b13-cf01f91c1cb7",
   "metadata": {},
   "outputs": [],
   "source": [
    "folded = torch.nn.functional.fold(grid, (224, 160), (32,32), stride=32)"
   ]
  },
  {
   "cell_type": "code",
   "execution_count": 113,
   "id": "cecd9738-3546-46c1-9583-e437df0cd36c",
   "metadata": {},
   "outputs": [
    {
     "data": {
      "text/plain": [
       "torch.Size([1, 1, 224, 160])"
      ]
     },
     "execution_count": 113,
     "metadata": {},
     "output_type": "execute_result"
    }
   ],
   "source": [
    "folded.shape"
   ]
  },
  {
   "cell_type": "code",
   "execution_count": 114,
   "id": "e2308790-fe6f-4d32-ac55-b2c515b776ec",
   "metadata": {},
   "outputs": [
    {
     "data": {
      "text/plain": [
       "<matplotlib.image.AxesImage at 0x7fc644791150>"
      ]
     },
     "execution_count": 114,
     "metadata": {},
     "output_type": "execute_result"
    },
    {
     "data": {
      "image/png": "[encoded data removed]",
      "text/plain": [
       "<Figure size 640x480 with 1 Axes>"
      ]
     },
     "metadata": {},
     "output_type": "display_data"
    }
   ],
   "source": [
    "plt.imshow(folded[0,0])"
   ]
  },
  {
   "cell_type": "code",
   "execution_count": 115,
   "id": "da3147ed-0395-40a1-bd8a-6585e2483070",
   "metadata": {},
   "outputs": [],
   "source": [
    "uf = folded.reshape((1, 1, 35, 32, 32))#unfold(dimension=-1,size=32,step=32)"
   ]
  },
  {
   "cell_type": "code",
   "execution_count": 116,
   "id": "ea2d5cfc-1334-4a6e-a739-c2c4ee5a7411",
   "metadata": {},
   "outputs": [
    {
     "data": {
      "text/plain": [
       "torch.Size([1, 1024, 35])"
      ]
     },
     "execution_count": 116,
     "metadata": {},
     "output_type": "execute_result"
    }
   ],
   "source": [
    "grid.shape"
   ]
  },
  {
   "cell_type": "code",
   "execution_count": 107,
   "id": "f5480459-564b-4d86-aa3f-2eb1769bdf7a",
   "metadata": {},
   "outputs": [
    {
     "ename": "RuntimeError",
     "evalue": "Expected 2D or 3D (batch mode) tensor for input with possibly 0 batch size and non-zero dimensions for input, but got: [1, 1, 35, 32, 32]",
     "output_type": "error",
     "traceback": [
      "\u001b[0;31m---------------------------------------------------------------------------\u001b[0m",
      "\u001b[0;31mRuntimeError\u001b[0m                              Traceback (most recent call last)",
      "Cell \u001b[0;32mIn[107], line 1\u001b[0m\n\u001b[0;32m----> 1\u001b[0m folded \u001b[38;5;241m=\u001b[39m \u001b[43mtorch\u001b[49m\u001b[38;5;241;43m.\u001b[39;49m\u001b[43mnn\u001b[49m\u001b[38;5;241;43m.\u001b[39;49m\u001b[43mfunctional\u001b[49m\u001b[38;5;241;43m.\u001b[39;49m\u001b[43mfold\u001b[49m\u001b[43m(\u001b[49m\u001b[43muf\u001b[49m\u001b[43m,\u001b[49m\u001b[43m \u001b[49m\u001b[43m(\u001b[49m\u001b[38;5;241;43m224\u001b[39;49m\u001b[43m,\u001b[49m\u001b[43m \u001b[49m\u001b[38;5;241;43m160\u001b[39;49m\u001b[43m)\u001b[49m\u001b[43m,\u001b[49m\u001b[43m \u001b[49m\u001b[43m(\u001b[49m\u001b[38;5;241;43m32\u001b[39;49m\u001b[43m,\u001b[49m\u001b[38;5;241;43m32\u001b[39;49m\u001b[43m)\u001b[49m\u001b[43m,\u001b[49m\u001b[43m \u001b[49m\u001b[43mstride\u001b[49m\u001b[38;5;241;43m=\u001b[39;49m\u001b[38;5;241;43m32\u001b[39;49m\u001b[43m)\u001b[49m\n",
      "File \u001b[0;32m~/miniconda3/envs/uq/lib/python3.10/site-packages/torch/nn/functional.py:4691\u001b[0m, in \u001b[0;36mfold\u001b[0;34m(input, output_size, kernel_size, dilation, padding, stride)\u001b[0m\n\u001b[1;32m   4687\u001b[0m \u001b[38;5;28;01mif\u001b[39;00m has_torch_function_unary(\u001b[38;5;28minput\u001b[39m):\n\u001b[1;32m   4688\u001b[0m     \u001b[38;5;28;01mreturn\u001b[39;00m handle_torch_function(\n\u001b[1;32m   4689\u001b[0m         fold, (\u001b[38;5;28minput\u001b[39m,), \u001b[38;5;28minput\u001b[39m, output_size, kernel_size, dilation\u001b[38;5;241m=\u001b[39mdilation, padding\u001b[38;5;241m=\u001b[39mpadding, stride\u001b[38;5;241m=\u001b[39mstride\n\u001b[1;32m   4690\u001b[0m     )\n\u001b[0;32m-> 4691\u001b[0m \u001b[38;5;28;01mreturn\u001b[39;00m \u001b[43mtorch\u001b[49m\u001b[38;5;241;43m.\u001b[39;49m\u001b[43m_C\u001b[49m\u001b[38;5;241;43m.\u001b[39;49m\u001b[43m_nn\u001b[49m\u001b[38;5;241;43m.\u001b[39;49m\u001b[43mcol2im\u001b[49m\u001b[43m(\u001b[49m\n\u001b[1;32m   4692\u001b[0m \u001b[43m    \u001b[49m\u001b[38;5;28;43minput\u001b[39;49m\u001b[43m,\u001b[49m\u001b[43m \u001b[49m\u001b[43m_pair\u001b[49m\u001b[43m(\u001b[49m\u001b[43moutput_size\u001b[49m\u001b[43m)\u001b[49m\u001b[43m,\u001b[49m\u001b[43m \u001b[49m\u001b[43m_pair\u001b[49m\u001b[43m(\u001b[49m\u001b[43mkernel_size\u001b[49m\u001b[43m)\u001b[49m\u001b[43m,\u001b[49m\u001b[43m \u001b[49m\u001b[43m_pair\u001b[49m\u001b[43m(\u001b[49m\u001b[43mdilation\u001b[49m\u001b[43m)\u001b[49m\u001b[43m,\u001b[49m\u001b[43m \u001b[49m\u001b[43m_pair\u001b[49m\u001b[43m(\u001b[49m\u001b[43mpadding\u001b[49m\u001b[43m)\u001b[49m\u001b[43m,\u001b[49m\u001b[43m \u001b[49m\u001b[43m_pair\u001b[49m\u001b[43m(\u001b[49m\u001b[43mstride\u001b[49m\u001b[43m)\u001b[49m\n\u001b[1;32m   4693\u001b[0m \u001b[43m\u001b[49m\u001b[43m)\u001b[49m\n",
      "\u001b[0;31mRuntimeError\u001b[0m: Expected 2D or 3D (batch mode) tensor for input with possibly 0 batch size and non-zero dimensions for input, but got: [1, 1, 35, 32, 32]"
     ]
    }
   ],
   "source": [
    "folded = torch.nn.functional.fold(uf, (224, 160), (32,32), stride=32)"
   ]
  },
  {
   "cell_type": "code",
   "execution_count": 98,
   "id": "10bc1967-94d2-42e0-9cdf-247f3cc42922",
   "metadata": {},
   "outputs": [
    {
     "data": {
      "text/plain": [
       "torch.Size([1, 1, 224, 5, 1, 32])"
      ]
     },
     "execution_count": 98,
     "metadata": {},
     "output_type": "execute_result"
    }
   ],
   "source": [
    "uf.shape"
   ]
  },
  {
   "cell_type": "code",
   "execution_count": null,
   "id": "4403c00a-ae20-431f-a0eb-9668625d1736",
   "metadata": {},
   "outputs": [],
   "source": []
  }
 ],
 "metadata": {
  "kernelspec": {
   "display_name": "Python 3 (ipykernel)",
   "language": "python",
   "name": "python3"
  },
  "language_info": {
   "codemirror_mode": {
    "name": "ipython",
    "version": 3
   },
   "file_extension": ".py",
   "mimetype": "text/x-python",
   "name": "python",
   "nbconvert_exporter": "python",
   "pygments_lexer": "ipython3",
   "version": "3.10.8"
  }
 },
 "nbformat": 4,
 "nbformat_minor": 5
}
