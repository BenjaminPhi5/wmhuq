{
 "cells": [
  {
   "cell_type": "code",
   "execution_count": 1,
   "id": "9a0f17b7-2d77-4cff-b5a1-9e65edeb869e",
   "metadata": {},
   "outputs": [
    {
     "name": "stdout",
     "output_type": "stream",
     "text": [
      "strawberry\n"
     ]
    }
   ],
   "source": [
    "print(\"strawberry\")"
   ]
  },
  {
   "cell_type": "code",
   "execution_count": 2,
   "id": "c30a30ac-ab1c-47fd-b725-1e8719756516",
   "metadata": {},
   "outputs": [],
   "source": [
    "import torch\n",
    "import numpy as np\n",
    "\n",
    "# dataset\n",
    "from twaidata.torchdatasets.in_ram_ds import MRISegmentation2DDataset, MRISegmentation3DDataset\n",
    "from torch.utils.data import DataLoader, random_split, ConcatDataset\n",
    "\n",
    "# model\n",
    "from trustworthai.models.uq_models.initial_variants.HyperMapp3r_deterministic import HyperMapp3r\n",
    "from trustworthai.models.uq_models.initial_variants.HyperMapp3r_DDU import HyperMapp3rDDU\n",
    "from trustworthai.models.uq_models.initial_variants.HyperMapp3r_SSN import HyperMapp3rSSN\n",
    "\n",
    "\n",
    "# augmentation and pretrain processing\n",
    "from trustworthai.utils.augmentation.standard_transforms import RandomFlip, GaussianBlur, GaussianNoise, \\\n",
    "                                                            RandomResizeCrop, RandomAffine, \\\n",
    "                                                            NormalizeImg, PairedCompose, LabelSelect, \\\n",
    "                                                            PairedCentreCrop, CropZDim\n",
    "# loss function\n",
    "from trustworthai.utils.losses_and_metrics.per_individual_losses import (\n",
    "    dice_loss,\n",
    "    log_cosh_dice_loss,\n",
    "    TverskyLoss,\n",
    "    FocalTverskyLoss,\n",
    "    DiceLossMetric\n",
    ")\n",
    "from torch.nn import BCELoss, MSELoss, BCEWithLogitsLoss\n",
    "\n",
    "# fitter\n",
    "from trustworthai.utils.fitting_and_inference.fitters.basic_lightning_fitter import StandardLitModelWrapper\n",
    "from pytorch_lightning.callbacks.early_stopping import EarlyStopping\n",
    "from pytorch_lightning.callbacks.model_checkpoint import ModelCheckpoint\n",
    "import pytorch_lightning as pl\n",
    "\n",
    "# misc\n",
    "import os\n",
    "import torch\n",
    "import matplotlib.pyplot as plt\n",
    "import torch\n",
    "from torchinfo import summary"
   ]
  },
  {
   "cell_type": "markdown",
   "id": "fb0e3f18-0236-4cf8-8e26-e76661200c01",
   "metadata": {},
   "source": [
    "### Set the seed"
   ]
  },
  {
   "cell_type": "code",
   "execution_count": 3,
   "id": "a450935a-a087-4b81-816b-cd4397db8680",
   "metadata": {},
   "outputs": [],
   "source": [
    "seed = 3407\n",
    "torch.manual_seed(seed)\n",
    "torch.cuda.manual_seed_all(seed)"
   ]
  },
  {
   "cell_type": "markdown",
   "id": "7cfd568d-9fc6-4868-9d4a-617163ae6e9e",
   "metadata": {},
   "source": [
    "### define datasets and dataloaders"
   ]
  },
  {
   "cell_type": "code",
   "execution_count": 4,
   "id": "401f9272-0a3b-4670-8880-82f04714d436",
   "metadata": {},
   "outputs": [],
   "source": [
    "is3D = False"
   ]
  },
  {
   "cell_type": "code",
   "execution_count": 5,
   "id": "91099153-5471-4603-8d5e-f8079445aea1",
   "metadata": {},
   "outputs": [],
   "source": [
    "root_dir = \"/disk/scratch/s2208943/ipdis/preprep/out_data/collated/\"\n",
    "#root_dir = \"/media/benp/NVMEspare/datasets/preprocessing_attempts/local_results/collated/\"\n",
    "wmh_dir = root_dir + \"WMH_challenge_dataset/\"\n",
    "ed_dir = root_dir + \"EdData/\""
   ]
  },
  {
   "cell_type": "code",
   "execution_count": 6,
   "id": "74c6f9d9-dd1d-411f-a85b-26a3d82cc48a",
   "metadata": {},
   "outputs": [],
   "source": [
    "# domains = [\n",
    "#             wmh_dir + d for d in [\"Singapore\", \"Utrecht\", \"GE3T\"]\n",
    "#           ]\n",
    "\n",
    "# domains = [\n",
    "#             wmh_dir + d for d in [\"Singapore\", \"Utrecht\", \"GE3T\"]\n",
    "#           ] + [\n",
    "#             ed_dir + d for d in [\"domainA\", \"domainB\", \"domainC\", \"domainD\"]\n",
    "#           ]\n",
    "\n",
    "\n",
    "domains = [\n",
    "            ed_dir + d for d in [\"domainA\", \"domainB\", \"domainC\", \"domainD\"]\n",
    "          ]"
   ]
  },
  {
   "cell_type": "code",
   "execution_count": 7,
   "id": "d6c807e6-40f1-48bc-aed7-d395b569b138",
   "metadata": {},
   "outputs": [],
   "source": [
    "# augmentation definintion\n",
    "def get_transforms(is_3D):\n",
    "    transforms = [\n",
    "        LabelSelect(label_id=1),\n",
    "        RandomFlip(p=0.5, orientation=\"horizontal\"),\n",
    "        # GaussianBlur(p=0.5, kernel_size=7, sigma=(.1, 1.5)),\n",
    "        # GaussianNoise(p=0.2, mean=0, sigma=0.2),\n",
    "        # RandomAffine(p=0.2, shear=(.1,3.)),\n",
    "        # RandomAffine(p=0.2, degrees=5),\n",
    "        #RandomResizeCrop(p=1., scale=(0.6, 1.), ratio=(3./4., 4./3.))\n",
    "        \n",
    "        \n",
    "        RandomResizeCrop(p=1., scale=(0.3, 0.5), ratio=(3./4., 4./3.)) # ssn\n",
    "    ]\n",
    "    if not is_3D:\n",
    "        transforms.append(lambda x, y: (x, y.squeeze().type(torch.long)))\n",
    "        return PairedCompose(transforms)\n",
    "    else:\n",
    "        transforms.append(CropZDim(size=32, minimum=0, maximum=-1))\n",
    "        transforms.append(lambda x, y: (x, y.squeeze().type(torch.long)))\n",
    "        return PairedCompose(transforms)"
   ]
  },
  {
   "cell_type": "code",
   "execution_count": 8,
   "id": "e417fb72-4419-456d-b5ce-e14f0591651a",
   "metadata": {},
   "outputs": [],
   "source": [
    "# function to do train validate test split\n",
    "test_proportion = 0.1\n",
    "validation_proportion = 0.2\n",
    "\n",
    "def train_val_test_split(dataset, val_prop, test_prop, seed):\n",
    "    # I think the sklearn version might be prefereable for determinism and things\n",
    "    # but that involves fiddling with the dataset implementation I think....\n",
    "    size = len(dataset)\n",
    "    test_size = int(test_prop*size) \n",
    "    val_size = int(val_prop*size)\n",
    "    train_size = size - val_size - test_size\n",
    "    train, val, test = random_split(dataset, [train_size, val_size, test_size], generator=torch.Generator().manual_seed(seed))\n",
    "    return train, val, test"
   ]
  },
  {
   "cell_type": "code",
   "execution_count": 9,
   "id": "567c247d-2265-4012-bc80-a92b4f2adec3",
   "metadata": {},
   "outputs": [],
   "source": [
    "# load datasets\n",
    "# this step is quite slow, all the data is being loaded into memory\n",
    "if is3D:\n",
    "    datasets_domains = [MRISegmentation3DDataset(root_dir, domain, transforms=get_transforms(is_3D=True)) for domain in domains]\n",
    "else:\n",
    "    datasets_domains = [MRISegmentation2DDataset(root_dir, domain, transforms=get_transforms(is_3D=False)) for domain in domains]\n",
    "\n",
    "# split into train, val test datasets\n",
    "datasets = [train_val_test_split(dataset, validation_proportion, test_proportion, seed) for dataset in datasets_domains]\n",
    "\n",
    "# concat the train val test datsets\n",
    "train_dataset = ConcatDataset([ds[0] for ds in datasets])\n",
    "val_dataset = ConcatDataset([ds[1] for ds in datasets])\n",
    "test_dataset = ConcatDataset([ds[2] for ds in datasets])"
   ]
  },
  {
   "cell_type": "code",
   "execution_count": 10,
   "id": "52f5844a-5c39-47ff-897e-ad36de855931",
   "metadata": {},
   "outputs": [
    {
     "data": {
      "text/plain": [
       "(8743, 2497, 1248)"
      ]
     },
     "execution_count": 10,
     "metadata": {},
     "output_type": "execute_result"
    }
   ],
   "source": [
    "len(train_dataset), len(val_dataset), len(test_dataset)"
   ]
  },
  {
   "cell_type": "code",
   "execution_count": 11,
   "id": "abfe0f1c-3c76-4069-b698-d7dd2a9c67f2",
   "metadata": {
    "tags": []
   },
   "outputs": [],
   "source": [
    "# define dataloaders\n",
    "train_dataloader = DataLoader(train_dataset, batch_size=64, shuffle=True, num_workers=4)\n",
    "test_dataloader = DataLoader(test_dataset, batch_size = 16, shuffle=False, num_workers=4)\n",
    "val_dataloader = DataLoader(val_dataset, batch_size=64, shuffle=False, num_workers=4)"
   ]
  },
  {
   "cell_type": "code",
   "execution_count": 12,
   "id": "d5114fd2-8651-4752-b7c6-1eda1459a9d6",
   "metadata": {},
   "outputs": [],
   "source": [
    "import torch\n",
    "import torch.nn as nn\n",
    "from trustworthai.models.uq_models.drop_UNet import normalization_layer\n",
    "import torch.nn.functional as F\n",
    "from trustworthai.models.uq_models.initial_variants.HyperMapp3r_deterministic import HyperMapp3r\n",
    "import torch.distributions as td\n",
    "from typing import Tuple\n",
    "\n",
    "\n",
    "def get_conv_func(dims, transpose=False):\n",
    "    # determine convolution func\n",
    "        if dims == 2:\n",
    "            if transpose:\n",
    "                return nn.ConvTranspose2d\n",
    "            else:\n",
    "                return nn.Conv2d\n",
    "        elif dims == 3:\n",
    "            if transpose:\n",
    "                return nn.ConvTranspose3d\n",
    "            else:\n",
    "                return nn.Conv3d\n",
    "        else:\n",
    "            raise ValueError(f\"values of dims of 2 or 3 (2D or 2D conv) are supported only, not {dims}\")\n",
    "            \n",
    "def get_dropout_func(dims):\n",
    "    if dims == 2:\n",
    "        return nn.Dropout2d\n",
    "    if dims == 3:\n",
    "        return nn.Dropout3d\n",
    "    else:\n",
    "        return nn.Dropout\n",
    "\n",
    "class ReshapedDistribution(td.Distribution):\n",
    "    def __init__(self, base_distribution: td.Distribution, new_event_shape: Tuple[int, ...]):\n",
    "        super().__init__(batch_shape=base_distribution.batch_shape, event_shape=new_event_shape, validate_args=False)\n",
    "        self.base_distribution = base_distribution\n",
    "        self.new_shape = base_distribution.batch_shape + new_event_shape\n",
    "        \n",
    "        #print(\"base distribution: \", self.base_distribution)\n",
    "\n",
    "    @property\n",
    "    def support(self):\n",
    "        return self.base_distribution.support\n",
    "\n",
    "    @property\n",
    "    def arg_constraints(self):\n",
    "        return self.base_distribution.arg_constraints()\n",
    "\n",
    "    @property\n",
    "    def mean(self):\n",
    "        return self.base_distribution.mean.view(self.new_shape)\n",
    "\n",
    "    @property\n",
    "    def variance(self):\n",
    "        return self.base_distribution.variance.view(self.new_shape)\n",
    "\n",
    "    def rsample(self, sample_shape=torch.Size()):\n",
    "        return self.base_distribution.rsample(sample_shape).view(sample_shape + self.new_shape)\n",
    "\n",
    "    def log_prob(self, value):\n",
    "        return self.base_distribution.log_prob(value.view(self.batch_shape + (-1,)))\n",
    "\n",
    "    def entropy(self):\n",
    "        return self.base_distribution.entropy()    \n",
    "    \n",
    "class HyperMapp3rSSN2(HyperMapp3r):\n",
    "    def __init__(self, dims=3,\n",
    "                 in_channels=3,\n",
    "                 out_channels=1,\n",
    "                 encoder_features=[16, 32, 64, 128, 256],\n",
    "                 decoder_features=[128, 64, 32, 16],\n",
    "                 softmax=True,\n",
    "                 up_res_blocks=False,\n",
    "                 block_params={\n",
    "                     \"dropout_p\":0.1,\n",
    "                     \"norm_type\":\"in\", \n",
    "                     \"dropout_both_layers\":False,\n",
    "                 },\n",
    "                 ssn_rank = 10,\n",
    "                 ssn_epsilon=1e-5,\n",
    "                 ssn_diagonal=False\n",
    "                ):\n",
    "        super().__init__(dims=dims,\n",
    "                 in_channels=in_channels,\n",
    "                 out_channels=decoder_features[-1], # last layer of just keeps number of nodes fixed this time\n",
    "                 encoder_features=encoder_features,\n",
    "                 decoder_features=decoder_features,\n",
    "                 softmax=False,\n",
    "                 up_res_blocks=up_res_blocks,\n",
    "                 block_params=block_params)\n",
    "        \n",
    "        print(\"WARNING: this model assumes that the input to the model contains the brain mask in the first channel!\")\n",
    "        conv_func = get_conv_func(dims, transpose=False)\n",
    "        self.ssn_rank = ssn_rank\n",
    "        self.ssn_diagonal = ssn_diagonal\n",
    "        self.ssn_epsilon = ssn_epsilon\n",
    "        self.ssn_num_classes = out_channels\n",
    "        \n",
    "        self.lrelu = nn.LeakyReLU(0.01)\n",
    "        \n",
    "        self.mean_l = conv_func(decoder_features[-1], out_channels, kernel_size = (1,) *  dims, padding='same')\n",
    "        self.log_cov_diag_l = conv_func(decoder_features[-1], out_channels, kernel_size = (1,) * dims, padding='same')\n",
    "        self.cov_factor_l = conv_func(decoder_features[-1], out_channels * ssn_rank, kernel_size = (1,) * dims, padding='same')\n",
    "\n",
    "    def forward(self, x):\n",
    "        logits = self.lrelu(super().forward(x))\n",
    "        if torch.sum(torch.isnan(logits)) > 0:\n",
    "            print(\"NAN 1\", torch.sum(torch.isnan(logits)))\n",
    "        batch_size = logits.shape[0]\n",
    "        event_shape = (self.ssn_num_classes,) + logits.shape[2:]\n",
    "        \n",
    "        mean = self.mean_l(logits)\n",
    "        mean = mean.view((batch_size, -1))\n",
    "        \n",
    "        cov_diag = self.log_cov_diag_l(logits).exp() + self.ssn_epsilon\n",
    "        cov_diag = cov_diag.view((batch_size, -1))\n",
    "        \n",
    "        cov_factor = self.cov_factor_l(logits)\n",
    "        cov_factor = cov_factor.view((batch_size, self.ssn_rank, self.ssn_num_classes, -1))\n",
    "        cov_factor = cov_factor.flatten(2,3)\n",
    "        cov_factor = cov_factor.transpose(1,2)\n",
    "        if torch.sum(torch.isnan(mean)) > 0:\n",
    "            print(\"NAN 2\")\n",
    "        if torch.sum(torch.isnan(cov_diag)) > 0:\n",
    "            print(\"NAN 3\")\n",
    "        if torch.sum(torch.isnan(cov_factor)) > 0:\n",
    "            print(\"NAN 4\")\n",
    "        \n",
    "        # covariance tends to blow up to infinity, hence set to 0 outside the ROI\n",
    "        mask = x[:,1]\n",
    "        mask = mask.unsqueeze(1).expand((batch_size, self.ssn_num_classes) + mask.shape[1:]).reshape(batch_size, -1)\n",
    "        cov_factor = cov_factor * mask.unsqueeze(-1)\n",
    "        cov_diag = cov_diag * mask + self.ssn_epsilon\n",
    "        \n",
    "        if torch.sum(torch.isnan(mask)) > 0:\n",
    "            print(\"NAN 5\")\n",
    "        if torch.sum(torch.isnan(cov_factor)) > 0:\n",
    "            print(\"NAN 6\")\n",
    "        if torch.sum(torch.isnan(cov_diag)) > 0:\n",
    "            print(\"NAN 7\")\n",
    "        \n",
    "        if self.ssn_diagonal:\n",
    "            base_distribution = td.Independent(td.Normal(loc=mean, scale=torch.sqrt(cov_diag)), 1)\n",
    "        else:\n",
    "            try:\n",
    "                base_distribution = td.LowRankMultivariateNormal(loc=mean, cov_factor=cov_factor, cov_diag=cov_diag)\n",
    "                #print(\"using multivariate normal!\")\n",
    "            except Exception as e:\n",
    "                print(\"was thrown: \", e)\n",
    "                print('hmm: Covariance became non invertible using independent normals for this batch!')\n",
    "                print(\"cov diag okay: \", torch.sum(cov_diag <=0))\n",
    "                print(\"sqrt cov diag okay: \", torch.sum(torch.sqrt(cov_diag) <=0))\n",
    "                \n",
    "                try:\n",
    "                    base_distribution = td.Independent(td.Normal(loc=mean, scale=torch.sqrt(cov_diag)),1)\n",
    "                except Exception as e:\n",
    "                    print(\"second fail: \", e)\n",
    "                    print(torch.min(torch.sqrt(cov_diag), torch.max(torch.sqrt(cov_diag))))\n",
    "        \n",
    "        distribution = ReshapedDistribution(base_distribution, event_shape)\n",
    "        \n",
    "        shape = (batch_size,) + event_shape\n",
    "        logit_mean_view = mean.view(shape).detach()\n",
    "        cov_diag_view = cov_diag.view(shape).detach()\n",
    "        cov_factor_view = cov_factor.transpose(2,1).view((batch_size, self.ssn_num_classes * self.ssn_rank) + event_shape[1:]).detach()\n",
    "        \n",
    "        \n",
    "        output_dict = {\n",
    "            'logit_mean':logit_mean_view,\n",
    "            'cov_diag':cov_diag_view,\n",
    "            'cov_factor':cov_factor_view,\n",
    "            'distribution':distribution,\n",
    "        }\n",
    "        \n",
    "        return output_dict"
   ]
  },
  {
   "cell_type": "markdown",
   "id": "71898c27-608d-4ad3-9375-7710bfeb23a5",
   "metadata": {},
   "source": [
    "### setup model"
   ]
  },
  {
   "cell_type": "code",
   "execution_count": 13,
   "id": "5cf9f593-6e8a-4c26-b9de-0ae024870248",
   "metadata": {},
   "outputs": [
    {
     "name": "stdout",
     "output_type": "stream",
     "text": [
      "WARNING: this model assumes that the input to the model contains the brain mask in the first channel!\n"
     ]
    }
   ],
   "source": [
    "in_channels = 3\n",
    "out_channels = 1\n",
    "\n",
    "if is3D:\n",
    "    pass\n",
    "else:\n",
    "    # encoder_features=[16, 32, 64, 128, 256] # orig: [16, 32, 64, 128, 256]\n",
    "    # decoder_features=encoder_features[::-1][1:]\n",
    "#     model = HyperMapp3r(dims=2,\n",
    "#                  in_channels=3,\n",
    "#                  out_channels=2,\n",
    "#                  encoder_features=[16, 32, 64, 128, 256],\n",
    "#                  decoder_features=[128, 64, 32, 16],\n",
    "#                  softmax=False,\n",
    "#                  up_res_blocks=False,\n",
    "#                  block_params={\n",
    "#                      \"dropout_p\":0.1,\n",
    "#                      \"norm_type\":\"in\", \n",
    "#                      \"dropout_both_layers\":False,\n",
    "#                  }\n",
    "#                    )\n",
    "    \n",
    "    # model = HyperMapp3rDDU(dims=2,\n",
    "    #              in_channels=3,\n",
    "    #              out_channels=2,\n",
    "    #              encoder_features=[16, 32, 64, 128, 256],\n",
    "    #              decoder_features=[128, 64, 32, 16],\n",
    "    #              softmax=False,\n",
    "    #              up_res_blocks=True,\n",
    "    #              n_power_iterations=3, \n",
    "    #              eps=1e-12,\n",
    "    #              block_params={\n",
    "    #                  \"dropout_p\":0.1,\n",
    "    #                  \"norm_type\":\"in\", \n",
    "    #                  \"dropout_both_layers\":False,\n",
    "    #              }\n",
    "    #                )\n",
    "    \n",
    "    model_raw = HyperMapp3rSSN2(dims=2,\n",
    "                 in_channels=3,\n",
    "                 out_channels=2,\n",
    "                 encoder_features=[16, 32, 64, 128, 256],\n",
    "                 decoder_features=[128, 64, 32, 16],\n",
    "                 softmax=True,\n",
    "                 up_res_blocks=False,\n",
    "                 block_params={\n",
    "                     \"dropout_p\":0.1,\n",
    "                     \"norm_type\":\"in\", \n",
    "                     \"dropout_both_layers\":False,\n",
    "                 },\n",
    "                 ssn_rank = 10,\n",
    "                 ssn_epsilon=1e-5,\n",
    "                 ssn_diagonal=False)\n",
    "    \n",
    "    #optimizer_params={\"lr\":2e-3}\n",
    "    #lr_scheduler_params={\"step_size\":20, \"gamma\":0.1}\n",
    "    # optimizer_params={\"lr\":2e-3, \"momentum\":0.6}\n",
    "    # optimizer = torch.optim.RMSprop\n",
    "    # lr_scheduler_params={\"milestones\":[10,100,200], \"gamma\":0.5}\n",
    "    # lr_scheduler_constructor = torch.optim.lr_scheduler.MultiStepLR\n"
   ]
  },
  {
   "cell_type": "code",
   "execution_count": 14,
   "id": "a4d8a334-80c3-4d9d-901f-0af9d35f9125",
   "metadata": {},
   "outputs": [
    {
     "data": {
      "text/plain": [
       "=================================================================\n",
       "Layer (type:depth-idx)                   Param #\n",
       "=================================================================\n",
       "HyperMapp3rSSN2                          --\n",
       "├─ModuleList: 1-1                        --\n",
       "│    └─HM3Block: 2-1                     --\n",
       "│    │    └─Conv2d: 3-1                  2,304\n",
       "│    │    └─Dropout2d: 3-2               --\n",
       "│    │    └─InstanceNorm2d: 3-3          --\n",
       "│    │    └─Conv2d: 3-4                  2,304\n",
       "│    │    └─InstanceNorm2d: 3-5          --\n",
       "│    │    └─LeakyReLU: 3-6               --\n",
       "│    └─HM3Block: 2-2                     --\n",
       "│    │    └─Conv2d: 3-7                  9,216\n",
       "│    │    └─Dropout2d: 3-8               --\n",
       "│    │    └─InstanceNorm2d: 3-9          --\n",
       "│    │    └─Conv2d: 3-10                 9,216\n",
       "│    │    └─InstanceNorm2d: 3-11         --\n",
       "│    │    └─LeakyReLU: 3-12              --\n",
       "│    └─HM3Block: 2-3                     --\n",
       "│    │    └─Conv2d: 3-13                 36,864\n",
       "│    │    └─Dropout2d: 3-14              --\n",
       "│    │    └─InstanceNorm2d: 3-15         --\n",
       "│    │    └─Conv2d: 3-16                 36,864\n",
       "│    │    └─InstanceNorm2d: 3-17         --\n",
       "│    │    └─LeakyReLU: 3-18              --\n",
       "│    └─HM3Block: 2-4                     --\n",
       "│    │    └─Conv2d: 3-19                 147,456\n",
       "│    │    └─Dropout2d: 3-20              --\n",
       "│    │    └─InstanceNorm2d: 3-21         --\n",
       "│    │    └─Conv2d: 3-22                 147,456\n",
       "│    │    └─InstanceNorm2d: 3-23         --\n",
       "│    │    └─LeakyReLU: 3-24              --\n",
       "│    └─HM3Block: 2-5                     --\n",
       "│    │    └─Conv2d: 3-25                 589,824\n",
       "│    │    └─Dropout2d: 3-26              --\n",
       "│    │    └─InstanceNorm2d: 3-27         --\n",
       "│    │    └─Conv2d: 3-28                 589,824\n",
       "│    │    └─InstanceNorm2d: 3-29         --\n",
       "│    │    └─LeakyReLU: 3-30              --\n",
       "├─ModuleList: 1-2                        --\n",
       "│    └─Conv2d: 2-6                       448\n",
       "│    └─Conv2d: 2-7                       4,640\n",
       "│    └─Conv2d: 2-8                       18,496\n",
       "│    └─Conv2d: 2-9                       73,856\n",
       "│    └─Conv2d: 2-10                      295,168\n",
       "├─ModuleList: 1-3                        --\n",
       "│    └─HMFeatureBlock: 2-11              --\n",
       "│    │    └─Conv2d: 3-31                 295,040\n",
       "│    │    └─InstanceNorm2d: 3-32         --\n",
       "│    │    └─LeakyReLU: 3-33              --\n",
       "│    │    └─Conv2d: 3-34                 16,512\n",
       "│    └─HMFeatureBlock: 2-12              --\n",
       "│    │    └─Conv2d: 3-35                 73,792\n",
       "│    │    └─InstanceNorm2d: 3-36         --\n",
       "│    │    └─LeakyReLU: 3-37              --\n",
       "│    │    └─Conv2d: 3-38                 4,160\n",
       "│    └─HMFeatureBlock: 2-13              --\n",
       "│    │    └─Conv2d: 3-39                 18,464\n",
       "│    │    └─InstanceNorm2d: 3-40         --\n",
       "│    │    └─LeakyReLU: 3-41              --\n",
       "│    │    └─Conv2d: 3-42                 1,056\n",
       "├─ModuleList: 1-4                        --\n",
       "│    └─HMUpsampleBlock: 2-14             --\n",
       "│    │    └─InstanceNorm2d: 3-43         --\n",
       "│    │    └─LeakyReLU: 3-44              --\n",
       "│    │    └─ConvTranspose2d: 3-45        295,040\n",
       "│    │    └─InstanceNorm2d: 3-46         --\n",
       "│    └─HMUpsampleBlock: 2-15             --\n",
       "│    │    └─InstanceNorm2d: 3-47         --\n",
       "│    │    └─LeakyReLU: 3-48              --\n",
       "│    │    └─ConvTranspose2d: 3-49        73,792\n",
       "│    │    └─InstanceNorm2d: 3-50         --\n",
       "│    └─HMUpsampleBlock: 2-16             --\n",
       "│    │    └─InstanceNorm2d: 3-51         --\n",
       "│    │    └─LeakyReLU: 3-52              --\n",
       "│    │    └─ConvTranspose2d: 3-53        18,464\n",
       "│    │    └─InstanceNorm2d: 3-54         --\n",
       "│    └─HMUpsampleBlock: 2-17             --\n",
       "│    │    └─InstanceNorm2d: 3-55         --\n",
       "│    │    └─LeakyReLU: 3-56              --\n",
       "│    │    └─ConvTranspose2d: 3-57        4,624\n",
       "│    │    └─InstanceNorm2d: 3-58         --\n",
       "├─ModuleList: 1-5                        --\n",
       "│    └─Conv2d: 2-18                      1,040\n",
       "│    └─Conv2d: 2-19                      528\n",
       "├─Conv2d: 1-6                            9,248\n",
       "├─Conv2d: 1-7                            528\n",
       "├─LeakyReLU: 1-8                         --\n",
       "├─Conv2d: 1-9                            34\n",
       "├─Conv2d: 1-10                           34\n",
       "├─Conv2d: 1-11                           340\n",
       "=================================================================\n",
       "Total params: 2,776,632\n",
       "Trainable params: 2,776,632\n",
       "Non-trainable params: 0\n",
       "================================================================="
      ]
     },
     "execution_count": 14,
     "metadata": {},
     "output_type": "execute_result"
    }
   ],
   "source": [
    "summary(model_raw)"
   ]
  },
  {
   "cell_type": "code",
   "execution_count": 15,
   "id": "98fb522a-b204-4981-a489-ed6fbd336a48",
   "metadata": {},
   "outputs": [],
   "source": [
    "#model.load_state_dict(torch.load(\"ssn_trained_no_wrapper_class.ckpt\"))"
   ]
  },
  {
   "cell_type": "code",
   "execution_count": 16,
   "id": "442d634c-bed8-48bd-ae52-ef1a30b4f721",
   "metadata": {
    "tags": []
   },
   "outputs": [],
   "source": [
    "import pytorch_lightning as pl\n",
    "\n",
    "import torch\n",
    "import torch.nn as nn\n",
    "import torch.nn.functional as F\n",
    "\n",
    "class StandardLitModelWrapper(pl.LightningModule):\n",
    "    def __init__(self, model, loss=F.cross_entropy, logging_metric=None, optimizer_params={\"lr\":1e-3}, lr_scheduler_params={\"step_size\":30, \"gamma\":0.1}, is_uq_model=False,\n",
    "                optimizer_constructor=None, lr_scheduler_constructor=None):\n",
    "        super().__init__()\n",
    "        self.model = model\n",
    "        self.loss = loss\n",
    "        self.logging_metric_train = logging_metric()\n",
    "        self.logging_metric_val = logging_metric()\n",
    "        self.optim_params = optimizer_params\n",
    "        self.lr_scheduler_params = lr_scheduler_params\n",
    "        self.is_uq_model = False\n",
    "        self.optimizer_constructor = optimizer_constructor\n",
    "        self.lr_scheduler_constructor = lr_scheduler_constructor\n",
    "\n",
    "        \n",
    "    def forward(self, x, **kwargs):\n",
    "        return self.model(x, **kwargs)\n",
    "    \n",
    "    def configure_optimizers(self):\n",
    "        # optimizer and schedulers go in the configure optimizers hook\n",
    "        if self.optimizer_constructor:\n",
    "            optimizer = self.optimizer_constructor(self.parameters(), **self.optim_params)\n",
    "        else:\n",
    "            optimizer = torch.optim.Adam(self.parameters(), **self.optim_params)\n",
    "        \n",
    "        if self.lr_scheduler_constructor:\n",
    "            lr_scheduler = self.lr_scheduler_constructor(optimizer, **self.lr_scheduler_params)\n",
    "        else:\n",
    "            lr_scheduler = torch.optim.lr_scheduler.StepLR(optimizer, **self.lr_scheduler_params)\n",
    "        \n",
    "        return [optimizer], [lr_scheduler]\n",
    "    \n",
    "    def training_step(self, batch, batch_idx):\n",
    "        \"\"\"\n",
    "        lightning automates the training loop, \n",
    "        does epoch, back_tracking, optimizers and schedulers,\n",
    "        and metric reduction.\n",
    "        we just define how we want to process a single batch. \n",
    "        we can optionally pass optimizer_idx if we want to define multiple optimizers within the configure_optimizers\n",
    "        hook, and I presume we can add our own parameters also to functions?\n",
    "        \"\"\"\n",
    "        \n",
    "        if self.is_uq_model:\n",
    "            self.model.set_applyfunc(True)\n",
    "        \n",
    "        X, y = batch\n",
    "        y_hat = self(X)\n",
    "        loss = self.loss(y_hat, y)\n",
    "        \n",
    "        # metrics \n",
    "        if self.logging_metric_train:\n",
    "            self.logging_metric_train(y_hat, y)\n",
    "            self.log(f\"train_metric\", self.logging_metric_train, on_step=True, on_epoch=False, prog_bar=True)\n",
    "        self.log(\"train_loss\", loss)\n",
    "        \n",
    "        return loss\n",
    "    \n",
    "#     def training_epoch_end(self, outs):\n",
    "#         self.log('train_metric_epoch', self.logging_metric_train.compute())\n",
    "        \n",
    "#     def validation_epoch_end(self, outs):\n",
    "#         self.log('val_metric_epoch', self.logging_metric_val.compute())\n",
    "    \n",
    "    def validation_step(self, batch, batch_idx):\n",
    "        \"\"\"\n",
    "        note: call trainer.validate() automatically loads the best checkpoint if checkpointing was enabled during fitting\n",
    "        well yes I want to enable checkpointing but will deal with that later.\n",
    "        also it does stuff like model.eval() and torch.no_grad() automatically which is nice.\n",
    "        I will need a custom eval thing to do my dropout estimation but can solve that later too.\n",
    "        \"\"\"\n",
    "        if self.is_uq_model:\n",
    "            self.model.set_applyfunc(False)\n",
    "        \n",
    "        X, y = batch\n",
    "        y_hat = self(X)\n",
    "        val_loss = self.loss(y_hat, y)\n",
    "        \n",
    "        if self.logging_metric_val:\n",
    "            self.logging_metric_val(y_hat, y)\n",
    "            self.log(f\"val_metric\", self.logging_metric_val, on_step=True, on_epoch=True, prog_bar=True)\n",
    "        self.log(\"val_loss\", val_loss)\n",
    "        \n",
    "    def test_step(self, batch, batch_idx):\n",
    "        \"\"\"\n",
    "        we would need to directly call this function using the trainer\n",
    "        \"\"\"\n",
    "        \n",
    "        if self.is_uq_model:\n",
    "            self.model.set_applyfunc(False)\n",
    "        \n",
    "        X, y = batch\n",
    "        y_hat = self(X)\n",
    "        test_loss = self.loss(y_hat, y)\n",
    "        self.log(\"test_loss\", test_loss)\n",
    "        \n",
    "    def predict_step(self, batch, batch_idx):\n",
    "        \"\"\"\n",
    "        just for making predictions as opposed to collecting metrics etc\n",
    "        note to use this, we just call .predict(dataloader) and it then automates the look\n",
    "        these functions are for a single batch. Nice.\n",
    "        \"\"\"\n",
    "        X, y = batch\n",
    "        pred = self(X)\n",
    "        return pred"
   ]
  },
  {
   "cell_type": "code",
   "execution_count": 17,
   "id": "debcacdf-f434-48e8-875b-83f641a8707c",
   "metadata": {
    "tags": []
   },
   "outputs": [],
   "source": [
    "# loss = dice_loss\n",
    "# loss = torch.nn.CrossEntropyLoss(weight=torch.Tensor([0.968, 0.032]))\n",
    "# loss = FocalLoss(gamma=1., reduction='mean', alpha=torch.Tensor([1-0.968, 1-0.032]))\n",
    "# loss = log_cosh_dice_loss\n",
    "# loss = TverskyLoss(beta=0.7)\n",
    "# loss = FocalTverskyLoss(beta=0.7, gamma=0.8)"
   ]
  },
  {
   "cell_type": "code",
   "execution_count": 18,
   "id": "f963140a-39e0-442a-b910-cd10f2a283df",
   "metadata": {
    "tags": []
   },
   "outputs": [],
   "source": [
    "import torch\n",
    "import torch.nn.functional as F\n",
    "import torch.nn as nn\n",
    "import math\n",
    "\n",
    "\n",
    "class StochasticSegmentationNetworkLossMCIntegral(nn.Module):\n",
    "    def __init__(self, num_mc_samples: int = 1):\n",
    "        super().__init__()\n",
    "        self.num_mc_samples = num_mc_samples\n",
    "\n",
    "    @staticmethod\n",
    "    def fixed_re_parametrization_trick(dist, num_samples):\n",
    "        assert num_samples % 2 == 0\n",
    "        samples = dist.rsample((num_samples // 2,))\n",
    "        mean = dist.mean.unsqueeze(0)\n",
    "        samples = samples - mean\n",
    "        return torch.cat([samples, -samples]) + mean\n",
    "\n",
    "    def forward(self, result_dict, target, **kwargs):\n",
    "        logits = result_dict['logit_mean']\n",
    "        distribution = result_dict['distribution']\n",
    "        \n",
    "        batch_size = logits.shape[0]\n",
    "        num_classes = logits.shape[1]\n",
    "        assert num_classes >= 2  # not implemented for binary case with implied background\n",
    "        # logit_sample = distribution.rsample((self.num_mc_samples,))\n",
    "        logit_sample = self.fixed_re_parametrization_trick(distribution, self.num_mc_samples)\n",
    "        target = target.unsqueeze(1)\n",
    "        target = target.expand((self.num_mc_samples,) + target.shape)\n",
    "\n",
    "        flat_size = self.num_mc_samples * batch_size\n",
    "        logit_sample = logit_sample.view((flat_size, num_classes, -1))\n",
    "        target = target.reshape((flat_size, -1))\n",
    "\n",
    "        log_prob = -F.cross_entropy(logit_sample, target, reduction='none').view((self.num_mc_samples, batch_size, -1))\n",
    "        loglikelihood = torch.mean(torch.logsumexp(torch.sum(log_prob, dim=-1), dim=0) - math.log(self.num_mc_samples))\n",
    "        loss = -loglikelihood\n",
    "        return loss"
   ]
  },
  {
   "cell_type": "code",
   "execution_count": null,
   "id": "d035ec9a-700b-40ce-a0a0-8e4e12070f43",
   "metadata": {
    "tags": []
   },
   "outputs": [],
   "source": [
    "def fixed_re_parametrization_trick(dist, num_samples):\n",
    "        assert num_samples % 2 == 0\n",
    "        samples = dist.rsample((num_samples // 2,))\n",
    "        mean = dist.mean.unsqueeze(0)\n",
    "        samples = samples - mean\n",
    "        return torch.cat([samples, -samples]) + mean\n",
    "\n",
    "\n",
    "class SsnNetworkMeanLossWrapper(nn.Module):\n",
    "    def __init__(self, loss_func):\n",
    "        super().__init__()\n",
    "        self.loss = loss_func\n",
    "    def forward(self, result_dict, target):\n",
    "        mean = result_dict['logit_mean']\n",
    "        return self.loss(mean, target)\n",
    "    \n",
    "class SsnNetworkSampleLossWrapper(nn.Module):\n",
    "    def __init__(self, loss_func, samples=10):\n",
    "        super().__init__()\n",
    "        self.loss = loss_func\n",
    "        self.samples = samples\n",
    "    def forward(self, result_dict, target):\n",
    "        samples = fixed_re_parametrization_trick(result_dict['distribution'], self.samples).to(target.device)\n",
    "        loss = 0\n",
    "        for s in samples:\n",
    "            loss += self.loss(s, target)\n",
    "        return loss / self.samples\n",
    "        #return torch.mean(torch.Tensor(losses))\n",
    "        \n",
    "        \n",
    "class SsnNetworkBestLossWrapper(nn.Module):\n",
    "    def __init__(self, loss_func, samples=10):\n",
    "        super().__init__()\n",
    "        self.loss = loss_func\n",
    "        self.samples = samples\n",
    "    def forward(self, result_dict, target):\n",
    "        samples = fixed_re_parametrization_trick(result_dict['distribution'], self.samples).to(target.device)\n",
    "        loss = 1000\n",
    "        for s in samples:\n",
    "            s_loss = self.loss(s, target)\n",
    "            if s_loss < loss:\n",
    "                loss = s_loss\n",
    "        return loss\n",
    "        #return torch.mean(torch.Tensor(losses))"
   ]
  },
  {
   "cell_type": "code",
   "execution_count": 20,
   "id": "b6da96fb-8617-427e-8dd4-3ac16cdfe1d9",
   "metadata": {},
   "outputs": [],
   "source": [
    "from torchmetrics import Metric\n",
    "class TverskyLossMetric(Metric):\n",
    "    is_differentiable = False\n",
    "    higher_is_better = True\n",
    "    full_state_update = False\n",
    "    def __init__(self):\n",
    "        super().__init__()\n",
    "        self.add_state(\"correct\", default=torch.tensor(0, dtype=torch.float32), dist_reduce_fx=\"sum\")\n",
    "        self.add_state(\"total\", default=torch.tensor(0, dtype=torch.float32), dist_reduce_fx=\"sum\")\n",
    "        self.loss = TverskyLoss(beta=0.9)\n",
    "\n",
    "    def update(self, preds: torch.Tensor, target: torch.Tensor):\n",
    "\n",
    "        #update = torch.sum(preds==1)\n",
    "        self.correct += self.loss(preds, target)\n",
    "        self.total += 1 #target.numel() # total is batches now, so is only correct if batches are the same size.\n",
    "        # print(\"GOT HERE: \", update)\n",
    "\n",
    "    def compute(self):\n",
    "        return self.correct.float() / self.total"
   ]
  },
  {
   "cell_type": "code",
   "execution_count": 30,
   "id": "24ef2496-90da-4f0f-ae15-3ae5b0937b52",
   "metadata": {
    "tags": []
   },
   "outputs": [],
   "source": [
    "class SsnDiceMetricWrapper(DiceLossMetric):\n",
    "\n",
    "    def update(self, preds_dict, target: torch.Tensor):\n",
    "        super().update(preds_dict['logit_mean'], target)\n",
    "\n",
    "    def compute(self):\n",
    "        return super().compute()\n",
    "    \n",
    "class SsnTverskyMetricWrapper(TverskyLossMetric):\n",
    "\n",
    "    def update(self, preds_dict, target: torch.Tensor):\n",
    "        super().update(preds_dict['logit_mean'], target)\n",
    "\n",
    "    def compute(self):\n",
    "        return super().compute()"
   ]
  },
  {
   "cell_type": "code",
   "execution_count": null,
   "id": "7cb714a1-8a62-4452-8209-cace8ec39ad7",
   "metadata": {},
   "outputs": [],
   "source": [
    "tversky_loss = TverskyLoss(beta=0.9)\n",
    "ssn_extraloss = SsnNetworkBestLossWrapper(tversky_loss)# SsnNetworkMeanLossWrapper(dice_loss)\n",
    "mc_loss = StochasticSegmentationNetworkLossMCIntegral(num_mc_samples=10)\n",
    "\n",
    "def double_loss(outs, target):\n",
    "    return ssn_extraloss(outs, target) * 10 + mc_loss(outs, target) * 0.01"
   ]
  },
  {
   "cell_type": "code",
   "execution_count": 32,
   "id": "0b8acb1b-d4f8-4890-b15d-bb330bd74faf",
   "metadata": {},
   "outputs": [],
   "source": [
    "# loss = StochasticSegmentationNetworkLossMCIntegral(num_mc_samples=10)\n",
    "# loss = SsnNetworkSampleLossWrapper(dice_loss)\n",
    "loss = double_loss"
   ]
  },
  {
   "cell_type": "code",
   "execution_count": 33,
   "id": "429aa4cb-2158-4b7f-96c3-992fc32faf6c",
   "metadata": {},
   "outputs": [],
   "source": [
    "#optimizer_params={\"lr\":2e-4, \"momentum\":0.6}\n",
    "optimizer_params={\"lr\":1e-3}\n",
    "optimizer = torch.optim.Adam\n",
    "lr_scheduler_params={\"milestones\":[100,200], \"gamma\":0.5}\n",
    "lr_scheduler_constructor = torch.optim.lr_scheduler.MultiStepLR"
   ]
  },
  {
   "cell_type": "code",
   "execution_count": 34,
   "id": "e60ae5da-3073-4c42-86b1-753fc874b272",
   "metadata": {
    "tags": []
   },
   "outputs": [],
   "source": [
    "model = StandardLitModelWrapper(model_raw, loss, \n",
    "                                logging_metric=SsnDiceMetricWrapper,\n",
    "                                optimizer_params=optimizer_params,\n",
    "                                lr_scheduler_params=lr_scheduler_params,\n",
    "                                is_uq_model=False,\n",
    "                                optimizer_constructor=optimizer,\n",
    "                                lr_scheduler_constructor=lr_scheduler_constructor\n",
    "                               )\n",
    "\n",
    "\n",
    "# checkpoint= \"ed_domains_ssn_trained.ckpt\"\n",
    "# model = StandardLitModelWrapper.load_from_checkpoint(checkpoint, model=model_raw, loss=double_loss, logging_metric=SsnDiceMetricWrapper)"
   ]
  },
  {
   "cell_type": "code",
   "execution_count": 27,
   "id": "669b2864-efcf-4e7b-bbd8-ea20000f128c",
   "metadata": {
    "tags": []
   },
   "outputs": [
    {
     "name": "stderr",
     "output_type": "stream",
     "text": [
      "GPU available: True, used: True\n",
      "TPU available: False, using: 0 TPU cores\n",
      "IPU available: False, using: 0 IPUs\n",
      "HPU available: False, using: 0 HPUs\n"
     ]
    }
   ],
   "source": [
    "checkpoint_dir = \"./lightning_logs\"\n",
    "strategy = None\n",
    "# strategy = \"deepspeed_stage_2\"\n",
    "# strategy = \"dp\"\n",
    "#strategy = \"deepspeed_stage_2_offload\"\n",
    "\n",
    "accelerator=\"gpu\"\n",
    "devices=1\n",
    "max_epochs=500\n",
    "precision = 32\n",
    "\n",
    "checkpoint_callback = ModelCheckpoint(checkpoint_dir, save_top_k=2, monitor=\"val_loss\")\n",
    "early_stop_callback = EarlyStopping(monitor=\"val_loss\", min_delta=0.00, patience=500, verbose=\"False\", mode=\"min\", check_finite=True)\n",
    "trainer = pl.Trainer(\n",
    "    callbacks=[checkpoint_callback, early_stop_callback],\n",
    "    accelerator=accelerator,\n",
    "    devices=devices,\n",
    "    max_epochs=max_epochs,\n",
    "    strategy=strategy,\n",
    "    precision=precision,\n",
    "    default_root_dir=checkpoint_dir\n",
    ")\n"
   ]
  },
  {
   "cell_type": "markdown",
   "id": "c1de0353-be84-4764-b89e-8326d6d2b021",
   "metadata": {},
   "source": [
    "### train"
   ]
  },
  {
   "cell_type": "code",
   "execution_count": 28,
   "id": "22b84231-df5d-4cb4-ae82-2dc586ebb311",
   "metadata": {},
   "outputs": [
    {
     "name": "stderr",
     "output_type": "stream",
     "text": [
      "/home/s2208943/miniconda3/envs/ip/lib/python3.9/site-packages/pytorch_lightning/callbacks/model_checkpoint.py:611: UserWarning: Checkpoint directory /home/s2208943/ipdis/Trustworthai-MRI-WMH/trustworthai/models/uq_models/initial_variants/ssn/lightning_logs exists and is not empty.\n",
      "  rank_zero_warn(f\"Checkpoint directory {dirpath} exists and is not empty.\")\n",
      "LOCAL_RANK: 0 - CUDA_VISIBLE_DEVICES: [0]\n",
      "\n",
      "  | Name                 | Type                 | Params\n",
      "--------------------------------------------------------------\n",
      "0 | model                | HyperMapp3rSSN2      | 2.8 M \n",
      "1 | logging_metric_train | SsnDiceMetricWrapper | 0     \n",
      "2 | logging_metric_val   | SsnDiceMetricWrapper | 0     \n",
      "--------------------------------------------------------------\n",
      "2.8 M     Trainable params\n",
      "0         Non-trainable params\n",
      "2.8 M     Total params\n",
      "11.107    Total estimated model params size (MB)\n"
     ]
    },
    {
     "data": {
      "application/vnd.jupyter.widget-view+json": {
       "model_id": "",
       "version_major": 2,
       "version_minor": 0
      },
      "text/plain": [
       "Sanity Checking: 0it [00:00, ?it/s]"
      ]
     },
     "metadata": {},
     "output_type": "display_data"
    },
    {
     "data": {
      "application/vnd.jupyter.widget-view+json": {
       "model_id": "6fc9ebb0090e43dda64dbe89a800fd99",
       "version_major": 2,
       "version_minor": 0
      },
      "text/plain": [
       "Training: 0it [00:00, ?it/s]"
      ]
     },
     "metadata": {},
     "output_type": "display_data"
    },
    {
     "data": {
      "application/vnd.jupyter.widget-view+json": {
       "model_id": "",
       "version_major": 2,
       "version_minor": 0
      },
      "text/plain": [
       "Validation: 0it [00:00, ?it/s]"
      ]
     },
     "metadata": {},
     "output_type": "display_data"
    },
    {
     "name": "stderr",
     "output_type": "stream",
     "text": [
      "Metric val_loss improved. New best score: 5.351\n"
     ]
    },
    {
     "data": {
      "application/vnd.jupyter.widget-view+json": {
       "model_id": "",
       "version_major": 2,
       "version_minor": 0
      },
      "text/plain": [
       "Validation: 0it [00:00, ?it/s]"
      ]
     },
     "metadata": {},
     "output_type": "display_data"
    },
    {
     "name": "stderr",
     "output_type": "stream",
     "text": [
      "Metric val_loss improved by 0.023 >= min_delta = 0.0. New best score: 5.329\n"
     ]
    },
    {
     "data": {
      "application/vnd.jupyter.widget-view+json": {
       "model_id": "",
       "version_major": 2,
       "version_minor": 0
      },
      "text/plain": [
       "Validation: 0it [00:00, ?it/s]"
      ]
     },
     "metadata": {},
     "output_type": "display_data"
    },
    {
     "data": {
      "application/vnd.jupyter.widget-view+json": {
       "model_id": "",
       "version_major": 2,
       "version_minor": 0
      },
      "text/plain": [
       "Validation: 0it [00:00, ?it/s]"
      ]
     },
     "metadata": {},
     "output_type": "display_data"
    },
    {
     "name": "stderr",
     "output_type": "stream",
     "text": [
      "Metric val_loss improved by 0.036 >= min_delta = 0.0. New best score: 5.292\n"
     ]
    },
    {
     "data": {
      "application/vnd.jupyter.widget-view+json": {
       "model_id": "",
       "version_major": 2,
       "version_minor": 0
      },
      "text/plain": [
       "Validation: 0it [00:00, ?it/s]"
      ]
     },
     "metadata": {},
     "output_type": "display_data"
    },
    {
     "data": {
      "application/vnd.jupyter.widget-view+json": {
       "model_id": "",
       "version_major": 2,
       "version_minor": 0
      },
      "text/plain": [
       "Validation: 0it [00:00, ?it/s]"
      ]
     },
     "metadata": {},
     "output_type": "display_data"
    },
    {
     "data": {
      "application/vnd.jupyter.widget-view+json": {
       "model_id": "",
       "version_major": 2,
       "version_minor": 0
      },
      "text/plain": [
       "Validation: 0it [00:00, ?it/s]"
      ]
     },
     "metadata": {},
     "output_type": "display_data"
    },
    {
     "data": {
      "application/vnd.jupyter.widget-view+json": {
       "model_id": "",
       "version_major": 2,
       "version_minor": 0
      },
      "text/plain": [
       "Validation: 0it [00:00, ?it/s]"
      ]
     },
     "metadata": {},
     "output_type": "display_data"
    },
    {
     "data": {
      "application/vnd.jupyter.widget-view+json": {
       "model_id": "",
       "version_major": 2,
       "version_minor": 0
      },
      "text/plain": [
       "Validation: 0it [00:00, ?it/s]"
      ]
     },
     "metadata": {},
     "output_type": "display_data"
    },
    {
     "data": {
      "application/vnd.jupyter.widget-view+json": {
       "model_id": "",
       "version_major": 2,
       "version_minor": 0
      },
      "text/plain": [
       "Validation: 0it [00:00, ?it/s]"
      ]
     },
     "metadata": {},
     "output_type": "display_data"
    },
    {
     "data": {
      "application/vnd.jupyter.widget-view+json": {
       "model_id": "",
       "version_major": 2,
       "version_minor": 0
      },
      "text/plain": [
       "Validation: 0it [00:00, ?it/s]"
      ]
     },
     "metadata": {},
     "output_type": "display_data"
    },
    {
     "data": {
      "application/vnd.jupyter.widget-view+json": {
       "model_id": "",
       "version_major": 2,
       "version_minor": 0
      },
      "text/plain": [
       "Validation: 0it [00:00, ?it/s]"
      ]
     },
     "metadata": {},
     "output_type": "display_data"
    },
    {
     "data": {
      "application/vnd.jupyter.widget-view+json": {
       "model_id": "",
       "version_major": 2,
       "version_minor": 0
      },
      "text/plain": [
       "Validation: 0it [00:00, ?it/s]"
      ]
     },
     "metadata": {},
     "output_type": "display_data"
    },
    {
     "data": {
      "application/vnd.jupyter.widget-view+json": {
       "model_id": "",
       "version_major": 2,
       "version_minor": 0
      },
      "text/plain": [
       "Validation: 0it [00:00, ?it/s]"
      ]
     },
     "metadata": {},
     "output_type": "display_data"
    },
    {
     "data": {
      "application/vnd.jupyter.widget-view+json": {
       "model_id": "",
       "version_major": 2,
       "version_minor": 0
      },
      "text/plain": [
       "Validation: 0it [00:00, ?it/s]"
      ]
     },
     "metadata": {},
     "output_type": "display_data"
    },
    {
     "data": {
      "application/vnd.jupyter.widget-view+json": {
       "model_id": "",
       "version_major": 2,
       "version_minor": 0
      },
      "text/plain": [
       "Validation: 0it [00:00, ?it/s]"
      ]
     },
     "metadata": {},
     "output_type": "display_data"
    },
    {
     "name": "stderr",
     "output_type": "stream",
     "text": [
      "Metric val_loss improved by 0.023 >= min_delta = 0.0. New best score: 5.270\n"
     ]
    },
    {
     "data": {
      "application/vnd.jupyter.widget-view+json": {
       "model_id": "",
       "version_major": 2,
       "version_minor": 0
      },
      "text/plain": [
       "Validation: 0it [00:00, ?it/s]"
      ]
     },
     "metadata": {},
     "output_type": "display_data"
    },
    {
     "data": {
      "application/vnd.jupyter.widget-view+json": {
       "model_id": "",
       "version_major": 2,
       "version_minor": 0
      },
      "text/plain": [
       "Validation: 0it [00:00, ?it/s]"
      ]
     },
     "metadata": {},
     "output_type": "display_data"
    },
    {
     "name": "stderr",
     "output_type": "stream",
     "text": [
      "/home/s2208943/miniconda3/envs/ip/lib/python3.9/site-packages/pytorch_lightning/trainer/trainer.py:724: UserWarning: Detected KeyboardInterrupt, attempting graceful shutdown...\n",
      "  rank_zero_warn(\"Detected KeyboardInterrupt, attempting graceful shutdown...\")\n"
     ]
    }
   ],
   "source": [
    "trainer.fit(model, train_dataloader, val_dataloader)"
   ]
  },
  {
   "cell_type": "code",
   "execution_count": 35,
   "id": "517528f4-459e-42b4-af21-254a1f5f7bb5",
   "metadata": {},
   "outputs": [
    {
     "name": "stderr",
     "output_type": "stream",
     "text": [
      "LOCAL_RANK: 0 - CUDA_VISIBLE_DEVICES: [0]\n"
     ]
    },
    {
     "data": {
      "application/vnd.jupyter.widget-view+json": {
       "model_id": "b2f0bb5146e940449ed6cedd1884f09a",
       "version_major": 2,
       "version_minor": 0
      },
      "text/plain": [
       "Validation: 0it [00:00, ?it/s]"
      ]
     },
     "metadata": {},
     "output_type": "display_data"
    },
    {
     "name": "stdout",
     "output_type": "stream",
     "text": [
      "────────────────────────────────────────────────────────────────────────────────────────────────────────────────────────\n",
      "     Validate metric           DataLoader 0\n",
      "────────────────────────────────────────────────────────────────────────────────────────────────────────────────────────\n",
      "        val_loss             5.309387683868408\n",
      "    val_metric_epoch        0.23850786685943604\n",
      "────────────────────────────────────────────────────────────────────────────────────────────────────────────────────────\n"
     ]
    },
    {
     "data": {
      "text/plain": [
       "[{'val_metric_epoch': 0.23850786685943604, 'val_loss': 5.309387683868408}]"
      ]
     },
     "execution_count": 35,
     "metadata": {},
     "output_type": "execute_result"
    }
   ],
   "source": [
    "trainer.validate(model, val_dataloader)"
   ]
  },
  {
   "cell_type": "code",
   "execution_count": 36,
   "id": "d92bf6c1-685b-4d33-b195-d809976f38a5",
   "metadata": {},
   "outputs": [],
   "source": [
    "def entropy_map_from_samples(samples):\n",
    "    \"samples is of shape samples, batch size, channels, image dims  [s, b, c *<dims>]\"\n",
    "    probs = torch.nn.functional.softmax(samples, dim=2)\n",
    "    pic = torch.mean(probs, dim=0)\n",
    "    ent_map = torch.sum(-pic * torch.log(pic+1e-30), dim=1)\n",
    "    \n",
    "    return ent_map"
   ]
  },
  {
   "cell_type": "code",
   "execution_count": 37,
   "id": "46c63f57-a03c-44c1-8a6c-ac34e90a65e0",
   "metadata": {},
   "outputs": [],
   "source": [
    "from tqdm import tqdm"
   ]
  },
  {
   "cell_type": "code",
   "execution_count": 38,
   "id": "c898917a-3981-479b-9f7e-df9fd2a45e97",
   "metadata": {},
   "outputs": [
    {
     "name": "stderr",
     "output_type": "stream",
     "text": [
      "100%|█████████████████████████████████████████████████████████████████████████████████████████████████████████████████| 40/40 [02:16<00:00,  3.40s/it]\n"
     ]
    }
   ],
   "source": [
    "all_tps = []\n",
    "all_tns = []\n",
    "all_fps = []\n",
    "all_fns = []\n",
    "\n",
    "with torch.no_grad():\n",
    "    for x, y in tqdm(val_dataloader, position=0, leave=True, ncols=150):\n",
    "        pred = model(x)\n",
    "        samples = fixed_re_parametrization_trick(pred['distribution'], 14).cpu()\n",
    "        ent = entropy_map_from_samples(samples).view([-1])\n",
    "        mean = pred['logit_mean']\n",
    "        mean_class = mean.argmax(dim=1).view(-1)\n",
    "        y_flat = y.view(-1)\n",
    "        \n",
    "        tp_loc = torch.where(torch.logical_and(y_flat == 1, mean_class == 1))[0]\n",
    "        tn_loc = torch.where(torch.logical_and(torch.logical_and(y_flat == 0, mean_class == 0), x[:,1].reshape(-1) == 1))[0]\n",
    "        fp_loc = torch.where(torch.logical_and(y_flat == 0, mean_class == 1))[0]\n",
    "        fn_loc = torch.where(torch.logical_and(torch.logical_and(y_flat == 1, mean_class == 0), x[:,1].reshape(-1) == 1))[0]\n",
    "        # print(tp_loc.shape)\n",
    "        # print(ent.view(-1).shape)\n",
    "        \n",
    "        all_tps.append(ent[tp_loc])\n",
    "        all_tns.append(ent[tn_loc])\n",
    "        all_fps.append(ent[fp_loc])\n",
    "        all_fns.append(ent[fn_loc])"
   ]
  },
  {
   "cell_type": "code",
   "execution_count": 39,
   "id": "689dddb0-c5e1-49e2-bb62-e033f4a02754",
   "metadata": {},
   "outputs": [],
   "source": [
    "tps = torch.cat(all_tps)\n",
    "tns = torch.cat(all_tns)\n",
    "fps = torch.cat(all_fps)\n",
    "fns = torch.cat(all_fns)"
   ]
  },
  {
   "cell_type": "code",
   "execution_count": 40,
   "id": "dcbf2d66-e4d3-4345-829e-08b1fc820d83",
   "metadata": {},
   "outputs": [
    {
     "data": {
      "text/plain": [
       "(torch.Size([658297]),\n",
       " torch.Size([39920476]),\n",
       " torch.Size([241299]),\n",
       " torch.Size([145150]))"
      ]
     },
     "execution_count": 40,
     "metadata": {},
     "output_type": "execute_result"
    }
   ],
   "source": [
    "tps.shape, tns.shape, fps.shape, fns.shape"
   ]
  },
  {
   "cell_type": "code",
   "execution_count": 41,
   "id": "98335e6b-0807-43a8-a4da-c03fbdfcd86b",
   "metadata": {},
   "outputs": [
    {
     "data": {
      "text/plain": [
       "(tensor(0.2369), tensor(0.0141), tensor(0.5413), tensor(0.4481))"
      ]
     },
     "execution_count": 41,
     "metadata": {},
     "output_type": "execute_result"
    }
   ],
   "source": [
    "tps.mean(), tns.mean(), fps.mean(), fns.mean()"
   ]
  },
  {
   "cell_type": "code",
   "execution_count": 42,
   "id": "c91f4394-5c36-42d8-b269-e93539d2671f",
   "metadata": {},
   "outputs": [
    {
     "data": {
      "image/png": "[encoded data removed]",
      "text/plain": [
       "<Figure size 432x288 with 1 Axes>"
      ]
     },
     "metadata": {
      "needs_background": "light"
     },
     "output_type": "display_data"
    }
   ],
   "source": [
    "plt.hist(tps, bins=100);"
   ]
  },
  {
   "cell_type": "code",
   "execution_count": 43,
   "id": "ed1a2dd8-d405-49d4-a1cd-a21d1453bddc",
   "metadata": {},
   "outputs": [],
   "source": [
    "#plt.hist(tns, bins=100);"
   ]
  },
  {
   "cell_type": "code",
   "execution_count": 44,
   "id": "ada9a504-75ce-4926-a1d6-61cec089ab1d",
   "metadata": {},
   "outputs": [
    {
     "data": {
      "image/png": "[encoded data removed]",
      "text/plain": [
       "<Figure size 432x288 with 1 Axes>"
      ]
     },
     "metadata": {
      "needs_background": "light"
     },
     "output_type": "display_data"
    }
   ],
   "source": [
    "plt.hist(fps, bins=100);"
   ]
  },
  {
   "cell_type": "code",
   "execution_count": 45,
   "id": "77f5eb9e-1a87-49c3-b480-f00f64360bf3",
   "metadata": {},
   "outputs": [
    {
     "data": {
      "image/png": "[encoded data removed]",
      "text/plain": [
       "<Figure size 432x288 with 1 Axes>"
      ]
     },
     "metadata": {
      "needs_background": "light"
     },
     "output_type": "display_data"
    }
   ],
   "source": [
    "plt.hist(fns, bins=100);"
   ]
  },
  {
   "cell_type": "markdown",
   "id": "589ea64a-8ec3-4f97-97f5-8104531fb68e",
   "metadata": {},
   "source": [
    "### count the number of missing lesions per image."
   ]
  },
  {
   "cell_type": "code",
   "execution_count": 46,
   "id": "039a4cd1-698a-45d8-b6f8-e91564764239",
   "metadata": {},
   "outputs": [],
   "source": [
    "from typing import Dict, Tuple\n",
    "\n",
    "import matplotlib.pyplot as plt\n",
    "import torch\n",
    "import torch.nn.functional as F\n",
    "import numpy as np\n",
    "import kornia as K\n",
    "\n",
    "def create_random_labels_map(classes: int) -> Dict[int, Tuple[int, int, int]]:\n",
    "    labels_map: Dict[int, Tuple[int, int, int]] = {}\n",
    "    for i in classes:\n",
    "        labels_map[i] = torch.randint(0, 255, (3, ))\n",
    "    labels_map[0] = torch.zeros(3)\n",
    "    return labels_map\n",
    "\n",
    "def labels_to_image(img_labels: torch.Tensor, labels_map: Dict[int, Tuple[int, int, int]]) -> torch.Tensor:\n",
    "    \"\"\"Function that given an image with labels ids and their pixels intrensity mapping, creates a RGB\n",
    "    representation for visualisation purposes.\"\"\"\n",
    "    assert len(img_labels.shape) == 2, img_labels.shape\n",
    "    H, W = img_labels.shape\n",
    "    out = torch.empty(3, H, W, dtype=torch.uint8)\n",
    "    for label_id, label_val in labels_map.items():\n",
    "        mask = (img_labels == label_id)\n",
    "        for i in range(3):\n",
    "            out[i].masked_fill_(mask, label_val[i])\n",
    "    return out\n",
    "\n",
    "def show_components(img, labels):\n",
    "    color_ids = torch.unique(labels)\n",
    "    labels_map = create_random_labels_map(color_ids)\n",
    "    labels_img = labels_to_image(labels, labels_map)\n",
    "\n",
    "    fig, (ax1, ax2) = plt.subplots(1, 2, figsize=(12,12))\n",
    "    \n",
    "    # Showing Original Image\n",
    "    ax1.imshow(img)\n",
    "    ax1.axis(\"off\")\n",
    "    ax1.set_title(\"Orginal Image\")\n",
    "    \n",
    "    #Showing Image after Component Labeling\n",
    "    ax2.imshow(labels_img.permute(1,2,0).squeeze().numpy())\n",
    "    ax2.axis('off')\n",
    "    ax2.set_title(\"Component Labeling\")"
   ]
  },
  {
   "cell_type": "code",
   "execution_count": 58,
   "id": "9bde99cd-d946-445b-8eb2-de0ff48a933c",
   "metadata": {},
   "outputs": [
    {
     "name": "stderr",
     "output_type": "stream",
     "text": [
      "100%|█████████████████████████████████████████████████████████████████████████████████████████████████████████████████| 40/40 [01:30<00:00,  2.25s/it]\n"
     ]
    }
   ],
   "source": [
    "ys = []\n",
    "conncomp_outs = []\n",
    "ents_out = []\n",
    "means_out = []\n",
    "with torch.no_grad():\n",
    "    for x, y in tqdm(val_dataloader, position=0, leave=True, ncols=150):\n",
    "        labels_out = K.contrib.connected_components(y.unsqueeze(1).type(torch.float32), num_iterations=150)\n",
    "        conncomp_outs.append(labels_out)\n",
    "        ys.append(y)\n",
    "\n",
    "        pred = model.cuda()(x.cuda())\n",
    "        samples = fixed_re_parametrization_trick(pred['distribution'], 14).cpu()\n",
    "        ents_out.append(entropy_map_from_samples(samples))\n",
    "        means_out.append(pred['logit_mean'].cpu())"
   ]
  },
  {
   "cell_type": "code",
   "execution_count": 59,
   "id": "a52811c3-2db8-45a9-9d07-9b3ca27faf2e",
   "metadata": {},
   "outputs": [
    {
     "name": "stderr",
     "output_type": "stream",
     "text": [
      "100%|█████████████████████████████████████████████████████████████████████████████████████████████████████████████████| 40/40 [00:28<00:00,  1.42it/s]\n"
     ]
    }
   ],
   "source": [
    "missing_lesion_size_ent = []\n",
    "existing_lesion_size_ent = []\n",
    "missing_lesion_size_mean = []\n",
    "existing_lesion_size_mean = []\n",
    "for batch in tqdm(range(len(ys)), position=0, leave=True, ncols=150):\n",
    "    for i in range(ys[batch].shape[0]):\n",
    "        conncomps = conncomp_outs[batch][i]\n",
    "        ent = ents_out[batch][i]\n",
    "        ent_thresh = (ent > 0.1).type(torch.long)\n",
    "        mean = means_out[batch][i].argmax(dim=0).type(torch.long)\n",
    "        \n",
    "        ids = conncomps.unique()[1:]\n",
    "        for idx in ids:\n",
    "            cc = (conncomps == idx)\n",
    "            size = torch.sum(cc)\n",
    "            if torch.max(mean * cc) > 0:\n",
    "                existing_lesion_size_mean.append(size)\n",
    "            else:\n",
    "                missing_lesion_size_mean.append(size)\n",
    "            \n",
    "            if torch.max(ent_thresh * cc) > 0:\n",
    "                existing_lesion_size_ent.append(size)\n",
    "            else:\n",
    "                missing_lesion_size_ent.append(size)"
   ]
  },
  {
   "cell_type": "code",
   "execution_count": 60,
   "id": "16147e5d-c645-4e7f-9b4e-813171be4d5e",
   "metadata": {},
   "outputs": [
    {
     "data": {
      "image/png": "[encoded data removed]",
      "text/plain": [
       "<Figure size 720x576 with 4 Axes>"
      ]
     },
     "metadata": {
      "needs_background": "light"
     },
     "output_type": "display_data"
    }
   ],
   "source": [
    "plt.figure(figsize=(10, 8))\n",
    "plt.subplot(2,2,1)\n",
    "plt.hist(existing_lesion_size_ent, bins=200);\n",
    "plt.xscale('log')\n",
    "plt.subplot(2,2,2)\n",
    "plt.hist(missing_lesion_size_ent, bins=200);\n",
    "plt.xscale('log')\n",
    "\n",
    "plt.subplot(2,2,3)\n",
    "plt.hist(existing_lesion_size_mean, bins=200);\n",
    "plt.xscale('log')\n",
    "plt.subplot(2,2,4)\n",
    "plt.hist(missing_lesion_size_mean, bins=200);\n",
    "plt.xscale('log')"
   ]
  },
  {
   "cell_type": "code",
   "execution_count": 61,
   "id": "93b20f0e-5d85-4d78-b7ca-414b52c09d38",
   "metadata": {},
   "outputs": [
    {
     "name": "stdout",
     "output_type": "stream",
     "text": [
      "means\n"
     ]
    },
    {
     "data": {
      "text/plain": [
       "(tensor(87.7525), tensor(8.4588), tensor(115.5365), tensor(9.4972))"
      ]
     },
     "execution_count": 61,
     "metadata": {},
     "output_type": "execute_result"
    }
   ],
   "source": [
    "print(\"means\")\n",
    "torch.Tensor(existing_lesion_size_ent).mean(), torch.Tensor(missing_lesion_size_ent).mean(), torch.Tensor(existing_lesion_size_mean).mean(), torch.Tensor(missing_lesion_size_mean).mean()"
   ]
  },
  {
   "cell_type": "code",
   "execution_count": 62,
   "id": "975ba421-21f5-4271-b120-8837cb61be8f",
   "metadata": {},
   "outputs": [],
   "source": [
    "def slice_dice(y_hat, y_true):\n",
    "    y_hat = torch.nn.functional.softmax(y_hat, dim=0).argmax(dim=0)\n",
    "    \n",
    "    if torch.sum(y_hat) == 0 and torch.sum(y_true) == 0:\n",
    "        return \"n/a\"\n",
    "    \n",
    "    numerator = torch.sum(2 * y_hat * y_true)\n",
    "    denominator = torch.sum(y_hat + y_true)\n",
    "    return numerator / (denominator + 1e-8)"
   ]
  },
  {
   "cell_type": "code",
   "execution_count": 63,
   "id": "c969de6a-44f5-4a8e-aae0-d2429fb00f20",
   "metadata": {},
   "outputs": [
    {
     "name": "stderr",
     "output_type": "stream",
     "text": [
      "100%|█████████████████████████████████████████████████████████████████████████████████████████████████████████████████| 40/40 [05:13<00:00,  7.83s/it]\n"
     ]
    }
   ],
   "source": [
    "slice_dices = []\n",
    "with torch.no_grad():\n",
    "    for x, y in tqdm(val_dataloader, position=0, ncols=150, leave=True):\n",
    "        pred = model.cuda()(x.cuda())\n",
    "        samples = fixed_re_parametrization_trick(pred['distribution'], 14).cpu()\n",
    "        \n",
    "        for i in range(y.shape[0]):\n",
    "            ind_dices = []\n",
    "            for s in samples[:,i]:\n",
    "                ind_dices.append(slice_dice(s, y[i]))\n",
    "            slice_dices.append(ind_dices)"
   ]
  },
  {
   "cell_type": "code",
   "execution_count": 64,
   "id": "676cd29f-a71b-4e95-bfa4-82054036680c",
   "metadata": {},
   "outputs": [],
   "source": [
    "# remove na images \n",
    "filtered_slice_dices = [x for x in slice_dices if 'n/a' not in x]"
   ]
  },
  {
   "cell_type": "code",
   "execution_count": 65,
   "id": "9a61bd84-ef07-4825-96a2-0d2beffc97cd",
   "metadata": {},
   "outputs": [],
   "source": [
    "means = [torch.mean(torch.Tensor(x)) for x in filtered_slice_dices]"
   ]
  },
  {
   "cell_type": "code",
   "execution_count": 66,
   "id": "6930fceb-027d-4b5d-8c1f-33ea1dcb1c3e",
   "metadata": {},
   "outputs": [],
   "source": [
    "inds = torch.Tensor(means).sort()[1]"
   ]
  },
  {
   "cell_type": "code",
   "execution_count": 67,
   "id": "7afe7a0d-4b7d-406d-a12e-45f5cd4a626f",
   "metadata": {},
   "outputs": [],
   "source": [
    "random_selection_inds = inds[torch.randint(0, len(inds), (200,)).sort()[0]]"
   ]
  },
  {
   "cell_type": "code",
   "execution_count": 68,
   "id": "d36492c1-97ce-4110-b5eb-f0c62652eb15",
   "metadata": {},
   "outputs": [
    {
     "data": {
      "image/png": "[encoded data removed]",
      "text/plain": [
       "<Figure size 2160x360 with 1 Axes>"
      ]
     },
     "metadata": {
      "needs_background": "light"
     },
     "output_type": "display_data"
    }
   ],
   "source": [
    "plt.figure(figsize=(30, 5))\n",
    "plt.boxplot(torch.Tensor(filtered_slice_dices)[random_selection_inds]);"
   ]
  },
  {
   "cell_type": "code",
   "execution_count": 69,
   "id": "61eebf58-d727-421e-b651-270fc4e94889",
   "metadata": {},
   "outputs": [],
   "source": [
    "x, y, = next(iter(val_dataloader))"
   ]
  },
  {
   "cell_type": "code",
   "execution_count": 70,
   "id": "8f1f30ff-a3e4-426a-b013-db23d1891e2f",
   "metadata": {},
   "outputs": [
    {
     "data": {
      "image/png": "[encoded data removed]",
      "text/plain": [
       "<Figure size 2160x3600 with 38 Axes>"
      ]
     },
     "metadata": {
      "needs_background": "light"
     },
     "output_type": "display_data"
    }
   ],
   "source": [
    "plt.figure(figsize=(30, 50))\n",
    "count = 0\n",
    "for i, img in enumerate(y):\n",
    "    if torch.sum(img) > 0:\n",
    "        plt.subplot(8, 8, count+1)\n",
    "        plt.imshow(img); plt.axis('off');\n",
    "        plt.title(i);\n",
    "        count += 1\n",
    "    "
   ]
  },
  {
   "cell_type": "markdown",
   "id": "b35ad58b-c258-44c0-aed5-8f3455380cb8",
   "metadata": {},
   "source": [
    "### look at calibrating the probability that a voxel is of class 1"
   ]
  },
  {
   "cell_type": "code",
   "execution_count": 71,
   "id": "fb017f9e-a3d9-4992-b79f-4a2208e9b60c",
   "metadata": {},
   "outputs": [],
   "source": [
    "from tqdm import tqdm"
   ]
  },
  {
   "cell_type": "code",
   "execution_count": 72,
   "id": "7c43de40-7d48-4531-b1bc-8c2da54c5f79",
   "metadata": {
    "tags": []
   },
   "outputs": [
    {
     "name": "stderr",
     "output_type": "stream",
     "text": [
      "100%|█████████████████████████████████████████████████████████████████████████████████████████████████████████████████| 40/40 [00:17<00:00,  2.26it/s]\n"
     ]
    }
   ],
   "source": [
    "results = []\n",
    "targets = []\n",
    "ent_maps = []\n",
    "dl = val_dataloader\n",
    "with torch.no_grad():\n",
    "    for x, y in tqdm(dl, total=len(dl), ncols=150, position=0, leave=True):\n",
    "        pred = model.cuda()(x.cuda())\n",
    "        samples = fixed_re_parametrization_trick(pred['distribution'], 14).cpu()\n",
    "        results.append(samples)\n",
    "        targets.append(y)\n",
    "        ent_maps.append(entropy_map_from_samples(samples))"
   ]
  },
  {
   "cell_type": "code",
   "execution_count": 73,
   "id": "4b000496-0c6f-4c56-a468-17f7d4bd1e10",
   "metadata": {},
   "outputs": [
    {
     "data": {
      "image/png": "[encoded data removed]",
      "text/plain": [
       "<Figure size 2160x756 with 30 Axes>"
      ]
     },
     "metadata": {
      "needs_background": "light"
     },
     "output_type": "display_data"
    }
   ],
   "source": [
    "rand_inds_a = torch.randint(0, len(targets), (15,))\n",
    "rand_inds_b = torch.randint(0, targets[0].shape[0], (15,))\n",
    "plt.figure(figsize=(30, 10.5))\n",
    "i = 0\n",
    "for (ind_a, ind_b) in (zip(rand_inds_a, rand_inds_b)):\n",
    "    plt.subplot(3, 10, i+1)\n",
    "    batch = ent_maps[ind_a.item()]\n",
    "    ind_b = ind_b.item()\n",
    "    if batch.shape[0] <= ind_b:\n",
    "        ind_b = batch.shape[0] - 1\n",
    "    plt.imshow(batch[ind_b], cmap='viridis', vmin=0, vmax=0.7)\n",
    "    plt.axis('off')\n",
    "    \n",
    "    plt.subplot(3, 10, i+2)\n",
    "    plt.imshow(targets[ind_a][ind_b], cmap='gray')\n",
    "    plt.axis('off')\n",
    "    i += 2"
   ]
  },
  {
   "cell_type": "code",
   "execution_count": 74,
   "id": "7614e73d-2ff8-4f20-8d78-3f7707aea6df",
   "metadata": {},
   "outputs": [
    {
     "data": {
      "text/plain": [
       "(tensor(15), tensor(19))"
      ]
     },
     "execution_count": 74,
     "metadata": {},
     "output_type": "execute_result"
    }
   ],
   "source": [
    "rand_inds_a[6], rand_inds_b[6]"
   ]
  },
  {
   "cell_type": "code",
   "execution_count": 75,
   "id": "d18eab7e-e831-4648-836b-ec4994e462b0",
   "metadata": {},
   "outputs": [],
   "source": [
    "def place_in_bin(value):\n",
    "    return torch.round(value, decimals=1)"
   ]
  },
  {
   "cell_type": "code",
   "execution_count": 76,
   "id": "3a1ba546-bc0e-42c4-9040-13ec8b229ef5",
   "metadata": {},
   "outputs": [],
   "source": [
    "def rolling_average(value, n, G):\n",
    "    return value / n + ((n-1) / n) * G\n",
    "\n",
    "def batch_rolling_average(values, n, G):\n",
    "    \"\"\"\n",
    "    assumes all batches but the last batch are the same size\n",
    "    \"\"\"\n",
    "    return values.sum() / (values.shape[0]*n) + ((n-1) / n) * G"
   ]
  },
  {
   "cell_type": "code",
   "execution_count": 77,
   "id": "3bd9fcbe-2f2b-48bd-aa26-f36bbdc7605a",
   "metadata": {},
   "outputs": [
    {
     "name": "stderr",
     "output_type": "stream",
     "text": [
      "100%|█████████████████████████████████████████████████████████████████████████████████████████████████████████████████| 40/40 [01:19<00:00,  1.99s/it]\n"
     ]
    }
   ],
   "source": [
    "# assess bin counts of p y = 1\n",
    "bins = 10 + 1 # for the 0 bin\n",
    "bin_batch_accuracies = [[] for b in range(bins)]\n",
    "bin_batch_confidences = [[] for b in range(bins)]\n",
    "bin_batch_sizes = [[] for b in range(bins)]\n",
    "bin_counts = [0 for b in range(bins)]\n",
    "for batch_idx in tqdm(range(len(targets)), ncols=150, position=0, leave=True): # skip the last batch with a different shape\n",
    "    batch_t = targets[batch_idx]\n",
    "    batch_samples = results[batch_idx]\n",
    "    \n",
    "    if batch_t.shape[0] < 10:\n",
    "        continue # skip last batch if it is very small.\n",
    "    \n",
    "    # get probabilities\n",
    "    probs = torch.nn.functional.softmax(batch_samples, dim=2)\n",
    "    p1s = probs[:,:,1]\n",
    "    \n",
    "    # split into bins\n",
    "    bin_ids = place_in_bin(p1s)\n",
    "    \n",
    "    # compute counts\n",
    "    for i in range(bins):\n",
    "        is_in_bin = (bin_ids == (i / 10))\n",
    "        # print(is_in_bin.shape)\n",
    "        # print(batch_t.shape)\n",
    "        \n",
    "        # number of elements in each bin\n",
    "        num_elem = torch.sum(is_in_bin).item()\n",
    "        if num_elem == 0:\n",
    "            print(\"zero\")\n",
    "        \n",
    "        # number of predictions = to class 1\n",
    "        c1_acc = batch_t.expand(p1s.shape)[is_in_bin].sum() / num_elem\n",
    "        \n",
    "        if torch.isnan(c1_acc):\n",
    "            print(\"acc_nan\")\n",
    "        \n",
    "        # average confidence of values in that bin\n",
    "        c1_conf = p1s[is_in_bin].mean()\n",
    "        \n",
    "        if torch.isnan(c1_conf):\n",
    "            print(\"conf_nan\")\n",
    "        \n",
    "        bin_batch_accuracies[i].append(c1_acc)\n",
    "        bin_batch_confidences[i].append(c1_conf)\n",
    "        bin_batch_sizes[i].append(num_elem)"
   ]
  },
  {
   "cell_type": "code",
   "execution_count": 78,
   "id": "0d580854-cf8c-47bc-810e-637342b39158",
   "metadata": {},
   "outputs": [],
   "source": [
    "bin_sizes = [torch.Tensor(bbs).sum() for bbs in bin_batch_sizes]\n",
    "bin_accuracies = [torch.Tensor([bin_batch_accuracies[i][j] * bin_batch_sizes[i][j] / bin_sizes[i] for j in range(len(bin_batch_accuracies[i]))]).sum().item() for i in range(len(bin_sizes))]\n",
    "bin_confidences = [torch.Tensor([bin_batch_confidences[i][j] * bin_batch_sizes[i][j] / bin_sizes[i] for j in range(len(bin_batch_confidences[i]))]).sum().item() for i in range(len(bin_sizes))]\n"
   ]
  },
  {
   "cell_type": "code",
   "execution_count": 79,
   "id": "4dca9c53-ebc8-41ce-b10f-8b755f74bae4",
   "metadata": {},
   "outputs": [
    {
     "data": {
      "text/plain": [
       "[0.0006396633689291775,\n",
       " 0.08780089020729065,\n",
       " 0.14882098138332367,\n",
       " 0.19604423642158508,\n",
       " 0.24134577810764313,\n",
       " 0.28752079606056213,\n",
       " 0.3372385799884796,\n",
       " 0.3938876688480377,\n",
       " 0.46793732047080994,\n",
       " 0.5898060202598572,\n",
       " 0.8590406775474548]"
      ]
     },
     "execution_count": 79,
     "metadata": {},
     "output_type": "execute_result"
    }
   ],
   "source": [
    "bin_accuracies"
   ]
  },
  {
   "cell_type": "code",
   "execution_count": 80,
   "id": "ef780d49-9ee8-485c-87cc-c08f4ad0d768",
   "metadata": {},
   "outputs": [
    {
     "data": {
      "text/plain": [
       "[0.0002828305005095899,\n",
       " 0.08949650824069977,\n",
       " 0.19568957388401031,\n",
       " 0.2976134717464447,\n",
       " 0.3986189663410187,\n",
       " 0.4994047284126282,\n",
       " 0.600031316280365,\n",
       " 0.7009597420692444,\n",
       " 0.8023710250854492,\n",
       " 0.9067422151565552,\n",
       " 0.9893227815628052]"
      ]
     },
     "execution_count": 80,
     "metadata": {},
     "output_type": "execute_result"
    }
   ],
   "source": [
    "bin_confidences"
   ]
  },
  {
   "cell_type": "code",
   "execution_count": 81,
   "id": "1f8714bc-6f0d-4701-8135-3f0a64e3f6b9",
   "metadata": {},
   "outputs": [
    {
     "data": {
      "text/plain": [
       "'\\nlooking at just the class one calibration is useful due to the extreme lack of class 1 in the image, this gives us a better idea of how the model is doing\\nand when optimizing calibration I should be optimizing this.\\n'"
      ]
     },
     "execution_count": 81,
     "metadata": {},
     "output_type": "execute_result"
    }
   ],
   "source": [
    "\"\"\"\n",
    "looking at just the class one calibration is useful due to the extreme lack of class 1 in the image, this gives us a better idea of how the model is doing\n",
    "and when optimizing calibration I should be optimizing this.\n",
    "\"\"\""
   ]
  },
  {
   "cell_type": "code",
   "execution_count": 82,
   "id": "4b2f0263-7a50-4ab8-a6e7-4319b80dfd29",
   "metadata": {},
   "outputs": [
    {
     "data": {
      "image/png": "[encoded data removed]",
      "text/plain": [
       "<Figure size 432x288 with 1 Axes>"
      ]
     },
     "metadata": {
      "needs_background": "light"
     },
     "output_type": "display_data"
    }
   ],
   "source": [
    "plt.plot(bin_confidences, bin_accuracies)\n",
    "plt.plot([0,1],[0,1]);"
   ]
  },
  {
   "cell_type": "code",
   "execution_count": 83,
   "id": "72d295a1-8a77-4055-9e20-25fd89a49aff",
   "metadata": {},
   "outputs": [],
   "source": [
    "exd = batch_t.expand(p1s.shape)"
   ]
  },
  {
   "cell_type": "code",
   "execution_count": 84,
   "id": "dd42f9e9-04e3-4d3f-a93b-58c709cb47de",
   "metadata": {},
   "outputs": [
    {
     "data": {
      "image/png": "[encoded data removed]",
      "text/plain": [
       "<Figure size 432x288 with 1 Axes>"
      ]
     },
     "metadata": {
      "needs_background": "light"
     },
     "output_type": "display_data"
    }
   ],
   "source": [
    "plt.bar([i for i in range(bins)], torch.Tensor(bin_sizes), align='center')\n",
    "plt.yscale(\"log\")"
   ]
  },
  {
   "cell_type": "code",
   "execution_count": 85,
   "id": "246543d4-dc77-422a-a0aa-a8f6073b6b10",
   "metadata": {},
   "outputs": [
    {
     "name": "stderr",
     "output_type": "stream",
     "text": [
      "100%|█████████████████████████████████████████████████████████████████████████████████████████████████████████████████| 40/40 [06:32<00:00,  9.80s/it]\n"
     ]
    }
   ],
   "source": [
    "# now assess true calibration\n",
    "bins = 10 + 1 # for the 0 bin\n",
    "bin_batch_accuracies = [[] for b in range(bins)]\n",
    "bin_batch_confidences = [[] for b in range(bins)]\n",
    "bin_batch_sizes = [[] for b in range(bins)]\n",
    "bin_counts = [0 for b in range(bins)]\n",
    "for batch_idx in tqdm(range(len(targets)), ncols=150, position=0, leave=True): # skip the last batch with a different shape\n",
    "    batch_t = targets[batch_idx]\n",
    "    batch_samples = results[batch_idx]\n",
    "    \n",
    "    if batch_t.shape[0] < 10:\n",
    "        continue # skip last batch if it is very small.\n",
    "    \n",
    "    # get probabilities\n",
    "    probs = torch.nn.functional.softmax(batch_samples, dim=2)\n",
    "    pred_classes = probs.argmax(dim=2)\n",
    "    confidences = probs.max(dim=2)[0]\n",
    "    \n",
    "    # split into bins\n",
    "    bin_ids = place_in_bin(confidences)\n",
    "    \n",
    "    # compute counts\n",
    "    for i in range(bins):\n",
    "        is_in_bin = (bin_ids == (i / 10))\n",
    "        # print(is_in_bin.shape)\n",
    "        # print(batch_t.shape)\n",
    "        \n",
    "        # number of elements in each bin\n",
    "        num_elem = torch.sum(is_in_bin).item()\n",
    "        \n",
    "        # number of predictions = to class 1\n",
    "        c1_acc = (batch_t.expand(pred_classes.shape)[is_in_bin] == pred_classes[is_in_bin]).sum() / num_elem\n",
    "        \n",
    "        # average confidence of values in that bin\n",
    "        c1_conf = confidences[is_in_bin].mean()\n",
    "        \n",
    "        bin_batch_accuracies[i].append(c1_acc)\n",
    "        bin_batch_confidences[i].append(c1_conf)\n",
    "        bin_batch_sizes[i].append(num_elem)\n",
    "    # "
   ]
  },
  {
   "cell_type": "code",
   "execution_count": 86,
   "id": "39625456-c941-403a-b0cc-96bded2b7176",
   "metadata": {},
   "outputs": [],
   "source": [
    "bin_sizes = [torch.Tensor(bbs).sum() for bbs in bin_batch_sizes]\n",
    "bin_accuracies = [torch.Tensor([bin_batch_accuracies[i][j] * bin_batch_sizes[i][j] / bin_sizes[i] for j in range(len(bin_batch_accuracies[i]))]).sum().item() for i in range(len(bin_sizes))]\n",
    "bin_confidences = [torch.Tensor([bin_batch_confidences[i][j] * bin_batch_sizes[i][j] / bin_sizes[i] for j in range(len(bin_batch_confidences[i]))]).sum().item() for i in range(len(bin_sizes))]"
   ]
  },
  {
   "cell_type": "code",
   "execution_count": 87,
   "id": "cbc4e157-69d2-4d35-b01a-17c20164266c",
   "metadata": {},
   "outputs": [
    {
     "data": {
      "text/plain": [
       "[<matplotlib.lines.Line2D at 0x7fbe280a0b20>]"
      ]
     },
     "execution_count": 87,
     "metadata": {},
     "output_type": "execute_result"
    },
    {
     "data": {
      "image/png": "[encoded data removed]",
      "text/plain": [
       "<Figure size 432x288 with 1 Axes>"
      ]
     },
     "metadata": {
      "needs_background": "light"
     },
     "output_type": "display_data"
    }
   ],
   "source": [
    "plt.plot(bin_confidences, bin_accuracies)\n",
    "plt.plot([0,1],[0,1])"
   ]
  },
  {
   "cell_type": "code",
   "execution_count": 88,
   "id": "81b87c9d-8581-46c6-9975-faac5a8ea9e7",
   "metadata": {},
   "outputs": [
    {
     "data": {
      "image/png": "[encoded data removed]",
      "text/plain": [
       "<Figure size 432x288 with 1 Axes>"
      ]
     },
     "metadata": {
      "needs_background": "light"
     },
     "output_type": "display_data"
    }
   ],
   "source": [
    "plt.bar([i for i in range(bins)], torch.Tensor(bin_sizes), align='center')\n",
    "plt.yscale(\"log\")"
   ]
  },
  {
   "cell_type": "markdown",
   "id": "5da9b257-65fa-4076-b137-b0df4fc52742",
   "metadata": {},
   "source": [
    "### Compute the PavPU metrics cause I'm not convinced my previous code in original ssn notebook was incorrect."
   ]
  },
  {
   "cell_type": "code",
   "execution_count": null,
   "id": "fac241da-9f68-4804-b557-851147b7dd2a",
   "metadata": {},
   "outputs": [
    {
     "name": "stderr",
     "output_type": "stream",
     "text": [
      " 30%|█████████████████████████████████▉                                                                               | 12/40 [01:47<04:47, 10.26s/it]"
     ]
    }
   ],
   "source": [
    "# I am going to do it per patch, but take the average accuracy per patch (perhaps I should qc average dice as well, best dice, worst dice.\n",
    "uncetainty_thresholds = torch.arange(0, 0.7, 0.01)\n",
    "accuracy_threshold = 0.9\n",
    "window = 8\n",
    "stride = 8\n",
    "n_acs = [[] for i in range(len(uncetainty_thresholds))]\n",
    "n_aus = [[] for i in range(len(uncetainty_thresholds))]\n",
    "n_ics = [[] for i in range(len(uncetainty_thresholds))]\n",
    "n_ius = [[] for i in range(len(uncetainty_thresholds))]\n",
    "\n",
    "for batch_idx in tqdm(range(len(targets)), ncols=150, position=0, leave=True): # skip the last batch with a different shape\n",
    "    batch_t = targets[batch_idx]\n",
    "    batch_samples = results[batch_idx]\n",
    "    ent = ent_maps[batch_idx]\n",
    "    \n",
    "    # get probabilities\n",
    "    probs = torch.nn.functional.softmax(batch_samples, dim=2)\n",
    "    pred_classes = probs.argmax(dim=2)\n",
    "    confidences = probs.max(dim=2)[0]\n",
    "    \n",
    "    # get average accuracy of each sample\n",
    "    # or I could treat each patch of each sample as a separate thing but that is not what I am doing here.\n",
    "    avg_accuracy = ((batch_t.expand(pred_classes.shape) == pred_classes) * 1.).mean(dim=0)\n",
    "    \n",
    "    # unroll predictions and targets and entropy\n",
    "    t_unrolled = batch_t.unfold(-2, window, stride).unfold(-1, window, stride).reshape(-1, window, window)\n",
    "    accuracy_unrolled = avg_accuracy.unfold(-2, window, stride).unfold(-1, window, stride).reshape(-1, window, window)\n",
    "    ent_unrolled = ent.unfold(-2, window, stride).unfold(-1, window, stride).reshape(-1, window, window)\n",
    "    \n",
    "    accurate_patches = accuracy_unrolled > 0.9\n",
    "    \n",
    "    # for each uncertainty threshold, compute the 4 numbers\n",
    "    for i, uncert_t in enumerate(uncetainty_thresholds):\n",
    "        uncertain_patches = ent_unrolled > uncert_t\n",
    "        \n",
    "        n_acs[i].append(torch.sum(torch.logical_and(accurate_patches, ~uncertain_patches)))\n",
    "        n_aus[i].append(torch.sum(torch.logical_and(accurate_patches, uncertain_patches)))\n",
    "        n_ics[i].append(torch.sum(torch.logical_and(~accurate_patches, ~uncertain_patches)))\n",
    "        n_ius[i].append(torch.sum(torch.logical_and(~accurate_patches, uncertain_patches)))\n",
    "        "
   ]
  },
  {
   "cell_type": "code",
   "execution_count": null,
   "id": "47cab67a-0791-49ec-b0be-e0e9bb2aea1b",
   "metadata": {},
   "outputs": [],
   "source": [
    "n_acs_t = [torch.Tensor(n_acs[i]).sum() for i in range(len(uncetainty_thresholds))]\n",
    "n_aus_t = [torch.Tensor(n_aus[i]).sum() for i in range(len(uncetainty_thresholds))]\n",
    "n_ics_t = [torch.Tensor(n_ics[i]).sum() for i in range(len(uncetainty_thresholds))]\n",
    "n_ius_t = [torch.Tensor(n_ius[i]).sum() for i in range(len(uncetainty_thresholds))]"
   ]
  },
  {
   "cell_type": "code",
   "execution_count": null,
   "id": "e6514d6e-4d2b-4b6f-bb1b-8dcf76a179a6",
   "metadata": {},
   "outputs": [],
   "source": [
    "p_acs = [n_acs_t[i] / (n_acs_t[i] + n_ics_t[i]) for i in range(len(uncetainty_thresholds))]\n",
    "p_aus = [n_ius_t[i] / (n_ius_t[i] + n_ics_t[i]) for i in range(len(uncetainty_thresholds))]\n",
    "pavpu = [(n_acs_t[i] + n_ius_t[i]) / (n_ius_t[i] + n_ics_t[i] + n_aus_t[i] + n_acs_t[i]) for i in range(len(uncetainty_thresholds))]"
   ]
  },
  {
   "cell_type": "code",
   "execution_count": null,
   "id": "16979045-4be9-48f7-856d-855c9df62b16",
   "metadata": {},
   "outputs": [],
   "source": [
    "plt.figure(figsize=(15,3))\n",
    "plt.subplot(1,3,1)\n",
    "plt.plot(uncetainty_thresholds, p_acs)\n",
    "plt.subplot(1,3,2)\n",
    "plt.plot(uncetainty_thresholds, p_aus)\n",
    "plt.subplot(1,3,3)\n",
    "plt.plot(uncetainty_thresholds, pavpu)"
   ]
  },
  {
   "cell_type": "markdown",
   "id": "2a025681-df92-4d53-ab17-76966c93879e",
   "metadata": {},
   "source": [
    "### Trying again to look at per slice dice and quality control in 2d"
   ]
  },
  {
   "cell_type": "code",
   "execution_count": null,
   "id": "4c27f9ae-b3c4-4c51-8c6c-d53672e576dc",
   "metadata": {},
   "outputs": [],
   "source": []
  }
 ],
 "metadata": {
  "kernelspec": {
   "display_name": "Python 3 (ipykernel)",
   "language": "python",
   "name": "python3"
  },
  "language_info": {
   "codemirror_mode": {
    "name": "ipython",
    "version": 3
   },
   "file_extension": ".py",
   "mimetype": "text/x-python",
   "name": "python",
   "nbconvert_exporter": "python",
   "pygments_lexer": "ipython3",
   "version": "3.9.12"
  }
 },
 "nbformat": 4,
 "nbformat_minor": 5
}
