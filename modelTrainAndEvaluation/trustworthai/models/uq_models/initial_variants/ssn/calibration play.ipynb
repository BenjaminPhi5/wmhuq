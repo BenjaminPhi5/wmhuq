{
 "cells": [
  {
   "cell_type": "markdown",
   "id": "b746fd98-a46f-409a-9d0c-163491c271ed",
   "metadata": {},
   "source": [
    "### Play about with calibration stuff"
   ]
  },
  {
   "cell_type": "code",
   "execution_count": 1,
   "id": "8a99284b-2558-43a7-84ad-aac6b42b474c",
   "metadata": {},
   "outputs": [],
   "source": [
    "import numpy as np\n",
    "import torch\n",
    "import torch.distributions as td"
   ]
  },
  {
   "cell_type": "code",
   "execution_count": 6,
   "id": "e06eab63-5397-4e1f-a74c-e932ff606c8a",
   "metadata": {},
   "outputs": [],
   "source": [
    "locs = torch.Tensor([2.5, 3.5, 3, 1.9, 4.2])\n",
    "cov = torch.randn(5, 5)\n",
    "cov = cov @ cov.T"
   ]
  },
  {
   "cell_type": "code",
   "execution_count": 7,
   "id": "aaea3565-96cf-4992-ada1-696b3c359734",
   "metadata": {},
   "outputs": [],
   "source": [
    "dist = td.MultivariateNormal(locs, cov)"
   ]
  },
  {
   "cell_type": "code",
   "execution_count": 20,
   "id": "43875971-2be3-4def-9fef-4ddab9c10a46",
   "metadata": {},
   "outputs": [],
   "source": [
    "samples = dist.sample((10,))\n",
    "probs = torch.nn.functional.softmax(samples, dim=1)\n",
    "low_temp_probs = torch.nn.functional.softmax(samples/0.5, dim=1)"
   ]
  },
  {
   "cell_type": "code",
   "execution_count": 22,
   "id": "b498be9a-d9b2-47a1-99ab-77995b85bcbc",
   "metadata": {},
   "outputs": [
    {
     "data": {
      "text/plain": [
       "tensor([1, 1, 1, 4, 1, 2, 4, 2, 4, 4])"
      ]
     },
     "execution_count": 22,
     "metadata": {},
     "output_type": "execute_result"
    }
   ],
   "source": [
    "torch.argmax(probs, dim=1)"
   ]
  },
  {
   "cell_type": "code",
   "execution_count": 23,
   "id": "ba21ec46-d88f-4cb0-91ea-250d17925fd6",
   "metadata": {},
   "outputs": [
    {
     "data": {
      "text/plain": [
       "tensor([1, 1, 1, 4, 1, 2, 4, 2, 4, 4])"
      ]
     },
     "execution_count": 23,
     "metadata": {},
     "output_type": "execute_result"
    }
   ],
   "source": [
    "torch.argmax(low_temp_probs, dim=1)"
   ]
  },
  {
   "cell_type": "code",
   "execution_count": null,
   "id": "a45c6bce-a9f9-4199-874b-07e9092966a2",
   "metadata": {},
   "outputs": [],
   "source": []
  }
 ],
 "metadata": {
  "kernelspec": {
   "display_name": "Python 3 (ipykernel)",
   "language": "python",
   "name": "python3"
  },
  "language_info": {
   "codemirror_mode": {
    "name": "ipython",
    "version": 3
   },
   "file_extension": ".py",
   "mimetype": "text/x-python",
   "name": "python",
   "nbconvert_exporter": "python",
   "pygments_lexer": "ipython3",
   "version": "3.9.12"
  }
 },
 "nbformat": 4,
 "nbformat_minor": 5
}
