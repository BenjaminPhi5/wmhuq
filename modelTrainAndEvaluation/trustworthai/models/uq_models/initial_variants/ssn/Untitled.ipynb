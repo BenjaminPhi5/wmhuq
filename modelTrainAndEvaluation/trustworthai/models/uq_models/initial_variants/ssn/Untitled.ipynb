{
 "cells": [
  {
   "cell_type": "code",
   "execution_count": 6,
   "id": "683fa038-4fe9-467a-bf4c-170e11392f35",
   "metadata": {},
   "outputs": [],
   "source": [
    "import torch\n",
    "import torch.distributions as td"
   ]
  },
  {
   "cell_type": "code",
   "execution_count": 36,
   "id": "a6218177-db4b-40c1-90f3-62fe646ef4f1",
   "metadata": {},
   "outputs": [],
   "source": [
    "z = torch.rand(10, 3)\n",
    "d = torch.rand((10,)).exp() + 1e-3"
   ]
  },
  {
   "cell_type": "code",
   "execution_count": 25,
   "id": "98bea953-9eaa-49c0-84e2-aad7e91399af",
   "metadata": {},
   "outputs": [],
   "source": [
    "cov = (z @ z.T) + d"
   ]
  },
  {
   "cell_type": "code",
   "execution_count": 37,
   "id": "da10a772-fba5-4801-b8a2-eff6663d93b4",
   "metadata": {},
   "outputs": [],
   "source": [
    "dist = td.LowRankMultivariateNormal(loc=torch.zeros((10,)), cov_factor=z, cov_diag=d)"
   ]
  },
  {
   "cell_type": "code",
   "execution_count": 38,
   "id": "40b5d877-903d-4025-b0ce-d20436a5de3d",
   "metadata": {},
   "outputs": [
    {
     "data": {
      "text/plain": [
       "tensor([ 3.1603, -0.9143, -2.0153, -1.1000, -0.2163, -0.9781, -1.5545, -1.6088,\n",
       "         0.5783,  0.2317])"
      ]
     },
     "execution_count": 38,
     "metadata": {},
     "output_type": "execute_result"
    }
   ],
   "source": [
    "dist.sample()"
   ]
  },
  {
   "cell_type": "code",
   "execution_count": 39,
   "id": "bfa49cbb-ba9c-4ce2-8896-8b0c9338f94f",
   "metadata": {},
   "outputs": [
    {
     "data": {
      "text/plain": [
       "tensor(10)"
      ]
     },
     "execution_count": 39,
     "metadata": {},
     "output_type": "execute_result"
    }
   ],
   "source": [
    "torch.linalg.matrix_rank(dist.covariance_matrix)"
   ]
  },
  {
   "cell_type": "code",
   "execution_count": null,
   "id": "4d983c74-bc65-4fd8-be62-cd1a73da0dfe",
   "metadata": {},
   "outputs": [],
   "source": []
  }
 ],
 "metadata": {
  "kernelspec": {
   "display_name": "Python 3 (ipykernel)",
   "language": "python",
   "name": "python3"
  },
  "language_info": {
   "codemirror_mode": {
    "name": "ipython",
    "version": 3
   },
   "file_extension": ".py",
   "mimetype": "text/x-python",
   "name": "python",
   "nbconvert_exporter": "python",
   "pygments_lexer": "ipython3",
   "version": "3.9.12"
  }
 },
 "nbformat": 4,
 "nbformat_minor": 5
}
