{
 "cells": [
  {
   "cell_type": "code",
   "execution_count": 1,
   "id": "9a0f17b7-2d77-4cff-b5a1-9e65edeb869e",
   "metadata": {},
   "outputs": [
    {
     "name": "stdout",
     "output_type": "stream",
     "text": [
      "strawberry\n"
     ]
    }
   ],
   "source": [
    "print(\"strawberry\")"
   ]
  },
  {
   "cell_type": "code",
   "execution_count": null,
   "id": "c30a30ac-ab1c-47fd-b725-1e8719756516",
   "metadata": {},
   "outputs": [],
   "source": [
    "import torch\n",
    "import numpy as np\n",
    "\n",
    "# dataset\n",
    "from twaidata.torchdatasets.in_ram_ds import MRISegmentation2DDataset, MRISegmentation3DDataset\n",
    "from torch.utils.data import DataLoader, random_split, ConcatDataset\n",
    "\n",
    "# model\n",
    "from trustworthai.models.uq_models.initial_variants.HyperMapp3r_deterministic import HyperMapp3r\n",
    "from trustworthai.models.uq_models.initial_variants.HyperMapp3r_DDU import HyperMapp3rDDU\n",
    "from trustworthai.models.uq_models.initial_variants.HyperMapp3r_SSN import HyperMapp3rSSN\n",
    "\n",
    "\n",
    "# augmentation and pretrain processing\n",
    "from trustworthai.utils.augmentation.standard_transforms import RandomFlip, GaussianBlur, GaussianNoise, \\\n",
    "                                                            RandomResizeCrop, RandomAffine, \\\n",
    "                                                            NormalizeImg, PairedCompose, LabelSelect, \\\n",
    "                                                            PairedCentreCrop, CropZDim\n",
    "# loss function\n",
    "from trustworthai.utils.losses_and_metrics.per_individual_losses import (\n",
    "    dice_loss,\n",
    "    log_cosh_dice_loss,\n",
    "    TverskyLoss,\n",
    "    FocalTverskyLoss,\n",
    "    DiceLossMetric\n",
    ")\n",
    "from torch.nn import BCELoss, MSELoss, BCEWithLogitsLoss\n",
    "\n",
    "# fitter\n",
    "from trustworthai.utils.fitting_and_inference.fitters.basic_lightning_fitter import StandardLitModelWrapper\n",
    "from pytorch_lightning.callbacks.early_stopping import EarlyStopping\n",
    "from pytorch_lightning.callbacks.model_checkpoint import ModelCheckpoint\n",
    "import pytorch_lightning as pl\n",
    "\n",
    "# misc\n",
    "import os\n",
    "import torch\n",
    "import matplotlib.pyplot as plt\n",
    "import torch\n",
    "from torchinfo import summary"
   ]
  },
  {
   "cell_type": "markdown",
   "id": "fb0e3f18-0236-4cf8-8e26-e76661200c01",
   "metadata": {},
   "source": [
    "### Set the seed"
   ]
  },
  {
   "cell_type": "code",
   "execution_count": null,
   "id": "a450935a-a087-4b81-816b-cd4397db8680",
   "metadata": {},
   "outputs": [],
   "source": [
    "seed = 3407\n",
    "torch.manual_seed(seed)\n",
    "torch.cuda.manual_seed_all(seed)"
   ]
  },
  {
   "cell_type": "markdown",
   "id": "7cfd568d-9fc6-4868-9d4a-617163ae6e9e",
   "metadata": {},
   "source": [
    "### define datasets and dataloaders"
   ]
  },
  {
   "cell_type": "code",
   "execution_count": null,
   "id": "401f9272-0a3b-4670-8880-82f04714d436",
   "metadata": {},
   "outputs": [],
   "source": [
    "is3D = False"
   ]
  },
  {
   "cell_type": "code",
   "execution_count": null,
   "id": "91099153-5471-4603-8d5e-f8079445aea1",
   "metadata": {},
   "outputs": [],
   "source": [
    "#root_dir = \"/disk/scratch/s2208943/ipdis/preprep/out_data/collated/\"\n",
    "root_dir = \"/media/benp/NVMEspare/datasets/preprocessing_attempts/local_results/collated/\"\n",
    "wmh_dir = root_dir + \"WMH_challenge_dataset/\"\n",
    "ed_dir = root_dir + \"EdData/\""
   ]
  },
  {
   "cell_type": "code",
   "execution_count": null,
   "id": "74c6f9d9-dd1d-411f-a85b-26a3d82cc48a",
   "metadata": {},
   "outputs": [],
   "source": [
    "# domains = [\n",
    "#             wmh_dir + d for d in [\"Singapore\", \"Utrecht\", \"GE3T\"]\n",
    "#           ]\n",
    "\n",
    "# domains = [\n",
    "#             wmh_dir + d for d in [\"Singapore\", \"Utrecht\", \"GE3T\"]\n",
    "#           ] + [\n",
    "#             ed_dir + d for d in [\"domainA\", \"domainB\", \"domainC\", \"domainD\"]\n",
    "#           ]\n",
    "\n",
    "\n",
    "domains = [\n",
    "            ed_dir + d for d in [\"domainA\", \"domainB\", \"domainC\", \"domainD\"]\n",
    "          ]"
   ]
  },
  {
   "cell_type": "code",
   "execution_count": null,
   "id": "d6c807e6-40f1-48bc-aed7-d395b569b138",
   "metadata": {},
   "outputs": [],
   "source": [
    "# augmentation definintion\n",
    "def get_transforms(is_3D):\n",
    "    transforms = [\n",
    "        LabelSelect(label_id=1),\n",
    "        RandomFlip(p=0.5, orientation=\"horizontal\"),\n",
    "        # GaussianBlur(p=0.5, kernel_size=7, sigma=(.1, 1.5)),\n",
    "        # GaussianNoise(p=0.2, mean=0, sigma=0.2),\n",
    "        # RandomAffine(p=0.2, shear=(.1,3.)),\n",
    "        # RandomAffine(p=0.2, degrees=5),\n",
    "        #RandomResizeCrop(p=1., scale=(0.6, 1.), ratio=(3./4., 4./3.))\n",
    "        RandomResizeCrop(p=1., scale=(0.3, 0.5), ratio=(3./4., 4./3.)) # ssn\n",
    "    ]\n",
    "    if not is_3D:\n",
    "        transforms.append(lambda x, y: (x, y.squeeze().type(torch.long)))\n",
    "        return PairedCompose(transforms)\n",
    "    else:\n",
    "        transforms.append(CropZDim(size=32, minimum=0, maximum=-1))\n",
    "        transforms.append(lambda x, y: (x, y.squeeze().type(torch.long)))\n",
    "        return PairedCompose(transforms)"
   ]
  },
  {
   "cell_type": "code",
   "execution_count": null,
   "id": "e417fb72-4419-456d-b5ce-e14f0591651a",
   "metadata": {},
   "outputs": [],
   "source": [
    "# function to do train validate test split\n",
    "test_proportion = 0.1\n",
    "validation_proportion = 0.2\n",
    "\n",
    "def train_val_test_split(dataset, val_prop, test_prop, seed):\n",
    "    # I think the sklearn version might be prefereable for determinism and things\n",
    "    # but that involves fiddling with the dataset implementation I think....\n",
    "    size = len(dataset)\n",
    "    test_size = int(test_prop*size) \n",
    "    val_size = int(val_prop*size)\n",
    "    train_size = size - val_size - test_size\n",
    "    train, val, test = random_split(dataset, [train_size, val_size, test_size], generator=torch.Generator().manual_seed(seed))\n",
    "    return train, val, test"
   ]
  },
  {
   "cell_type": "code",
   "execution_count": null,
   "id": "567c247d-2265-4012-bc80-a92b4f2adec3",
   "metadata": {},
   "outputs": [],
   "source": [
    "# load datasets\n",
    "# this step is quite slow, all the data is being loaded into memory\n",
    "if is3D:\n",
    "    datasets_domains = [MRISegmentation3DDataset(root_dir, domain, transforms=get_transforms(is_3D=True)) for domain in domains]\n",
    "else:\n",
    "    datasets_domains = [MRISegmentation2DDataset(root_dir, domain, transforms=get_transforms(is_3D=False)) for domain in domains]\n",
    "\n",
    "# split into train, val test datasets\n",
    "datasets = [train_val_test_split(dataset, validation_proportion, test_proportion, seed) for dataset in datasets_domains]\n",
    "\n",
    "# concat the train val test datsets\n",
    "train_dataset = ConcatDataset([ds[0] for ds in datasets])\n",
    "val_dataset = ConcatDataset([ds[1] for ds in datasets])\n",
    "test_dataset = ConcatDataset([ds[2] for ds in datasets])"
   ]
  },
  {
   "cell_type": "code",
   "execution_count": null,
   "id": "52f5844a-5c39-47ff-897e-ad36de855931",
   "metadata": {},
   "outputs": [],
   "source": [
    "len(train_dataset), len(val_dataset), len(test_dataset)"
   ]
  },
  {
   "cell_type": "code",
   "execution_count": null,
   "id": "abfe0f1c-3c76-4069-b698-d7dd2a9c67f2",
   "metadata": {
    "tags": []
   },
   "outputs": [],
   "source": [
    "# define dataloaders\n",
    "train_dataloader = DataLoader(train_dataset, batch_size=64, shuffle=True, num_workers=4)\n",
    "test_dataloader = DataLoader(test_dataset, batch_size = 16, shuffle=False, num_workers=4)\n",
    "val_dataloader = DataLoader(val_dataset, batch_size=64, shuffle=False, num_workers=4)"
   ]
  },
  {
   "cell_type": "code",
   "execution_count": null,
   "id": "d5114fd2-8651-4752-b7c6-1eda1459a9d6",
   "metadata": {},
   "outputs": [],
   "source": [
    "import torch\n",
    "import torch.nn as nn\n",
    "from trustworthai.models.uq_models.drop_UNet import normalization_layer\n",
    "import torch.nn.functional as F\n",
    "from trustworthai.models.uq_models.initial_variants.HyperMapp3r_deterministic import HyperMapp3r\n",
    "import torch.distributions as td\n",
    "from typing import Tuple\n",
    "\n",
    "\n",
    "def get_conv_func(dims, transpose=False):\n",
    "    # determine convolution func\n",
    "        if dims == 2:\n",
    "            if transpose:\n",
    "                return nn.ConvTranspose2d\n",
    "            else:\n",
    "                return nn.Conv2d\n",
    "        elif dims == 3:\n",
    "            if transpose:\n",
    "                return nn.ConvTranspose3d\n",
    "            else:\n",
    "                return nn.Conv3d\n",
    "        else:\n",
    "            raise ValueError(f\"values of dims of 2 or 3 (2D or 2D conv) are supported only, not {dims}\")\n",
    "            \n",
    "def get_dropout_func(dims):\n",
    "    if dims == 2:\n",
    "        return nn.Dropout2d\n",
    "    if dims == 3:\n",
    "        return nn.Dropout3d\n",
    "    else:\n",
    "        return nn.Dropout\n",
    "\n",
    "class ReshapedDistribution(td.Distribution):\n",
    "    def __init__(self, base_distribution: td.Distribution, new_event_shape: Tuple[int, ...]):\n",
    "        super().__init__(batch_shape=base_distribution.batch_shape, event_shape=new_event_shape, validate_args=False)\n",
    "        self.base_distribution = base_distribution\n",
    "        self.new_shape = base_distribution.batch_shape + new_event_shape\n",
    "        \n",
    "        #print(\"base distribution: \", self.base_distribution)\n",
    "\n",
    "    @property\n",
    "    def support(self):\n",
    "        return self.base_distribution.support\n",
    "\n",
    "    @property\n",
    "    def arg_constraints(self):\n",
    "        return self.base_distribution.arg_constraints()\n",
    "\n",
    "    @property\n",
    "    def mean(self):\n",
    "        return self.base_distribution.mean.view(self.new_shape)\n",
    "\n",
    "    @property\n",
    "    def variance(self):\n",
    "        return self.base_distribution.variance.view(self.new_shape)\n",
    "\n",
    "    def rsample(self, sample_shape=torch.Size()):\n",
    "        return self.base_distribution.rsample(sample_shape).view(sample_shape + self.new_shape)\n",
    "\n",
    "    def log_prob(self, value):\n",
    "        return self.base_distribution.log_prob(value.view(self.batch_shape + (-1,)))\n",
    "\n",
    "    def entropy(self):\n",
    "        return self.base_distribution.entropy()    \n",
    "    \n",
    "class HyperMapp3rSSN2(HyperMapp3r):\n",
    "    def __init__(self, dims=3,\n",
    "                 in_channels=3,\n",
    "                 out_channels=1,\n",
    "                 encoder_features=[16, 32, 64, 128, 256],\n",
    "                 decoder_features=[128, 64, 32, 16],\n",
    "                 softmax=True,\n",
    "                 up_res_blocks=False,\n",
    "                 block_params={\n",
    "                     \"dropout_p\":0.1,\n",
    "                     \"norm_type\":\"in\", \n",
    "                     \"dropout_both_layers\":False,\n",
    "                 },\n",
    "                 ssn_rank = 10,\n",
    "                 ssn_epsilon=1e-5,\n",
    "                 ssn_diagonal=False\n",
    "                ):\n",
    "        super().__init__(dims=dims,\n",
    "                 in_channels=in_channels,\n",
    "                 out_channels=decoder_features[-1], # last layer of just keeps number of nodes fixed this time\n",
    "                 encoder_features=encoder_features,\n",
    "                 decoder_features=decoder_features,\n",
    "                 softmax=False,\n",
    "                 up_res_blocks=up_res_blocks,\n",
    "                 block_params=block_params)\n",
    "        \n",
    "        print(\"WARNING: this model assumes that the input to the model contains the brain mask in the first channel!\")\n",
    "        conv_func = get_conv_func(dims, transpose=False)\n",
    "        self.ssn_rank = ssn_rank\n",
    "        self.ssn_diagonal = ssn_diagonal\n",
    "        self.ssn_epsilon = ssn_epsilon\n",
    "        self.ssn_num_classes = out_channels\n",
    "        \n",
    "        self.lrelu = nn.LeakyReLU(0.01)\n",
    "        \n",
    "        self.mean_l = conv_func(decoder_features[-1], out_channels, kernel_size = (1,) *  dims, padding='same')\n",
    "        self.log_cov_diag_l = conv_func(decoder_features[-1], out_channels, kernel_size = (1,) * dims, padding='same')\n",
    "        self.cov_factor_l = conv_func(decoder_features[-1], out_channels * ssn_rank, kernel_size = (1,) * dims, padding='same')\n",
    "\n",
    "    def forward(self, x):\n",
    "        logits = self.lrelu(super().forward(x))\n",
    "        if torch.sum(torch.isnan(logits)) > 0:\n",
    "            print(\"NAN 1\", torch.sum(torch.isnan(logits)))\n",
    "        batch_size = logits.shape[0]\n",
    "        event_shape = (self.ssn_num_classes,) + logits.shape[2:]\n",
    "        \n",
    "        mean = self.mean_l(logits)\n",
    "        mean = mean.view((batch_size, -1))\n",
    "        \n",
    "        cov_diag = self.log_cov_diag_l(logits).exp() + self.ssn_epsilon\n",
    "        cov_diag = cov_diag.view((batch_size, -1))\n",
    "        \n",
    "        cov_factor = self.cov_factor_l(logits)\n",
    "        cov_factor = cov_factor.view((batch_size, self.ssn_rank, self.ssn_num_classes, -1))\n",
    "        cov_factor = cov_factor.flatten(2,3)\n",
    "        cov_factor = cov_factor.transpose(1,2)\n",
    "        if torch.sum(torch.isnan(mean)) > 0:\n",
    "            print(\"NAN 2\")\n",
    "        if torch.sum(torch.isnan(cov_diag)) > 0:\n",
    "            print(\"NAN 3\")\n",
    "        if torch.sum(torch.isnan(cov_factor)) > 0:\n",
    "            print(\"NAN 4\")\n",
    "        \n",
    "        # covariance tends to blow up to infinity, hence set to 0 outside the ROI\n",
    "        mask = x[:,1]\n",
    "        mask = mask.unsqueeze(1).expand((batch_size, self.ssn_num_classes) + mask.shape[1:]).reshape(batch_size, -1)\n",
    "        cov_factor = cov_factor * mask.unsqueeze(-1)\n",
    "        cov_diag = cov_diag * mask + self.ssn_epsilon\n",
    "        \n",
    "        if torch.sum(torch.isnan(mask)) > 0:\n",
    "            print(\"NAN 5\")\n",
    "        if torch.sum(torch.isnan(cov_factor)) > 0:\n",
    "            print(\"NAN 6\")\n",
    "        if torch.sum(torch.isnan(cov_diag)) > 0:\n",
    "            print(\"NAN 7\")\n",
    "        \n",
    "        if self.ssn_diagonal:\n",
    "            base_distribution = td.Independent(td.Normal(loc=mean, scale=torch.sqrt(cov_diag)), 1)\n",
    "        else:\n",
    "            try:\n",
    "                base_distribution = td.LowRankMultivariateNormal(loc=mean, cov_factor=cov_factor, cov_diag=cov_diag)\n",
    "                #print(\"using multivariate normal!\")\n",
    "            except Exception as e:\n",
    "                print(\"was thrown: \", e)\n",
    "                print('hmm: Covariance became non invertible using independent normals for this batch!')\n",
    "                print(\"cov diag okay: \", torch.sum(cov_diag <=0))\n",
    "                print(\"sqrt cov diag okay: \", torch.sum(torch.sqrt(cov_diag) <=0))\n",
    "                \n",
    "                try:\n",
    "                    base_distribution = td.Independent(td.Normal(loc=mean, scale=torch.sqrt(cov_diag)),1)\n",
    "                except Exception as e:\n",
    "                    print(\"second fail: \", e)\n",
    "                    print(torch.min(torch.sqrt(cov_diag), torch.max(torch.sqrt(cov_diag))))\n",
    "        \n",
    "        distribution = ReshapedDistribution(base_distribution, event_shape)\n",
    "        \n",
    "        shape = (batch_size,) + event_shape\n",
    "        logit_mean_view = mean.view(shape).detach()\n",
    "        cov_diag_view = cov_diag.view(shape).detach()\n",
    "        cov_factor_view = cov_factor.transpose(2,1).view((batch_size, self.ssn_num_classes * self.ssn_rank) + event_shape[1:]).detach()\n",
    "        \n",
    "        \n",
    "        output_dict = {\n",
    "            'logit_mean':logit_mean_view,\n",
    "            'cov_diag':cov_diag_view,\n",
    "            'cov_factor':cov_factor_view,\n",
    "            'distribution':distribution,\n",
    "        }\n",
    "        \n",
    "        return output_dict"
   ]
  },
  {
   "cell_type": "markdown",
   "id": "71898c27-608d-4ad3-9375-7710bfeb23a5",
   "metadata": {},
   "source": [
    "### setup model"
   ]
  },
  {
   "cell_type": "code",
   "execution_count": null,
   "id": "5cf9f593-6e8a-4c26-b9de-0ae024870248",
   "metadata": {},
   "outputs": [],
   "source": [
    "in_channels = 3\n",
    "out_channels = 1\n",
    "\n",
    "if is3D:\n",
    "    pass\n",
    "else:\n",
    "    # encoder_features=[16, 32, 64, 128, 256] # orig: [16, 32, 64, 128, 256]\n",
    "    # decoder_features=encoder_features[::-1][1:]\n",
    "#     model = HyperMapp3r(dims=2,\n",
    "#                  in_channels=3,\n",
    "#                  out_channels=2,\n",
    "#                  encoder_features=[16, 32, 64, 128, 256],\n",
    "#                  decoder_features=[128, 64, 32, 16],\n",
    "#                  softmax=False,\n",
    "#                  up_res_blocks=False,\n",
    "#                  block_params={\n",
    "#                      \"dropout_p\":0.1,\n",
    "#                      \"norm_type\":\"in\", \n",
    "#                      \"dropout_both_layers\":False,\n",
    "#                  }\n",
    "#                    )\n",
    "    \n",
    "    # model = HyperMapp3rDDU(dims=2,\n",
    "    #              in_channels=3,\n",
    "    #              out_channels=2,\n",
    "    #              encoder_features=[16, 32, 64, 128, 256],\n",
    "    #              decoder_features=[128, 64, 32, 16],\n",
    "    #              softmax=False,\n",
    "    #              up_res_blocks=True,\n",
    "    #              n_power_iterations=3, \n",
    "    #              eps=1e-12,\n",
    "    #              block_params={\n",
    "    #                  \"dropout_p\":0.1,\n",
    "    #                  \"norm_type\":\"in\", \n",
    "    #                  \"dropout_both_layers\":False,\n",
    "    #              }\n",
    "    #                )\n",
    "    \n",
    "    model = HyperMapp3rSSN2(dims=2,\n",
    "                 in_channels=3,\n",
    "                 out_channels=2,\n",
    "                 encoder_features=[16, 32, 64, 128, 256],\n",
    "                 decoder_features=[128, 64, 32, 16],\n",
    "                 softmax=True,\n",
    "                 up_res_blocks=False,\n",
    "                 block_params={\n",
    "                     \"dropout_p\":0.1,\n",
    "                     \"norm_type\":\"in\", \n",
    "                     \"dropout_both_layers\":False,\n",
    "                 },\n",
    "                 ssn_rank = 10,\n",
    "                 ssn_epsilon=1e-5,\n",
    "                 ssn_diagonal=False)\n",
    "    \n",
    "    #optimizer_params={\"lr\":2e-3}\n",
    "    #lr_scheduler_params={\"step_size\":20, \"gamma\":0.1}\n",
    "    optimizer_params={\"lr\":2e-3, \"momentum\":0.6}\n",
    "    optimizer = torch.optim.RMSprop\n",
    "    lr_scheduler_params={\"milestones\":[10,100,200], \"gamma\":0.5}\n",
    "    lr_scheduler_constructor = torch.optim.lr_scheduler.MultiStepLR\n"
   ]
  },
  {
   "cell_type": "code",
   "execution_count": null,
   "id": "a4d8a334-80c3-4d9d-901f-0af9d35f9125",
   "metadata": {},
   "outputs": [],
   "source": [
    "summary(model)"
   ]
  },
  {
   "cell_type": "code",
   "execution_count": null,
   "id": "98fb522a-b204-4981-a489-ed6fbd336a48",
   "metadata": {},
   "outputs": [],
   "source": [
    "#model.load_state_dict(torch.load( \"ssn_trained_no_wrapper_class.ckpt\"))"
   ]
  },
  {
   "cell_type": "code",
   "execution_count": null,
   "id": "442d634c-bed8-48bd-ae52-ef1a30b4f721",
   "metadata": {
    "tags": []
   },
   "outputs": [],
   "source": [
    "import pytorch_lightning as pl\n",
    "\n",
    "import torch\n",
    "import torch.nn as nn\n",
    "import torch.nn.functional as F\n",
    "\n",
    "class StandardLitModelWrapper(pl.LightningModule):\n",
    "    def __init__(self, model, loss=F.cross_entropy, logging_metric=None, optimizer_params={\"lr\":1e-3}, lr_scheduler_params={\"step_size\":30, \"gamma\":0.1}, is_uq_model=False,\n",
    "                optimizer_constructor=None, lr_scheduler_constructor=None):\n",
    "        super().__init__()\n",
    "        self.model = model\n",
    "        self.loss = loss\n",
    "        self.logging_metric_train = logging_metric()\n",
    "        self.logging_metric_val = logging_metric()\n",
    "        self.optim_params = optimizer_params\n",
    "        self.lr_scheduler_params = lr_scheduler_params\n",
    "        self.is_uq_model = False\n",
    "        self.optimizer_constructor = optimizer_constructor\n",
    "        self.lr_scheduler_constructor = lr_scheduler_constructor\n",
    "\n",
    "        \n",
    "    def forward(self, x, **kwargs):\n",
    "        return self.model(x, **kwargs)\n",
    "    \n",
    "    def configure_optimizers(self):\n",
    "        # optimizer and schedulers go in the configure optimizers hook\n",
    "        if self.optimizer_constructor:\n",
    "            optimizer = self.optimizer_constructor(self.parameters(), **self.optim_params)\n",
    "        else:\n",
    "            optimizer = torch.optim.Adam(self.parameters(), **self.optim_params)\n",
    "        \n",
    "        if self.lr_scheduler_constructor:\n",
    "            lr_scheduler = self.lr_scheduler_constructor(optimizer, **self.lr_scheduler_params)\n",
    "        else:\n",
    "            lr_scheduler = torch.optim.lr_scheduler.StepLR(optimizer, **self.lr_scheduler_params)\n",
    "        \n",
    "        return [optimizer], [lr_scheduler]\n",
    "    \n",
    "    def training_step(self, batch, batch_idx):\n",
    "        \"\"\"\n",
    "        lightning automates the training loop, \n",
    "        does epoch, back_tracking, optimizers and schedulers,\n",
    "        and metric reduction.\n",
    "        we just define how we want to process a single batch. \n",
    "        we can optionally pass optimizer_idx if we want to define multiple optimizers within the configure_optimizers\n",
    "        hook, and I presume we can add our own parameters also to functions?\n",
    "        \"\"\"\n",
    "        \n",
    "        if self.is_uq_model:\n",
    "            self.model.set_applyfunc(True)\n",
    "        \n",
    "        X, y = batch\n",
    "        y_hat = self(X)\n",
    "        loss = self.loss(y_hat, y)\n",
    "        \n",
    "        # metrics \n",
    "        if self.logging_metric_train:\n",
    "            self.logging_metric_train(y_hat, y)\n",
    "            self.log(f\"train_metric\", self.logging_metric_train, on_step=True, on_epoch=False, prog_bar=True)\n",
    "        self.log(\"train_loss\", loss)\n",
    "        \n",
    "        return loss\n",
    "    \n",
    "#     def training_epoch_end(self, outs):\n",
    "#         self.log('train_metric_epoch', self.logging_metric_train.compute())\n",
    "        \n",
    "#     def validation_epoch_end(self, outs):\n",
    "#         self.log('val_metric_epoch', self.logging_metric_val.compute())\n",
    "    \n",
    "    def validation_step(self, batch, batch_idx):\n",
    "        \"\"\"\n",
    "        note: call trainer.validate() automatically loads the best checkpoint if checkpointing was enabled during fitting\n",
    "        well yes I want to enable checkpointing but will deal with that later.\n",
    "        also it does stuff like model.eval() and torch.no_grad() automatically which is nice.\n",
    "        I will need a custom eval thing to do my dropout estimation but can solve that later too.\n",
    "        \"\"\"\n",
    "        if self.is_uq_model:\n",
    "            self.model.set_applyfunc(False)\n",
    "        \n",
    "        X, y = batch\n",
    "        y_hat = self(X)\n",
    "        val_loss = self.loss(y_hat, y)\n",
    "        \n",
    "        if self.logging_metric_val:\n",
    "            self.logging_metric_val(y_hat, y)\n",
    "            self.log(f\"val_metric\", self.logging_metric_val, on_step=True, on_epoch=True, prog_bar=True)\n",
    "        self.log(\"val_loss\", val_loss)\n",
    "        \n",
    "    def test_step(self, batch, batch_idx):\n",
    "        \"\"\"\n",
    "        we would need to directly call this function using the trainer\n",
    "        \"\"\"\n",
    "        \n",
    "        if self.is_uq_model:\n",
    "            self.model.set_applyfunc(False)\n",
    "        \n",
    "        X, y = batch\n",
    "        y_hat = self(X)\n",
    "        test_loss = self.loss(y_hat, y)\n",
    "        self.log(\"test_loss\", test_loss)\n",
    "        \n",
    "    def predict_step(self, batch, batch_idx):\n",
    "        \"\"\"\n",
    "        just for making predictions as opposed to collecting metrics etc\n",
    "        note to use this, we just call .predict(dataloader) and it then automates the look\n",
    "        these functions are for a single batch. Nice.\n",
    "        \"\"\"\n",
    "        X, y = batch\n",
    "        pred = self(X)\n",
    "        return pred"
   ]
  },
  {
   "cell_type": "code",
   "execution_count": null,
   "id": "d24859dc-d219-4d6f-8a17-7c9b8cb79211",
   "metadata": {
    "tags": []
   },
   "outputs": [],
   "source": [
    "# summary(model, (1, 3, 128, 128))"
   ]
  },
  {
   "cell_type": "code",
   "execution_count": null,
   "id": "debcacdf-f434-48e8-875b-83f641a8707c",
   "metadata": {
    "tags": []
   },
   "outputs": [],
   "source": [
    "#loss = dice_loss\n",
    "#loss = torch.nn.CrossEntropyLoss(weight=torch.Tensor([0.968, 0.032]))\n",
    "#loss = FocalLoss(gamma=1., reduction='mean', alpha=torch.Tensor([1-0.968, 1-0.032]))\n",
    "#loss = log_cosh_dice_loss\n",
    "#loss = TverskyLoss(beta=0.7)\n",
    "#loss = FocalTverskyLoss(beta=0.7, gamma=0.8)"
   ]
  },
  {
   "cell_type": "code",
   "execution_count": null,
   "id": "f963140a-39e0-442a-b910-cd10f2a283df",
   "metadata": {
    "tags": []
   },
   "outputs": [],
   "source": [
    "import torch\n",
    "import torch.nn.functional as F\n",
    "import torch.nn as nn\n",
    "import math\n",
    "\n",
    "\n",
    "class StochasticSegmentationNetworkLossMCIntegral(nn.Module):\n",
    "    def __init__(self, num_mc_samples: int = 1):\n",
    "        super().__init__()\n",
    "        self.num_mc_samples = num_mc_samples\n",
    "\n",
    "    @staticmethod\n",
    "    def fixed_re_parametrization_trick(dist, num_samples):\n",
    "        assert num_samples % 2 == 0\n",
    "        samples = dist.rsample((num_samples // 2,))\n",
    "        mean = dist.mean.unsqueeze(0)\n",
    "        samples = samples - mean\n",
    "        return torch.cat([samples, -samples]) + mean\n",
    "\n",
    "    def forward(self, result_dict, target, **kwargs):\n",
    "        logits = result_dict['logit_mean']\n",
    "        distribution = result_dict['distribution']\n",
    "        \n",
    "        batch_size = logits.shape[0]\n",
    "        num_classes = logits.shape[1]\n",
    "        assert num_classes >= 2  # not implemented for binary case with implied background\n",
    "        # logit_sample = distribution.rsample((self.num_mc_samples,))\n",
    "        logit_sample = self.fixed_re_parametrization_trick(distribution, self.num_mc_samples)\n",
    "        target = target.unsqueeze(1)\n",
    "        target = target.expand((self.num_mc_samples,) + target.shape)\n",
    "\n",
    "        flat_size = self.num_mc_samples * batch_size\n",
    "        logit_sample = logit_sample.view((flat_size, num_classes, -1))\n",
    "        target = target.reshape((flat_size, -1))\n",
    "\n",
    "        log_prob = -F.cross_entropy(logit_sample, target, reduction='none').view((self.num_mc_samples, batch_size, -1))\n",
    "        loglikelihood = torch.mean(torch.logsumexp(torch.sum(log_prob, dim=-1), dim=0) - math.log(self.num_mc_samples))\n",
    "        loss = -loglikelihood\n",
    "        return loss"
   ]
  },
  {
   "cell_type": "code",
   "execution_count": null,
   "id": "d035ec9a-700b-40ce-a0a0-8e4e12070f43",
   "metadata": {
    "tags": []
   },
   "outputs": [],
   "source": [
    "def fixed_re_parametrization_trick(dist, num_samples):\n",
    "        assert num_samples % 2 == 0\n",
    "        samples = dist.rsample((num_samples // 2,))\n",
    "        mean = dist.mean.unsqueeze(0)\n",
    "        samples = samples - mean\n",
    "        return torch.cat([samples, -samples]) + mean\n",
    "\n",
    "\n",
    "class SsnNetworkMeanLossWrapper(nn.Module):\n",
    "    def __init__(self, loss_func):\n",
    "        super().__init__()\n",
    "        self.loss = loss_func\n",
    "    def forward(self, result_dict, target):\n",
    "        mean = result_dict['logit_mean']\n",
    "        return self.loss(mean, target)\n",
    "    \n",
    "class SsnNetworkSampleLossWrapper(nn.Module):\n",
    "    def __init__(self, loss_func, samples=10):\n",
    "        super().__init__()\n",
    "        self.loss = loss_func\n",
    "        self.samples = samples\n",
    "    def forward(self, result_dict, target):\n",
    "        samples = fixed_re_parametrization_trick(result_dict['distribution'], self.samples).to(target.device)\n",
    "        loss = 0\n",
    "        for s in samples:\n",
    "            loss += self.loss(s, target)\n",
    "        return loss / self.samples\n",
    "        #return torch.mean(torch.Tensor(losses))"
   ]
  },
  {
   "cell_type": "code",
   "execution_count": null,
   "id": "24ef2496-90da-4f0f-ae15-3ae5b0937b52",
   "metadata": {
    "tags": []
   },
   "outputs": [],
   "source": [
    "class SsnDiceMetricWrapper(DiceLossMetric):\n",
    "\n",
    "    def update(self, preds_dict, target: torch.Tensor):\n",
    "        super().update(preds_dict['logit_mean'], target)\n",
    "\n",
    "    def compute(self):\n",
    "        return super().compute()"
   ]
  },
  {
   "cell_type": "code",
   "execution_count": null,
   "id": "7cb714a1-8a62-4452-8209-cace8ec39ad7",
   "metadata": {},
   "outputs": [],
   "source": [
    "ssn_diceloss = SsnNetworkSampleLossWrapper(dice_loss)# SsnNetworkMeanLossWrapper(dice_loss)\n",
    "mc_loss = StochasticSegmentationNetworkLossMCIntegral(num_mc_samples=10)\n",
    "\n",
    "def double_loss(outs, target):\n",
    "    return ssn_diceloss(outs, target) * 10 + mc_loss(outs, target) * 0.01"
   ]
  },
  {
   "cell_type": "code",
   "execution_count": null,
   "id": "0b8acb1b-d4f8-4890-b15d-bb330bd74faf",
   "metadata": {},
   "outputs": [],
   "source": [
    "# loss = StochasticSegmentationNetworkLossMCIntegral(num_mc_samples=10)\n",
    "# loss = SsnNetworkSampleLossWrapper(dice_loss)\n",
    "loss = double_loss"
   ]
  },
  {
   "cell_type": "code",
   "execution_count": null,
   "id": "429aa4cb-2158-4b7f-96c3-992fc32faf6c",
   "metadata": {},
   "outputs": [],
   "source": [
    "#optimizer_params={\"lr\":2e-4, \"momentum\":0.6}\n",
    "optimizer_params={\"lr\":1e-3}\n",
    "optimizer = torch.optim.Adam\n",
    "lr_scheduler_params={\"milestones\":[100,200], \"gamma\":0.5}\n",
    "lr_scheduler_constructor = torch.optim.lr_scheduler.MultiStepLR"
   ]
  },
  {
   "cell_type": "code",
   "execution_count": null,
   "id": "e60ae5da-3073-4c42-86b1-753fc874b272",
   "metadata": {
    "tags": []
   },
   "outputs": [],
   "source": [
    "model = StandardLitModelWrapper(model, loss, \n",
    "                                logging_metric=SsnDiceMetricWrapper,\n",
    "                                optimizer_params=optimizer_params,\n",
    "                                lr_scheduler_params=lr_scheduler_params,\n",
    "                                is_uq_model=False,\n",
    "                                optimizer_constructor=optimizer,\n",
    "                                lr_scheduler_constructor=lr_scheduler_constructor\n",
    "                               )"
   ]
  },
  {
   "cell_type": "code",
   "execution_count": null,
   "id": "669b2864-efcf-4e7b-bbd8-ea20000f128c",
   "metadata": {
    "tags": []
   },
   "outputs": [],
   "source": [
    "checkpoint_dir = \"./lightning_logs\"\n",
    "strategy = None\n",
    "# strategy = \"deepspeed_stage_2\"\n",
    "# strategy = \"dp\"\n",
    "#strategy = \"deepspeed_stage_2_offload\"\n",
    "\n",
    "accelerator=\"gpu\"\n",
    "devices=1\n",
    "max_epochs=500\n",
    "precision = 32\n",
    "\n",
    "checkpoint_callback = ModelCheckpoint(checkpoint_dir, save_top_k=2, monitor=\"val_loss\")\n",
    "early_stop_callback = EarlyStopping(monitor=\"val_loss\", min_delta=0.00, patience=500, verbose=\"False\", mode=\"min\", check_finite=True)\n",
    "trainer = pl.Trainer(\n",
    "    callbacks=[checkpoint_callback, early_stop_callback],\n",
    "    accelerator=accelerator,\n",
    "    devices=devices,\n",
    "    max_epochs=max_epochs,\n",
    "    strategy=strategy,\n",
    "    precision=precision,\n",
    "    default_root_dir=checkpoint_dir\n",
    ")\n"
   ]
  },
  {
   "cell_type": "markdown",
   "id": "c1de0353-be84-4764-b89e-8326d6d2b021",
   "metadata": {},
   "source": [
    "### train"
   ]
  },
  {
   "cell_type": "code",
   "execution_count": 38,
   "id": "22b84231-df5d-4cb4-ae82-2dc586ebb311",
   "metadata": {},
   "outputs": [],
   "source": [
    "#trainer.fit(model, train_dataloader, val_dataloader)"
   ]
  },
  {
   "cell_type": "code",
   "execution_count": 39,
   "id": "517528f4-459e-42b4-af21-254a1f5f7bb5",
   "metadata": {},
   "outputs": [
    {
     "name": "stderr",
     "output_type": "stream",
     "text": [
      "LOCAL_RANK: 0 - CUDA_VISIBLE_DEVICES: [0]\n"
     ]
    },
    {
     "data": {
      "application/vnd.jupyter.widget-view+json": {
       "model_id": "8a760467e526446db71798438a18a580",
       "version_major": 2,
       "version_minor": 0
      },
      "text/plain": [
       "Validation: 0it [00:00, ?it/s]"
      ]
     },
     "metadata": {},
     "output_type": "display_data"
    },
    {
     "name": "stdout",
     "output_type": "stream",
     "text": [
      "was thrown:  torch.linalg_cholesky: (Batch element 20): The factorization could not be completed because the input is not positive-definite (the leading minor of order 9 is not positive-definite).\n",
      "hmm: Covariance became non invertible using independent normals for this batch!\n",
      "cov diag okay:  tensor(0, device='cuda:0')\n",
      "sqrt cov diag okay:  tensor(0, device='cuda:0')\n",
      "────────────────────────────────────────────────────────────────────────────────────────────────────────────────────────\n",
      "     Validate metric           DataLoader 0\n",
      "────────────────────────────────────────────────────────────────────────────────────────────────────────────────────────\n",
      "        val_loss             4.654391288757324\n",
      "    val_metric_epoch        0.22045385837554932\n",
      "────────────────────────────────────────────────────────────────────────────────────────────────────────────────────────\n"
     ]
    },
    {
     "data": {
      "text/plain": [
       "[{'val_metric_epoch': 0.22045385837554932, 'val_loss': 4.654391288757324}]"
      ]
     },
     "execution_count": 39,
     "metadata": {},
     "output_type": "execute_result"
    }
   ],
   "source": [
    "trainer.validate(model, val_dataloader)#, ckpt_path='best')"
   ]
  },
  {
   "cell_type": "code",
   "execution_count": 40,
   "id": "ddf3a4cf-a3a0-499d-86a5-d5d00e2ec274",
   "metadata": {},
   "outputs": [],
   "source": [
    "x1, y1 = next(iter(val_dataloader))"
   ]
  },
  {
   "cell_type": "code",
   "execution_count": 41,
   "id": "12dbfb7c-ff48-4757-afba-50e60dee5b94",
   "metadata": {},
   "outputs": [
    {
     "data": {
      "text/plain": [
       "(device(type='cpu'), device(type='cpu'))"
      ]
     },
     "execution_count": 41,
     "metadata": {},
     "output_type": "execute_result"
    }
   ],
   "source": [
    "x1.device, model.device"
   ]
  },
  {
   "cell_type": "code",
   "execution_count": 42,
   "id": "7c43de40-7d48-4531-b1bc-8c2da54c5f79",
   "metadata": {
    "tags": []
   },
   "outputs": [],
   "source": [
    "with torch.no_grad():\n",
    "    model = model.cuda()\n",
    "    result = model(x1.cuda())\n"
   ]
  },
  {
   "cell_type": "code",
   "execution_count": 43,
   "id": "05e1e78b-9c2c-4fed-ad8b-4d6cdc8a901f",
   "metadata": {
    "tags": []
   },
   "outputs": [
    {
     "data": {
      "text/plain": [
       "(torch.Size([64, 2, 224, 160]), torch.Size([64, 224, 160]))"
      ]
     },
     "execution_count": 43,
     "metadata": {},
     "output_type": "execute_result"
    }
   ],
   "source": [
    "result['distribution'].rsample().shape, y1.shape"
   ]
  },
  {
   "cell_type": "code",
   "execution_count": 44,
   "id": "69afedc5-20be-4384-a052-c410c6bf215c",
   "metadata": {},
   "outputs": [],
   "source": [
    "#!tensorboard --logdir=lightning_logs/lightning_logs/version_26/"
   ]
  },
  {
   "cell_type": "code",
   "execution_count": 45,
   "id": "ef8ff8b4-a942-44ec-ac7d-8183cf8f74c0",
   "metadata": {},
   "outputs": [],
   "source": [
    "x1, y1 = next(iter(val_dataloader))"
   ]
  },
  {
   "cell_type": "code",
   "execution_count": 46,
   "id": "c4b28501-0faa-4856-bf63-e6224cdaca81",
   "metadata": {},
   "outputs": [],
   "source": [
    "with torch.no_grad():\n",
    "    model.eval()\n",
    "    y_hat = model(x1.to(model.device))"
   ]
  },
  {
   "cell_type": "code",
   "execution_count": 47,
   "id": "ac0566ec-d196-4fb3-ae30-4441125935aa",
   "metadata": {},
   "outputs": [
    {
     "data": {
      "text/plain": [
       "tensor(0.2459, device='cuda:0')"
      ]
     },
     "execution_count": 47,
     "metadata": {},
     "output_type": "execute_result"
    }
   ],
   "source": [
    "#dice_loss(y_hat, y1)\n",
    "ssn_diceloss(y_hat, y1.to(y_hat['logit_mean'].device))"
   ]
  },
  {
   "cell_type": "code",
   "execution_count": 48,
   "id": "13e4d419-da3b-4888-b790-17530235518b",
   "metadata": {},
   "outputs": [],
   "source": [
    "def actual_dice(y_hat, y_true):\n",
    "    y_hat = torch.nn.functional.softmax(y_hat, dim=1).argmax(dim=1)\n",
    "    # count how many times the ground truth and target have nothing in them\n",
    "    s0 = y_hat.shape[0]\n",
    "    y_hat = y_hat.view(s0, -1)\n",
    "    y_true = y_true.view(s0, -1)\n",
    "    # print(torch.sum(torch.sum(y_true, dim=1) == 0))\n",
    "    # print(torch.sum(torch.sum(y_hat, dim=1) == 0))\n",
    "    # print(torch.sum(torch.logical_and(torch.sum(y_hat, dim=1) == 0, torch.sum(y_true, dim=1) == 0)))\n",
    "    ignores = torch.sum(torch.logical_and(torch.sum(y_hat, dim=1) == 0, torch.sum(y_true, dim=1) == 0))\n",
    "    \n",
    "    \n",
    "    numerator = torch.sum(2 * y_true * y_hat, dim=1)\n",
    "    # print(numerator)\n",
    "    denominator = torch.sum(y_true + y_hat, dim=1)\n",
    "    # print(denominator)\n",
    "    \n",
    "    return torch.sum((numerator)/ (denominator + 1e-8)) / (s0-ignores) # s0"
   ]
  },
  {
   "cell_type": "code",
   "execution_count": 61,
   "id": "4800f5e4-2592-4890-bc98-21a839b13692",
   "metadata": {},
   "outputs": [],
   "source": [
    "def slice_dice(y_hat, y_true):\n",
    "    y_hat = torch.nn.functional.softmax(y_hat, dim=0).argmax(dim=0)\n",
    "    \n",
    "    if torch.sum(y_hat) == 0 and torch.sum(y_true) == 0:\n",
    "        return \"n/a\"\n",
    "    \n",
    "    numerator = torch.sum(2 * y_hat * y_true)\n",
    "    denominator = torch.sum(y_hat + y_true)\n",
    "    return numerator / (denominator + 1e-8)"
   ]
  },
  {
   "cell_type": "code",
   "execution_count": 50,
   "id": "e664ad3f-74f0-46e3-ae32-01fe9242016c",
   "metadata": {},
   "outputs": [],
   "source": [
    "def dice(y_pred, y_true):\n",
    "    y_pred = torch.nn.functional.softmax(y_pred, dim=1).argmax(dim=1)\n",
    "    denominator = torch.sum(y_pred) + torch.sum(y_true)\n",
    "    numerator = 2. * torch.sum(torch.logical_and(y_pred, y_true))\n",
    "    return numerator / denominator"
   ]
  },
  {
   "cell_type": "code",
   "execution_count": 51,
   "id": "5419686a-5b2d-4fae-bb04-a06554c69180",
   "metadata": {},
   "outputs": [
    {
     "data": {
      "text/plain": [
       "tensor(0.2381, device='cuda:0')"
      ]
     },
     "execution_count": 51,
     "metadata": {},
     "output_type": "execute_result"
    }
   ],
   "source": [
    "ssn_diceloss(y_hat, y1.to(y_hat['logit_mean'].device))"
   ]
  },
  {
   "cell_type": "code",
   "execution_count": 52,
   "id": "b6ab82c3-8098-4722-9e81-e486ff349923",
   "metadata": {},
   "outputs": [
    {
     "data": {
      "text/plain": [
       "tensor(183.5271, device='cuda:0')"
      ]
     },
     "execution_count": 52,
     "metadata": {},
     "output_type": "execute_result"
    }
   ],
   "source": [
    "mc_loss(y_hat, y1.to(y_hat['logit_mean'].device))"
   ]
  },
  {
   "cell_type": "code",
   "execution_count": 53,
   "id": "d25d3751-7378-4e7e-9a71-12051cf62c4d",
   "metadata": {},
   "outputs": [],
   "source": [
    "samples = fixed_re_parametrization_trick(y_hat['distribution'], 20)"
   ]
  },
  {
   "cell_type": "code",
   "execution_count": 54,
   "id": "a5b432da-bcbc-420e-973a-7ab542be30d9",
   "metadata": {},
   "outputs": [],
   "source": [
    "probs = torch.nn.functional.softmax(samples, dim=2)\n",
    "pic = torch.mean(probs, dim=0)\n",
    "ent_map = torch.sum(-pic * torch.log(pic+1e-30), dim=1).cpu()"
   ]
  },
  {
   "cell_type": "code",
   "execution_count": 55,
   "id": "2af3c58a-1578-40d8-bff2-5a639a283650",
   "metadata": {},
   "outputs": [
    {
     "data": {
      "image/png": "[encoded data removed]",
      "text/plain": [
       "<Figure size 1440x504 with 4 Axes>"
      ]
     },
     "metadata": {
      "needs_background": "light"
     },
     "output_type": "display_data"
    }
   ],
   "source": [
    "ind = 50\n",
    "plt.figure(figsize=(20,7))\n",
    "plt.subplot(1,4,1)\n",
    "plt.imshow(x1[ind][0,:,:],cmap='gray'); plt.axis('off')\n",
    "plt.subplot(1,4,2)\n",
    "plt.imshow(y1[ind], cmap='gray'); plt.axis('off')\n",
    "plt.subplot(1,4,3)\n",
    "plt.imshow(torch.nn.functional.softmax(y_hat['logit_mean'].cpu(), dim=1).argmax(dim=1)[ind], cmap='gray'); plt.axis('off')\n",
    "plt.subplot(1,4,4)\n",
    "plt.imshow(ent_map[ind]); plt.axis('off')\n",
    "#print(slice_dice(y_hat['logit_mean'].cpu()[ind], y1[ind]))\n",
    "plt.show()"
   ]
  },
  {
   "cell_type": "code",
   "execution_count": 60,
   "id": "13e6a1f8-205f-4919-a19a-af554afe37a8",
   "metadata": {},
   "outputs": [
    {
     "data": {
      "text/plain": [
       "(torch.Size([224, 160]), torch.Size([224, 160]))"
      ]
     },
     "execution_count": 60,
     "metadata": {},
     "output_type": "execute_result"
    }
   ],
   "source": [
    "torch.nn.functional.softmax(y_hat['logit_mean'].cpu()[ind], dim=0).argmax(dim=0).shape, y1[ind].shape\n"
   ]
  },
  {
   "cell_type": "code",
   "execution_count": 67,
   "id": "1b9db2af-5100-41a3-b214-a6b8d3340f3f",
   "metadata": {},
   "outputs": [
    {
     "name": "stdout",
     "output_type": "stream",
     "text": [
      "tensor(0.6958)\n"
     ]
    },
    {
     "data": {
      "image/png": "[encoded data removed]",
      "text/plain": [
       "<Figure size 1440x504 with 4 Axes>"
      ]
     },
     "metadata": {
      "needs_background": "light"
     },
     "output_type": "display_data"
    }
   ],
   "source": [
    "ind = 27#16 #27\n",
    "plt.figure(figsize=(20,7))\n",
    "plt.subplot(1,4,1)\n",
    "plt.imshow(x1[ind][0,:,:],cmap='gray'); plt.axis('off')\n",
    "plt.subplot(1,4,2)\n",
    "plt.imshow(y1[ind], cmap='gray'); plt.axis('off')\n",
    "plt.subplot(1,4,3)\n",
    "plt.imshow(torch.nn.functional.softmax(y_hat['logit_mean'].cpu(), dim=1).argmax(dim=1)[ind], cmap='gray'); plt.axis('off')\n",
    "plt.subplot(1,4,4)\n",
    "plt.imshow(ent_map[ind]); plt.axis('off')\n",
    "print(slice_dice(y_hat['logit_mean'].cpu()[ind], y1[ind]))\n",
    "plt.show()"
   ]
  },
  {
   "cell_type": "code",
   "execution_count": null,
   "id": "88b744e3-fad0-499d-bada-3629328196de",
   "metadata": {},
   "outputs": [],
   "source": [
    "\"\"\"\n",
    "\n",
    "THE PLAN\n",
    "\n",
    "try doing quality control by say\n",
    "- computing the pavpu and pacc gal metrics and counting how mnay uncertain patches there are in an image etc\n",
    "  as that may correlate better with dice.\n",
    "- predicting dice.\n",
    "\n",
    "- If I cannot get anything working, simply move on to the interactive learning use of uncertainty. Nice.\n",
    "\n",
    "\"\"\""
   ]
  },
  {
   "cell_type": "code",
   "execution_count": 68,
   "id": "77310b89-3f0f-4e3d-9831-cae2cb594246",
   "metadata": {},
   "outputs": [
    {
     "data": {
      "image/png": "[encoded data removed]",
      "text/plain": [
       "<Figure size 432x288 with 1 Axes>"
      ]
     },
     "metadata": {
      "needs_background": "light"
     },
     "output_type": "display_data"
    }
   ],
   "source": [
    "hist, bin_edges = torch.histogram(ent_map, ind)\n",
    "plt.bar(x=bin_edges[1:-1], height=hist[1:], width=np.diff(bin_edges[1:]), align='edge', fc='skyblue', ec='black')\n",
    "plt.show()"
   ]
  },
  {
   "cell_type": "code",
   "execution_count": 69,
   "id": "1a219867-0c20-4bed-8695-91a66f3c0d77",
   "metadata": {},
   "outputs": [
    {
     "data": {
      "text/plain": [
       "(tensor(0.0075), tensor(0.0231))"
      ]
     },
     "execution_count": 69,
     "metadata": {},
     "output_type": "execute_result"
    }
   ],
   "source": [
    "torch.mean(ent_map[27]), torch.mean(ent_map[16])"
   ]
  },
  {
   "cell_type": "code",
   "execution_count": 70,
   "id": "22f20309-8151-4519-86e5-ad44e55215ef",
   "metadata": {},
   "outputs": [
    {
     "data": {
      "text/plain": [
       "<matplotlib.image.AxesImage at 0x7f12fc0819a0>"
      ]
     },
     "execution_count": 70,
     "metadata": {},
     "output_type": "execute_result"
    },
    {
     "data": {
      "image/png": "[encoded data removed]",
      "text/plain": [
       "<Figure size 432x288 with 1 Axes>"
      ]
     },
     "metadata": {
      "needs_background": "light"
     },
     "output_type": "display_data"
    }
   ],
   "source": [
    "plt.imshow(ent_map[ind])"
   ]
  },
  {
   "cell_type": "code",
   "execution_count": 71,
   "id": "6cefa4cd-cfaf-49ed-ae60-76557af0d4ef",
   "metadata": {},
   "outputs": [
    {
     "data": {
      "image/png": "[encoded data removed]",
      "text/plain": [
       "<Figure size 2160x720 with 20 Axes>"
      ]
     },
     "metadata": {
      "needs_background": "light"
     },
     "output_type": "display_data"
    }
   ],
   "source": [
    "plt.figure(figsize=(30,10))\n",
    "for i, s in enumerate(samples):\n",
    "    plt.subplot(2,10,i+1)\n",
    "    plt.imshow(torch.nn.functional.softmax(s.cpu(), dim=1).argmax(dim=1)[ind])\n",
    "    plt.axis('off')"
   ]
  },
  {
   "cell_type": "markdown",
   "id": "423399d2-0dbe-454f-a08c-4f3d74d0bde6",
   "metadata": {},
   "source": [
    "### Looking at Calibration"
   ]
  },
  {
   "cell_type": "code",
   "execution_count": 72,
   "id": "730717d7-413e-444e-8b9e-59fbb6ad33bb",
   "metadata": {},
   "outputs": [
    {
     "data": {
      "text/plain": [
       "358"
      ]
     },
     "execution_count": 72,
     "metadata": {},
     "output_type": "execute_result"
    }
   ],
   "source": [
    "len(test_dataset)"
   ]
  },
  {
   "cell_type": "code",
   "execution_count": 73,
   "id": "de238617-4971-4ad1-99ce-0d66972af540",
   "metadata": {},
   "outputs": [],
   "source": [
    "with_lesion = 0\n",
    "for x, y in test_dataset:\n",
    "    if torch.sum(y) > 0:\n",
    "        with_lesion += 1"
   ]
  },
  {
   "cell_type": "code",
   "execution_count": 74,
   "id": "acce76b4-26db-4035-ac6b-20560b666c36",
   "metadata": {},
   "outputs": [
    {
     "data": {
      "text/plain": [
       "114"
      ]
     },
     "execution_count": 74,
     "metadata": {},
     "output_type": "execute_result"
    }
   ],
   "source": [
    "with_lesion\n"
   ]
  },
  {
   "cell_type": "code",
   "execution_count": 75,
   "id": "99e9dee8-2750-4473-9631-0806ab4cb4e4",
   "metadata": {},
   "outputs": [],
   "source": [
    "### generate the samples that I need\n",
    "with torch.no_grad():\n",
    "    targets = []\n",
    "    predictions = []\n",
    "    masks = []\n",
    "    for x, y in test_dataloader:\n",
    "        outs = model(x.to(model.device))\n",
    "        samples = fixed_re_parametrization_trick(outs['distribution'], 10).cpu()\n",
    "        predictions.append(samples.swapaxes(0,1))\n",
    "        targets.append(y.cpu())\n",
    "        masks.append(x[:,1].cpu())"
   ]
  },
  {
   "cell_type": "code",
   "execution_count": 76,
   "id": "339dda76-84c3-4eca-9b5c-9a9daa54fac8",
   "metadata": {},
   "outputs": [],
   "source": [
    "predictions = torch.cat(predictions).cpu()\n",
    "targets = torch.cat(targets).cpu()\n",
    "masks = torch.cat(masks)"
   ]
  },
  {
   "cell_type": "code",
   "execution_count": 77,
   "id": "7401a82d-83c4-4b5b-8b44-277fe4819229",
   "metadata": {},
   "outputs": [],
   "source": [
    "### compute the entropy maps\n",
    "probs = torch.nn.functional.softmax(predictions, dim=2)\n",
    "pic = torch.mean(probs, dim=1)\n",
    "ent_map = torch.sum(-pic * torch.log(pic+1e-30), dim=1).cpu()"
   ]
  },
  {
   "cell_type": "code",
   "execution_count": 78,
   "id": "bc2cf05c-1620-4813-8c1f-e26550e1016b",
   "metadata": {},
   "outputs": [],
   "source": [
    "ent_pixels = ent_map.view(-1)\n",
    "mask_pixels = masks.view(-1)\n",
    "ent_pixels = ent_pixels[mask_pixels == 1]"
   ]
  },
  {
   "cell_type": "code",
   "execution_count": 79,
   "id": "55138a7e-d3d2-4e50-b484-9293871fcb34",
   "metadata": {},
   "outputs": [
    {
     "data": {
      "text/plain": [
       "0.3666675759427374"
      ]
     },
     "execution_count": 79,
     "metadata": {},
     "output_type": "execute_result"
    }
   ],
   "source": [
    "len(ent_pixels) / len((ent_map.view(-1)))"
   ]
  },
  {
   "cell_type": "code",
   "execution_count": 80,
   "id": "62e1eb76-9d45-4e86-a3c9-6695b05051c9",
   "metadata": {},
   "outputs": [],
   "source": [
    "hist, bin_edges = torch.histogram(ent_pixels)"
   ]
  },
  {
   "cell_type": "code",
   "execution_count": 81,
   "id": "a48f931a-30c0-4844-961f-6c34d5f8c363",
   "metadata": {},
   "outputs": [
    {
     "data": {
      "image/png": "[encoded data removed]",
      "text/plain": [
       "<Figure size 432x288 with 1 Axes>"
      ]
     },
     "metadata": {
      "needs_background": "light"
     },
     "output_type": "display_data"
    }
   ],
   "source": [
    "plt.bar(x=bin_edges[1:-1], height=hist[1:], width=np.diff(bin_edges[1:]), align='edge', fc='skyblue', ec='black')\n",
    "plt.show()"
   ]
  },
  {
   "cell_type": "code",
   "execution_count": 82,
   "id": "d56b60e0-263c-499c-ba67-fb14ebd38d57",
   "metadata": {},
   "outputs": [],
   "source": [
    "normalized_ent = (ent_map - torch.min(ent_map)) / (torch.max(ent_map) - torch.min(ent_map))"
   ]
  },
  {
   "cell_type": "code",
   "execution_count": 83,
   "id": "b9fca6c9-da8f-4c74-ab91-72c3c9edd02d",
   "metadata": {},
   "outputs": [
    {
     "data": {
      "text/plain": [
       "(torch.Size([358, 10, 2, 224, 160]), torch.Size([358, 224, 160]))"
      ]
     },
     "execution_count": 83,
     "metadata": {},
     "output_type": "execute_result"
    }
   ],
   "source": [
    "predictions.shape, targets.shape"
   ]
  },
  {
   "cell_type": "code",
   "execution_count": 84,
   "id": "0096728d-4993-4829-92f3-4a85091cf928",
   "metadata": {},
   "outputs": [],
   "source": [
    "predicted_class = torch.argmax(predictions, dim=2)"
   ]
  },
  {
   "cell_type": "code",
   "execution_count": 85,
   "id": "64c7e7c5-8ad8-4cac-b38e-e3f32fa6a828",
   "metadata": {},
   "outputs": [],
   "source": [
    "accuracy = torch.sum(predicted_class.swapaxes(0,1) == targets, dim=0) / predicted_class.shape[1]"
   ]
  },
  {
   "cell_type": "code",
   "execution_count": 86,
   "id": "5ed2a93e-e307-4f88-a6d4-b6c50002e3d1",
   "metadata": {},
   "outputs": [
    {
     "data": {
      "text/plain": [
       "(torch.Size([358, 10, 224, 160]), torch.Size([358, 224, 160]))"
      ]
     },
     "execution_count": 86,
     "metadata": {},
     "output_type": "execute_result"
    }
   ],
   "source": [
    "predicted_class.shape, targets.shape"
   ]
  },
  {
   "cell_type": "code",
   "execution_count": 87,
   "id": "512650b6-a10e-4f5f-a484-507ff0d4aed8",
   "metadata": {},
   "outputs": [
    {
     "data": {
      "text/plain": [
       "torch.Size([10, 358, 224, 160])"
      ]
     },
     "execution_count": 87,
     "metadata": {},
     "output_type": "execute_result"
    }
   ],
   "source": [
    "(predicted_class.swapaxes(0,1) == targets).shape"
   ]
  },
  {
   "cell_type": "code",
   "execution_count": 88,
   "id": "37508e3b-fba0-469f-8ed2-e5188ee59480",
   "metadata": {},
   "outputs": [
    {
     "data": {
      "text/plain": [
       "10"
      ]
     },
     "execution_count": 88,
     "metadata": {},
     "output_type": "execute_result"
    }
   ],
   "source": [
    "predicted_class.shape[1]"
   ]
  },
  {
   "cell_type": "code",
   "execution_count": 89,
   "id": "22c69eff-68e5-4e2a-8672-e98584799576",
   "metadata": {},
   "outputs": [],
   "source": [
    "accuracy_pixels = accuracy.view(-1)[mask_pixels == 1]"
   ]
  },
  {
   "cell_type": "code",
   "execution_count": 90,
   "id": "9cf59346-28b7-43bd-a5d2-54d1a2fb6a3f",
   "metadata": {},
   "outputs": [
    {
     "data": {
      "text/plain": [
       "tensor([0.0000, 0.1000, 0.2000, 0.3000, 0.4000, 0.5000, 0.6000, 0.7000, 0.8000,\n",
       "        0.9000, 1.0000])"
      ]
     },
     "execution_count": 90,
     "metadata": {},
     "output_type": "execute_result"
    }
   ],
   "source": [
    "accuracy_pixels.unique()"
   ]
  },
  {
   "cell_type": "code",
   "execution_count": 92,
   "id": "7f134fbf-a075-4938-bc45-3cf4e8716ec5",
   "metadata": {},
   "outputs": [
    {
     "data": {
      "image/png": "[encoded data removed]",
      "text/plain": [
       "<Figure size 432x288 with 1 Axes>"
      ]
     },
     "metadata": {
      "needs_background": "light"
     },
     "output_type": "display_data"
    }
   ],
   "source": [
    "ahist, abin_edges = torch.histogram(accuracy_pixels, bins=10)\n",
    "plt.bar(x=abin_edges[:-1-1], height=(ahist[:-1]), width=np.diff(abin_edges[:-1]), align='edge', fc='skyblue', ec='black')\n",
    "plt.show()"
   ]
  },
  {
   "cell_type": "code",
   "execution_count": 166,
   "id": "2e9fd6e8-62e4-4d5e-8d46-e0e8b1e985bb",
   "metadata": {},
   "outputs": [],
   "source": [
    "# now trying to do it by patch, so patch accuracy vs patch uncertainty"
   ]
  },
  {
   "cell_type": "code",
   "execution_count": 154,
   "id": "76a1b7da-bfba-49d9-abbb-3712f9ad6838",
   "metadata": {},
   "outputs": [
    {
     "name": "stdout",
     "output_type": "stream",
     "text": [
      "10\n"
     ]
    }
   ],
   "source": [
    "# remove slices where there is no lesion at all\n",
    "where_lesions = targets.sum(dim=(1,2)) > 0\n",
    "predv2 = predictions.argmax(dim=2)[where_lesions]\n",
    "ent_mapv2 = ent_map[where_lesions]\n",
    "targetsv2 = targets[where_lesions]\n",
    "\n",
    "# put samples on outer dim\n",
    "predv2 = predv2.swapaxes(0,1)\n",
    "\n",
    "samples = predv2.shape[0]\n",
    "print(samples)\n",
    "\n",
    "# unroll\n",
    "window1 = 8\n",
    "window2 = 8\n",
    "stride = window1\n",
    "ent_unrolled = ent_mapv2.unfold(1, window1, stride).unfold(2, window2, stride).reshape(-1, window1, window2)\n",
    "target_unrolled = targetsv2.unfold(1, window1, stride).unfold(2, window2, stride).reshape(-1, window1, window2)\n",
    "seg_unrolled = predv2.unfold(2, window1, stride).unfold(3, window2, stride).reshape(samples, -1, window1, window2)"
   ]
  },
  {
   "cell_type": "code",
   "execution_count": 155,
   "id": "56ccc1c7-9085-424b-9766-7d5d694b185c",
   "metadata": {},
   "outputs": [],
   "source": [
    "# remove patches where there is no brain\n",
    "mask_unrolled = masks[where_lesions].unfold(1, window1, stride).unfold(2, window2, stride).reshape(-1, window1, window2)\n",
    "brain_patches = torch.sum(mask_unrolled, dim=(1, 2)) > 0\n",
    "\n",
    "ent_unrolled = ent_unrolled[brain_patches]\n",
    "target_unrolled = target_unrolled[brain_patches]\n",
    "seg_unrolled = seg_unrolled.swapaxes(0,1)[brain_patches] # swap outer axes again to mask brain patches"
   ]
  },
  {
   "cell_type": "code",
   "execution_count": 161,
   "id": "cf490b2d-8525-4526-b287-b551ed4dd3cc",
   "metadata": {},
   "outputs": [
    {
     "data": {
      "text/plain": [
       "tensor(-0.3665)"
      ]
     },
     "execution_count": 161,
     "metadata": {},
     "output_type": "execute_result"
    }
   ],
   "source": [
    "ent_unrolled.log().max()"
   ]
  },
  {
   "cell_type": "code",
   "execution_count": 173,
   "id": "1e045cd4-19f6-44f3-9a41-57eb9d09110c",
   "metadata": {},
   "outputs": [
    {
     "name": "stderr",
     "output_type": "stream",
     "text": [
      "100%|█████████████████████████████████████████████████████████████████████████████████████████████████████████████████████████████████████████████████████| 140/140 [00:08<00:00, 16.91it/s]\n"
     ]
    }
   ],
   "source": [
    "from tqdm import tqdm as tqdm\n",
    "results = {\"p_ac\":[], \"p_ui\":[], \"pavpu\":[], \"t\":[]}\n",
    "ts = torch.arange(0, 0.7, 0.005)\n",
    "#ts = torch.arange(-100, 1, 0.1)\n",
    "for t in tqdm(ts):\n",
    "    accuracy_threshold = 0.9\n",
    "    uncertianty_threshold = t\n",
    "\n",
    "    # compute accurate patches\n",
    "    patch_accuracy = (torch.sum(seg_unrolled.swapaxes(0,1) == target_unrolled, dim=0) / samples).mean(dim=(1, 2))\n",
    "    accurate_patches = patch_accuracy >= accuracy_threshold\n",
    "\n",
    "    # compute the average uncertainty of each patch\n",
    "    avg_ent = torch.mean(ent_unrolled, dim=(1,2))\n",
    "    uncertain_patches = avg_ent >= uncertianty_threshold\n",
    "\n",
    "    n_ac = torch.sum(torch.logical_and(accurate_patches, ~uncertain_patches))\n",
    "    n_au = torch.sum(torch.logical_and(accurate_patches, uncertain_patches))\n",
    "    n_ic = torch.sum(torch.logical_and(~accurate_patches, ~uncertain_patches))\n",
    "    n_iu = torch.sum(torch.logical_and(~accurate_patches, uncertain_patches))\n",
    "\n",
    "    results[\"p_ac\"].append(n_ac / (n_ac + n_ic))\n",
    "    results[\"p_ui\"].append(n_iu / (n_ic + n_iu))\n",
    "    results[\"pavpu\"].append((n_ac + n_iu) / (n_ac + n_au + n_ic + n_iu))\n",
    "    results[\"t\"].append(t)\n",
    "    \n",
    "    "
   ]
  },
  {
   "cell_type": "code",
   "execution_count": 176,
   "id": "ae7c30f4-6504-4595-89df-b7fe73b00e8e",
   "metadata": {},
   "outputs": [
    {
     "data": {
      "image/png": "[encoded data removed]",
      "text/plain": [
       "<Figure size 1080x360 with 3 Axes>"
      ]
     },
     "metadata": {
      "needs_background": "light"
     },
     "output_type": "display_data"
    }
   ],
   "source": [
    "plt.figure(figsize=(15,5))\n",
    "plt.subplot(1,3,1)\n",
    "plt.plot(results[\"t\"], results[\"p_ac\"])\n",
    "plt.subplot(1,3,2)\n",
    "plt.plot(results[\"t\"], results[\"p_ui\"])\n",
    "plt.subplot(1,3,3)\n",
    "plt.plot(results[\"t\"], results[\"pavpu\"]);\n",
    "#ts"
   ]
  },
  {
   "cell_type": "code",
   "execution_count": 180,
   "id": "e7ab361a-f2e7-417f-babc-e6f2fd2c1067",
   "metadata": {},
   "outputs": [],
   "source": [
    "# using the results from above\n",
    "outv2 = predictions[where_lesions]"
   ]
  },
  {
   "cell_type": "code",
   "execution_count": 185,
   "id": "6ad1779a-7ffd-42bc-8421-ba03b62cdb84",
   "metadata": {},
   "outputs": [
    {
     "data": {
      "text/plain": [
       "torch.Size([10, 2, 224, 160])"
      ]
     },
     "execution_count": 185,
     "metadata": {},
     "output_type": "execute_result"
    }
   ],
   "source": [
    "outv2[i].shape"
   ]
  },
  {
   "cell_type": "code",
   "execution_count": 218,
   "id": "2d2ce87d-017e-4868-9a6d-a0d6248577a3",
   "metadata": {},
   "outputs": [
    {
     "name": "stderr",
     "output_type": "stream",
     "text": [
      "100%|████████████████████████████████████████████████████████████████████████████████████████████████████████████████████████████████████████████████████| 115/115 [00:00<00:00, 267.36it/s]\n"
     ]
    }
   ],
   "source": [
    "dices = []\n",
    "uncert_patches = []\n",
    "accuracy_threshold = 0.9\n",
    "uncertianty_threshold = 0.05\n",
    "for i in tqdm(range(outv2.shape[0])):\n",
    "    dice = slice_dice(outv2[i].mean(dim=0), targetsv2[i])\n",
    "    ient_unrolled = ent_mapv2[i].unfold(0, window1, stride).unfold(1, window2, stride).reshape(-1, window1, window2)\n",
    "    itarget_unrolled = targetsv2[i].unfold(0, window1, stride).unfold(1, window2, stride).reshape(-1, window1, window2)\n",
    "    iseg_unrolled = predv2[:,i].unfold(1, window1, stride).unfold(2, window2, stride).reshape(samples, -1, window1, window2)\n",
    "    \n",
    "    # compute accurate patches\n",
    "    ipatch_accuracy = (torch.sum(iseg_unrolled == itarget_unrolled, dim=0) / samples).mean(dim=(1, 2))\n",
    "    iaccurate_patches = ipatch_accuracy >= accuracy_threshold\n",
    "\n",
    "    # compute the average uncertainty of each patch\n",
    "    iavg_ent = torch.mean(ient_unrolled, dim=(1,2))\n",
    "    iuncertain_patches = iavg_ent >= uncertianty_threshold\n",
    "    \n",
    "    num_uncert_patches = torch.sum(ent_mapv2[i])#torch.sum(iuncertain_patches)\n",
    "    \n",
    "    dices.append(dice)\n",
    "    uncert_patches.append(num_uncert_patches)"
   ]
  },
  {
   "cell_type": "code",
   "execution_count": 219,
   "id": "91985a91-ad10-4ff1-9f38-9bcd1eea6590",
   "metadata": {},
   "outputs": [
    {
     "data": {
      "text/plain": [
       "<matplotlib.collections.PathCollection at 0x7f11fac449d0>"
      ]
     },
     "execution_count": 219,
     "metadata": {},
     "output_type": "execute_result"
    },
    {
     "data": {
      "image/png": "[encoded data removed]",
      "text/plain": [
       "<Figure size 432x288 with 1 Axes>"
      ]
     },
     "metadata": {
      "needs_background": "light"
     },
     "output_type": "display_data"
    }
   ],
   "source": [
    "plt.scatter(dices, uncert_patches)"
   ]
  },
  {
   "cell_type": "code",
   "execution_count": 220,
   "id": "c26f489c-cd9c-4a05-b67c-45c20de4557a",
   "metadata": {},
   "outputs": [
    {
     "data": {
      "text/plain": [
       "716"
      ]
     },
     "execution_count": 220,
     "metadata": {},
     "output_type": "execute_result"
    }
   ],
   "source": [
    "\"\"\"\n",
    "\n",
    "The story to sell is\n",
    "\n",
    "we can correlate pixel accuracy with uncertianty quite well, however, we cannot do quality control so easily\n",
    "as accuracy and dice do not correlate.\n",
    "\n",
    "So, we should train a separate DICE prediction network, and use that for quality control.\n",
    "\n",
    "Okay, instead, what I am going to do is try interactive learning with the uncertainty map to imporve predictions.\n",
    "Nice.\n",
    "\"\"\""
   ]
  },
  {
   "cell_type": "code",
   "execution_count": null,
   "id": "6b67191b-cb6b-486f-9546-cda174a3aa15",
   "metadata": {},
   "outputs": [],
   "source": []
  },
  {
   "cell_type": "code",
   "execution_count": null,
   "id": "4e6c6c49-3feb-4226-8beb-ca3914163db2",
   "metadata": {},
   "outputs": [],
   "source": []
  },
  {
   "cell_type": "code",
   "execution_count": 98,
   "id": "675ace70-f7fe-4233-9b45-4bc06da48165",
   "metadata": {},
   "outputs": [
    {
     "data": {
      "text/plain": [
       "tensor(0.7471)"
      ]
     },
     "execution_count": 98,
     "metadata": {},
     "output_type": "execute_result"
    }
   ],
   "source": [
    "torch.sum(brain_patches) / len(brain_patches)"
   ]
  },
  {
   "cell_type": "code",
   "execution_count": 99,
   "id": "1e65c942-ff91-42a5-bfde-587f97c78257",
   "metadata": {},
   "outputs": [],
   "source": [
    "# compute the average entropy of each patch\n",
    "avg_ent = torch.var(ent_unrolled, dim=(1,2))"
   ]
  },
  {
   "cell_type": "code",
   "execution_count": 100,
   "id": "69045a7e-75a8-4ced-a174-a261773c4dba",
   "metadata": {},
   "outputs": [],
   "source": [
    "# compute the accuracy of each patch\n",
    "patch_accuracy = (torch.sum(seg_unrolled.swapaxes(0,1) == target_unrolled, dim=0) / samples).mean(dim=(1, 2))"
   ]
  },
  {
   "cell_type": "code",
   "execution_count": 101,
   "id": "3fbbf79e-86f9-47ac-bb7e-8ee709cfcf43",
   "metadata": {},
   "outputs": [],
   "source": [
    "avg_ent[87] = 0.01"
   ]
  },
  {
   "cell_type": "code",
   "execution_count": 102,
   "id": "9d4f0ac7-2115-4ffe-a380-313942fa90c7",
   "metadata": {},
   "outputs": [
    {
     "data": {
      "text/plain": [
       "<matplotlib.collections.PathCollection at 0x7f12fc2a21f0>"
      ]
     },
     "execution_count": 102,
     "metadata": {},
     "output_type": "execute_result"
    },
    {
     "data": {
      "image/png": "[encoded data removed]",
      "text/plain": [
       "<Figure size 432x288 with 1 Axes>"
      ]
     },
     "metadata": {
      "needs_background": "light"
     },
     "output_type": "display_data"
    }
   ],
   "source": [
    "plt.scatter(patch_accuracy, avg_ent)"
   ]
  },
  {
   "cell_type": "code",
   "execution_count": 373,
   "id": "bec7d2d5-cb7e-4b3c-97d4-4cce6729cb11",
   "metadata": {},
   "outputs": [
    {
     "data": {
      "text/plain": [
       "tensor(20)"
      ]
     },
     "execution_count": 373,
     "metadata": {},
     "output_type": "execute_result"
    }
   ],
   "source": [
    "torch.argmax(avg_ent)"
   ]
  },
  {
   "cell_type": "code",
   "execution_count": 374,
   "id": "5335c7c1-03aa-4551-ae32-fd0c6a9581b2",
   "metadata": {},
   "outputs": [
    {
     "data": {
      "text/plain": [
       "tensor([[ 1.0000, -0.8169],\n",
       "        [-0.8169,  1.0000]])"
      ]
     },
     "execution_count": 374,
     "metadata": {},
     "output_type": "execute_result"
    }
   ],
   "source": [
    "torch.corrcoef(torch.stack([patch_accuracy, avg_ent]))"
   ]
  },
  {
   "cell_type": "markdown",
   "id": "34e52ade-67c5-49e9-940e-86a34db10a13",
   "metadata": {},
   "source": [
    "### Quality control plot"
   ]
  },
  {
   "cell_type": "code",
   "execution_count": 392,
   "id": "8f7cae6b-0724-4962-ad00-85c65e8330ce",
   "metadata": {},
   "outputs": [],
   "source": [
    "# remove slices where there is no lesion at all\n",
    "where_lesions = targets.sum(dim=(1,2)) > 0\n",
    "predictionsv2 = predictions[where_lesions]\n",
    "predv2 = predictionsv2.argmax(dim=2)\n",
    "ent_mapv2 = ent_map[where_lesions]\n",
    "targetsv2 = targets[where_lesions]"
   ]
  },
  {
   "cell_type": "code",
   "execution_count": null,
   "id": "99e1da35-ae75-47b1-b0bc-7ab4e97a581d",
   "metadata": {},
   "outputs": [],
   "source": [
    "# mean dices\n"
   ]
  },
  {
   "cell_type": "code",
   "execution_count": 381,
   "id": "8cebfb8c-b89a-453d-96c6-5bc8f0dbb0ac",
   "metadata": {},
   "outputs": [],
   "source": [
    "pixel_accuracy = torch.sum(predv2.swapaxes(0,1) == targetsv2, dim=0) / samples\n",
    "avg_accuracy = torch.mean(pixel_accuracy, dim=(1,2))"
   ]
  },
  {
   "cell_type": "code",
   "execution_count": 384,
   "id": "a9b552fb-988a-4772-9588-23bbc96d42d5",
   "metadata": {},
   "outputs": [],
   "source": [
    "avg_ent = torch.mean(ent_mapv2, dim=(1,2))"
   ]
  },
  {
   "cell_type": "code",
   "execution_count": 388,
   "id": "3ff975dd-2e26-47aa-882b-8fd0b092ff59",
   "metadata": {},
   "outputs": [
    {
     "data": {
      "text/plain": [
       "tensor(87)"
      ]
     },
     "execution_count": 388,
     "metadata": {},
     "output_type": "execute_result"
    }
   ],
   "source": [
    "torch.argmax(avg_ent)"
   ]
  },
  {
   "cell_type": "code",
   "execution_count": 389,
   "id": "c004f21e-5e72-4daa-8602-8d136b9551a3",
   "metadata": {},
   "outputs": [],
   "source": [
    "avg_ent[87] = 0.01"
   ]
  },
  {
   "cell_type": "code",
   "execution_count": 390,
   "id": "ef216ad2-047b-40f1-941f-864b17d4eddd",
   "metadata": {},
   "outputs": [
    {
     "data": {
      "text/plain": [
       "<matplotlib.collections.PathCollection at 0x7f514a069160>"
      ]
     },
     "execution_count": 390,
     "metadata": {},
     "output_type": "execute_result"
    },
    {
     "data": {
      "image/png": "[encoded data removed]",
      "text/plain": [
       "<Figure size 432x288 with 1 Axes>"
      ]
     },
     "metadata": {
      "needs_background": "light"
     },
     "output_type": "display_data"
    }
   ],
   "source": [
    "plt.scatter(avg_accuracy, avg_ent)"
   ]
  },
  {
   "cell_type": "code",
   "execution_count": 439,
   "id": "1e594d0d-c3b6-43e2-8b89-81af7b5cc5cd",
   "metadata": {},
   "outputs": [
    {
     "data": {
      "text/plain": [
       "tensor([[ 1.0000, -0.8198],\n",
       "        [-0.8198,  1.0000]])"
      ]
     },
     "execution_count": 439,
     "metadata": {},
     "output_type": "execute_result"
    }
   ],
   "source": [
    "torch.corrcoef(torch.stack([avg_accuracy, avg_ent]))"
   ]
  },
  {
   "cell_type": "code",
   "execution_count": 413,
   "id": "b53f8bea-ecb5-4092-b1da-e158859b7b76",
   "metadata": {},
   "outputs": [
    {
     "name": "stderr",
     "output_type": "stream",
     "text": [
      "100%|█████████████████████████████████████████████████████████████████████████████████████████████████████████████████████████████████████████████████████| 110/110 [00:03<00:00, 35.12it/s]\n"
     ]
    }
   ],
   "source": [
    "dices = []\n",
    "for i in tqdm(range(targetsv2.shape[0])):\n",
    "    sample_dices = []\n",
    "    for s in range(samples):\n",
    "        sample_dices.append(ind_slice_dice(predictionsv2[i,s], targetsv2[i]))\n",
    "    dices.append(sample_dices)"
   ]
  },
  {
   "cell_type": "code",
   "execution_count": 415,
   "id": "3043dcb3-1029-4c96-ac45-7e8291d9c39b",
   "metadata": {},
   "outputs": [],
   "source": [
    "avg_dices = torch.mean(torch.Tensor(dices), dim=1)"
   ]
  },
  {
   "cell_type": "code",
   "execution_count": 417,
   "id": "e109f512-10a3-4507-bf12-2aa89557b771",
   "metadata": {},
   "outputs": [
    {
     "data": {
      "text/plain": [
       "(tensor([ 25,  28,  34,  36,  38,  51,  54,  56,  63, 107]),)"
      ]
     },
     "execution_count": 417,
     "metadata": {},
     "output_type": "execute_result"
    }
   ],
   "source": [
    "torch.where(avg_dices == 0)"
   ]
  },
  {
   "cell_type": "code",
   "execution_count": 419,
   "id": "f384ebc2-8684-4752-90e0-aa03ffa31bc4",
   "metadata": {},
   "outputs": [
    {
     "data": {
      "text/plain": [
       "<matplotlib.image.AxesImage at 0x7f5145f44250>"
      ]
     },
     "execution_count": 419,
     "metadata": {},
     "output_type": "execute_result"
    },
    {
     "data": {
      "image/png": "[encoded data removed]",
      "text/plain": [
       "<Figure size 432x288 with 1 Axes>"
      ]
     },
     "metadata": {
      "needs_background": "light"
     },
     "output_type": "display_data"
    }
   ],
   "source": [
    "plt.imshow(targetsv2[28])"
   ]
  },
  {
   "cell_type": "code",
   "execution_count": 406,
   "id": "12a0b8bb-ea67-4d60-8224-d3562c4ea28f",
   "metadata": {},
   "outputs": [],
   "source": [
    "def ind_slice_dice(y_hat, y_true):\n",
    "    y_hat = torch.nn.functional.softmax(y_hat, dim=0).argmax(dim=0)\n",
    "    \n",
    "    if torch.sum(y_hat) == 0 and torch.sum(y_true) == 0:\n",
    "        return \"n/a\"\n",
    "    \n",
    "    numerator = torch.sum(2 * y_hat * y_true)\n",
    "    denominator = torch.sum(y_hat + y_true)\n",
    "    return numerator / (denominator + 1e-8)"
   ]
  },
  {
   "cell_type": "code",
   "execution_count": 431,
   "id": "5cb79f26-04a1-4be1-82d1-118b7b413c1d",
   "metadata": {},
   "outputs": [],
   "source": [
    "true_volume = torch.sum(targetsv2, dim=(1,2))"
   ]
  },
  {
   "cell_type": "code",
   "execution_count": 433,
   "id": "6b30d171-bad0-4b10-a151-17ef828e589b",
   "metadata": {},
   "outputs": [
    {
     "data": {
      "text/plain": [
       "tensor([ 207,  142, 1238,  140,  250, 1693, 3088,   98,  111,  918,  204, 2865,\n",
       "        1140,  341,    8,  899,   11,  671,  417,  898, 1115, 1388,   47,   40,\n",
       "         130,    6,   60,   65,  115,  763, 1684, 1018,  569,  373,   12, 1067,\n",
       "          10,   32,   17, 2585,  320, 2521, 4571,  176, 4312,  405,  343,  336,\n",
       "         153,   89, 1144,   22,   55,  794,   12, 1385,   14,  181,   12,   82,\n",
       "         103,   78,   26,    4,   61, 1366,   14,  820,   10,   70, 1679, 5383,\n",
       "          54,  116,  905,   15,  100,   55,  389,  616,   28,  203,  158,   56,\n",
       "          24,  447,  152,  182,   53, 1060,    6,  269,  258, 1581,   29,  533,\n",
       "          20,   22,   24,  382,  951,  498,   86,  254,  357,  535,  160,   38,\n",
       "         416,   32])"
      ]
     },
     "execution_count": 433,
     "metadata": {},
     "output_type": "execute_result"
    }
   ],
   "source": [
    "true_volume"
   ]
  },
  {
   "cell_type": "code",
   "execution_count": 412,
   "id": "1247f435-716b-4262-8534-5ec8a403bc48",
   "metadata": {},
   "outputs": [
    {
     "data": {
      "text/plain": [
       "tensor(0.5939)"
      ]
     },
     "execution_count": 412,
     "metadata": {},
     "output_type": "execute_result"
    }
   ],
   "source": [
    "ind_slice_dice(predictionsv2[0,0], targetsv2[0])"
   ]
  },
  {
   "cell_type": "code",
   "execution_count": 400,
   "id": "06c58721-325c-4646-bf15-c4796f688214",
   "metadata": {},
   "outputs": [
    {
     "data": {
      "text/plain": [
       "torch.Size([2, 224, 160])"
      ]
     },
     "execution_count": 400,
     "metadata": {},
     "output_type": "execute_result"
    }
   ],
   "source": [
    "predictionsv2[0,0].shape"
   ]
  },
  {
   "cell_type": "code",
   "execution_count": 436,
   "id": "0fc80f16-bc82-4564-a4e1-0d5bb2e31753",
   "metadata": {},
   "outputs": [
    {
     "data": {
      "text/plain": [
       "<matplotlib.collections.PathCollection at 0x7f51449d3d00>"
      ]
     },
     "execution_count": 436,
     "metadata": {},
     "output_type": "execute_result"
    },
    {
     "data": {
      "image/png": "[encoded data removed]",
      "text/plain": [
       "<Figure size 432x288 with 1 Axes>"
      ]
     },
     "metadata": {
      "needs_background": "light"
     },
     "output_type": "display_data"
    }
   ],
   "source": [
    "plt.scatter(avg_dices, avg_accuracy)"
   ]
  },
  {
   "cell_type": "code",
   "execution_count": null,
   "id": "2289a0d7-8143-42c4-83c0-82e4a94e66c5",
   "metadata": {},
   "outputs": [],
   "source": []
  }
 ],
 "metadata": {
  "kernelspec": {
   "display_name": "Python 3 (ipykernel)",
   "language": "python",
   "name": "python3"
  },
  "language_info": {
   "codemirror_mode": {
    "name": "ipython",
    "version": 3
   },
   "file_extension": ".py",
   "mimetype": "text/x-python",
   "name": "python",
   "nbconvert_exporter": "python",
   "pygments_lexer": "ipython3",
   "version": "3.9.12"
  }
 },
 "nbformat": 4,
 "nbformat_minor": 5
}
