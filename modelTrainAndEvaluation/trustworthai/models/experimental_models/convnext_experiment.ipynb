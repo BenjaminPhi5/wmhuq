{
 "cells": [
  {
   "cell_type": "code",
   "execution_count": 1,
   "id": "d3d6cae5-8221-4497-b567-af26d02edae4",
   "metadata": {
    "tags": []
   },
   "outputs": [],
   "source": [
    "import torch\n",
    "import torchvision as tv\n",
    "import torch.nn as nn\n",
    "import torch.nn.functional as F\n",
    "import numpy as np\n",
    "import matplotlib.pyplot as plt\n",
    "import proplot as pplt\n",
    "import seaborn as sns\n",
    "import os\n",
    "from torchinfo import summary\n",
    "import monai"
   ]
  },
  {
   "cell_type": "code",
   "execution_count": 2,
   "id": "9b67c30e-8b51-4d0c-81dd-0f9d3453087f",
   "metadata": {
    "tags": []
   },
   "outputs": [],
   "source": [
    "model = tv.models.convnext_large(weights=None)"
   ]
  },
  {
   "cell_type": "code",
   "execution_count": 3,
   "id": "73ac74fc-b5f0-4285-b03e-283f3bb5c04e",
   "metadata": {
    "tags": []
   },
   "outputs": [
    {
     "data": {
      "text/plain": [
       "===============================================================================================\n",
       "Layer (type:depth-idx)                        Output Shape              Param #\n",
       "===============================================================================================\n",
       "ConvNeXt                                      [1, 1000]                 --\n",
       "├─Sequential: 1-1                             [1, 1536, 7, 7]           --\n",
       "│    └─Conv2dNormActivation: 2-1              [1, 192, 56, 56]          --\n",
       "│    │    └─Conv2d: 3-1                       [1, 192, 56, 56]          9,408\n",
       "│    │    └─LayerNorm2d: 3-2                  [1, 192, 56, 56]          384\n",
       "│    └─Sequential: 2-2                        [1, 192, 56, 56]          --\n",
       "│    │    └─CNBlock: 3-3                      [1, 192, 56, 56]          306,048\n",
       "│    │    └─CNBlock: 3-4                      [1, 192, 56, 56]          306,048\n",
       "│    │    └─CNBlock: 3-5                      [1, 192, 56, 56]          306,048\n",
       "│    └─Sequential: 2-3                        [1, 384, 28, 28]          --\n",
       "│    │    └─LayerNorm2d: 3-6                  [1, 192, 56, 56]          384\n",
       "│    │    └─Conv2d: 3-7                       [1, 384, 28, 28]          295,296\n",
       "│    └─Sequential: 2-4                        [1, 384, 28, 28]          --\n",
       "│    │    └─CNBlock: 3-8                      [1, 384, 28, 28]          1,201,920\n",
       "│    │    └─CNBlock: 3-9                      [1, 384, 28, 28]          1,201,920\n",
       "│    │    └─CNBlock: 3-10                     [1, 384, 28, 28]          1,201,920\n",
       "│    └─Sequential: 2-5                        [1, 768, 14, 14]          --\n",
       "│    │    └─LayerNorm2d: 3-11                 [1, 384, 28, 28]          768\n",
       "│    │    └─Conv2d: 3-12                      [1, 768, 14, 14]          1,180,416\n",
       "│    └─Sequential: 2-6                        [1, 768, 14, 14]          --\n",
       "│    │    └─CNBlock: 3-13                     [1, 768, 14, 14]          4,763,136\n",
       "│    │    └─CNBlock: 3-14                     [1, 768, 14, 14]          4,763,136\n",
       "│    │    └─CNBlock: 3-15                     [1, 768, 14, 14]          4,763,136\n",
       "│    │    └─CNBlock: 3-16                     [1, 768, 14, 14]          4,763,136\n",
       "│    │    └─CNBlock: 3-17                     [1, 768, 14, 14]          4,763,136\n",
       "│    │    └─CNBlock: 3-18                     [1, 768, 14, 14]          4,763,136\n",
       "│    │    └─CNBlock: 3-19                     [1, 768, 14, 14]          4,763,136\n",
       "│    │    └─CNBlock: 3-20                     [1, 768, 14, 14]          4,763,136\n",
       "│    │    └─CNBlock: 3-21                     [1, 768, 14, 14]          4,763,136\n",
       "│    │    └─CNBlock: 3-22                     [1, 768, 14, 14]          4,763,136\n",
       "│    │    └─CNBlock: 3-23                     [1, 768, 14, 14]          4,763,136\n",
       "│    │    └─CNBlock: 3-24                     [1, 768, 14, 14]          4,763,136\n",
       "│    │    └─CNBlock: 3-25                     [1, 768, 14, 14]          4,763,136\n",
       "│    │    └─CNBlock: 3-26                     [1, 768, 14, 14]          4,763,136\n",
       "│    │    └─CNBlock: 3-27                     [1, 768, 14, 14]          4,763,136\n",
       "│    │    └─CNBlock: 3-28                     [1, 768, 14, 14]          4,763,136\n",
       "│    │    └─CNBlock: 3-29                     [1, 768, 14, 14]          4,763,136\n",
       "│    │    └─CNBlock: 3-30                     [1, 768, 14, 14]          4,763,136\n",
       "│    │    └─CNBlock: 3-31                     [1, 768, 14, 14]          4,763,136\n",
       "│    │    └─CNBlock: 3-32                     [1, 768, 14, 14]          4,763,136\n",
       "│    │    └─CNBlock: 3-33                     [1, 768, 14, 14]          4,763,136\n",
       "│    │    └─CNBlock: 3-34                     [1, 768, 14, 14]          4,763,136\n",
       "│    │    └─CNBlock: 3-35                     [1, 768, 14, 14]          4,763,136\n",
       "│    │    └─CNBlock: 3-36                     [1, 768, 14, 14]          4,763,136\n",
       "│    │    └─CNBlock: 3-37                     [1, 768, 14, 14]          4,763,136\n",
       "│    │    └─CNBlock: 3-38                     [1, 768, 14, 14]          4,763,136\n",
       "│    │    └─CNBlock: 3-39                     [1, 768, 14, 14]          4,763,136\n",
       "│    └─Sequential: 2-7                        [1, 1536, 7, 7]           --\n",
       "│    │    └─LayerNorm2d: 3-40                 [1, 768, 14, 14]          1,536\n",
       "│    │    └─Conv2d: 3-41                      [1, 1536, 7, 7]           4,720,128\n",
       "│    └─Sequential: 2-8                        [1, 1536, 7, 7]           --\n",
       "│    │    └─CNBlock: 3-42                     [1, 1536, 7, 7]           18,963,456\n",
       "│    │    └─CNBlock: 3-43                     [1, 1536, 7, 7]           18,963,456\n",
       "│    │    └─CNBlock: 3-44                     [1, 1536, 7, 7]           18,963,456\n",
       "├─AdaptiveAvgPool2d: 1-2                      [1, 1536, 1, 1]           --\n",
       "├─Sequential: 1-3                             [1, 1000]                 --\n",
       "│    └─LayerNorm2d: 2-9                       [1, 1536, 1, 1]           3,072\n",
       "│    └─Flatten: 2-10                          [1, 1536]                 --\n",
       "│    └─Linear: 2-11                           [1, 1000]                 1,537,000\n",
       "===============================================================================================\n",
       "Total params: 197,767,336\n",
       "Trainable params: 197,767,336\n",
       "Non-trainable params: 0\n",
       "Total mult-adds (G): 1.26\n",
       "===============================================================================================\n",
       "Input size (MB): 0.60\n",
       "Forward/backward pass size (MB): 414.27\n",
       "Params size (MB): 790.96\n",
       "Estimated Total Size (MB): 1205.84\n",
       "==============================================================================================="
      ]
     },
     "execution_count": 3,
     "metadata": {},
     "output_type": "execute_result"
    }
   ],
   "source": [
    "summary(model, (1, 3, 224, 224))"
   ]
  },
  {
   "cell_type": "code",
   "execution_count": 17,
   "id": "f8cc2c1f-8ec6-4f18-a0d0-6b1a3277fa03",
   "metadata": {
    "tags": []
   },
   "outputs": [],
   "source": [
    "vit = tv.models.vit_l_16(weights=None)"
   ]
  },
  {
   "cell_type": "code",
   "execution_count": 20,
   "id": "3330d310-3688-4eb1-a6a5-f368302654d1",
   "metadata": {
    "tags": []
   },
   "outputs": [],
   "source": [
    "with torch.no_grad():\n",
    "    o = vit.cpu()(torch.randn(1,3, 224, 224))"
   ]
  },
  {
   "cell_type": "code",
   "execution_count": 21,
   "id": "bf772722-21f8-45da-b181-cd758d7ee227",
   "metadata": {
    "tags": []
   },
   "outputs": [
    {
     "data": {
      "text/plain": [
       "====================================================================================================\n",
       "Layer (type:depth-idx)                             Output Shape              Param #\n",
       "====================================================================================================\n",
       "VisionTransformer                                  [1, 1000]                 1,024\n",
       "├─Conv2d: 1-1                                      [1, 1024, 14, 14]         787,456\n",
       "├─Encoder: 1-2                                     [1, 197, 1024]            201,728\n",
       "│    └─Dropout: 2-1                                [1, 197, 1024]            --\n",
       "│    └─Sequential: 2-2                             [1, 197, 1024]            --\n",
       "│    │    └─EncoderBlock: 3-1                      [1, 197, 1024]            12,596,224\n",
       "│    │    └─EncoderBlock: 3-2                      [1, 197, 1024]            12,596,224\n",
       "│    │    └─EncoderBlock: 3-3                      [1, 197, 1024]            12,596,224\n",
       "│    │    └─EncoderBlock: 3-4                      [1, 197, 1024]            12,596,224\n",
       "│    │    └─EncoderBlock: 3-5                      [1, 197, 1024]            12,596,224\n",
       "│    │    └─EncoderBlock: 3-6                      [1, 197, 1024]            12,596,224\n",
       "│    │    └─EncoderBlock: 3-7                      [1, 197, 1024]            12,596,224\n",
       "│    │    └─EncoderBlock: 3-8                      [1, 197, 1024]            12,596,224\n",
       "│    │    └─EncoderBlock: 3-9                      [1, 197, 1024]            12,596,224\n",
       "│    │    └─EncoderBlock: 3-10                     [1, 197, 1024]            12,596,224\n",
       "│    │    └─EncoderBlock: 3-11                     [1, 197, 1024]            12,596,224\n",
       "│    │    └─EncoderBlock: 3-12                     [1, 197, 1024]            12,596,224\n",
       "│    │    └─EncoderBlock: 3-13                     [1, 197, 1024]            12,596,224\n",
       "│    │    └─EncoderBlock: 3-14                     [1, 197, 1024]            12,596,224\n",
       "│    │    └─EncoderBlock: 3-15                     [1, 197, 1024]            12,596,224\n",
       "│    │    └─EncoderBlock: 3-16                     [1, 197, 1024]            12,596,224\n",
       "│    │    └─EncoderBlock: 3-17                     [1, 197, 1024]            12,596,224\n",
       "│    │    └─EncoderBlock: 3-18                     [1, 197, 1024]            12,596,224\n",
       "│    │    └─EncoderBlock: 3-19                     [1, 197, 1024]            12,596,224\n",
       "│    │    └─EncoderBlock: 3-20                     [1, 197, 1024]            12,596,224\n",
       "│    │    └─EncoderBlock: 3-21                     [1, 197, 1024]            12,596,224\n",
       "│    │    └─EncoderBlock: 3-22                     [1, 197, 1024]            12,596,224\n",
       "│    │    └─EncoderBlock: 3-23                     [1, 197, 1024]            12,596,224\n",
       "│    │    └─EncoderBlock: 3-24                     [1, 197, 1024]            12,596,224\n",
       "│    └─LayerNorm: 2-3                              [1, 197, 1024]            2,048\n",
       "├─Sequential: 1-3                                  [1, 1000]                 --\n",
       "│    └─Linear: 2-4                                 [1, 1000]                 1,025,000\n",
       "====================================================================================================\n",
       "Total params: 304,326,632\n",
       "Trainable params: 304,326,632\n",
       "Non-trainable params: 0\n",
       "Total mult-adds (M): 356.92\n",
       "====================================================================================================\n",
       "Input size (MB): 0.60\n",
       "Forward/backward pass size (MB): 274.35\n",
       "Params size (MB): 813.45\n",
       "Estimated Total Size (MB): 1088.40\n",
       "===================================================================================================="
      ]
     },
     "execution_count": 21,
     "metadata": {},
     "output_type": "execute_result"
    }
   ],
   "source": [
    "summary(vit, (1, 3, 224, 224))"
   ]
  },
  {
   "cell_type": "markdown",
   "id": "74fdd93a-c9fc-4c91-8f3c-870650853771",
   "metadata": {},
   "source": [
    "### Notes\n",
    "\n",
    "okay, so the plan is, to build an encoder that has two branches, one VIT and one ConvNext, both in 3D. The first layer of the ConvNext does not do much downsampling\n",
    "where as the VIT could do a lot since it has the attention mechanism for context.\n",
    "\n",
    "Then the outputs every three layers are compressed through a bottle neck and merged, so the transformer outputs are included into the unet and vice versa maybe then the decoder is a standard unet decoder, but with my stochastic layers added in. The model also has a classifiction/regression head from the middle of the unet that is used for non generative tasks, the decoder used for generative stuff."
   ]
  },
  {
   "cell_type": "code",
   "execution_count": 4,
   "id": "ccc26bfb-85ff-419d-92e6-6f40f72f44a5",
   "metadata": {
    "tags": []
   },
   "outputs": [],
   "source": [
    "class ConvNextBlock3D(nn.Module):\n",
    "    def __init__(self, in_planes, layer_scale, stochastic_depth_prob):\n",
    "        super().__init__()\n",
    "        \n",
    "        self.block = nn.Sequential(\n",
    "            nn.Conv3d(in_planes, in_planes, kernel_size=7, padding=3, groups=in_planes, bias=True),\n",
    "            tv.ops.Permute([0, 2, 3, 4, 1]),\n",
    "            nn.LayerNorm(in_planes),\n",
    "            tv.ops.Permute([0, 4, 1, 2, 3]),\n",
    "            nn.Conv3d(in_planes, in_planes * 4, kernel_size=1, bias=True),\n",
    "            nn.GELU(),\n",
    "            nn.Conv3d(in_planes * 4, in_planes, kernel_size=1, bias=True)\n",
    "        )\n",
    "        \n",
    "        self.layer_scale = nn.Parameter(torch.ones(in_planes, 1, 1, 1) * layer_scale)\n",
    "        self.stochastic_depth_prob = stochastic_depth_prob\n",
    "        self.sdp_mode = \"row\"\n",
    "        \n",
    "    def forward(self, x):\n",
    "        o = x\n",
    "        o = self.layer_scale * self.block(o)\n",
    "        o = tv.ops.stochastic_depth(o, self.stochastic_depth_prob, self.sdp_mode)\n",
    "        o += x \n",
    "        return o"
   ]
  },
  {
   "cell_type": "code",
   "execution_count": 12,
   "id": "3f024766-6042-43d7-9fa3-9eeced663c5a",
   "metadata": {
    "tags": []
   },
   "outputs": [],
   "source": [
    "cnb = nn.Sequential(\n",
    "    ConvNextBlock3D(12, 1, 0.5),\n",
    "    ConvNextBlock3D(12, 1, 0.5),\n",
    "    ConvNextBlock3D(12, 1, 0.5),\n",
    "    ConvNextBlock3D(12, 1, 0.5),\n",
    "    ConvNextBlock3D(12, 1, 0.5),\n",
    "    ConvNextBlock3D(12, 1, 0.5),\n",
    "    ConvNextBlock3D(12, 1, 0.5),\n",
    "    ConvNextBlock3D(12, 1, 0.5),\n",
    "    ConvNextBlock3D(12, 1, 0.5),\n",
    "    ConvNextBlock3D(12, 1, 0.5)\n",
    ")"
   ]
  },
  {
   "cell_type": "code",
   "execution_count": 13,
   "id": "aef4683d-2e67-4988-827b-de3981dcedcd",
   "metadata": {
    "tags": []
   },
   "outputs": [],
   "source": [
    "with torch.no_grad():\n",
    "    o = cnb.cpu()(torch.randn(1, 12, 60, 192, 240))"
   ]
  },
  {
   "cell_type": "code",
   "execution_count": 15,
   "id": "25ee8d27-7299-441b-9878-c7b8cc52a854",
   "metadata": {
    "tags": []
   },
   "outputs": [
    {
     "data": {
      "text/plain": [
       "==========================================================================================\n",
       "Layer (type:depth-idx)                   Output Shape              Param #\n",
       "==========================================================================================\n",
       "Sequential                               [1, 12, 60, 192, 240]     --\n",
       "├─ConvNextBlock3D: 1-1                   [1, 12, 60, 192, 240]     12\n",
       "│    └─Sequential: 2-1                   [1, 12, 60, 192, 240]     --\n",
       "│    │    └─Conv3d: 3-1                  [1, 12, 60, 192, 240]     4,128\n",
       "│    │    └─Permute: 3-2                 [1, 60, 192, 240, 12]     --\n",
       "│    │    └─LayerNorm: 3-3               [1, 60, 192, 240, 12]     24\n",
       "│    │    └─Permute: 3-4                 [1, 12, 60, 192, 240]     --\n",
       "│    │    └─Conv3d: 3-5                  [1, 48, 60, 192, 240]     624\n",
       "│    │    └─GELU: 3-6                    [1, 48, 60, 192, 240]     --\n",
       "│    │    └─Conv3d: 3-7                  [1, 12, 60, 192, 240]     588\n",
       "├─ConvNextBlock3D: 1-2                   [1, 12, 60, 192, 240]     12\n",
       "│    └─Sequential: 2-2                   [1, 12, 60, 192, 240]     --\n",
       "│    │    └─Conv3d: 3-8                  [1, 12, 60, 192, 240]     4,128\n",
       "│    │    └─Permute: 3-9                 [1, 60, 192, 240, 12]     --\n",
       "│    │    └─LayerNorm: 3-10              [1, 60, 192, 240, 12]     24\n",
       "│    │    └─Permute: 3-11                [1, 12, 60, 192, 240]     --\n",
       "│    │    └─Conv3d: 3-12                 [1, 48, 60, 192, 240]     624\n",
       "│    │    └─GELU: 3-13                   [1, 48, 60, 192, 240]     --\n",
       "│    │    └─Conv3d: 3-14                 [1, 12, 60, 192, 240]     588\n",
       "├─ConvNextBlock3D: 1-3                   [1, 12, 60, 192, 240]     12\n",
       "│    └─Sequential: 2-3                   [1, 12, 60, 192, 240]     --\n",
       "│    │    └─Conv3d: 3-15                 [1, 12, 60, 192, 240]     4,128\n",
       "│    │    └─Permute: 3-16                [1, 60, 192, 240, 12]     --\n",
       "│    │    └─LayerNorm: 3-17              [1, 60, 192, 240, 12]     24\n",
       "│    │    └─Permute: 3-18                [1, 12, 60, 192, 240]     --\n",
       "│    │    └─Conv3d: 3-19                 [1, 48, 60, 192, 240]     624\n",
       "│    │    └─GELU: 3-20                   [1, 48, 60, 192, 240]     --\n",
       "│    │    └─Conv3d: 3-21                 [1, 12, 60, 192, 240]     588\n",
       "├─ConvNextBlock3D: 1-4                   [1, 12, 60, 192, 240]     12\n",
       "│    └─Sequential: 2-4                   [1, 12, 60, 192, 240]     --\n",
       "│    │    └─Conv3d: 3-22                 [1, 12, 60, 192, 240]     4,128\n",
       "│    │    └─Permute: 3-23                [1, 60, 192, 240, 12]     --\n",
       "│    │    └─LayerNorm: 3-24              [1, 60, 192, 240, 12]     24\n",
       "│    │    └─Permute: 3-25                [1, 12, 60, 192, 240]     --\n",
       "│    │    └─Conv3d: 3-26                 [1, 48, 60, 192, 240]     624\n",
       "│    │    └─GELU: 3-27                   [1, 48, 60, 192, 240]     --\n",
       "│    │    └─Conv3d: 3-28                 [1, 12, 60, 192, 240]     588\n",
       "├─ConvNextBlock3D: 1-5                   [1, 12, 60, 192, 240]     12\n",
       "│    └─Sequential: 2-5                   [1, 12, 60, 192, 240]     --\n",
       "│    │    └─Conv3d: 3-29                 [1, 12, 60, 192, 240]     4,128\n",
       "│    │    └─Permute: 3-30                [1, 60, 192, 240, 12]     --\n",
       "│    │    └─LayerNorm: 3-31              [1, 60, 192, 240, 12]     24\n",
       "│    │    └─Permute: 3-32                [1, 12, 60, 192, 240]     --\n",
       "│    │    └─Conv3d: 3-33                 [1, 48, 60, 192, 240]     624\n",
       "│    │    └─GELU: 3-34                   [1, 48, 60, 192, 240]     --\n",
       "│    │    └─Conv3d: 3-35                 [1, 12, 60, 192, 240]     588\n",
       "├─ConvNextBlock3D: 1-6                   [1, 12, 60, 192, 240]     12\n",
       "│    └─Sequential: 2-6                   [1, 12, 60, 192, 240]     --\n",
       "│    │    └─Conv3d: 3-36                 [1, 12, 60, 192, 240]     4,128\n",
       "│    │    └─Permute: 3-37                [1, 60, 192, 240, 12]     --\n",
       "│    │    └─LayerNorm: 3-38              [1, 60, 192, 240, 12]     24\n",
       "│    │    └─Permute: 3-39                [1, 12, 60, 192, 240]     --\n",
       "│    │    └─Conv3d: 3-40                 [1, 48, 60, 192, 240]     624\n",
       "│    │    └─GELU: 3-41                   [1, 48, 60, 192, 240]     --\n",
       "│    │    └─Conv3d: 3-42                 [1, 12, 60, 192, 240]     588\n",
       "├─ConvNextBlock3D: 1-7                   [1, 12, 60, 192, 240]     12\n",
       "│    └─Sequential: 2-7                   [1, 12, 60, 192, 240]     --\n",
       "│    │    └─Conv3d: 3-43                 [1, 12, 60, 192, 240]     4,128\n",
       "│    │    └─Permute: 3-44                [1, 60, 192, 240, 12]     --\n",
       "│    │    └─LayerNorm: 3-45              [1, 60, 192, 240, 12]     24\n",
       "│    │    └─Permute: 3-46                [1, 12, 60, 192, 240]     --\n",
       "│    │    └─Conv3d: 3-47                 [1, 48, 60, 192, 240]     624\n",
       "│    │    └─GELU: 3-48                   [1, 48, 60, 192, 240]     --\n",
       "│    │    └─Conv3d: 3-49                 [1, 12, 60, 192, 240]     588\n",
       "├─ConvNextBlock3D: 1-8                   [1, 12, 60, 192, 240]     12\n",
       "│    └─Sequential: 2-8                   [1, 12, 60, 192, 240]     --\n",
       "│    │    └─Conv3d: 3-50                 [1, 12, 60, 192, 240]     4,128\n",
       "│    │    └─Permute: 3-51                [1, 60, 192, 240, 12]     --\n",
       "│    │    └─LayerNorm: 3-52              [1, 60, 192, 240, 12]     24\n",
       "│    │    └─Permute: 3-53                [1, 12, 60, 192, 240]     --\n",
       "│    │    └─Conv3d: 3-54                 [1, 48, 60, 192, 240]     624\n",
       "│    │    └─GELU: 3-55                   [1, 48, 60, 192, 240]     --\n",
       "│    │    └─Conv3d: 3-56                 [1, 12, 60, 192, 240]     588\n",
       "├─ConvNextBlock3D: 1-9                   [1, 12, 60, 192, 240]     12\n",
       "│    └─Sequential: 2-9                   [1, 12, 60, 192, 240]     --\n",
       "│    │    └─Conv3d: 3-57                 [1, 12, 60, 192, 240]     4,128\n",
       "│    │    └─Permute: 3-58                [1, 60, 192, 240, 12]     --\n",
       "│    │    └─LayerNorm: 3-59              [1, 60, 192, 240, 12]     24\n",
       "│    │    └─Permute: 3-60                [1, 12, 60, 192, 240]     --\n",
       "│    │    └─Conv3d: 3-61                 [1, 48, 60, 192, 240]     624\n",
       "│    │    └─GELU: 3-62                   [1, 48, 60, 192, 240]     --\n",
       "│    │    └─Conv3d: 3-63                 [1, 12, 60, 192, 240]     588\n",
       "├─ConvNextBlock3D: 1-10                  [1, 12, 60, 192, 240]     12\n",
       "│    └─Sequential: 2-10                  [1, 12, 60, 192, 240]     --\n",
       "│    │    └─Conv3d: 3-64                 [1, 12, 60, 192, 240]     4,128\n",
       "│    │    └─Permute: 3-65                [1, 60, 192, 240, 12]     --\n",
       "│    │    └─LayerNorm: 3-66              [1, 60, 192, 240, 12]     24\n",
       "│    │    └─Permute: 3-67                [1, 12, 60, 192, 240]     --\n",
       "│    │    └─Conv3d: 3-68                 [1, 48, 60, 192, 240]     624\n",
       "│    │    └─GELU: 3-69                   [1, 48, 60, 192, 240]     --\n",
       "│    │    └─Conv3d: 3-70                 [1, 12, 60, 192, 240]     588\n",
       "==========================================================================================\n",
       "Total params: 53,760\n",
       "Trainable params: 53,760\n",
       "Non-trainable params: 0\n",
       "Total mult-adds (G): 147.64\n",
       "==========================================================================================\n",
       "Input size (MB): 132.71\n",
       "Forward/backward pass size (MB): 18579.46\n",
       "Params size (MB): 0.21\n",
       "Estimated Total Size (MB): 18712.38\n",
       "=========================================================================================="
      ]
     },
     "execution_count": 15,
     "metadata": {},
     "output_type": "execute_result"
    }
   ],
   "source": [
    "summary(cnb, (1, 12, 60, 192, 240))"
   ]
  },
  {
   "cell_type": "code",
   "execution_count": null,
   "id": "056e4db3-3737-4bb8-91e5-f5f7856c3588",
   "metadata": {},
   "outputs": [],
   "source": []
  }
 ],
 "metadata": {
  "kernelspec": {
   "display_name": "Python 3 (ipykernel)",
   "language": "python",
   "name": "python3"
  },
  "language_info": {
   "codemirror_mode": {
    "name": "ipython",
    "version": 3
   },
   "file_extension": ".py",
   "mimetype": "text/x-python",
   "name": "python",
   "nbconvert_exporter": "python",
   "pygments_lexer": "ipython3",
   "version": "3.10.14"
  }
 },
 "nbformat": 4,
 "nbformat_minor": 5
}
