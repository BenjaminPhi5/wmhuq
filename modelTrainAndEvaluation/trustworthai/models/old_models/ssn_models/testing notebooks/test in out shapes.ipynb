{
 "cells": [
  {
   "cell_type": "code",
   "execution_count": 1,
   "id": "2ad58db7-0ee1-4976-bee2-a1daa1172158",
   "metadata": {},
   "outputs": [],
   "source": [
    "import torch\n",
    "from trustworthai.models.ssn_models.deepmedic import DeepMedic\n",
    "from torchinfo import summary"
   ]
  },
  {
   "cell_type": "code",
   "execution_count": 30,
   "id": "a6ad5a80-1eaf-4997-82a3-fb3539453ecf",
   "metadata": {},
   "outputs": [],
   "source": [
    "SCALE_FACTORS = ((5, 5, 3), (3, 3, 3), (1, 1, 1))\n",
    "FEATURE_MAPS = (30, 30, 40, 40, 40, 40, 50, 50)\n",
    "FULLY_CONNECTED = (250, 250)\n",
    "DROPOUT = (.0, .5, .5)\n",
    "\n",
    "dm = DeepMedic(3,\n",
    "                 2,\n",
    "                 scale_factors=SCALE_FACTORS,\n",
    "                 feature_maps=FEATURE_MAPS,\n",
    "                 fully_connected=FULLY_CONNECTED,\n",
    "                 dropout=DROPOUT)"
   ]
  },
  {
   "cell_type": "code",
   "execution_count": 31,
   "id": "6121841a-7306-49cd-b42d-22ecf896c762",
   "metadata": {},
   "outputs": [
    {
     "data": {
      "text/plain": [
       "=================================================================\n",
       "Layer (type:depth-idx)                   Param #\n",
       "=================================================================\n",
       "DeepMedic                                --\n",
       "├─Path: 1-1                              --\n",
       "│    └─Sequential: 2-1                   --\n",
       "│    │    └─DownSample: 3-1              --\n",
       "│    │    └─PreActBlock: 3-2             2,437\n",
       "│    │    └─PreActBlock: 3-3             24,361\n",
       "│    │    └─PreActBlock: 3-4             32,461\n",
       "│    │    └─PreActBlock: 3-5             43,281\n",
       "│    │    └─PreActBlock: 3-6             43,281\n",
       "│    │    └─PreActBlock: 3-7             43,281\n",
       "│    │    └─PreActBlock: 3-8             54,081\n",
       "│    │    └─PreActBlock: 3-9             67,601\n",
       "│    │    └─UpSample: 3-10               --\n",
       "├─Path: 1-2                              --\n",
       "│    └─Sequential: 2-2                   --\n",
       "│    │    └─DownSample: 3-11             --\n",
       "│    │    └─PreActBlock: 3-12            2,437\n",
       "│    │    └─PreActBlock: 3-13            24,361\n",
       "│    │    └─PreActBlock: 3-14            32,461\n",
       "│    │    └─PreActBlock: 3-15            43,281\n",
       "│    │    └─PreActBlock: 3-16            43,281\n",
       "│    │    └─PreActBlock: 3-17            43,281\n",
       "│    │    └─PreActBlock: 3-18            54,081\n",
       "│    │    └─PreActBlock: 3-19            67,601\n",
       "│    │    └─UpSample: 3-20               --\n",
       "├─Path: 1-3                              --\n",
       "│    └─Sequential: 2-3                   --\n",
       "│    │    └─DownSample: 3-21             --\n",
       "│    │    └─PreActBlock: 3-22            2,437\n",
       "│    │    └─PreActBlock: 3-23            24,361\n",
       "│    │    └─PreActBlock: 3-24            32,461\n",
       "│    │    └─PreActBlock: 3-25            43,281\n",
       "│    │    └─PreActBlock: 3-26            43,281\n",
       "│    │    └─PreActBlock: 3-27            43,281\n",
       "│    │    └─PreActBlock: 3-28            54,081\n",
       "│    │    └─PreActBlock: 3-29            67,601\n",
       "│    │    └─UpSample: 3-30               --\n",
       "├─Sequential: 1-4                        --\n",
       "│    └─PreActBlock: 2-4                  --\n",
       "│    │    └─BatchNorm3d: 3-31            300\n",
       "│    │    └─Conv3d: 3-32                 37,500\n",
       "│    │    └─Dropout: 3-33                --\n",
       "│    │    └─PReLU: 3-34                  1\n",
       "│    └─PreActBlock: 2-5                  --\n",
       "│    │    └─BatchNorm3d: 3-35            500\n",
       "│    │    └─Conv3d: 3-36                 62,500\n",
       "│    │    └─Dropout: 3-37                --\n",
       "│    │    └─PReLU: 3-38                  1\n",
       "│    └─PreActBlock: 2-6                  --\n",
       "│    │    └─BatchNorm3d: 3-39            500\n",
       "│    │    └─Conv3d: 3-40                 500\n",
       "│    │    └─Dropout: 3-41                --\n",
       "│    │    └─PReLU: 3-42                  1\n",
       "=================================================================\n",
       "Total params: 1,034,155\n",
       "Trainable params: 1,034,155\n",
       "Non-trainable params: 0\n",
       "================================================================="
      ]
     },
     "execution_count": 31,
     "metadata": {},
     "output_type": "execute_result"
    }
   ],
   "source": [
    "summary(dm)"
   ]
  },
  {
   "cell_type": "code",
   "execution_count": 7,
   "id": "196ce85e-f3cb-4617-a10d-0b375c2a4f16",
   "metadata": {},
   "outputs": [],
   "source": [
    "from torch.utils.tensorboard import SummaryWriter"
   ]
  },
  {
   "cell_type": "code",
   "execution_count": 8,
   "id": "a3c9765c-a1ec-4056-9d06-f5c441a61263",
   "metadata": {},
   "outputs": [],
   "source": [
    "writer = SummaryWriter()"
   ]
  },
  {
   "cell_type": "code",
   "execution_count": 9,
   "id": "a5678d13-771b-45fd-9e32-d56c2f3c5394",
   "metadata": {},
   "outputs": [
    {
     "name": "stdout",
     "output_type": "stream",
     "text": [
      "TensorFlow installation not found - running with reduced feature set.\n",
      "\n",
      "NOTE: Using experimental fast data loading logic. To disable, pass\n",
      "    \"--load_fast=false\" and report issues on GitHub. More details:\n",
      "    https://github.com/tensorflow/tensorboard/issues/4784\n",
      "\n",
      "Serving TensorBoard on localhost; to expose to the network, use a proxy or pass --bind_all\n",
      "TensorBoard 2.9.0 at http://localhost:6006/ (Press CTRL+C to quit)\n",
      "^C\n"
     ]
    }
   ],
   "source": [
    "!tensorboard --logdir=runs"
   ]
  },
  {
   "cell_type": "code",
   "execution_count": 36,
   "id": "6694673d-df43-4546-b92a-ccc671846d49",
   "metadata": {},
   "outputs": [
    {
     "data": {
      "text/plain": [
       "==========================================================================================\n",
       "Layer (type:depth-idx)                   Output Shape              Param #\n",
       "==========================================================================================\n",
       "DeepMedic                                --                        --\n",
       "├─Path: 1-1                              [3, 50, 5, 5, 21]         --\n",
       "│    └─Sequential: 2-1                   [3, 50, 5, 5, 21]         --\n",
       "│    │    └─DownSample: 3-1              [3, 3, 17, 17, 23]        --\n",
       "│    │    └─PreActBlock: 3-2             [3, 30, 15, 15, 21]       2,437\n",
       "│    │    └─PreActBlock: 3-3             [3, 30, 13, 13, 19]       24,361\n",
       "│    │    └─PreActBlock: 3-4             [3, 40, 11, 11, 17]       32,461\n",
       "│    │    └─PreActBlock: 3-5             [3, 40, 9, 9, 15]         43,281\n",
       "│    │    └─PreActBlock: 3-6             [3, 40, 7, 7, 13]         43,281\n",
       "│    │    └─PreActBlock: 3-7             [3, 40, 5, 5, 11]         43,281\n",
       "│    │    └─PreActBlock: 3-8             [3, 50, 3, 3, 9]          54,081\n",
       "│    │    └─PreActBlock: 3-9             [3, 50, 1, 1, 7]          67,601\n",
       "│    │    └─UpSample: 3-10               [3, 50, 5, 5, 21]         --\n",
       "├─Path: 1-2                              [3, 50, 5, 5, 21]         --\n",
       "│    └─Sequential: 2-2                   [3, 50, 6, 6, 21]         --\n",
       "│    │    └─DownSample: 3-11             [3, 3, 18, 18, 23]        --\n",
       "│    │    └─PreActBlock: 3-12            [3, 30, 16, 16, 21]       2,437\n",
       "│    │    └─PreActBlock: 3-13            [3, 30, 14, 14, 19]       24,361\n",
       "│    │    └─PreActBlock: 3-14            [3, 40, 12, 12, 17]       32,461\n",
       "│    │    └─PreActBlock: 3-15            [3, 40, 10, 10, 15]       43,281\n",
       "│    │    └─PreActBlock: 3-16            [3, 40, 8, 8, 13]         43,281\n",
       "│    │    └─PreActBlock: 3-17            [3, 40, 6, 6, 11]         43,281\n",
       "│    │    └─PreActBlock: 3-18            [3, 50, 4, 4, 9]          54,081\n",
       "│    │    └─PreActBlock: 3-19            [3, 50, 2, 2, 7]          67,601\n",
       "│    │    └─UpSample: 3-20               [3, 50, 6, 6, 21]         --\n",
       "├─Path: 1-3                              [3, 50, 5, 5, 21]         --\n",
       "│    └─Sequential: 2-3                   [3, 50, 5, 5, 21]         --\n",
       "│    │    └─DownSample: 3-21             [3, 3, 21, 21, 37]        --\n",
       "│    │    └─PreActBlock: 3-22            [3, 30, 19, 19, 35]       2,437\n",
       "│    │    └─PreActBlock: 3-23            [3, 30, 17, 17, 33]       24,361\n",
       "│    │    └─PreActBlock: 3-24            [3, 40, 15, 15, 31]       32,461\n",
       "│    │    └─PreActBlock: 3-25            [3, 40, 13, 13, 29]       43,281\n",
       "│    │    └─PreActBlock: 3-26            [3, 40, 11, 11, 27]       43,281\n",
       "│    │    └─PreActBlock: 3-27            [3, 40, 9, 9, 25]         43,281\n",
       "│    │    └─PreActBlock: 3-28            [3, 50, 7, 7, 23]         54,081\n",
       "│    │    └─PreActBlock: 3-29            [3, 50, 5, 5, 21]         67,601\n",
       "│    │    └─UpSample: 3-30               [3, 50, 5, 5, 21]         --\n",
       "├─Sequential: 1-4                        [3, 2, 5, 5, 21]          --\n",
       "│    └─PreActBlock: 2-4                  [3, 250, 5, 5, 21]        --\n",
       "│    │    └─BatchNorm3d: 3-31            [3, 150, 5, 5, 21]        300\n",
       "│    │    └─Dropout: 3-32                [3, 150, 5, 5, 21]        --\n",
       "│    │    └─PReLU: 3-33                  [3, 150, 5, 5, 21]        1\n",
       "│    │    └─Conv3d: 3-34                 [3, 250, 5, 5, 21]        37,500\n",
       "│    └─PreActBlock: 2-5                  [3, 250, 5, 5, 21]        --\n",
       "│    │    └─BatchNorm3d: 3-35            [3, 250, 5, 5, 21]        500\n",
       "│    │    └─Dropout: 3-36                [3, 250, 5, 5, 21]        --\n",
       "│    │    └─PReLU: 3-37                  [3, 250, 5, 5, 21]        1\n",
       "│    │    └─Conv3d: 3-38                 [3, 250, 5, 5, 21]        62,500\n",
       "│    └─PreActBlock: 2-6                  [3, 2, 5, 5, 21]          --\n",
       "│    │    └─BatchNorm3d: 3-39            [3, 250, 5, 5, 21]        500\n",
       "│    │    └─Dropout: 3-40                [3, 250, 5, 5, 21]        --\n",
       "│    │    └─PReLU: 3-41                  [3, 250, 5, 5, 21]        1\n",
       "│    │    └─Conv3d: 3-42                 [3, 2, 5, 5, 21]          500\n",
       "==========================================================================================\n",
       "Total params: 1,034,134\n",
       "Trainable params: 1,034,134\n",
       "Non-trainable params: 0\n",
       "Total mult-adds (G): 4.92\n",
       "==========================================================================================\n",
       "Input size (MB): 18.21\n",
       "Forward/backward pass size (MB): 189.33\n",
       "Params size (MB): 4.14\n",
       "Estimated Total Size (MB): 211.68\n",
       "=========================================================================================="
      ]
     },
     "execution_count": 36,
     "metadata": {},
     "output_type": "execute_result"
    }
   ],
   "source": [
    "summary(dm, (3, 3, 85,85,70))"
   ]
  },
  {
   "cell_type": "code",
   "execution_count": 18,
   "id": "117b7fdd-4bc6-4ce7-9bd6-f01447115fd2",
   "metadata": {},
   "outputs": [],
   "source": [
    "l = torch.nn.Conv2d(5, 10, 2, padding='same')"
   ]
  },
  {
   "cell_type": "code",
   "execution_count": 19,
   "id": "87fb9cd0-4726-49b2-8c11-2150804297b4",
   "metadata": {},
   "outputs": [],
   "source": [
    "a = torch.ones(1,5,5,5)"
   ]
  },
  {
   "cell_type": "code",
   "execution_count": 20,
   "id": "4349a98b-88a7-4bef-9474-13078a596333",
   "metadata": {},
   "outputs": [
    {
     "data": {
      "text/plain": [
       "torch.Size([1, 10, 5, 5])"
      ]
     },
     "execution_count": 20,
     "metadata": {},
     "output_type": "execute_result"
    }
   ],
   "source": [
    "l(a).shape"
   ]
  },
  {
   "cell_type": "code",
   "execution_count": null,
   "id": "44666058-9603-4e2f-b9bd-29399aa82baa",
   "metadata": {},
   "outputs": [],
   "source": []
  }
 ],
 "metadata": {
  "kernelspec": {
   "display_name": "Python 3 (ipykernel)",
   "language": "python",
   "name": "python3"
  },
  "language_info": {
   "codemirror_mode": {
    "name": "ipython",
    "version": 3
   },
   "file_extension": ".py",
   "mimetype": "text/x-python",
   "name": "python",
   "nbconvert_exporter": "python",
   "pygments_lexer": "ipython3",
   "version": "3.9.12"
  }
 },
 "nbformat": 4,
 "nbformat_minor": 5
}
