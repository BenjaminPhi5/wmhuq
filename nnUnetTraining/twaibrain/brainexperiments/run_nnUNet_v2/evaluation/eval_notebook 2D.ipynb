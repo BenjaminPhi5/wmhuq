{
 "cells": [
  {
   "cell_type": "markdown",
   "id": "f7705cec-1a60-40eb-8a22-3dc28bea40fa",
   "metadata": {},
   "source": [
    "### running the evaluation for the challenge dataset"
   ]
  },
  {
   "cell_type": "code",
<<<<<<< HEAD
   "execution_count": null,
=======
   "execution_count": 1,
>>>>>>> origin/wmhuq
   "id": "0d1924ce-955d-4eac-99bf-5962f5cb6eef",
   "metadata": {},
   "outputs": [],
   "source": [
    "%load_ext autoreload"
   ]
  },
  {
   "cell_type": "code",
<<<<<<< HEAD
   "execution_count": null,
=======
   "execution_count": 2,
>>>>>>> origin/wmhuq
   "id": "63cf7422-bf0a-45bd-b171-2ded47bd5cb2",
   "metadata": {},
   "outputs": [],
   "source": [
    "%autoreload"
   ]
  },
  {
   "cell_type": "code",
<<<<<<< HEAD
   "execution_count": 3,
=======
   "execution_count": 42,
>>>>>>> origin/wmhuq
   "id": "fa14325f-b699-4d1d-806c-11ab977230d9",
   "metadata": {},
   "outputs": [],
   "source": [
    "import torch\n",
    "import torch.nn as nn\n",
    "import numpy as np\n",
    "import os\n",
    "import matplotlib.pyplot as plt\n",
    "from torchinfo import summary\n",
    "from collections import defaultdict, namedtuple\n",
    "import pandas as pd\n",
    "import proplot as pplt\n",
    "import warnings\n",
    "warnings.filterwarnings(\"ignore\") # I should only put this in place when I am doing plotting and using proplot....\n",
    "from twaibrain.braintorch.utils.resize import crop_or_pad_dims\n",
    "from twaibrain.brainpreprep.utils.image_io import load_image\n",
    "import scipy\n",
    "import scipy.stats\n",
    "\n",
    "# model architecture\n",
    "import json\n",
    "from twaibrain.braintorch.models.nnUNet.nnUNetV2_model_loader import get_network_from_plans\n",
    "from twaibrain.braintorch.models.ssn import SSN_Wrapped_Deep_Supervision, SSN_Wrapped_Deep_Supervision_LLO, Hierarchical_SSN_with_ConvRefine, Hierarchical_SSN_with_ConvSpatialAttention\n",
    "\n",
    "# fitting code\n",
    "from twaibrain.braintorch.fitting_and_inference.get_trainer import get_trainer\n",
    "from twaibrain.braintorch.fitting_and_inference.get_scratch_dir import scratch_dir\n",
    "from twaibrain.braintorch.fitting_and_inference.optimizer_constructor import OptimizerConfigurator\n",
    "from twaibrain.braintorch.fitting_and_inference.lightning_fitter import StandardLitModelWrapper\n",
    "\n",
    "# loss function\n",
    "from twaibrain.braintorch.losses.ssn_losses import DeepSupervisionSSN, SSNCombinedDiceXent_and_MC_loss, SSNCombinedDiceXent_and_MC_loss_FromSamples\n",
    "from twaibrain.braintorch.losses.generic_deep_supervision import MultiDeepSupervisionLoss, DeepSupervisionLoss\n",
    "from twaibrain.braintorch.losses.dice_loss import SoftDiceV2\n",
    "from twaibrain.braintorch.losses.xent import dice_xent_loss\n",
    "\n",
    "# data\n",
    "from twaibrain.brainexperiments.run_nnUNet_v2.old_dataloading.dataset_pipelines import load_data\n",
    "from twaibrain.braintorch.data.legacy_dataset_types.dataset_wrappers import MonaiAugmentedDataset\n",
    "from twaibrain.braintorch.augmentation.nnunet_augmentations import get_nnunet_transforms, get_val_transforms\n",
    "from torch.utils.data import ConcatDataset\n",
    "from twaibrain.braintorch.data.legacy_dataset_types.mri_dataset_inram import MRISegmentation3DDataset\n",
    "from twaibrain.braintorch.data.legacy_dataset_types.mri_dataset_from_file import MRISegmentationDatasetFromFile, ArrayMRISegmentationDatasetFromFile\n",
    "from twaibrain.braintorch.data.legacy_dataset_types.mri_dataset_directory_parsers import *\n",
    "\n",
    "# evaluation code\n",
    "from twaibrain.brainexperiments.run_nnUNet_v2.evaluation.eval_helper_functions import *\n",
    "from twaibrain.brainexperiments.run_nnUNet_v2.evaluation.model_predictions import get_means_and_samples_2D\n",
    "from twaibrain.brainexperiments.run_nnUNet_v2.evaluation.model_predictions import *"
   ]
  },
  {
   "cell_type": "markdown",
   "id": "555ee30e-c703-4087-9cbf-960cd128ac38",
   "metadata": {},
   "source": [
    "### setting up params for the rest of the code to run"
   ]
  },
  {
   "cell_type": "code",
   "execution_count": 4,
   "id": "b2162225-8732-4b26-a257-a8a33bd9b5f6",
   "metadata": {},
   "outputs": [],
   "source": [
    "ARGS = namedtuple(\"args\", \"dataset test_split val_split seed \" + \n",
    "                  \"empty_slice_retention batch_size cross_validate cv_split cv_test_fold_smooth no_test_fold \" +\n",
    "                  \"num_workers dice_factor xent_factor xent_reweighting eval_split uncertainty_type\"\n",
    ")"
   ]
  },
  {
   "cell_type": "code",
   "execution_count": 5,
   "id": "7526adce-3f7e-473b-914c-a5494205ff5d",
   "metadata": {},
   "outputs": [],
   "source": [
    "VOXELS_TO_WMH_RATIO = 382\n",
    "VOXELS_TO_WMH_RATIO_EXCLUDING_EMPTY_SLICES = 140\n",
    "ESR = 0.5\n",
    "\n",
    "\n",
    "# setup xent reweighting factor\n",
    "XENT_VOXEL_RESCALE = VOXELS_TO_WMH_RATIO - (1-ESR) * (VOXELS_TO_WMH_RATIO - VOXELS_TO_WMH_RATIO_EXCLUDING_EMPTY_SLICES)\n",
    "\n",
    "XENT_WEIGHTING = XENT_VOXEL_RESCALE/2"
   ]
  },
  {
   "cell_type": "code",
<<<<<<< HEAD
   "execution_count": 6,
=======
   "execution_count": 61,
>>>>>>> origin/wmhuq
   "id": "9cac5d8e-f4b5-4f59-ae62-2b00f0052dcd",
   "metadata": {},
   "outputs": [],
   "source": [
    "args = ARGS(\n",
<<<<<<< HEAD
    "    dataset = \"chalfull\",\n",
=======
    "    dataset = \"chal\",\n",
>>>>>>> origin/wmhuq
    "    \n",
    "    test_split=0.15,\n",
    "    val_split=0.15,\n",
    "    eval_split='all',\n",
    "\n",
    "    seed=5,\n",
    "\n",
    "    empty_slice_retention=ESR,\n",
    "\n",
    "    uncertainty_type=\"deterministic\",\n",
    "\n",
    "    batch_size=2,\n",
    "    cross_validate=True,\n",
    "    cv_split=0,\n",
    "    cv_test_fold_smooth=1,\n",
    "    no_test_fold=\"false\",\n",
    "    num_workers=16,\n",
    "\n",
    "    dice_factor=1,\n",
    "    xent_factor=1,\n",
    "    xent_reweighting=XENT_WEIGHTING\n",
    ")"
   ]
  },
  {
   "cell_type": "markdown",
   "id": "845fb744-1fc3-42d7-b839-291269aac125",
   "metadata": {},
   "source": [
    "### loading eval data"
   ]
  },
  {
   "cell_type": "code",
   "execution_count": 7,
   "id": "9d644bf7-475f-4c17-8310-3992d81b22e8",
   "metadata": {},
   "outputs": [
    {
     "name": "stdout",
     "output_type": "stream",
     "text": [
<<<<<<< HEAD
      "114 23 33\n"
=======
      "39 9 12\n"
>>>>>>> origin/wmhuq
     ]
    }
   ],
   "source": [
    "data_dict = load_data(\n",
    "    dataset=args.dataset, \n",
    "    test_proportion=args.test_split, \n",
    "    validation_proportion=args.val_split,\n",
    "    seed=args.seed,\n",
    "    empty_proportion_retained=args.empty_slice_retention,\n",
    "    batch_size=args.batch_size,\n",
    "    dataloader2d_only=False,\n",
    "    cross_validate=args.cross_validate,\n",
    "    cv_split=args.cv_split,\n",
    "    cv_test_fold_smooth=args.cv_test_fold_smooth,\n",
    "    merge_val_test=args.no_test_fold\n",
    ")"
   ]
  },
  {
   "cell_type": "code",
   "execution_count": 8,
   "id": "392d0f59-ffa3-4e77-b271-69256f5b9c8c",
   "metadata": {},
   "outputs": [],
   "source": [
    "if args.eval_split == \"all\":\n",
    "    eval_ds = ConcatDataset([data_dict['train_dataset3d'], data_dict['val_dataset3d'], data_dict['test_dataset3d']])\n",
    "else:\n",
    "    eval_ds = data_dict[f'{args.eval_split}_dataset3d']"
   ]
  },
  {
   "cell_type": "code",
   "execution_count": 9,
   "id": "d3d721fc-5bcf-4b5a-ba94-30a0b77a6604",
   "metadata": {},
   "outputs": [
    {
     "data": {
      "text/plain": [
<<<<<<< HEAD
       "170"
=======
       "60"
>>>>>>> origin/wmhuq
      ]
     },
     "execution_count": 9,
     "metadata": {},
     "output_type": "execute_result"
    }
   ],
   "source": [
    "len(eval_ds)"
   ]
  },
  {
   "cell_type": "code",
   "execution_count": 10,
   "id": "37b7cd01-c699-4180-a229-1510d5ebff1c",
   "metadata": {},
   "outputs": [],
   "source": [
    "# get the xs and ys\n",
    "xs3d_test = []\n",
    "ys3d_test = []\n",
    "\n",
    "for i, data in enumerate(eval_ds):\n",
    "    ys3d_test.append(data[1].squeeze())\n",
    "    xs3d_test.append(data[0])"
   ]
  },
  {
   "cell_type": "code",
   "execution_count": null,
   "id": "f1ec98fb-513c-47b9-a253-f6fccef5e889",
   "metadata": {},
   "outputs": [],
   "source": []
  },
  {
   "cell_type": "code",
   "execution_count": 11,
   "id": "01d24f3a-e92d-4423-b977-ea19e11a715c",
   "metadata": {},
   "outputs": [],
   "source": [
    "ys3d_test = [y * (y==1).type(y.dtype) for y in ys3d_test] # fix bug with challenge data having 3 classes on cluster only?\n",
    "gt_vols = GT_volumes(ys3d_test)"
   ]
  },
  {
   "cell_type": "code",
   "execution_count": 12,
   "id": "e7af5266-6d3b-4cf3-b385-1edf344c17f7",
   "metadata": {
    "scrolled": true
   },
   "outputs": [],
   "source": [
    "# to run on the nnUnet version of the model,\n",
    "# I should crop the x and y to the min and max points\n",
    "# this will also effectively centre the images for evaluation.\n",
    "for i in range(len(xs3d_test)):\n",
    "    x = xs3d_test[i]\n",
    "    y = ys3d_test[i]\n",
    "    wheres = torch.where(x[-1])\n",
    "    zs = (wheres[0].min().item(), wheres[0].max().item())\n",
    "    xs = (wheres[1].min().item(), wheres[1].max().item())\n",
    "    ys = (wheres[2].min().item(), wheres[2].max().item())\n",
    "    # print(zs, xs, ys)\n",
    "    # print(x.shape, y.shape)\n",
    "\n",
    "    x = x[:, zs[0]:zs[1]+1, xs[0]:xs[1]+1, ys[0]:ys[1]+1]\n",
    "    y = y[zs[0]:zs[1]+1, xs[0]:xs[1]+1, ys[0]:ys[1]+1]\n",
    "\n",
    "    # print(x.shape, y.shape)\n",
    "    \n",
    "    x = crop_or_pad_dims(x, [1,2,3], [48, 192, 192])\n",
    "    y = crop_or_pad_dims(y, [0,1,2], [48, 192, 192])\n",
    "\n",
    "    x = x.unsqueeze(0)\n",
    "\n",
    "    # print(x.shape, y.shape)\n",
    "    # print()\n",
    "    xs3d_test[i] = x\n",
    "    ys3d_test[i] = y"
   ]
  },
  {
   "cell_type": "code",
   "execution_count": 13,
   "id": "fcc1dcca-b5bc-49ba-b4a9-de8b3a539595",
   "metadata": {},
   "outputs": [
    {
     "data": {
      "text/plain": [
       "(-0.5, 191.5, -0.5, 191.5)"
      ]
     },
     "execution_count": 13,
     "metadata": {},
     "output_type": "execute_result"
    },
    {
     "data": {
<<<<<<< HEAD
      "image/png": "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",
=======
      "image/png": "iVBORw0KGgoAAAANSUhEUgAAAyAAAAMgCAYAAADbcAZoAAAAOXRFWHRTb2Z0d2FyZQBNYXRwbG90bGliIHZlcnNpb24zLjQuMywgaHR0cHM6Ly9tYXRwbG90bGliLm9yZy/MnkTPAAAACXBIWXMAAB7CAAAewgFu0HU+AADYq0lEQVR4nOydSawleXbWvzvHnYc35lRZlVWudtPdtrEFmIWNcMtYyCAZEAixsGBhySww3iAhBBILDEJC8gI2CCMsCwQLkJC9MLIlwNgGIQs3tru7uqu7a8jpjXeOG3HnyyL5zjsR+apdQ2ZkVfX3k54y8757I/4RcbvrfP9zvnNyYRjuIIQQQgghhBAZkH/RCxBCCCGEEEJ85yABIoQQQgghhMgMCRAhhBBCCCFEZkiACCGEEEIIITJDAkQIIYQQQgiRGRIgQgghhBBCiMyQABFCCCGEEEJkhgSIEEIIIYQQIjMkQIQQQgghhBCZIQEihBBCCCGEyAwJECGEEEIIIURmSIAIIYQQQgghMkMCRAghhBBCCJEZEiBCCCGEEEKIzJAAEUIIIYQQQmSGBIgQQgghhBAiMyRAhBBCCCGEEJkhASKEEEIIIYTIDAkQIYQQQgghRGZIgAghhBBCCCEyQwJECCGEEEIIkRkSIEIIIYQQQojMkAARQgghhBBCZIYEiBBCCCGEECIzJECEEEIIIYQQmSEBIoQQQgghhMgMCRAhhBBCCCFEZkiACCGEEEIIITJDAkQIIYQQQgiRGRIgQgghhBBCiMyQABFCCCGEEEJkhgSIEEIIIYQQIjMkQIQQQgghhBCZIQEihBBCCCGEyAwJECGEEEIIIURmSIAIIYQQQgghMkMCRAghhBBCCJEZEiBCCCGEEEKIzJAAEUIIIYQQQmSGBIgQQgghhBAiMyRAhBBCCCGEEJkhASKEEEIIIYTIDAkQIYQQQgghRGZIgAghhBBCCCEyQwJECCGEEEIIkRkSIEIIIYQQQojMkAARQgghhBBCZIYEiBBCCCGEECIzJECEEEIIIYQQmSEBIoQQQgghhMgMCRAhhBBCCCFEZkiACCGEEEIIITJDAkQIIYQQQgiRGRIgQgghhBBCiMyQABFCCCGEEEJkhgSIEEIIIYQQIjMkQIQQQgghhBCZIQEihBBCCCGEyAwJECGEEEIIIURmSIAIIYQQQgghMkMCRAghhBBCCJEZEiBCCCGEEEKIzJAAEUIIIYQQQmSGBIgQQgghhBAiMyRAhBBCCCGEEJkhASKEEEIIIYTIDAkQIYQQQgghRGZIgAghhBBCCCEyQwJECCGEEEIIkRkSIEIIIYQQQojMkAARQgghhBBCZIYEiBBCCCGEECIzJECEEEIIIYQQmSEBIoQQQgghhMgMCRAhhBBCCCFEZkiACCGEEEIIITJDAkQIIYQQQgiRGRIgQgghhBBCiMyQABFCCCGEEEJkhgSIEEIIIYQQIjMkQIQQQgghhBCZIQEihBBCCCGEyAwJECGEEEIIIURmSIAIIYQQQgghMkMCRAghhBBCCJEZEiBCCCGEEEKIzJAAEUIIIYQQQmSGBIgQQgghhBAiMyRAhBBCCCGEEJkhASKEEEIIIYTIDAkQIYQQQgghRGZIgAghhBBCCCEyQwJECCGEEEIIkRkSIEIIIYQQQojMkAARQgghhBBCZIYEiBBCCCGEECIzJECEEEIIIYQQmSEBIoQQQgghhMgMCRAhhBBCCCFEZkiACCGEEEIIITJDAkQIIYQQQgiRGRIgQgghhBBCiMyQABFCCCGEEEJkhgSIEEIIIYQQIjMkQIQQQgghhBCZIQEihBBCCCGEyAwJECGEEEIIIURmSIAIIYQQQgghMkMCRAghhBBCCJEZEiBCCCGEEEKIzJAAEUIIIYQQQmSGBIgQQgghhBAiMyRAhBBCCCGEEJkhASKEEEIIIYTIDAkQIYQQQgghRGZIgAghhBBCCCEyQwJECCGEEEIIkRkSIEIIIYQQQojMkAARQgghhBBCZIYEiBBCCCGEECIzJECEEEIIIYQQmSEBIoQQQgghhMgMCRAhhBBCCCFEZkiACCGEEEIIITJDAkQIIYQQQgiRGRIgQgghhBBCiMyQABFCCCGEEEJkhgSIEEIIIYQQIjMkQIQQQgghhBCZIQEihBBCCCGEyAwJECGEEEIIIURmSIAIIYQQQgghMkMCRAghhBBCCJEZEiBCCCGEEEKIzJAAEUIIIYQQQmSGBIgQQgghhBAiMyRAhBBCCCGEEJkhASKEEEIIIYTIDAkQIYQQQgghRGZIgAghhBBCCCEyQwJECCGEEEIIkRkSIEIIIYQQQojMkAARQgghhBBCZIYEiBBCCCGEECIzJECEEEIIIYQQmSEBIoQQQgghhMgMCRAhhBBCCCFEZkiACCGEEEIIITJDAkQIIYQQQgiRGRIgQgghhBBCiMyQABFCCCGEEEJkhgSIEEIIIYQQIjMkQIQQQgghhBCZIQEihBBCCCGEyAwJECGEEEIIIURmSIAIIYQQQgghMkMCRAghhBBCCJEZEiBCCCGEEEKIzJAAEUIIIYQQQmSGBIgQQgghhBAiMyRAhBBCCCGEEJkhASKEEEIIIYTIDAkQIYQQQgghRGZIgAghhBBCCCEyQwJECCGEEEIIkRkSIEIIIYQQQojMkAARQgghhBBCZIYEiBBCCCGEECIzJECEEEIIIYQQmSEBIoQQQgghhMgMCRAhhBBCCCFEZkiACCGEEEIIITJDAkQIIYQQQgiRGRIgQgghhBBCiMyQABFCCCGEEEJkhgSIEEIIIYQQIjMkQIQQQgghhBCZIQEihBBCCCGEyAwJECGEEEIIIURmSIAIIYQQQgghMkMCRAghhBBCCJEZEiBCCCGEEEKIzJAAEUIIIYQQQmSGBIgQQgghhBAiMyRAhBBCCCGEEJkhASKEEEIIIYTIDAkQIYQQQgghRGZIgAghhBBCCCEyQwJECCGEEEIIkRkSIEIIIYQQQojMkAARQgghhBBCZIYEiBBCCCGEECIzJECEEEIIIYQQmSEBIoQQQgghhMgMCRAhhBBCCCFEZkiACCGEEEIIITJDAkQIIYQQQgiRGRIgQgghhBBCiMyQABFCCCGEEEJkhgSIEEIIIYQQIjMkQIQQQgghhBCZIQEihBBCCCGEyAwJECGEEEIIIURmSIAIIYQQQgghMkMCRAghhBBCCJEZEiBCCCGEEEKIzJAAEUIIIYQQQmSGBIgQQgghhBAiMyRAhBBCCCGEEJkhASKEEEIIIYTIDAkQIYQQQgghRGZIgAghhBBCCCEyQwJECCGEEEIIkRkSIEIIIYQQQojMkAARQgghhBBCZIYEiBBCCCGEECIzJECEEEIIIYQQmSEBIoQQQgghhMgMCRAhhBBCCCFEZkiACCGEEEIIITJDAkQIIYQQQgiRGRIgQgghhBBCiMyQABFCCCGEEEJkhgSIEEIIIYQQIjMkQIQQQgghhBCZIQEihBBCCCGEyAwJECGEEEIIIURmSIAIIYQQQgghMkMCRAghhBBCCJEZEiBCCCGEEEKIzJAAEUIIIYQQQmSGBIgQQgghhBAiMyRAhBBCCCGEEJkhASKEEEIIIYTIDAkQIYQQQgghRGZIgAghhBBCCCEyQwJECCGEEEIIkRkSIEIIIYQQQojMkAARQgghhBBCZIYEiBBCCCGEECIzJECEEEIIIYQQmSEBIoQQQgghhMgMCRAhhBBCCCFEZkiACCGEEEIIITJDAkQIIYQQQgiRGRIgQgghhBBCiMyQABFCCCGEEEJkhgSIEEIIIYQQIjMkQIQQQgghhBCZIQEihBBCCCGEyAwJECGEEEIIIURmSIAIIYQQQgghMkMCRAghhBBCCJEZEiBCCCGEEEKIzJAAEUIIIYQQQmSGBIgQQgghhBAiMyRAhBBCCCGEEJkhASKEEEIIIYTIDAkQIYQQQgghRGZIgAghhBBCCCEyQwJECCGEEEIIkRkSIEIIIYQQQojMKL7oBYgkf+/v/b0XvQQhxKecf/yP//GLXsJzpdFovOglCCE+5YRh+KKX8IlGGRAhhBBCCCFEZkiACCGEEEIIITJDAkQIIYQQQgiRGRIgQgghhBBCiMyQABFCCCGEEEJkhgSIEEIIIYQQIjMkQIQQQgghhBCZIQEihBBCCCGEyAwJECGEEEIIIURmSIAIIYQQQgghMkMCRAghhBBCCJEZEiBCCCGEEEKIzJAAEUIIIYQQQmSGBIgQQgghhBAiMyRAhBBCCCGEEJkhASKEEEIIIYTIDAkQIYQQQgghRGZIgAghhBBCCCEyQwJEiE8BuVwOhUIBpVIJ+fyT/1mvVitst9sXvDIhhBBCiCTFF70AIcRHp1KpIAgCbLdbbDYbbDYbFAoFFAoFEyeFQgH5fN4Eym63w2q1wnq9xnq9xmq1Qi6XQy6Xe8FXI4QQQohPMxIgQnyC2O122G63yOfzCbFQq9XQarWwWq2wXC6x3W6x3W6x2+2Qy+VQLpdRqVRQKpVQKpUAAJvNBovFAtPpFHEcY7lcSnwIIYQQ4rkjASLEJ4jLy0vcv38fr732Gvb399Hr9Syzsd1uUSqVUCgUsNlssFwuAQCFQgHFYhG73Q6bzQb5fB5BEKBSqaBWq6HRaGC1WmE+n+Px48coFAoIggCr1cqyKfP53M4jhBBCCPFRkAAR4gVRq9VQLBYxnU6x2+0Sv5tOp3jrrbfsPblcDrvdDsvlEsViEaVSCcVi0Uqq0pmLfD6PUqn0VEkVz7Ner+2YPlsSBAHy+TyKxaIdh6KD7xFCCCGE+ChIgAjxDLguMGfw/15lTfV6HUEQYD6fY71eY7PZYL1eAwAGgwF+7/d+D4eHhyiXy/aZWq2GXq+HSqViwsOf24sEChfgSbkV2Ww2Zk7ne5npqFarVrblP18oFLBcLrFer020AFBGRAghhBAfGAkQIZ4BcRwngvxisYhKpYKjoyMEQYBisWjBO4P+SqWCQqGAV155Baenp7i4uMDXv/51XFxcIAxD1Go1K61aLpcol8uW2SDb7RblctnEy3w+B/BEMPDzfB8Aex/XkMvlkM/nsdvtkM/nUSgULCPC3xWLRSwWC8u8rFYrnJ+fYz6f48aNG5ncXyGEEEJ8epAAEeIZ4M3d/HelUkl4L9hlCngS+G82GzOI86dYLKJQKNhn8/m8iQaKEYqCQqFgx/LnAGCihWVY/CwFEEUGcJXF4Nr4e64PgLX4zeVy2G63WK/XCMMQX/va12wd6/Uad+/eRa1Wy+COCyGEEOKTigSIEB8AH6wzi7Db7RKBPgVCuVy2gN0LkFwuh1KpZAG+b5PLQD9dGrVery07AcDEiYfn4d8pOihWKD42m01CiPhSMb9eGtZ5PSzJYsZkPp/j5OTE/CLz+RxHR0cSIEIIIYT4tkiACPEBaLVa5r+gJ4Ldphio+wwF/RbMGlBsUJzkcjksFgtEUYQ4jrFarSygB2AlVcBV+ZRvl0vBkTaTMwNCUVOpVAAkS674wxKuOI7Ng8K18VjFYtHORSFVKpVQLpftPqxWK5nUhRBCCPGHIgEixAeApVXsSAUgkcFIey78TA5mEygO/DF5DJZspU3iadHA8/osCEWDFz18v++W5eeD8HV+Zrlc2vspplhixaGGtVrN/Cu8jiAIsL+/j3w+j9VqhXw+b+b65XKJzWZjs0qEEEII8Z2NBIgQ/x/u5PsWt+kuVn7OBvGBPAUG8ESEMCvAoN6XQfF9FC/lchlBEJhI4LEZ+PsfZli8DyTdbpfHAJJdsEh6KrrP5vCcaYFDnwvPy9a91WoVR0dH1rGLYmaxWGCxWFj2p1qt2rnTxxdCCCHEdwYSIEL8fx48eIBHjx7htddew97eHlqtlnWSYvcpljJ570Q6SPedpNJCw4sbUiwW0el0UKlUEEURJpMJ1uu1dbiimCiXy6jX69jf30en07EyLp8R8WVTPDezHenyK+CJgKBIWCwWCeN5qVRKzATh9a9WK6xWK6zXa9Trddy9exd7e3s4ODgwr0scx4lyM2aN+v0+8vm8vUbBJYQQQojvHCRAxHc82+0WJycnAIDj42M0m00zgnMqeLo0ys/JYDYAgGU31uu1/fjfpUui+Dpb7B4eHuL8/Bzb7Rbj8djOsd1uEQQBms0m9vf3Ua1W7fV0qZUfXEjvCTMgvpOV757Fz/pMSjoLws9Np1NsNhtUKhXcvXsXt2/fRqvVsha9PC6vPV3yFQQBarUaqtVqohRNCCGEEN8ZSICI71h8OdRqtbJWuJwGDlyVHRWLRaxWKwvW+bu0N4OBN7MEPlNynYfDi4FSqYRWq4VWq4UoijAej22tuVwOlUoF1WoVjUbjPUuXvCBiJsaf12c4KAr8tfC4vqTM/44ek2KxiFqthk6ng3a7jWq1is1mY+dk1yx20iLMiPisiD8f/SJCCCGE+PQiASK+Y2GZ0263w40bNxKzMRiwe2M5MxrMFvDzfsAgvQ9+qrk3chPO6OBxmFHodDro9XqYzWZ49OiRvb9YLKLdbqPT6aDVaiXmevjyqmKxaIKGYslnIvgnr4tro5DiZ9Kek0qlYuutVqvY39/Hdru1bBHvjy8vY9bIr5WvU8y0220TI41GA48ePcJgMHhej1wIIYQQHwMkQMR3BL6rE4Nf+hg45I+iwb/O8isarWmoZjaE7/OzNThDgwE3g28/zA+4Ejl+9gZ9Hs1m0zIxzCbwNYoKXx4VBAEqlcpTgwLn87mZwb0nhGvjfBEAiWyI/0n/rt1uo1arWXYjPX+EE9n5GqfAUwCVy2UTM1zvYrHAbrdDvV5HqVTCxcVFwkQvhBBCiE8PEiDiOwKWOPldf+BKBDADkMvlzJewXq8tcPfzMna7nZVX+UGBacFx3aRxX7bF9/l/s3zJG94ZyPuJ4+zG5UvAfDtgelh4Tu8D4VooZJg18SVZ3p/ir8d7TCg2/DWnvS++pIvvo/Dg8XkPASSuWwghhBCfTiRAxHcENJOnTdZ+ujiD7CiKzM8QBAFarRZyuRzK5bK9d7Va2cyMdHDvg2o/jZzCp1AoWBbFH9eXhBUKBfNV+AGA8/kccRzbtRSLRSwWC8valMtlVKtVGxLohwX6jlzM+CwWi6c8Ib71L89Pk3y6y5bP/HjxwaySF3vpe+SHMxIvVLwgEkIIIcSnBwkQ8amFAfve3p4F5b4MCbjyZzCQ3mw2mM/nVhJULBZRr9etDMuXPbG0iWVM7zWLg9kKZhq8md0H9H7GRxAECILApqMzG+Pb9FLUrNdrRFFk09T52b29PQRBgHK5jP39fYzHY8zncxsQ6EvRfBYmPWXdZ4W8j8T/3ZejAbBSMR4rCAITLF6Q8N9+pslms8FyucTJyQk2mw3u3bv3/L4kQgghhMgcCRDxqYVCwQe33izuu1HxT2843263iOMY8/kcq9XK3sP3e+/HdV2pKGi8OOFrDPj9+/wa0j/AE8ETxzEmk0liGCFLwihSVqsVFosFAKBer5sIoYCiAOI5vREduMo+sGMWMyEUF+msRLq7F4+ZFmTp1sO8bxRn7JrFgZDL5RLz+RzD4dCyMs1m8wN9B4QQQgjx8UMCRHxqyefzqNVq5llg0O29C8DVTA/gye677+oUxzEWiwWWy2UioOZxfEmTz2YwK7BarezYvhUvz0EoePwU9HSAHsexvb9YLKJarZrxnJ6P7XaL+XxumZJms4l6vY6bN28mskCTycRaBQOw1rjMqPD+eGHAtfkuVsBVNsSLDS/6CEvLeBz6amjw3+12mM/nCMMwkZV5++23USwW0Wg0JECEEEKITwESIOJTDdvispUsRQgzExQn3ovQarUAAPP5HADMr+GFgS85SrfrZYaB56QAYekTj8kg3XtTlssloijCbDbDfD63YH21WmE2mwEAut0ubt68iVqthlKpZMfl+haLBebzOfr9PlarFSaTCUqlEg4ODlAqldBsNjGfzxP+Fd4jzjzx3bJ4nVxvuVy2+8v74sWSb2HMe+zno8znc1srJ81z3WEYIgxDlEol3Lhxw4QHBVYURc/vyyKEEEKITJAAEZ94GDinOyt5ozM7Q1F8rFYrC5Z9CRYFAb0b9D54U3l6Xgb/zaDat59Nd9xiBsAH5z57QZ9HFEU2K8SXaJXLZcsEUAiwuxdFQKlUsrVHUWSZnOVyafehVCo9NamdvhJvzveGc94jP/ckbSy/bnDhdVkhZp2YCVqtVhiPx4jj2Ka+B0GAUqmERqNhRnoJECGEEOKTjwSI+MSTy+USO+m+E5M3SHvx4TtX+ZKgfD5v8zcqlYplHbh7T0HAjAmDbR+Ic9Cfb5XL93nRwb8HQWC+DZZOTadTLBaLxHwSDuvb29tDs9m0kiWfffEChOuI49gECLtksaUwr8OLCa6XIoT30Au668rPKNrSoooduPy95xqZlZrP5xgMBmaObzabqNVqJkIqlYplhLzXRAghhBCfPCRAxKcCZjTSU8eXyyWWy6V5FHw3KmYEfFaCn69Wq7YTTzHCsiqKEb7X/zs97JABNDML3ugOPBEr/X4fg8EAs9kMk8kEYRiaEPHCoFQqmV+iUChY+VO1WgUAM6Mzu1CpVNBsNhHHMS4vL60ULJ/PW0aBn2MWaLlc2jG8eZ7XkJ4P4jMczKBwzewQtlgsTKz4Z8BrWCwWiUGEvEY+J/4ul8vh7t27ODk5MZO9EEIIIT55SICITyzp7k3pCeM+QGarWs7cYPBNkzXLmPwQP9+pqVwum/hgkO7nYHh/iBcA1WrV1sVyKL7XDxak+X1/fx+9Xs/WygDezxzxwxGBJ+LL+zX8LA+uu91uW8kW3++HClIw+c5XxN9Xcl35WbrFsM+U+Knm5XLZrp1du7z4qFQqiefnTe/KfgghhBCffCRAxCcWDvFjMMvA2ZcM+UngPnCnAGFQzkDclw/5CeTMHlCA+OwBA2wG9ZVKxUqdqtWqnZtzOJhhYBkWf2q1GjqdDiqVCuI4RqPRwOPHjzGZTGw44nw+x3Q6tfPTuO4DfT9tnefw62RJFAD7Pa+Fx/XlVzyOF3Z8vzeye9Hm73+6RXG6tTDf12w2UalUUCgUEEWRvc9nXrzwEkIIIcQnEwkQ8YmEHaZ89oOBOIBE4MogmnM0vDE9PcMil8tZSRO9B75L02w2QxzHifkexWLRdvHX6zV6vR4ajQZarRaiKMLl5SUGgwHCMESj0bDfcZ3ecF2r1az8q9VqIZ/Po9/v25+j0Qjf+ta3sLe3h729PbTbbSu94g+7Ws3n86dmiXDS+2w2Sww/JGzr6+8bxQp9NX4mCl8HrgQMBaBvxZsuO2P5GDNQvjTODzikgZ7H4X0WQgghxCcXCRDxiSGXy6HRaABAoqSH+K5ODFh9VsBPPAeuzNNAMpPBz/uZH5vNxiaN0+/xXjADstvtMB6PEUURttstOp1OosyI6+Ku/263M9O7z6QwG0EDNwCcnJxYxqXValkmg8G/bz/s7996vcZ8Pk9kdzz+un05mfd6+CyIv5++Q5afEcKJ8r5czg9k9IKH7/FzUrwQms1mCcO/EEIIIT55SICITwQMUuv1upVZcZYFA2C/O8/A2Ae55XLZOin5wJekS7coClh2FUWRGav979NZF2ZN1us1xuMxlssl8vk8ut2uZTpoXgeQGIJIc3W5XDZfCgC7LgqLwWCAcrmMSqViwxbpX2GWwJdQMWj32YfrfBXXTSr3nb74Xh6T5WT8bNrfwvd5A7x/Zr6sy2ezeB1cM697PB4nBA/FkRBCCCE+OUiAiE8EQRCgVqthvV7b9Ox8Pm/zMuit8MEtgERwzOPQRD6fz1EsFs2v4Wdg0JA9n89tGjrFB+d5+BkZNHw3m01Uq1XM53OMx2Os12vUajXUajW0Wi0Lpv0QRF8GxnMvl0tMp1Ocn59jNBpht9vhpZdeshIu4Ilgefz4McIwRLfbRbvdRqPRQKVSMc8JRRmzJzy/79SVzgRRaNCUnxZawJUo8ELGd7ryws4LBF47f3yJGDtosVTOd+CKogjT6RSPHz/GYDDAZrNBpVLBZz7zGQRB8Jy+dUIIIYR4HkiAiI8tpVIJ5XIZtVoNwNOdlxiwc7ecu+t8r/+TGQvgSox487YvMWInKGY/fGcnnwXwu/zslFWr1Sw7M5lMUCgUrBuWD+Y5CJA7+1wDzd5xHOPBgwd4/Pgx1us1Wq0WXn75ZbRaLdTrdctk0BDPuSHsplUsFlGv17FcLi2w57p9qRlb5/K+pEuqfJcvn03xWQseOy00/EDC9DwU/jDLw/Itij0OYczn85jNZjYZvlgs4uDgwMQeRelsNkO9Xv+2pXFCCCGE+HggASI+tnAeR6vVsiwHgKd28mkWv660J901yWc30l4H/t1P/vbDDL0HgsfiZ9g9i21+mXVgyVW5XE6UGPmuTjwmp7AzA3JxcYF+v48gCHB0dIQbN26g2WzapPbFYoE4jjEYDEyIcHI4/SN+oKAvw7quaxZN336Nvp2uL5fy2Q6fwfHeDz8ckSLDD2/0WRAAmM/nmM1m5plhlovlb9vtFvV63Yz67XYbq9XKfieEEEKITwYSIOJji58xwQyD92EwYC8Wi2g2m4nuST6jQdM1/SDlctl2/b3PgJkDb7ReLpfWZta/zg5OLB3ywwaZjanX6yYG6AlhAD6fz621Lq+jXC5bedVsNktcZ6fTQbvdti5VPCenhbM7VxiGWK1WNoTQDy9kKdNkMkl4NXhveD8osHiPgKusEe+BN/X71/jcdrudCaB8Pp8Y3JievULvy8XFBcIwxGKxMPHB+0nRcXh4aCJyt9uh3W4DAG7evInT01MZ1IUQQohPABIg4mPLfD7HfD5Hq9VK7ORzN5/CoFgsIgiCREcn7x9gm1qPD6BpMmd3qmKxmGg5SxHiu2kBSOzqA1fZE99S1wfu3qPij+k7T3nDu89GsNTMX4/3jbC7lp8QHsexBfGVSsU6b3nzPs3w6e5WvB7vEfHChGvm8dLtcb3QoMjw18L7EkWRibHZbIbdbodKpYJGo2EdwCiyaMznemmm5+terAohhBDi44sEiPhY4qeMM0vgsw/+x8/k8GZolhAxCPceCAAWCPsyI76X/6YQ8QE0//SeB1+exOC7XC6b+ZvXw0CdwTID8vTARPo5PN5D4ocJUiBQGPBcXDuFGDt0FYvFhFAhXnz46/PZJK6DBno/S8Tfd74nPaXeixm2BKYIAWDirdFoJOaDMFviS+t89sV37xJCCCHExxsJEPGxY7fbIYoiKyNaLBZPlQB5z8Fut7OAnYGwN1J7gzi9GcvlEpVKJXE+trWlmZmCgIGuz7D4rAWPwQGALD3icRm8s/MWBVOlUrESKQb0y+XSTNfMkvhshV+D/wzXWalUEh3C6I9YLBY2b6RYLNo1XQcFBGdxeP9IumuWFzvMRlB8ebHhy65o6l+tVphMJiYgbt++bZkcrsMPeuQgSK6BYsW3IBZCCCHExx8JEPGxI5fL4datWxZYAle78yy18eU2NJWnh9ox6AfwVAkQu1Kx5Gk6nZoB3GcrmLFgIOzFDfFrZPkUz+mHAfqdepZ7+S5f/vNhGGI6nSKKIhSLRZuC3m63LfDmPfBr8lmifD5vx/ZigMZ9P8OD2SA/DJDZlnR2wZ+TZVDel+InzPOeexHj18gZJqVSCc1m03wnXhxRuDGbxGfI55jL5bBYLDCdTu3eCiGEEOLjiwSI+NgQRZEFlX46OINRCoG07wJAIrjm6/6HJmiW8nDH3Jc1UfD40itf4uPNz349/DsFBwN5ihh/Dgok+jkYfPtr9OVTPOZ4PEa/30+0tKVQ8sMT+Xkey3f9um5SvL+/LNVKl1/5P/3x/T1I+2HSpXFcoxdvPB9/vPgDrkTjcrlMlKTxvvF5sX3vdDrFbrczjwvN90IIIYT4eCEBIj4W7HY7PHjwAI1GA6+88gqWy6UFu81mMyEI/GRuBqU0oTOI9aZoHodlXTQ381gcbEjY8pdrIAyYgasA22cDfHtaL2IodHxJEYWQFxRA0j9B4bJcLnF2doZvfvObmM1meOmll9Dr9az0bL1e27H8utiJCoCZ2rnGcrmcMODz3N5g7kWHn4WSzuTQd8IMBfFzWfisKPz8dHpvSE+3ON5utzZskob0er1upvpcLoc4jnF+fo7z83OMx2MrO3v11Vfx6quvPpsvqBBCCCGeGRIg4oVzfn6OL33pSzg+Pkav10O1WrV5GukuUgyE/WyO9HwNBv5+d54ihAG7nwMCwAJ1Grzn87ntuvuA3Af5HCDIoJnnoceC5Uk8rs/AUAQxeOfna7Uajo+PUa/XUSwW8eabb2I2m2G1WuHy8tIGDDYaDStH8h2hPBRdFBC+05bvosX754N+Zhj82nmudNtdZi/S81IA2HGuK9/ijA9eO58h1+hnuNRqNess1mg07DkPBgOMRiNcXFxYlovP8uTkBP1+Hz/wAz+Q8M4IIYQQ4sUiASJeOKvVCsPhEN1u18RDtVpN+Dt8JiLdLjb9uhcKvgzLf4bBu/+sL9eiUCG+tMhnGdKdqnynpvS6eD1+AJ/vHkXoT9lutxgMBgCAfr+fEDv+Mz4bxOvnNaYHHbL7lL82fxx/T7xvhELJ/957TXhN6Ta+fE+6hItr8eVWvr2xFzM0tdPgTnEXRRFGoxHCMLQMCRsAMDMShuFTDQSEEEII8WKRABEvHHY0ms/nmE6nGI1GaLVaVg4UxzEAWFbEt8wFkCi7YiBcqVQsS+E7PjHwZmmUn8vhg3hffuU9HL6Dky+3Il4EMVgmXnz4Llrp0iZ6F9rtNi4vL7Fer9Hv91EsFm0yvL93/jxeWHgTPTtmpUulKJjSosgfH4BlMfw1837wswz+/fV48cNr9RkfL5A4sNGLPJZpMQMCAJPJBFEUYTgcYjKZmJhsNBo2EZ4labxO7xUSQgghxItFAkS8cDjJfD6f4/z83IYLttttNJtNq/UHYOIDQCLAZFDry4N8+ZUP+OlDCILAAmX6BngOvt93ZWLJFZAs2fIlXxQu3LGnyOF1cq3T6TQR8PtsCIciNptNtNttm4nhhwo2m007FlvssoOWD94pCAA8JZ68QPCeFD+zgwKnWq3ataaHDqazGv6zFCe+gxgFQ9pDk87KeFHEe7xcLk1YFYtFNBoNO/98Pk+ci5ms3/zN38R6vUalUsEP/dAPaVChEEII8YKRABEfG7bbJ1O1h8MhTk9PLdClAPEZj/RgQe8V8bveXpCkg+J0Jy2S7ujk1+czAgDMAM5SpbQZnfjfUQhQVHjzN8uY/GwN3wKYc0I6nY4F8X4oIdvreu8Jf1iSlTboX5cV4P3yQwe9Wd6LwLRRn5+jz8XPHfElZ+l7lP43sya+ra+/H5yQTmGSzv5QaE6n06dK6oQQ4pPAj//4j6Pb7WKz2eBXfuVXEIbhi16SEM8ECRDxQvA+CQbFLMkZjUZ4++23EYYhVqsVDg4OEpO3096QtMeAU7X9uRhA+0wCf+dFivcK+HIg/t4LhXS727QfxB8/HXwzY0AhFASBeRwoFqbTqQ0uDIIAm80Gs9kMl5eXaDQaJlam0+lT2QufmeF94r+9sElfEwUEsx7s4AU8ETdp7wz9FddlTVqtln0+DMOn1uOFofeT8N8kLZC8sGHWaTabJTp6cSgjgMQsFCGE+CTxj/7RP8L3fd/3YbPZ4DOf+YwEiPjUIAEiXgij0Qhf+tKXbFe6XC7j1VdfRaPRQLlctv+TDcPQyqXYQpclNz6I9t4C7n4zEOY5fNnRYrFIZC1YssRdc2ZSfLaAAb/PpNBf4dvUMmCez+cJ4zhFhzfI83gs3eLvcrmcrbvVauGVV16xDk+LxQIPHz608ywWCxMQLPni+pkd4fR3353KZ3PK5TKazSZarZa1JW40GnaPzs/P7fPs5pUudSuVSja/pVAoWIteH/jvdk/mc1Bw+NbAbA/s55yw1TDFEIdFeuHJ70W9Xrfp735mCj1EEiBCCCHExwMJEPFCWK/XmEwmyOfzqNfr2Nvbw9HREZrNJmq1WqJshjv0DHLTXbH8DA2fIQGQ2Gn3XZfSpUfp9/vMB3+fntGRLrsCYBPZ/efTnbj4OQbv6Y5Q3iNBE7a/1lwuZzv9fD8/7wVTumOX95p4MzyFR6/XQ6/XM+9KEAR2Ld6DwUF/6R/eJ95LPwXe+2QqlUpCRHovSLqzGN9HgcZMmBcTFIb+PsVxbAMMfXvh+/fvY29vzzw0QgjxvPkTf+JP4Atf+AJ+8Rd/8QOXgv6H//Af8Ju/+ZvYbrcYj8fPaYVCZI8EiHhhrFYrm2lx48YNEyDsABXHsQ2h47Tscrmc8Dj4ch0G1HydeL+DN6unhwD6Llg+o+LLklgmxQwAsxrpTlbeB+I7bTFA9+LHixp256K3gqKLx/EBvb+OtNEcgGV//LrSQioIAhwcHKDX6+Ho6Aj7+/uJIN/fz9Vqhfl8buVUXFPa0M6/x3Gc8LPwOBQg6/XaxIz3hXBmCe85X+OxmKHyZWd8hszArFYrzGazRJnXfD7HV7/6VXzv936vBIgQ4pnD/0ak+Ymf+An81E/9FH75l38Zg8HgA4mQf/pP/+mzXKIQHxskQMQLg7vsjUYD+/v7yOfzNruBQWOtVrMuSPP53LIH/v/AWXpUq9Us+GT5k59E7jsxAVdZD/ogKCh8yQ4nddNUzfbAwJNddgbBXONisUgIIgbfzB74ciWe32ctfGkUsynMWPhyJS+w/GTxdAtckjba1+t1dDod3Lp1C3fu3DFDdxAEJvS8t6NSqZh/YzKZII5jEwrepD6fzxMDF3luLwK9UPHZLD+N3l8X7yOfDe8hxaD/HvC70G63E+KJWRRv2BdCiGfJX/pLfwn/4l/8i6der9VqqFar+OpXv4q/+3f/Ln7hF37hBaxOiI8XEiAic959911cXFwkym642w1clQ55Y3O63MlnMxgEU2iwJMd7FtLlPX6H3ZdTAUgExYQ76ZVKxUqTKGh8WRQ9CN7D4IXOdWVffh6Gz2xsNpvExHS/Fh/UUwjwGtKDAdMm/Gq1iv39ffR6Pezv79vQRwoliiCKL1KtVlGtVu2e+evz3hYKJ67V/0n/DXCVxeG6/PneK4OVzmbxXGxPzGfJ9fh1XNedTAiR5K/+1b+K119/HQDwi7/4i7h///4LXtEng7/5N/8mfvRHfxT7+/vv+Z69vT1Uq9UMVyXExxcJEJE57777Ls7OzgBczfXI5XKWFUj7FgAkAmxmFbxxnAFnOvAErtq7MsBmwMv2vj64T8+nSHdkYsYmCAIr8eHxFosFptMpAFhbWHaJ8kG5bycMXLWZBZA4Nz/j2wJf51XxO/q+y1faJ0Fzebvdxv7+PtrtNur1eqLczA8U9G2Cee3s1sVMhy9lK5fLJkrSPg7/HOjn8C11mblINw/woizt/eC98iVl/h7zvnnhoUGEQnx7/tpf+2v4s3/2z2I8HuPXfu3X/lAB0u127f8LRqPRU5s37wVnPaWZz+eYzWYfau0vilwuh5/8yZ/Ed33Xd2EwGKDT6ajphRB/CBIgInMqlQoqlYq1y/UzOhhYs/0sAAuIfSkWDcZstUrPAf9DyLKmdPajXC6jWq2i0Wig3W6b4GBZEQNafhaABbhBEKDX65mJmTv5LCVbr9eYzWY4OzvDdDrFdDrFcDhEFEUJ4zlZrVYArjIAvA4/hX2xWCTuA4Nqej0owngfGdiz1IiZjP39fTSbTRM7p6enuH//vpWbtdtt3Lp1C5///OftetfrtWVgarWalRHQpO6PzxK4SqViHbe8CPN4/47PWvB62CnLm+ApOjmI0Hfz4g/fk24iQAHjWwsLId6b3/3d38UXv/hFRFH0bd8XBAF+53d+B0dHRxiNRvjc5z6HyWTyvs7xgz/4g/jVX/3Vp17/d//u3+Gnf/qnP9S6XxS73Q5f/OIX7f8Pf+/3fg+3b99+0csS4mONBIjIHO5cE19KBCCR+eD7+T52ekp3x/KB5nWdn/j39DA9X9rFYyyXy0SXKABm2OZ08larlSgh4owMeijCMMRsNrOOXhQjFA7p3fy0J4Jr9X96oeHvm5+ozvvF/xAyW1Or1RDHMeI4xsXFBfr9PmazGeI4RqFQQKfTwenpKYIgwJ07d1CpVNButxM+i3K5jEqlksiMsH1vrVZDuVw2YTibza4tZeN6vcndXxtFCGeb8N6yxI4CJ50h4pp8pmO325kQ5XG8N0UI8TS/8Au/gGq1+r7mTeRyOWsk4jdD/jB++qd/Gl/84hfRaDSe+t0P//AP4+d//ucBAL/xG7+B//yf//MHWv+LgmKNTTI+DHfv3sXP/uzP4p//83+Ot95661kuT4iPHRIgInPS3aK4c00vA39Hb4QfOEhfB4NK79/wHa4Y+PoyIf8fBR7LZw18+ROPy25XLNmq1Wqo1+toNpuJ4/E4nEnRaDQwm81QKpUwGo0sQxKGobXQTQfdXAMFiO9Gdd1/2L2HhCLElyvVajW0Wi0zd4/HY1xcXODtt9/G+fk54ji2NrXNZhPD4RCHh4colUrY39/H/v6+lUVxcjsFCUVDEATodDpoNBooFouIosgaASwWi0QbZP5QLKQ9Md4Lw+wYvR31et0ECEu9GPD4Vsb+WVKspkv1VIYlxHvzy7/8y+/7vbvdDo8fP8ZqtcJ4PH7fgfdf/It/ET/6oz967e8++9nP4rOf/SwAoNls4nd+53dwcnLyifJvnZycoNVqodPpvO/P7O/v4/u+7/vwsz/7s/jt3/5tTCYTXF5ePr9FCvGCkQARmcNAEnjiy4iiCOPx2HbRfXbAeycAJDwbvkOVD0LTAbsP7lkWFMcxJpNJIsCnqPGfp1hgZ6dqtYpms4lut2vCiSVh3hzP4Pz4+BidTgdRFKFWq+Hi4gKj0Qjj8TjRucp7OXyA79dCgcZ76DMi3gdRrVZRq9VwfHxs7WffeOMNfPnLX7bsB8uWgiDAYrHAYDDAxcUF8vk8oihCo9HAyy+/bPeYHcjK5bJ1zNrtdmg0Gjg4OECz2XwqA+ON/l4kpQ31FCU09VOo0dB/cXFhpXN7e3tPZWaua9nLrNNgMLBWv8BVgwMhxEdnPp/jB3/wB5/6/8tnxd/4G38Df+Ev/AW8/vrr6Pf7z/TYz4vVaoUf+qEfws/8zM/gn/2zf/a+P/cv/+W/xJ//838eAPDv//2/x3/5L//F/i3EpxEJEJE57CTla/W5U83SKgCJoNp3vwKuOl950/J13aZ8tyTuyhMfMPvSnUqlkthFp2fAr4NlX760hyb0N954A+PxGGEY2tqYSeh0OjYhnH6G5XJpAbtvK5sOlnm9FFoMvPl3tp9tNBrWaeXk5ARnZ2f46le/irOzM0RRlGizyzIqljUNBgM8fvwYDx8+RBiGlvmhOEqb4nn/ODyR93g+n5sfI93OmM/Fl8ilr5eZDi/wVqsVLi8vbV2+/TCfw2azwWKxwOPHj01szedzu3e+k5YQ4qPD0tlnyWazwd/5O38Hg8EAy+XyfZWDfZzw85jeL/zvCAD7/zchPs1IgIjMYcCY/j/odMtW3zrWCxC/4+9bzvoyH+/t8P/2O3S+/MoPtsvn8xaQ+/N5ozQAC/6ZjZjP55hMJnjzzTdxenqK0WiEYrGIRqOBZrOJ4+PjxOwTzrTwa6KQoh+Fa/Atg/18C3b2YoerTqeDer2OYrGI0WiE09NTPHjwAI8ePcJsNsN2u034ONJte+lVOT8/Nw+Lnz5/XRcu+j5yuRwWi4UZ0HlPvfeCpXDe5O+fhfe18F6Uy2WEYYjFYmHDKdMlalw/BcjZ2RlGoxHCMEyIS2U/hPj4s91u8Z/+03/6RLcAHgwG+NrXvgYAVtL6frl///4n+tqFeD9IgIjMYcnVarW6tgUr4b9p6vMigYKDr/vWrn4yN4DEDrsvxfFmb/87TrJlVoEmbg7CY+coZksY7J+cnOB//s//iV/91V81AQI8GULVbDbx2muv4fDwEPv7+2i1Wmi1Wmg2mwiCwCa+b7fbhEeC7ShZ/uVL0/yE9FarhXa7jYODA8znc4zHY/zBH/wB3njjDevKValUTAj4oYgM/IvFIsIwxMXFBR49eoR+v49KpWLvZ8aComexWCCKIgwGA5t9Mh6PEUWRZbJYbuczO2kB6b0vfjYMnzdnjywWC0wmEwyHQ8uy+I5hAOz1MAztdXbnKhQKn7j2nkKITya/9Eu/hH/7b/8tAOAf/sN/iH/wD/7B+/7sT/7kT+J//I//8byWJsTHAgkQkTk0nPtMB1uyMvj3U7/TXgjv02AwHMexlfx4H4jfHWdg7z0X6XIiP1eCu+8MoBncMvBlYJzP5/H48WN85StfwW//9m/j3XffTUxtp9l7sVjgwYMHaLVauHXrFnq9nnWQ8i2GvQjzM0OY+fDzL0qlEjqdDrrdLprNJtbrtZVQfeMb38BoNMJ2u7WyL4o2f398q1yuk+1/vVADkpPMgSelBmEY2vVOp1ObtRIEQSJr4wWPz+SwXMF3KvPZqdVqZZ3PANj8Fh6Lv2P5F30+Hj7j9+rMJYT4ePDf/tt/w8///M/j4uLiRS/lI8P/X30//5/zcz/3c/jX//pfAwC+/OUv6/+nxKceCRDxwki3lmV2w//eB+DemO3fx914Bp3+9164pFvV+uF73rTuy66YmWGplA/Q6bPYbreWNXj77bdtGGGlUkkMThyNRoiiCKPRyNa8XC4T2R/fEpiBujfH+zUyO9PtdtFutxEEAR49eoSzszM8ePAAFxcXiVkj/p74e+rP52emMFhPTx9PdxOjgGCJG8u8fKlX+rlddz3+vns/SLoczgtKziuheZ1tlL245TqFEB8Pvv71r+POnTv47u/+7qd+d//+ffzKr/zKC1jVi+V//+///aKXIESmSICIzGFHI8Ig28/x4C46MxYMTP1OPgNNGszpC6jX66hWq4mddL9z78t9iA/KvTjh5+ktiOMYs9kM4/HYetgvFgu88847ePvtt/H48WPza9C7wlIpBuvz+RxRFOHy8hKdTgeLxQJHR0eo1+uo1+tmuF4sFuYv8XNJGKCzI9fdu3ex2WwQhiG+8pWv4A/+4A/w4MEDhGFo5u/1ep0oX+M98Jkmth/27/GT6n2Gwd8fXhvfn8/nrQWwbyiQzjZRUNC/4rtVAbDMhy+r86Vc6VbM75X94HE5T0RzQIR4sfytv/W38Kf+1J/Cf//v//1FL0UI8YKQABGZ43fcGeCnzeO+uxFw1SGkWq1a56h+v4/xeGwzI9jGl8MA+dn1ep0IphloM4ClWCAUCsBVW0mW+vhyHx57OBziwYMHODs7w3w+tw5fq9XK2sXS2O6vaTabYb1e45vf/CZmsxl6vR6Oj48RBIF5Fny5GTMK3PnnNPdqtYqHDx/inXfewRtvvIHz83PLrPiuXbwOBugM9inwKpUKbt++jbt372J/fx+DwQD5fN66eY1GI0wmk4QJ34sJenrYqne1WplpnPfUd/yiv4OldxSVvL8UH3wG3kzOdc/ncztHHMf2Od4j/1yBJ+L3/v37OD09Rblcxp07d9BsNp/Bt1oI8WH5rd/6Lfz9v//3AQCnp6cveDVCiCyQABGZk574zcDS72Z7nwJwJQp2u51lEGh+3mw2qNfrKJfL9uPb8vrSH18KRDHAUiuexwfofjghhUx6aGEcx9Z2d7VaoVqtJrwo152P5ULAk24pzJa0Wi3UajVbP/0OAEx8FItFM7bT9zEcDs04zgGAvAbeW38vKfR43EqlgmaziZdeegnHx8dotVqYzWbI5XKI4xjlchnT6RSTyeSprIQf/sfAnwb62WxmE+Dpn/HPulqtolqtIggCm6TOjJbPzHDdACzTwYnrFCEUh+lBlOnnzu9PuVzGjRs3nvG3WwjxQen3+/iN3/iNF72M58a3vvUt/Pqv/zoAqLuVEP8fCRCROd5n4HfkOR+EZVB+J5wBJgfMRVGEyWSCQqGAWq2Go6MjtFot21H3JmY/TwS4EiTpchwvjHwA74NiCgefDQnDEJPJxKacswzJt5L1YgSAGeZXq5X1uucAQBrKu91u4lo4a6NYLOLg4MDEyhtvvIF33nkHb775pk0jLhQKZmgvFAo2U8Mb+3l9rVYLvV4Pd+7cwec+9zm0Wi3U63UMh0O7x0EQWKbBd+zy/o/VapVoSXxycoLLy0s8fvwY8/ncBIm/N75crdFovKdRPi1SN5uNiVB6cnyTAkJRxI5cbFzgxZMQQjxPfumXfgm/9Eu/9KKXIcTHCgkQkTlsaws8KUOK4xgPHjzAarWy0iNmHPwudxRFmE6nVgJUr9fRarVs99ybub3/gwEry6CY8WCmgv4O77XwHaCAK3EShiHG47GVI1GgMIvATAqP5aeX++ndURRZBqhYLGKz2WAymeCtt95CqVTC7du38frrr2Nvb88mfJ+fn9u193o9K/V6++238fDhQ5sU7H0xvquYzzpxOGCj0cCrr76K4+Nj3L59G61Wy0qh/HyS2WyGKIqsExiFB9sB+yGDFJf0yJTLZft8GIbW3pglYnEcYz6f4/z83IQHr5nXQihc/BR6P8uEooUZJf95ChGun6JWCCGEENkiASJeCL4kabfbYTQaWTDrvRsstWH5ThzHNjfEz/Tw/gK/c+47Z/kBfjRnM4vhz10sFhPZAuDKjB7HMcIwxHQ6tRKlzWZjxvpGo/GUn8Qbr4Er8zWPy+5X6/Uag8EAFxcXCIIAd+/eteyFPx4AC8JnsxnOzs4wHo9tyjszP/681017bzQaODo6wq1bt3BwcIBut5vo2uVLoDabjYkS3yFrs9kkMg7+ntXrdVQqFdRqNURRZM+PAoHlWsysnJycWBaJGRY/ZT3djtlnMPxzT+NFpL8fi8VC3bGEeEFcXFzgP/7H/4gvfvGLL3opQogXgASIyBwG/LlcznbxJ5MJBoMBgOTgQL7PeyZYpuUDd7a+5c68N6IzAOWuO43SDHRZFsSZHxQz1w0zpCG7Xq9jNBqhVCphtVqhXq+j2+3i4ODAZpLQs8LA2IsAZnn8semTePjwIQqFAl5++WUcHR1ZZoWCzK+Fk87Z2pf3bbvdWmaC95yipFwuo9Pp4OjoCPfu3cNrr71mBn76NVhG5kUInxvXnPZmeEGSy+XQ6XQsozSfz+0Z+kxTtVo1MfDNb34T7777Ls7Pz22eiP8O+NkvwFVGg1wnPrgunwEiEiBCvDi++tWv4i//5b+M//W//pf+dyjEdyASICJz5vM5JpMJ8vk8ms2mBdfpHXruajPIXy6XKBQK1jWJnZMYpMZxnDCH0+DcbDZRqVRQr9dNGMxmM4xGIyvvarVaiVa9/GHJFlvA0kR9cXGBRqOBIAiw3W7R6/Xw8ssvIwgC9Pt9TCYTTKdTEwb0fHAnnxkMlnD5FrlxHOPs7Axf+cpX0G63cXR0hL29PfOXMPszHo/xzjvvoN/vYzab2T3iuYIgsHPw2EEQ4Pj4GJ///OdxeHiImzdvmkhLt8H1PhwA1h7Yl0SlB0T6EjOKEQpBlr35Y3OeSr1exxe+8AUzpP/+7/++XYufAUJPTdq7w/Pz+5OeCUP/EK8lCALLYAkhXhx/5a/8ladaZwshPv1IgIjMYVDpDcis32cmwk8ZLxaLFlz79qrpeRv0PXjTtc86sGMVxQfFgS/R4br443fN+fvlcon5fG4BLQVTr9dDqVRCo9HAdDrFeDxGsVg0n4s/VtpcTdghK4oiXFxcYDKZoN1uW5kZ/0O9Xq8xm82sExh389OdqbygqFaraLfbuH37Nm7fvo1ut4tqtWp+FN6j6z7vO0x5Y/91JW88zmKxSMxC8SVTvoyLbXODIECr1UKn00G1Wk2IKZ9lue7cvqSNWR7/dy/2KFQKhQJOT09NeN28eTMxn0YI8fx58ODBi16CEOIFIAEiXhilUsnM47lcDo1Gw+Z40EvBHXU/NZy7336mhO+mxdIqChQGv+v1Gufn5xgOh+j3+1gulyZ2/MBB36XJG7F9OdBiscBkMsFisbD39no97O3tYX9/H7PZDJPJBMViERcXFxgOhwjDMCFArhMh3L2PoshKkXxJF70RzCJdXl4iiiITCOnsjc8WNBoNHB4e4rXXXsPt27dRqVRMTDHD430XvGYeK52l4n3yLX69APGC6DovDLNXFBNsTtDpdNBut61syzcEWK/X9p3wQsNnP5jp8d2v+J3wz7NQKODtt9+243/xi1+UABFCCCEyQAJEvBAYPObzeSuParfbCIIA1Wo1MUQPuDKkA1ezOvyOvM8A0P9AYcCZEizT4g4+MwC1Ws08EKVSyQJwtnD1GQEGtfl8HovFwnwePBcFTbPZxK1bt3B8fIx+v4+Liwt84xvfsKwGZ3X44JylXrxGZjg6nQ56vR7m87lNYz89PcXJyQlOT09NgOx2O9vt5zWw81ahUEC73Uav10Ov10uIKN5jTjrnZ+lT4Rp9C19f9uS9OHyNrwNXHgyfYWIJXb1et/cyE1Or1XDr1i0sFgvL9Hgx6dsoe6ERBIF9f/b29qxUr1KpmIClAGU3LpZ2sXuZEEIIIZ4/EiDihcB6ft8Ny5uTrxsgx1r+tDGaYsH7CvznWf5ETwIFDwNWThjnjjyDVW+o9mKI7/OGcK6DJutqtYpyuYxut2vehziOTXSwbIprT7eRZdZhPB5jPB4jiiIAV0ZvDgX0Zu308L2096PVaqHVaqFcLieGKXqBwftdKpUSWQd/fF9uxdIm/3sKN+JnelBEUBhwzom/7/TdeHHDsrp6vW7fhUqlYp4RdiCj74fXSVHIlr3+uxOGYeL+CyGEECIbJEBEJjDgBa4CYz+tPP0+Bv58H4VJ2rPBgYA0R9NgznNxB53/piBIixBmOpgF8J2gGEx7PwnFhw+SaXD2cz9qtZq1vGWmgsfxa2YJkS8xW61W5lVh+1peEwVIGIYJIcEdfd9yuFAooF6vW2kTsyS+zMrPDeH55/N5IhvE++6nnfu2u95kn36mvLZSqWST3ilEfBaLM0G82OE5eR99xoNDE5vNJjqdjgnKIAjsO8O5LhQ38/ncyu/YulhmdCGEECI7JEBEJrzzzju4uLjAxcUFZrNZIvsBwALgdCbAG8H5J4NKttTlzjZw5a1gd6vZbGbekUajgZs3b6LX6+Hw8BBHR0c2OX29XiOOYwuCfacnih76L7heXoPv/gTABFEYhmbEzufzuHHjBgqFArrdLt599108evQIw+HQOkaxzIw+BIopDsxbLpc2M6NarWI0GlnbXAb/i8Ui0XWKaymVSuh0Ouh2uyiXy+av8O2Bmfng9XFNzCoBSLyH/6YY4bP0c1Z4LK6HZW7susVnxyGPo9EIYRjadbFVM49FMUWvyPHxMZrNJtrtdsLo7r0ovpsXsx2cvM5MVLpFrxBCCCGeHxIgIhMYPDOQBa68ASytosfDt6QFYG1i/e4+/+2D4esyF5VKBe12G61WC4eHh7h16xaazSZarRZqtVpi1gXPxRkhvlOT95xQAAFXfhRvKvcduRh884eTxqfTKYbDobXPZRmTn5HCHXsfOFOYMVPAeSXvtYPvr43BP0VdurSKk9vTczPSnbrSgbzvSMXj+H97kcZnR/N7FEUmvMIwRBiGZuCnSOIauGY+V5rWWe7GZ8nMDr8jPC+fCe+bN9GrDagQQgiRHRIgIhN8BycAtvNOWI7FoJfGYL7uO1T5gNiXGjFAZYkXfQYHBwfY39/H7du3cXBwgCAIEm166Su5bqI3RYgvIeP6+T6WXvHzfB9fZ6Bbq9VQr9dRLBbR7XZtmCEnr/tAO5fL2T3zWQzfuYqCK70m4k3ufh1+dko6c8R74r01zDr5ErC04PLPIz2V3Af6XiQsl0vr8sW2xpyYzuyRz37xh1kYlltxUGO645YXlVzHYrGwc/B7x8YDKsMSQgghskECRGTCbDbDeDy2QJq7zmEYAoCZkblbzV1tejVYvtNoNCy4pC/Cd9Ri0H14eIh2u40bN25YmU6n07HAmkE8swC+bInZDx+k+4CbwTUDXk7yBq7meFAA+cF5NKfX63UcHh7iwYMHJoTS8ywojEajEQaDAcbjMe7du2fm6d///d9PeCW8yOC/KfiYfWCwzWtNTzr3ZWabzSYxvZyT5RnEA1cZLJZKsYUyr9kLMh6fa2k0Gmg0Gmg2mxiPxxgMBjbAMQxD858wy8XPs2SLgi7t3+GPFz9sL7xerxPnaTQa9r3zGRshhBBCPF8kQEQm+AwCA+1CoWCzP5rN5lOTzX1nJH6uXq/b7xeLRSIw9gKHMzkoPkqlUsJz4HfHKTx8Nyju2jP49QE0sy38OwNcrtF7Fogv4+J1NJtN1Gq1RPcqBtPMANFE3+/38dnPftaCfJYRURwR30HMZ2z4Xm/gT08QpxDy3a/87A9/z3yGg2VgviuYz7YQPndeXz6fR7vdtgGJwJNhicPh0IY8snSPs1BmsxnCMESz2UyUgHF9XLvvgjafzxHHsWVVOOCQU+UpXCVAhBBCiGyQABGZQ/HhZ3B0u10EQQAA1maWAaj3dnDHnX+yy9Rut7NsSqPRsNkZNCdzeB/nb3Advj2sL0ni71keRY8Ag2iWAwEw0cDfU0jxWhhws7Qpn89bJqRerz91X/xsEQqt8Xhsu/4sw+L70p8HrgQGg2tmdQA89Z60SACuvC3+98z2+HbJvEZfugVcian0sdNBPlvpNpvNxBwRNhegYPTCgQ0GvCDk+vw18M/FYmHH8mvfbrcol8uWjVMJlhBCCJENEiAiE2gcDsMQlUoFe3t7+NznPofDw0MrxWE5jN99Z8tZtp0dDAYYjUZmUmaAGscxKpUKOp0Obt68iaOjI7RarYRhnYMEfdmSD4rp5+COfjoDwqCXJVzb7daG3XkvRDoL4UULy5fYkarX61k7WAbwnBdSqVQAPAmgR6ORDQcMgiDhiwCQmMvBv9dqNft9GIbmF6lUKonWwV488HWfBeKPv4fAVdtdb/BmORvvg88wcfgg7zOzOGyHfOPGDeTzeTSbTZyfn5shHYCJk/l8jvF4jEajYc+e62C3MW/m57PikMbXXnsNjUYDw+EQJycnidI6IYQQQmSDBIjIDAaLzHgcHR1Z6dV2u7VJ2MDVbnm5XMb+/j7a7bYFrSzJGQ6HuLi4wGAwwLvvvmtD6ThRnVkNBsQM2lnCRTOz96R4EeFLxeih8N2Y0m1fKZ58py8/08TvsNOPwSGILHWiF4HHpFcljmPLYviWv7wu3jP+m+tmIM4yrn6/j/39fbsmX95EgeM7ZKXLufxcFF/KxoF/XAOfFa/Rl3xxRoefI8Ljc5J8o9Gw70uj0TBxlJ6o7ueweHy2p1qtJsRQu93GaDRCqVRCGIYJL5EQQgghnj8SICITfJBZqVSsIxTFAUuqvM/AD5wrFos24Zo7/6PRyILe8/Nz625VKpUSpUQAEgGm75TEgLpYLGK5XNr7rgtIGZz7zlL8u++g5U3QLO3xpUzcrWeXLy9Q+Du+P12GxqGFfvBgGn8eL4o4VZ2zSfy99+Zz303Mn4PH9ffBZ1x8FoFeHGYl/O+4fmZVeB+BK4FDn8tqtbJuV7x2vseb6dMthYl/vhRDFDmz2QyPHz+25zWbzWxQohBCCCGeHxIgIhPoWWBwWS6XsdvtElmP64JI7uQzkGw2m+YdabVaaDabOD4+RhAECMMw4R1guZIPgMvlsgX19GvQV8HSoMViYetYLBZWHpUu02G5z3K5TLSZ9dkCb4z2wTZFlTdL8xp9Ny8OIozj2AzYvoMXABNc6W5OLP/inJWLiwu0Wi28+uqraDabiTIzPiPf+YomeIosvs9njOir4HX56+V7a7WaiRHgqiUz7xszGRRrLNej6GCWiGKq1WrZbJf04ET/veG9YCkbny+P7YXLcrnEl7/8ZXQ6HfzxP/7HP+K3XQghhBDfDgkQkQnpQXXckWYA6MuPAFiw6f0b9Ef4IXIA0Gw2cefOHZycnGCxWGA6ndouNg3flUoFrVbLRAUHALIMyE8T90Z3ro9ihUKEu/feZM7zMdhmyRbFATMMXoD46/TBuzfI038ymUxQr9ctqGamxLcGThvG+Tt6NCim+AzYbYvBOzuO8fn4NTFrwWfky664Rl/G5ieQ0zuTy+XM60Mh6r0bfPYcCMnj00gOAO12G51OJ5Gp8B3EOHyQf6cHBEBiMr3PcKWHLQohhBDi+SEBIjIlXeLkDeCEwaEPzH1XqeumcNPITDERRRGAKz9EEAQmJvzUde5+M1D2JUjpCeRprwGDdv/aer02U7oPcH1XKt6HzWaTGM7o38f7wPNEUYTJZIJWq4V6vY5qtWqZj/cqxfLH4G4/S7mYjWBGiCIl3WqX5/di0GcafEetNGkB4j/DUjmfBSLpbA6fGTM+bEXsy974fu8P8d8ff28pmHhffOthIYQQQjx/JEBE5qS7UqWnjKdLsFiu5T/DH/oi1ut1ooxqMBhgOBya+KDPgu/jMEAG5Sy74jrSHaZ8kOwN3iwZ8uZtnou7/j7w9SVWs9kMk8nExJDvNOUDanbBOj09RaPRQK/XQ6fTQaPRQKFQwGKxMMHD8ii/Lt7P+XyOKIoQx7H5IPb29mzoXxzHCdM8sx++i9d2u8VsNktcoxcMNJxTeLAUzmd7aArne73w8Zkg/ngPDM/B0it/r/h8eR8Iu395T4wXefxcug2zEEIIIZ4PEiAiE3z3JJZJXVxcoNPpPJUt8J9huZMXGvQU+JauAKyki0G2L6WiH+TWrVuoVqvodDombJgxoejgvBB2XvKZluvKrgAkAmaWOzGzQnFC70qz2cR8PsdwOES/3zdzNQDLFvCe8Bq3261NCV8sFmao9pO8ryvB8q13vfhpNpvmj3n48KH5RarVql0TS568yZ7Bum/7y3a6i8XCvBUUBgzseQ+9T2Y+nyeyS8wIzWYzjEYj87xwJgwAE52LxQJxHCeEDfHlcOnf8Xr4ew6E5BySwWCAX/u1X0M+n8fR0RG+8IUvfKjvuxBCCCHeGwkQkQkMQL3RmzvvPruQLrnygfW3Mzv7z/v5D9w5L5fLqNfr6HQ66HQ6NkmbZVbp8ivuhnuR4YUSy3wY/HufhD+mX6+fh8HgmqVi6a5d/j54nwpb8ZbLZRMg3PVPH4PXQd8Fs0bpEidea/r6/D32ZW9cb9p74j+bNsBT/PjWxbynFEXz+RzT6dS6dUVRhCiK7HvCrA6AxDNL+0f8v9PT2PmMuQZmYmq1GmazGZbLJcbjsbWLFkIIIcSzRwJEZALLcBhEs1OV7wzlxQPLaPxMDHorAJix2JcJ0aie9hwUi0W0Wi3cuXMHr7/+Omq1GorFIgaDQcKAzqDWtwPmORisEhqdGVSzhIudoRjU+y5cFA3FYhGPHj3CYDBAFEWJzIT3L9Akz2thRmW73aLZbKLdbqPdbtvgQt4nnptihVmHIAhs2vxisTBztzemA0k/DrMSu93OpoYzqOe1U+BQDKVN/D5bxCwV/R/1et3u2eXlJR4/fozLy0vL9CyXS4RhaPef95NDHZlh4jPy3g/iu5H5tfE9bFDA+0hh45+3EEIIIZ4dEiAiE/ygu1qthkajgU6ng2q1mmhdm+58BQBxHCc6ZTFwZCDJEip2vGq1Wri8vLSp2d1uF+12G3fu3DERFMexiSAG6sBVlsMH4z7wB5420hOuOY5j+yxFVD6fR61WQz6fx3w+x9tvv43JZIL1em0+GD/kkMdiq1nu1DOYrtVqODo6wr1796xVL7M9vnMXS9hyuRyazSa63S729/dtHZPJJCGumLXx7WuBK8M9fR0UbN43wQyJz9jwenh/mMkIggDNZhObzQaXl5c4OTnB1772NfT7fcsM8TtDQUrzOgWVH3bo/R3+XOk2yBSZ3vvD47NRwWKxMNEjhBBCiGePBIjIBAaD3O1nm9d0xyviy618q14GnyzH4XE5tG65XNrMjNlshiiK0Ol0bCI2z3XdvBF/Pg8DbAbPhF4IZgn8On0rWu72c97IZrMxX4PPfPhMjm/FW6lUTDxUq1V7bxAENiXeG795HcxQcPhevV5Hq9VCq9VCpVKxNXt8SRSzAL6ki6VtXmh4TwyvmyZ9roV/UsgwGzEcDnFycoJHjx7h4uLCSq44N4YChmti9mw2m2E8HgNAop2wbwhwXfmcz3JRgDDTwu+Un/QuhBBCiGePBIjIBJ/R8F6D62YxpNvecqc9LWIYzAMwT0UcxwjDEJeXl4jj2HbSGdxfJzq4u87jLxYLe913W1oul4nuSjyuXxt/eM2+dWyv10OxWDRvAzM66fkf/DwFWrVaxa1bt3Dr1i20220rPyqXy9jf38f+/n6ixS6D71wuh1qtZhmnVquFbreLw8NDNJtNhGGY8JmwrIxr9z4OAJZloY+F62PJmf98sVi0a/cZCF7barXCdDrFO++8g7fffhuPHj3CeDxOlEZRpPguYQAwGo3seieTCUqlEkqlEoIgsL97YcWuWRRTFBz8rlCw8hwsUxNCCCHE80ECRGQCA1kGpnEcYzqdYm9vD5VKxTpd+VIk4Ekg7MuYWD7DnW52c9put/jyl7+My8tLnJ6eWqlOtVrF2dmZlSB9/vOft/avcRwn5ksw4OV5fXDuy618Zy6KgXTpmDeeM6it1+sArob98Zzc7fctbfnDwJoBP8upuFtfrVZtWJ83dqdb/3a7XfR6PbTbbZTLZbtGX27mJ5N7T006szObzSz7VK/XUavV7Dp8tsjjTf2bzQaj0QhxHOPhw4eYz+eoVqtoNBoJUReGIWazGS4uLuy58LNhGGI4HFr2A4B5hFhmFwSBtRrmwENf1sX5KhxMmTavp+eTCCGEEOLZIAEiMoMigjX2/X7fOlL5Nq0stQGeBOgclgfAavYpHFhitLe3h16vh9lshsvLy0QGoFwuo9FoWIB6nX/B+wPS2Rnf5tbPv7huyF1ahBB/jEqlgk6ng/F4bLvvDPYZpNPv0Gg00G63LXvCHfx0VzCWtPnWt/S2MHhndgCAiR5/Pj8hPF2S5tfGNdCXwvuR7jDF83LdXiBxHfv7+2g2m9aK2Iu6wWCAYrFohnSWlflz+IwUy6h4D5gR8teW7uzlv0s+m+UzP0IIIYR4tkiAiEzgjjIFCIO8druN9XptvgQGfQxa+XfgahedngAGwSxFunHjBlarFc7Pz7FcLpHP59FqtdDr9XBwcIBOp2MBqw+q0x2wfADu280ycOa50/4HAIkA1wfdDNKZfTg4OMBkMjE/A6+NATO7ZrXbbSubKpVKFpz7IX4UIMywMKieTqcWiPM+ehEzn8+tMUCxWEx0GWOw79sm8zp8WRSHCvJ93kBPj4sXV1wHsznMevgBkKvVCuPx2Dwdk8nEMic8F++Xz1QwA5NuIQzgWjGRnuUSRZEdw7ccFkIIIcSzRf+FFZnANrrtdtuC+M1mg2984xuoVqvo9Xq2y++njJdKJbTbbSs3iqLIduEZLDJwPjw8xG63w7vvvosHDx6YMPmhH/ohHB0dodVqWc0/A2/gStj4drekVqslhhByVz+KosSAPIonZhl4PLaNpeGa/oJGo4F6vW4lTBQRFGfb7dbKjGg+bzQaNs3cexhyuRy63S663S6m0ymGw6F1h6IAu3fvHrrdLnK5HM7Pz60E7vT0FKPRKNHqmLCt7mq1QhiGCX8GBQSfo89+UESwW1axWLT7QN8OhzJ2u91ENopCbTKZoF6vo91uY7Va4fHjx4iiyOZzeEHhO5VRSDHjxVK8NMyyMaMVBAHCMLTfNRoNzQERQgghnhMSICITqtUq2u02bty4gXa7bUE5p20DsFa6fmYE8a/7Ehy/285sCGv/gyDA3t4eDg4O0Gg0rP2u91v43XRfduN/72eR8Hd+cKH3qRSLxadKr5hxGAwGqFarFpA3m81ECdZut8NisUhkWxaLBYbDIR48eGDihx6ayWSCyWSCfD6PRqNhbXPDMLTswq1bt3BwcIDDw0MUCgUsFgtcXFyYkJnP54kZGunuUVxrtVq1IJ/XnO66Re+FzxqlW9kyk8Hr9PfVe1+q1Sr29/dRLBYxHo8xGo2sbIy+D05T5zMsFouoVCrWipkCxHtiuPb08+az86/7+yCEEEKIZ4cEiMiEer2OQqGA27dvY39/33wdw+HQyoEoDPxcCooQv+OdzlgAsMCXw/6YMej1euYxmc1mlmHwfLt2q17o8L2+vMrv+jMr4MuX/NC8wWBgrXiDILDyM07gZjDPEqV6vY7dbofpdIp3333XMiqlUgmTyQSj0Qij0Qh7e3vodDpoNBqIosja7h4cHODu3bs4PDxEr9cz4cLWsyw589fKABy46g7GSeH5fN4yLyyrms/nidbKFEn8rL+3fvK6L2Fj1suXvtHbU61WMRqN8ODBA4RhmPB5MIvBNVcqFdTrdRvSSOO5f458f3rQ4Hq9RrlcTggQvp/eGiGEEEI8GyRARCaw/OfmzZtWrsTOUDRMMwj3pml2gPLeDwaOFCose/KZEbLZbDCbzVAqlTCfz807QcFC/wM7LrEbUrVatUDeB9HMejAQpnGanpIgCCw4ZsANwGaV8LVutwsACILABAEzOZ1OB71eD6+++iqAJxmN09NTvPnmm5bhYZenmzdv4rXXXrNAu9Fo4M6dOzg+PsaNGzdwdHSEer1uZVt+Mjk9Fr7LFbMANGjzepkJ8QG995b44YB+BomfAULvCIN9Zo3oU6FgY/ah2WyaYZ/T69m+mF4UiiO2GA6CALVazTJNuVzOzPh8jmwbzO8O8KTsjs96Pp9jsVjg/v37+OY3v4k//af/tPlrhBBCCPHRkQARz5Xlcolvfetb5lHI5XJWNgPAMgYAEhkEBvf0U1Cc+JIZP9CQwSN3zdnal0E0RQoDUi8q0rvb6fKu9BwLig2un3/6tXGX3pd0+WxHPp9HFEX273K5jFarhSAILJg+ODgwgdLtdtHv9216ez6fR7PZxK1bt3B8fIwwDDEej1EsFnFwcGBzR+g5YbaD4oD32WeTfAYCuBIW6ZkeftaJ7wrmW+L6NsDsbsZytFKphGq1imazaXNE+B3gMSjKfEaM6wGuhCAFSLfbRafTQRAE9sNz0r9C4eMN8aRUKpngCYLASgOV+RBCCCGePRIg4rmyWq3w9ttvo16v226zL4OiKGCQyQCTZT2FQsF2zRm4M7Dk3ylCKDSq1WqiJS13zClS0h2R0h2vKDQ2m42VUvkSLJ+l8e15/dr8sfg5P1jPt4rd7XaoVCoWfHNiOU3YANBut1EoFNDv9xHHsXW94mwPeluKxSL29vbQbDZRrVbtfH7qufc3+FbCfJ3X7IcwcmhhWoDQM5IulePz9ffGzy9huZQ3rXuh4tsH87j++8G1l0olG7RIAUERwXMyU0Moan02qFAooF6vm+AjaU+MEEIIIT46EiAiE/xwQV+yw9c5kwKAtaBlloMlMywR4uuccM22uGwXSyP4crnEeDy2cptKpYI4jhPBrB9Kx/Ny9325XCba07KkiDv5zCawPInZFx+gs1Uwd+t9S99arWZdsKbTKaIowmQywXK5RBiGODs7Mx8DjdnsiMVzDwYDlMtlxHGMcrmMmzdvotPpoFKpYDwe2wyNOI6xXC5t/ZzfwftNzwXvW7rcjS18WY7Fsibeb5reKSi8p4Xislwu2+BElnKlM2H+++AFJuHzB2Ddq3jvfQMCP7Sx2WxiPp+bEOM98BPc+Tx4r8vlMsIwtBbAQgghhHh2SICI544vl/IGYl/6Q4+GFypA0mvgd+i998O39QWushTL5RLD4RDj8dha3vqZFAx+/dRv7w3xA+wYiFPkcE3pbAzfd12WwO+2M6D3Ha+azSZarRYmkwk2mw3G47GVEvFaWOrErlRnZ2dYr9dWdsYOYzT2U0z47lW+zTFw1UKY95v3xH+O18osEt/HYxKfIfGBuy9ri+MYuVzO7vV109Z9uVUcx4jj2OaWsLUuhR8Fon/Nf894r3kt/NOLHzYvoHCheGK2SgghhBDPDgkQ8VzxwTkFhA9G04PiKEzYQcnX63Onmu/nj5+gzsCSu/Cj0QiDwQCNRgOtVisRmPKYAOxczJZ48ZH2cbAEKz2wMO2hYLkXX2eWxZvlmdXh/I16vW6m+OFwiNFoZJmiMAyfKk2jKDk4OLAOW/RHMKvkg24AliHi+avVakIU8np4PymgKCA5b8PfQ3/f+cPj8F7450LRl56Szs+Uy2UTKZzd4j0hvA6uyX+P/PeMr/lnwGfIZ83z0RhfKBRQq9WsgcF1QwyFEEII8eGRABHPHQbY3GlnhsIbgdPzM/zuNHevfZta/z6KAQ7hi+PYSomm0yn+z//5Pzg/P0cYhjg4ODCB48uF0n4A+jf8Dv9ut7MOSSxF8uu47lj1et2C4dlshiiKADzpxMSAt9VqWQajVquh0+lgOBxiNpuh3+9beRDFC+eGcD4Gy7vYUcxPCec18Lz0y/jr4999dygKIl5PpVJJiBlmrRjILxaLp3wiaRM+P+szWv6H/g1mOAaDAS4vL/HOO+/YHBDgykNEg7n/DjGbFARBQjDyefA6Z7MZ1uu1+Ubq9bqdN5fLodFo2HdVGRAhhBDi2SIBIp4r3DnnTjUDOl9iw38HQfCUJ4RmaG9Q9h6S5XKJKIowHo/x8OFD9Pt9PH78GJPJxHwEXhywBIliiMPsGNQyIAeQOCfwdHcsChPfActnENLZHj/vgj4IZnoY/ANAuVxGs9nEjRs38M4771gWiLNT4jjGaDSytsEUC+VyGfV6PTHJnSKA3bC88Eg/J5+lYiDP33mvRBAEtiZ25WKnMu/PoFDh9TNzw2unKKNgokjlPTk9PcX5+TnOzs6sXIvDDnnvOYukUCiYSJnNZuh2uyZIWLpFMUK/EM3w9JB4gzsFEc3/QgghhHh2SICI5w4DeV/KwmCSO9Pp1rDA1cBB313KlzVxsncURTg5OcHp6amVLbEjVqPRwP7+PtrttnkDPL7Vrh8u6ANpj38fcNWdyZdq8XO+DAi4ytzwenlsX5JFb0ulUkGv18PJyYnt5HvjOMUHg2sev1QqWQaGx6Xp3GdyvNfD31N/zbzHPAaN6RROfD4UPL7DmM+UeHypGuexMMuyWCwwm80AANPpFKenpxiNRgjD8KluVPz+UFCtVivMZjOsVisTJPTPUNxRfNAgz85jzHykS7colpQBEUIIIZ4tEiDiucJSHZbX+JIcBo7eeMyd92q1mqjXZ4Dvp6UXi0XEcYwoivDOO+/g8vLS5mG0220cHR3he77ne/D5z38erVYLlUrFgvYoiqyki8EnS4noB2Dmxmc8mE1hZoaD77w48G14WdLEDlsALBher9dPte3dbDbWLermzZt4/PgxBoMBJpOJlWzVajVcXl5ea5xnidZ4PMZ4PAYAmxnCLAADcgbxi8XC1kdB4gN+PwcEgF2Hvyf+97w+CgHfopjPnuLIi77ZbGbT3d98802b10IhwfIprrtWq1m73e12i8lkYutllqtYLCYEyHA4tLKtw8PDhImdrZvT1yOEEEKIZ4sEiMgEigZvUmYNP/0Dq9XKukEdHx8jCAKUSiUzH/M4vvUqu1ydnp5iOp1itVqhXq/jM5/5DF566SV8/vOfN2/EaDSy8hsKAN85K12CxaDVG7RZesRsg8/a+CxIuusXj8fjeF/Cer22YYoUWRQb9XrdAmYKFgb03L2n34VibDabIQxD833QzE0BwAnoPhPjr8NnTvz1+GyOL0vis/RBe9pUzmvm8Znp6XQ6do+YBZlOp8jlcnj48CGm02miCYH3clA4MbPEUjBfupdu9zufz630qtFoJHxJPDbfz/uiDIgQQgjxbJEAEc8dv/NN0uU+AKw0ZrvdotVqWZDKIJvv5872er1GFEUIwxDz+dzEQqfTweHhIQ4PD9FqtRI78n7X3fs5mG1hGZEfVEd8Ry5ma7zHwV9buitW+nxAMoOQ7o4FXM1DuW5wHs/Dz3H9vIfpQX673S5RasTjXGcU94E+4bX6WS0AzLeRFpfeC+OfvQ/wKdqYsSiXy6jVaqhWqzg+PsZ4PDaPCdfqhZLPhlC4pbt98Se9ZmY+vJ/Ir8u3BeaQx9Vqhb29PXXFEkIIIT4iEiDiuXLdLjLLmigsKpUKWq2Wdaoaj8dWOrO/v2+dpICrIHK9XmMwGODk5MRmYbB069atWzg+Pka32wUARFGUqPunsKF44M67D57TQTQDUQbN/DxwtVvOa+VnGMSnu0f53/sp4BRX/ljMAq3Xa0ynUwuofQcx76Xwr3Nt6ZIq7/fwx0i3z/WBNsuueL94DE6gZ0aC4geAZYh8lsVPqGc7XgrKfD6Per2ORqOBl19+GYPBAHEcIwxDy2ZUq1UTBBQn/J2/BprMWf7H+8aSuVqtZjNkWHrGa4uiCFEUmXH+5OQE/X4fw+EQX/ziF83QL4QQQogPhwSIeK6wPMhnF9jliIE2g0AAaDQa1sFqNBphPp+j3W5bID2ZTCzw7Pf7GAwGmE6n2Gw2qNfr6PV6uHPnDnq9HoIgsCDXZxL8/A2emx2mACRmRHBo33a7xWKxSHTs8nMjvLHat5b1gTvLrmjc5j1gSRlLsHy5F4NkBu1sS1ypVOy+cr2+1W26JIzn5DVwIjmPwzV6seCnk3sfjhdZhUIBzWbT2ggPBgMzg3tTOo/LlsHED270088pHHjtXvD4+SZRFNk9YUaDGQ7eOz+pvtFoJDw+vrTMl4BdXFzYM6Lg8aJTCCGEEB8eCRDx3GEA78uUgGRZDtue8nXOivCBO3enR6MRJpMJhsOhlV4BsB3yTqdjxmWW5aRr/NNZAJ/N4O55eq0M0Pl53x7Yl1al27kSBs38jG+f67t8UVQwIPdZD/7bz/LwJWX+WtKlQizhuq4UjvfGiyl/HN+2N93ti7M78vk84ji27Ea6HCvd6csPYOQ1XPdduS4jRaHi30+BRFFJYUcxwxIv/9z8uTk9npPX2VaYotPfLyGEEEJ8eCRAxHPFB5U++5D2GbCrFQNaBuLpsqVcLof5fI7pdIo4ji27sV6vEQQBGo0Ger0earUacrkcZrOZlVet12s0Gg0LKH3GwHtBOC/ED/MDkMgAMFjnmhmg+6yDv0afWQBgM08AJHbWl8uleRuq1WqiKxjvDQNr36GLP1yDFyi8d144cJ28Bz4bdd3aKfL4Wf93ljAFQWBG8DiO7e++rTIzCY1Gw0rrlstl4p77LmFefHhh5A3+/lkwsxEEAZrNJur1OqrVqj0z3jcv+Cg+WHo1mUwsK0RxyBI3CRAhhBDioyMBIp476ZkZvsTIG6G5i83XWSLEQHu321kw3uv1rPNVFEXWapaD42azmZV/+TIp7mQz6OZOuPdplEqlhGHcd7zin778ikE7j8HsDfHm6XR2gqVdvh0tA2+WSTFopomewTWDYpakhWGYyHIsFgvzYKR9Et7n4DMENOAzE8T7430PvpSOz4edtni9XhjwfrHMLH1ffPaJ//b3gpkgX+LmhYg/Fr8fPsvhzffpxgH8joxGI1xeXprwuHXrFur1OlqtFna7nbU2lgFdCCGE+OhIgIjnCgNhmsBZQkTPgseX/fDfPiDltOxmswngyTC+KIoseL9u4CEAK1+iQPBGai8qfDaGO+4MeFkG5eeD+MwMzdj0agDJTAGzAL4jGDM86W5V8/kc+XweURSh0WjYOhkcz+dzVKtVWw+HEfrp8T575LtE+fd4UZe+9379XkD6e8KsA8WVD/LTos0f25/bD3L050iXl133bPiZ6zIh/nvjv0t+Lb472nQ6xXw+BwDLojFLw6GWuVwOg8HAMjZ3796VIBFCCCE+BBIg4rnCgHo2myVKppgp8J2ifBbEd3PyATV9HoVCAaPRKLGrD1zN3/DtWn1Gw7eoZXCe3iHnOX22goFtvV63gJ4BKwVIqVRKmMvTPhNfEsXrZ+coP5eD/gkOJARgU99pRPfdvHz2Jt3Jyw9/pBBMt9j1ws0H/F4EeIHmA32u27+P66IPJz1N3AvBdGYiPZE8fS99qRnX4rNo3pvjz+WHXPK6OJQxiiKMx2OsVitUq1Xs7e3ZkEJ+d/gd+d3f/V2cnZ1hPB7j9u3bEiBCCCHEh0ACRDxXttst5vM5Li8vbb4DvQ0UFAzw2bnpuiyGD4D5nna7jV6vZ8H3dDrFYDDAarVCr9ezUiwG5PRPMFAfj8fW+YhChC1v02ugyGBQygCXwojZHWZI/NBCft4PIuTn+HdeU7lcNgEyGo3QaDSw2Wws40EjfrPZNNHGz/IeMmhn9oRTxrlGlijx+fg2tMDT/g/eB29E91kEXw5VrVYtsPfH8FkqX4rFTmer1Srha+GASZbX+dI9L3qYaWHplS/x8t+r+XxuWTheexzH6Pf7mE6n2O12uHnzJnq9Hm7dumVeIWanKD47nQ6iKHqqzE4IIYQQ7x8JEPHMWa1WeOedd8xrwACQWRDuQjM7wd1tBogMEv2uN/EGZe5MNxoNG0bI2SClUgm1Wi0R6LMDFYDErjkDf4ohBtW+nS6Da9/Ol/4D7ydg0J02zvv3pYcK8rzcmfef4bVzfb5ki5kQ793gtTLT5E3czAz5Ll0+M8H7403tviuWx19vGp8d4b+9SGJgP5/Pzf/C7AQF1snJiZnBfakVj801sKWub7ub/u4wUwU8KV+jKInjGJPJBOv1Gq1WC4eHh+h2u6jX63bv00KMzz/dJU0IIYQQ7x/9V1Q8czabDd544w1ryUpxwYCTGQY/9A54MjCQ76nX6xboLRaLa0UKMyhBEKBer2M0GqHf7+Odd95BuVxGu922DlnMkviWtwwsfRkWgIQwYMBLQcNuVMvl0oTD+2kxDCQnn1NE+M5TvhQt7YXxQS8FEsuDfFkRjeDpbIq/Hl/i5g3fvl1ueo0UM+lr5L3ybYh5Li9A/A8N7nyW3i8ShiH6/T4ePHhgAsT7OXgNPD87gnFmiJ/9QaHjhyPyOazXa8xmM+uetre3h6OjIzSbTZTLZcRxnCjfIr4cTwghhBAfDv1XVDw3GISzVKrb7SZKmCqVinlE5vM53nrrLUynU4RhiP39fTQaDTQaDRMtDJS9pyEMQwskV6sVoijCl770JZydndl5Wf60Wq2sNKnT6aDZbCaGE3oxwMC2VqtZK9d6vW7tc/2kbHodeM08j89iMMCnAKAHwZvn+V5mMDgXhTv/lUoFq9XKulvxh9mEOI5tkjqHNnqDPUUCjfsUbxQk9IekjeC+FXLaP+LFkp9TwufM9/h2xcyClcvlxPN58OAB3nnnHZycnODBgwe2Hp+FYAkd/76/v58Qj36yOe8Vs3C+3e5yuUS5XMadO3dwcHCAl19+GdVqFbvdzn7vhSXvAz0212V+hBBCCPH+kAARzwUGaIVCAY1GA7VazbIR3gjuhQNbyQ4GA8znc7RaLbTbbQBXgTkA2/FngMmsCQDb9Y6iyKZ8ezHBwJWiwQeYNE8zi+Bf80Guzwj4QN1nVYjfeScsN+LvfYmPF1neN8JMB9c3n8/NiO7bCFOoAEhMSvcdpXxpWfpZeVN4uvQtnQHhtaRFiW+Py+OmTe/MegBPuplNp1N861vfwsnJCfr9/lPnYubBNw7odDpot9uJkj7ey/R0eHYKY4exRqOBo6Mj3Lx5E51Ox+4ZRQbvJ8sE/YwYvkcIIYQQHw4JEPHMSXcvoneCu/UsqfICZDabWZlWGIYIw9DMvgwOgaup3H7nnz/cgffroHnYiw4/gdvvZqe7JFGApNvuAnjK/+GHAKazAsRnEWhU9+f28y2Y9fDv8SKIgTSzNrwv/n1RFCXW4DtV+U5TFDw+W+I9FL5Ey2cjAFg2In29PuuRvie8p+z4NRqNcH5+jrfeeguj0cgyNLxnfj30fdTrdfR6PXQ6ncRa/NBLX/K2Wq2sJLDVaqHT6eDu3bvY29tDrVaz7BJFB38o3pgBYdcyCRAhhBDiwyMBIp4LLJ+hUJjNZhYss4QoLUAAmDigOZh+EJqwOW8DuCrBoljh7j4HFd64cQOvvvoq9vb2LChnl6X1eo3RaGQeg0ajYcHqdDp9qo1uelffC5jlcpnIwDAzwXMBSASwPmin0OB7mF1h5oVT4el3YLnZYDDAZrNBp9NBq9WyrM/FxQVKpRLa7Tba7Tam0ykAoFKpJMzrXDv9NOVy2abHe/+HD+K9KPMZFM4W4b3kc+T9uE5YzedzDIdD3L9/H+fn5+j3++j3+/bZMAwt68GsDz0/N2/exN7eHm7cuGGeHJ6fJVacJg/AhOx2u8Xx8TFu376Nw8NDHB0d2fOkgPVDGPn95DNmu15251IZlhBCCPHhkAARzwVfkrRcLhGGoc2lYDBP8RHHMcbjsU01pz+Bu/rz+TxRChPHMQCY8GB5DYNj7vIzqGapFQNUv6PPnXoalxlU+wGFaU+En0fBoJwBN0uXfNcnZoO8iPG76zy3n7LOrAszJfQk+GPzmoCr0qHhcIhWq2UtbdlZql6vW1DNY/E6Keh8poTr9QKEv/Pr8Fkh/9y8cON98VmMMAxxcXFhvh8KhvQARQpVZj4oIDqdDjqdjhnxWX5F1us1wjC0oYHMgDHr0Ww2nyrVoqDw99g/Y+/l8cMjhRBCCPHBkAARzw0GhAySOc/C72pzZ3k0GiEMQwukfVkNcGXkZjDKAJPig4E/g2ZfauU7RPHzwFWgTaHAgN/P1vCBs/dFUBz5YJzvY0bA+y387j/X6I3xFBS+gxTXwHt5XamY9zksl0tMp1PMZjO0Wi20Wq1EKRR/KOh4HC8uruO63/vAnPeXa/MeEp8p8X+P4xiDwQDn5+d2v/zEet9parvdolQqodFo4Pj4GAcHB2g2mzZPxs9V8eVq/rvHkq3j42PUajXLpF1XTuVFE0UIcOWR8c9CCCGEEB8cCRDxXEjPs2Dp0XA4tNkOnMxN3wczGz7w5i4/A0kG28yMAFdtank+HwxT7DCwZ+kMJ41TZCwWCxs0yNeZ2WAmIe3nYDZhuVwmWul6I7MPpP38DXZqYvC+WCxMYPE1tpYtFAp2/byeZrN57bVGUYQwDDGdTm1YIUUKS8N4371/xF+jb8PrBQGvL+0JocCh2AOuhGO6HTHL0haLhU0f9xkxADZUkGVR5XIZr7zyCo6Pj/Haa68lOn15oUdxy+NTnN68eRM3btzA/v4+er2eXVscx3ZvfLkc7yfvHXDVFe3o6MiM6D7jIoQQQoj3jwSIeC6kzd6+pIc78GEYmgeB5UjAVZkP8aU5HpbfAEiY3hlgMnjk8fxQO4oC7oBzt75cLqPVatk1MEvgS6d81yeWTHnjOn/HnX2uy5ukAdjnfFcwHqdQKCR2+L0xmvfEt+71pVqTyQSVSgWdTseyAqvVCtVqFZVKBd1u1ybE+1InXh/X4kuOKEK8AOE6fAcvdhDzRnV/nlwuh+l0itFoZB4cX2pGschJ6uVyGS+99BLu3buHbrdrYtGXwvkslm+1W6lUcHx8jKOjI7RaLVSrVROM/jnyu+on01NQ+nbHwJUQCYLgQ/4vQwghhBASIOK54Ae2+d1z4Kpb0Xw+TwgADwNLfo4iwpdG+ZIdX+4EwEQNj0tjsQ+4fQcof0zO+vDBtW9Z69fmu27xPN5XwY5dvksUhYYvgfKZDAbk5XLZMkBRFCWuJ+294Od5X2ezmXXKKhaLiQxKoVBImKz9cfzrFFReVKUzAxzuyDWlje68Zzz+ZrPBZDIxz09aaPL5zOdzBEGAVqtl2YtarZbwzlDUpQUUGyBUq1U0Gg1rQpDL5RDHcaJBQvrZ8rg8ni+Z87/XIEIhhBDiw6P/iopnDstxKpXKUxkQBnvekM3g1rfE9YEpA75CoWD1+z6DsVgsbLgdMwphGGI8HmM2m6HRaCCXy2GxWNjnuBtPkVSpVEwI1ev1p7It3oicNoL7cqD07xh0pw3bFCG8Pg7uazQaaLVaqFQqKBaLuLy8xHA4xMnJCcbjsR3LZ0Sm02lCKMzncxvo2Ov1EiKHgog7/FwLp5Kz7In3iM8nXZrl29OytIvP2ns//PXzHN/85jfx4MEDnJ+fo1qtolgsolarWdtgioobN27g6OgId+/eNc9GFEVW/uSFLUvLoijCdDpFt9u1OSGcCO9L+fjM+cxYAsfME03qu90Os9kMs9kMk8kE/X5fHbCEEEKIj4gEiHhu+M5ODEg508MHpQwCfdmPL5FpNBool8solUrW1cpnUzhLgqVDhUIBcRxb4M4glMKCn/c+E05lp9jx3gAvFHwmhudjaZcvAePxGeRuNptE6ZD/qVQq5vdg2RXFAoN87vxTGFGQpbNKDNTZlrfVapkwY+mRzxzxc7z3XgD6SeQ8lzfQM3CfzWZYrVbWWIDXyHIq3mPvjQmCAL1ez74rFBYcWrm3t4fj42O0221r28t7wPsPwIQUWz1vNhsEQYC9vT3zirADG58v188J6cCTTEcQBPYs6PPgkEv6ZvhdTmfshBBCCPH+kQARzw0G4RQh3CVnEOt3yYGryd3e4FsoFFCv11GtVhEEgQXoviyLQW8URYm2tLPZDOfn57hx4waazaYJC+DKJO9LxZgp4JquCzJ9QJ32ZTA49SKD5/RmcP97lmFRYPnMSXpgIIfgsXWvL9fyxmiuKY5jm7nCe+IzGSxX8sLDl72lr8+Xm/EamIHi7/118p74ciwAaDQaZi5nG+X5fG7Putfr4ebNm+j1egiCwLwl3ifkRQiFEP0n/J4AVyVZJF1uxdeCIECtVrOsD4UHGx0ATzw7jUYDcRwnXhdCCCHEB0MCRDwXfHBXLpctwGa5Dr0NbHNKczF3nVmiVC6Xrf6f5l/f1pbnajabOD09Ne/DYrHAaDTCm2++iSAIbH6E9334IN4PDvTGawbovowqXQLlxYL3BviSM2YR0n4Vdt7y98WbtjkTZLfbYTqdWucmf0/r9br5RABYe+PxeIxKpWKlZ8yMAFeZoziOTSTSFM/rZtDPDADvCd/LMiZmlbwoY6aC7+Wxa7UaPvvZz1q511tvvYXz83Psdjs0Gg3cuXPHSq94nyeTiXmFfJtl/p5rpGm9VquZYKM44vt9c4JKpYJqtYpqtYpWq2WZlouLC5yenlpJVqfTQbPZRLlcRrPZtO9N2v8jhBBCiPeHBIh4LnCA3Hw+t7IWBnveC1GpVGznmqZ0mpCBqzIuLzr8oD6+3u12UalU0O/38fjxY8sIzGYznJ6eolQq4fj42Izd3sjsy658qRQAOzdw1VqWn0nPj2DA7o3rDIB5rTRqszyLwbnP5FBkcVr7cDjEdDo1seMzIixtYokQd/MpLsIwRC6XQ6vVsvvF97Iky2c7fGvder2OIAjsnjB4Z7aBgx3r9ToAoFar2f31bYt533idzFCwNO727dvm4Wm322Y2pxD19z1t2Kewozil0ODEeN9IgEKXQxrpWVmtVnj8+DEmkwmiKEIURZYRYeaMWZxarYZ2u404jtWGVwghhPiQSICI5wLLcwCYh4NZDAAJU3Y6yPQ79ekOWn6ehDeUB0GATqeD7XaLwWBgZurdbmcZEU4E5zl9BoWBvT+PXyeDdB/8+s8DV12eGOgzc+HLybxoopne+yr8uefzOUajEabTqQkzmuUponw3Kgb8FBLMMnhvCdfrMzjpe5suTwJgHhW+n+fz3b1Wq9VT/hrfwpfZJIpKZhSCIEhMP8/lciaQ/Dq8+PDfM5Z50Q/iy+d8mRa/Kyx184MIaV7nGiuVis2E8WVoFCPexC+EEEKID4YEiHhucKd9b2/Pdryr1WrCSF0sFm03nYEkg1nCwNP7JtJ+hHK5jL29PRSLRVxcXJghOV1SxEAaQKLMyJdGUdh48zVwFeR7ceHbAFNI0ZBNKDh84OrbwPJ6GZxThI1GI5yenpoAaTQaCbFGbwPf783qi8UC5XLZWvEyoOa5uU4/A4UGbt/tivfa+3dqtdpTn83lcpjNZiaq2GyAz49tfeM4RhzHlgVpNBqWuaBxfrlcIgzDRHbKCyw+E5ZIUVRQlPlOV+wKxnXW63V7duPxOJFl8cKj2+3a94ADMlnu5oWqEEIIIT44EiDiucBWqkEQ4PDwEN1uF81mMzEwzrfipV+A5UkM1H2pEz0TQDKAz+fziOMY5XIZ7XYbr7/+OjabDS4vLzEYDDCbzTAcDvGtb30L2+0WnU4HnU7HAl9ma9Kmc+7E8+9+V993wEobkhngp43SLLfi7rtv50oxxvKpKIrw+PFj9Pt9ExG8BzyeN6iTtGnce1jY8pZTwFmmxnN7DwzLugjXkM/nTTSUy2UEQZAYvOhFIrNOzG74rl8UHKPRKCFyfCczXp+fE8N1+uwTRSRLxPjd8q2TvWfEH49dtiqVSqL7GFs7ez8Ou3pJgAghhBAfDQkQ8VzgzI52u/1UsM9AD7jKDrC0Jb2jnS5z8tkPb/JeLBYmErrdLg4ODszAHEURhsOhBf/T6RSz2cx2swEkhJAXDvRi8O+++1N6Ngivm8Gv91QAMI+GD3QZ4HLt3MEPw9ACYD98kP/2A/j8efhDAcRMRdos78vJeGxfCubX5YViOmPDsisKA/pcACTmj/B9Xlj4+81z++8P4T3nZ/3r/rp9CZu/F74Lm/8MmyL4Vstck5+Wzt/zuXkjuxBCCCE+OBIg4pmTy+UQBAEODg5weHiI4+PjRH0+gz2WSHkvR6lUMn/AdUGeFyQMoNmCd7vdolqtotPp4M6dOygWi+j3+7i8vMRsNrPOWM1mE91uF71eD/V6Hc1mE/v7+3as5XJpRne/a+6HE/qA2Zcr8Tp8eZI3dqdFAwN9eiSWyyVmsxmm0ymiKLLf8fxefPD43P1nIJ+eTwLAMh68t7wGb5in2OKP90twTgrXHIahlXqxwcDR0ZEZ63l/KNaWy6VduxcgHu/b8PeI95SfSQu79OeYfeHrtVrN7gOzVb79MYBEFoUZIp7XZ50oPnyJoBBCCCE+GBIg4pmTz+dtlsPx8TGq1WpiV91nMIIgSBiw2d0p3ZWJu+2sw2eQ670IHGbHtrutVgtBEOD//t//i36/j4cPH6JaraJWq6Fer1s5UafTwR/9o3/UMjUMSrlef36fFeAuuS/NYhDry4q8wAKeBMFhGCZmb8RxbLv4nN/BEiYvXrwIYvaA5V1+gCIDbZY7FYtFa9Prze8sZWPmwpeIzWYzyz7wOPwMp4Vzgnkcx3jjjTdM0PG581yTySThpeH6fRtkHpsZF5aEvVeJWboxgP+++JI5Cga+z18j/SF+Voh/VjTcF4tF+x5TpKYN8UIIIYR4f0iAiOeC7yLkJ2D7INoPI+TMD3Z7Aq66NXGnneZleg+4Y88AnbvYs9nMjnd8fIx79+6h0WigUqkgjuPE1GwOwTs9PbXPcBI2MzTEZ28AJLIFFAKcRs52r943QI/LarUyAcJ74n0FzBjQvwFclXbxvHz9ujIqvt8PXvTrTg/0Y6Duu2SxbIqwfIllSDSQHx4emnkcuBIIURSZSKTx32eMvDDjc2b2gh4gLz59qZsXsb6Ll1+7L+FKD0b0JXJcj/+T95J/ejM8hxMyQyKEEEKID44EiHim+B157sp7M3PaG+F9ARxq5/0YFAnMdHDnHYCJmc1mY8E9fR80dO/v7yOfz+Pw8BCtVgtvv/22iQ62qY2iCI8ePUK9Xke73bbZFwzU/fBBBvncBadQ4bWt12ube8LJ2gxgK5UK5vO5ZRd4fHaYYiaAQoo+CwblPC+vm6VMLPNKi4/0/fHPgOemAHqv3fy0t8SXk9VqNdy6dQulUsmGHV5cXJgIrNVqiSnvXqilBz/SqM6SLwoQ7zfxGSPvWfFiiuv02ZP0vfKvp9su8zh8zbf45aDCKIoQhmFCvAkhhBDi/SMBIp4pX//61/Huu+/iu7/7u58qrQGudvcZtHNuBrMFDFYZxMZxbP4Nlle1Wi3U63V0Oh0TCMvl0nwKi8UCl5eXKJVKaDab6HQ66PV6ePnll3Hnzh08fvwY77zzDgaDgQXu4/EY4/EY0+nUPAN+RocvF+K6fZaCHaZKpRJarVYikOY1VatVG7hXq9WsQ9dms0GtVjPRAsA+ywzLeDxGqVSyrIP31URRhPF4jNFohHfffddKxTj7Y7vdWkmWD6Z962AOjQzDENVqFfV6HQcHByYUuDaWp7F97cOHD63c6t69ewiCAP1+H48ePUIcx+bJ4X3zE9prtRpqtVrCNM6Mlp+/kh4kGMdxwvjvuc6k7gdZUtDyfOmyMB7DZ+V4zPV6jcFggNFohDAMn9H/YoQQQojvPCRAxDOF7VvjOLYBgL7jUboNKoUITcp+t3+73dq0bwbyy+USo9EIQRCg1+uZf4FCgEEld86jKDJje6lUwtHRkWUzOJOC2RWKI07s9vMwfCkTvSfMXHC+BNfIeRvAVcaHn/VtYrnz7w3jLHvypnDutN+6dQs3btwwIUUvw3w+R7/fx8XFBWq1Gi4vLxGGYcKE7rMh3sjP5+EzIBRl7XbbngmzSpw6PpvNLItEcbVarTCdTjGZTHB5eYn1eo1qtYooitDpdFCpVNBsNq3DGb8rXmz4e87yNRruuWauMV0yxYyFF7zeuH5dZzJ/jOvM8T6zxHKy/f39hDARQgghxAdDAkQ8c7bbLWazGcIwtF1u4OnyK28iZtDIUiXffciXKHEHPZ/P4+bNm2g2m+Y1YPDqBc98PrfAsVqtJgbMnZycWBkWcJXV8DNB/LTs9OwNn+FoNBqJeRoUF35OBcueKAR4PgbczOL4FsTcma/Varh37x5ef/11fO5zn8Pt27cta7Rer3F5eYnT01MUi0W8+eabePToEfr9vmVtKKrS3bwogHzATsFD3wwAnJ2dJbwsnFVCkRMEAVarFQaDAYbDIfr9PsIwRBAEiOMY+Xwe+/v7JkA4P4WlWxQ3/r4zA0XDuP+O8PkSrovvZ3mVb53L++zFjveG+HKqdOkZzxEEAY6OjnB0dPRs/scihBBCfAciASKeKRQZ4/EYFxcXAIDj4+NEMOl33ikGGARzQvZut8NoNMJwOEQcxxYgUticnJygUCjgu77ru3B4eIj9/X0LaNlxiQKBNfsAcPv2bZTLZdy5cwfT6RSnp6e4uLiwgXrpbIcPdilWWDLWaDRsx32xWFjJGEVUrVazoXZ+kN9qtcLl5SVGoxEWi0VisJ/P/sRxjGKxiP39fXz2s5/Fj/3Yj+HWrVu4efOmCTSWfe3v7+O1117Dd3/3d+NrX/sa3nzzTfz6r/86zs/PrdMTRQhFFvEtfgGY4KpUKlZO9ujRI4zHY5yenmI+n2MymZj4uLy8tCYAbCfMc/lnGEWRdShjKdRkMrFMCMXce81kAa6yEPl83p4FXycUWhQUvglC2swPPBEfLFdjCZ8/ry/BEkIIIcRHRwJEPFMqlQo6nQ5eeukl7O3todlsJobTeU+FDxJ92UyhUECr1bJAfjKZWHBMczuD14cPHyKOY9y8edMC+NVqZaVVwNVAPHZn2m63qFQquHnzZsLrwLX6jku+61J6UCJwlTVhQL5cLtFoNMzTkZ7OzfI072sBnt7Np//g8PAQd+7cwRe+8AXs7++jUChgOBwmdviZPWCm49atWygWixgMBvja176Gs7MzjEajRAmVzwiwMxdb0TKbwenywJMMDFsMT6dTy4DQjM9yMXYno+ABngiayWSCR48eWbvker1uIm6xWDw1Ud6XsXnSvo/3KsniswGuuoZ5c7lvOcwMmx/E6I+fzoQIIYQQ4qMhASKeKdw1v3PnDur1us2P8MPiiC9zAZAQJNVq1YJl7qqv12szQkdRhIuLC1xcXCCOY9TrdfR6PZRKJQRBYN2mgCfBM4/LkqxyuYxer4dms2mGaj8ALz2BnDvn3k/CblphGGI6ndpn/LUys+Nnh3DIIH/nA1s/Gb5er+Pu3bt45ZVX8Nprr6FWq5khncE618b2wXt7e1YO9rnPfc5280ejkb2fZVVehLDVMdfoWx8DsGv2QxGZuaAQ2e12dm4vjpjN4YC/9XptQyr39vbsO0HfijfQE19W5/FiwYuytLGd8F6zbIwd2LwPxXfnSrcAlggRQgghPjoSIOKZwnKWW7du2Y7ybDZLBObed8ByHwaY9AOwFIdZCZZXrVYr2zkvFosYjUa4vLzE5eUlPvOZz1g5Fkt8ZrMZlsullWMBV2ViPEe1WgXw9PwNll3xujjYkEH622+/jclkgvl8jjt37qDRaKBer2MymWAymVjQz/Iqtvs9OTnBdDq1oD5dPlQul9FsNnHv3j18//d/P46Pj3F0dIR+v4/hcIjLy8tEcMwuT2yN2263UavV8Oqrr6JUKuHmzZsAgIuLCyvH4rko7Jip4b/5bHgt7BLGzI0/hi/fGo1GCY+F98ksl0sMh0MMBgP0ej0cHx/jB37gB9BsNtHr9ezeUwilJ6cz+E8PJiS+exX9RcCTrJnPlJRKJcvUsSMbzfQUJsDVEELfflgIIYQQHx0JEPHMYakTg8b0DjQDOe6Os8zJT7imCKAY4S6/zzQEQWDTy8fjMfr9fmIGCYNXbyLnrjcA67BFYzNLjHx7Vj/jY7fbWbaEJVfFYhGdTgeNRsOyIv1+H8CTwLfVapkRn16Q8XicmLydz+dtYjg/1+l08Nprr+Ho6AhBEGA4HOLRo0cYjUYYjUaWtWCnKbb6rVQqmE6naDQalg25c+cOvud7vgdf//rXcXl5ieFwaGLOm+79dPAoihBFkWWwGJxTcPB5sHSKnhHiRYh//syGhWGIBw8eoNVq4aWXXsLR0RE6nQ4mk0kiq8Lr4jG5Bh7Lf5+8AEl7R/xngiBAEATY7XaYTqeWFWu32wkx5w386esQQgghxIdHAkQ8U7hbzKxDetfY7yT7oXD8nW9Vy9dpOs7n8xbEA7CgnW14Wd40mUzQ6/XMLO5LqrypnDv3vguX31Hn9fiyHrYXHg6HVjJG8cFsTxRFFrhyIryfUcKAnYE8cBWw5/N5m51x+/ZtNJtNbDYbjEYj9Pt9TKdThGFoAoQ/7J5FPwW7S3U6HXQ6HbzyyivmpWHQzevn/aZ/hpPNOWyPIiQ9fdx7Ybxo4/X40jp+ltfJ8q5Hjx6hVquh0Wig2+1aa9/VamWlXOlBiX42iC/vo2i4bh18jSV6nDUzHo/NHM/Bif55s+yM91sIIYQQHx0JEPFMKZfLqNVqlmmgSZklPqvVKtFdKj3dmgLG+wx8i1QaqAEgjmMTJ+12G+PxGIvFAvfv38disbAhhPRO8HO+0xWhl4LBLgNh7owHQYBisYiTkxNrNVuv123aeb/ft6C9Uqmg2+3i+PgY7XbbSnkmk4mZ4yl2mEHw80Ru3bqFe/fu4dVXXzV/yePHjzEajbBcLhNzUbypn8KGBnJ2Get2u/jMZz5jrXBzuRzu37+P3W6XKFGjSFoul9bCt9vtot1u48aNG6jValgul9b1CoC1RuZwP+KzWRSafK7892azwbvvvmvG9O///u9HqVRCvV7HbDazZ+8bAny71rkUpBSDFA2z2czECkv3NpsNLi4ucP/+fURRhF6vh3q9njCke1HI9s/8nRBCCCE+PBIg4pniMxwM3oCrEiZfz+9N3r60BoCVv9AH4DsRMUikcZzvq1QqWCwWVuIURZF1YuJ5fFcrig0Gw1w3A3n6Pur1OgDg8vISDx48sEF/vn0uS4YA4KWXXkKr1bKgll2vOEV7NpslZp0wgPeZj8PDQ+x2OzPa07/hO2rxPtCT4WdosE0tS6xarRaOjo6w2+1weXmJ8/Nzu09+x5/igP4PGs0LhUJiwKQvVbuuVa4vqeMz43OnCOUzHAwGAICjoyN0u13LWlFcpLMfxGen+G+ek1kven38z2w2w3Q6xYMHDzAYDLBarVAul627GEWK/15MJhMMBgMcHh4mRI8QQgghPjgSIOKZwrkXcRxbJysGt+kp1cBVQOmnc7+X2TctbPyxmUFIl1xxNgXx3Y686PGTtpkRYAkXswunp6c4Pz/HYDCwIJwCaT6fmwGfZVfVatXmkCyXS8s2rNdr8xVwjTx/s9lEu91GvV5PmMBns1lChHkPCY3U6QwES7GY+anX6+h0Ouh2u7aT7wfzpbNQLHWjF4PigX4IHtef2z9PX1p3XakdhUMcxxgOhzaPhSVS/jvhvwPeFM7vlH+vL6ujf4UZo81mgzAMMRgMMBgMzAfE58NjMRvEcrDJZILpdGqtkIUQQgjx4ZEAEc+U2WyG8/NzvPvuuzg4OECr1TKTNINtGsyBpCDwgSbf64N8CgbvWwCugl4KnlqtZiU8NKADVyU7PB6DV04h53sXiwW63a5lPh48eICTkxN85StfscF+vFYfuNfrdVSrVbTbbdtFZyYmDEP7HMuXfBkYuzOxg1Uul8NwOMRwOLS5GxzQyInjvH8s4eLwQ76H2SB21SqVSqjVauh0OiZAmGlg5sMPQmTwHYYhxuOxtUDmOtbrtQ145Fro22Dwz2fFAY3+vvOZUBS8++679l1pNpvmUWGHKgD2rPyz5zH998eXY3Ed6/UaZ2dnuH//Pi4vLzEejy17ttvtrL0x7yeFCb1Fo9EIL7/88kf+34gQQgjxnY4EiHimcFr4ZDJBu922gN6XOgGwYDQ9AyOdoUhnOnxtvy+nojjhZ6vVqgW/3o8AXO2SMwD35WCFQgG9Xg+1Wg35fB4PHjzAN77xDZyenlqXLQoI36K33W6j2+3i1q1bZoCfTCa4f/8+Li4ucHZ2hsvLS8t+MCje7XaWaeHclOVyaYJlsVgk2snS49Hv9zGbzcx7wcxGr9czMbdYLBCGIYIgMAFDszc7d/GYFHbXTQoHYFkcrpWlW+kZL/6z/D3nofj3MbjnM93tdjg/P7d7f3R0ZAIo3enKz+uggOR9YLYDgM0fYVevOI4RhiFKpRKOj49x+/Zt+46wVTT9P5xXwvvfaDRswKMQQgghPhr6r6l4pjQaDQuCGYAyUE+XXnH3O91pyosKBpkMFH33Jn8cH3TSa5IeSHddSQ8/A1zNIKH4oOH68vISo9HIgmEew+/CM7hvNpvWLWu9XuP8/Bzn5+cJD0fagM/10xNC83scx9Yul+cBnmROuCM/nU7tOqvVaqKzFgArh2PJFgWEb2/ry5rS5UU+O+XbFHsR57uZ8f1pfw/xvpH0M5nNZlbqxECfHbN8xoTHYxtndu3iRHaW4/lyNa49n89bdioIAusa5q/NZ3/8dPt2u/2Hfv+FEEII8YcjASKeKa+88gpeeuklnJ6eWltTXzKTDkbfy2BM8cGORnEcI45jTKdTC1zZmapUKqFarVoJ1WazseCaLVR5fO8NYMtfZhiq1ar9jEYjDAYDPHjwAKPRyEqI2EGLn2Eg2263zbvB4YTT6RQPHz7EcDi014jPBnDXnsdnMD2dTjGdTrFYLOx+cZp4v983YcSyJZae1et1EzTMgsxmM3S7XWstS2HH7AfvDcUdfRq+PMtPTPfZqbQg4XP0GR4/Yd4b3r0vaD6f25wTAJYponhipy6fRWP2gwMa+R2gWGQnr1arZSKC3xvgSRkdsyTMdnivDb0wasErhBBCPDskQMQzh/Mw5vO5ZRPSLXYBJHbMfWkLgz7ubvtuV51OJ+Hh8J4C32mLx/EDDRl4MkD2/hDO8sjlcnj06BEePnyI09NTPHz4EFEUJVrnArBBdpwr0Ww2UavVUCgU0O/3zejc7/cta+PxmR9+vtFoIJ/PI45jADB/RaVSsXbD6/Uas9kMwJVI4+DH8XiM4XAIADZBfrVaYTqd4uzsDI1Gw0zybJWcnrviZ6N4UcGSKnp50mVRPnOQzjwxo5POjvA7AFxlgSi8VquVlYjFcWzH98+W5vhut4tms4mbN2+ayOE56QliQwA//NJPQeca+L3g945DEykChRBCCPHRkQARzwWWDjFwBZDYGeeffhAfABMQ/jPctWcg7j0hfI/vfpTOsjBQ52e958NnIGiWfvz4MU5OTnB5eWnegvTQRJ6Dpnb+e7VaIYoiTCYTG3LHEp90yRHXQGM3Td6cgcKdf96D2WyG0WiEy8tLE1beNM7gnYMPgyCwZzCZTBCGod0LChEvDChGuD5fbub/9A0DvIj015buqOVJd+si3s/BUjKfPeH99s0I+BozQF7k8pp8y2OKyPQ1+TWmn9H+/j6azWb6Ky6EEEKID4kEiHjm7HY78y9wDgMDyOuCUQbQLOvxpT0MJtnlybdn9QPqmM1gJycfQPuWusViMRHc0/dRLBZxcXGB8/NzvPHGGxgMBtblynetSk/l9vNEaB4fj8cYj8fm0eBOeroDFNfIrk+tVsuG/fnJ2zz2yckJzs7O8ODBA0wmE1sP1zefz9Hv923eBc3wm83G1lMoFNDtdtFoNKzblvfr+HX5Dlm833xe1xnD000FeCw+I+/z8efwr3EmCieh06/CDAS7Wvk5Hzw3Mzpcq2/1y7X7EjP/HSJpMQUA3/M934MgCN7//wCEEEII8W2RABHPnN1uh+l0itlshsViYcEbxQH/vl6vzeORNqIDsKwFhQX9B2n/AJCcuO1N7D6YZFmOLwPjcWazmQ0avLi4SAgUBtG+PIllXQyI2XVqsVjg5OQE0+kUYRgmDPF+V57eFHowgiBAq9VCu902w7vv7rVarVCpVHB8fIxOp4PhcIjHjx/j4cOHyOVyaLVaODg4sNbB0+kUcRwnhh2ydS8nuPup4NdNpvfPwmeA0iIj/ez9/b3udz7LRYHjsxrsokaBxWuiWKO/x3tT6J3x56A4o/DkOej3iKII0+k0USLnzfTdbhdHR0eoVCof8H8BQgghhPh2SICIZw4zILPZDLPZzDpDMZvgS33SZTvX+QO898Kbo9Pig0F0uVw24cDMiPcp+AwIj89gdDKZJLwhXnCkO19xXRQeXBvLzyg40iVoABLrB64yMQySfQDPc7K0qtlsWptflh+1220cHx+jXq/bWsIwRL1eN9EXx7H5Wcrlsg398925vEnfXyNJl9GlS7XSpVletKQzP3xePgNDT0YURSYK/H2hV4Tn8W2U+Yx4f/md8IKJxnuKnDAM7bvAc3gRq8yHEEII8eyRABHPnHRAf3BwYLX8NAEzCPTG5LTgYBmS9xykvQXeb0Bhwi5Qfrfbd3lii1XOsNhut7be6XT6lCmba0qXXlHgzGYzm7dRqVQss5H2i7yXAPGZAHo5OOfEt7PlhHAOETw7O7Phgvv7+7h16xY6nQ4uLi4wHo8xmUzM78G2vqVSCfP53D5Xq9UwHA4TgtCXwPkmAP7e856k/52+Tv8674W/v/6Z0gPC4Yf0zfBecV3lcjlx/HRTAxrPffbGZ3ToM+n3+2Zw90Ij/dyE+E4jl8slMn8sj/x22U8hhPggSICI58Ju96StKjs2UTDQUE4vh/cH+IDclyf5UiDCsiQ/w4PG6729PdTrdWw2G5sr4bMT3H1n16rtdovBYIDLy0v0+30zzqeFEfB05oJi6+TkxM7PKezA1Q59umUtA3t6F2gKZ5tdmt9ns5ndB+DKsJ7P523qOr0P/CzvJ8UMjdjb7RaLxcLa3FarVRwcHODk5OSpa/aZBe+D4Ws+W+LLrnxTgbTw8AI0bVr3x/DzXnjPeS+9gFwsFgmB6J+Jz3DxfgFI+HQGg4G9j+VeXNNisVDplfiO5fu///vxy7/8y4nX/syf+TP4yle+8oJWJIT4tCEBIp4LDIjpZfADBX05FgPIdItVPxDP72Tz316U+LIbdkNqNBoW0Pphfr5zEgP+xWKByWSC2Wz21C4f1+vXkS4hAmBdqRgk+8+lr4PHZQCf7qLlxUnaJJ0uB/Pmbz853GdK6FfhoL3ZbGbnY/th/i69Zr/e9HWkM1HpEiz+mTZ2X3eOdLYHeCIqOQvEl2cxQ8T3+HvD8/pSPQqJzWaD4XCIfr9vrZKBq+8qvTidTgfr9VoCRHzHUiqVcPPmzcRrP/VTP4X/+l//61PCRAghPgwSIOK54MuJ2OqWGQgGoyyTIgw8r+umlD52elee/2aGoF6v245/uVy2rAPLdSqVCsrlsmUNRqOR+SMocHhsri3d/cm/zmOn2w77YDudOeFrvkWsn8qdFmHpDIXPjLBszQ/tC4Lgqc5gABBFkRm5OWuDAuq9uM5fkfZepAUA151uBuDvgb/PfjYKvx98dsVi0e4N53dQfPkMCe8NBQjbN3Mi/NnZGc7PzzEYDBCGoXVXoxCmAPHZECEE8Lf/9t/GjRs3JECEEM8ECRDxzGFguFwuEccxwjBMzGLwmQOagt/LN0H8jj/f4yec++MygE8bpRkoc3J6uVy2Eq3hcIjZbIbVapUwOftuWumA2f/JgDXdicsH5GkxQzh/JAxD862s12sLjn0LWV7LYrGwuSCcH9JsNlEqlWyQIbMizB7wWth9rFwuY39/H61Wy0qzfFvidDbBiwzfxYrv8eVy/trTIsP7ObxQSZfk8VwUFOkMjTfL+7kuLMej7+jy8tJaGL/55ps2WNAb6vldmk6nePDgAf7YH/tjmv0hhBBCPCckQMQzp1Ao4I/8kT9iAeLl5SXW67VNRaeZmpOpuYudFg0kXWp13c40hQxr/Ekcxwlh4z0jAKz8it2vfKbBB6hpAZJej/c+MMj2oildMubLp/xcCx9I872+tMsPPvSD+tJ+Fb/etAmb5y8UCmg0Gmi32wjDEJPJJLHG9PR2f1zvDUmLAC8mPF7ApE3ovGbvl+ExKE6ZvfLtkMvlsl2Xn+3BjMd6vcbJyQlOT09xfn6OMAwtS+UFEQA7h/8eCiGEEOLZIwEinjmlUgmvv/46gCcB/htvvIHFYoF6vY56vW7Bpx+ilzZ9pw3MQHJqtd8R9yU4i8XCMgm5XM5Ki7yw8eVb7LjE7EdagFznbUgLIJ99uS645o8frkgB4EuIuE5fesUgmYExz8Odfs7F8NkDf14//NBfE89Tq9XQ6XQwHo/R7/cTAsSLoXT52HXPx9+v9D3xpO8RP8uyPV6b9wT58jYKtbSvxJeErVYrzOdzxHGM+/fv4/z8HOPxGIvFItHWl98blr/Rf/PtSgCF+LSzWq1wenr61OtsYCGEEB8VCRDxXFkul3jrrbdwdHSEXq9nvgsa1H1g7w3i6SF4Prj2Hggf5HLHfjweI4oiC0q9V4T/rtfriKLIBhDSfM6Anef37Wl9F6v3et2XK/nddb6Xu/uc7s5J377Eiv/2gsxnjtjKlgLCd8Ly80T8+q8TNbnck9a+d+7cwWazwWg0sunv75VVAXBteVZaYPlzpjM/XhT6BgUkn8+j2WzawESulZ4iXjvbCzPrNRqNbCbLaDRCHMeI4xjj8di+G5yLwmdELwyPzT8lQMR3Ml/60pdw7969p16/bsCoEEJ8GCRAxHOFgfPe3h6Ojo5weHiYCJAZ4Podbp/V4DGA5CR1v+MNIJFF4E52uvRpu92iVCohCAI0Gg3zWrA1b9pLkp5N4oNS+hfSQToFTtoj4nf9+RmWLzEI9jv76Xa/POd1Hhq+xpI2f994j5bLpb2X09vJ/v6+Be337983Yeh9H9e1Q/bXls/nTThxXdeZ9v3zvK6UjqbxdrttXhyu57pSNnp4+v0+BoOBDZmcz+fXmvnTAx95HH5n0qJRiO9EttutecmEEOJ5IAEiniuct9HtdrG3t4dOp/OUJ8OXJTGY9cPl0iVEwNPBazoT4r0EfpebAqRWqwGA+UauM0x7wcDXeG5vhk/7BdKGbY//DEvBfLvczWZjWY73wgfiaa8HhVH6vBRkvi0tj9Vut7FYLHDjxg1cXl4iiiIsFotr56/4607fJy+8vPhIt9dNl2z5+1IsFhEEgU17TwsQv57t9mqA5Hg8xnQ6tewafRwUer5JAP/umx9wOjwFnIYQCiGEEM8PCRDxXMnlcmg0GjZoj6/lcjmUy2ULxH3QDsCGDLJjE3f/gasSLE+pVDJh42eLALDWtNvtFq1WC41GA5VKxXbK5/M5gKvSJC8ofCDK3XHvIfHBv/cg8Dp9WZL//GazQaVSQbPZRK/XQ7VaRaFQsLX44JzH8V2/Wq0W2u02BoMB4jhOzP/g9Hff1pb3muvgetfrNVqtFm7evIlarYYwDPH48WOcnp6a56RUKlk75esEjr+2tMfmvUrR0mKC96hcLqPRaGB/f986gHFauc+MMXMFALVaDcfHxzg4OMByucRiscB8PjeBQYHJ+8DPj8djy5TM53P88A//MPb29myNQgghhHg+SICI50p6t57/5u98N6J0wM3AnsKF5uJ0KdN1LW79zroPgOktKJfLiOMYs9nMpof7LEJ65z5tSPdG5XSmw78vnUnxf/eTzIGrEiyel8P22DKXgTjLijjrg/eGAfdsNrNp38CT6ek3b95MtOFNi4AgCHB4eGh133Eco9/vA0BigjnXxKxUOoPxh811Sb/Pt+vldVWrVRNk6e+Sz7Rw8CTPQWHl1wk8mfniu4Gt12vM53Nst1u88sorqNfr2Gw2aLVaynwIIYQQGSABIp4r6SA8XXtP/C46cJV5oBDxXpG0OR1AotbfB7VAcse9VqshCALkcjnLfnAnne/18ymYoeHvriur8teaFir+HvjgtlAooF6v2yRynitttvdr8h2gWC7ETA5LySiqxuMxhsMhttsn072ZZfHn4Xq8If74+BhRFGE4HGI0Gj313N6rM1a6TM0f/7oSNu8r4e9YIlev102AeE9MoVDAYrEwQcPvBkvW/Pu4Roo0+m02mw2iKLLvSK/Xs6yHEEIIIbJBAkQ8V7bbrXWlWi6X1gWLAbM3Gvusgs9IsNzKt6n1syLSBnb/eXoeGEA3m01UKhXsdjuMx2OEYYj5fP6Uv8QfJ+0PSRvB09kSL5j4fl8+xBKlXq+Hg4MDm8TN6/TX6wc0eh8HTd+c+L5arTAejzEYDKybVRRFiOPYun4dHR2hWq2iWCwmyrNoNi2Xy3j11Vftfl1cXGA6nWKxWKBWq5l5m8/K3wuf3UpnO3jNfM2/x2excrkcer0ebty4gW63i1wuh9VqZVkeX6Lmz+3nhFDI8rvGzA5LwsIwtJKsdLmdEEIIIbJBAkQ8VzabDcbjMc7OzlAoFGxat9+lzuVyNpiQgayf+g3gKTM5jcPevJwWENd1tWLAy/ass9nMOkQBTw/g82VA6R3/dNnVexm0r5vW3el0sL+/j729PVSrVRuYSPO0F088Fkn7TWazWaJsjNPP9/f37bgsNWPWxGecfJan0+lgb28Pn/nMZ3B5eYkHDx6YH4TX7f02Xmz4sqd0edZ7ZaT8ddRqNRweHuL27dtoNBqW2SmXyzajxa+bHdbSXpH5fG5eEnp++Px5n1arlZXeCSHEp42bN2/iX/2rf4V/8k/+CX7rt37rRS9HiKeQABHPlUKhYF2WRqMRoihCu91OlBV5oZD2hXjSO+zewJ42NXtB4Uu+GMRyUjbN2r7tbbprE/G79v61dEnZdeVXvjQrn8+j3W6j1WqhXq8nypu8pyXddtcH8X4a+Gq1sq5VFEws8WLZEa/LZwl8ZymautkNam9vD3fv3rVswnA4tM+mBVDa1+HN6GkPjP+dP85ut0O9Xke320Wv10OxWDQTvG9AkBYyFKVpb0ylUkGtVkOz2US1WrXrYMZstVpZowMhhPi0UavV8GM/9mP4N//m37zopQhxLRIg4rlSq9XwIz/yI/i93/s9XFxcYDKZoN1uo1wuW+DPoNyX4/jORcCVmZwlW0DSrJ4WEAzQF4vFU+VBnH7ODAg7baWFRdrr4Wdh+LX6oYTpz3PXPd0h6saNG+j1emg0GlgsFlgul1itVk8JrEqlYqVEvsNTFEWWFeBufi6XQ71etwwTzdy8Zpaz+bkn6TK20Whk3pTv/d7vNUHw+7//+xgOh5jNZol74IWMv25fauVL0SiIeG4/c+T4+Bi3bt3CjRs3EiKFpnOfDeO5/PeAP8Vi0dbNUi7OfFmv14iiCGEYYrFYSIAIIYQQLwAJEJEp7FxEIZEuxQKeBJa+cxFbqa5WK0RRlAhwKUAYpFJ8UIDQyOwH0FGAzGYza9d6nV+Ba/GvU0gw+OcuvJ9j4oNlDgdkloMzUV555RXb6R8Oh5jP59jtdqhWqyY02IWqVquZibxYLNq943X3+/2nsj9+0jeN2hQr6Q5YAGweCaeBs4xpf3/fWijfv38fJycnODs7s+tldyw+y7QXxpdZMUvhZ53wGdVqNdy7dw+3b99Gr9dDFEV2nFqthtlsZjNcvOjxRnZ2N2u1WgCedL+iwGIr4clkgn6/j/l8jh/5kR9Bu91+Rt9sIYT4+PFzP/dz+HN/7s/hr//1v/6ilyJEAgkQkQnfzgPgvRv+TwoQBrnp3WpmE7jz/V7dqfheHxCv12srwUm3jk13bbqu9IotX7/dVG9eA4+Rz+etzKjVatlsD++vAGBzKabTKTabjRmvu91uYpefAbjPCvFczMxQeFCQ+KCd74vjGEEQ2CRzmsx5f5vNJm7dumUlb5PJxGaPpLMc/j6mnztFSPr5069xdHSEVquFUqlkx07jRU66oxrFWbVaTTxTf8/YKWy9XmN/f/89n5sQQnxS+fznP48/+Sf/JHK5HF5//XXMZrMXvSQhnkICRGRC2i/gS67SAazPMHD3npkEdjMCkNgJ9x2mfOCazqz4Mi3fOcmXSjHI9Wv2oijt+/Dn9mVJfD/PxXa4t2/fRqvVwmKxwGKxwHq9tutar9eYTqe2U79arVAsFjGZTLBardBsNtFsNlGr1cyz4WdgeP8M/RzpORy+hIxZpfV6bZkpPyE8CAIEQYC7d++iXq+j0+lgMBjg7Ows0ZXL+zz8M08/f7YF9sKM5vO7d++i0+mgWCwiiiK7JyxR89foy8d8qRtL1jabjXl82DGMzzvdelkIIT5N/MzP/Ax+6qd+6qmMvBAfJyRARCbM53OMRiOcnZ3h8PDQfAr0euTzeYRhiOl0aq1kuQPfaDRsB3t/fx+tVsvmeTCo9G14fZet67pSeTO2D2TT70sH1D4T4oUNj+OzJ346Oj+3t7eHmzdv4saNGxb4LxYLBEFgMy7Ozs7w4MEDhGGY6MYVhiG2263NrGi1WgmPhG/N6/0v1Wr1qWtItzWOosjK1FqtFsrlsn1utVphNBrZPI2XXnoJn/3sZwHAZmowG8OJ8++VDeFaK5WKZXkajQZeeeUVfO5zn8O9e/fM6+IHCg6HQ2sH7D033nTPa/GDEim+arUaptMp4ji2rJIGDgohPs3cv38fP/7jP47dbmet1oX4OCEBIjKBJU+TyQTT6RTVahW1Wi3hGeCuPXe7GVj733E2BY3ZvhNUEAQmPrwg8BPO/c5/eqhe2kjNdZHrXr+uhOe6EjMG9xyy583XvjRoNBrZbBKuzQuFIAgQRREajYYd13tC2BXKdxDzpnZ2vCJ+GCF9H7xOtu/l4L7Dw0MrlTo9PbVSLH+fvRjzWSI+g/SMlIODA9y+fRsvvfQS6vW6lcfRq0OhslqtTGx6AfJefh1/Ts4PCcMQrVYLt27det/fWyGE+KRQrVbxEz/xE/iu7/ouLJdLvPHGG091kxTi44IEiMiM1WqFfr+P0WiUmN/gA38GjJ1OB5VKBdVqFeVy2ToX3b9/34zS6QnXzI7s7e09NXW8VColBhKy9Mm3u30vAeIzHWm/SBovTGigp3m61+uh2Wya4GC2Jv//2ru3GLnPs47jv52d+c9/jjuzM7vrXcdnx2kTJaURIJJSURFAKgoSIC6gEggqQAEJwRUVolwgVFB7AzeIC6SAuIIgmpuqitSoiqqUAkKlEqhUdtImXnt3vYfZOZ9nhwvref3OeNOWxnm9dr4fKbKzh9n/jN3m/5vnfZ4nkVCn01GtVtPe3p6b2ORXUKxXo9PpqNVqqVKpuCNHcRy7r0+n0zOBzb9hn2+2t/BjocVCj21Zt9HJjUbDfTyfz2tjY0O3bt1Su91WrVZzz9nfmTK/4dwfKWyVkiiKdPHiRV25ckWPPvqo4jh2e1n8KokdEfOfk/96z/852Ovmb0VvNpuq1Wo6e/aszp07993/ogLAA6hUKunFF19UKpXS1atX7/flAN8VAQRB2HGYw8NDbW5uajweK45jd4Nq1ZGjoyPlcjlVKhVls1lls1l3fn80GunGjRva399XvV53zcT+lCe/6mDvwtvYV5siZTfzFmTse3x+z4SFE/+mer7Jev4m2J7XcDhUHMfK5/NaX193R5yazaak25Whw8ND1Wo1N+mpVCq5CoTfh5LNZpXJZFzFw5/2ZfzjRfarVTz85YF+476FFHtMey4WPqxyYI3nS0tL2tjY0HA41K1bt9RsNjWZTJTNZt1r6v98O3Zlu0aGw6Gq1arOnTunH//xH9eFCxdUrVbdSOTpdKrBYOCqL/NLD+3Imh398oOJXwGzwNPpdHRwcKD9/X23lBAAHlaf/vSn9Q//8A9UP3CiEUAQxKlTp5TJZCTdfqd9b29P1WrVhYt+v69ms6mFhYWZTd12Q2o3xdakvLS05HoXpNvjbovFovte/8bdvt9fWjd/c39cqJCOP57lOy68zPeDpFIp5XI5ZbNZN7LXKjCDwUCNRkPT6dQFFf94mN1YHx0duWNrdvTMdnrYdfrX6k+98gOZ8Y9KWdO9hSb7Xr/J37/uQqGgYrGoarWqUqnkKhTzr4N/FM5/rEqlorNnz+rKlSva2NhQLpeTNBuQrIHcAo2FLX93jO1JsSqYfe9gMHA9IAsLC2q1Wmq1Wmq32z/Q310AOKmiKNKv//qvK51Oq1gsutHsW1tb9/vSgO+KAIIgzp8/737/7//+79rZ2VGlUnE7G9rttur1uhKJhLLZrGuas3dw7B37QqGgUqmkhYWFmRtUq4DYDgsLF/5Nt/81/ibx+aZz//d+w/n8u0n+Tb6xf/fDQBRFbiu3Hcvq9XrqdrsueFljfbFYdA3n1rtgN9/+kTSrrtjrZK+PH37mw9H8x/xqiCQ3ecy+1o6u2SQsqxxNJhPl83mtrq5qZWVF+/v7bo+JzyoUklxQiqJIZ86c0Qc+8AE9+eSTWltbc8ey/ONm1gdjYcxeg+l06o5w+ZOv4jh2PSPdbtdVQmzPSrPZdDtkGL0L4EFng0KWlpb0p3/6p+6/pcPhcKbPDzipCCAIrtPpqNFo6Nq1azp16pSrgkh3juvYzaO9iz0YDNTr9dTr9dy4WD8g2Lvjk8nETVGy/oY4jl3lwD9y5Pd92DEtf3qVNNtjYD/Hfu/fcPtTt+ydfJvAVCqVXAO3hQ+7Xul2VWd5ednt4rCjS3Ecu/G7/tGqbrerZrOpfr+vfr/vQlsqlVIURe467HnNjyq26/d7Y/wt4fY99lhRFLnpWt1uV61WS6VSSUtLS+5jb731lprN5sxrao32FhSWl5d19uxZffSjH9W5c+fcMS5bMukftbNKRxRFbrKVX62xoLG7u6tMJqPl5WWtrq66527HyabTqTY3N1WpVHT69GmmXwF44MVxrP/8z//U6uqqWq2WnnnmmZkKL9VePAgIILgvxuOxarWaCwiLi4vu3f18Pu8mWtlNZzKZdDfsdpNv1Qz7x44qSbM32P6YWv/z88eW5ic5+fs+/Bt4u6F/p4Z0v2ndbvCtd8Oeg98s7t9YWyVhfsSvHR8bjUYujNkeEQsI/vXbWN35KtD88TD/nTKrrPjf77+OFvysgT6bzer8+fO6ePGiJpOJ3nrrrZnKklV/0um01tbWtLGxoUuXLunSpUsqFAqSbocpm3rmh0N/x4dflVlYWHAVmTiOtbOzo16vp93dXWWzWeVyOS0tLc30FR0cHKharbrXEABOgp//+Z/XU089JUn6x3/8x++rcfzpp5/WL/zCL+js2bP6xje+oS9+8Yva3t5mtxEeOAQQBGfn9geDgQ4PDxXH8Ux/Qz6fVyaTmQkJdsTIbo79Bmu/p8N/t9/Ch9+YLGkm1PgTsPxf5ysI/kQlc1yVxJrW/Xf+ba+G3dBbn4uNvPX7XWxqlk32sufkb4O3Lem2iHA8Hrs+Cv+IlY3ptWqAP41KurOZ3IKShRh/3K29Hn4AscpGFEU6d+6crly5IklqtVrqdDrumpLJpDKZjKrVqp544gmdPXtWly9f1vr6unsenU7n2H6c+eNt/mtv4TSVSrlG+UajoXK5rDiOVSgUNJlM3MS1Wq1G8zmAE+cXf/EX9au/+quSpGvXrrnx5u+kVCrpJ37iJ/TpT39akvT666/rL/7iL4JcK3CvEUAQ3I/92I+56sFXvvIVHRwcKJ/Pq1KpuJtW24LtVyPmx6tawLB3u/2xun64sJvV+WNZFoTsH79K4h/VsZt0/wberzb4PRXS7V4TCxO2rySbzc6M1Y3j2FVR7Kbd329hocH+PZlMqt1uu1G8VgmxfgirItj5X2vQtteu3++7KlIikTg2ZEynU/eaWq+F9V/4e0aGw6Frol9ZWdGzzz6ry5cv68yZM9rb23NVjUKhoEqlonPnzumDH/ygisWiMpmMDg4O3FEu/zXudDqS7gQ6e03suiyUjUYjd+zs4sWLOjg40PXr1/Xmm2+qXq+r2Wwqn89rc3NT3/72t7Wzs6Nqtfpe/pUGgHflxRdf1L/+67/queeeO/bzi4uL+spXvuLe8AEedAQQBDdfTZhMJm7Eq908+8HD783wj2H5/0izG7f9aoeFDnsX3z+yJOmuqoo/cnf+6Jd/bMv/mf679f7ns9ms8vm8stmse752pGp+sZ4/Otiuy6+u+Mej/J/jVw7sWqyqYq+zP5rWPuePGJ5Op+7G3gKcH8Ls936jun18eXlZ+XxepVJJtVrN9abYc69Wq6pUKi5UWOXGnrsFKQtTVqGy5+FP2LIRxMPh0C2ktOWIb7/9tvb29nR4eKhcLqednR1tbW1pMBgwjhK4RxKJhP7oj/5IV69e1T//8z/f78t5aMRxrMcff1x/+Zd/eeznE4mEzp4963Yk/dmf/Zm+/OUvB75K4N4hgOC+8o9j+RuvjX8UZ3653fwNuTTb4+D3dcz3MqTTaVcV8R/nuL4Q+5nHPf5xU5X8z9suExtBbEHBgo0fBubDhn+cbP46jts/4m8e93d62GtgYWS+V8bvB7G+G6ss+dUh+15/qeDR0ZHy+byiKNIjjzyiVqvl+lMs6Pnjl616Yn/OFjzs437viP9a2LUuLi66oOoveaxUKtrZ2dH+/r4ODg6UTqfVbrfVbDZd9QTAu7ewsKDf+I3f0KuvvkoAucdOnTqlP/iDP/ieXzcej/W3f/u32tnZee8vCniPEEBwXz377LPa3NzUa6+9plu3brmG5fX19ZmRtf5oXKuS2OZuP5wcFxr8d9IXFhaUy+VUrVa1vLysvb09V1nxqx72fXaky39c6U4Tu32d3/dhPzeRSCiXy7meFv/YVC6Xm6mYHPe4fkO3Hf+ym39/itb85C3pdlDodDozx8z8KonfUG//nslkZo5tNRoNd9RqdXXVVSXS6bR7XtaXs7CwoHK5PPM8LeiMRiP1ej231dyWDLbb7ZlpLdYkbser/MqMPV87FmbX3Wq13Pz7Rx99VMlkUo1GQ2+99ZYuX76sH/mRH3F/PgAA4GQggOC+8isO1pBeLpe1vLysdDotSTPTPfybT39Clf94/tEsu2lNJpNu/O3i4qIbjbu3t+f6FuyGd353hv3qf97ejZ+fhiVp5jGiKHLHmazKMh6P3bv+drzIr77MLwKUbgcEf/O59ZQsLCxoOBzOjCX2+2f8wOK/Rn6wyWQyrk9lPB675vBWq6VEIuEqRvY6+AHEFj/2ej3VarWZ4OE381sAsON2FkgsvMwPArCjXouLi8rn8+51tuWTVjkaDocuBFmTfDKZ1JNPPqmlpSWCBwAAJxABBCdCIpFQr9dTo9HQ/v6+Dg8P3dGe+VAg6a6Pzfdw+IHBJkzZr/YOu+2yyGQyrpriV1qM/3h+AJo/Fmbf51+bH7D8o162+2L+yJlfvfGrMnakyprG8/m8u9lut9suINjPnF9K6H9u/t/tcRYWFmaqE5PJxI0RtgZwSS6QpNNpJRIJ9zzsedmfhR+K7DlYdcQ/hnUcq1bZXhT7WbabxIKcvR7+azaZTLS+vs7YXQAPnXq97kaeAw8yAgjuO7uxtM3eN2/eVDab1erqqlvgJ2mmquGHD7+CsLi46CZMSXcaty0c9Pt9d1O9sbGhvb09bW9vq9FozByh8nsnfPbzrV/hndjPj6LIhQG7ObYbceuJmEwmLgD4gWk0GimTybjqx2QymdmrYbtF9vf33WNbELBrs/4Nv5fE/sOVTCbd6OPRaKT9/X1tbW256z59+rTrlbGQYa+vhZLhcKh+v+9+9nHhzUJKp9NRvV5Xr9dzf162Cb7Vaqndbrtg1mw2XTWnVCqpUqmoWCxqbW1Ny8vL7nUtlUoujNy4cUM3btzQ9va2HnvssXf71xIATpyXXnpJv/M7v3NX5R140BBAcN9VKhV95CMf0dHRker1ura2tpRIJBTHsYrF4kzDtn/kyd4l90fn+u/w+70fdoNuN79RFGl1dVVnzpzR4eGhdnd31e/3Zxq3pdlJVP64Wn9yld8oP9+QbhO4rAfDrseOSdlNtvWhWM+FdGcD+XA4dL0SmUxGuVzOTYOyRmx7vv4EKX/Kld/ILsk1ZqdSKTUaDTWbTR0eHrojT6VSyVWfBoOBe30tKPX7fTUaDUlyVQ9r6refE8exC3A2Hrfb7bpjZPZn6odGC1/+KONGo6F6va5UKqXr169rfX3dHaGL41jdbld7e3tujr4tcwRw7x0dHemFF17Q008/rZdeekm//du/rXq9fr8v64H0V3/1V/qXf/mXuz7+53/+53r88cdnPnZ0dKTf/d3f1b/9278RPvBQIIDgvovjWKdPn3b/fv36dUl3jgf5N5P+Ho53mkBlN99+r4BVFAaDgbvpLxaLqlarWl9fV7FYnJlI5T/2/AQs/2Pfiz/W1t/ubY/vVz7sCJMFFL9R3Po8bK+IPzlrPnj5jeh+QPOvya5rMpmo2Wyq3W6r3++rUqm4yV32GH51yf487MiaXbO/q8NeJ39kr4WP0Wg08/pZ9cua4O155fN51yfTbDbV6XTc4srpdKper6fFxUVls1k1m01tbm66JV6ED+C9M51O9eqrr+rSpUt6/vnnFcfx/b6kB9bXv/51ff3rX7/r4x//+MdnBnRIt/+/+Atf+IJu3rwZ6vKA9xQBBCfKZDJRt9tVp9NxY3n9PRd2JMhGxPrHm6w6YpUMSXfd7NvNdzqdVqlU0pkzZ3R0dKTvfOc7ku4s9JNmG9DN/M29fd6u0x+Fa78uLi4qnU4rn8+7G2m/n8Eaya053djSP7uRt56YhYWFmSNKdgNglQ4LAsPhcKb3xL7GbvhHo5FqtZp2dna0uLioarWqM2fOuJ9hiwIXFxdVLBZdkLIqklVx/IWJ/hQvCyvWpO4vc7Swl8vl3JQuuy4LO1Yt6nQ6LiTdunVLW1tbrqJydHSkw8NDbW5u6vDwUMlk0jWtA8CD6IUXXrjflwC85wggOFFsbOvOzo7iOFahUFC1Wp0ZcyvdPtpkfQj2OT9g2B4LO8bT7/eVSCTcu+yTyUSZTEblclkLCwt68skn3bSo/f19d3zJmqD9KoXfZD4fUvybfTt6ZTfXNgLYFvXZ11sfhVUH7HkNBgP1ej1JUi6XUzqd1nQ6dZvQ/f0W9hztuFkymXTTv/xQYNdqE6R6vZ5bGLi6uipJ7hiYLW/0lxL6SxL9TeX2Z+KHN5vwZRWo+eb8KIpmemL8I3X+c0un025YgDWjdzodNRoNHRwcuHDyzDPPuJ4ZC0cA3jvpdFqf//zn3WLQX/7lX1an07nflwXgAcB/pXGiZDIZra6uuh6Dw8NDLS8vz9wE+yNb56dQ+Uvr7FfrObAqg99oHsexSqWSzp49695Vb7Vad90wG3/E7/zH7PcWAPwN7FatSafTiqLI9SnY1/uTpPwxulYxsCA0fyTK32xuU7Pmt5n7SwP918gqJrlczi1L9DeUW5O7fzNvQcuChoUm/8/B/n3+Y/7Ptq/xQ9185cmvlthrUCgUVCwWXWhLpVJuHLD1hAAII5FI6JlnnpEktdtt/fRP/7T+67/+S2+//fZ9vjIAJx0BBCfK+vq61tbW9Morr7iN1hsbG64CYDfoVuWwG3J7N9/6J+I4nnkn3Bq2rUJgN77WU/HBD37QHauy4OP3LPj9GPM31P6v0p3G9TiOlcvl3Dv30u1KRq/XU6fTmTm6ZNdn1QcLMDbu1qof9vV2zMiOf9lzsh0dNtnKP4Jm06oGg4ELR+VyeeZ1smNb6XR6ZhmgHSWzI2/22LaHwyoeFjAsMNhjzx9Tm5/MZf9Y+PEngvmjeqMoUjabVRRF6na7euqpp9ymdQD3Tz6f18svv6xPfepT+tznPne/LwfACUcAwYk0Go1UrVZ17tw5bW1taX19XYVCYWahnx0jGgwG7hiOHR2ywGLHmaxiYoFF0szRoGq1qieeeMKNdb169aq2t7dVr9dnFgDO7wCxm2R/WlYURcrn86pUKlpbW1O5XFYul9N0OlWxWHR9Lt1uV8Ph0FVFRqOR6vW6Wq2W+v2+4jjW0tKS4jh2n/dfH/t5cRy7XpFGo+EC2nGLEy0sWWXGQp29nrY40aZQ+b0385PEpDtLDe1nzS9dtGu03prpdOqqOX5Vxt974u90ke5MA5Okbrerg4MD7e7uuj8bACfH7/3e7+m5557Tz/3cz830tL1bL7zwgn7rt35LkvS5z31O//RP/3TPHhtAeAQQnEjr6+uqVCpKp9O6fv26crmcqtWqMpnMzJEdCyDW/zBfnZhMJjPvsttNtPWH2NfaBvbFxUVdvnzZ7fnwqxL2tZJmjhId19tgAaRarapUKimXy2kwGLjKQiaTmdnwblu8rYnertUPPfMs7GSzWbchfDAYuOqPVU3sSJO/Zd0PUn5jvR3rsn/3X08/KPjX4Dfe27hh/+ts0pZ93vo47PvtV39ql1Vk/CNlo9FI7XZb+/v76vV6WllZYdkgcJ+8+eabevnll/Xxj3985ujjI488MvP/I+9WMpnUz/7sz+q5557T008/LUn6mZ/5GTWbTb3yyitMvQMeUAQQnDiJREI/+qM/Kun2O/3Xr19XOp12gcR6Jix42D923Md6F+zG2meTpvr9/kyjejabVbFYVLFYVLfblXR7PPB4PFatVlO323WBwYKNNHsDbTfKhUJBKysrOnPmjM6fP6+1tTUVi0UdHh66x8xms27M4ng8VhzHbszucDhUp9NRq9XSYDA4tqna9qTYdbdaLU2nUzUaDfcf/lKpJEluMpZVJ6wXxq7Zr0hYJcOawu1nzwcP/7X1P243A/a9FhK3t7fdjpGlpaWZ6Vx+X4nflzL/59btdrW1taXr168rjmP98A//8Pf9dwrAvfXqq6/qq1/9qq5evar19fWZxa3+8cp3ExBscMeLL76oSqXiPv7JT35Szz33nB599NGZyjCABwcBBCderVbTtWvX1Ov19Oijj7qbdT8I+L0S+Xz+rp0bklyFwIKCf2PuH99aXV3VD/3QD+nMmTNaWVnRd77zHe3v72t/f9+FHas4SHLVhkwmo0KhoAsXLuj8+fN67LHHdP78+ZkxuVYBsEZq6zmxrehRFGlpackdHZPkdpjYjbq/I6Tb7apWq2lvb0/1el25XE6VSkXlctmFNWPVFOvJsAZ9m9DlLzS077PXymdH2ewxj1vcaHtBbOP79va2O0bl/3lMJpOZBYZWxbLneHR0pFarpVu3bml/f19vvPGGtra2VK1W79nfLwA/mH6/r49+9KNKJpNaWlrSa6+9pnw+r5WVFX3jG9/QH//xH+ull176gR//137t1/Qnf/InKpfL9/CqAZwEBBA8ENrttra3t5XJZNzUIwsRdmQnjmO3J2T+GJHd9Frfh1VBrO/B+iPG47ESiYRKpZJr5I6iSOVyWYVCwS3F8wNIMplULpdToVBQpVLRxYsX9cgjj+jMmTPKZDLuxtoCSBRFru8jjmM3VteuzQJNoVBwQcEqBv67iVYJsolaVkGZb5j3j1FJsxOq/GMSfjCwvhH7uH90zd+xYc3p9o7n/EJEP6hY4Jjvn/HfOR0MBq6nxxrXm82mdnZ21O12VSwWde7cORWLxXv2dwvAD2Y6neqtt96SdHuC4YsvvqiPfexjeuqpp3T58mU9//zzWlhY0EsvvfQDVULK5bIuXbp0j68awElAAMGJZzfp3W7XNXLbdCn7tVwuuwDi9yFImrlxt3fvB4OBOp2OqxL4E50sTFjoKJVK2tvb0+bmpvb29tTpdNyse6sQFItFlUolnTp1ShcuXFC1WlW1WnXLBIfDoQtK1oidyWTchnObzmUVCQsoduOeSCRcX4qFADuGZpWbQqHgHt+qKxYa/F6J+c3pflO+NLv53f/8YDBwgcGvevh9G/5md38DvB+K7DWzUOVfS6/X0+HhoQ4ODlzAsn0f2WzWHc0DcLL0ej39/u//vj7zmc/oypUrkqRPfOITevbZZ/WFL3xhphor3dmBJN3pnZvHPh/g4cX/unGiJZNJfexjH9M3v/lNXb16VXt7e+r3+25xni2esxt6a3AeDocueBxXEbBJVL1ez02SsslQzWZTvV5PhUJBhUJBV65c0aVLl/TUU0/p8PBQvV5P3W7X3Ywnk0kVi0VlMhlls1l30+0vB7SjRX7fg92Ip9PpmWZuf3eH3/xugcJeF9sibvs7+v2+Dg4OXMUln8/PLA70jzrN792wf/wjVRbWLOhYlcYqLfbcbWqW31zu93NYtero6Mj111i1xN90PxqN1Ov11G63dXBw4AYM1Go1fehDH5o5Aw7gZPrsZz+rv/7rv3a//5Vf+RVdu3btrgrI1772Nf3SL/2SJOmnfuqn9Hd/93d3PVY+n3/vLxjAfUEAwYlm4WBjY8PdsLdaLbflO45jZTKZmdGz9m68fxNtN/BWabCRr34g8Ru17WY/lUq5YGMN36PRyB3hsoBgez6m06lrLpdmjx5JmtlAbrs0rFLgb1G35+7//rh9G5JcuPGrEtLtkOIvFrR3E/2pWHbN8w2kfiCx52vX628rn6982GNY1cOuc34jfSqVmtknYoHQKl29Xs/12/R6PRcyAZxszWZTzWZTkvT5z39evV5Pv/mbvznz/02S9OEPf1h/+Id/KEl64okntLGxIUn6n//5H33xi1/8nj/n8PDwrqoKgAcHAQQPhFOnTunUqVOSpP/93/91U5VsEpS9+243zhYm/F0W/pEsv6l7Op265Xz+EaLRaOSW3lkAsaNMR0dHajab7l16qxK02201Go2ZbeP2MyS5MNBut2eONFmVxq9YvFNAsJG00p0lhvarsce0Pgx/pK5/dMqvvPjBw6+SWADxd3bY12Sz2ZkjVn71xH62vZZ2hMyeg73etgW+1Wqp3W67gQA2iQvAg+nll1/Wf//3f+uTn/zkXcMsLl68qM9+9rOSbr9B0Wg0JEmvv/66PvWpTwW/VgBhEUDwwBmPx+r1etrZ2XE7NVZWVtz+i/lN2t1u1233jqLI9YCMRiN3E+wHD1u2J0mdTscFD7sJt5v2brerZrOpWq2mWq2mdrvtRudaZcCOKkl3lvZZ4PE3jM8/P2uIlzRzfRYI/OqNPzVqcXHRVQ+y2exMtcFvPrfr8UOaBQ0/gNjr5FdXrFHfD0RWObIgOL8hfjqdqtVqaW9vT2+88YbW1ta0tLTkejxqtZreeOMN967mhz/8YXed9vwAPJy+9KUv6ROf+IQk3dPlhQBOLv6rjgfO2tqa4jhWPp9Xv9/XrVu3tLKy4oKChQULKnbD7o+2teNBfk+GHW3y+xO63a47JmRN4fa4tVpN9Xpde3t7ajQaGgwG7gbeAoS/CNCfRmU38f5yRPtam8g1fyTKr+LYxy0IWACwm387emXPxcLMfGXFQoJVKOzzFuTs6NRxM/796VfHhTj/NbWA02w29e1vf1vNZlPlclnT6VT1el21Wk1bW1vqdDozjwXg4fY3f/M3+vKXv6x6vX6/LwVAQAQQPHBWV1e1uroqSbp586YODg5Ur9dVKBRcP8hwOHSVDpsSNX88yH933voThsOhqxzYFnSrfNiSQOvhsOlM+/v76nQ6LkDYBnK/ijG/yM/fx+FvPH+nEbnSnX4S/wiUNYL728P9YOWPxvX7Ruzx/W3vnU7HPV4qlXIBxBrY/T0k/i4Sf6+K/XwLIH5fi1WWNjc31e121W633R6Uer3ujrT5W5UBPNjG47G2t7fd/6/MD5P4+7//e/3Hf/zHfbo6APcLAQQPtI2NDfV6Pb3++ut6/PHHtbGxoY2NDXW7XRdCMpmMoihyx42s4uAfHarVatrc3NTBwYEuXbqk9fV1ZTIZdbtd1et1LS4uuuV3/oQqu0m3MGCPaZUA/yiSXx3wJ2P5/Sh+hcZCwPxeDulOr4gfWGyilFUm/LHEkmaOU1kAsw3j7XZb9XpdURS5vg47vpVKpe5apmift9fBNtH7k6+simTb3EulkgsvcRy7XR6FQkGnT5/W448/7p4f1Q/g4fD222+7sbwf+tCH9LWvfe0+XxGAk4AAggeaVRBu3rwpSdrd3VWtVnPv2E8mExUKBTc61kKIVUb8KVQ2xnZpaUnFYlH5fF6j0UidTkepVErtdtvdcNtUKDtKZWFhMBio2+26x/QnN/nVF0kumPjHsSS5CV3WbG5Bx56ThQf/+JV0+51G21FydHSkdrvtflYqlZo5FuZP+xqNRm6ilfWBRFGkXC537Gvub5C319Tvc5lfKnh0dKRcLucqI71ez4U2/7UB8PCZTqeup67f79/nqwFwUhBA8FAYj8c6ODjQeDxWMpl0/R5+b0Qul1MURe7okVUL7J374XCoRqOhRqPhekesqTuVSrkgYkHDKizSna3fw+FQ3W5XiURCcRzPTOaSNHNsyqoi9vP9Y1pW8bCAYhvSrfJgFhYW3NEw26NhW9rb7bYLJ9YfYwHKH1lsYcJCmB+s/LBkP8+Ch/1j12PHzaxqY6+FNeVHUeRCHYD3n+FwqDfffFMbGxtaWFjQzZs3CSXA+xQBBA+8fD6v559/fuZd9G9961vqdruKokiFQkFLS0va2NjQxYsXlc1mVSqV3GZ1u8kfDAbq9/uq1+tqtVrq9XqKosj1RxwcHLhG9EajoU6nM9O4LcltLLdRu1ZdWFxcdNNdbHN6FEVu0pQ/LthYqLGqit3E2+Z0CxF2TZLcJK7xeKw4jt3SxlOnTrlqhT2mXa8tMywUCjMN+X51yKomdkTLJorFcTyzWf7g4ECdTkfNZtP1f4zHY926dUulUknnz5/X+fPnA/3NAHCSfPOb39Rjjz2mV155RVEU6Sd/8ifZ5QG8TxFA8MCbX8AnSadPn3Y36Tdv3nRjbxcWFtyGczt+1O/3tb29rclkokqloo2NDVWrVRWLRbdgcDQaaX9/31VP/DBhR6UsiBQKBbcfpN/vuyWANpnKvs96LeYnTElyx5qs/0OS4jhWHMeKosiNEE6n00qn0+p2u+p2u2q1Wmo2mxqPx4qiyFUlRqORa9C3Y2jGP/JlYWY4HKrdbuvo6MhVTyz8+ON5W62WO/a1v7+vWq3mFgna8TcLP/5IYgDvT5PJRJ/5zGfcEVkA708EEDyUrMFZkt588013k51MJt2yOzu61O/31Wq1FMex1tbWtL6+rnK57G7YrQfDNpz706SsQmA39FbtsABh32v9F1ZZGAwG7piYVTL8RnN/cpUdabLrtyNTqVTKTdzq9/tuA3Gn05mZ/JVMJl1VxqoY6XTahQGbRiVp5jptPO94PFYmk3HfbxWRyWTifq416zebTdf7YT/fghMASNJrr712vy8BwH1GAMFDbTqdqtPpuF0g/X5/pofCKhiVSkWXLl3S2tqaHnnkEbfx3JonrZHS39UhaWb5nh3n8hvdG43GTF+Ffb9VTOwG3d+XYVOk7PhXu91Wp9NRpVKZORJlzeCNRkM3btzQtWvXtLOz4x673++7AORPnFpeXtby8rJ7jjdv3lSn01Gv11Or1XKVlH6/7yoXthHeKiE2vavb7bqmd+snsev6wAc+oGw2G/KPGwAAPAAIIHioLSws6Mknn3TBIJFIqF6va3t7W4uLi8rlcsrn8zpz5oxWV1dVLpdd5UK6MxbXRvf6u0T8pX3pdNr1O0hyo2ujKFKr1VKr1VKj0XDHqfxAkslkXEVhOBy6Socdz7IwMZ1OFcexyuXyzOSp3d1d7e7uui3iklyzeafTkXS7arO7u6tsNqvl5WWVSiVXoWg2m6rX69rd3VWz2VS/31e/35/Z6B7HsTKZjOI4dsHFWFhaW1ubqaTY8TUAAAAfAQQPvXK5PPPvo9FIuVxOiURC2WzW3ZQXi0Vls9mZvov5ZYD+EkBpdrSuHbWyo1R+UPErEnasajAYzBypmp845f9qyw9tgpT1lAwGA9VqNbfvZGVlZeZaM5mMJKlWq6nf7yuTyWg0GrmRwtLtcGUhyapF/tlsf5mgfb2FI5uy5e/1AAAA+G4IIHjfsSNIZnFxUeVyWYVCQXEcu5tze/ffbritCmIBwm8ct2BhlRYLKdbAnc/nFUWR2u22O7ZUr9fV6XQ0HA61vLysOI6Vz+fdGF2bwmWjgLe2tlwfxmQycY+xubmptbU1t+xr3uHhob70pS+5HR/T6VT7+/uuFyWXy2k8Hs/s5/Ab3q2ak8lkZjbKLywsKJVKuSWEAAAA3w8CCN73JpOJvvWtb2llZUWVSkW5XG5mg7i9+28N49brYfzfW3+IHaeyY0ypVErr6+uuN+Tg4MDtG9nd3dVgMFA+n1e5XHaTpqxB3raU24SrbrerXC7nAohVXt6JVWJsA3symVQul3PXaZUL2yXiV3+s6dyOYdmxKn+aVS6XY7oVAAD4vhFA8L5njer27v5wOFShUHBTsKTZUb92DMv/vfWD+J+T5BrNp9PpzPQq6/9IJBJqt9saDofqdDqKokiZTMZVQBqNhpu+ZYsEbTqVVVv8ccHHWVxc1Pr6uvvZS0tLM6HBxuPaTg8/YPm9KNbrAQAA8G4QQPC+Z0eJbJ+FJFWrVZXLZTctyh+VaxUFu1G341hWObCbdzuiZUezbHJVIpFwoaFUKung4EDNZlPtdlvj8VhLS0uaTqdqNptuQlUmk9GFCxfcDpPRaKR0Oq2lpaXv+fwKhYI+8pGPvOPnG42GJLlpXsdVM2xrPAAAwLtFAAGOcXh4qGazqRs3brht4ysrKy6M2NK+VCrlRtNalcRG3/o7QCyc2NdkMhllMhl3JGoymejw8FDXr193Aca+d2lpSaVSSSsrKzo6OlK9Xlc2m71nx57y+fzMtQEAALyXCCDAMazh3NhivX6/r6OjI0VR5I5pZbNZxXHsdorMVzzsGJMfRBKJhJs25Y/ztWlZNqHLwk2hUHCPMT+Z692isgEAAEIigADfh8lkor29PW1ubqrf7yudTqtarWppaUnValXLy8tKp9NKpVIaDocugBQKBRdQrDpi43Otwdx6PKIoUi6X03A4VBRFWl9fv+sarHoCAADwoCKAAP8Pp06dcr9PJpPa3d3VV7/6Va2vryubzbpwkMlkVCwWdeHCBUlyI29t38bOzo5b+ifJVTfsuBdL/AAAwMOKAAL8P8xvAU8mkyqXy4qiaKYRfTweq9/va29vT61WS8lk0n3M/pnfrC7daQS/18esAAAATgoCCPAu2FSq44xGI21vb7/j90ZRdNdYW8bcAgCAhx1vswIAAAAIhgACAAAAIBgCCAAAAIBgCCAAAAAAgiGAAAAAAAiGAAIAAAAgGAIIAAAAgGAIIAAAAACCIYAAAAAACIYAAgAAACAYAggAAACAYAggAAAAAIIhgAAAAAAIhgACAAAAIBgCCAAAAIBgCCAAAAAAgiGAAAAAAAiGAAIAAAAgGAIIAAAAgGAIIAAAAACCIYAAAAAACIYAAgAAACAYAggAAACAYAggAAAAAIIhgAAAAAAIZqHdbk/v90UAAAAAeH+gAgIAAAAgGAIIAAAAgGAIIAAAAACCIYAAAAAACIYAAgAAACAYAggAAACAYAggAAAAAIIhgAAAAAAIhgACAAAAIBgCCAAAAIBgCCAAAAAAgiGAAAAAAAiGAAIAAAAgGAIIAAAAgGAIIAAAAACCIYAAAAAACIYAAgAAACAYAggAAACAYAggAAAAAIIhgAAAAAAIhgACAAAAIBgCCAAAAIBgCCAAAAAAgiGAAAAAAAiGAAIAAAAgGAIIAAAAgGAIIAAAAACCIYAAAAAACIYAAgAAACAYAggAAACAYAggAAAAAIIhgAAAAAAIhgACAAAAIBgCCAAAAIBgCCAAAAAAgiGAAAAAAAiGAAIAAAAgGAIIAAAAgGAIIAAAAACCIYAAAAAACIYAAgAAACAYAggAAACAYAggAAAAAIIhgAAAAAAIhgACAAAAIBgCCAAAAIBgCCAAAAAAgiGAAAAAAAiGAAIAAAAgGAIIAAAAgGAIIAAAAACCIYAAAAAACIYAAgAAACAYAggAAACAYAggAAAAAIIhgAAAAAAIhgACAAAAIBgCCAAAAIBgCCAAAAAAgiGAAAAAAAiGAAIAAAAgGAIIAAAAgGAIIAAAAACCIYAAAAAACIYAAgAAACAYAggAAACAYAggAAAAAIIhgAAAAAAIhgACAAAAIBgCCAAAAIBgCCAAAAAAgiGAAAAAAAiGAAIAAAAgGAIIAAAAgGAIIAAAAACCIYAAAAAACIYAAgAAACAYAggAAACAYAggAAAAAIIhgAAAAAAIhgACAAAAIBgCCAAAAIBgCCAAAAAAgiGAAAAAAAiGAAIAAAAgGAIIAAAAgGAIIAAAAACCIYAAAAAACIYAAgAAACAYAggAAACAYAggAAAAAIIhgAAAAAAIhgACAAAAIBgCCAAAAIBgCCAAAAAAgiGAAAAAAAiGAAIAAAAgGAIIAAAAgGAIIAAAAACCIYAAAAAACIYAAgAAACAYAggAAACAYAggAAAAAIIhgAAAAAAIhgACAAAAIBgCCAAAAIBgCCAAAAAAgiGAAAAAAAiGAAIAAAAgGAIIAAAAgGAIIAAAAACCIYAAAAAACIYAAgAAACAYAggAAACAYAggAAAAAIIhgAAAAAAIhgACAAAAIBgCCAAAAIBgCCAAAAAAgiGAAAAAAAiGAAIAAAAgGAIIAAAAgGAIIAAAAACCIYAAAAAACIYAAgAAACAYAggAAACAYAggAAAAAIIhgAAAAAAIhgACAAAAIBgCCAAAAIBgCCAAAAAAgiGAAAAAAAiGAAIAAAAgGAIIAAAAgGAIIAAAAACCIYAAAAAACIYAAgAAACAYAggAAACAYAggAAAAAIIhgAAAAAAIhgACAAAAIBgCCAAAAIBgCCAAAAAAgiGAAAAAAAiGAAIAAAAgGAIIAAAAgGAIIAAAAACCIYAAAAAACIYAAgAAACAYAggAAACAYAggAAAAAIIhgAAAAAAIhgACAAAAIBgCCAAAAIBgCCAAAAAAgiGAAAAAAAiGAAIAAAAgGAIIAAAAgGAIIAAAAACCIYAAAAAACIYAAgAAACAYAggAAACAYAggAAAAAIIhgAAAAAAIhgACAAAAIBgCCAAAAIBgCCAAAAAAgiGAAAAAAAiGAAIAAAAgGAIIAAAAgGAIIAAAAACCIYAAAAAACIYAAgAAACAYAggAAACAYAggAAAAAIIhgAAAAAAIhgACAAAAIBgCCAAAAIBgCCAAAAAAgiGAAAAAAAiGAAIAAAAgGAIIAAAAgGAIIAAAAACCIYAAAAAACIYAAgAAACAYAggAAACAYAggAAAAAIIhgAAAAAAIhgACAAAAIBgCCAAAAIBgCCAAAAAAgiGAAAAAAAiGAAIAAAAgGAIIAAAAgGAIIAAAAACCIYAAAAAACIYAAgAAACAYAggAAACAYAggAAAAAIIhgAAAAAAIhgACAAAAIBgCCAAAAIBgCCAAAAAAgiGAAAAAAAiGAAIAAAAgGAIIAAAAgGAIIAAAAACCIYAAAAAACIYAAgAAACAYAggAAACAYAggAAAAAIIhgAAAAAAIhgACAAAAIBgCCAAAAIBgCCAAAAAAgiGAAAAAAAiGAAIAAAAgGAIIAAAAgGAIIAAAAACCIYAAAAAACIYAAgAAACAYAggAAACAYAggAAAAAIIhgAAAAAAIhgACAAAAIBgCCAAAAIBgCCAAAAAAgiGAAAAAAAiGAAIAAAAgGAIIAAAAgGAIIAAAAACCIYAAAAAACIYAAgAAACAYAggAAACAYAggAAAAAIIhgAAAAAAIhgACAAAAIBgCCAAAAIBgCCAAAAAAgiGAAAAAAAiGAAIAAAAgGAIIAAAAgGAIIAAAAACCIYAAAAAACIYAAgAAACAYAggAAACAYAggAAAAAIIhgAAAAAAIhgACAAAAIBgCCAAAAIBgCCAAAAAAgiGAAAAAAAiGAAIAAAAgGAIIAAAAgGD+D3ao+5+urW1aAAAAAElFTkSuQmCC",
>>>>>>> origin/wmhuq
      "text/plain": [
       "<Figure size 400x400 with 2 Axes>"
      ]
     },
     "metadata": {
      "image/png": {
       "height": 400,
       "width": 400
      }
     },
     "output_type": "display_data"
    }
   ],
   "source": [
    "plt.subplot(1,2,1)\n",
    "plt.imshow(xs3d_test[30][0][0][24], cmap='gray', origin='lower')\n",
    "plt.axis('off')\n",
    "plt.subplot(1,2,2)\n",
    "plt.imshow(ys3d_test[30][24], cmap='gray', origin='lower')\n",
    "plt.axis('off')"
   ]
  },
  {
   "cell_type": "markdown",
   "id": "0fb569f9-1531-47f4-8275-faaf9e030654",
   "metadata": {},
   "source": [
    "### load a model checkpoint and get relevant predictions"
   ]
  },
  {
   "cell_type": "code",
   "execution_count": 14,
   "id": "306bae4d-122d-405c-bdf8-475bf2de1471",
   "metadata": {},
   "outputs": [],
   "source": [
    "model_config = \"/home/s2208943/projects/twaibrain/twaibrain/braintorch/models/nnUNet/cvd_configs/nnUNetResEncUNetMPlans.json\"\n",
    "\n",
    "with open(model_config) as f:\n",
    "    model_config = json.load(f)"
   ]
  },
  {
   "cell_type": "code",
<<<<<<< HEAD
   "execution_count": 15,
=======
   "execution_count": 29,
>>>>>>> origin/wmhuq
   "id": "6095ad18-3907-4d2f-96a1-1cea9900b397",
   "metadata": {},
   "outputs": [],
   "source": [
    "dims = \"2d\"\n",
    "config = model_config['configurations'][dims]['architecture']\n",
    "network_name = config['network_class_name']\n",
    "kw_requires_import = config['_kw_requires_import']\n",
    "\n",
    "model = get_network_from_plans(\n",
    "    arch_class_name=network_name,\n",
    "    arch_kwargs=config['arch_kwargs'],\n",
    "    arch_kwargs_req_import=kw_requires_import,\n",
    "    input_channels=3,\n",
    "    output_channels=2,\n",
    "    allow_init=True,\n",
    "    deep_supervision=True,\n",
    ")"
   ]
  },
  {
   "cell_type": "code",
<<<<<<< HEAD
   "execution_count": 16,
=======
   "execution_count": 418,
>>>>>>> origin/wmhuq
   "id": "ac2e9374-7700-4c22-a3ea-1ac7ced2fc8e",
   "metadata": {},
   "outputs": [],
   "source": [
    "# ckpt_folder = \"/home/s2208943/projects/twaibrain/twaibrain/brainexperiments/run_nnUNet_v2/training/model_ckpts\""
   ]
  },
  {
   "cell_type": "code",
<<<<<<< HEAD
   "execution_count": 17,
=======
   "execution_count": 16,
>>>>>>> origin/wmhuq
   "id": "7409a0a3-3203-4210-95e0-3ef7303f696a",
   "metadata": {},
   "outputs": [],
   "source": [
    "# ssn_config = {\n",
    "#     'intermediate_channels':32,\n",
    "#     'out_channels':2,\n",
    "#     'dims':3,\n",
    "#     'rank':25,\n",
    "#     'diagonal':False,\n",
    "# }\n",
    "\n",
    "\n",
    "# ssn_model = Hierarchical_SSN_with_ConvSpatialAttention(model, ssn_config, refine_channels=10)\n",
    "\n",
    "# ssn_model = Hierarchical_SSN_with_ConvRefine(model, ssn_config, refine_channels=10)\n",
    "\n",
    "# ssn_model =  SSN_Wrapped_Deep_Supervision_LLO(model, ssn_config)\n",
    "\n",
    "# ssn_model = SSN_Wrapped_Deep_Supervision_LLO(model, ssn_config)\n",
    "# ssn_model = SSN_Wrapped_Deep_Supervision(model, 5, ssn_config)\n",
    "\n",
    "# - [ ] sa rank 50\n",
    "# - [ ] ssn no dice 50\n",
    "# - [ ] ssn no dice 25\n"
   ]
  },
  {
   "cell_type": "code",
<<<<<<< HEAD
   "execution_count": 18,
=======
   "execution_count": 36,
>>>>>>> origin/wmhuq
   "id": "54d7e873-f4c0-4328-bd61-0db14b041b49",
   "metadata": {},
   "outputs": [],
   "source": [
    "%autoreload"
   ]
  },
  {
   "cell_type": "code",
<<<<<<< HEAD
   "execution_count": 19,
=======
   "execution_count": 47,
>>>>>>> origin/wmhuq
   "id": "9a76753a-b22d-4e03-9c0c-a45f9df8d593",
   "metadata": {},
   "outputs": [],
   "source": [
    "def get_model_preds(cv_fold, model=model, model_name=\"nnunet\", ckpt_path=None, model_func=deterministic_mean, do_reorder_samples=False):\n",
    "    litmodel = load_best_checkpoint(model, None, '.', cv_fold, ckpt_path)\n",
    "\n",
    "    means, samples, miscs = get_means_and_samples_2D(litmodel.model, zip(xs3d_test, ys3d_test), 10, model_func)\n",
    "\n",
    "    means = [m.squeeze(0).swapaxes(0, 1) for m in means]\n",
    "    means = [m[:,:2] for m in means]\n",
    "    if samples[0] is not None:\n",
    "        samples = [s.swapaxes(1, 2) for s in samples]\n",
    "        samples = [s[:,:,:2] for s in samples]\n",
    "\n",
    "    chal_results = per_model_chal_stats(means, ys3d_test)\n",
    "\n",
    "    rmses = []\n",
    "    for m, y in zip(means, ys3d_test):\n",
    "        m = m.cuda()\n",
    "        m = m.softmax(dim=1)[:,:2]\n",
    "        rmses.append(fast_rmse(m, y.cuda()).cpu())\n",
    "    rmses = torch.Tensor(rmses)\n",
    "    chal_results['rmse'] = rmses\n",
    "\n",
    "    chal_results['gt_vols'] = gt_vols\n",
    "\n",
    "    # run the evaluation on the samples\n",
    "    print(\"GETTING PER SAMPLE RESULTS\")\n",
    "    if samples[0] is not None:\n",
    "        if do_reorder_samples:\n",
    "            samples = [reorder_samples(s) for s in samples]\n",
    "        sample_top_dices, sample_dices = per_sample_metric(samples, ys3d_test, f=fast_dice, do_argmax=True, do_softmax=False, minimise=False)\n",
    "        sample_best_avds, sample_avds = per_sample_metric(samples, ys3d_test, f=fast_avd, do_argmax=True, do_softmax=False, minimise=True)\n",
    "        sample_best_rmses, sample_rmses = per_sample_metric(samples, ys3d_test, f=fast_rmse, do_argmax=False, do_softmax=True, minimise=True)\n",
    "    \n",
    "        # best dice, avd, rmse\n",
    "        chal_results['best_dice'] = sample_top_dices\n",
    "        chal_results['best_avd'] = sample_best_avds\n",
    "        chal_results['best_rmse'] = sample_best_rmses\n",
    "        \n",
    "        _, sample_vds = per_sample_metric(samples, ys3d_test, f=fast_vd, do_argmax=True, do_softmax=False, minimise=True, take_abs=False)\n",
    "        sample_vd_skew = torch.from_numpy(scipy.stats.skew(sample_vds, axis=1, bias=True))\n",
    "    \n",
    "        # vd of the sample distribution\n",
    "        chal_results['sample_vd_skew'] = sample_vd_skew\n",
    "        for s in range(sample_vds.shape[1]):\n",
    "            chal_results[f'sample_{s}_vd'] = sample_vds[:,s]\n",
    "            \n",
    "        # ged score\n",
    "        geds = iou_GED(means, ys3d_test, samples)\n",
    "        chal_results['GED^2'] = geds\n",
    "\n",
    "    # get the uncertainty maps\n",
    "    print(\"GENREATING UNCERTAINTY MAPS\")\n",
    "    uncertainty_thresholds = torch.arange(0, 0.7, 0.01)\n",
    "    ent_maps = get_uncertainty_maps(means, samples, miscs, args)\n",
    "\n",
    "    # pavpu\n",
    "    print(\"PAVPU\")\n",
    "    all_acc_cert, all_uncert_inacc,all_pavpu = all_individuals_pavpu(means, ent_maps, ys3d_test, 4, 0.8, uncertainty_thresholds)\n",
    "    \n",
    "    for i, tau in enumerate(uncertainty_thresholds):\n",
    "        chal_results[f'p_acc_cert_{tau:.2f}'] = all_acc_cert[:,i]\n",
    "        chal_results[f'p_uncert_inacc_{tau:.2f}'] = all_uncert_inacc[:,i]\n",
    "        chal_results[f'pavpu_{tau:.2f}'] = all_pavpu[:,i]\n",
    "    \n",
    "    # sUEO score and UEO per threshold\n",
    "    print(\"UEO\")\n",
    "    sUEOs = get_sUEOs(means, ys3d_test, ent_maps)\n",
    "    chal_results['sUEO'] = sUEOs\n",
    "    ueos = UEO_per_threshold_analysis(uncertainty_thresholds, ys3d_test, ent_maps, means, 0.7)\n",
    "    for i, tau in enumerate(uncertainty_thresholds):\n",
    "        chal_results[f'UEO_{tau:.2f}'] = ueos[i]\n",
    "    \n",
    "    # 3D connected component analysis\n",
    "    print(\"3D CC ANALYSIS\")\n",
    "    num_lesions_all, sizes_all, mean_missed_area3d_all, mean_size_missed_lesions3d_all, mean_cov_mean_missed_lesions3d_all, prop_lesions_missed3d_all = do_3d_cc_analysis_per_individual(means, ys3d_test, ent_maps, uncertainty_thresholds)\n",
    "    for i, tau in enumerate(uncertainty_thresholds):\n",
    "        chal_results[f'mean_missed_area3d_all_{tau:.2f}'] = torch.stack(mean_missed_area3d_all)[:,i]\n",
    "        chal_results[f'mean_cov_mean_missed_lesions3d_all_{tau:.2f}'] = torch.stack(mean_cov_mean_missed_lesions3d_all)[:,i]\n",
    "        chal_results[f'mean_size_missed_lesions3d_all_{tau:.2f}'] = torch.stack(mean_size_missed_lesions3d_all)[:,i]\n",
    "        chal_results[f'prop_lesions_missed3d_all_{tau:.2f}'] = torch.stack(prop_lesions_missed3d_all)[:,i]\n",
    "        \n",
    "\n",
    "    # save the results\n",
    "    print(\"SAVING RESULTS\")\n",
    "    results_out_dir = \"/home/s2208943/ipdis/WMH_UQ_assessment/trustworthai/journal_run/evaluation/results/cross_validated_results/out_domain_results/\"\n",
    "    write_per_model_channel_stats(results_out_dir, model_name, f\"{model_name}0_cv{cv_fold}\", preds=None, ys3d_test=None, args=args, chal_results=chal_results)\n",
    "    \n",
    "    print(\"DONE\")"
   ]
  },
  {
   "cell_type": "code",
<<<<<<< HEAD
   "execution_count": 20,
=======
   "execution_count": 48,
>>>>>>> origin/wmhuq
   "id": "bbb69110-80b7-4e85-bead-1fca802529c3",
   "metadata": {},
   "outputs": [],
   "source": [
    "%autoreload"
   ]
  },
  {
   "cell_type": "markdown",
<<<<<<< HEAD
   "id": "bd8a80ae-80b7-4e5b-9a7c-78b268de170e",
   "metadata": {},
   "source": [
    "### 2D MODEL M FULL CHALLENGE"
=======
   "id": "2820a33d-a4d9-4e3d-a9bc-d3f2c18fe73d",
   "metadata": {},
   "source": [
    "### 2D MODEL M"
>>>>>>> origin/wmhuq
   ]
  },
  {
   "cell_type": "code",
<<<<<<< HEAD
   "execution_count": 21,
   "id": "5e6e3b06-594d-4574-b78b-5e75aa890c0c",
   "metadata": {},
   "outputs": [
    {
     "name": "stdout",
     "output_type": "stream",
     "text": [
      "nnunet2D_ens0_cv4\n"
     ]
    },
    {
     "name": "stderr",
     "output_type": "stream",
     "text": [
      "170it [01:13,  2.31it/s]\n",
      "100%|█████████████████████████████████████████████████████████████| 170/170 [03:45<00:00,  1.33s/it]\n"
=======
   "execution_count": 62,
   "id": "fa0b6638-fea7-47c7-9207-fd62ce4dee3d",
   "metadata": {},
   "outputs": [
    {
     "name": "stderr",
     "output_type": "stream",
     "text": [
      "60it [00:07,  8.44it/s]\n",
      "100%|███████████████████████████████████████████████████████████████| 60/60 [00:52<00:00,  1.13it/s]\n"
>>>>>>> origin/wmhuq
     ]
    },
    {
     "name": "stdout",
     "output_type": "stream",
     "text": [
      "GETTING PER SAMPLE RESULTS\n",
      "GENREATING UNCERTAINTY MAPS\n",
      "deterministic\n",
      "generating uncertainty maps\n"
     ]
    },
    {
     "name": "stderr",
     "output_type": "stream",
     "text": [
<<<<<<< HEAD
      "100%|█████████████████████████████████████████████████████████████| 170/170 [00:04<00:00, 40.39it/s]\n"
=======
      "100%|███████████████████████████████████████████████████████████████| 60/60 [00:00<00:00, 88.27it/s]\n"
>>>>>>> origin/wmhuq
     ]
    },
    {
     "name": "stdout",
     "output_type": "stream",
     "text": [
      "PAVPU\n"
     ]
    },
    {
     "name": "stderr",
     "output_type": "stream",
     "text": [
<<<<<<< HEAD
      "100%|█████████████████████████████████████████████████████████████| 170/170 [00:06<00:00, 25.91it/s]\n"
=======
      "100%|███████████████████████████████████████████████████████████████| 60/60 [00:01<00:00, 46.84it/s]\n"
>>>>>>> origin/wmhuq
     ]
    },
    {
     "name": "stdout",
     "output_type": "stream",
     "text": [
      "UEO\n"
     ]
    },
    {
     "name": "stderr",
     "output_type": "stream",
     "text": [
<<<<<<< HEAD
      "100%|█████████████████████████████████████████████████████████████| 170/170 [00:40<00:00,  4.17it/s]\n",
      "100%|█████████████████████████████████████████████████████████████| 170/170 [00:49<00:00,  3.41it/s]\n"
=======
      "100%|███████████████████████████████████████████████████████████████| 60/60 [00:08<00:00,  7.43it/s]\n",
      "100%|███████████████████████████████████████████████████████████████| 60/60 [00:09<00:00,  6.56it/s]\n"
>>>>>>> origin/wmhuq
     ]
    },
    {
     "name": "stdout",
     "output_type": "stream",
     "text": [
      "3D CC ANALYSIS\n"
     ]
    },
    {
     "name": "stderr",
     "output_type": "stream",
     "text": [
<<<<<<< HEAD
      "100%|█████████████████████████████████████████████████████████████| 170/170 [10:04<00:00,  3.55s/it]\n"
=======
      "100%|███████████████████████████████████████████████████████████████| 60/60 [01:43<00:00,  1.72s/it]"
>>>>>>> origin/wmhuq
     ]
    },
    {
     "name": "stdout",
     "output_type": "stream",
     "text": [
      "SAVING RESULTS\n",
<<<<<<< HEAD
      "DONE\n",
      "nnunet2D_ens0_cv3\n"
=======
      "DONE\n"
>>>>>>> origin/wmhuq
     ]
    },
    {
     "name": "stderr",
     "output_type": "stream",
     "text": [
<<<<<<< HEAD
      "170it [01:14,  2.29it/s]\n",
      "100%|█████████████████████████████████████████████████████████████| 170/170 [03:30<00:00,  1.24s/it]\n"
=======
      "\n"
     ]
    }
   ],
   "source": [
    "ckpt_path = \"/home/s2208943/projects/twaibrain/twaibrain/brainexperiments/run_nnUNet_v2/training/model_ckpts/nnunet2D_ens0_cv0/epoch=64-step=12220.ckpt\"\n",
    "get_model_preds(0, model=model, model_name=\"nnunet2D\", ckpt_path=ckpt_path, model_func=deterministic_mean)"
   ]
  },
  {
   "cell_type": "code",
   "execution_count": 63,
   "id": "449aaae6-de4e-4397-9048-2aa4ba4a410d",
   "metadata": {},
   "outputs": [
    {
     "name": "stderr",
     "output_type": "stream",
     "text": [
      "60it [00:07,  8.41it/s]\n",
      "100%|███████████████████████████████████████████████████████████████| 60/60 [00:48<00:00,  1.24it/s]\n"
>>>>>>> origin/wmhuq
     ]
    },
    {
     "name": "stdout",
     "output_type": "stream",
     "text": [
      "GETTING PER SAMPLE RESULTS\n",
      "GENREATING UNCERTAINTY MAPS\n",
      "deterministic\n",
      "generating uncertainty maps\n"
     ]
    },
    {
     "name": "stderr",
     "output_type": "stream",
     "text": [
<<<<<<< HEAD
      "100%|█████████████████████████████████████████████████████████████| 170/170 [00:03<00:00, 53.53it/s]\n"
=======
      "100%|███████████████████████████████████████████████████████████████| 60/60 [00:00<00:00, 91.35it/s]\n"
>>>>>>> origin/wmhuq
     ]
    },
    {
     "name": "stdout",
     "output_type": "stream",
     "text": [
      "PAVPU\n"
     ]
    },
    {
     "name": "stderr",
     "output_type": "stream",
     "text": [
<<<<<<< HEAD
      "100%|█████████████████████████████████████████████████████████████| 170/170 [00:06<00:00, 25.14it/s]\n"
=======
      "100%|███████████████████████████████████████████████████████████████| 60/60 [00:01<00:00, 51.01it/s]\n"
>>>>>>> origin/wmhuq
     ]
    },
    {
     "name": "stdout",
     "output_type": "stream",
     "text": [
      "UEO\n"
     ]
    },
    {
     "name": "stderr",
     "output_type": "stream",
     "text": [
<<<<<<< HEAD
      "100%|█████████████████████████████████████████████████████████████| 170/170 [00:40<00:00,  4.19it/s]\n",
      "100%|█████████████████████████████████████████████████████████████| 170/170 [00:49<00:00,  3.41it/s]\n"
=======
      "100%|███████████████████████████████████████████████████████████████| 60/60 [00:08<00:00,  7.50it/s]\n",
      "100%|███████████████████████████████████████████████████████████████| 60/60 [00:09<00:00,  6.48it/s]\n"
>>>>>>> origin/wmhuq
     ]
    },
    {
     "name": "stdout",
     "output_type": "stream",
     "text": [
      "3D CC ANALYSIS\n"
     ]
    },
    {
     "name": "stderr",
     "output_type": "stream",
     "text": [
<<<<<<< HEAD
      "100%|█████████████████████████████████████████████████████████████| 170/170 [10:35<00:00,  3.74s/it]\n"
=======
      "100%|███████████████████████████████████████████████████████████████| 60/60 [01:42<00:00,  1.72s/it]"
>>>>>>> origin/wmhuq
     ]
    },
    {
     "name": "stdout",
     "output_type": "stream",
     "text": [
      "SAVING RESULTS\n",
<<<<<<< HEAD
      "DONE\n",
      "nnunet2D_ens0_cv0\n"
=======
      "DONE\n"
>>>>>>> origin/wmhuq
     ]
    },
    {
     "name": "stderr",
     "output_type": "stream",
     "text": [
<<<<<<< HEAD
      "170it [01:13,  2.30it/s]\n",
      "100%|█████████████████████████████████████████████████████████████| 170/170 [03:30<00:00,  1.24s/it]\n"
=======
      "\n"
     ]
    }
   ],
   "source": [
    "ckpt_path = \"/home/s2208943/projects/twaibrain/twaibrain/brainexperiments/run_nnUNet_v2/training/model_ckpts/nnunet2D_ens0_cv1/epoch=67-step=12784.ckpt\"\n",
    "get_model_preds(1, model=model, model_name=\"nnunet2D\", ckpt_path=ckpt_path, model_func=deterministic_mean)"
   ]
  },
  {
   "cell_type": "code",
   "execution_count": 64,
   "id": "14123b2c-c4a1-48e2-987a-b5f195572f04",
   "metadata": {},
   "outputs": [
    {
     "name": "stderr",
     "output_type": "stream",
     "text": [
      "60it [00:07,  8.39it/s]\n",
      "100%|███████████████████████████████████████████████████████████████| 60/60 [00:48<00:00,  1.22it/s]\n"
>>>>>>> origin/wmhuq
     ]
    },
    {
     "name": "stdout",
     "output_type": "stream",
     "text": [
      "GETTING PER SAMPLE RESULTS\n",
      "GENREATING UNCERTAINTY MAPS\n",
      "deterministic\n",
      "generating uncertainty maps\n"
     ]
    },
    {
     "name": "stderr",
     "output_type": "stream",
     "text": [
<<<<<<< HEAD
      "100%|█████████████████████████████████████████████████████████████| 170/170 [00:03<00:00, 52.88it/s]\n"
=======
      "100%|███████████████████████████████████████████████████████████████| 60/60 [00:00<00:00, 89.76it/s]\n"
>>>>>>> origin/wmhuq
     ]
    },
    {
     "name": "stdout",
     "output_type": "stream",
     "text": [
      "PAVPU\n"
     ]
    },
    {
     "name": "stderr",
     "output_type": "stream",
     "text": [
<<<<<<< HEAD
      "100%|█████████████████████████████████████████████████████████████| 170/170 [00:07<00:00, 24.24it/s]\n"
=======
      "100%|███████████████████████████████████████████████████████████████| 60/60 [00:01<00:00, 51.09it/s]\n"
>>>>>>> origin/wmhuq
     ]
    },
    {
     "name": "stdout",
     "output_type": "stream",
     "text": [
      "UEO\n"
     ]
    },
    {
     "name": "stderr",
     "output_type": "stream",
     "text": [
<<<<<<< HEAD
      "100%|█████████████████████████████████████████████████████████████| 170/170 [00:40<00:00,  4.20it/s]\n",
      "100%|█████████████████████████████████████████████████████████████| 170/170 [00:49<00:00,  3.41it/s]\n"
=======
      "100%|███████████████████████████████████████████████████████████████| 60/60 [00:07<00:00,  7.59it/s]\n",
      "100%|███████████████████████████████████████████████████████████████| 60/60 [00:09<00:00,  6.52it/s]\n"
>>>>>>> origin/wmhuq
     ]
    },
    {
     "name": "stdout",
     "output_type": "stream",
     "text": [
      "3D CC ANALYSIS\n"
     ]
    },
    {
     "name": "stderr",
     "output_type": "stream",
     "text": [
<<<<<<< HEAD
      "100%|█████████████████████████████████████████████████████████████| 170/170 [10:13<00:00,  3.61s/it]\n"
=======
      "100%|███████████████████████████████████████████████████████████████| 60/60 [01:45<00:00,  1.76s/it]"
>>>>>>> origin/wmhuq
     ]
    },
    {
     "name": "stdout",
     "output_type": "stream",
     "text": [
      "SAVING RESULTS\n",
<<<<<<< HEAD
      "DONE\n",
      "nnunet2D_ens0_cv2\n"
=======
      "DONE\n"
>>>>>>> origin/wmhuq
     ]
    },
    {
     "name": "stderr",
     "output_type": "stream",
     "text": [
<<<<<<< HEAD
      "170it [01:13,  2.31it/s]\n",
      "100%|█████████████████████████████████████████████████████████████| 170/170 [03:30<00:00,  1.24s/it]\n"
=======
      "\n"
     ]
    }
   ],
   "source": [
    "ckpt_path = \"/home/s2208943/projects/twaibrain/twaibrain/brainexperiments/run_nnUNet_v2/training/model_ckpts/nnunet2D_ens0_cv2/epoch=46-step=8836.ckpt\"\n",
    "get_model_preds(2, model=model, model_name=\"nnunet2D\", ckpt_path=ckpt_path, model_func=deterministic_mean)"
   ]
  },
  {
   "cell_type": "code",
   "execution_count": 65,
   "id": "8c5a5347-f375-4308-87c5-7cc4b6e08d3d",
   "metadata": {},
   "outputs": [
    {
     "name": "stderr",
     "output_type": "stream",
     "text": [
      "60it [00:07,  8.39it/s]\n",
      "100%|███████████████████████████████████████████████████████████████| 60/60 [00:48<00:00,  1.24it/s]\n"
>>>>>>> origin/wmhuq
     ]
    },
    {
     "name": "stdout",
     "output_type": "stream",
     "text": [
      "GETTING PER SAMPLE RESULTS\n",
      "GENREATING UNCERTAINTY MAPS\n",
      "deterministic\n",
      "generating uncertainty maps\n"
     ]
    },
    {
     "name": "stderr",
     "output_type": "stream",
     "text": [
<<<<<<< HEAD
      "100%|█████████████████████████████████████████████████████████████| 170/170 [00:02<00:00, 63.98it/s]\n"
=======
      "100%|███████████████████████████████████████████████████████████████| 60/60 [00:00<00:00, 89.91it/s]\n"
>>>>>>> origin/wmhuq
     ]
    },
    {
     "name": "stdout",
     "output_type": "stream",
     "text": [
      "PAVPU\n"
     ]
    },
    {
     "name": "stderr",
     "output_type": "stream",
     "text": [
<<<<<<< HEAD
      "100%|█████████████████████████████████████████████████████████████| 170/170 [00:06<00:00, 25.68it/s]\n"
=======
      "100%|███████████████████████████████████████████████████████████████| 60/60 [00:01<00:00, 51.23it/s]\n"
>>>>>>> origin/wmhuq
     ]
    },
    {
     "name": "stdout",
     "output_type": "stream",
     "text": [
      "UEO\n"
     ]
    },
    {
     "name": "stderr",
     "output_type": "stream",
     "text": [
<<<<<<< HEAD
      "100%|█████████████████████████████████████████████████████████████| 170/170 [00:40<00:00,  4.17it/s]\n",
      "100%|█████████████████████████████████████████████████████████████| 170/170 [00:49<00:00,  3.41it/s]\n"
=======
      "100%|███████████████████████████████████████████████████████████████| 60/60 [00:07<00:00,  7.60it/s]\n",
      "100%|███████████████████████████████████████████████████████████████| 60/60 [00:09<00:00,  6.52it/s]\n"
>>>>>>> origin/wmhuq
     ]
    },
    {
     "name": "stdout",
     "output_type": "stream",
     "text": [
      "3D CC ANALYSIS\n"
     ]
    },
    {
     "name": "stderr",
     "output_type": "stream",
     "text": [
<<<<<<< HEAD
      "100%|█████████████████████████████████████████████████████████████| 170/170 [10:09<00:00,  3.58s/it]\n"
=======
      "100%|███████████████████████████████████████████████████████████████| 60/60 [01:46<00:00,  1.77s/it]"
>>>>>>> origin/wmhuq
     ]
    },
    {
     "name": "stdout",
     "output_type": "stream",
     "text": [
      "SAVING RESULTS\n",
<<<<<<< HEAD
      "DONE\n",
      "nnunet2D_ens0_cv5\n"
=======
      "DONE\n"
>>>>>>> origin/wmhuq
     ]
    },
    {
     "name": "stderr",
     "output_type": "stream",
     "text": [
<<<<<<< HEAD
      "170it [01:13,  2.30it/s]\n",
      "100%|█████████████████████████████████████████████████████████████| 170/170 [03:31<00:00,  1.24s/it]\n"
=======
      "\n"
     ]
    }
   ],
   "source": [
    "ckpt_path = \"/home/s2208943/projects/twaibrain/twaibrain/brainexperiments/run_nnUNet_v2/training/model_ckpts/nnunet2D_ens0_cv3/epoch=79-step=15040.ckpt\"\n",
    "get_model_preds(3, model=model, model_name=\"nnunet2D\", ckpt_path=ckpt_path, model_func=deterministic_mean)"
   ]
  },
  {
   "cell_type": "code",
   "execution_count": 66,
   "id": "213552aa-bcf7-45d2-967e-d360ed9f2456",
   "metadata": {},
   "outputs": [
    {
     "name": "stderr",
     "output_type": "stream",
     "text": [
      "60it [00:07,  8.41it/s]\n",
      "100%|███████████████████████████████████████████████████████████████| 60/60 [00:48<00:00,  1.24it/s]\n"
>>>>>>> origin/wmhuq
     ]
    },
    {
     "name": "stdout",
     "output_type": "stream",
     "text": [
      "GETTING PER SAMPLE RESULTS\n",
      "GENREATING UNCERTAINTY MAPS\n",
      "deterministic\n",
      "generating uncertainty maps\n"
     ]
    },
    {
     "name": "stderr",
     "output_type": "stream",
     "text": [
<<<<<<< HEAD
      "100%|█████████████████████████████████████████████████████████████| 170/170 [00:03<00:00, 54.20it/s]\n"
=======
      "100%|███████████████████████████████████████████████████████████████| 60/60 [00:00<00:00, 93.68it/s]\n"
>>>>>>> origin/wmhuq
     ]
    },
    {
     "name": "stdout",
     "output_type": "stream",
     "text": [
      "PAVPU\n"
     ]
    },
    {
     "name": "stderr",
     "output_type": "stream",
     "text": [
<<<<<<< HEAD
      "100%|█████████████████████████████████████████████████████████████| 170/170 [00:06<00:00, 24.52it/s]\n"
=======
      "100%|███████████████████████████████████████████████████████████████| 60/60 [00:01<00:00, 51.04it/s]\n"
>>>>>>> origin/wmhuq
     ]
    },
    {
     "name": "stdout",
     "output_type": "stream",
     "text": [
      "UEO\n"
     ]
    },
    {
     "name": "stderr",
     "output_type": "stream",
     "text": [
<<<<<<< HEAD
      "100%|█████████████████████████████████████████████████████████████| 170/170 [00:40<00:00,  4.18it/s]\n",
      "100%|█████████████████████████████████████████████████████████████| 170/170 [00:49<00:00,  3.41it/s]\n"
=======
      "100%|███████████████████████████████████████████████████████████████| 60/60 [00:07<00:00,  7.57it/s]\n",
      "100%|███████████████████████████████████████████████████████████████| 60/60 [00:09<00:00,  6.57it/s]\n"
>>>>>>> origin/wmhuq
     ]
    },
    {
     "name": "stdout",
     "output_type": "stream",
     "text": [
      "3D CC ANALYSIS\n"
     ]
    },
    {
     "name": "stderr",
     "output_type": "stream",
     "text": [
<<<<<<< HEAD
      "100%|█████████████████████████████████████████████████████████████| 170/170 [10:11<00:00,  3.59s/it]\n"
=======
      "100%|███████████████████████████████████████████████████████████████| 60/60 [01:43<00:00,  1.72s/it]"
>>>>>>> origin/wmhuq
     ]
    },
    {
     "name": "stdout",
     "output_type": "stream",
     "text": [
      "SAVING RESULTS\n",
<<<<<<< HEAD
      "DONE\n",
      "nnunet2D_ens0_cv1\n"
=======
      "DONE\n"
>>>>>>> origin/wmhuq
     ]
    },
    {
     "name": "stderr",
     "output_type": "stream",
     "text": [
<<<<<<< HEAD
      "170it [01:13,  2.31it/s]\n",
      "100%|█████████████████████████████████████████████████████████████| 170/170 [03:30<00:00,  1.24s/it]\n"
=======
      "\n"
     ]
    }
   ],
   "source": [
    "ckpt_path = \"/home/s2208943/projects/twaibrain/twaibrain/brainexperiments/run_nnUNet_v2/training/model_ckpts/nnunet2D_ens0_cv4/epoch=67-step=12784.ckpt\"\n",
    "get_model_preds(4, model=model, model_name=\"nnunet2D\", ckpt_path=ckpt_path, model_func=deterministic_mean)"
   ]
  },
  {
   "cell_type": "code",
   "execution_count": 67,
   "id": "62826749-10b8-4003-b719-adcbe230160b",
   "metadata": {},
   "outputs": [
    {
     "name": "stderr",
     "output_type": "stream",
     "text": [
      "60it [00:07,  8.41it/s]\n",
      "100%|███████████████████████████████████████████████████████████████| 60/60 [00:48<00:00,  1.23it/s]\n"
>>>>>>> origin/wmhuq
     ]
    },
    {
     "name": "stdout",
     "output_type": "stream",
     "text": [
      "GETTING PER SAMPLE RESULTS\n",
      "GENREATING UNCERTAINTY MAPS\n",
      "deterministic\n",
      "generating uncertainty maps\n"
     ]
    },
    {
     "name": "stderr",
     "output_type": "stream",
     "text": [
<<<<<<< HEAD
      "100%|█████████████████████████████████████████████████████████████| 170/170 [00:03<00:00, 55.41it/s]\n"
=======
      "100%|███████████████████████████████████████████████████████████████| 60/60 [00:00<00:00, 86.82it/s]\n"
>>>>>>> origin/wmhuq
     ]
    },
    {
     "name": "stdout",
     "output_type": "stream",
     "text": [
      "PAVPU\n"
     ]
    },
    {
     "name": "stderr",
     "output_type": "stream",
     "text": [
<<<<<<< HEAD
      "100%|█████████████████████████████████████████████████████████████| 170/170 [00:06<00:00, 24.92it/s]\n"
=======
      "100%|███████████████████████████████████████████████████████████████| 60/60 [00:01<00:00, 50.23it/s]\n"
>>>>>>> origin/wmhuq
     ]
    },
    {
     "name": "stdout",
     "output_type": "stream",
     "text": [
      "UEO\n"
     ]
    },
    {
     "name": "stderr",
     "output_type": "stream",
     "text": [
<<<<<<< HEAD
      "100%|█████████████████████████████████████████████████████████████| 170/170 [00:40<00:00,  4.19it/s]\n",
      "100%|█████████████████████████████████████████████████████████████| 170/170 [00:49<00:00,  3.41it/s]\n"
=======
      "100%|███████████████████████████████████████████████████████████████| 60/60 [00:07<00:00,  7.62it/s]\n",
      "100%|███████████████████████████████████████████████████████████████| 60/60 [00:09<00:00,  6.46it/s]\n"
>>>>>>> origin/wmhuq
     ]
    },
    {
     "name": "stdout",
     "output_type": "stream",
     "text": [
      "3D CC ANALYSIS\n"
     ]
    },
    {
     "name": "stderr",
     "output_type": "stream",
     "text": [
<<<<<<< HEAD
      "100%|█████████████████████████████████████████████████████████████| 170/170 [10:01<00:00,  3.54s/it]\n"
=======
      "100%|███████████████████████████████████████████████████████████████| 60/60 [01:45<00:00,  1.75s/it]"
>>>>>>> origin/wmhuq
     ]
    },
    {
     "name": "stdout",
     "output_type": "stream",
     "text": [
      "SAVING RESULTS\n",
      "DONE\n"
     ]
<<<<<<< HEAD
    }
   ],
   "source": [
    "base_folder = \"/home/s2208943/projects/twaibrain/twaibrain/brainexperiments/run_nnUNet_v2/training/model_ckpts/\"\n",
    "for folder in os.listdir(base_folder):\n",
    "    if \"3D\" in folder:\n",
    "        continue\n",
    "    print(folder)\n",
    "    cv_split = folder[-1]\n",
    "    ckpt = sorted([f for f in os.listdir(os.path.join(base_folder, folder)) if f.endswith(\".ckpt\")])[-1]\n",
    "    get_model_preds(cv_split, model=model, model_name=\"FCHALnnunet2D\", ckpt_path=os.path.join(base_folder, folder, ckpt), model_func=deterministic_mean)"
=======
    },
    {
     "name": "stderr",
     "output_type": "stream",
     "text": [
      "\n"
     ]
    }
   ],
   "source": [
    "ckpt_path = \"/home/s2208943/projects/twaibrain/twaibrain/brainexperiments/run_nnUNet_v2/training/model_ckpts/nnunet2D_ens0_cv5/epoch=39-step=7520.ckpt\"\n",
    "get_model_preds(5, model=model, model_name=\"nnunet2D\", ckpt_path=ckpt_path, model_func=deterministic_mean)"
>>>>>>> origin/wmhuq
   ]
  },
  {
   "cell_type": "markdown",
<<<<<<< HEAD
   "id": "2820a33d-a4d9-4e3d-a9bc-d3f2c18fe73d",
   "metadata": {},
   "source": [
    "### 2D MODEL M"
=======
   "id": "558b04ab-c367-4e27-bdaf-387ea4798cc6",
   "metadata": {},
   "source": [
    "### 2D NO AUG model M"
>>>>>>> origin/wmhuq
   ]
  },
  {
   "cell_type": "code",
<<<<<<< HEAD
   "execution_count": null,
   "id": "61af130d-dae8-432e-bb44-73b1fb483097",
   "metadata": {},
   "outputs": [
    {
     "name": "stdout",
     "output_type": "stream",
     "text": [
      "nnunet2D_ens0_cv4\n"
     ]
    },
    {
     "name": "stderr",
     "output_type": "stream",
     "text": [
      "60it [00:28,  2.13it/s]\n",
      "100%|███████████████████████████████████████████████████████████████| 60/60 [01:20<00:00,  1.35s/it]\n"
=======
   "execution_count": 68,
   "id": "72660326-582a-47a1-ac87-1e94f5d4f2ff",
   "metadata": {},
   "outputs": [
    {
     "name": "stderr",
     "output_type": "stream",
     "text": [
      "60it [00:07,  8.42it/s]\n",
      "100%|███████████████████████████████████████████████████████████████| 60/60 [00:48<00:00,  1.23it/s]\n"
>>>>>>> origin/wmhuq
     ]
    },
    {
     "name": "stdout",
     "output_type": "stream",
     "text": [
      "GETTING PER SAMPLE RESULTS\n",
      "GENREATING UNCERTAINTY MAPS\n",
      "deterministic\n",
      "generating uncertainty maps\n"
     ]
    },
    {
     "name": "stderr",
     "output_type": "stream",
     "text": [
<<<<<<< HEAD
      "100%|███████████████████████████████████████████████████████████████| 60/60 [00:01<00:00, 31.35it/s]\n"
=======
      "100%|███████████████████████████████████████████████████████████████| 60/60 [00:00<00:00, 88.91it/s]\n"
>>>>>>> origin/wmhuq
     ]
    },
    {
     "name": "stdout",
     "output_type": "stream",
     "text": [
      "PAVPU\n"
     ]
    },
    {
     "name": "stderr",
     "output_type": "stream",
     "text": [
<<<<<<< HEAD
      "100%|███████████████████████████████████████████████████████████████| 60/60 [00:02<00:00, 24.01it/s]\n"
=======
      "100%|███████████████████████████████████████████████████████████████| 60/60 [00:01<00:00, 50.05it/s]\n"
>>>>>>> origin/wmhuq
     ]
    },
    {
     "name": "stdout",
     "output_type": "stream",
     "text": [
      "UEO\n"
     ]
    },
    {
     "name": "stderr",
     "output_type": "stream",
     "text": [
<<<<<<< HEAD
      "100%|███████████████████████████████████████████████████████████████| 60/60 [00:14<00:00,  4.18it/s]\n",
      "100%|███████████████████████████████████████████████████████████████| 60/60 [00:17<00:00,  3.44it/s]\n"
=======
      "100%|███████████████████████████████████████████████████████████████| 60/60 [00:07<00:00,  7.59it/s]\n",
      "100%|███████████████████████████████████████████████████████████████| 60/60 [00:09<00:00,  6.49it/s]\n"
>>>>>>> origin/wmhuq
     ]
    },
    {
     "name": "stdout",
     "output_type": "stream",
     "text": [
      "3D CC ANALYSIS\n"
     ]
    },
    {
     "name": "stderr",
     "output_type": "stream",
     "text": [
<<<<<<< HEAD
      "100%|███████████████████████████████████████████████████████████████| 60/60 [03:32<00:00,  3.55s/it]\n"
=======
      "100%|███████████████████████████████████████████████████████████████| 60/60 [01:40<00:00,  1.67s/it]"
>>>>>>> origin/wmhuq
     ]
    },
    {
     "name": "stdout",
     "output_type": "stream",
     "text": [
      "SAVING RESULTS\n",
<<<<<<< HEAD
      "DONE\n",
      "nnunet2D_ens0_cv3\n"
=======
      "DONE\n"
>>>>>>> origin/wmhuq
     ]
    },
    {
     "name": "stderr",
     "output_type": "stream",
     "text": [
<<<<<<< HEAD
      "60it [00:25,  2.37it/s]\n",
      "100%|███████████████████████████████████████████████████████████████| 60/60 [01:14<00:00,  1.24s/it]\n"
=======
      "\n"
     ]
    }
   ],
   "source": [
    "ckpt_path = \"/home/s2208943/projects/twaibrain/twaibrain/brainexperiments/run_nnUNet_v2/training/model_ckpts/nnunet2Dnoaug_ens0_cv0/epoch=85-step=16168.ckpt\"\n",
    "get_model_preds(0, model=model, model_name=\"nnunetNOAUG2D\", ckpt_path=ckpt_path, model_func=deterministic_mean)"
   ]
  },
  {
   "cell_type": "code",
   "execution_count": 69,
   "id": "69882603-b087-457d-9682-9d1e4762eb7e",
   "metadata": {},
   "outputs": [
    {
     "name": "stderr",
     "output_type": "stream",
     "text": [
      "60it [00:07,  8.41it/s]\n",
      "100%|███████████████████████████████████████████████████████████████| 60/60 [00:48<00:00,  1.23it/s]\n"
>>>>>>> origin/wmhuq
     ]
    },
    {
     "name": "stdout",
     "output_type": "stream",
     "text": [
      "GETTING PER SAMPLE RESULTS\n",
      "GENREATING UNCERTAINTY MAPS\n",
      "deterministic\n",
      "generating uncertainty maps\n"
     ]
    },
    {
     "name": "stderr",
     "output_type": "stream",
     "text": [
<<<<<<< HEAD
      "100%|███████████████████████████████████████████████████████████████| 60/60 [00:01<00:00, 35.49it/s]\n"
=======
      "100%|██████████████████████████████████████████████████████████████| 60/60 [00:00<00:00, 100.59it/s]\n"
>>>>>>> origin/wmhuq
     ]
    },
    {
     "name": "stdout",
     "output_type": "stream",
     "text": [
      "PAVPU\n"
     ]
    },
    {
     "name": "stderr",
     "output_type": "stream",
     "text": [
<<<<<<< HEAD
      "100%|███████████████████████████████████████████████████████████████| 60/60 [00:02<00:00, 24.77it/s]\n"
=======
      "100%|███████████████████████████████████████████████████████████████| 60/60 [00:01<00:00, 51.28it/s]\n"
>>>>>>> origin/wmhuq
     ]
    },
    {
     "name": "stdout",
     "output_type": "stream",
     "text": [
      "UEO\n"
     ]
    },
    {
     "name": "stderr",
     "output_type": "stream",
     "text": [
<<<<<<< HEAD
      "100%|███████████████████████████████████████████████████████████████| 60/60 [00:14<00:00,  4.21it/s]\n",
      "100%|███████████████████████████████████████████████████████████████| 60/60 [00:17<00:00,  3.47it/s]\n"
=======
      "100%|███████████████████████████████████████████████████████████████| 60/60 [00:07<00:00,  7.59it/s]\n",
      "100%|███████████████████████████████████████████████████████████████| 60/60 [00:09<00:00,  6.53it/s]\n"
>>>>>>> origin/wmhuq
     ]
    },
    {
     "name": "stdout",
     "output_type": "stream",
     "text": [
      "3D CC ANALYSIS\n"
     ]
    },
    {
     "name": "stderr",
     "output_type": "stream",
     "text": [
<<<<<<< HEAD
      "100%|███████████████████████████████████████████████████████████████| 60/60 [03:44<00:00,  3.74s/it]\n"
=======
      "100%|███████████████████████████████████████████████████████████████| 60/60 [01:41<00:00,  1.69s/it]"
>>>>>>> origin/wmhuq
     ]
    },
    {
     "name": "stdout",
     "output_type": "stream",
     "text": [
      "SAVING RESULTS\n",
<<<<<<< HEAD
      "DONE\n",
      "nnunet2D_ens0_cv0\n"
=======
      "DONE\n"
>>>>>>> origin/wmhuq
     ]
    },
    {
     "name": "stderr",
     "output_type": "stream",
     "text": [
<<<<<<< HEAD
      "60it [00:25,  2.36it/s]\n",
      "100%|███████████████████████████████████████████████████████████████| 60/60 [01:14<00:00,  1.24s/it]\n"
=======
      "\n"
     ]
    }
   ],
   "source": [
    "ckpt_path = \"/home/s2208943/projects/twaibrain/twaibrain/brainexperiments/run_nnUNet_v2/training/model_ckpts/nnunet2Dnoaug_ens0_cv1/epoch=66-step=12596.ckpt\"\n",
    "get_model_preds(1, model=model, model_name=\"nnunetNOAUG2D\", ckpt_path=ckpt_path, model_func=deterministic_mean)"
   ]
  },
  {
   "cell_type": "code",
   "execution_count": 70,
   "id": "df58aac7-6cef-4672-b99d-26101ebf628f",
   "metadata": {},
   "outputs": [
    {
     "name": "stderr",
     "output_type": "stream",
     "text": [
      "60it [00:07,  8.46it/s]\n",
      "100%|███████████████████████████████████████████████████████████████| 60/60 [00:48<00:00,  1.23it/s]\n"
>>>>>>> origin/wmhuq
     ]
    },
    {
     "name": "stdout",
     "output_type": "stream",
     "text": [
      "GETTING PER SAMPLE RESULTS\n",
      "GENREATING UNCERTAINTY MAPS\n",
      "deterministic\n",
      "generating uncertainty maps\n"
     ]
    },
    {
     "name": "stderr",
     "output_type": "stream",
     "text": [
<<<<<<< HEAD
      "100%|███████████████████████████████████████████████████████████████| 60/60 [00:01<00:00, 35.40it/s]\n"
=======
      "100%|███████████████████████████████████████████████████████████████| 60/60 [00:00<00:00, 90.10it/s]\n"
>>>>>>> origin/wmhuq
     ]
    },
    {
     "name": "stdout",
     "output_type": "stream",
     "text": [
      "PAVPU\n"
     ]
    },
    {
     "name": "stderr",
     "output_type": "stream",
     "text": [
<<<<<<< HEAD
      "100%|███████████████████████████████████████████████████████████████| 60/60 [00:02<00:00, 25.32it/s]\n"
=======
      "100%|███████████████████████████████████████████████████████████████| 60/60 [00:01<00:00, 51.42it/s]\n"
>>>>>>> origin/wmhuq
     ]
    },
    {
     "name": "stdout",
     "output_type": "stream",
     "text": [
      "UEO\n"
     ]
    },
    {
     "name": "stderr",
     "output_type": "stream",
     "text": [
<<<<<<< HEAD
      "100%|███████████████████████████████████████████████████████████████| 60/60 [00:14<00:00,  4.25it/s]\n",
      " 57%|███████████████████████████████████▋                           | 34/60 [00:09<00:07,  3.46it/s]"
=======
      "100%|███████████████████████████████████████████████████████████████| 60/60 [00:07<00:00,  7.52it/s]\n",
      "100%|███████████████████████████████████████████████████████████████| 60/60 [00:09<00:00,  6.59it/s]\n"
     ]
    },
    {
     "name": "stdout",
     "output_type": "stream",
     "text": [
      "3D CC ANALYSIS\n"
     ]
    },
    {
     "name": "stderr",
     "output_type": "stream",
     "text": [
      "100%|███████████████████████████████████████████████████████████████| 60/60 [01:43<00:00,  1.72s/it]"
     ]
    },
    {
     "name": "stdout",
     "output_type": "stream",
     "text": [
      "SAVING RESULTS\n",
      "DONE\n"
     ]
    },
    {
     "name": "stderr",
     "output_type": "stream",
     "text": [
      "\n"
>>>>>>> origin/wmhuq
     ]
    }
   ],
   "source": [
<<<<<<< HEAD
    "base_folder = \"/home/s2208943/projects/twaibrain/twaibrain/brainexperiments/run_nnUNet_v2/training/model_ckpts/\"\n",
    "for folder in os.listdir(base_folder):\n",
    "    if \"3D\" in folder:\n",
    "        continue\n",
    "    print(folder)\n",
    "    cv_split = folder[-1]\n",
    "    ckpt = sorted([f for f in os.listdir(os.path.join(base_folder, folder)) if f.endswith(\".ckpt\")])[-1]\n",
    "    get_model_preds(cv_split, model=model, model_name=\"nnunet2D\", ckpt_path=os.path.join(base_folder, folder, ckpt), model_func=deterministic_mean)"
=======
    "ckpt_path = \"/home/s2208943/projects/twaibrain/twaibrain/brainexperiments/run_nnUNet_v2/training/model_ckpts/nnunet2Dnoaug_ens0_cv2/epoch=32-step=6204.ckpt\"\n",
    "get_model_preds(2, model=model, model_name=\"nnunetNOAUG2D\", ckpt_path=ckpt_path, model_func=deterministic_mean)"
>>>>>>> origin/wmhuq
   ]
  },
  {
   "cell_type": "code",
<<<<<<< HEAD
   "execution_count": 1,
   "id": "a0bcbd70-aa3b-4dd2-80f8-5f25287b55e0",
   "metadata": {},
   "outputs": [
    {
     "name": "stdout",
     "output_type": "stream",
     "text": [
      "done\n"
=======
   "execution_count": 71,
   "id": "0140e8a5-569a-4a22-8948-551f10c5a6e6",
   "metadata": {},
   "outputs": [
    {
     "name": "stderr",
     "output_type": "stream",
     "text": [
      "60it [00:07,  8.43it/s]\n",
      "100%|███████████████████████████████████████████████████████████████| 60/60 [00:47<00:00,  1.25it/s]\n"
     ]
    },
    {
     "name": "stdout",
     "output_type": "stream",
     "text": [
      "GETTING PER SAMPLE RESULTS\n",
      "GENREATING UNCERTAINTY MAPS\n",
      "deterministic\n",
      "generating uncertainty maps\n"
     ]
    },
    {
     "name": "stderr",
     "output_type": "stream",
     "text": [
      "100%|███████████████████████████████████████████████████████████████| 60/60 [00:00<00:00, 91.70it/s]\n"
     ]
    },
    {
     "name": "stdout",
     "output_type": "stream",
     "text": [
      "PAVPU\n"
     ]
    },
    {
     "name": "stderr",
     "output_type": "stream",
     "text": [
      "100%|███████████████████████████████████████████████████████████████| 60/60 [00:01<00:00, 51.24it/s]\n"
     ]
    },
    {
     "name": "stdout",
     "output_type": "stream",
     "text": [
      "UEO\n"
     ]
    },
    {
     "name": "stderr",
     "output_type": "stream",
     "text": [
      "100%|███████████████████████████████████████████████████████████████| 60/60 [00:07<00:00,  7.61it/s]\n",
      "100%|███████████████████████████████████████████████████████████████| 60/60 [00:09<00:00,  6.45it/s]\n"
     ]
    },
    {
     "name": "stdout",
     "output_type": "stream",
     "text": [
      "3D CC ANALYSIS\n"
     ]
    },
    {
     "name": "stderr",
     "output_type": "stream",
     "text": [
      "100%|███████████████████████████████████████████████████████████████| 60/60 [01:38<00:00,  1.65s/it]"
     ]
    },
    {
     "name": "stdout",
     "output_type": "stream",
     "text": [
      "SAVING RESULTS\n",
      "DONE\n"
     ]
    },
    {
     "name": "stderr",
     "output_type": "stream",
     "text": [
      "\n"
>>>>>>> origin/wmhuq
     ]
    }
   ],
   "source": [
<<<<<<< HEAD
    "print(\"done\")"
=======
    "ckpt_path = \"/home/s2208943/projects/twaibrain/twaibrain/brainexperiments/run_nnUNet_v2/training/model_ckpts/nnunet2Dnoaug_ens0_cv3/epoch=78-step=14852.ckpt\"\n",
    "get_model_preds(3, model=model, model_name=\"nnunetNOAUG2D\", ckpt_path=ckpt_path, model_func=deterministic_mean)"
>>>>>>> origin/wmhuq
   ]
  },
  {
   "cell_type": "code",
<<<<<<< HEAD
   "execution_count": null,
   "id": "01e76f2c-c011-4610-9530-7f041c2083f0",
   "metadata": {},
   "outputs": [],
   "source": []
  },
  {
   "cell_type": "code",
   "execution_count": null,
   "id": "843b3fbe-cd1b-4b2a-a8f2-8b0e17d71fa2",
   "metadata": {},
   "outputs": [],
   "source": []
  },
  {
   "cell_type": "code",
   "execution_count": null,
   "id": "63c6457a-2856-4e7e-b0a2-cac83922c637",
   "metadata": {},
   "outputs": [],
   "source": []
  },
  {
   "cell_type": "code",
   "execution_count": null,
   "id": "9f527ea4-e574-44f3-8f5e-2ae25468f050",
   "metadata": {},
   "outputs": [],
   "source": []
  },
  {
   "cell_type": "code",
   "execution_count": null,
   "id": "7bc07c1e-7fa8-4e29-a7d8-002b5c61748b",
   "metadata": {},
   "outputs": [],
   "source": []
  },
  {
   "cell_type": "code",
   "execution_count": null,
   "id": "70fbd6b2-e242-4df3-9695-3bec33b71475",
   "metadata": {},
   "outputs": [],
   "source": []
=======
   "execution_count": 72,
   "id": "3bc7425d-6e54-4ed5-a34e-e3ddf4d186da",
   "metadata": {},
   "outputs": [
    {
     "name": "stderr",
     "output_type": "stream",
     "text": [
      "60it [00:07,  8.48it/s]\n",
      "100%|███████████████████████████████████████████████████████████████| 60/60 [00:49<00:00,  1.22it/s]\n"
     ]
    },
    {
     "name": "stdout",
     "output_type": "stream",
     "text": [
      "GETTING PER SAMPLE RESULTS\n",
      "GENREATING UNCERTAINTY MAPS\n",
      "deterministic\n",
      "generating uncertainty maps\n"
     ]
    },
    {
     "name": "stderr",
     "output_type": "stream",
     "text": [
      "100%|███████████████████████████████████████████████████████████████| 60/60 [00:00<00:00, 83.62it/s]\n"
     ]
    },
    {
     "name": "stdout",
     "output_type": "stream",
     "text": [
      "PAVPU\n"
     ]
    },
    {
     "name": "stderr",
     "output_type": "stream",
     "text": [
      "100%|███████████████████████████████████████████████████████████████| 60/60 [00:01<00:00, 51.10it/s]\n"
     ]
    },
    {
     "name": "stdout",
     "output_type": "stream",
     "text": [
      "UEO\n"
     ]
    },
    {
     "name": "stderr",
     "output_type": "stream",
     "text": [
      "100%|███████████████████████████████████████████████████████████████| 60/60 [00:07<00:00,  7.59it/s]\n",
      "100%|███████████████████████████████████████████████████████████████| 60/60 [00:09<00:00,  6.51it/s]\n"
     ]
    },
    {
     "name": "stdout",
     "output_type": "stream",
     "text": [
      "3D CC ANALYSIS\n"
     ]
    },
    {
     "name": "stderr",
     "output_type": "stream",
     "text": [
      "100%|███████████████████████████████████████████████████████████████| 60/60 [01:41<00:00,  1.68s/it]"
     ]
    },
    {
     "name": "stdout",
     "output_type": "stream",
     "text": [
      "SAVING RESULTS\n",
      "DONE\n"
     ]
    },
    {
     "name": "stderr",
     "output_type": "stream",
     "text": [
      "\n"
     ]
    }
   ],
   "source": [
    "ckpt_path = \"/home/s2208943/projects/twaibrain/twaibrain/brainexperiments/run_nnUNet_v2/training/model_ckpts/nnunet2Dnoaug_ens0_cv4/epoch=80-step=15228.ckpt\"\n",
    "get_model_preds(4, model=model, model_name=\"nnunetNOAUG2D\", ckpt_path=ckpt_path, model_func=deterministic_mean)"
   ]
  },
  {
   "cell_type": "code",
   "execution_count": 73,
   "id": "9dd8d250-8e3c-47ed-aeb8-660ee3e13ea8",
   "metadata": {},
   "outputs": [
    {
     "name": "stderr",
     "output_type": "stream",
     "text": [
      "60it [00:07,  8.34it/s]\n",
      "100%|███████████████████████████████████████████████████████████████| 60/60 [00:48<00:00,  1.23it/s]\n"
     ]
    },
    {
     "name": "stdout",
     "output_type": "stream",
     "text": [
      "GETTING PER SAMPLE RESULTS\n",
      "GENREATING UNCERTAINTY MAPS\n",
      "deterministic\n",
      "generating uncertainty maps\n"
     ]
    },
    {
     "name": "stderr",
     "output_type": "stream",
     "text": [
      "100%|███████████████████████████████████████████████████████████████| 60/60 [00:00<00:00, 86.23it/s]\n"
     ]
    },
    {
     "name": "stdout",
     "output_type": "stream",
     "text": [
      "PAVPU\n"
     ]
    },
    {
     "name": "stderr",
     "output_type": "stream",
     "text": [
      "100%|███████████████████████████████████████████████████████████████| 60/60 [00:01<00:00, 50.90it/s]\n"
     ]
    },
    {
     "name": "stdout",
     "output_type": "stream",
     "text": [
      "UEO\n"
     ]
    },
    {
     "name": "stderr",
     "output_type": "stream",
     "text": [
      "100%|███████████████████████████████████████████████████████████████| 60/60 [00:07<00:00,  7.52it/s]\n",
      "100%|███████████████████████████████████████████████████████████████| 60/60 [00:09<00:00,  6.51it/s]\n"
     ]
    },
    {
     "name": "stdout",
     "output_type": "stream",
     "text": [
      "3D CC ANALYSIS\n"
     ]
    },
    {
     "name": "stderr",
     "output_type": "stream",
     "text": [
      "100%|███████████████████████████████████████████████████████████████| 60/60 [01:42<00:00,  1.71s/it]"
     ]
    },
    {
     "name": "stdout",
     "output_type": "stream",
     "text": [
      "SAVING RESULTS\n",
      "DONE\n"
     ]
    },
    {
     "name": "stderr",
     "output_type": "stream",
     "text": [
      "\n"
     ]
    }
   ],
   "source": [
    "ckpt_path = \"/home/s2208943/projects/twaibrain/twaibrain/brainexperiments/run_nnUNet_v2/training/model_ckpts/nnunet2Dnoaug_ens0_cv5/epoch=87-step=16544.ckpt\"\n",
    "get_model_preds(5, model=model, model_name=\"nnunetNOAUG2D\", ckpt_path=ckpt_path, model_func=deterministic_mean)"
   ]
  },
  {
   "cell_type": "markdown",
   "id": "341fdd33-91ef-4a74-beda-929f1ed53995",
   "metadata": {},
   "source": [
    "### 2D model standard no AUG"
   ]
  },
  {
   "cell_type": "code",
   "execution_count": 76,
   "id": "511ed841-fef9-4867-ab3d-8504535e5c99",
   "metadata": {},
   "outputs": [],
   "source": [
    "model_config_s = \"/home/s2208943/projects/twaibrain/twaibrain/braintorch/models/nnUNet/cvd_configs/old_nnUNetPlans_a40_standard_pl.json\"\n",
    "\n",
    "with open(model_config_s) as f:\n",
    "    model_config_s = json.load(f)"
   ]
  },
  {
   "cell_type": "code",
   "execution_count": 77,
   "id": "2c99f383-03e5-463e-8eca-030978c606d3",
   "metadata": {},
   "outputs": [],
   "source": [
    "dims = \"2d\"\n",
    "config_s = model_config_s['configurations'][dims]['architecture']\n",
    "network_name = config_s['network_class_name']\n",
    "kw_requires_import = config_s['_kw_requires_import']\n",
    "\n",
    "model_s = get_network_from_plans(\n",
    "    arch_class_name=network_name,\n",
    "    arch_kwargs=config_s['arch_kwargs'],\n",
    "    arch_kwargs_req_import=kw_requires_import,\n",
    "    input_channels=3,\n",
    "    output_channels=2,\n",
    "    allow_init=True,\n",
    "    deep_supervision=True,\n",
    ")"
   ]
  },
  {
   "cell_type": "code",
   "execution_count": 80,
   "id": "68796eba-2050-4be8-b6bc-ec585aaa84fb",
   "metadata": {},
   "outputs": [
    {
     "name": "stdout",
     "output_type": "stream",
     "text": [
      "../training/model_ckpts/nnunet2DSTANDARDnoaug_ens0_cv0:\n",
      "'epoch=68-step=12972.ckpt'   \u001b[0m\u001b[01;34mlightning_logs\u001b[0m/\n",
      "\n",
      "../training/model_ckpts/nnunet2DSTANDARDnoaug_ens0_cv1:\n",
      "'epoch=92-step=17484.ckpt'   \u001b[01;34mlightning_logs\u001b[0m/\n",
      "\n",
      "../training/model_ckpts/nnunet2DSTANDARDnoaug_ens0_cv2:\n",
      "'epoch=66-step=12596.ckpt'   \u001b[01;34mlightning_logs\u001b[0m/\n",
      "\n",
      "../training/model_ckpts/nnunet2DSTANDARDnoaug_ens0_cv3:\n",
      "'epoch=104-step=19740.ckpt'   \u001b[01;34mlightning_logs\u001b[0m/\n",
      "\n",
      "../training/model_ckpts/nnunet2DSTANDARDnoaug_ens0_cv4:\n",
      "'epoch=5-step=1128.ckpt'  'epoch=71-step=13536.ckpt'   \u001b[01;34mlightning_logs\u001b[0m/\n",
      "\n",
      "../training/model_ckpts/nnunet2DSTANDARDnoaug_ens0_cv5:\n",
      "'epoch=104-step=19740.ckpt'   \u001b[01;34mlightning_logs\u001b[0m/\n"
     ]
    }
   ],
   "source": [
    "ls ../training/model_ckpts/nnunet2DSTANDARDnoaug_ens0*"
   ]
  },
  {
   "cell_type": "code",
   "execution_count": 78,
   "id": "85f86fdf-5cfd-4cd8-a534-077e01480f0f",
   "metadata": {},
   "outputs": [
    {
     "name": "stderr",
     "output_type": "stream",
     "text": [
      "60it [00:04, 13.34it/s]\n",
      "100%|███████████████████████████████████████████████████████████████| 60/60 [00:49<00:00,  1.22it/s]\n"
     ]
    },
    {
     "name": "stdout",
     "output_type": "stream",
     "text": [
      "GETTING PER SAMPLE RESULTS\n",
      "GENREATING UNCERTAINTY MAPS\n",
      "deterministic\n",
      "generating uncertainty maps\n"
     ]
    },
    {
     "name": "stderr",
     "output_type": "stream",
     "text": [
      "100%|███████████████████████████████████████████████████████████████| 60/60 [00:00<00:00, 87.26it/s]\n"
     ]
    },
    {
     "name": "stdout",
     "output_type": "stream",
     "text": [
      "PAVPU\n"
     ]
    },
    {
     "name": "stderr",
     "output_type": "stream",
     "text": [
      "100%|███████████████████████████████████████████████████████████████| 60/60 [00:01<00:00, 50.81it/s]\n"
     ]
    },
    {
     "name": "stdout",
     "output_type": "stream",
     "text": [
      "UEO\n"
     ]
    },
    {
     "name": "stderr",
     "output_type": "stream",
     "text": [
      "100%|███████████████████████████████████████████████████████████████| 60/60 [00:07<00:00,  7.54it/s]\n",
      "100%|███████████████████████████████████████████████████████████████| 60/60 [00:09<00:00,  6.49it/s]\n"
     ]
    },
    {
     "name": "stdout",
     "output_type": "stream",
     "text": [
      "3D CC ANALYSIS\n"
     ]
    },
    {
     "name": "stderr",
     "output_type": "stream",
     "text": [
      "100%|███████████████████████████████████████████████████████████████| 60/60 [01:44<00:00,  1.74s/it]"
     ]
    },
    {
     "name": "stdout",
     "output_type": "stream",
     "text": [
      "SAVING RESULTS\n",
      "DONE\n"
     ]
    },
    {
     "name": "stderr",
     "output_type": "stream",
     "text": [
      "\n"
     ]
    }
   ],
   "source": [
    "ckpt_path = \"/home/s2208943/projects/twaibrain/twaibrain/brainexperiments/run_nnUNet_v2/training/model_ckpts/nnunet2DSTANDARDnoaug_ens0_cv0/epoch=68-step=12972.ckpt\"\n",
    "get_model_preds(0, model=model_s, model_name=\"nnunetNOaugStandard2D\", ckpt_path=ckpt_path, model_func=deterministic_mean)"
   ]
  },
  {
   "cell_type": "code",
   "execution_count": 82,
   "id": "5d4dfc10-78d6-4f2a-937b-08d1d8fb146c",
   "metadata": {},
   "outputs": [
    {
     "name": "stderr",
     "output_type": "stream",
     "text": [
      "60it [00:04, 13.80it/s]\n",
      "100%|███████████████████████████████████████████████████████████████| 60/60 [00:49<00:00,  1.22it/s]\n"
     ]
    },
    {
     "name": "stdout",
     "output_type": "stream",
     "text": [
      "GETTING PER SAMPLE RESULTS\n",
      "GENREATING UNCERTAINTY MAPS\n",
      "deterministic\n",
      "generating uncertainty maps\n"
     ]
    },
    {
     "name": "stderr",
     "output_type": "stream",
     "text": [
      "100%|███████████████████████████████████████████████████████████████| 60/60 [00:00<00:00, 81.99it/s]\n"
     ]
    },
    {
     "name": "stdout",
     "output_type": "stream",
     "text": [
      "PAVPU\n"
     ]
    },
    {
     "name": "stderr",
     "output_type": "stream",
     "text": [
      "100%|███████████████████████████████████████████████████████████████| 60/60 [00:01<00:00, 49.32it/s]\n"
     ]
    },
    {
     "name": "stdout",
     "output_type": "stream",
     "text": [
      "UEO\n"
     ]
    },
    {
     "name": "stderr",
     "output_type": "stream",
     "text": [
      "100%|███████████████████████████████████████████████████████████████| 60/60 [00:08<00:00,  7.40it/s]\n",
      "100%|███████████████████████████████████████████████████████████████| 60/60 [00:09<00:00,  6.50it/s]\n"
     ]
    },
    {
     "name": "stdout",
     "output_type": "stream",
     "text": [
      "3D CC ANALYSIS\n"
     ]
    },
    {
     "name": "stderr",
     "output_type": "stream",
     "text": [
      "100%|███████████████████████████████████████████████████████████████| 60/60 [01:43<00:00,  1.72s/it]"
     ]
    },
    {
     "name": "stdout",
     "output_type": "stream",
     "text": [
      "SAVING RESULTS\n",
      "DONE\n"
     ]
    },
    {
     "name": "stderr",
     "output_type": "stream",
     "text": [
      "\n"
     ]
    }
   ],
   "source": [
    "ckpt_path = \"/home/s2208943/projects/twaibrain/twaibrain/brainexperiments/run_nnUNet_v2/training/model_ckpts/nnunet2DSTANDARDnoaug_ens0_cv1/epoch=92-step=17484.ckpt\"\n",
    "get_model_preds(1, model=model_s, model_name=\"nnunetNOaugStandard2D\", ckpt_path=ckpt_path, model_func=deterministic_mean)"
   ]
  },
  {
   "cell_type": "code",
   "execution_count": 83,
   "id": "25acfd70-07a9-4ac9-8b01-a8de0fbc7ad9",
   "metadata": {},
   "outputs": [
    {
     "name": "stderr",
     "output_type": "stream",
     "text": [
      "60it [00:04, 14.46it/s]\n",
      "100%|███████████████████████████████████████████████████████████████| 60/60 [00:49<00:00,  1.22it/s]\n"
     ]
    },
    {
     "name": "stdout",
     "output_type": "stream",
     "text": [
      "GETTING PER SAMPLE RESULTS\n",
      "GENREATING UNCERTAINTY MAPS\n",
      "deterministic\n",
      "generating uncertainty maps\n"
     ]
    },
    {
     "name": "stderr",
     "output_type": "stream",
     "text": [
      "100%|███████████████████████████████████████████████████████████████| 60/60 [00:00<00:00, 82.92it/s]\n"
     ]
    },
    {
     "name": "stdout",
     "output_type": "stream",
     "text": [
      "PAVPU\n"
     ]
    },
    {
     "name": "stderr",
     "output_type": "stream",
     "text": [
      "100%|███████████████████████████████████████████████████████████████| 60/60 [00:01<00:00, 48.62it/s]\n"
     ]
    },
    {
     "name": "stdout",
     "output_type": "stream",
     "text": [
      "UEO\n"
     ]
    },
    {
     "name": "stderr",
     "output_type": "stream",
     "text": [
      "100%|███████████████████████████████████████████████████████████████| 60/60 [00:07<00:00,  7.56it/s]\n",
      "100%|███████████████████████████████████████████████████████████████| 60/60 [00:09<00:00,  6.59it/s]\n"
     ]
    },
    {
     "name": "stdout",
     "output_type": "stream",
     "text": [
      "3D CC ANALYSIS\n"
     ]
    },
    {
     "name": "stderr",
     "output_type": "stream",
     "text": [
      "100%|███████████████████████████████████████████████████████████████| 60/60 [01:43<00:00,  1.72s/it]"
     ]
    },
    {
     "name": "stdout",
     "output_type": "stream",
     "text": [
      "SAVING RESULTS\n",
      "DONE\n"
     ]
    },
    {
     "name": "stderr",
     "output_type": "stream",
     "text": [
      "\n"
     ]
    }
   ],
   "source": [
    "ckpt_path = \"/home/s2208943/projects/twaibrain/twaibrain/brainexperiments/run_nnUNet_v2/training/model_ckpts/nnunet2DSTANDARDnoaug_ens0_cv2/epoch=66-step=12596.ckpt\"\n",
    "get_model_preds(2, model=model_s, model_name=\"nnunetNOaugStandard2D\", ckpt_path=ckpt_path, model_func=deterministic_mean)"
   ]
  },
  {
   "cell_type": "code",
   "execution_count": 84,
   "id": "8ef8c00a-abde-4c55-83e1-89a1b036cce8",
   "metadata": {},
   "outputs": [
    {
     "name": "stderr",
     "output_type": "stream",
     "text": [
      "60it [00:04, 13.75it/s]\n",
      "100%|███████████████████████████████████████████████████████████████| 60/60 [00:48<00:00,  1.23it/s]\n"
     ]
    },
    {
     "name": "stdout",
     "output_type": "stream",
     "text": [
      "GETTING PER SAMPLE RESULTS\n",
      "GENREATING UNCERTAINTY MAPS\n",
      "deterministic\n",
      "generating uncertainty maps\n"
     ]
    },
    {
     "name": "stderr",
     "output_type": "stream",
     "text": [
      "100%|███████████████████████████████████████████████████████████████| 60/60 [00:00<00:00, 82.61it/s]\n"
     ]
    },
    {
     "name": "stdout",
     "output_type": "stream",
     "text": [
      "PAVPU\n"
     ]
    },
    {
     "name": "stderr",
     "output_type": "stream",
     "text": [
      "100%|███████████████████████████████████████████████████████████████| 60/60 [00:01<00:00, 50.63it/s]\n"
     ]
    },
    {
     "name": "stdout",
     "output_type": "stream",
     "text": [
      "UEO\n"
     ]
    },
    {
     "name": "stderr",
     "output_type": "stream",
     "text": [
      "100%|███████████████████████████████████████████████████████████████| 60/60 [00:07<00:00,  7.54it/s]\n",
      "100%|███████████████████████████████████████████████████████████████| 60/60 [00:09<00:00,  6.56it/s]\n"
     ]
    },
    {
     "name": "stdout",
     "output_type": "stream",
     "text": [
      "3D CC ANALYSIS\n"
     ]
    },
    {
     "name": "stderr",
     "output_type": "stream",
     "text": [
      "100%|███████████████████████████████████████████████████████████████| 60/60 [01:41<00:00,  1.70s/it]"
     ]
    },
    {
     "name": "stdout",
     "output_type": "stream",
     "text": [
      "SAVING RESULTS\n",
      "DONE\n"
     ]
    },
    {
     "name": "stderr",
     "output_type": "stream",
     "text": [
      "\n"
     ]
    }
   ],
   "source": [
    "ckpt_path = \"/home/s2208943/projects/twaibrain/twaibrain/brainexperiments/run_nnUNet_v2/training/model_ckpts/nnunet2DSTANDARDnoaug_ens0_cv3/epoch=104-step=19740.ckpt\"\n",
    "get_model_preds(3, model=model_s, model_name=\"nnunetNOaugStandard2D\", ckpt_path=ckpt_path, model_func=deterministic_mean)"
   ]
  },
  {
   "cell_type": "code",
   "execution_count": 85,
   "id": "603c25cb-5e09-4944-8c73-d1c1547b2394",
   "metadata": {},
   "outputs": [
    {
     "name": "stderr",
     "output_type": "stream",
     "text": [
      "60it [00:04, 14.21it/s]\n",
      "100%|███████████████████████████████████████████████████████████████| 60/60 [00:48<00:00,  1.23it/s]\n"
     ]
    },
    {
     "name": "stdout",
     "output_type": "stream",
     "text": [
      "GETTING PER SAMPLE RESULTS\n",
      "GENREATING UNCERTAINTY MAPS\n",
      "deterministic\n",
      "generating uncertainty maps\n"
     ]
    },
    {
     "name": "stderr",
     "output_type": "stream",
     "text": [
      "100%|███████████████████████████████████████████████████████████████| 60/60 [00:00<00:00, 88.70it/s]\n"
     ]
    },
    {
     "name": "stdout",
     "output_type": "stream",
     "text": [
      "PAVPU\n"
     ]
    },
    {
     "name": "stderr",
     "output_type": "stream",
     "text": [
      "100%|███████████████████████████████████████████████████████████████| 60/60 [00:01<00:00, 49.32it/s]\n"
     ]
    },
    {
     "name": "stdout",
     "output_type": "stream",
     "text": [
      "UEO\n"
     ]
    },
    {
     "name": "stderr",
     "output_type": "stream",
     "text": [
      "100%|███████████████████████████████████████████████████████████████| 60/60 [00:07<00:00,  7.63it/s]\n",
      "100%|███████████████████████████████████████████████████████████████| 60/60 [00:09<00:00,  6.61it/s]\n"
     ]
    },
    {
     "name": "stdout",
     "output_type": "stream",
     "text": [
      "3D CC ANALYSIS\n"
     ]
    },
    {
     "name": "stderr",
     "output_type": "stream",
     "text": [
      "100%|███████████████████████████████████████████████████████████████| 60/60 [01:45<00:00,  1.75s/it]"
     ]
    },
    {
     "name": "stdout",
     "output_type": "stream",
     "text": [
      "SAVING RESULTS\n",
      "DONE\n"
     ]
    },
    {
     "name": "stderr",
     "output_type": "stream",
     "text": [
      "\n"
     ]
    }
   ],
   "source": [
    "ckpt_path = \"/home/s2208943/projects/twaibrain/twaibrain/brainexperiments/run_nnUNet_v2/training/model_ckpts/nnunet2DSTANDARDnoaug_ens0_cv4/epoch=71-step=13536.ckpt\"\n",
    "get_model_preds(4, model=model_s, model_name=\"nnunetNOaugStandard2D\", ckpt_path=ckpt_path, model_func=deterministic_mean)"
   ]
  },
  {
   "cell_type": "code",
   "execution_count": 86,
   "id": "e3e21a0d-fec2-4aae-a5fe-56aa067ee79a",
   "metadata": {},
   "outputs": [
    {
     "name": "stderr",
     "output_type": "stream",
     "text": [
      "60it [00:04, 13.88it/s]\n",
      "100%|███████████████████████████████████████████████████████████████| 60/60 [00:48<00:00,  1.24it/s]\n"
     ]
    },
    {
     "name": "stdout",
     "output_type": "stream",
     "text": [
      "GETTING PER SAMPLE RESULTS\n",
      "GENREATING UNCERTAINTY MAPS\n",
      "deterministic\n",
      "generating uncertainty maps\n"
     ]
    },
    {
     "name": "stderr",
     "output_type": "stream",
     "text": [
      "100%|███████████████████████████████████████████████████████████████| 60/60 [00:00<00:00, 93.51it/s]\n"
     ]
    },
    {
     "name": "stdout",
     "output_type": "stream",
     "text": [
      "PAVPU\n"
     ]
    },
    {
     "name": "stderr",
     "output_type": "stream",
     "text": [
      "100%|███████████████████████████████████████████████████████████████| 60/60 [00:01<00:00, 51.07it/s]\n"
     ]
    },
    {
     "name": "stdout",
     "output_type": "stream",
     "text": [
      "UEO\n"
     ]
    },
    {
     "name": "stderr",
     "output_type": "stream",
     "text": [
      "100%|███████████████████████████████████████████████████████████████| 60/60 [00:07<00:00,  7.53it/s]\n",
      "100%|███████████████████████████████████████████████████████████████| 60/60 [00:09<00:00,  6.55it/s]\n"
     ]
    },
    {
     "name": "stdout",
     "output_type": "stream",
     "text": [
      "3D CC ANALYSIS\n"
     ]
    },
    {
     "name": "stderr",
     "output_type": "stream",
     "text": [
      "100%|███████████████████████████████████████████████████████████████| 60/60 [01:43<00:00,  1.73s/it]"
     ]
    },
    {
     "name": "stdout",
     "output_type": "stream",
     "text": [
      "SAVING RESULTS\n",
      "DONE\n"
     ]
    },
    {
     "name": "stderr",
     "output_type": "stream",
     "text": [
      "\n"
     ]
    }
   ],
   "source": [
    "ckpt_path = \"/home/s2208943/projects/twaibrain/twaibrain/brainexperiments/run_nnUNet_v2/training/model_ckpts/nnunet2DSTANDARDnoaug_ens0_cv5/epoch=104-step=19740.ckpt\"\n",
    "get_model_preds(5, model=model_s, model_name=\"nnunetNOaugStandard2D\", ckpt_path=ckpt_path, model_func=deterministic_mean)"
   ]
>>>>>>> origin/wmhuq
  },
  {
   "cell_type": "markdown",
   "id": "c54e3fdf-2d54-40b1-a1b9-96be6bffb963",
   "metadata": {},
   "source": [
    "### storing the model outputs"
   ]
  },
  {
   "cell_type": "code",
   "execution_count": 210,
   "id": "10f67f10-3842-49f1-819b-3ac96437d026",
   "metadata": {},
   "outputs": [],
   "source": [
    "litmodel = get_model_preds(0)"
   ]
  },
  {
   "cell_type": "code",
   "execution_count": 307,
   "id": "8093cf75-6da1-4b91-8c2d-a4a793a77cc9",
   "metadata": {},
   "outputs": [],
   "source": [
    "def evaluate_dataset(model_raw, full_ds, mss3_ids, output_dir):\n",
    "    start = 0\n",
    "    end = 10\n",
    "    \n",
    "    while end < len(full_ds):\n",
    "        ds = LimitedSizeDataset(full_ds, start=start, end=end)\n",
    "        IDs = mss3_ids[start:end]\n",
    "    \n",
    "        start = end\n",
    "        end += 10\n",
    "    \n",
    "        # get predictions\n",
    "        means, samples, misc = get_nnunet_means_and_samples(model_raw, ds, num_samples=10, model_func_name=args.uncertainty_type, args=args)\n",
    "        means = [m.squeeze(0).swapaxes(0, 1)[:,:2] for m in means]\n",
    "        \n",
    "        # get uncertainty maps\n",
    "        ent_maps = get_uncertainty_maps(means, samples, misc, args)\n",
    "    \n",
    "        # write results\n",
    "        write__output_map_results_to_disk(args, IDs, ent_maps, means, output_dir=output_dir)\n",
    "\n",
    "        # break\n"
   ]
  },
  {
   "cell_type": "code",
   "execution_count": 209,
   "id": "ebaadcdf-e7b0-473b-9435-f72644a65a3c",
   "metadata": {},
   "outputs": [],
   "source": [
    "mss3_parser = MSS3MultiRaterDataParser(\n",
    "    # paths on the cluster for the in house data\n",
    "    \"/home/s2208943/datasets/Inter_observer\",\n",
    "    \"/home/s2208943/preprocessed_data/MSS3_InterRaterData\"\n",
    ")\n",
    "\n",
    "mss3_ds = ArrayMRISegmentationDatasetFromFile(mss3_parser) \n",
    "\n",
    "mss3_ids = [out[2] for out in mss3_ds]\n",
    "\n",
    "mss3_output_dir = \"/home/s2208943/preprocessed_data/MSS3_InterRaterData/output_maps/nnunet/\""
   ]
  },
  {
   "cell_type": "code",
   "execution_count": 322,
   "id": "da3b12ce-252b-474d-bd54-f6ef6d71633a",
   "metadata": {},
   "outputs": [
    {
     "data": {
      "text/plain": [
       "68"
      ]
     },
     "execution_count": 322,
     "metadata": {},
     "output_type": "execute_result"
    }
   ],
   "source": [
    "len(mss3_ids)"
   ]
  },
  {
   "cell_type": "code",
   "execution_count": 311,
   "id": "3bad908d-b4f8-414e-8572-3e275f5b5890",
   "metadata": {},
   "outputs": [],
   "source": [
    "domains_chal_train = [\"training_Singapore\", \"training_Utrecht\", \"training_Amsterdam_GE3T\"]\n",
    "    \n",
    "chal_ds_train = ConcatDataset([\n",
    "    MRISegmentation3DDataset(\"/home/s2208943/preprocessed_data/WMHChallenge_InterRaterData/collated\", no_labels=True, xy_only=False, domain_name=dn)\n",
    "    for dn in domains_chal_train\n",
    "])\n",
    "\n",
    "chal_train_ids = [out[2] for out in chal_ds_train]\n",
    "\n",
    "chal_train_output_dir = \"/home/s2208943/preprocessed_data/WMHChallenge_InterRaterData/output_maps/training/nnunet/\""
   ]
  },
  {
   "cell_type": "code",
   "execution_count": 317,
   "id": "d427020d-948d-4df7-9750-da40fba3b422",
   "metadata": {},
   "outputs": [],
   "source": [
    "domains_chal_test = [\"test_Amsterdam_GE1T5\", \"test_Amsterdam_Philips_VU_PETMR_01\", \"test_Utrecht\", \"test_Amsterdam_GE3T\", \"test_Singapore\"]\n",
    "    \n",
    "chal_ds_test = ConcatDataset([\n",
    "    MRISegmentation3DDataset(\"/home/s2208943/preprocessed_data/WMHChallenge_InterRaterData/collated\", no_labels=True, xy_only=False, domain_name=dn)\n",
    "    for dn in domains_chal_test\n",
    "])\n",
    "\n",
    "chal_test_ids = [out[2] for out in chal_ds_test]\n",
    "\n",
    "chal_test_output_dir = \"/home/s2208943/preprocessed_data/WMHChallenge_InterRaterData/output_maps/test/nnunet/\""
   ]
  },
  {
   "cell_type": "code",
   "execution_count": 319,
   "id": "66936af7-a514-4ccb-ad92-187395c2222c",
   "metadata": {},
   "outputs": [],
   "source": [
    "ADNI_ds = MRISegmentation3DDataset(\"/home/s2208943/preprocessed_data/ADNI300/collated\", no_labels=True, xy_only=False)\n",
    "adni_ids = [out[2] for out in ADNI_ds]\n",
    "adni_out_dir = \"/home/s2208943/preprocessed_data/ADNI300/ADNI_300_output_maps/nnunet/\""
   ]
  },
  {
   "cell_type": "code",
   "execution_count": 320,
   "id": "347eaf73-04fc-441a-a800-b1ebe5031679",
   "metadata": {},
   "outputs": [
    {
     "name": "stderr",
     "output_type": "stream",
     "text": [
      "100%|███████████████████████████████████████████████████████████████| 10/10 [00:04<00:00,  2.13it/s]\n"
     ]
    },
    {
     "name": "stdout",
     "output_type": "stream",
     "text": [
      "deterministic\n",
      "generating uncertainty maps\n"
     ]
    },
    {
     "name": "stderr",
     "output_type": "stream",
     "text": [
      "100%|███████████████████████████████████████████████████████████████| 10/10 [00:00<00:00, 10.51it/s]\n",
      "100%|███████████████████████████████████████████████████████████████| 10/10 [00:04<00:00,  2.25it/s]\n",
      "100%|███████████████████████████████████████████████████████████████| 10/10 [00:03<00:00,  3.02it/s]\n"
     ]
    },
    {
     "name": "stdout",
     "output_type": "stream",
     "text": [
      "deterministic\n",
      "generating uncertainty maps\n"
     ]
    },
    {
     "name": "stderr",
     "output_type": "stream",
     "text": [
      "100%|███████████████████████████████████████████████████████████████| 10/10 [00:00<00:00, 53.89it/s]\n"
     ]
    },
    {
     "name": "stdout",
     "output_type": "stream",
     "text": [
      "folder already exists\n"
     ]
    },
    {
     "name": "stderr",
     "output_type": "stream",
     "text": [
      "100%|███████████████████████████████████████████████████████████████| 10/10 [00:03<00:00,  2.77it/s]\n",
      "100%|███████████████████████████████████████████████████████████████| 10/10 [00:03<00:00,  3.22it/s]\n"
     ]
    },
    {
     "name": "stdout",
     "output_type": "stream",
     "text": [
      "deterministic\n",
      "generating uncertainty maps\n"
     ]
    },
    {
     "name": "stderr",
     "output_type": "stream",
     "text": [
      "100%|██████████████████████████████████████████████████████████████| 10/10 [00:00<00:00, 203.38it/s]\n"
     ]
    },
    {
     "name": "stdout",
     "output_type": "stream",
     "text": [
      "folder already exists\n"
     ]
    },
    {
     "name": "stderr",
     "output_type": "stream",
     "text": [
      "100%|███████████████████████████████████████████████████████████████| 10/10 [00:04<00:00,  2.18it/s]\n",
      "100%|███████████████████████████████████████████████████████████████| 10/10 [00:03<00:00,  3.19it/s]\n"
     ]
    },
    {
     "name": "stdout",
     "output_type": "stream",
     "text": [
      "deterministic\n",
      "generating uncertainty maps\n"
     ]
    },
    {
     "name": "stderr",
     "output_type": "stream",
     "text": [
      "100%|███████████████████████████████████████████████████████████████| 10/10 [00:00<00:00, 71.62it/s]\n"
     ]
    },
    {
     "name": "stdout",
     "output_type": "stream",
     "text": [
      "folder already exists\n"
     ]
    },
    {
     "name": "stderr",
     "output_type": "stream",
     "text": [
      "100%|███████████████████████████████████████████████████████████████| 10/10 [00:04<00:00,  2.21it/s]\n",
      "100%|███████████████████████████████████████████████████████████████| 10/10 [00:03<00:00,  3.22it/s]\n"
     ]
    },
    {
     "name": "stdout",
     "output_type": "stream",
     "text": [
      "deterministic\n",
      "generating uncertainty maps\n"
     ]
    },
    {
     "name": "stderr",
     "output_type": "stream",
     "text": [
      "100%|███████████████████████████████████████████████████████████████| 10/10 [00:00<00:00, 38.26it/s]\n"
     ]
    },
    {
     "name": "stdout",
     "output_type": "stream",
     "text": [
      "folder already exists\n"
     ]
    },
    {
     "name": "stderr",
     "output_type": "stream",
     "text": [
      "100%|███████████████████████████████████████████████████████████████| 10/10 [00:04<00:00,  2.25it/s]\n",
      "100%|███████████████████████████████████████████████████████████████| 10/10 [00:04<00:00,  2.19it/s]\n"
     ]
    },
    {
     "name": "stdout",
     "output_type": "stream",
     "text": [
      "deterministic\n",
      "generating uncertainty maps\n"
     ]
    },
    {
     "name": "stderr",
     "output_type": "stream",
     "text": [
      "100%|███████████████████████████████████████████████████████████████| 10/10 [00:00<00:00, 10.38it/s]\n"
     ]
    },
    {
     "name": "stdout",
     "output_type": "stream",
     "text": [
      "folder already exists\n"
     ]
    },
    {
     "name": "stderr",
     "output_type": "stream",
     "text": [
      "100%|███████████████████████████████████████████████████████████████| 10/10 [00:03<00:00,  2.85it/s]\n",
      "100%|███████████████████████████████████████████████████████████████| 10/10 [00:04<00:00,  2.26it/s]\n"
     ]
    },
    {
     "name": "stdout",
     "output_type": "stream",
     "text": [
      "deterministic\n",
      "generating uncertainty maps\n"
     ]
    },
    {
     "name": "stderr",
     "output_type": "stream",
     "text": [
      "100%|███████████████████████████████████████████████████████████████| 10/10 [00:00<00:00, 10.97it/s]\n"
     ]
    },
    {
     "name": "stdout",
     "output_type": "stream",
     "text": [
      "folder already exists\n"
     ]
    },
    {
     "name": "stderr",
     "output_type": "stream",
     "text": [
      "100%|███████████████████████████████████████████████████████████████| 10/10 [00:03<00:00,  2.61it/s]\n",
      "100%|███████████████████████████████████████████████████████████████| 10/10 [00:04<00:00,  2.20it/s]\n"
     ]
    },
    {
     "name": "stdout",
     "output_type": "stream",
     "text": [
      "deterministic\n",
      "generating uncertainty maps\n"
     ]
    },
    {
     "name": "stderr",
     "output_type": "stream",
     "text": [
      "100%|███████████████████████████████████████████████████████████████| 10/10 [00:00<00:00, 10.96it/s]\n"
     ]
    },
    {
     "name": "stdout",
     "output_type": "stream",
     "text": [
      "folder already exists\n"
     ]
    },
    {
     "name": "stderr",
     "output_type": "stream",
     "text": [
      "100%|███████████████████████████████████████████████████████████████| 10/10 [00:04<00:00,  2.27it/s]\n",
      "100%|███████████████████████████████████████████████████████████████| 10/10 [00:03<00:00,  3.05it/s]\n"
     ]
    },
    {
     "name": "stdout",
     "output_type": "stream",
     "text": [
      "deterministic\n",
      "generating uncertainty maps\n"
     ]
    },
    {
     "name": "stderr",
     "output_type": "stream",
     "text": [
      "100%|██████████████████████████████████████████████████████████████| 10/10 [00:00<00:00, 211.67it/s]\n"
     ]
    },
    {
     "name": "stdout",
     "output_type": "stream",
     "text": [
      "folder already exists\n"
     ]
    },
    {
     "name": "stderr",
     "output_type": "stream",
     "text": [
      "100%|███████████████████████████████████████████████████████████████| 10/10 [00:03<00:00,  2.75it/s]\n",
      "100%|███████████████████████████████████████████████████████████████| 10/10 [00:03<00:00,  3.12it/s]\n"
     ]
    },
    {
     "name": "stdout",
     "output_type": "stream",
     "text": [
      "deterministic\n",
      "generating uncertainty maps\n"
     ]
    },
    {
     "name": "stderr",
     "output_type": "stream",
     "text": [
      "100%|███████████████████████████████████████████████████████████████| 10/10 [00:00<00:00, 41.93it/s]\n"
     ]
    },
    {
     "name": "stdout",
     "output_type": "stream",
     "text": [
      "folder already exists\n"
     ]
    },
    {
     "name": "stderr",
     "output_type": "stream",
     "text": [
      "100%|███████████████████████████████████████████████████████████████| 10/10 [00:04<00:00,  2.32it/s]\n",
      "100%|███████████████████████████████████████████████████████████████| 10/10 [00:03<00:00,  3.08it/s]\n"
     ]
    },
    {
     "name": "stdout",
     "output_type": "stream",
     "text": [
      "deterministic\n",
      "generating uncertainty maps\n"
     ]
    },
    {
     "name": "stderr",
     "output_type": "stream",
     "text": [
      "100%|██████████████████████████████████████████████████████████████| 10/10 [00:00<00:00, 124.69it/s]\n"
     ]
    },
    {
     "name": "stdout",
     "output_type": "stream",
     "text": [
      "folder already exists\n"
     ]
    },
    {
     "name": "stderr",
     "output_type": "stream",
     "text": [
      "100%|███████████████████████████████████████████████████████████████| 10/10 [00:04<00:00,  2.24it/s]\n",
      "100%|███████████████████████████████████████████████████████████████| 10/10 [00:03<00:00,  3.07it/s]\n"
     ]
    },
    {
     "name": "stdout",
     "output_type": "stream",
     "text": [
      "deterministic\n",
      "generating uncertainty maps\n"
     ]
    },
    {
     "name": "stderr",
     "output_type": "stream",
     "text": [
      "100%|███████████████████████████████████████████████████████████████| 10/10 [00:00<00:00, 40.61it/s]\n"
     ]
    },
    {
     "name": "stdout",
     "output_type": "stream",
     "text": [
      "folder already exists\n"
     ]
    },
    {
     "name": "stderr",
     "output_type": "stream",
     "text": [
      "100%|███████████████████████████████████████████████████████████████| 10/10 [00:04<00:00,  2.19it/s]\n",
      "100%|███████████████████████████████████████████████████████████████| 10/10 [00:04<00:00,  2.15it/s]\n"
     ]
    },
    {
     "name": "stdout",
     "output_type": "stream",
     "text": [
      "deterministic\n",
      "generating uncertainty maps\n"
     ]
    },
    {
     "name": "stderr",
     "output_type": "stream",
     "text": [
      "100%|███████████████████████████████████████████████████████████████| 10/10 [00:00<00:00, 10.69it/s]\n"
     ]
    },
    {
     "name": "stdout",
     "output_type": "stream",
     "text": [
      "folder already exists\n"
     ]
    },
    {
     "name": "stderr",
     "output_type": "stream",
     "text": [
      "100%|███████████████████████████████████████████████████████████████| 10/10 [00:03<00:00,  2.71it/s]\n",
      "100%|███████████████████████████████████████████████████████████████| 10/10 [00:04<00:00,  2.18it/s]\n"
     ]
    },
    {
     "name": "stdout",
     "output_type": "stream",
     "text": [
      "deterministic\n",
      "generating uncertainty maps\n"
     ]
    },
    {
     "name": "stderr",
     "output_type": "stream",
     "text": [
      "100%|███████████████████████████████████████████████████████████████| 10/10 [00:00<00:00, 10.28it/s]\n"
     ]
    },
    {
     "name": "stdout",
     "output_type": "stream",
     "text": [
      "folder already exists\n"
     ]
    },
    {
     "name": "stderr",
     "output_type": "stream",
     "text": [
      "100%|███████████████████████████████████████████████████████████████| 10/10 [00:04<00:00,  2.28it/s]\n",
      "100%|███████████████████████████████████████████████████████████████| 10/10 [00:04<00:00,  2.17it/s]\n"
     ]
    },
    {
     "name": "stdout",
     "output_type": "stream",
     "text": [
      "deterministic\n",
      "generating uncertainty maps\n"
     ]
    },
    {
     "name": "stderr",
     "output_type": "stream",
     "text": [
      "100%|███████████████████████████████████████████████████████████████| 10/10 [00:00<00:00, 11.01it/s]\n"
     ]
    },
    {
     "name": "stdout",
     "output_type": "stream",
     "text": [
      "folder already exists\n"
     ]
    },
    {
     "name": "stderr",
     "output_type": "stream",
     "text": [
      "100%|███████████████████████████████████████████████████████████████| 10/10 [00:04<00:00,  2.24it/s]\n",
      "100%|███████████████████████████████████████████████████████████████| 10/10 [00:03<00:00,  3.15it/s]\n"
     ]
    },
    {
     "name": "stdout",
     "output_type": "stream",
     "text": [
      "deterministic\n",
      "generating uncertainty maps\n"
     ]
    },
    {
     "name": "stderr",
     "output_type": "stream",
     "text": [
      "100%|███████████████████████████████████████████████████████████████| 10/10 [00:00<00:00, 84.79it/s]\n"
     ]
    },
    {
     "name": "stdout",
     "output_type": "stream",
     "text": [
      "folder already exists\n"
     ]
    },
    {
     "name": "stderr",
     "output_type": "stream",
     "text": [
      "100%|███████████████████████████████████████████████████████████████| 10/10 [00:04<00:00,  2.29it/s]\n",
      "100%|███████████████████████████████████████████████████████████████| 10/10 [00:03<00:00,  3.29it/s]\n"
     ]
    },
    {
     "name": "stdout",
     "output_type": "stream",
     "text": [
      "deterministic\n",
      "generating uncertainty maps\n"
     ]
    },
    {
     "name": "stderr",
     "output_type": "stream",
     "text": [
      "100%|███████████████████████████████████████████████████████████████| 10/10 [00:00<00:00, 51.84it/s]\n"
     ]
    },
    {
     "name": "stdout",
     "output_type": "stream",
     "text": [
      "folder already exists\n"
     ]
    },
    {
     "name": "stderr",
     "output_type": "stream",
     "text": [
      "100%|███████████████████████████████████████████████████████████████| 10/10 [00:04<00:00,  2.22it/s]\n",
      "100%|███████████████████████████████████████████████████████████████| 10/10 [00:03<00:00,  2.79it/s]\n"
     ]
    },
    {
     "name": "stdout",
     "output_type": "stream",
     "text": [
      "deterministic\n",
      "generating uncertainty maps\n"
     ]
    },
    {
     "name": "stderr",
     "output_type": "stream",
     "text": [
      "100%|██████████████████████████████████████████████████████████████| 10/10 [00:00<00:00, 189.47it/s]\n"
     ]
    },
    {
     "name": "stdout",
     "output_type": "stream",
     "text": [
      "folder already exists\n"
     ]
    },
    {
     "name": "stderr",
     "output_type": "stream",
     "text": [
      "100%|███████████████████████████████████████████████████████████████| 10/10 [00:04<00:00,  2.27it/s]\n",
      "100%|███████████████████████████████████████████████████████████████| 10/10 [00:03<00:00,  3.14it/s]\n"
     ]
    },
    {
     "name": "stdout",
     "output_type": "stream",
     "text": [
      "deterministic\n",
      "generating uncertainty maps\n"
     ]
    },
    {
     "name": "stderr",
     "output_type": "stream",
     "text": [
      "100%|███████████████████████████████████████████████████████████████| 10/10 [00:01<00:00,  9.96it/s]\n"
     ]
    },
    {
     "name": "stdout",
     "output_type": "stream",
     "text": [
      "folder already exists\n"
     ]
    },
    {
     "name": "stderr",
     "output_type": "stream",
     "text": [
      "100%|███████████████████████████████████████████████████████████████| 10/10 [00:04<00:00,  2.32it/s]\n",
      "100%|███████████████████████████████████████████████████████████████| 10/10 [00:04<00:00,  2.18it/s]\n"
     ]
    },
    {
     "name": "stdout",
     "output_type": "stream",
     "text": [
      "deterministic\n",
      "generating uncertainty maps\n"
     ]
    },
    {
     "name": "stderr",
     "output_type": "stream",
     "text": [
      "100%|███████████████████████████████████████████████████████████████| 10/10 [00:00<00:00, 10.25it/s]\n"
     ]
    },
    {
     "name": "stdout",
     "output_type": "stream",
     "text": [
      "folder already exists\n"
     ]
    },
    {
     "name": "stderr",
     "output_type": "stream",
     "text": [
      "100%|███████████████████████████████████████████████████████████████| 10/10 [00:04<00:00,  2.30it/s]\n",
      "100%|███████████████████████████████████████████████████████████████| 10/10 [00:04<00:00,  2.24it/s]\n"
     ]
    },
    {
     "name": "stdout",
     "output_type": "stream",
     "text": [
      "deterministic\n",
      "generating uncertainty maps\n"
     ]
    },
    {
     "name": "stderr",
     "output_type": "stream",
     "text": [
      "100%|███████████████████████████████████████████████████████████████| 10/10 [00:00<00:00, 10.48it/s]\n"
     ]
    },
    {
     "name": "stdout",
     "output_type": "stream",
     "text": [
      "folder already exists\n"
     ]
    },
    {
     "name": "stderr",
     "output_type": "stream",
     "text": [
      "100%|███████████████████████████████████████████████████████████████| 10/10 [00:03<00:00,  2.74it/s]\n",
      "100%|███████████████████████████████████████████████████████████████| 10/10 [00:04<00:00,  2.20it/s]\n"
     ]
    },
    {
     "name": "stdout",
     "output_type": "stream",
     "text": [
      "deterministic\n",
      "generating uncertainty maps\n"
     ]
    },
    {
     "name": "stderr",
     "output_type": "stream",
     "text": [
      "100%|███████████████████████████████████████████████████████████████| 10/10 [00:00<00:00, 11.34it/s]\n"
     ]
    },
    {
     "name": "stdout",
     "output_type": "stream",
     "text": [
      "folder already exists\n"
     ]
    },
    {
     "name": "stderr",
     "output_type": "stream",
     "text": [
      "100%|███████████████████████████████████████████████████████████████| 10/10 [00:04<00:00,  2.25it/s]\n",
      "100%|███████████████████████████████████████████████████████████████| 10/10 [00:03<00:00,  3.06it/s]\n"
     ]
    },
    {
     "name": "stdout",
     "output_type": "stream",
     "text": [
      "deterministic\n",
      "generating uncertainty maps\n"
     ]
    },
    {
     "name": "stderr",
     "output_type": "stream",
     "text": [
      "100%|███████████████████████████████████████████████████████████████| 10/10 [00:00<00:00, 46.64it/s]\n"
     ]
    },
    {
     "name": "stdout",
     "output_type": "stream",
     "text": [
      "folder already exists\n"
     ]
    },
    {
     "name": "stderr",
     "output_type": "stream",
     "text": [
      "100%|███████████████████████████████████████████████████████████████| 10/10 [00:04<00:00,  2.21it/s]\n",
      "100%|███████████████████████████████████████████████████████████████| 10/10 [00:03<00:00,  2.95it/s]\n"
     ]
    },
    {
     "name": "stdout",
     "output_type": "stream",
     "text": [
      "deterministic\n",
      "generating uncertainty maps\n"
     ]
    },
    {
     "name": "stderr",
     "output_type": "stream",
     "text": [
      "100%|███████████████████████████████████████████████████████████████| 10/10 [00:00<00:00, 41.60it/s]\n"
     ]
    },
    {
     "name": "stdout",
     "output_type": "stream",
     "text": [
      "folder already exists\n"
     ]
    },
    {
     "name": "stderr",
     "output_type": "stream",
     "text": [
      "100%|███████████████████████████████████████████████████████████████| 10/10 [00:04<00:00,  2.25it/s]\n",
      "100%|███████████████████████████████████████████████████████████████| 10/10 [00:03<00:00,  3.30it/s]\n"
     ]
    },
    {
     "name": "stdout",
     "output_type": "stream",
     "text": [
      "deterministic\n",
      "generating uncertainty maps\n"
     ]
    },
    {
     "name": "stderr",
     "output_type": "stream",
     "text": [
      "100%|██████████████████████████████████████████████████████████████| 10/10 [00:00<00:00, 191.21it/s]\n"
     ]
    },
    {
     "name": "stdout",
     "output_type": "stream",
     "text": [
      "folder already exists\n"
     ]
    },
    {
     "name": "stderr",
     "output_type": "stream",
     "text": [
      "100%|███████████████████████████████████████████████████████████████| 10/10 [00:04<00:00,  2.28it/s]\n",
      "100%|███████████████████████████████████████████████████████████████| 10/10 [00:04<00:00,  2.37it/s]\n"
     ]
    },
    {
     "name": "stdout",
     "output_type": "stream",
     "text": [
      "deterministic\n",
      "generating uncertainty maps\n"
     ]
    },
    {
     "name": "stderr",
     "output_type": "stream",
     "text": [
      "100%|███████████████████████████████████████████████████████████████| 10/10 [00:01<00:00,  9.38it/s]\n"
     ]
    },
    {
     "name": "stdout",
     "output_type": "stream",
     "text": [
      "folder already exists\n"
     ]
    },
    {
     "name": "stderr",
     "output_type": "stream",
     "text": [
      "100%|███████████████████████████████████████████████████████████████| 10/10 [00:03<00:00,  2.69it/s]\n",
      "100%|███████████████████████████████████████████████████████████████| 10/10 [00:04<00:00,  2.16it/s]\n"
     ]
    },
    {
     "name": "stdout",
     "output_type": "stream",
     "text": [
      "deterministic\n",
      "generating uncertainty maps\n"
     ]
    },
    {
     "name": "stderr",
     "output_type": "stream",
     "text": [
      "100%|███████████████████████████████████████████████████████████████| 10/10 [00:00<00:00, 10.92it/s]\n"
     ]
    },
    {
     "name": "stdout",
     "output_type": "stream",
     "text": [
      "folder already exists\n"
     ]
    },
    {
     "name": "stderr",
     "output_type": "stream",
     "text": [
      "100%|███████████████████████████████████████████████████████████████| 10/10 [00:04<00:00,  2.43it/s]\n",
      "100%|███████████████████████████████████████████████████████████████| 10/10 [00:04<00:00,  2.17it/s]\n"
     ]
    },
    {
     "name": "stdout",
     "output_type": "stream",
     "text": [
      "deterministic\n",
      "generating uncertainty maps\n"
     ]
    },
    {
     "name": "stderr",
     "output_type": "stream",
     "text": [
      "100%|███████████████████████████████████████████████████████████████| 10/10 [00:00<00:00, 11.08it/s]\n"
     ]
    },
    {
     "name": "stdout",
     "output_type": "stream",
     "text": [
      "folder already exists\n"
     ]
    },
    {
     "name": "stderr",
     "output_type": "stream",
     "text": [
      "100%|███████████████████████████████████████████████████████████████| 10/10 [00:04<00:00,  2.16it/s]\n"
     ]
    }
   ],
   "source": [
    "evaluate_dataset(litmodel, ADNI_ds, adni_ids, adni_out_dir)"
   ]
  },
  {
   "cell_type": "code",
   "execution_count": null,
   "id": "3caf4586-54cc-4189-80e7-c3af0514c67b",
   "metadata": {},
   "outputs": [],
   "source": []
  },
  {
   "cell_type": "code",
   "execution_count": null,
   "id": "8aff8265-3a0d-4435-807a-2264c65d67ce",
   "metadata": {},
   "outputs": [],
   "source": []
  },
  {
   "cell_type": "code",
   "execution_count": 318,
   "id": "0de23183-40ad-4041-975e-d8aacd9058ab",
   "metadata": {},
   "outputs": [
    {
     "name": "stderr",
     "output_type": "stream",
     "text": [
      "100%|███████████████████████████████████████████████████████████████| 10/10 [00:04<00:00,  2.03it/s]\n"
     ]
    },
    {
     "name": "stdout",
     "output_type": "stream",
     "text": [
      "deterministic\n",
      "generating uncertainty maps\n"
     ]
    },
    {
     "name": "stderr",
     "output_type": "stream",
     "text": [
      "100%|███████████████████████████████████████████████████████████████| 10/10 [00:01<00:00,  9.95it/s]\n",
      "100%|███████████████████████████████████████████████████████████████| 10/10 [00:04<00:00,  2.14it/s]\n",
      "100%|███████████████████████████████████████████████████████████████| 10/10 [00:04<00:00,  2.13it/s]\n"
     ]
    },
    {
     "name": "stdout",
     "output_type": "stream",
     "text": [
      "deterministic\n",
      "generating uncertainty maps\n"
     ]
    },
    {
     "name": "stderr",
     "output_type": "stream",
     "text": [
      "100%|███████████████████████████████████████████████████████████████| 10/10 [00:00<00:00, 10.12it/s]\n"
     ]
    },
    {
     "name": "stdout",
     "output_type": "stream",
     "text": [
      "folder already exists\n"
     ]
    },
    {
     "name": "stderr",
     "output_type": "stream",
     "text": [
      "100%|███████████████████████████████████████████████████████████████| 10/10 [00:05<00:00,  1.89it/s]\n",
      "100%|███████████████████████████████████████████████████████████████| 10/10 [00:03<00:00,  2.79it/s]\n"
     ]
    },
    {
     "name": "stdout",
     "output_type": "stream",
     "text": [
      "deterministic\n",
      "generating uncertainty maps\n"
     ]
    },
    {
     "name": "stderr",
     "output_type": "stream",
     "text": [
      "100%|██████████████████████████████████████████████████████████████| 10/10 [00:00<00:00, 199.49it/s]\n"
     ]
    },
    {
     "name": "stdout",
     "output_type": "stream",
     "text": [
      "folder already exists\n"
     ]
    },
    {
     "name": "stderr",
     "output_type": "stream",
     "text": [
      "100%|███████████████████████████████████████████████████████████████| 10/10 [00:04<00:00,  2.27it/s]\n",
      "100%|███████████████████████████████████████████████████████████████| 10/10 [00:03<00:00,  3.06it/s]\n"
     ]
    },
    {
     "name": "stdout",
     "output_type": "stream",
     "text": [
      "deterministic\n",
      "generating uncertainty maps\n"
     ]
    },
    {
     "name": "stderr",
     "output_type": "stream",
     "text": [
      "100%|██████████████████████████████████████████████████████████████| 10/10 [00:00<00:00, 194.62it/s]\n"
     ]
    },
    {
     "name": "stdout",
     "output_type": "stream",
     "text": [
      "folder already exists\n"
     ]
    },
    {
     "name": "stderr",
     "output_type": "stream",
     "text": [
      "100%|███████████████████████████████████████████████████████████████| 10/10 [00:04<00:00,  2.25it/s]\n",
      "100%|███████████████████████████████████████████████████████████████| 10/10 [00:03<00:00,  3.01it/s]\n"
     ]
    },
    {
     "name": "stdout",
     "output_type": "stream",
     "text": [
      "deterministic\n",
      "generating uncertainty maps\n"
     ]
    },
    {
     "name": "stderr",
     "output_type": "stream",
     "text": [
      "100%|██████████████████████████████████████████████████████████████| 10/10 [00:00<00:00, 179.48it/s]\n"
     ]
    },
    {
     "name": "stdout",
     "output_type": "stream",
     "text": [
      "folder already exists\n"
     ]
    },
    {
     "name": "stderr",
     "output_type": "stream",
     "text": [
      "100%|███████████████████████████████████████████████████████████████| 10/10 [00:04<00:00,  2.24it/s]\n",
      "100%|███████████████████████████████████████████████████████████████| 10/10 [00:03<00:00,  3.05it/s]\n"
     ]
    },
    {
     "name": "stdout",
     "output_type": "stream",
     "text": [
      "deterministic\n",
      "generating uncertainty maps\n"
     ]
    },
    {
     "name": "stderr",
     "output_type": "stream",
     "text": [
      "100%|███████████████████████████████████████████████████████████████| 10/10 [00:00<00:00, 38.74it/s]\n"
     ]
    },
    {
     "name": "stdout",
     "output_type": "stream",
     "text": [
      "folder already exists\n"
     ]
    },
    {
     "name": "stderr",
     "output_type": "stream",
     "text": [
      "100%|███████████████████████████████████████████████████████████████| 10/10 [00:05<00:00,  1.89it/s]\n",
      "100%|███████████████████████████████████████████████████████████████| 10/10 [00:04<00:00,  2.04it/s]\n"
     ]
    },
    {
     "name": "stdout",
     "output_type": "stream",
     "text": [
      "deterministic\n",
      "generating uncertainty maps\n"
     ]
    },
    {
     "name": "stderr",
     "output_type": "stream",
     "text": [
      "100%|███████████████████████████████████████████████████████████████| 10/10 [00:00<00:00, 10.07it/s]\n"
     ]
    },
    {
     "name": "stdout",
     "output_type": "stream",
     "text": [
      "folder already exists\n"
     ]
    },
    {
     "name": "stderr",
     "output_type": "stream",
     "text": [
      "100%|███████████████████████████████████████████████████████████████| 10/10 [00:05<00:00,  1.88it/s]\n",
      "100%|███████████████████████████████████████████████████████████████| 10/10 [00:04<00:00,  2.11it/s]\n"
     ]
    },
    {
     "name": "stdout",
     "output_type": "stream",
     "text": [
      "deterministic\n",
      "generating uncertainty maps\n"
     ]
    },
    {
     "name": "stderr",
     "output_type": "stream",
     "text": [
      "100%|███████████████████████████████████████████████████████████████| 10/10 [00:00<00:00, 11.24it/s]\n"
     ]
    },
    {
     "name": "stdout",
     "output_type": "stream",
     "text": [
      "folder already exists\n"
     ]
    },
    {
     "name": "stderr",
     "output_type": "stream",
     "text": [
      "100%|███████████████████████████████████████████████████████████████| 10/10 [00:04<00:00,  2.41it/s]\n",
      "100%|███████████████████████████████████████████████████████████████| 10/10 [00:04<00:00,  2.26it/s]\n"
     ]
    },
    {
     "name": "stdout",
     "output_type": "stream",
     "text": [
      "deterministic\n",
      "generating uncertainty maps\n"
     ]
    },
    {
     "name": "stderr",
     "output_type": "stream",
     "text": [
      "100%|███████████████████████████████████████████████████████████████| 10/10 [00:00<00:00, 10.32it/s]\n"
     ]
    },
    {
     "name": "stdout",
     "output_type": "stream",
     "text": [
      "folder already exists\n"
     ]
    },
    {
     "name": "stderr",
     "output_type": "stream",
     "text": [
      "100%|███████████████████████████████████████████████████████████████| 10/10 [00:04<00:00,  2.44it/s]\n",
      "100%|███████████████████████████████████████████████████████████████| 10/10 [00:02<00:00,  3.37it/s]\n"
     ]
    },
    {
     "name": "stdout",
     "output_type": "stream",
     "text": [
      "deterministic\n",
      "generating uncertainty maps\n"
     ]
    },
    {
     "name": "stderr",
     "output_type": "stream",
     "text": [
      "100%|██████████████████████████████████████████████████████████████| 10/10 [00:00<00:00, 205.15it/s]\n"
     ]
    },
    {
     "name": "stdout",
     "output_type": "stream",
     "text": [
      "folder already exists\n"
     ]
    },
    {
     "name": "stderr",
     "output_type": "stream",
     "text": [
      "100%|███████████████████████████████████████████████████████████████| 10/10 [00:04<00:00,  2.25it/s]\n"
     ]
    }
   ],
   "source": [
    "evaluate_dataset(litmodel, chal_ds_test, chal_test_ids, chal_test_output_dir)"
   ]
  },
  {
   "cell_type": "code",
   "execution_count": 315,
   "id": "27a9a0b1-da99-4173-bd74-62adcf5413b7",
   "metadata": {},
   "outputs": [],
   "source": [
    "%autoreload"
   ]
  },
  {
   "cell_type": "code",
   "execution_count": 316,
   "id": "43aefbae-6cd6-4e0b-bdc1-197282fae98d",
   "metadata": {},
   "outputs": [
    {
     "name": "stderr",
     "output_type": "stream",
     "text": [
      "100%|███████████████████████████████████████████████████████████████| 10/10 [00:05<00:00,  1.87it/s]\n"
     ]
    },
    {
     "name": "stdout",
     "output_type": "stream",
     "text": [
      "deterministic\n",
      "generating uncertainty maps\n"
     ]
    },
    {
     "name": "stderr",
     "output_type": "stream",
     "text": [
      "100%|███████████████████████████████████████████████████████████████| 10/10 [00:00<00:00, 10.45it/s]\n",
      "100%|███████████████████████████████████████████████████████████████| 10/10 [00:04<00:00,  2.31it/s]\n",
      "100%|███████████████████████████████████████████████████████████████| 10/10 [00:04<00:00,  2.16it/s]\n"
     ]
    },
    {
     "name": "stdout",
     "output_type": "stream",
     "text": [
      "deterministic\n",
      "generating uncertainty maps\n"
     ]
    },
    {
     "name": "stderr",
     "output_type": "stream",
     "text": [
      "100%|███████████████████████████████████████████████████████████████| 10/10 [00:00<00:00, 10.60it/s]\n"
     ]
    },
    {
     "name": "stdout",
     "output_type": "stream",
     "text": [
      "folder already exists\n"
     ]
    },
    {
     "name": "stderr",
     "output_type": "stream",
     "text": [
      "100%|███████████████████████████████████████████████████████████████| 10/10 [00:04<00:00,  2.21it/s]\n",
      "100%|███████████████████████████████████████████████████████████████| 10/10 [00:04<00:00,  2.13it/s]\n"
     ]
    },
    {
     "name": "stdout",
     "output_type": "stream",
     "text": [
      "deterministic\n",
      "generating uncertainty maps\n"
     ]
    },
    {
     "name": "stderr",
     "output_type": "stream",
     "text": [
      "100%|███████████████████████████████████████████████████████████████| 10/10 [00:00<00:00, 10.41it/s]\n"
     ]
    },
    {
     "name": "stdout",
     "output_type": "stream",
     "text": [
      "folder already exists\n"
     ]
    },
    {
     "name": "stderr",
     "output_type": "stream",
     "text": [
      "100%|███████████████████████████████████████████████████████████████| 10/10 [00:04<00:00,  2.36it/s]\n",
      "100%|███████████████████████████████████████████████████████████████| 10/10 [00:03<00:00,  3.25it/s]\n"
     ]
    },
    {
     "name": "stdout",
     "output_type": "stream",
     "text": [
      "deterministic\n",
      "generating uncertainty maps\n"
     ]
    },
    {
     "name": "stderr",
     "output_type": "stream",
     "text": [
      "100%|██████████████████████████████████████████████████████████████| 10/10 [00:00<00:00, 166.19it/s]\n"
     ]
    },
    {
     "name": "stdout",
     "output_type": "stream",
     "text": [
      "folder already exists\n"
     ]
    },
    {
     "name": "stderr",
     "output_type": "stream",
     "text": [
      "100%|███████████████████████████████████████████████████████████████| 10/10 [00:04<00:00,  2.34it/s]\n",
      "100%|███████████████████████████████████████████████████████████████| 10/10 [00:03<00:00,  3.17it/s]\n"
     ]
    },
    {
     "name": "stdout",
     "output_type": "stream",
     "text": [
      "deterministic\n",
      "generating uncertainty maps\n"
     ]
    },
    {
     "name": "stderr",
     "output_type": "stream",
     "text": [
      "100%|███████████████████████████████████████████████████████████████| 10/10 [00:00<00:00, 43.14it/s]\n"
     ]
    },
    {
     "name": "stdout",
     "output_type": "stream",
     "text": [
      "folder already exists\n"
     ]
    },
    {
     "name": "stderr",
     "output_type": "stream",
     "text": [
      "100%|███████████████████████████████████████████████████████████████| 10/10 [00:05<00:00,  1.88it/s]\n"
     ]
    }
   ],
   "source": [
    "evaluate_dataset(litmodel, chal_ds_train, chal_train_ids, chal_train_output_dir)"
   ]
  },
  {
   "cell_type": "code",
   "execution_count": 245,
   "id": "e3890fad-013f-40fb-a265-3deda3c45161",
   "metadata": {},
   "outputs": [
    {
     "data": {
      "text/plain": [
       "68"
      ]
     },
     "execution_count": 245,
     "metadata": {},
     "output_type": "execute_result"
    }
   ],
   "source": [
    "len(mss3_ds)"
   ]
  },
  {
   "cell_type": "code",
   "execution_count": 308,
   "id": "5892a77e-ab98-41c6-8329-ae6579b1f680",
   "metadata": {},
   "outputs": [
    {
     "name": "stderr",
     "output_type": "stream",
     "text": [
      "100%|███████████████████████████████████████████████████████████████| 10/10 [00:10<00:00,  1.03s/it]\n"
     ]
    },
    {
     "name": "stdout",
     "output_type": "stream",
     "text": [
      "deterministic\n",
      "generating uncertainty maps\n"
     ]
    },
    {
     "name": "stderr",
     "output_type": "stream",
     "text": [
      "100%|███████████████████████████████████████████████████████████████| 10/10 [00:01<00:00,  9.92it/s]\n"
     ]
    },
    {
     "name": "stdout",
     "output_type": "stream",
     "text": [
      "folder already exists\n"
     ]
    },
    {
     "name": "stderr",
     "output_type": "stream",
     "text": [
      "100%|███████████████████████████████████████████████████████████████| 10/10 [00:05<00:00,  1.87it/s]\n",
      "100%|███████████████████████████████████████████████████████████████| 10/10 [00:13<00:00,  1.38s/it]\n"
     ]
    },
    {
     "name": "stdout",
     "output_type": "stream",
     "text": [
      "deterministic\n",
      "generating uncertainty maps\n"
     ]
    },
    {
     "name": "stderr",
     "output_type": "stream",
     "text": [
      "100%|███████████████████████████████████████████████████████████████| 10/10 [00:01<00:00,  8.47it/s]\n"
     ]
    },
    {
     "name": "stdout",
     "output_type": "stream",
     "text": [
      "folder already exists\n"
     ]
    },
    {
     "name": "stderr",
     "output_type": "stream",
     "text": [
      "100%|███████████████████████████████████████████████████████████████| 10/10 [00:05<00:00,  1.72it/s]\n",
      "100%|███████████████████████████████████████████████████████████████| 10/10 [00:11<00:00,  1.11s/it]\n"
     ]
    },
    {
     "name": "stdout",
     "output_type": "stream",
     "text": [
      "deterministic\n",
      "generating uncertainty maps\n"
     ]
    },
    {
     "name": "stderr",
     "output_type": "stream",
     "text": [
      "100%|██████████████████████████████████████████████████████████████| 10/10 [00:00<00:00, 142.03it/s]\n"
     ]
    },
    {
     "name": "stdout",
     "output_type": "stream",
     "text": [
      "folder already exists\n"
     ]
    },
    {
     "name": "stderr",
     "output_type": "stream",
     "text": [
      "100%|███████████████████████████████████████████████████████████████| 10/10 [00:05<00:00,  1.95it/s]\n",
      "100%|███████████████████████████████████████████████████████████████| 10/10 [00:10<00:00,  1.08s/it]\n"
     ]
    },
    {
     "name": "stdout",
     "output_type": "stream",
     "text": [
      "deterministic\n",
      "generating uncertainty maps\n"
     ]
    },
    {
     "name": "stderr",
     "output_type": "stream",
     "text": [
      "100%|███████████████████████████████████████████████████████████████| 10/10 [00:00<00:00, 83.15it/s]\n"
     ]
    },
    {
     "name": "stdout",
     "output_type": "stream",
     "text": [
      "folder already exists\n"
     ]
    },
    {
     "name": "stderr",
     "output_type": "stream",
     "text": [
      "100%|███████████████████████████████████████████████████████████████| 10/10 [00:05<00:00,  1.78it/s]\n",
      "100%|███████████████████████████████████████████████████████████████| 10/10 [00:12<00:00,  1.29s/it]\n"
     ]
    },
    {
     "name": "stdout",
     "output_type": "stream",
     "text": [
      "deterministic\n",
      "generating uncertainty maps\n"
     ]
    },
    {
     "name": "stderr",
     "output_type": "stream",
     "text": [
      "100%|███████████████████████████████████████████████████████████████| 10/10 [00:00<00:00, 10.85it/s]\n"
     ]
    },
    {
     "name": "stdout",
     "output_type": "stream",
     "text": [
      "folder already exists\n"
     ]
    },
    {
     "name": "stderr",
     "output_type": "stream",
     "text": [
      "100%|███████████████████████████████████████████████████████████████| 10/10 [00:05<00:00,  1.92it/s]\n",
      "100%|███████████████████████████████████████████████████████████████| 10/10 [00:12<00:00,  1.23s/it]\n"
     ]
    },
    {
     "name": "stdout",
     "output_type": "stream",
     "text": [
      "deterministic\n",
      "generating uncertainty maps\n"
     ]
    },
    {
     "name": "stderr",
     "output_type": "stream",
     "text": [
      "100%|███████████████████████████████████████████████████████████████| 10/10 [00:00<00:00, 23.34it/s]\n"
     ]
    },
    {
     "name": "stdout",
     "output_type": "stream",
     "text": [
      "folder already exists\n"
     ]
    },
    {
     "name": "stderr",
     "output_type": "stream",
     "text": [
      "100%|███████████████████████████████████████████████████████████████| 10/10 [00:05<00:00,  1.78it/s]\n"
     ]
    }
   ],
   "source": [
    "evaluate_dataset(litmodel, mss3_ds, mss3_ids, mss3_output_dir)"
   ]
  },
  {
   "cell_type": "code",
   "execution_count": null,
   "id": "a2bf9ad7-1096-4f65-a99c-fa1ba9aaf5d8",
   "metadata": {},
   "outputs": [],
   "source": []
  },
  {
   "cell_type": "code",
   "execution_count": null,
   "id": "74c14b36-c260-4c9f-92cd-7a6d17abd86c",
   "metadata": {},
   "outputs": [],
   "source": [
    "### now train the fazekas model"
   ]
  }
 ],
 "metadata": {
  "kernelspec": {
   "display_name": "Python 3 (ipykernel)",
   "language": "python",
   "name": "python3"
  },
  "language_info": {
   "codemirror_mode": {
    "name": "ipython",
    "version": 3
   },
   "file_extension": ".py",
   "mimetype": "text/x-python",
   "name": "python",
   "nbconvert_exporter": "python",
   "pygments_lexer": "ipython3",
   "version": "3.11.11"
  }
 },
 "nbformat": 4,
 "nbformat_minor": 5
}
