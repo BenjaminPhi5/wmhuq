{
 "cells": [
  {
   "cell_type": "markdown",
   "id": "f7705cec-1a60-40eb-8a22-3dc28bea40fa",
   "metadata": {},
   "source": [
    "### running the evaluation for the challenge dataset"
   ]
  },
  {
   "cell_type": "code",
   "execution_count": 1,
   "id": "0d1924ce-955d-4eac-99bf-5962f5cb6eef",
   "metadata": {},
   "outputs": [],
   "source": [
    "%load_ext autoreload"
   ]
  },
  {
   "cell_type": "code",
   "execution_count": 2,
   "id": "63cf7422-bf0a-45bd-b171-2ded47bd5cb2",
   "metadata": {},
   "outputs": [],
   "source": [
    "%autoreload"
   ]
  },
  {
   "cell_type": "code",
   "execution_count": 3,
   "id": "fa14325f-b699-4d1d-806c-11ab977230d9",
   "metadata": {},
   "outputs": [],
   "source": [
    "import torch\n",
    "import torch.nn as nn\n",
    "import numpy as np\n",
    "import os\n",
    "import matplotlib.pyplot as plt\n",
    "from torchinfo import summary\n",
    "from collections import defaultdict, namedtuple\n",
    "import pandas as pd\n",
    "import proplot as pplt\n",
    "import warnings\n",
    "warnings.filterwarnings(\"ignore\") # I should only put this in place when I am doing plotting and using proplot....\n",
    "from twaibrain.braintorch.utils.resize import crop_or_pad_dims\n",
    "from twaibrain.brainpreprep.utils.image_io import load_image\n",
    "import scipy\n",
    "import scipy.stats\n",
    "\n",
    "# model architecture\n",
    "import json\n",
    "from twaibrain.braintorch.models.nnUNet.nnUNetV2_model_loader import get_network_from_plans\n",
    "from twaibrain.braintorch.models.ssn import SSN_Wrapped_Deep_Supervision, SSN_Wrapped_Deep_Supervision_LLO, Hierarchical_SSN_with_ConvRefine, Hierarchical_SSN_with_ConvSpatialAttention\n",
    "\n",
    "# fitting code\n",
    "from twaibrain.braintorch.fitting_and_inference.get_trainer import get_trainer\n",
    "from twaibrain.braintorch.fitting_and_inference.get_scratch_dir import scratch_dir\n",
    "from twaibrain.braintorch.fitting_and_inference.optimizer_constructor import OptimizerConfigurator\n",
    "from twaibrain.braintorch.fitting_and_inference.lightning_fitter import StandardLitModelWrapper\n",
    "\n",
    "# loss function\n",
    "from twaibrain.braintorch.losses.ssn_losses import DeepSupervisionSSN, SSNCombinedDiceXent_and_MC_loss, SSNCombinedDiceXent_and_MC_loss_FromSamples\n",
    "from twaibrain.braintorch.losses.generic_deep_supervision import MultiDeepSupervisionLoss, DeepSupervisionLoss\n",
    "from twaibrain.braintorch.losses.dice_loss import SoftDiceV2\n",
    "from twaibrain.braintorch.losses.xent import dice_xent_loss\n",
    "\n",
    "# data\n",
    "from twaibrain.brainexperiments.run_nnUNet_v2.old_dataloading.dataset_pipelines import load_data\n",
    "from twaibrain.braintorch.data.legacy_dataset_types.dataset_wrappers import MonaiAugmentedDataset\n",
    "from twaibrain.braintorch.augmentation.nnunet_augmentations import get_nnunet_transforms, get_val_transforms\n",
    "from torch.utils.data import ConcatDataset\n",
    "from twaibrain.braintorch.data.legacy_dataset_types.mri_dataset_inram import MRISegmentation3DDataset\n",
    "from twaibrain.braintorch.data.legacy_dataset_types.mri_dataset_from_file import MRISegmentationDatasetFromFile, ArrayMRISegmentationDatasetFromFile\n",
    "from twaibrain.braintorch.data.legacy_dataset_types.mri_dataset_directory_parsers import *\n",
    "\n",
    "# evaluation code\n",
    "from twaibrain.brainexperiments.run_nnUNet_v2.evaluation.eval_helper_functions import *\n",
    "from twaibrain.brainexperiments.run_nnUNet_v2.evaluation.model_predictions import get_means_and_samples_2D\n",
    "from twaibrain.brainexperiments.run_nnUNet_v2.evaluation.model_predictions import *"
   ]
  },
  {
   "cell_type": "markdown",
   "id": "555ee30e-c703-4087-9cbf-960cd128ac38",
   "metadata": {},
   "source": [
    "### setting up params for the rest of the code to run"
   ]
  },
  {
   "cell_type": "code",
   "execution_count": 4,
   "id": "b2162225-8732-4b26-a257-a8a33bd9b5f6",
   "metadata": {},
   "outputs": [],
   "source": [
    "ARGS = namedtuple(\"args\", \"dataset test_split val_split seed \" + \n",
    "                  \"empty_slice_retention batch_size cross_validate cv_split cv_test_fold_smooth no_test_fold \" +\n",
    "                  \"num_workers dice_factor xent_factor xent_reweighting eval_split uncertainty_type\"\n",
    ")"
   ]
  },
  {
   "cell_type": "code",
   "execution_count": 5,
   "id": "7526adce-3f7e-473b-914c-a5494205ff5d",
   "metadata": {},
   "outputs": [],
   "source": [
    "VOXELS_TO_WMH_RATIO = 382\n",
    "VOXELS_TO_WMH_RATIO_EXCLUDING_EMPTY_SLICES = 140\n",
    "ESR = 0.5\n",
    "\n",
    "\n",
    "# setup xent reweighting factor\n",
    "XENT_VOXEL_RESCALE = VOXELS_TO_WMH_RATIO - (1-ESR) * (VOXELS_TO_WMH_RATIO - VOXELS_TO_WMH_RATIO_EXCLUDING_EMPTY_SLICES)\n",
    "\n",
    "XENT_WEIGHTING = XENT_VOXEL_RESCALE/2"
   ]
  },
  {
   "cell_type": "code",
   "execution_count": 21,
   "id": "9cac5d8e-f4b5-4f59-ae62-2b00f0052dcd",
   "metadata": {},
   "outputs": [],
   "source": [
    "args = ARGS(\n",
    "    dataset = \"chal\",\n",
    "    \n",
    "    test_split=0.15,\n",
    "    val_split=0.15,\n",
    "    eval_split='all',\n",
    "\n",
    "    seed=5,\n",
    "\n",
    "    empty_slice_retention=ESR,\n",
    "\n",
    "    uncertainty_type=\"ssn\",\n",
    "\n",
    "    batch_size=2,\n",
    "    cross_validate=True,\n",
    "    cv_split=0,\n",
    "    cv_test_fold_smooth=1,\n",
    "    no_test_fold=\"false\",\n",
    "    num_workers=16,\n",
    "\n",
    "    dice_factor=1,\n",
    "    xent_factor=1,\n",
    "    xent_reweighting=XENT_WEIGHTING\n",
    ")"
   ]
  },
  {
   "cell_type": "markdown",
   "id": "845fb744-1fc3-42d7-b839-291269aac125",
   "metadata": {},
   "source": [
    "### loading eval data"
   ]
  },
  {
   "cell_type": "code",
   "execution_count": 7,
   "id": "9d644bf7-475f-4c17-8310-3992d81b22e8",
   "metadata": {},
   "outputs": [
    {
     "name": "stdout",
     "output_type": "stream",
     "text": [
      "39 9 12\n"
     ]
    }
   ],
   "source": [
    "data_dict = load_data(\n",
    "    dataset=args.dataset, \n",
    "    test_proportion=args.test_split, \n",
    "    validation_proportion=args.val_split,\n",
    "    seed=args.seed,\n",
    "    empty_proportion_retained=args.empty_slice_retention,\n",
    "    batch_size=args.batch_size,\n",
    "    dataloader2d_only=False,\n",
    "    cross_validate=args.cross_validate,\n",
    "    cv_split=args.cv_split,\n",
    "    cv_test_fold_smooth=args.cv_test_fold_smooth,\n",
    "    merge_val_test=args.no_test_fold\n",
    ")"
   ]
  },
  {
   "cell_type": "code",
   "execution_count": 8,
   "id": "392d0f59-ffa3-4e77-b271-69256f5b9c8c",
   "metadata": {},
   "outputs": [],
   "source": [
    "if args.eval_split == \"all\":\n",
    "    eval_ds = ConcatDataset([data_dict['train_dataset3d'], data_dict['val_dataset3d'], data_dict['test_dataset3d']])\n",
    "else:\n",
    "    eval_ds = data_dict[f'{args.eval_split}_dataset3d']"
   ]
  },
  {
   "cell_type": "code",
   "execution_count": 9,
   "id": "d3d721fc-5bcf-4b5a-ba94-30a0b77a6604",
   "metadata": {},
   "outputs": [
    {
     "data": {
      "text/plain": [
       "60"
      ]
     },
     "execution_count": 9,
     "metadata": {},
     "output_type": "execute_result"
    }
   ],
   "source": [
    "len(eval_ds)"
   ]
  },
  {
   "cell_type": "code",
   "execution_count": 11,
   "id": "37b7cd01-c699-4180-a229-1510d5ebff1c",
   "metadata": {},
   "outputs": [],
   "source": [
    "# get the xs and ys\n",
    "xs3d_test = []\n",
    "ys3d_test = []\n",
    "\n",
    "for i, data in enumerate(eval_ds):\n",
    "    ys3d_test.append(data[1].squeeze())\n",
    "    xs3d_test.append(data[0])"
   ]
  },
  {
   "cell_type": "code",
   "execution_count": null,
   "id": "f1ec98fb-513c-47b9-a253-f6fccef5e889",
   "metadata": {},
   "outputs": [],
   "source": []
  },
  {
   "cell_type": "code",
   "execution_count": 12,
   "id": "01d24f3a-e92d-4423-b977-ea19e11a715c",
   "metadata": {},
   "outputs": [],
   "source": [
    "ys3d_test = [y * (y==1).type(y.dtype) for y in ys3d_test] # fix bug with challenge data having 3 classes on cluster only?\n",
    "gt_vols = GT_volumes(ys3d_test)"
   ]
  },
  {
   "cell_type": "code",
   "execution_count": 13,
   "id": "e7af5266-6d3b-4cf3-b385-1edf344c17f7",
   "metadata": {
    "scrolled": true
   },
   "outputs": [],
   "source": [
    "# to run on the nnUnet version of the model,\n",
    "# I should crop the x and y to the min and max points\n",
    "# this will also effectively centre the images for evaluation.\n",
    "for i in range(len(xs3d_test)):\n",
    "    x = xs3d_test[i]\n",
    "    y = ys3d_test[i]\n",
    "    wheres = torch.where(x[-1])\n",
    "    zs = (wheres[0].min().item(), wheres[0].max().item())\n",
    "    xs = (wheres[1].min().item(), wheres[1].max().item())\n",
    "    ys = (wheres[2].min().item(), wheres[2].max().item())\n",
    "    # print(zs, xs, ys)\n",
    "    # print(x.shape, y.shape)\n",
    "\n",
    "    x = x[:, zs[0]:zs[1]+1, xs[0]:xs[1]+1, ys[0]:ys[1]+1]\n",
    "    y = y[zs[0]:zs[1]+1, xs[0]:xs[1]+1, ys[0]:ys[1]+1]\n",
    "\n",
    "    # print(x.shape, y.shape)\n",
    "    \n",
    "    x = crop_or_pad_dims(x, [1,2,3], [48, 192, 192])\n",
    "    y = crop_or_pad_dims(y, [0,1,2], [48, 192, 192])\n",
    "\n",
    "    x = x.unsqueeze(0)\n",
    "\n",
    "    # print(x.shape, y.shape)\n",
    "    # print()\n",
    "    xs3d_test[i] = x\n",
    "    ys3d_test[i] = y"
   ]
  },
  {
   "cell_type": "code",
   "execution_count": 14,
   "id": "fcc1dcca-b5bc-49ba-b4a9-de8b3a539595",
   "metadata": {},
   "outputs": [
    {
     "data": {
      "text/plain": [
       "(-0.5, 191.5, -0.5, 191.5)"
      ]
     },
     "execution_count": 14,
     "metadata": {},
     "output_type": "execute_result"
    },
    {
     "data": {
      "image/png": "[encoded data removed]",
      "text/plain": [
       "<Figure size 400x400 with 2 Axes>"
      ]
     },
     "metadata": {
      "image/png": {
       "height": 400,
       "width": 400
      }
     },
     "output_type": "display_data"
    }
   ],
   "source": [
    "plt.subplot(1,2,1)\n",
    "plt.imshow(xs3d_test[30][0][0][24], cmap='gray', origin='lower')\n",
    "plt.axis('off')\n",
    "plt.subplot(1,2,2)\n",
    "plt.imshow(ys3d_test[30][24], cmap='gray', origin='lower')\n",
    "plt.axis('off')"
   ]
  },
  {
   "cell_type": "markdown",
   "id": "0fb569f9-1531-47f4-8275-faaf9e030654",
   "metadata": {},
   "source": [
    "### load a model checkpoint and get relevant predictions"
   ]
  },
  {
   "cell_type": "code",
   "execution_count": 15,
   "id": "306bae4d-122d-405c-bdf8-475bf2de1471",
   "metadata": {},
   "outputs": [],
   "source": [
    "model_config = \"/home/s2208943/projects/twaibrain/twaibrain/braintorch/models/nnUNet/cvd_configs/nnUNetResEncUNetMPlans.json\"\n",
    "\n",
    "with open(model_config) as f:\n",
    "    model_config = json.load(f)"
   ]
  },
  {
   "cell_type": "code",
   "execution_count": 18,
   "id": "6095ad18-3907-4d2f-96a1-1cea9900b397",
   "metadata": {},
   "outputs": [],
   "source": [
    "dims = \"2d\"\n",
    "config = model_config['configurations'][dims]['architecture']\n",
    "network_name = config['network_class_name']\n",
    "kw_requires_import = config['_kw_requires_import']\n",
    "\n",
    "model = get_network_from_plans(\n",
    "    arch_class_name=network_name,\n",
    "    arch_kwargs=config['arch_kwargs'],\n",
    "    arch_kwargs_req_import=kw_requires_import,\n",
    "    input_channels=3,\n",
    "    output_channels=32,\n",
    "    allow_init=True,\n",
    "    deep_supervision=True,\n",
    ")"
   ]
  },
  {
   "cell_type": "code",
   "execution_count": 19,
   "id": "7409a0a3-3203-4210-95e0-3ef7303f696a",
   "metadata": {},
   "outputs": [],
   "source": [
    "ssn_config = {\n",
    "    'intermediate_channels':32,\n",
    "    'out_channels':2,\n",
    "    'dims':2,\n",
    "    'rank':25,\n",
    "    'diagonal':False,\n",
    "}\n",
    "\n",
    "ssn_model = SSN_Wrapped_Deep_Supervision(model, 5, ssn_config)\n",
    "\n",
    "ssnllo_model = SSN_Wrapped_Deep_Supervision_LLO(model, ssn_config)"
   ]
  },
  {
   "cell_type": "code",
   "execution_count": 20,
   "id": "54d7e873-f4c0-4328-bd61-0db14b041b49",
   "metadata": {},
   "outputs": [],
   "source": [
    "%autoreload"
   ]
  },
  {
   "cell_type": "code",
   "execution_count": 80,
   "id": "9a76753a-b22d-4e03-9c0c-a45f9df8d593",
   "metadata": {},
   "outputs": [],
   "source": [
    "def get_model_preds(cv_fold, model=model, model_name=\"nnunet\", ckpt_path=None, model_func=deterministic_mean, do_reorder_samples=False):\n",
    "    litmodel = load_best_checkpoint(model, None, '.', cv_fold, ckpt_path)\n",
    "\n",
    "    means, samples, miscs = get_means_and_samples_2D(litmodel.model, zip(xs3d_test, ys3d_test), 10, model_func)\n",
    "\n",
    "    print(means[0].shape, samples[0].shape, ys3d_test[0].shape)\n",
    "\n",
    "    means = [m.squeeze(0).swapaxes(0, 1) for m in means]\n",
    "    means = [m[:,:2] for m in means]\n",
    "    if samples[0] is not None:\n",
    "        samples = [s.swapaxes(2, 3) for s in samples]\n",
    "        samples = [s[:,:,:,:2].squeeze() for s in samples]\n",
    "        \n",
    "\n",
    "    print(means[0].shape, samples[0].shape)\n",
    "\n",
    "    chal_results = per_model_chal_stats(means, ys3d_test)\n",
    "\n",
    "    rmses = []\n",
    "    for m, y in zip(means, ys3d_test):\n",
    "        m = m.cuda()\n",
    "        m = m.softmax(dim=1)[:,:2]\n",
    "        rmses.append(fast_rmse(m, y.cuda()).cpu())\n",
    "    rmses = torch.Tensor(rmses)\n",
    "    chal_results['rmse'] = rmses\n",
    "\n",
    "    chal_results['gt_vols'] = gt_vols\n",
    "\n",
    "    # run the evaluation on the samples\n",
    "    print(\"GETTING PER SAMPLE RESULTS\")\n",
    "    if samples[0] is not None:\n",
    "        if do_reorder_samples:\n",
    "            samples = [reorder_samples(s) for s in samples]\n",
    "        sample_top_dices, sample_dices = per_sample_metric(samples, ys3d_test, f=fast_dice, do_argmax=True, do_softmax=False, minimise=False)\n",
    "        sample_best_avds, sample_avds = per_sample_metric(samples, ys3d_test, f=fast_avd, do_argmax=True, do_softmax=False, minimise=True)\n",
    "        sample_best_rmses, sample_rmses = per_sample_metric(samples, ys3d_test, f=fast_rmse, do_argmax=False, do_softmax=True, minimise=True)\n",
    "    \n",
    "        # best dice, avd, rmse\n",
    "        chal_results['best_dice'] = sample_top_dices\n",
    "        chal_results['best_avd'] = sample_best_avds\n",
    "        chal_results['best_rmse'] = sample_best_rmses\n",
    "        \n",
    "        _, sample_vds = per_sample_metric(samples, ys3d_test, f=fast_vd, do_argmax=True, do_softmax=False, minimise=True, take_abs=False)\n",
    "        sample_vd_skew = torch.from_numpy(scipy.stats.skew(sample_vds, axis=1, bias=True))\n",
    "    \n",
    "        # vd of the sample distribution\n",
    "        chal_results['sample_vd_skew'] = sample_vd_skew\n",
    "        for s in range(sample_vds.shape[1]):\n",
    "            chal_results[f'sample_{s}_vd'] = sample_vds[:,s]\n",
    "            \n",
    "        # ged score\n",
    "        geds = iou_GED(means, ys3d_test, samples)\n",
    "        chal_results['GED^2'] = geds\n",
    "\n",
    "    # get the uncertainty maps\n",
    "    print(\"GENREATING UNCERTAINTY MAPS\")\n",
    "    uncertainty_thresholds = torch.arange(0, 0.7, 0.01)\n",
    "    ent_maps = get_uncertainty_maps(means, samples, miscs, args)\n",
    "\n",
    "    # pavpu\n",
    "    print(\"PAVPU\")\n",
    "    all_acc_cert, all_uncert_inacc,all_pavpu = all_individuals_pavpu(means, ent_maps, ys3d_test, 4, 0.8, uncertainty_thresholds)\n",
    "    \n",
    "    for i, tau in enumerate(uncertainty_thresholds):\n",
    "        chal_results[f'p_acc_cert_{tau:.2f}'] = all_acc_cert[:,i]\n",
    "        chal_results[f'p_uncert_inacc_{tau:.2f}'] = all_uncert_inacc[:,i]\n",
    "        chal_results[f'pavpu_{tau:.2f}'] = all_pavpu[:,i]\n",
    "    \n",
    "    # sUEO score and UEO per threshold\n",
    "    print(\"UEO\")\n",
    "    sUEOs = get_sUEOs(means, ys3d_test, ent_maps)\n",
    "    chal_results['sUEO'] = sUEOs\n",
    "    ueos = UEO_per_threshold_analysis(uncertainty_thresholds, ys3d_test, ent_maps, means, 0.7)\n",
    "    for i, tau in enumerate(uncertainty_thresholds):\n",
    "        chal_results[f'UEO_{tau:.2f}'] = ueos[i]\n",
    "    \n",
    "    # 3D connected component analysis\n",
    "    print(\"3D CC ANALYSIS\")\n",
    "    num_lesions_all, sizes_all, mean_missed_area3d_all, mean_size_missed_lesions3d_all, mean_cov_mean_missed_lesions3d_all, prop_lesions_missed3d_all = do_3d_cc_analysis_per_individual(means, ys3d_test, ent_maps, uncertainty_thresholds)\n",
    "    for i, tau in enumerate(uncertainty_thresholds):\n",
    "        chal_results[f'mean_missed_area3d_all_{tau:.2f}'] = torch.stack(mean_missed_area3d_all)[:,i]\n",
    "        chal_results[f'mean_cov_mean_missed_lesions3d_all_{tau:.2f}'] = torch.stack(mean_cov_mean_missed_lesions3d_all)[:,i]\n",
    "        chal_results[f'mean_size_missed_lesions3d_all_{tau:.2f}'] = torch.stack(mean_size_missed_lesions3d_all)[:,i]\n",
    "        chal_results[f'prop_lesions_missed3d_all_{tau:.2f}'] = torch.stack(prop_lesions_missed3d_all)[:,i]\n",
    "        \n",
    "\n",
    "    # save the results\n",
    "    print(\"SAVING RESULTS\")\n",
    "    results_out_dir = \"/home/s2208943/ipdis/WMH_UQ_assessment/trustworthai/journal_run/evaluation/results/cross_validated_results/out_domain_results/\"\n",
    "    write_per_model_channel_stats(results_out_dir, model_name, f\"{model_name}0_cv{cv_fold}\", preds=None, ys3d_test=None, args=args, chal_results=chal_results)\n",
    "    \n",
    "    print(\"DONE\")"
   ]
  },
  {
   "cell_type": "code",
   "execution_count": 81,
   "id": "bbb69110-80b7-4e85-bead-1fca802529c3",
   "metadata": {},
   "outputs": [],
   "source": [
    "%autoreload"
   ]
  },
  {
   "cell_type": "markdown",
   "id": "2820a33d-a4d9-4e3d-a9bc-d3f2c18fe73d",
   "metadata": {},
   "source": [
    "### SSN V0"
   ]
  },
  {
   "cell_type": "code",
   "execution_count": 82,
   "id": "fa0b6638-fea7-47c7-9207-fd62ce4dee3d",
   "metadata": {},
   "outputs": [
    {
     "name": "stderr",
     "output_type": "stream",
     "text": [
      "60it [00:23,  2.57it/s]\n"
     ]
    },
    {
     "name": "stdout",
     "output_type": "stream",
     "text": [
      "torch.Size([1, 2, 48, 192, 192]) torch.Size([10, 1, 2, 48, 192, 192]) torch.Size([48, 192, 192])\n",
      "torch.Size([48, 2, 192, 192]) torch.Size([10, 48, 2, 192, 192])\n"
     ]
    },
    {
     "name": "stderr",
     "output_type": "stream",
     "text": [
      "100%|███████████████████████████████████████████████████████████████| 60/60 [01:07<00:00,  1.13s/it]\n"
     ]
    },
    {
     "name": "stdout",
     "output_type": "stream",
     "text": [
      "GETTING PER SAMPLE RESULTS\n"
     ]
    },
    {
     "name": "stderr",
     "output_type": "stream",
     "text": [
      "100%|███████████████████████████████████████████████████████████████| 60/60 [00:01<00:00, 39.05it/s]\n",
      "100%|███████████████████████████████████████████████████████████████| 60/60 [00:01<00:00, 43.60it/s]\n",
      "100%|███████████████████████████████████████████████████████████████| 60/60 [00:01<00:00, 34.42it/s]\n",
      "100%|███████████████████████████████████████████████████████████████| 60/60 [00:01<00:00, 42.40it/s]\n",
      "100%|███████████████████████████████████████████████████████████████| 60/60 [00:03<00:00, 16.68it/s]\n"
     ]
    },
    {
     "name": "stdout",
     "output_type": "stream",
     "text": [
      "GENREATING UNCERTAINTY MAPS\n",
      "ssn\n",
      "generating uncertainty maps\n"
     ]
    },
    {
     "name": "stderr",
     "output_type": "stream",
     "text": [
      "100%|███████████████████████████████████████████████████████████████| 60/60 [00:06<00:00,  9.07it/s]\n"
     ]
    },
    {
     "name": "stdout",
     "output_type": "stream",
     "text": [
      "PAVPU\n"
     ]
    },
    {
     "name": "stderr",
     "output_type": "stream",
     "text": [
      "100%|███████████████████████████████████████████████████████████████| 60/60 [00:01<00:00, 41.01it/s]\n"
     ]
    },
    {
     "name": "stdout",
     "output_type": "stream",
     "text": [
      "UEO\n"
     ]
    },
    {
     "name": "stderr",
     "output_type": "stream",
     "text": [
      "100%|███████████████████████████████████████████████████████████████| 60/60 [00:12<00:00,  4.99it/s]\n",
      "100%|███████████████████████████████████████████████████████████████| 60/60 [00:13<00:00,  4.30it/s]\n"
     ]
    },
    {
     "name": "stdout",
     "output_type": "stream",
     "text": [
      "3D CC ANALYSIS\n"
     ]
    },
    {
     "name": "stderr",
     "output_type": "stream",
     "text": [
      "100%|███████████████████████████████████████████████████████████████| 60/60 [01:58<00:00,  1.97s/it]\n"
     ]
    },
    {
     "name": "stdout",
     "output_type": "stream",
     "text": [
      "SAVING RESULTS\n",
      "DONE\n"
     ]
    },
    {
     "name": "stderr",
     "output_type": "stream",
     "text": [
      "60it [00:21,  2.74it/s]\n"
     ]
    },
    {
     "name": "stdout",
     "output_type": "stream",
     "text": [
      "torch.Size([1, 2, 48, 192, 192]) torch.Size([10, 1, 2, 48, 192, 192]) torch.Size([48, 192, 192])\n",
      "torch.Size([48, 2, 192, 192]) torch.Size([10, 48, 2, 192, 192])\n"
     ]
    },
    {
     "name": "stderr",
     "output_type": "stream",
     "text": [
      "100%|███████████████████████████████████████████████████████████████| 60/60 [01:08<00:00,  1.14s/it]\n"
     ]
    },
    {
     "name": "stdout",
     "output_type": "stream",
     "text": [
      "GETTING PER SAMPLE RESULTS\n"
     ]
    },
    {
     "name": "stderr",
     "output_type": "stream",
     "text": [
      "100%|███████████████████████████████████████████████████████████████| 60/60 [00:01<00:00, 38.89it/s]\n",
      "100%|███████████████████████████████████████████████████████████████| 60/60 [00:01<00:00, 42.58it/s]\n",
      "100%|███████████████████████████████████████████████████████████████| 60/60 [00:01<00:00, 33.99it/s]\n",
      "100%|███████████████████████████████████████████████████████████████| 60/60 [00:01<00:00, 43.54it/s]\n",
      "100%|███████████████████████████████████████████████████████████████| 60/60 [00:03<00:00, 16.88it/s]\n"
     ]
    },
    {
     "name": "stdout",
     "output_type": "stream",
     "text": [
      "GENREATING UNCERTAINTY MAPS\n",
      "ssn\n",
      "generating uncertainty maps\n"
     ]
    },
    {
     "name": "stderr",
     "output_type": "stream",
     "text": [
      "100%|███████████████████████████████████████████████████████████████| 60/60 [00:03<00:00, 15.03it/s]\n"
     ]
    },
    {
     "name": "stdout",
     "output_type": "stream",
     "text": [
      "PAVPU\n"
     ]
    },
    {
     "name": "stderr",
     "output_type": "stream",
     "text": [
      "100%|███████████████████████████████████████████████████████████████| 60/60 [00:01<00:00, 41.49it/s]\n"
     ]
    },
    {
     "name": "stdout",
     "output_type": "stream",
     "text": [
      "UEO\n"
     ]
    },
    {
     "name": "stderr",
     "output_type": "stream",
     "text": [
      "100%|███████████████████████████████████████████████████████████████| 60/60 [00:12<00:00,  5.00it/s]\n",
      "100%|███████████████████████████████████████████████████████████████| 60/60 [00:13<00:00,  4.34it/s]\n"
     ]
    },
    {
     "name": "stdout",
     "output_type": "stream",
     "text": [
      "3D CC ANALYSIS\n"
     ]
    },
    {
     "name": "stderr",
     "output_type": "stream",
     "text": [
      "100%|███████████████████████████████████████████████████████████████| 60/60 [01:56<00:00,  1.95s/it]\n"
     ]
    },
    {
     "name": "stdout",
     "output_type": "stream",
     "text": [
      "SAVING RESULTS\n",
      "DONE\n"
     ]
    },
    {
     "name": "stderr",
     "output_type": "stream",
     "text": [
      "60it [00:21,  2.74it/s]\n"
     ]
    },
    {
     "name": "stdout",
     "output_type": "stream",
     "text": [
      "torch.Size([1, 2, 48, 192, 192]) torch.Size([10, 1, 2, 48, 192, 192]) torch.Size([48, 192, 192])\n",
      "torch.Size([48, 2, 192, 192]) torch.Size([10, 48, 2, 192, 192])\n"
     ]
    },
    {
     "name": "stderr",
     "output_type": "stream",
     "text": [
      "100%|███████████████████████████████████████████████████████████████| 60/60 [01:11<00:00,  1.18s/it]\n"
     ]
    },
    {
     "name": "stdout",
     "output_type": "stream",
     "text": [
      "GETTING PER SAMPLE RESULTS\n"
     ]
    },
    {
     "name": "stderr",
     "output_type": "stream",
     "text": [
      "100%|███████████████████████████████████████████████████████████████| 60/60 [00:01<00:00, 38.23it/s]\n",
      "100%|███████████████████████████████████████████████████████████████| 60/60 [00:01<00:00, 43.29it/s]\n",
      "100%|███████████████████████████████████████████████████████████████| 60/60 [00:01<00:00, 34.19it/s]\n",
      "100%|███████████████████████████████████████████████████████████████| 60/60 [00:01<00:00, 43.69it/s]\n",
      "100%|███████████████████████████████████████████████████████████████| 60/60 [00:03<00:00, 16.74it/s]\n"
     ]
    },
    {
     "name": "stdout",
     "output_type": "stream",
     "text": [
      "GENREATING UNCERTAINTY MAPS\n",
      "ssn\n",
      "generating uncertainty maps\n"
     ]
    },
    {
     "name": "stderr",
     "output_type": "stream",
     "text": [
      "100%|███████████████████████████████████████████████████████████████| 60/60 [00:03<00:00, 16.40it/s]\n"
     ]
    },
    {
     "name": "stdout",
     "output_type": "stream",
     "text": [
      "PAVPU\n"
     ]
    },
    {
     "name": "stderr",
     "output_type": "stream",
     "text": [
      "100%|███████████████████████████████████████████████████████████████| 60/60 [00:01<00:00, 39.04it/s]\n"
     ]
    },
    {
     "name": "stdout",
     "output_type": "stream",
     "text": [
      "UEO\n"
     ]
    },
    {
     "name": "stderr",
     "output_type": "stream",
     "text": [
      "100%|███████████████████████████████████████████████████████████████| 60/60 [00:12<00:00,  4.99it/s]\n",
      "100%|███████████████████████████████████████████████████████████████| 60/60 [00:13<00:00,  4.29it/s]\n"
     ]
    },
    {
     "name": "stdout",
     "output_type": "stream",
     "text": [
      "3D CC ANALYSIS\n"
     ]
    },
    {
     "name": "stderr",
     "output_type": "stream",
     "text": [
      "100%|███████████████████████████████████████████████████████████████| 60/60 [01:55<00:00,  1.92s/it]\n"
     ]
    },
    {
     "name": "stdout",
     "output_type": "stream",
     "text": [
      "SAVING RESULTS\n",
      "DONE\n"
     ]
    },
    {
     "name": "stderr",
     "output_type": "stream",
     "text": [
      "60it [00:21,  2.77it/s]\n"
     ]
    },
    {
     "name": "stdout",
     "output_type": "stream",
     "text": [
      "torch.Size([1, 2, 48, 192, 192]) torch.Size([10, 1, 2, 48, 192, 192]) torch.Size([48, 192, 192])\n",
      "torch.Size([48, 2, 192, 192]) torch.Size([10, 48, 2, 192, 192])\n"
     ]
    },
    {
     "name": "stderr",
     "output_type": "stream",
     "text": [
      "100%|███████████████████████████████████████████████████████████████| 60/60 [01:07<00:00,  1.13s/it]\n"
     ]
    },
    {
     "name": "stdout",
     "output_type": "stream",
     "text": [
      "GETTING PER SAMPLE RESULTS\n"
     ]
    },
    {
     "name": "stderr",
     "output_type": "stream",
     "text": [
      "100%|███████████████████████████████████████████████████████████████| 60/60 [00:01<00:00, 39.76it/s]\n",
      "100%|███████████████████████████████████████████████████████████████| 60/60 [00:01<00:00, 44.58it/s]\n",
      "100%|███████████████████████████████████████████████████████████████| 60/60 [00:01<00:00, 35.58it/s]\n",
      "100%|███████████████████████████████████████████████████████████████| 60/60 [00:01<00:00, 44.70it/s]\n",
      "100%|███████████████████████████████████████████████████████████████| 60/60 [00:03<00:00, 16.79it/s]\n"
     ]
    },
    {
     "name": "stdout",
     "output_type": "stream",
     "text": [
      "GENREATING UNCERTAINTY MAPS\n",
      "ssn\n",
      "generating uncertainty maps\n"
     ]
    },
    {
     "name": "stderr",
     "output_type": "stream",
     "text": [
      "100%|███████████████████████████████████████████████████████████████| 60/60 [00:03<00:00, 17.22it/s]\n"
     ]
    },
    {
     "name": "stdout",
     "output_type": "stream",
     "text": [
      "PAVPU\n"
     ]
    },
    {
     "name": "stderr",
     "output_type": "stream",
     "text": [
      "100%|███████████████████████████████████████████████████████████████| 60/60 [00:01<00:00, 41.77it/s]\n"
     ]
    },
    {
     "name": "stdout",
     "output_type": "stream",
     "text": [
      "UEO\n"
     ]
    },
    {
     "name": "stderr",
     "output_type": "stream",
     "text": [
      "100%|███████████████████████████████████████████████████████████████| 60/60 [00:11<00:00,  5.17it/s]\n",
      "100%|███████████████████████████████████████████████████████████████| 60/60 [00:13<00:00,  4.38it/s]\n"
     ]
    },
    {
     "name": "stdout",
     "output_type": "stream",
     "text": [
      "3D CC ANALYSIS\n"
     ]
    },
    {
     "name": "stderr",
     "output_type": "stream",
     "text": [
      "100%|███████████████████████████████████████████████████████████████| 60/60 [01:57<00:00,  1.95s/it]\n"
     ]
    },
    {
     "name": "stdout",
     "output_type": "stream",
     "text": [
      "SAVING RESULTS\n",
      "DONE\n"
     ]
    },
    {
     "name": "stderr",
     "output_type": "stream",
     "text": [
      "60it [00:21,  2.74it/s]\n"
     ]
    },
    {
     "name": "stdout",
     "output_type": "stream",
     "text": [
      "torch.Size([1, 2, 48, 192, 192]) torch.Size([10, 1, 2, 48, 192, 192]) torch.Size([48, 192, 192])\n",
      "torch.Size([48, 2, 192, 192]) torch.Size([10, 48, 2, 192, 192])\n"
     ]
    },
    {
     "name": "stderr",
     "output_type": "stream",
     "text": [
      "100%|███████████████████████████████████████████████████████████████| 60/60 [01:07<00:00,  1.13s/it]\n"
     ]
    },
    {
     "name": "stdout",
     "output_type": "stream",
     "text": [
      "GETTING PER SAMPLE RESULTS\n"
     ]
    },
    {
     "name": "stderr",
     "output_type": "stream",
     "text": [
      "100%|███████████████████████████████████████████████████████████████| 60/60 [00:01<00:00, 37.49it/s]\n",
      "100%|███████████████████████████████████████████████████████████████| 60/60 [00:01<00:00, 41.60it/s]\n",
      "100%|███████████████████████████████████████████████████████████████| 60/60 [00:01<00:00, 32.99it/s]\n",
      "100%|███████████████████████████████████████████████████████████████| 60/60 [00:01<00:00, 42.64it/s]\n",
      "100%|███████████████████████████████████████████████████████████████| 60/60 [00:03<00:00, 16.63it/s]\n"
     ]
    },
    {
     "name": "stdout",
     "output_type": "stream",
     "text": [
      "GENREATING UNCERTAINTY MAPS\n",
      "ssn\n",
      "generating uncertainty maps\n"
     ]
    },
    {
     "name": "stderr",
     "output_type": "stream",
     "text": [
      "100%|███████████████████████████████████████████████████████████████| 60/60 [00:03<00:00, 17.77it/s]\n"
     ]
    },
    {
     "name": "stdout",
     "output_type": "stream",
     "text": [
      "PAVPU\n"
     ]
    },
    {
     "name": "stderr",
     "output_type": "stream",
     "text": [
      "100%|███████████████████████████████████████████████████████████████| 60/60 [00:01<00:00, 42.17it/s]\n"
     ]
    },
    {
     "name": "stdout",
     "output_type": "stream",
     "text": [
      "UEO\n"
     ]
    },
    {
     "name": "stderr",
     "output_type": "stream",
     "text": [
      "100%|███████████████████████████████████████████████████████████████| 60/60 [00:12<00:00,  5.00it/s]\n",
      "100%|███████████████████████████████████████████████████████████████| 60/60 [00:13<00:00,  4.37it/s]\n"
     ]
    },
    {
     "name": "stdout",
     "output_type": "stream",
     "text": [
      "3D CC ANALYSIS\n"
     ]
    },
    {
     "name": "stderr",
     "output_type": "stream",
     "text": [
      "100%|███████████████████████████████████████████████████████████████| 60/60 [01:53<00:00,  1.89s/it]\n"
     ]
    },
    {
     "name": "stdout",
     "output_type": "stream",
     "text": [
      "SAVING RESULTS\n",
      "DONE\n"
     ]
    },
    {
     "name": "stderr",
     "output_type": "stream",
     "text": [
      "60it [00:21,  2.75it/s]\n"
     ]
    },
    {
     "name": "stdout",
     "output_type": "stream",
     "text": [
      "torch.Size([1, 2, 48, 192, 192]) torch.Size([10, 1, 2, 48, 192, 192]) torch.Size([48, 192, 192])\n",
      "torch.Size([48, 2, 192, 192]) torch.Size([10, 48, 2, 192, 192])\n"
     ]
    },
    {
     "name": "stderr",
     "output_type": "stream",
     "text": [
      "100%|███████████████████████████████████████████████████████████████| 60/60 [01:07<00:00,  1.13s/it]\n"
     ]
    },
    {
     "name": "stdout",
     "output_type": "stream",
     "text": [
      "GETTING PER SAMPLE RESULTS\n"
     ]
    },
    {
     "name": "stderr",
     "output_type": "stream",
     "text": [
      "100%|███████████████████████████████████████████████████████████████| 60/60 [00:01<00:00, 37.88it/s]\n",
      "100%|███████████████████████████████████████████████████████████████| 60/60 [00:01<00:00, 43.30it/s]\n",
      "100%|███████████████████████████████████████████████████████████████| 60/60 [00:01<00:00, 34.06it/s]\n",
      "100%|███████████████████████████████████████████████████████████████| 60/60 [00:01<00:00, 43.65it/s]\n",
      "100%|███████████████████████████████████████████████████████████████| 60/60 [00:03<00:00, 16.96it/s]\n"
     ]
    },
    {
     "name": "stdout",
     "output_type": "stream",
     "text": [
      "GENREATING UNCERTAINTY MAPS\n",
      "ssn\n",
      "generating uncertainty maps\n"
     ]
    },
    {
     "name": "stderr",
     "output_type": "stream",
     "text": [
      "100%|███████████████████████████████████████████████████████████████| 60/60 [00:04<00:00, 13.66it/s]\n"
     ]
    },
    {
     "name": "stdout",
     "output_type": "stream",
     "text": [
      "PAVPU\n"
     ]
    },
    {
     "name": "stderr",
     "output_type": "stream",
     "text": [
      "100%|███████████████████████████████████████████████████████████████| 60/60 [00:01<00:00, 41.85it/s]\n"
     ]
    },
    {
     "name": "stdout",
     "output_type": "stream",
     "text": [
      "UEO\n"
     ]
    },
    {
     "name": "stderr",
     "output_type": "stream",
     "text": [
      "100%|███████████████████████████████████████████████████████████████| 60/60 [00:11<00:00,  5.04it/s]\n",
      "100%|███████████████████████████████████████████████████████████████| 60/60 [00:13<00:00,  4.37it/s]\n"
     ]
    },
    {
     "name": "stdout",
     "output_type": "stream",
     "text": [
      "3D CC ANALYSIS\n"
     ]
    },
    {
     "name": "stderr",
     "output_type": "stream",
     "text": [
      "100%|███████████████████████████████████████████████████████████████| 60/60 [01:53<00:00,  1.89s/it]\n"
     ]
    },
    {
     "name": "stdout",
     "output_type": "stream",
     "text": [
      "SAVING RESULTS\n",
      "DONE\n"
     ]
    }
   ],
   "source": [
    "ckpt_path = \"/home/s2208943/projects/twaibrain/twaibrain/brainexperiments/run_nnUNet_v2/training/ssn_model_ckpts/nnunet2D_ssnV0_ens0_cv0/epoch=66-step=18827.ckpt\"\n",
    "get_model_preds(0, model=ssn_model, model_name=\"ssnNnunetV0-2D\", ckpt_path=ckpt_path, model_func=ssn_mean_and_samples)\n",
    "\n",
    "ckpt_path = \"/home/s2208943/projects/twaibrain/twaibrain/brainexperiments/run_nnUNet_v2/training/ssn_model_ckpts/nnunet2D_ssnV0_ens0_cv1/epoch=56-step=16017.ckpt\"\n",
    "get_model_preds(1, model=ssn_model, model_name=\"ssnNnunetV0-2D\", ckpt_path=ckpt_path, model_func=ssn_mean_and_samples)\n",
    "\n",
    "ckpt_path = \"/home/s2208943/projects/twaibrain/twaibrain/brainexperiments/run_nnUNet_v2/training/ssn_model_ckpts/nnunet2D_ssnV0_ens0_cv2/epoch=41-step=11802.ckpt\"\n",
    "get_model_preds(2, model=ssn_model, model_name=\"ssnNnunetV0-2D\", ckpt_path=ckpt_path, model_func=ssn_mean_and_samples)\n",
    "\n",
    "ckpt_path = \"/home/s2208943/projects/twaibrain/twaibrain/brainexperiments/run_nnUNet_v2/training/ssn_model_ckpts/nnunet2D_ssnV0_ens0_cv3/epoch=41-step=11802.ckpt\"\n",
    "get_model_preds(3, model=ssn_model, model_name=\"ssnNnunetV0-2D\", ckpt_path=ckpt_path, model_func=ssn_mean_and_samples)\n",
    "\n",
    "ckpt_path = \"/home/s2208943/projects/twaibrain/twaibrain/brainexperiments/run_nnUNet_v2/training/ssn_model_ckpts/nnunet2D_ssnV0_ens0_cv4/epoch=34-step=9835.ckpt\"\n",
    "get_model_preds(4, model=ssn_model, model_name=\"ssnNnunetV0-2D\", ckpt_path=ckpt_path, model_func=ssn_mean_and_samples)\n",
    "\n",
    "ckpt_path = \"/home/s2208943/projects/twaibrain/twaibrain/brainexperiments/run_nnUNet_v2/training/ssn_model_ckpts/nnunet2D_ssnV0_ens0_cv5/epoch=75-step=21356.ckpt\"\n",
    "get_model_preds(5, model=ssn_model, model_name=\"ssnNnunetV0-2D\", ckpt_path=ckpt_path, model_func=ssn_mean_and_samples)"
   ]
  },
  {
   "cell_type": "markdown",
   "id": "f03d2f9e-24ec-4017-bad5-3d9203ff4efd",
   "metadata": {},
   "source": [
    "### SSN V1"
   ]
  },
  {
   "cell_type": "code",
   "execution_count": 83,
   "id": "dfb98ba9-b029-4bc4-9050-fe67f241643c",
   "metadata": {},
   "outputs": [
    {
     "name": "stderr",
     "output_type": "stream",
     "text": [
      "60it [00:21,  2.75it/s]\n"
     ]
    },
    {
     "name": "stdout",
     "output_type": "stream",
     "text": [
      "torch.Size([1, 2, 48, 192, 192]) torch.Size([10, 1, 2, 48, 192, 192]) torch.Size([48, 192, 192])\n",
      "torch.Size([48, 2, 192, 192]) torch.Size([10, 48, 2, 192, 192])\n"
     ]
    },
    {
     "name": "stderr",
     "output_type": "stream",
     "text": [
      "100%|███████████████████████████████████████████████████████████████| 60/60 [01:09<00:00,  1.15s/it]\n"
     ]
    },
    {
     "name": "stdout",
     "output_type": "stream",
     "text": [
      "GETTING PER SAMPLE RESULTS\n"
     ]
    },
    {
     "name": "stderr",
     "output_type": "stream",
     "text": [
      "100%|███████████████████████████████████████████████████████████████| 60/60 [00:01<00:00, 37.78it/s]\n",
      "100%|███████████████████████████████████████████████████████████████| 60/60 [00:01<00:00, 42.09it/s]\n",
      "100%|███████████████████████████████████████████████████████████████| 60/60 [00:01<00:00, 33.18it/s]\n",
      "100%|███████████████████████████████████████████████████████████████| 60/60 [00:01<00:00, 42.42it/s]\n",
      "100%|███████████████████████████████████████████████████████████████| 60/60 [00:03<00:00, 16.83it/s]\n"
     ]
    },
    {
     "name": "stdout",
     "output_type": "stream",
     "text": [
      "GENREATING UNCERTAINTY MAPS\n",
      "ssn\n",
      "generating uncertainty maps\n"
     ]
    },
    {
     "name": "stderr",
     "output_type": "stream",
     "text": [
      "100%|███████████████████████████████████████████████████████████████| 60/60 [00:04<00:00, 14.32it/s]\n"
     ]
    },
    {
     "name": "stdout",
     "output_type": "stream",
     "text": [
      "PAVPU\n"
     ]
    },
    {
     "name": "stderr",
     "output_type": "stream",
     "text": [
      "100%|███████████████████████████████████████████████████████████████| 60/60 [00:01<00:00, 42.13it/s]\n"
     ]
    },
    {
     "name": "stdout",
     "output_type": "stream",
     "text": [
      "UEO\n"
     ]
    },
    {
     "name": "stderr",
     "output_type": "stream",
     "text": [
      "100%|███████████████████████████████████████████████████████████████| 60/60 [00:12<00:00,  4.90it/s]\n",
      "100%|███████████████████████████████████████████████████████████████| 60/60 [00:14<00:00,  4.26it/s]\n"
     ]
    },
    {
     "name": "stdout",
     "output_type": "stream",
     "text": [
      "3D CC ANALYSIS\n"
     ]
    },
    {
     "name": "stderr",
     "output_type": "stream",
     "text": [
      "100%|███████████████████████████████████████████████████████████████| 60/60 [01:54<00:00,  1.91s/it]\n"
     ]
    },
    {
     "name": "stdout",
     "output_type": "stream",
     "text": [
      "SAVING RESULTS\n",
      "DONE\n"
     ]
    },
    {
     "name": "stderr",
     "output_type": "stream",
     "text": [
      "60it [00:21,  2.76it/s]\n"
     ]
    },
    {
     "name": "stdout",
     "output_type": "stream",
     "text": [
      "torch.Size([1, 2, 48, 192, 192]) torch.Size([10, 1, 2, 48, 192, 192]) torch.Size([48, 192, 192])\n",
      "torch.Size([48, 2, 192, 192]) torch.Size([10, 48, 2, 192, 192])\n"
     ]
    },
    {
     "name": "stderr",
     "output_type": "stream",
     "text": [
      "100%|███████████████████████████████████████████████████████████████| 60/60 [01:08<00:00,  1.13s/it]\n"
     ]
    },
    {
     "name": "stdout",
     "output_type": "stream",
     "text": [
      "GETTING PER SAMPLE RESULTS\n"
     ]
    },
    {
     "name": "stderr",
     "output_type": "stream",
     "text": [
      "100%|███████████████████████████████████████████████████████████████| 60/60 [00:01<00:00, 37.91it/s]\n",
      "100%|███████████████████████████████████████████████████████████████| 60/60 [00:01<00:00, 42.13it/s]\n",
      "100%|███████████████████████████████████████████████████████████████| 60/60 [00:01<00:00, 33.47it/s]\n",
      "100%|███████████████████████████████████████████████████████████████| 60/60 [00:01<00:00, 42.33it/s]\n",
      "100%|███████████████████████████████████████████████████████████████| 60/60 [00:03<00:00, 16.66it/s]\n"
     ]
    },
    {
     "name": "stdout",
     "output_type": "stream",
     "text": [
      "GENREATING UNCERTAINTY MAPS\n",
      "ssn\n",
      "generating uncertainty maps\n"
     ]
    },
    {
     "name": "stderr",
     "output_type": "stream",
     "text": [
      "100%|███████████████████████████████████████████████████████████████| 60/60 [00:03<00:00, 17.85it/s]\n"
     ]
    },
    {
     "name": "stdout",
     "output_type": "stream",
     "text": [
      "PAVPU\n"
     ]
    },
    {
     "name": "stderr",
     "output_type": "stream",
     "text": [
      "100%|███████████████████████████████████████████████████████████████| 60/60 [00:01<00:00, 41.50it/s]\n"
     ]
    },
    {
     "name": "stdout",
     "output_type": "stream",
     "text": [
      "UEO\n"
     ]
    },
    {
     "name": "stderr",
     "output_type": "stream",
     "text": [
      "100%|███████████████████████████████████████████████████████████████| 60/60 [00:11<00:00,  5.01it/s]\n",
      "100%|███████████████████████████████████████████████████████████████| 60/60 [00:13<00:00,  4.31it/s]\n"
     ]
    },
    {
     "name": "stdout",
     "output_type": "stream",
     "text": [
      "3D CC ANALYSIS\n"
     ]
    },
    {
     "name": "stderr",
     "output_type": "stream",
     "text": [
      "100%|███████████████████████████████████████████████████████████████| 60/60 [01:59<00:00,  2.00s/it]\n"
     ]
    },
    {
     "name": "stdout",
     "output_type": "stream",
     "text": [
      "SAVING RESULTS\n",
      "DONE\n"
     ]
    },
    {
     "name": "stderr",
     "output_type": "stream",
     "text": [
      "60it [00:21,  2.80it/s]\n"
     ]
    },
    {
     "name": "stdout",
     "output_type": "stream",
     "text": [
      "torch.Size([1, 2, 48, 192, 192]) torch.Size([10, 1, 2, 48, 192, 192]) torch.Size([48, 192, 192])\n",
      "torch.Size([48, 2, 192, 192]) torch.Size([10, 48, 2, 192, 192])\n"
     ]
    },
    {
     "name": "stderr",
     "output_type": "stream",
     "text": [
      "100%|███████████████████████████████████████████████████████████████| 60/60 [01:06<00:00,  1.11s/it]\n"
     ]
    },
    {
     "name": "stdout",
     "output_type": "stream",
     "text": [
      "GETTING PER SAMPLE RESULTS\n"
     ]
    },
    {
     "name": "stderr",
     "output_type": "stream",
     "text": [
      "100%|███████████████████████████████████████████████████████████████| 60/60 [00:01<00:00, 38.63it/s]\n",
      "100%|███████████████████████████████████████████████████████████████| 60/60 [00:01<00:00, 44.57it/s]\n",
      "100%|███████████████████████████████████████████████████████████████| 60/60 [00:01<00:00, 35.17it/s]\n",
      "100%|███████████████████████████████████████████████████████████████| 60/60 [00:01<00:00, 44.50it/s]\n",
      "100%|███████████████████████████████████████████████████████████████| 60/60 [00:03<00:00, 17.00it/s]\n"
     ]
    },
    {
     "name": "stdout",
     "output_type": "stream",
     "text": [
      "GENREATING UNCERTAINTY MAPS\n",
      "ssn\n",
      "generating uncertainty maps\n"
     ]
    },
    {
     "name": "stderr",
     "output_type": "stream",
     "text": [
      "100%|███████████████████████████████████████████████████████████████| 60/60 [00:03<00:00, 19.12it/s]\n"
     ]
    },
    {
     "name": "stdout",
     "output_type": "stream",
     "text": [
      "PAVPU\n"
     ]
    },
    {
     "name": "stderr",
     "output_type": "stream",
     "text": [
      "100%|███████████████████████████████████████████████████████████████| 60/60 [00:01<00:00, 42.27it/s]\n"
     ]
    },
    {
     "name": "stdout",
     "output_type": "stream",
     "text": [
      "UEO\n"
     ]
    },
    {
     "name": "stderr",
     "output_type": "stream",
     "text": [
      "100%|███████████████████████████████████████████████████████████████| 60/60 [00:11<00:00,  5.07it/s]\n",
      "100%|███████████████████████████████████████████████████████████████| 60/60 [00:13<00:00,  4.43it/s]\n"
     ]
    },
    {
     "name": "stdout",
     "output_type": "stream",
     "text": [
      "3D CC ANALYSIS\n"
     ]
    },
    {
     "name": "stderr",
     "output_type": "stream",
     "text": [
      "100%|███████████████████████████████████████████████████████████████| 60/60 [01:52<00:00,  1.88s/it]\n"
     ]
    },
    {
     "name": "stdout",
     "output_type": "stream",
     "text": [
      "SAVING RESULTS\n",
      "DONE\n"
     ]
    },
    {
     "name": "stderr",
     "output_type": "stream",
     "text": [
      "60it [00:21,  2.74it/s]\n"
     ]
    },
    {
     "name": "stdout",
     "output_type": "stream",
     "text": [
      "torch.Size([1, 2, 48, 192, 192]) torch.Size([10, 1, 2, 48, 192, 192]) torch.Size([48, 192, 192])\n",
      "torch.Size([48, 2, 192, 192]) torch.Size([10, 48, 2, 192, 192])\n"
     ]
    },
    {
     "name": "stderr",
     "output_type": "stream",
     "text": [
      "100%|███████████████████████████████████████████████████████████████| 60/60 [01:10<00:00,  1.17s/it]\n"
     ]
    },
    {
     "name": "stdout",
     "output_type": "stream",
     "text": [
      "GETTING PER SAMPLE RESULTS\n"
     ]
    },
    {
     "name": "stderr",
     "output_type": "stream",
     "text": [
      "100%|███████████████████████████████████████████████████████████████| 60/60 [00:01<00:00, 39.02it/s]\n",
      "100%|███████████████████████████████████████████████████████████████| 60/60 [00:01<00:00, 43.42it/s]\n",
      "100%|███████████████████████████████████████████████████████████████| 60/60 [00:01<00:00, 34.39it/s]\n",
      "100%|███████████████████████████████████████████████████████████████| 60/60 [00:01<00:00, 43.71it/s]\n",
      "100%|███████████████████████████████████████████████████████████████| 60/60 [00:03<00:00, 16.94it/s]\n"
     ]
    },
    {
     "name": "stdout",
     "output_type": "stream",
     "text": [
      "GENREATING UNCERTAINTY MAPS\n",
      "ssn\n",
      "generating uncertainty maps\n"
     ]
    },
    {
     "name": "stderr",
     "output_type": "stream",
     "text": [
      "100%|███████████████████████████████████████████████████████████████| 60/60 [00:03<00:00, 18.66it/s]\n"
     ]
    },
    {
     "name": "stdout",
     "output_type": "stream",
     "text": [
      "PAVPU\n"
     ]
    },
    {
     "name": "stderr",
     "output_type": "stream",
     "text": [
      "100%|███████████████████████████████████████████████████████████████| 60/60 [00:01<00:00, 42.31it/s]\n"
     ]
    },
    {
     "name": "stdout",
     "output_type": "stream",
     "text": [
      "UEO\n"
     ]
    },
    {
     "name": "stderr",
     "output_type": "stream",
     "text": [
      "100%|███████████████████████████████████████████████████████████████| 60/60 [00:12<00:00,  4.99it/s]\n",
      "100%|███████████████████████████████████████████████████████████████| 60/60 [00:13<00:00,  4.36it/s]\n"
     ]
    },
    {
     "name": "stdout",
     "output_type": "stream",
     "text": [
      "3D CC ANALYSIS\n"
     ]
    },
    {
     "name": "stderr",
     "output_type": "stream",
     "text": [
      "100%|███████████████████████████████████████████████████████████████| 60/60 [01:50<00:00,  1.83s/it]\n"
     ]
    },
    {
     "name": "stdout",
     "output_type": "stream",
     "text": [
      "SAVING RESULTS\n",
      "DONE\n"
     ]
    },
    {
     "name": "stderr",
     "output_type": "stream",
     "text": [
      "60it [00:21,  2.77it/s]\n"
     ]
    },
    {
     "name": "stdout",
     "output_type": "stream",
     "text": [
      "torch.Size([1, 2, 48, 192, 192]) torch.Size([10, 1, 2, 48, 192, 192]) torch.Size([48, 192, 192])\n",
      "torch.Size([48, 2, 192, 192]) torch.Size([10, 48, 2, 192, 192])\n"
     ]
    },
    {
     "name": "stderr",
     "output_type": "stream",
     "text": [
      "100%|███████████████████████████████████████████████████████████████| 60/60 [01:08<00:00,  1.15s/it]\n"
     ]
    },
    {
     "name": "stdout",
     "output_type": "stream",
     "text": [
      "GETTING PER SAMPLE RESULTS\n"
     ]
    },
    {
     "name": "stderr",
     "output_type": "stream",
     "text": [
      "100%|███████████████████████████████████████████████████████████████| 60/60 [00:01<00:00, 39.44it/s]\n",
      "100%|███████████████████████████████████████████████████████████████| 60/60 [00:01<00:00, 43.00it/s]\n",
      "100%|███████████████████████████████████████████████████████████████| 60/60 [00:01<00:00, 34.24it/s]\n",
      "100%|███████████████████████████████████████████████████████████████| 60/60 [00:01<00:00, 43.14it/s]\n",
      "100%|███████████████████████████████████████████████████████████████| 60/60 [00:03<00:00, 16.79it/s]\n"
     ]
    },
    {
     "name": "stdout",
     "output_type": "stream",
     "text": [
      "GENREATING UNCERTAINTY MAPS\n",
      "ssn\n",
      "generating uncertainty maps\n"
     ]
    },
    {
     "name": "stderr",
     "output_type": "stream",
     "text": [
      "100%|███████████████████████████████████████████████████████████████| 60/60 [00:03<00:00, 15.79it/s]\n"
     ]
    },
    {
     "name": "stdout",
     "output_type": "stream",
     "text": [
      "PAVPU\n"
     ]
    },
    {
     "name": "stderr",
     "output_type": "stream",
     "text": [
      "100%|███████████████████████████████████████████████████████████████| 60/60 [00:01<00:00, 41.65it/s]\n"
     ]
    },
    {
     "name": "stdout",
     "output_type": "stream",
     "text": [
      "UEO\n"
     ]
    },
    {
     "name": "stderr",
     "output_type": "stream",
     "text": [
      "100%|███████████████████████████████████████████████████████████████| 60/60 [00:11<00:00,  5.01it/s]\n",
      "100%|███████████████████████████████████████████████████████████████| 60/60 [00:14<00:00,  4.23it/s]\n"
     ]
    },
    {
     "name": "stdout",
     "output_type": "stream",
     "text": [
      "3D CC ANALYSIS\n"
     ]
    },
    {
     "name": "stderr",
     "output_type": "stream",
     "text": [
      "100%|███████████████████████████████████████████████████████████████| 60/60 [01:56<00:00,  1.94s/it]\n"
     ]
    },
    {
     "name": "stdout",
     "output_type": "stream",
     "text": [
      "SAVING RESULTS\n",
      "DONE\n"
     ]
    },
    {
     "name": "stderr",
     "output_type": "stream",
     "text": [
      "60it [00:21,  2.76it/s]\n"
     ]
    },
    {
     "name": "stdout",
     "output_type": "stream",
     "text": [
      "torch.Size([1, 2, 48, 192, 192]) torch.Size([10, 1, 2, 48, 192, 192]) torch.Size([48, 192, 192])\n",
      "torch.Size([48, 2, 192, 192]) torch.Size([10, 48, 2, 192, 192])\n"
     ]
    },
    {
     "name": "stderr",
     "output_type": "stream",
     "text": [
      "100%|███████████████████████████████████████████████████████████████| 60/60 [01:07<00:00,  1.13s/it]\n"
     ]
    },
    {
     "name": "stdout",
     "output_type": "stream",
     "text": [
      "GETTING PER SAMPLE RESULTS\n"
     ]
    },
    {
     "name": "stderr",
     "output_type": "stream",
     "text": [
      "100%|███████████████████████████████████████████████████████████████| 60/60 [00:01<00:00, 39.03it/s]\n",
      "100%|███████████████████████████████████████████████████████████████| 60/60 [00:01<00:00, 43.60it/s]\n",
      "100%|███████████████████████████████████████████████████████████████| 60/60 [00:01<00:00, 33.90it/s]\n",
      "100%|███████████████████████████████████████████████████████████████| 60/60 [00:01<00:00, 43.23it/s]\n",
      "100%|███████████████████████████████████████████████████████████████| 60/60 [00:03<00:00, 16.91it/s]\n"
     ]
    },
    {
     "name": "stdout",
     "output_type": "stream",
     "text": [
      "GENREATING UNCERTAINTY MAPS\n",
      "ssn\n",
      "generating uncertainty maps\n"
     ]
    },
    {
     "name": "stderr",
     "output_type": "stream",
     "text": [
      "100%|███████████████████████████████████████████████████████████████| 60/60 [00:03<00:00, 16.79it/s]\n"
     ]
    },
    {
     "name": "stdout",
     "output_type": "stream",
     "text": [
      "PAVPU\n"
     ]
    },
    {
     "name": "stderr",
     "output_type": "stream",
     "text": [
      "100%|███████████████████████████████████████████████████████████████| 60/60 [00:01<00:00, 41.55it/s]\n"
     ]
    },
    {
     "name": "stdout",
     "output_type": "stream",
     "text": [
      "UEO\n"
     ]
    },
    {
     "name": "stderr",
     "output_type": "stream",
     "text": [
      "100%|███████████████████████████████████████████████████████████████| 60/60 [00:11<00:00,  5.00it/s]\n",
      "100%|███████████████████████████████████████████████████████████████| 60/60 [00:13<00:00,  4.36it/s]\n"
     ]
    },
    {
     "name": "stdout",
     "output_type": "stream",
     "text": [
      "3D CC ANALYSIS\n"
     ]
    },
    {
     "name": "stderr",
     "output_type": "stream",
     "text": [
      "100%|███████████████████████████████████████████████████████████████| 60/60 [01:53<00:00,  1.90s/it]\n"
     ]
    },
    {
     "name": "stdout",
     "output_type": "stream",
     "text": [
      "SAVING RESULTS\n",
      "DONE\n"
     ]
    }
   ],
   "source": [
    "ckpt_path = \"/home/s2208943/projects/twaibrain/twaibrain/brainexperiments/run_nnUNet_v2/training/ssn_model_ckpts/nnunet2D_ssnV1_ens0_cv0/epoch=56-step=16017.ckpt\"\n",
    "get_model_preds(0, model=ssn_model, model_name=\"ssnNnunetV1-2D\", ckpt_path=ckpt_path, model_func=ssn_mean_and_samples)\n",
    "\n",
    "ckpt_path = \"/home/s2208943/projects/twaibrain/twaibrain/brainexperiments/run_nnUNet_v2/training/ssn_model_ckpts/nnunet2D_ssnV1_ens0_cv1/epoch=33-step=9554.ckpt\"\n",
    "get_model_preds(1, model=ssn_model, model_name=\"ssnNnunetV1-2D\", ckpt_path=ckpt_path, model_func=ssn_mean_and_samples)\n",
    "\n",
    "ckpt_path = \"/home/s2208943/projects/twaibrain/twaibrain/brainexperiments/run_nnUNet_v2/training/ssn_model_ckpts/nnunet2D_ssnV1_ens0_cv2/epoch=50-step=14331.ckpt\"\n",
    "get_model_preds(2, model=ssn_model, model_name=\"ssnNnunetV1-2D\", ckpt_path=ckpt_path, model_func=ssn_mean_and_samples)\n",
    "\n",
    "ckpt_path = \"/home/s2208943/projects/twaibrain/twaibrain/brainexperiments/run_nnUNet_v2/training/ssn_model_ckpts/nnunet2D_ssnV1_ens0_cv3/epoch=59-step=16860.ckpt\"\n",
    "get_model_preds(3, model=ssn_model, model_name=\"ssnNnunetV1-2D\", ckpt_path=ckpt_path, model_func=ssn_mean_and_samples)\n",
    "\n",
    "ckpt_path = \"/home/s2208943/projects/twaibrain/twaibrain/brainexperiments/run_nnUNet_v2/training/ssn_model_ckpts/nnunet2D_ssnV1_ens0_cv4/epoch=72-step=20513.ckpt\"\n",
    "get_model_preds(4, model=ssn_model, model_name=\"ssnNnunetV1-2D\", ckpt_path=ckpt_path, model_func=ssn_mean_and_samples)\n",
    "\n",
    "ckpt_path = \"/home/s2208943/projects/twaibrain/twaibrain/brainexperiments/run_nnUNet_v2/training/ssn_model_ckpts/nnunet2D_ssnV1_ens0_cv5/epoch=62-step=17703.ckpt\"\n",
    "get_model_preds(5, model=ssn_model, model_name=\"ssnNnunetV1-2D\", ckpt_path=ckpt_path, model_func=ssn_mean_and_samples)"
   ]
  },
  {
   "cell_type": "code",
   "execution_count": null,
   "id": "121d2489-1899-4426-aa79-7edad32ec330",
   "metadata": {},
   "outputs": [],
   "source": []
  },
  {
   "cell_type": "markdown",
   "id": "e7fd6cdc-c871-4467-a790-61246f336fb4",
   "metadata": {},
   "source": [
    "### SSN V4"
   ]
  },
  {
   "cell_type": "code",
   "execution_count": 84,
   "id": "a2a8511f-fe4d-470f-88b6-466f7f4710e2",
   "metadata": {},
   "outputs": [
    {
     "name": "stderr",
     "output_type": "stream",
     "text": [
      "60it [00:21,  2.79it/s]\n"
     ]
    },
    {
     "name": "stdout",
     "output_type": "stream",
     "text": [
      "torch.Size([1, 2, 48, 192, 192]) torch.Size([10, 1, 2, 48, 192, 192]) torch.Size([48, 192, 192])\n",
      "torch.Size([48, 2, 192, 192]) torch.Size([10, 48, 2, 192, 192])\n"
     ]
    },
    {
     "name": "stderr",
     "output_type": "stream",
     "text": [
      "100%|███████████████████████████████████████████████████████████████| 60/60 [01:07<00:00,  1.13s/it]\n"
     ]
    },
    {
     "name": "stdout",
     "output_type": "stream",
     "text": [
      "GETTING PER SAMPLE RESULTS\n"
     ]
    },
    {
     "name": "stderr",
     "output_type": "stream",
     "text": [
      "100%|███████████████████████████████████████████████████████████████| 60/60 [00:01<00:00, 38.98it/s]\n",
      "100%|███████████████████████████████████████████████████████████████| 60/60 [00:01<00:00, 43.64it/s]\n",
      "100%|███████████████████████████████████████████████████████████████| 60/60 [00:01<00:00, 34.11it/s]\n",
      "100%|███████████████████████████████████████████████████████████████| 60/60 [00:01<00:00, 43.82it/s]\n",
      "100%|███████████████████████████████████████████████████████████████| 60/60 [00:03<00:00, 16.91it/s]\n"
     ]
    },
    {
     "name": "stdout",
     "output_type": "stream",
     "text": [
      "GENREATING UNCERTAINTY MAPS\n",
      "ssn\n",
      "generating uncertainty maps\n"
     ]
    },
    {
     "name": "stderr",
     "output_type": "stream",
     "text": [
      "100%|███████████████████████████████████████████████████████████████| 60/60 [00:03<00:00, 19.37it/s]\n"
     ]
    },
    {
     "name": "stdout",
     "output_type": "stream",
     "text": [
      "PAVPU\n"
     ]
    },
    {
     "name": "stderr",
     "output_type": "stream",
     "text": [
      "100%|███████████████████████████████████████████████████████████████| 60/60 [00:01<00:00, 41.65it/s]\n"
     ]
    },
    {
     "name": "stdout",
     "output_type": "stream",
     "text": [
      "UEO\n"
     ]
    },
    {
     "name": "stderr",
     "output_type": "stream",
     "text": [
      "100%|███████████████████████████████████████████████████████████████| 60/60 [00:11<00:00,  5.03it/s]\n",
      "100%|███████████████████████████████████████████████████████████████| 60/60 [00:13<00:00,  4.38it/s]\n"
     ]
    },
    {
     "name": "stdout",
     "output_type": "stream",
     "text": [
      "3D CC ANALYSIS\n"
     ]
    },
    {
     "name": "stderr",
     "output_type": "stream",
     "text": [
      "100%|███████████████████████████████████████████████████████████████| 60/60 [01:53<00:00,  1.89s/it]\n"
     ]
    },
    {
     "name": "stdout",
     "output_type": "stream",
     "text": [
      "SAVING RESULTS\n",
      "DONE\n"
     ]
    },
    {
     "name": "stderr",
     "output_type": "stream",
     "text": [
      "60it [00:21,  2.76it/s]\n"
     ]
    },
    {
     "name": "stdout",
     "output_type": "stream",
     "text": [
      "torch.Size([1, 2, 48, 192, 192]) torch.Size([10, 1, 2, 48, 192, 192]) torch.Size([48, 192, 192])\n",
      "torch.Size([48, 2, 192, 192]) torch.Size([10, 48, 2, 192, 192])\n"
     ]
    },
    {
     "name": "stderr",
     "output_type": "stream",
     "text": [
      "100%|███████████████████████████████████████████████████████████████| 60/60 [01:08<00:00,  1.13s/it]\n"
     ]
    },
    {
     "name": "stdout",
     "output_type": "stream",
     "text": [
      "GETTING PER SAMPLE RESULTS\n"
     ]
    },
    {
     "name": "stderr",
     "output_type": "stream",
     "text": [
      "100%|███████████████████████████████████████████████████████████████| 60/60 [00:01<00:00, 38.80it/s]\n",
      "100%|███████████████████████████████████████████████████████████████| 60/60 [00:01<00:00, 43.01it/s]\n",
      "100%|███████████████████████████████████████████████████████████████| 60/60 [00:01<00:00, 33.92it/s]\n",
      "100%|███████████████████████████████████████████████████████████████| 60/60 [00:01<00:00, 43.21it/s]\n",
      "100%|███████████████████████████████████████████████████████████████| 60/60 [00:03<00:00, 16.88it/s]\n"
     ]
    },
    {
     "name": "stdout",
     "output_type": "stream",
     "text": [
      "GENREATING UNCERTAINTY MAPS\n",
      "ssn\n",
      "generating uncertainty maps\n"
     ]
    },
    {
     "name": "stderr",
     "output_type": "stream",
     "text": [
      "100%|███████████████████████████████████████████████████████████████| 60/60 [00:04<00:00, 13.24it/s]\n"
     ]
    },
    {
     "name": "stdout",
     "output_type": "stream",
     "text": [
      "PAVPU\n"
     ]
    },
    {
     "name": "stderr",
     "output_type": "stream",
     "text": [
      "100%|███████████████████████████████████████████████████████████████| 60/60 [00:01<00:00, 41.96it/s]\n"
     ]
    },
    {
     "name": "stdout",
     "output_type": "stream",
     "text": [
      "UEO\n"
     ]
    },
    {
     "name": "stderr",
     "output_type": "stream",
     "text": [
      "100%|███████████████████████████████████████████████████████████████| 60/60 [00:12<00:00,  4.95it/s]\n",
      "100%|███████████████████████████████████████████████████████████████| 60/60 [00:13<00:00,  4.32it/s]\n"
     ]
    },
    {
     "name": "stdout",
     "output_type": "stream",
     "text": [
      "3D CC ANALYSIS\n"
     ]
    },
    {
     "name": "stderr",
     "output_type": "stream",
     "text": [
      "100%|███████████████████████████████████████████████████████████████| 60/60 [01:54<00:00,  1.92s/it]\n"
     ]
    },
    {
     "name": "stdout",
     "output_type": "stream",
     "text": [
      "SAVING RESULTS\n",
      "DONE\n"
     ]
    },
    {
     "name": "stderr",
     "output_type": "stream",
     "text": [
      "60it [00:21,  2.74it/s]\n"
     ]
    },
    {
     "name": "stdout",
     "output_type": "stream",
     "text": [
      "torch.Size([1, 2, 48, 192, 192]) torch.Size([10, 1, 2, 48, 192, 192]) torch.Size([48, 192, 192])\n",
      "torch.Size([48, 2, 192, 192]) torch.Size([10, 48, 2, 192, 192])\n"
     ]
    },
    {
     "name": "stderr",
     "output_type": "stream",
     "text": [
      "100%|███████████████████████████████████████████████████████████████| 60/60 [01:08<00:00,  1.14s/it]\n"
     ]
    },
    {
     "name": "stdout",
     "output_type": "stream",
     "text": [
      "GETTING PER SAMPLE RESULTS\n"
     ]
    },
    {
     "name": "stderr",
     "output_type": "stream",
     "text": [
      "100%|███████████████████████████████████████████████████████████████| 60/60 [00:01<00:00, 40.03it/s]\n",
      "100%|███████████████████████████████████████████████████████████████| 60/60 [00:01<00:00, 44.71it/s]\n",
      "100%|███████████████████████████████████████████████████████████████| 60/60 [00:01<00:00, 33.79it/s]\n",
      "100%|███████████████████████████████████████████████████████████████| 60/60 [00:01<00:00, 44.67it/s]\n",
      "100%|███████████████████████████████████████████████████████████████| 60/60 [00:03<00:00, 17.06it/s]\n"
     ]
    },
    {
     "name": "stdout",
     "output_type": "stream",
     "text": [
      "GENREATING UNCERTAINTY MAPS\n",
      "ssn\n",
      "generating uncertainty maps\n"
     ]
    },
    {
     "name": "stderr",
     "output_type": "stream",
     "text": [
      "100%|███████████████████████████████████████████████████████████████| 60/60 [00:03<00:00, 18.38it/s]\n"
     ]
    },
    {
     "name": "stdout",
     "output_type": "stream",
     "text": [
      "PAVPU\n"
     ]
    },
    {
     "name": "stderr",
     "output_type": "stream",
     "text": [
      "100%|███████████████████████████████████████████████████████████████| 60/60 [00:01<00:00, 41.96it/s]\n"
     ]
    },
    {
     "name": "stdout",
     "output_type": "stream",
     "text": [
      "UEO\n"
     ]
    },
    {
     "name": "stderr",
     "output_type": "stream",
     "text": [
      "100%|███████████████████████████████████████████████████████████████| 60/60 [00:11<00:00,  5.10it/s]\n",
      "100%|███████████████████████████████████████████████████████████████| 60/60 [00:13<00:00,  4.37it/s]\n"
     ]
    },
    {
     "name": "stdout",
     "output_type": "stream",
     "text": [
      "3D CC ANALYSIS\n"
     ]
    },
    {
     "name": "stderr",
     "output_type": "stream",
     "text": [
      "100%|███████████████████████████████████████████████████████████████| 60/60 [01:53<00:00,  1.89s/it]\n"
     ]
    },
    {
     "name": "stdout",
     "output_type": "stream",
     "text": [
      "SAVING RESULTS\n",
      "DONE\n"
     ]
    },
    {
     "name": "stderr",
     "output_type": "stream",
     "text": [
      "60it [00:21,  2.76it/s]\n"
     ]
    },
    {
     "name": "stdout",
     "output_type": "stream",
     "text": [
      "torch.Size([1, 2, 48, 192, 192]) torch.Size([10, 1, 2, 48, 192, 192]) torch.Size([48, 192, 192])\n",
      "torch.Size([48, 2, 192, 192]) torch.Size([10, 48, 2, 192, 192])\n"
     ]
    },
    {
     "name": "stderr",
     "output_type": "stream",
     "text": [
      "100%|███████████████████████████████████████████████████████████████| 60/60 [01:08<00:00,  1.14s/it]\n"
     ]
    },
    {
     "name": "stdout",
     "output_type": "stream",
     "text": [
      "GETTING PER SAMPLE RESULTS\n"
     ]
    },
    {
     "name": "stderr",
     "output_type": "stream",
     "text": [
      "100%|███████████████████████████████████████████████████████████████| 60/60 [00:01<00:00, 36.57it/s]\n",
      "100%|███████████████████████████████████████████████████████████████| 60/60 [00:01<00:00, 43.48it/s]\n",
      "100%|███████████████████████████████████████████████████████████████| 60/60 [00:01<00:00, 34.42it/s]\n",
      "100%|███████████████████████████████████████████████████████████████| 60/60 [00:01<00:00, 44.06it/s]\n",
      "100%|███████████████████████████████████████████████████████████████| 60/60 [00:03<00:00, 16.89it/s]\n"
     ]
    },
    {
     "name": "stdout",
     "output_type": "stream",
     "text": [
      "GENREATING UNCERTAINTY MAPS\n",
      "ssn\n",
      "generating uncertainty maps\n"
     ]
    },
    {
     "name": "stderr",
     "output_type": "stream",
     "text": [
      "100%|███████████████████████████████████████████████████████████████| 60/60 [00:04<00:00, 13.82it/s]\n"
     ]
    },
    {
     "name": "stdout",
     "output_type": "stream",
     "text": [
      "PAVPU\n"
     ]
    },
    {
     "name": "stderr",
     "output_type": "stream",
     "text": [
      "100%|███████████████████████████████████████████████████████████████| 60/60 [00:01<00:00, 41.32it/s]\n"
     ]
    },
    {
     "name": "stdout",
     "output_type": "stream",
     "text": [
      "UEO\n"
     ]
    },
    {
     "name": "stderr",
     "output_type": "stream",
     "text": [
      "100%|███████████████████████████████████████████████████████████████| 60/60 [00:12<00:00,  4.95it/s]\n",
      "100%|███████████████████████████████████████████████████████████████| 60/60 [00:13<00:00,  4.38it/s]\n"
     ]
    },
    {
     "name": "stdout",
     "output_type": "stream",
     "text": [
      "3D CC ANALYSIS\n"
     ]
    },
    {
     "name": "stderr",
     "output_type": "stream",
     "text": [
      "100%|███████████████████████████████████████████████████████████████| 60/60 [01:52<00:00,  1.87s/it]\n"
     ]
    },
    {
     "name": "stdout",
     "output_type": "stream",
     "text": [
      "SAVING RESULTS\n",
      "DONE\n"
     ]
    },
    {
     "name": "stderr",
     "output_type": "stream",
     "text": [
      "60it [00:21,  2.74it/s]\n"
     ]
    },
    {
     "name": "stdout",
     "output_type": "stream",
     "text": [
      "torch.Size([1, 2, 48, 192, 192]) torch.Size([10, 1, 2, 48, 192, 192]) torch.Size([48, 192, 192])\n",
      "torch.Size([48, 2, 192, 192]) torch.Size([10, 48, 2, 192, 192])\n"
     ]
    },
    {
     "name": "stderr",
     "output_type": "stream",
     "text": [
      "100%|███████████████████████████████████████████████████████████████| 60/60 [01:08<00:00,  1.15s/it]\n"
     ]
    },
    {
     "name": "stdout",
     "output_type": "stream",
     "text": [
      "GETTING PER SAMPLE RESULTS\n"
     ]
    },
    {
     "name": "stderr",
     "output_type": "stream",
     "text": [
      "100%|███████████████████████████████████████████████████████████████| 60/60 [00:01<00:00, 38.71it/s]\n",
      "100%|███████████████████████████████████████████████████████████████| 60/60 [00:01<00:00, 42.99it/s]\n",
      "100%|███████████████████████████████████████████████████████████████| 60/60 [00:01<00:00, 33.72it/s]\n",
      "100%|███████████████████████████████████████████████████████████████| 60/60 [00:01<00:00, 43.34it/s]\n",
      "100%|███████████████████████████████████████████████████████████████| 60/60 [00:03<00:00, 16.87it/s]\n"
     ]
    },
    {
     "name": "stdout",
     "output_type": "stream",
     "text": [
      "GENREATING UNCERTAINTY MAPS\n",
      "ssn\n",
      "generating uncertainty maps\n"
     ]
    },
    {
     "name": "stderr",
     "output_type": "stream",
     "text": [
      "100%|███████████████████████████████████████████████████████████████| 60/60 [00:03<00:00, 15.20it/s]\n"
     ]
    },
    {
     "name": "stdout",
     "output_type": "stream",
     "text": [
      "PAVPU\n"
     ]
    },
    {
     "name": "stderr",
     "output_type": "stream",
     "text": [
      "100%|███████████████████████████████████████████████████████████████| 60/60 [00:01<00:00, 41.61it/s]\n"
     ]
    },
    {
     "name": "stdout",
     "output_type": "stream",
     "text": [
      "UEO\n"
     ]
    },
    {
     "name": "stderr",
     "output_type": "stream",
     "text": [
      "100%|███████████████████████████████████████████████████████████████| 60/60 [00:11<00:00,  5.02it/s]\n",
      "100%|███████████████████████████████████████████████████████████████| 60/60 [00:13<00:00,  4.29it/s]\n"
     ]
    },
    {
     "name": "stdout",
     "output_type": "stream",
     "text": [
      "3D CC ANALYSIS\n"
     ]
    },
    {
     "name": "stderr",
     "output_type": "stream",
     "text": [
      "100%|███████████████████████████████████████████████████████████████| 60/60 [01:50<00:00,  1.84s/it]\n"
     ]
    },
    {
     "name": "stdout",
     "output_type": "stream",
     "text": [
      "SAVING RESULTS\n",
      "DONE\n"
     ]
    },
    {
     "name": "stderr",
     "output_type": "stream",
     "text": [
      "60it [00:21,  2.76it/s]\n"
     ]
    },
    {
     "name": "stdout",
     "output_type": "stream",
     "text": [
      "torch.Size([1, 2, 48, 192, 192]) torch.Size([10, 1, 2, 48, 192, 192]) torch.Size([48, 192, 192])\n",
      "torch.Size([48, 2, 192, 192]) torch.Size([10, 48, 2, 192, 192])\n"
     ]
    },
    {
     "name": "stderr",
     "output_type": "stream",
     "text": [
      "100%|███████████████████████████████████████████████████████████████| 60/60 [01:08<00:00,  1.15s/it]\n"
     ]
    },
    {
     "name": "stdout",
     "output_type": "stream",
     "text": [
      "GETTING PER SAMPLE RESULTS\n"
     ]
    },
    {
     "name": "stderr",
     "output_type": "stream",
     "text": [
      "100%|███████████████████████████████████████████████████████████████| 60/60 [00:01<00:00, 37.59it/s]\n",
      "100%|███████████████████████████████████████████████████████████████| 60/60 [00:01<00:00, 42.29it/s]\n",
      "100%|███████████████████████████████████████████████████████████████| 60/60 [00:01<00:00, 33.38it/s]\n",
      "100%|███████████████████████████████████████████████████████████████| 60/60 [00:01<00:00, 42.82it/s]\n",
      "100%|███████████████████████████████████████████████████████████████| 60/60 [00:03<00:00, 16.94it/s]\n"
     ]
    },
    {
     "name": "stdout",
     "output_type": "stream",
     "text": [
      "GENREATING UNCERTAINTY MAPS\n",
      "ssn\n",
      "generating uncertainty maps\n"
     ]
    },
    {
     "name": "stderr",
     "output_type": "stream",
     "text": [
      "100%|███████████████████████████████████████████████████████████████| 60/60 [00:04<00:00, 14.75it/s]\n"
     ]
    },
    {
     "name": "stdout",
     "output_type": "stream",
     "text": [
      "PAVPU\n"
     ]
    },
    {
     "name": "stderr",
     "output_type": "stream",
     "text": [
      "100%|███████████████████████████████████████████████████████████████| 60/60 [00:01<00:00, 41.54it/s]\n"
     ]
    },
    {
     "name": "stdout",
     "output_type": "stream",
     "text": [
      "UEO\n"
     ]
    },
    {
     "name": "stderr",
     "output_type": "stream",
     "text": [
      "100%|███████████████████████████████████████████████████████████████| 60/60 [00:12<00:00,  4.95it/s]\n",
      "100%|███████████████████████████████████████████████████████████████| 60/60 [00:13<00:00,  4.31it/s]\n"
     ]
    },
    {
     "name": "stdout",
     "output_type": "stream",
     "text": [
      "3D CC ANALYSIS\n"
     ]
    },
    {
     "name": "stderr",
     "output_type": "stream",
     "text": [
      "100%|███████████████████████████████████████████████████████████████| 60/60 [01:55<00:00,  1.92s/it]\n"
     ]
    },
    {
     "name": "stdout",
     "output_type": "stream",
     "text": [
      "SAVING RESULTS\n",
      "DONE\n"
     ]
    }
   ],
   "source": [
    "ckpt_path = \"/home/s2208943/projects/twaibrain/twaibrain/brainexperiments/run_nnUNet_v2/training/ssn_model_ckpts/nnunet2D_ssnV4_ens0_cv0/epoch=56-step=16017.ckpt\"\n",
    "get_model_preds(0, model=ssnllo_model, model_name=\"ssnNnunetV4-2D\", ckpt_path=ckpt_path, model_func=ssn_mean_and_samples)\n",
    "\n",
    "ckpt_path = \"/home/s2208943/projects/twaibrain/twaibrain/brainexperiments/run_nnUNet_v2/training/ssn_model_ckpts/nnunet2D_ssnV4_ens0_cv1/epoch=54-step=15455.ckpt\"\n",
    "get_model_preds(1, model=ssnllo_model, model_name=\"ssnNnunetV4-2D\", ckpt_path=ckpt_path, model_func=ssn_mean_and_samples)\n",
    "\n",
    "ckpt_path = \"/home/s2208943/projects/twaibrain/twaibrain/brainexperiments/run_nnUNet_v2/training/ssn_model_ckpts/nnunet2D_ssnV4_ens0_cv2/epoch=50-step=14331.ckpt\"\n",
    "get_model_preds(2, model=ssnllo_model, model_name=\"ssnNnunetV4-2D\", ckpt_path=ckpt_path, model_func=ssn_mean_and_samples)\n",
    "\n",
    "ckpt_path = \"/home/s2208943/projects/twaibrain/twaibrain/brainexperiments/run_nnUNet_v2/training/ssn_model_ckpts/nnunet2D_ssnV4_ens0_cv3/epoch=60-step=17141.ckpt\"\n",
    "get_model_preds(3, model=ssnllo_model, model_name=\"ssnNnunetV4-2D\", ckpt_path=ckpt_path, model_func=ssn_mean_and_samples)\n",
    "\n",
    "ckpt_path = \"/home/s2208943/projects/twaibrain/twaibrain/brainexperiments/run_nnUNet_v2/training/ssn_model_ckpts/nnunet2D_ssnV4_ens0_cv4/epoch=56-step=16017.ckpt\"\n",
    "get_model_preds(4, model=ssnllo_model, model_name=\"ssnNnunetV4-2D\", ckpt_path=ckpt_path, model_func=ssn_mean_and_samples)\n",
    "\n",
    "ckpt_path = \"/home/s2208943/projects/twaibrain/twaibrain/brainexperiments/run_nnUNet_v2/training/ssn_model_ckpts/nnunet2D_ssnV4_ens0_cv5/epoch=41-step=11802.ckpt\"\n",
    "get_model_preds(5, model=ssnllo_model, model_name=\"ssnNnunetV4-2D\", ckpt_path=ckpt_path, model_func=ssn_mean_and_samples)"
   ]
  },
  {
   "cell_type": "code",
   "execution_count": null,
   "id": "8b203720-c824-4bb1-9a75-8e6822dbff6a",
   "metadata": {},
   "outputs": [],
   "source": []
  },
  {
   "cell_type": "markdown",
   "id": "077e7311-8c11-4078-80ea-54a2ef76e220",
   "metadata": {},
   "source": [
    "### SSN V5"
   ]
  },
  {
   "cell_type": "code",
   "execution_count": 85,
   "id": "e3dc2437-e0e3-47c1-b9a2-8a7c7b61682f",
   "metadata": {},
   "outputs": [
    {
     "name": "stderr",
     "output_type": "stream",
     "text": [
      "60it [00:21,  2.75it/s]\n"
     ]
    },
    {
     "name": "stdout",
     "output_type": "stream",
     "text": [
      "torch.Size([1, 2, 48, 192, 192]) torch.Size([10, 1, 2, 48, 192, 192]) torch.Size([48, 192, 192])\n",
      "torch.Size([48, 2, 192, 192]) torch.Size([10, 48, 2, 192, 192])\n"
     ]
    },
    {
     "name": "stderr",
     "output_type": "stream",
     "text": [
      "100%|███████████████████████████████████████████████████████████████| 60/60 [01:51<00:00,  1.86s/it]\n"
     ]
    },
    {
     "name": "stdout",
     "output_type": "stream",
     "text": [
      "GETTING PER SAMPLE RESULTS\n"
     ]
    },
    {
     "name": "stderr",
     "output_type": "stream",
     "text": [
      "100%|███████████████████████████████████████████████████████████████| 60/60 [00:01<00:00, 38.55it/s]\n",
      "100%|███████████████████████████████████████████████████████████████| 60/60 [00:01<00:00, 42.46it/s]\n",
      "100%|███████████████████████████████████████████████████████████████| 60/60 [00:01<00:00, 30.20it/s]\n",
      "100%|███████████████████████████████████████████████████████████████| 60/60 [00:01<00:00, 43.38it/s]\n",
      "100%|███████████████████████████████████████████████████████████████| 60/60 [00:03<00:00, 16.88it/s]\n"
     ]
    },
    {
     "name": "stdout",
     "output_type": "stream",
     "text": [
      "GENREATING UNCERTAINTY MAPS\n",
      "ssn\n",
      "generating uncertainty maps\n"
     ]
    },
    {
     "name": "stderr",
     "output_type": "stream",
     "text": [
      "100%|███████████████████████████████████████████████████████████████| 60/60 [00:02<00:00, 22.48it/s]\n"
     ]
    },
    {
     "name": "stdout",
     "output_type": "stream",
     "text": [
      "PAVPU\n"
     ]
    },
    {
     "name": "stderr",
     "output_type": "stream",
     "text": [
      "100%|███████████████████████████████████████████████████████████████| 60/60 [00:01<00:00, 42.05it/s]\n"
     ]
    },
    {
     "name": "stdout",
     "output_type": "stream",
     "text": [
      "UEO\n"
     ]
    },
    {
     "name": "stderr",
     "output_type": "stream",
     "text": [
      "100%|███████████████████████████████████████████████████████████████| 60/60 [00:12<00:00,  4.94it/s]\n",
      "100%|███████████████████████████████████████████████████████████████| 60/60 [00:13<00:00,  4.32it/s]\n"
     ]
    },
    {
     "name": "stdout",
     "output_type": "stream",
     "text": [
      "3D CC ANALYSIS\n"
     ]
    },
    {
     "name": "stderr",
     "output_type": "stream",
     "text": [
      "100%|███████████████████████████████████████████████████████████████| 60/60 [02:14<00:00,  2.23s/it]\n"
     ]
    },
    {
     "name": "stdout",
     "output_type": "stream",
     "text": [
      "SAVING RESULTS\n",
      "DONE\n"
     ]
    },
    {
     "name": "stderr",
     "output_type": "stream",
     "text": [
      "60it [00:21,  2.74it/s]\n"
     ]
    },
    {
     "name": "stdout",
     "output_type": "stream",
     "text": [
      "torch.Size([1, 2, 48, 192, 192]) torch.Size([10, 1, 2, 48, 192, 192]) torch.Size([48, 192, 192])\n",
      "torch.Size([48, 2, 192, 192]) torch.Size([10, 48, 2, 192, 192])\n"
     ]
    },
    {
     "name": "stderr",
     "output_type": "stream",
     "text": [
      "100%|███████████████████████████████████████████████████████████████| 60/60 [01:01<00:00,  1.03s/it]\n"
     ]
    },
    {
     "name": "stdout",
     "output_type": "stream",
     "text": [
      "GETTING PER SAMPLE RESULTS\n"
     ]
    },
    {
     "name": "stderr",
     "output_type": "stream",
     "text": [
      "100%|███████████████████████████████████████████████████████████████| 60/60 [00:01<00:00, 37.51it/s]\n",
      "100%|███████████████████████████████████████████████████████████████| 60/60 [00:01<00:00, 41.56it/s]\n",
      "100%|███████████████████████████████████████████████████████████████| 60/60 [00:02<00:00, 29.34it/s]\n",
      "100%|███████████████████████████████████████████████████████████████| 60/60 [00:01<00:00, 41.67it/s]\n",
      "100%|███████████████████████████████████████████████████████████████| 60/60 [00:03<00:00, 16.59it/s]\n"
     ]
    },
    {
     "name": "stdout",
     "output_type": "stream",
     "text": [
      "GENREATING UNCERTAINTY MAPS\n",
      "ssn\n",
      "generating uncertainty maps\n"
     ]
    },
    {
     "name": "stderr",
     "output_type": "stream",
     "text": [
      "100%|███████████████████████████████████████████████████████████████| 60/60 [00:02<00:00, 22.35it/s]\n"
     ]
    },
    {
     "name": "stdout",
     "output_type": "stream",
     "text": [
      "PAVPU\n"
     ]
    },
    {
     "name": "stderr",
     "output_type": "stream",
     "text": [
      "100%|███████████████████████████████████████████████████████████████| 60/60 [00:01<00:00, 41.81it/s]\n"
     ]
    },
    {
     "name": "stdout",
     "output_type": "stream",
     "text": [
      "UEO\n"
     ]
    },
    {
     "name": "stderr",
     "output_type": "stream",
     "text": [
      "100%|███████████████████████████████████████████████████████████████| 60/60 [00:11<00:00,  5.01it/s]\n",
      "100%|███████████████████████████████████████████████████████████████| 60/60 [00:13<00:00,  4.33it/s]\n"
     ]
    },
    {
     "name": "stdout",
     "output_type": "stream",
     "text": [
      "3D CC ANALYSIS\n"
     ]
    },
    {
     "name": "stderr",
     "output_type": "stream",
     "text": [
      "100%|███████████████████████████████████████████████████████████████| 60/60 [01:26<00:00,  1.44s/it]\n"
     ]
    },
    {
     "name": "stdout",
     "output_type": "stream",
     "text": [
      "SAVING RESULTS\n",
      "DONE\n"
     ]
    },
    {
     "name": "stderr",
     "output_type": "stream",
     "text": [
      "60it [00:21,  2.75it/s]\n"
     ]
    },
    {
     "name": "stdout",
     "output_type": "stream",
     "text": [
      "torch.Size([1, 2, 48, 192, 192]) torch.Size([10, 1, 2, 48, 192, 192]) torch.Size([48, 192, 192])\n",
      "torch.Size([48, 2, 192, 192]) torch.Size([10, 48, 2, 192, 192])\n"
     ]
    },
    {
     "name": "stderr",
     "output_type": "stream",
     "text": [
      " 77%|████████████████████████████████████████████████▎              | 46/60 [05:54<01:47,  7.70s/it]\n",
      "\n",
      "KeyboardInterrupt\n",
      "\n"
     ]
    }
   ],
   "source": [
    "ckpt_path = \"/home/s2208943/projects/twaibrain/twaibrain/brainexperiments/run_nnUNet_v2/training/ssn_model_ckpts/nnunet2D_ssnV5_ens0_cv0/epoch=23-step=6744.ckpt\"\n",
    "get_model_preds(0, model=ssnllo_model, model_name=\"ssnNnunetV5-2D\", ckpt_path=ckpt_path, model_func=ssn_mean_and_samples)\n",
    "\n",
    "ckpt_path = \"/home/s2208943/projects/twaibrain/twaibrain/brainexperiments/run_nnUNet_v2/training/ssn_model_ckpts/nnunet2D_ssnV5_ens0_cv1/epoch=586-step=164947.ckpt\"\n",
    "get_model_preds(1, model=ssnllo_model, model_name=\"ssnNnunetV5-2D\", ckpt_path=ckpt_path, model_func=ssn_mean_and_samples)\n",
    "\n",
    "ckpt_path = \"/home/s2208943/projects/twaibrain/twaibrain/brainexperiments/run_nnUNet_v2/training/ssn_model_ckpts/nnunet2D_ssnV5_ens0_cv2/epoch=7-step=2248.ckpt\"\n",
    "get_model_preds(2, model=ssnllo_model, model_name=\"ssnNnunetV5-2D\", ckpt_path=ckpt_path, model_func=ssn_mean_and_samples)\n",
    "\n",
    "ckpt_path = \"/home/s2208943/projects/twaibrain/twaibrain/brainexperiments/run_nnUNet_v2/training/ssn_model_ckpts/nnunet2D_ssnV5_ens0_cv3/epoch=13-step=3934.ckpt\"\n",
    "get_model_preds(3, model=ssnllo_model, model_name=\"ssnNnunetV5-2D\", ckpt_path=ckpt_path, model_func=ssn_mean_and_samples)\n",
    "\n",
    "ckpt_path = \"/home/s2208943/projects/twaibrain/twaibrain/brainexperiments/run_nnUNet_v2/training/ssn_model_ckpts/nnunet2D_ssnV5_ens0_cv4/epoch=1-step=562.ckpt\"\n",
    "get_model_preds(4, model=ssnllo_model, model_name=\"ssnNnunetV5-2D\", ckpt_path=ckpt_path, model_func=ssn_mean_and_samples)\n",
    "\n",
    "ckpt_path = \"/home/s2208943/projects/twaibrain/twaibrain/brainexperiments/run_nnUNet_v2/training/ssn_model_ckpts/nnunet2D_ssnV5_ens0_cv5/epoch=0-step=281.ckpt\"\n",
    "get_model_preds(5, model=ssnllo_model, model_name=\"ssnNnunetV5-2D\", ckpt_path=ckpt_path, model_func=ssn_mean_and_samples)"
   ]
  },
  {
   "cell_type": "markdown",
   "id": "c54e3fdf-2d54-40b1-a1b9-96be6bffb963",
   "metadata": {},
   "source": [
    "### storing the model outputs"
   ]
  },
  {
   "cell_type": "code",
   "execution_count": 210,
   "id": "10f67f10-3842-49f1-819b-3ac96437d026",
   "metadata": {},
   "outputs": [],
   "source": [
    "litmodel = get_model_preds(0)"
   ]
  },
  {
   "cell_type": "code",
   "execution_count": 307,
   "id": "8093cf75-6da1-4b91-8c2d-a4a793a77cc9",
   "metadata": {},
   "outputs": [],
   "source": [
    "def evaluate_dataset(model_raw, full_ds, mss3_ids, output_dir):\n",
    "    start = 0\n",
    "    end = 10\n",
    "    \n",
    "    while end < len(full_ds):\n",
    "        ds = LimitedSizeDataset(full_ds, start=start, end=end)\n",
    "        IDs = mss3_ids[start:end]\n",
    "    \n",
    "        start = end\n",
    "        end += 10\n",
    "    \n",
    "        # get predictions\n",
    "        means, samples, misc = get_nnunet_means_and_samples(model_raw, ds, num_samples=10, model_func_name=args.uncertainty_type, args=args)\n",
    "        means = [m.squeeze(0).swapaxes(0, 1)[:,:2] for m in means]\n",
    "        \n",
    "        # get uncertainty maps\n",
    "        ent_maps = get_uncertainty_maps(means, samples, misc, args)\n",
    "    \n",
    "        # write results\n",
    "        write__output_map_results_to_disk(args, IDs, ent_maps, means, output_dir=output_dir)\n",
    "\n",
    "        # break\n"
   ]
  },
  {
   "cell_type": "code",
   "execution_count": 209,
   "id": "ebaadcdf-e7b0-473b-9435-f72644a65a3c",
   "metadata": {},
   "outputs": [],
   "source": [
    "mss3_parser = MSS3MultiRaterDataParser(\n",
    "    # paths on the cluster for the in house data\n",
    "    \"/home/s2208943/datasets/Inter_observer\",\n",
    "    \"/home/s2208943/preprocessed_data/MSS3_InterRaterData\"\n",
    ")\n",
    "\n",
    "mss3_ds = ArrayMRISegmentationDatasetFromFile(mss3_parser) \n",
    "\n",
    "mss3_ids = [out[2] for out in mss3_ds]\n",
    "\n",
    "mss3_output_dir = \"/home/s2208943/preprocessed_data/MSS3_InterRaterData/output_maps/nnunet/\""
   ]
  },
  {
   "cell_type": "code",
   "execution_count": 322,
   "id": "da3b12ce-252b-474d-bd54-f6ef6d71633a",
   "metadata": {},
   "outputs": [
    {
     "data": {
      "text/plain": [
       "68"
      ]
     },
     "execution_count": 322,
     "metadata": {},
     "output_type": "execute_result"
    }
   ],
   "source": [
    "len(mss3_ids)"
   ]
  },
  {
   "cell_type": "code",
   "execution_count": 311,
   "id": "3bad908d-b4f8-414e-8572-3e275f5b5890",
   "metadata": {},
   "outputs": [],
   "source": [
    "domains_chal_train = [\"training_Singapore\", \"training_Utrecht\", \"training_Amsterdam_GE3T\"]\n",
    "    \n",
    "chal_ds_train = ConcatDataset([\n",
    "    MRISegmentation3DDataset(\"/home/s2208943/preprocessed_data/WMHChallenge_InterRaterData/collated\", no_labels=True, xy_only=False, domain_name=dn)\n",
    "    for dn in domains_chal_train\n",
    "])\n",
    "\n",
    "chal_train_ids = [out[2] for out in chal_ds_train]\n",
    "\n",
    "chal_train_output_dir = \"/home/s2208943/preprocessed_data/WMHChallenge_InterRaterData/output_maps/training/nnunet/\""
   ]
  },
  {
   "cell_type": "code",
   "execution_count": 317,
   "id": "d427020d-948d-4df7-9750-da40fba3b422",
   "metadata": {},
   "outputs": [],
   "source": [
    "domains_chal_test = [\"test_Amsterdam_GE1T5\", \"test_Amsterdam_Philips_VU_PETMR_01\", \"test_Utrecht\", \"test_Amsterdam_GE3T\", \"test_Singapore\"]\n",
    "    \n",
    "chal_ds_test = ConcatDataset([\n",
    "    MRISegmentation3DDataset(\"/home/s2208943/preprocessed_data/WMHChallenge_InterRaterData/collated\", no_labels=True, xy_only=False, domain_name=dn)\n",
    "    for dn in domains_chal_test\n",
    "])\n",
    "\n",
    "chal_test_ids = [out[2] for out in chal_ds_test]\n",
    "\n",
    "chal_test_output_dir = \"/home/s2208943/preprocessed_data/WMHChallenge_InterRaterData/output_maps/test/nnunet/\""
   ]
  },
  {
   "cell_type": "code",
   "execution_count": 319,
   "id": "66936af7-a514-4ccb-ad92-187395c2222c",
   "metadata": {},
   "outputs": [],
   "source": [
    "ADNI_ds = MRISegmentation3DDataset(\"/home/s2208943/preprocessed_data/ADNI300/collated\", no_labels=True, xy_only=False)\n",
    "adni_ids = [out[2] for out in ADNI_ds]\n",
    "adni_out_dir = \"/home/s2208943/preprocessed_data/ADNI300/ADNI_300_output_maps/nnunet/\""
   ]
  },
  {
   "cell_type": "code",
   "execution_count": 320,
   "id": "347eaf73-04fc-441a-a800-b1ebe5031679",
   "metadata": {},
   "outputs": [
    {
     "name": "stderr",
     "output_type": "stream",
     "text": [
      "100%|███████████████████████████████████████████████████████████████| 10/10 [00:04<00:00,  2.13it/s]\n"
     ]
    },
    {
     "name": "stdout",
     "output_type": "stream",
     "text": [
      "deterministic\n",
      "generating uncertainty maps\n"
     ]
    },
    {
     "name": "stderr",
     "output_type": "stream",
     "text": [
      "100%|███████████████████████████████████████████████████████████████| 10/10 [00:00<00:00, 10.51it/s]\n",
      "100%|███████████████████████████████████████████████████████████████| 10/10 [00:04<00:00,  2.25it/s]\n",
      "100%|███████████████████████████████████████████████████████████████| 10/10 [00:03<00:00,  3.02it/s]\n"
     ]
    },
    {
     "name": "stdout",
     "output_type": "stream",
     "text": [
      "deterministic\n",
      "generating uncertainty maps\n"
     ]
    },
    {
     "name": "stderr",
     "output_type": "stream",
     "text": [
      "100%|███████████████████████████████████████████████████████████████| 10/10 [00:00<00:00, 53.89it/s]\n"
     ]
    },
    {
     "name": "stdout",
     "output_type": "stream",
     "text": [
      "folder already exists\n"
     ]
    },
    {
     "name": "stderr",
     "output_type": "stream",
     "text": [
      "100%|███████████████████████████████████████████████████████████████| 10/10 [00:03<00:00,  2.77it/s]\n",
      "100%|███████████████████████████████████████████████████████████████| 10/10 [00:03<00:00,  3.22it/s]\n"
     ]
    },
    {
     "name": "stdout",
     "output_type": "stream",
     "text": [
      "deterministic\n",
      "generating uncertainty maps\n"
     ]
    },
    {
     "name": "stderr",
     "output_type": "stream",
     "text": [
      "100%|██████████████████████████████████████████████████████████████| 10/10 [00:00<00:00, 203.38it/s]\n"
     ]
    },
    {
     "name": "stdout",
     "output_type": "stream",
     "text": [
      "folder already exists\n"
     ]
    },
    {
     "name": "stderr",
     "output_type": "stream",
     "text": [
      "100%|███████████████████████████████████████████████████████████████| 10/10 [00:04<00:00,  2.18it/s]\n",
      "100%|███████████████████████████████████████████████████████████████| 10/10 [00:03<00:00,  3.19it/s]\n"
     ]
    },
    {
     "name": "stdout",
     "output_type": "stream",
     "text": [
      "deterministic\n",
      "generating uncertainty maps\n"
     ]
    },
    {
     "name": "stderr",
     "output_type": "stream",
     "text": [
      "100%|███████████████████████████████████████████████████████████████| 10/10 [00:00<00:00, 71.62it/s]\n"
     ]
    },
    {
     "name": "stdout",
     "output_type": "stream",
     "text": [
      "folder already exists\n"
     ]
    },
    {
     "name": "stderr",
     "output_type": "stream",
     "text": [
      "100%|███████████████████████████████████████████████████████████████| 10/10 [00:04<00:00,  2.21it/s]\n",
      "100%|███████████████████████████████████████████████████████████████| 10/10 [00:03<00:00,  3.22it/s]\n"
     ]
    },
    {
     "name": "stdout",
     "output_type": "stream",
     "text": [
      "deterministic\n",
      "generating uncertainty maps\n"
     ]
    },
    {
     "name": "stderr",
     "output_type": "stream",
     "text": [
      "100%|███████████████████████████████████████████████████████████████| 10/10 [00:00<00:00, 38.26it/s]\n"
     ]
    },
    {
     "name": "stdout",
     "output_type": "stream",
     "text": [
      "folder already exists\n"
     ]
    },
    {
     "name": "stderr",
     "output_type": "stream",
     "text": [
      "100%|███████████████████████████████████████████████████████████████| 10/10 [00:04<00:00,  2.25it/s]\n",
      "100%|███████████████████████████████████████████████████████████████| 10/10 [00:04<00:00,  2.19it/s]\n"
     ]
    },
    {
     "name": "stdout",
     "output_type": "stream",
     "text": [
      "deterministic\n",
      "generating uncertainty maps\n"
     ]
    },
    {
     "name": "stderr",
     "output_type": "stream",
     "text": [
      "100%|███████████████████████████████████████████████████████████████| 10/10 [00:00<00:00, 10.38it/s]\n"
     ]
    },
    {
     "name": "stdout",
     "output_type": "stream",
     "text": [
      "folder already exists\n"
     ]
    },
    {
     "name": "stderr",
     "output_type": "stream",
     "text": [
      "100%|███████████████████████████████████████████████████████████████| 10/10 [00:03<00:00,  2.85it/s]\n",
      "100%|███████████████████████████████████████████████████████████████| 10/10 [00:04<00:00,  2.26it/s]\n"
     ]
    },
    {
     "name": "stdout",
     "output_type": "stream",
     "text": [
      "deterministic\n",
      "generating uncertainty maps\n"
     ]
    },
    {
     "name": "stderr",
     "output_type": "stream",
     "text": [
      "100%|███████████████████████████████████████████████████████████████| 10/10 [00:00<00:00, 10.97it/s]\n"
     ]
    },
    {
     "name": "stdout",
     "output_type": "stream",
     "text": [
      "folder already exists\n"
     ]
    },
    {
     "name": "stderr",
     "output_type": "stream",
     "text": [
      "100%|███████████████████████████████████████████████████████████████| 10/10 [00:03<00:00,  2.61it/s]\n",
      "100%|███████████████████████████████████████████████████████████████| 10/10 [00:04<00:00,  2.20it/s]\n"
     ]
    },
    {
     "name": "stdout",
     "output_type": "stream",
     "text": [
      "deterministic\n",
      "generating uncertainty maps\n"
     ]
    },
    {
     "name": "stderr",
     "output_type": "stream",
     "text": [
      "100%|███████████████████████████████████████████████████████████████| 10/10 [00:00<00:00, 10.96it/s]\n"
     ]
    },
    {
     "name": "stdout",
     "output_type": "stream",
     "text": [
      "folder already exists\n"
     ]
    },
    {
     "name": "stderr",
     "output_type": "stream",
     "text": [
      "100%|███████████████████████████████████████████████████████████████| 10/10 [00:04<00:00,  2.27it/s]\n",
      "100%|███████████████████████████████████████████████████████████████| 10/10 [00:03<00:00,  3.05it/s]\n"
     ]
    },
    {
     "name": "stdout",
     "output_type": "stream",
     "text": [
      "deterministic\n",
      "generating uncertainty maps\n"
     ]
    },
    {
     "name": "stderr",
     "output_type": "stream",
     "text": [
      "100%|██████████████████████████████████████████████████████████████| 10/10 [00:00<00:00, 211.67it/s]\n"
     ]
    },
    {
     "name": "stdout",
     "output_type": "stream",
     "text": [
      "folder already exists\n"
     ]
    },
    {
     "name": "stderr",
     "output_type": "stream",
     "text": [
      "100%|███████████████████████████████████████████████████████████████| 10/10 [00:03<00:00,  2.75it/s]\n",
      "100%|███████████████████████████████████████████████████████████████| 10/10 [00:03<00:00,  3.12it/s]\n"
     ]
    },
    {
     "name": "stdout",
     "output_type": "stream",
     "text": [
      "deterministic\n",
      "generating uncertainty maps\n"
     ]
    },
    {
     "name": "stderr",
     "output_type": "stream",
     "text": [
      "100%|███████████████████████████████████████████████████████████████| 10/10 [00:00<00:00, 41.93it/s]\n"
     ]
    },
    {
     "name": "stdout",
     "output_type": "stream",
     "text": [
      "folder already exists\n"
     ]
    },
    {
     "name": "stderr",
     "output_type": "stream",
     "text": [
      "100%|███████████████████████████████████████████████████████████████| 10/10 [00:04<00:00,  2.32it/s]\n",
      "100%|███████████████████████████████████████████████████████████████| 10/10 [00:03<00:00,  3.08it/s]\n"
     ]
    },
    {
     "name": "stdout",
     "output_type": "stream",
     "text": [
      "deterministic\n",
      "generating uncertainty maps\n"
     ]
    },
    {
     "name": "stderr",
     "output_type": "stream",
     "text": [
      "100%|██████████████████████████████████████████████████████████████| 10/10 [00:00<00:00, 124.69it/s]\n"
     ]
    },
    {
     "name": "stdout",
     "output_type": "stream",
     "text": [
      "folder already exists\n"
     ]
    },
    {
     "name": "stderr",
     "output_type": "stream",
     "text": [
      "100%|███████████████████████████████████████████████████████████████| 10/10 [00:04<00:00,  2.24it/s]\n",
      "100%|███████████████████████████████████████████████████████████████| 10/10 [00:03<00:00,  3.07it/s]\n"
     ]
    },
    {
     "name": "stdout",
     "output_type": "stream",
     "text": [
      "deterministic\n",
      "generating uncertainty maps\n"
     ]
    },
    {
     "name": "stderr",
     "output_type": "stream",
     "text": [
      "100%|███████████████████████████████████████████████████████████████| 10/10 [00:00<00:00, 40.61it/s]\n"
     ]
    },
    {
     "name": "stdout",
     "output_type": "stream",
     "text": [
      "folder already exists\n"
     ]
    },
    {
     "name": "stderr",
     "output_type": "stream",
     "text": [
      "100%|███████████████████████████████████████████████████████████████| 10/10 [00:04<00:00,  2.19it/s]\n",
      "100%|███████████████████████████████████████████████████████████████| 10/10 [00:04<00:00,  2.15it/s]\n"
     ]
    },
    {
     "name": "stdout",
     "output_type": "stream",
     "text": [
      "deterministic\n",
      "generating uncertainty maps\n"
     ]
    },
    {
     "name": "stderr",
     "output_type": "stream",
     "text": [
      "100%|███████████████████████████████████████████████████████████████| 10/10 [00:00<00:00, 10.69it/s]\n"
     ]
    },
    {
     "name": "stdout",
     "output_type": "stream",
     "text": [
      "folder already exists\n"
     ]
    },
    {
     "name": "stderr",
     "output_type": "stream",
     "text": [
      "100%|███████████████████████████████████████████████████████████████| 10/10 [00:03<00:00,  2.71it/s]\n",
      "100%|███████████████████████████████████████████████████████████████| 10/10 [00:04<00:00,  2.18it/s]\n"
     ]
    },
    {
     "name": "stdout",
     "output_type": "stream",
     "text": [
      "deterministic\n",
      "generating uncertainty maps\n"
     ]
    },
    {
     "name": "stderr",
     "output_type": "stream",
     "text": [
      "100%|███████████████████████████████████████████████████████████████| 10/10 [00:00<00:00, 10.28it/s]\n"
     ]
    },
    {
     "name": "stdout",
     "output_type": "stream",
     "text": [
      "folder already exists\n"
     ]
    },
    {
     "name": "stderr",
     "output_type": "stream",
     "text": [
      "100%|███████████████████████████████████████████████████████████████| 10/10 [00:04<00:00,  2.28it/s]\n",
      "100%|███████████████████████████████████████████████████████████████| 10/10 [00:04<00:00,  2.17it/s]\n"
     ]
    },
    {
     "name": "stdout",
     "output_type": "stream",
     "text": [
      "deterministic\n",
      "generating uncertainty maps\n"
     ]
    },
    {
     "name": "stderr",
     "output_type": "stream",
     "text": [
      "100%|███████████████████████████████████████████████████████████████| 10/10 [00:00<00:00, 11.01it/s]\n"
     ]
    },
    {
     "name": "stdout",
     "output_type": "stream",
     "text": [
      "folder already exists\n"
     ]
    },
    {
     "name": "stderr",
     "output_type": "stream",
     "text": [
      "100%|███████████████████████████████████████████████████████████████| 10/10 [00:04<00:00,  2.24it/s]\n",
      "100%|███████████████████████████████████████████████████████████████| 10/10 [00:03<00:00,  3.15it/s]\n"
     ]
    },
    {
     "name": "stdout",
     "output_type": "stream",
     "text": [
      "deterministic\n",
      "generating uncertainty maps\n"
     ]
    },
    {
     "name": "stderr",
     "output_type": "stream",
     "text": [
      "100%|███████████████████████████████████████████████████████████████| 10/10 [00:00<00:00, 84.79it/s]\n"
     ]
    },
    {
     "name": "stdout",
     "output_type": "stream",
     "text": [
      "folder already exists\n"
     ]
    },
    {
     "name": "stderr",
     "output_type": "stream",
     "text": [
      "100%|███████████████████████████████████████████████████████████████| 10/10 [00:04<00:00,  2.29it/s]\n",
      "100%|███████████████████████████████████████████████████████████████| 10/10 [00:03<00:00,  3.29it/s]\n"
     ]
    },
    {
     "name": "stdout",
     "output_type": "stream",
     "text": [
      "deterministic\n",
      "generating uncertainty maps\n"
     ]
    },
    {
     "name": "stderr",
     "output_type": "stream",
     "text": [
      "100%|███████████████████████████████████████████████████████████████| 10/10 [00:00<00:00, 51.84it/s]\n"
     ]
    },
    {
     "name": "stdout",
     "output_type": "stream",
     "text": [
      "folder already exists\n"
     ]
    },
    {
     "name": "stderr",
     "output_type": "stream",
     "text": [
      "100%|███████████████████████████████████████████████████████████████| 10/10 [00:04<00:00,  2.22it/s]\n",
      "100%|███████████████████████████████████████████████████████████████| 10/10 [00:03<00:00,  2.79it/s]\n"
     ]
    },
    {
     "name": "stdout",
     "output_type": "stream",
     "text": [
      "deterministic\n",
      "generating uncertainty maps\n"
     ]
    },
    {
     "name": "stderr",
     "output_type": "stream",
     "text": [
      "100%|██████████████████████████████████████████████████████████████| 10/10 [00:00<00:00, 189.47it/s]\n"
     ]
    },
    {
     "name": "stdout",
     "output_type": "stream",
     "text": [
      "folder already exists\n"
     ]
    },
    {
     "name": "stderr",
     "output_type": "stream",
     "text": [
      "100%|███████████████████████████████████████████████████████████████| 10/10 [00:04<00:00,  2.27it/s]\n",
      "100%|███████████████████████████████████████████████████████████████| 10/10 [00:03<00:00,  3.14it/s]\n"
     ]
    },
    {
     "name": "stdout",
     "output_type": "stream",
     "text": [
      "deterministic\n",
      "generating uncertainty maps\n"
     ]
    },
    {
     "name": "stderr",
     "output_type": "stream",
     "text": [
      "100%|███████████████████████████████████████████████████████████████| 10/10 [00:01<00:00,  9.96it/s]\n"
     ]
    },
    {
     "name": "stdout",
     "output_type": "stream",
     "text": [
      "folder already exists\n"
     ]
    },
    {
     "name": "stderr",
     "output_type": "stream",
     "text": [
      "100%|███████████████████████████████████████████████████████████████| 10/10 [00:04<00:00,  2.32it/s]\n",
      "100%|███████████████████████████████████████████████████████████████| 10/10 [00:04<00:00,  2.18it/s]\n"
     ]
    },
    {
     "name": "stdout",
     "output_type": "stream",
     "text": [
      "deterministic\n",
      "generating uncertainty maps\n"
     ]
    },
    {
     "name": "stderr",
     "output_type": "stream",
     "text": [
      "100%|███████████████████████████████████████████████████████████████| 10/10 [00:00<00:00, 10.25it/s]\n"
     ]
    },
    {
     "name": "stdout",
     "output_type": "stream",
     "text": [
      "folder already exists\n"
     ]
    },
    {
     "name": "stderr",
     "output_type": "stream",
     "text": [
      "100%|███████████████████████████████████████████████████████████████| 10/10 [00:04<00:00,  2.30it/s]\n",
      "100%|███████████████████████████████████████████████████████████████| 10/10 [00:04<00:00,  2.24it/s]\n"
     ]
    },
    {
     "name": "stdout",
     "output_type": "stream",
     "text": [
      "deterministic\n",
      "generating uncertainty maps\n"
     ]
    },
    {
     "name": "stderr",
     "output_type": "stream",
     "text": [
      "100%|███████████████████████████████████████████████████████████████| 10/10 [00:00<00:00, 10.48it/s]\n"
     ]
    },
    {
     "name": "stdout",
     "output_type": "stream",
     "text": [
      "folder already exists\n"
     ]
    },
    {
     "name": "stderr",
     "output_type": "stream",
     "text": [
      "100%|███████████████████████████████████████████████████████████████| 10/10 [00:03<00:00,  2.74it/s]\n",
      "100%|███████████████████████████████████████████████████████████████| 10/10 [00:04<00:00,  2.20it/s]\n"
     ]
    },
    {
     "name": "stdout",
     "output_type": "stream",
     "text": [
      "deterministic\n",
      "generating uncertainty maps\n"
     ]
    },
    {
     "name": "stderr",
     "output_type": "stream",
     "text": [
      "100%|███████████████████████████████████████████████████████████████| 10/10 [00:00<00:00, 11.34it/s]\n"
     ]
    },
    {
     "name": "stdout",
     "output_type": "stream",
     "text": [
      "folder already exists\n"
     ]
    },
    {
     "name": "stderr",
     "output_type": "stream",
     "text": [
      "100%|███████████████████████████████████████████████████████████████| 10/10 [00:04<00:00,  2.25it/s]\n",
      "100%|███████████████████████████████████████████████████████████████| 10/10 [00:03<00:00,  3.06it/s]\n"
     ]
    },
    {
     "name": "stdout",
     "output_type": "stream",
     "text": [
      "deterministic\n",
      "generating uncertainty maps\n"
     ]
    },
    {
     "name": "stderr",
     "output_type": "stream",
     "text": [
      "100%|███████████████████████████████████████████████████████████████| 10/10 [00:00<00:00, 46.64it/s]\n"
     ]
    },
    {
     "name": "stdout",
     "output_type": "stream",
     "text": [
      "folder already exists\n"
     ]
    },
    {
     "name": "stderr",
     "output_type": "stream",
     "text": [
      "100%|███████████████████████████████████████████████████████████████| 10/10 [00:04<00:00,  2.21it/s]\n",
      "100%|███████████████████████████████████████████████████████████████| 10/10 [00:03<00:00,  2.95it/s]\n"
     ]
    },
    {
     "name": "stdout",
     "output_type": "stream",
     "text": [
      "deterministic\n",
      "generating uncertainty maps\n"
     ]
    },
    {
     "name": "stderr",
     "output_type": "stream",
     "text": [
      "100%|███████████████████████████████████████████████████████████████| 10/10 [00:00<00:00, 41.60it/s]\n"
     ]
    },
    {
     "name": "stdout",
     "output_type": "stream",
     "text": [
      "folder already exists\n"
     ]
    },
    {
     "name": "stderr",
     "output_type": "stream",
     "text": [
      "100%|███████████████████████████████████████████████████████████████| 10/10 [00:04<00:00,  2.25it/s]\n",
      "100%|███████████████████████████████████████████████████████████████| 10/10 [00:03<00:00,  3.30it/s]\n"
     ]
    },
    {
     "name": "stdout",
     "output_type": "stream",
     "text": [
      "deterministic\n",
      "generating uncertainty maps\n"
     ]
    },
    {
     "name": "stderr",
     "output_type": "stream",
     "text": [
      "100%|██████████████████████████████████████████████████████████████| 10/10 [00:00<00:00, 191.21it/s]\n"
     ]
    },
    {
     "name": "stdout",
     "output_type": "stream",
     "text": [
      "folder already exists\n"
     ]
    },
    {
     "name": "stderr",
     "output_type": "stream",
     "text": [
      "100%|███████████████████████████████████████████████████████████████| 10/10 [00:04<00:00,  2.28it/s]\n",
      "100%|███████████████████████████████████████████████████████████████| 10/10 [00:04<00:00,  2.37it/s]\n"
     ]
    },
    {
     "name": "stdout",
     "output_type": "stream",
     "text": [
      "deterministic\n",
      "generating uncertainty maps\n"
     ]
    },
    {
     "name": "stderr",
     "output_type": "stream",
     "text": [
      "100%|███████████████████████████████████████████████████████████████| 10/10 [00:01<00:00,  9.38it/s]\n"
     ]
    },
    {
     "name": "stdout",
     "output_type": "stream",
     "text": [
      "folder already exists\n"
     ]
    },
    {
     "name": "stderr",
     "output_type": "stream",
     "text": [
      "100%|███████████████████████████████████████████████████████████████| 10/10 [00:03<00:00,  2.69it/s]\n",
      "100%|███████████████████████████████████████████████████████████████| 10/10 [00:04<00:00,  2.16it/s]\n"
     ]
    },
    {
     "name": "stdout",
     "output_type": "stream",
     "text": [
      "deterministic\n",
      "generating uncertainty maps\n"
     ]
    },
    {
     "name": "stderr",
     "output_type": "stream",
     "text": [
      "100%|███████████████████████████████████████████████████████████████| 10/10 [00:00<00:00, 10.92it/s]\n"
     ]
    },
    {
     "name": "stdout",
     "output_type": "stream",
     "text": [
      "folder already exists\n"
     ]
    },
    {
     "name": "stderr",
     "output_type": "stream",
     "text": [
      "100%|███████████████████████████████████████████████████████████████| 10/10 [00:04<00:00,  2.43it/s]\n",
      "100%|███████████████████████████████████████████████████████████████| 10/10 [00:04<00:00,  2.17it/s]\n"
     ]
    },
    {
     "name": "stdout",
     "output_type": "stream",
     "text": [
      "deterministic\n",
      "generating uncertainty maps\n"
     ]
    },
    {
     "name": "stderr",
     "output_type": "stream",
     "text": [
      "100%|███████████████████████████████████████████████████████████████| 10/10 [00:00<00:00, 11.08it/s]\n"
     ]
    },
    {
     "name": "stdout",
     "output_type": "stream",
     "text": [
      "folder already exists\n"
     ]
    },
    {
     "name": "stderr",
     "output_type": "stream",
     "text": [
      "100%|███████████████████████████████████████████████████████████████| 10/10 [00:04<00:00,  2.16it/s]\n"
     ]
    }
   ],
   "source": [
    "evaluate_dataset(litmodel, ADNI_ds, adni_ids, adni_out_dir)"
   ]
  },
  {
   "cell_type": "code",
   "execution_count": null,
   "id": "3caf4586-54cc-4189-80e7-c3af0514c67b",
   "metadata": {},
   "outputs": [],
   "source": []
  },
  {
   "cell_type": "code",
   "execution_count": null,
   "id": "8aff8265-3a0d-4435-807a-2264c65d67ce",
   "metadata": {},
   "outputs": [],
   "source": []
  },
  {
   "cell_type": "code",
   "execution_count": 318,
   "id": "0de23183-40ad-4041-975e-d8aacd9058ab",
   "metadata": {},
   "outputs": [
    {
     "name": "stderr",
     "output_type": "stream",
     "text": [
      "100%|███████████████████████████████████████████████████████████████| 10/10 [00:04<00:00,  2.03it/s]\n"
     ]
    },
    {
     "name": "stdout",
     "output_type": "stream",
     "text": [
      "deterministic\n",
      "generating uncertainty maps\n"
     ]
    },
    {
     "name": "stderr",
     "output_type": "stream",
     "text": [
      "100%|███████████████████████████████████████████████████████████████| 10/10 [00:01<00:00,  9.95it/s]\n",
      "100%|███████████████████████████████████████████████████████████████| 10/10 [00:04<00:00,  2.14it/s]\n",
      "100%|███████████████████████████████████████████████████████████████| 10/10 [00:04<00:00,  2.13it/s]\n"
     ]
    },
    {
     "name": "stdout",
     "output_type": "stream",
     "text": [
      "deterministic\n",
      "generating uncertainty maps\n"
     ]
    },
    {
     "name": "stderr",
     "output_type": "stream",
     "text": [
      "100%|███████████████████████████████████████████████████████████████| 10/10 [00:00<00:00, 10.12it/s]\n"
     ]
    },
    {
     "name": "stdout",
     "output_type": "stream",
     "text": [
      "folder already exists\n"
     ]
    },
    {
     "name": "stderr",
     "output_type": "stream",
     "text": [
      "100%|███████████████████████████████████████████████████████████████| 10/10 [00:05<00:00,  1.89it/s]\n",
      "100%|███████████████████████████████████████████████████████████████| 10/10 [00:03<00:00,  2.79it/s]\n"
     ]
    },
    {
     "name": "stdout",
     "output_type": "stream",
     "text": [
      "deterministic\n",
      "generating uncertainty maps\n"
     ]
    },
    {
     "name": "stderr",
     "output_type": "stream",
     "text": [
      "100%|██████████████████████████████████████████████████████████████| 10/10 [00:00<00:00, 199.49it/s]\n"
     ]
    },
    {
     "name": "stdout",
     "output_type": "stream",
     "text": [
      "folder already exists\n"
     ]
    },
    {
     "name": "stderr",
     "output_type": "stream",
     "text": [
      "100%|███████████████████████████████████████████████████████████████| 10/10 [00:04<00:00,  2.27it/s]\n",
      "100%|███████████████████████████████████████████████████████████████| 10/10 [00:03<00:00,  3.06it/s]\n"
     ]
    },
    {
     "name": "stdout",
     "output_type": "stream",
     "text": [
      "deterministic\n",
      "generating uncertainty maps\n"
     ]
    },
    {
     "name": "stderr",
     "output_type": "stream",
     "text": [
      "100%|██████████████████████████████████████████████████████████████| 10/10 [00:00<00:00, 194.62it/s]\n"
     ]
    },
    {
     "name": "stdout",
     "output_type": "stream",
     "text": [
      "folder already exists\n"
     ]
    },
    {
     "name": "stderr",
     "output_type": "stream",
     "text": [
      "100%|███████████████████████████████████████████████████████████████| 10/10 [00:04<00:00,  2.25it/s]\n",
      "100%|███████████████████████████████████████████████████████████████| 10/10 [00:03<00:00,  3.01it/s]\n"
     ]
    },
    {
     "name": "stdout",
     "output_type": "stream",
     "text": [
      "deterministic\n",
      "generating uncertainty maps\n"
     ]
    },
    {
     "name": "stderr",
     "output_type": "stream",
     "text": [
      "100%|██████████████████████████████████████████████████████████████| 10/10 [00:00<00:00, 179.48it/s]\n"
     ]
    },
    {
     "name": "stdout",
     "output_type": "stream",
     "text": [
      "folder already exists\n"
     ]
    },
    {
     "name": "stderr",
     "output_type": "stream",
     "text": [
      "100%|███████████████████████████████████████████████████████████████| 10/10 [00:04<00:00,  2.24it/s]\n",
      "100%|███████████████████████████████████████████████████████████████| 10/10 [00:03<00:00,  3.05it/s]\n"
     ]
    },
    {
     "name": "stdout",
     "output_type": "stream",
     "text": [
      "deterministic\n",
      "generating uncertainty maps\n"
     ]
    },
    {
     "name": "stderr",
     "output_type": "stream",
     "text": [
      "100%|███████████████████████████████████████████████████████████████| 10/10 [00:00<00:00, 38.74it/s]\n"
     ]
    },
    {
     "name": "stdout",
     "output_type": "stream",
     "text": [
      "folder already exists\n"
     ]
    },
    {
     "name": "stderr",
     "output_type": "stream",
     "text": [
      "100%|███████████████████████████████████████████████████████████████| 10/10 [00:05<00:00,  1.89it/s]\n",
      "100%|███████████████████████████████████████████████████████████████| 10/10 [00:04<00:00,  2.04it/s]\n"
     ]
    },
    {
     "name": "stdout",
     "output_type": "stream",
     "text": [
      "deterministic\n",
      "generating uncertainty maps\n"
     ]
    },
    {
     "name": "stderr",
     "output_type": "stream",
     "text": [
      "100%|███████████████████████████████████████████████████████████████| 10/10 [00:00<00:00, 10.07it/s]\n"
     ]
    },
    {
     "name": "stdout",
     "output_type": "stream",
     "text": [
      "folder already exists\n"
     ]
    },
    {
     "name": "stderr",
     "output_type": "stream",
     "text": [
      "100%|███████████████████████████████████████████████████████████████| 10/10 [00:05<00:00,  1.88it/s]\n",
      "100%|███████████████████████████████████████████████████████████████| 10/10 [00:04<00:00,  2.11it/s]\n"
     ]
    },
    {
     "name": "stdout",
     "output_type": "stream",
     "text": [
      "deterministic\n",
      "generating uncertainty maps\n"
     ]
    },
    {
     "name": "stderr",
     "output_type": "stream",
     "text": [
      "100%|███████████████████████████████████████████████████████████████| 10/10 [00:00<00:00, 11.24it/s]\n"
     ]
    },
    {
     "name": "stdout",
     "output_type": "stream",
     "text": [
      "folder already exists\n"
     ]
    },
    {
     "name": "stderr",
     "output_type": "stream",
     "text": [
      "100%|███████████████████████████████████████████████████████████████| 10/10 [00:04<00:00,  2.41it/s]\n",
      "100%|███████████████████████████████████████████████████████████████| 10/10 [00:04<00:00,  2.26it/s]\n"
     ]
    },
    {
     "name": "stdout",
     "output_type": "stream",
     "text": [
      "deterministic\n",
      "generating uncertainty maps\n"
     ]
    },
    {
     "name": "stderr",
     "output_type": "stream",
     "text": [
      "100%|███████████████████████████████████████████████████████████████| 10/10 [00:00<00:00, 10.32it/s]\n"
     ]
    },
    {
     "name": "stdout",
     "output_type": "stream",
     "text": [
      "folder already exists\n"
     ]
    },
    {
     "name": "stderr",
     "output_type": "stream",
     "text": [
      "100%|███████████████████████████████████████████████████████████████| 10/10 [00:04<00:00,  2.44it/s]\n",
      "100%|███████████████████████████████████████████████████████████████| 10/10 [00:02<00:00,  3.37it/s]\n"
     ]
    },
    {
     "name": "stdout",
     "output_type": "stream",
     "text": [
      "deterministic\n",
      "generating uncertainty maps\n"
     ]
    },
    {
     "name": "stderr",
     "output_type": "stream",
     "text": [
      "100%|██████████████████████████████████████████████████████████████| 10/10 [00:00<00:00, 205.15it/s]\n"
     ]
    },
    {
     "name": "stdout",
     "output_type": "stream",
     "text": [
      "folder already exists\n"
     ]
    },
    {
     "name": "stderr",
     "output_type": "stream",
     "text": [
      "100%|███████████████████████████████████████████████████████████████| 10/10 [00:04<00:00,  2.25it/s]\n"
     ]
    }
   ],
   "source": [
    "evaluate_dataset(litmodel, chal_ds_test, chal_test_ids, chal_test_output_dir)"
   ]
  },
  {
   "cell_type": "code",
   "execution_count": 315,
   "id": "27a9a0b1-da99-4173-bd74-62adcf5413b7",
   "metadata": {},
   "outputs": [],
   "source": [
    "%autoreload"
   ]
  },
  {
   "cell_type": "code",
   "execution_count": 316,
   "id": "43aefbae-6cd6-4e0b-bdc1-197282fae98d",
   "metadata": {},
   "outputs": [
    {
     "name": "stderr",
     "output_type": "stream",
     "text": [
      "100%|███████████████████████████████████████████████████████████████| 10/10 [00:05<00:00,  1.87it/s]\n"
     ]
    },
    {
     "name": "stdout",
     "output_type": "stream",
     "text": [
      "deterministic\n",
      "generating uncertainty maps\n"
     ]
    },
    {
     "name": "stderr",
     "output_type": "stream",
     "text": [
      "100%|███████████████████████████████████████████████████████████████| 10/10 [00:00<00:00, 10.45it/s]\n",
      "100%|███████████████████████████████████████████████████████████████| 10/10 [00:04<00:00,  2.31it/s]\n",
      "100%|███████████████████████████████████████████████████████████████| 10/10 [00:04<00:00,  2.16it/s]\n"
     ]
    },
    {
     "name": "stdout",
     "output_type": "stream",
     "text": [
      "deterministic\n",
      "generating uncertainty maps\n"
     ]
    },
    {
     "name": "stderr",
     "output_type": "stream",
     "text": [
      "100%|███████████████████████████████████████████████████████████████| 10/10 [00:00<00:00, 10.60it/s]\n"
     ]
    },
    {
     "name": "stdout",
     "output_type": "stream",
     "text": [
      "folder already exists\n"
     ]
    },
    {
     "name": "stderr",
     "output_type": "stream",
     "text": [
      "100%|███████████████████████████████████████████████████████████████| 10/10 [00:04<00:00,  2.21it/s]\n",
      "100%|███████████████████████████████████████████████████████████████| 10/10 [00:04<00:00,  2.13it/s]\n"
     ]
    },
    {
     "name": "stdout",
     "output_type": "stream",
     "text": [
      "deterministic\n",
      "generating uncertainty maps\n"
     ]
    },
    {
     "name": "stderr",
     "output_type": "stream",
     "text": [
      "100%|███████████████████████████████████████████████████████████████| 10/10 [00:00<00:00, 10.41it/s]\n"
     ]
    },
    {
     "name": "stdout",
     "output_type": "stream",
     "text": [
      "folder already exists\n"
     ]
    },
    {
     "name": "stderr",
     "output_type": "stream",
     "text": [
      "100%|███████████████████████████████████████████████████████████████| 10/10 [00:04<00:00,  2.36it/s]\n",
      "100%|███████████████████████████████████████████████████████████████| 10/10 [00:03<00:00,  3.25it/s]\n"
     ]
    },
    {
     "name": "stdout",
     "output_type": "stream",
     "text": [
      "deterministic\n",
      "generating uncertainty maps\n"
     ]
    },
    {
     "name": "stderr",
     "output_type": "stream",
     "text": [
      "100%|██████████████████████████████████████████████████████████████| 10/10 [00:00<00:00, 166.19it/s]\n"
     ]
    },
    {
     "name": "stdout",
     "output_type": "stream",
     "text": [
      "folder already exists\n"
     ]
    },
    {
     "name": "stderr",
     "output_type": "stream",
     "text": [
      "100%|███████████████████████████████████████████████████████████████| 10/10 [00:04<00:00,  2.34it/s]\n",
      "100%|███████████████████████████████████████████████████████████████| 10/10 [00:03<00:00,  3.17it/s]\n"
     ]
    },
    {
     "name": "stdout",
     "output_type": "stream",
     "text": [
      "deterministic\n",
      "generating uncertainty maps\n"
     ]
    },
    {
     "name": "stderr",
     "output_type": "stream",
     "text": [
      "100%|███████████████████████████████████████████████████████████████| 10/10 [00:00<00:00, 43.14it/s]\n"
     ]
    },
    {
     "name": "stdout",
     "output_type": "stream",
     "text": [
      "folder already exists\n"
     ]
    },
    {
     "name": "stderr",
     "output_type": "stream",
     "text": [
      "100%|███████████████████████████████████████████████████████████████| 10/10 [00:05<00:00,  1.88it/s]\n"
     ]
    }
   ],
   "source": [
    "evaluate_dataset(litmodel, chal_ds_train, chal_train_ids, chal_train_output_dir)"
   ]
  },
  {
   "cell_type": "code",
   "execution_count": 245,
   "id": "e3890fad-013f-40fb-a265-3deda3c45161",
   "metadata": {},
   "outputs": [
    {
     "data": {
      "text/plain": [
       "68"
      ]
     },
     "execution_count": 245,
     "metadata": {},
     "output_type": "execute_result"
    }
   ],
   "source": [
    "len(mss3_ds)"
   ]
  },
  {
   "cell_type": "code",
   "execution_count": 308,
   "id": "5892a77e-ab98-41c6-8329-ae6579b1f680",
   "metadata": {},
   "outputs": [
    {
     "name": "stderr",
     "output_type": "stream",
     "text": [
      "100%|███████████████████████████████████████████████████████████████| 10/10 [00:10<00:00,  1.03s/it]\n"
     ]
    },
    {
     "name": "stdout",
     "output_type": "stream",
     "text": [
      "deterministic\n",
      "generating uncertainty maps\n"
     ]
    },
    {
     "name": "stderr",
     "output_type": "stream",
     "text": [
      "100%|███████████████████████████████████████████████████████████████| 10/10 [00:01<00:00,  9.92it/s]\n"
     ]
    },
    {
     "name": "stdout",
     "output_type": "stream",
     "text": [
      "folder already exists\n"
     ]
    },
    {
     "name": "stderr",
     "output_type": "stream",
     "text": [
      "100%|███████████████████████████████████████████████████████████████| 10/10 [00:05<00:00,  1.87it/s]\n",
      "100%|███████████████████████████████████████████████████████████████| 10/10 [00:13<00:00,  1.38s/it]\n"
     ]
    },
    {
     "name": "stdout",
     "output_type": "stream",
     "text": [
      "deterministic\n",
      "generating uncertainty maps\n"
     ]
    },
    {
     "name": "stderr",
     "output_type": "stream",
     "text": [
      "100%|███████████████████████████████████████████████████████████████| 10/10 [00:01<00:00,  8.47it/s]\n"
     ]
    },
    {
     "name": "stdout",
     "output_type": "stream",
     "text": [
      "folder already exists\n"
     ]
    },
    {
     "name": "stderr",
     "output_type": "stream",
     "text": [
      "100%|███████████████████████████████████████████████████████████████| 10/10 [00:05<00:00,  1.72it/s]\n",
      "100%|███████████████████████████████████████████████████████████████| 10/10 [00:11<00:00,  1.11s/it]\n"
     ]
    },
    {
     "name": "stdout",
     "output_type": "stream",
     "text": [
      "deterministic\n",
      "generating uncertainty maps\n"
     ]
    },
    {
     "name": "stderr",
     "output_type": "stream",
     "text": [
      "100%|██████████████████████████████████████████████████████████████| 10/10 [00:00<00:00, 142.03it/s]\n"
     ]
    },
    {
     "name": "stdout",
     "output_type": "stream",
     "text": [
      "folder already exists\n"
     ]
    },
    {
     "name": "stderr",
     "output_type": "stream",
     "text": [
      "100%|███████████████████████████████████████████████████████████████| 10/10 [00:05<00:00,  1.95it/s]\n",
      "100%|███████████████████████████████████████████████████████████████| 10/10 [00:10<00:00,  1.08s/it]\n"
     ]
    },
    {
     "name": "stdout",
     "output_type": "stream",
     "text": [
      "deterministic\n",
      "generating uncertainty maps\n"
     ]
    },
    {
     "name": "stderr",
     "output_type": "stream",
     "text": [
      "100%|███████████████████████████████████████████████████████████████| 10/10 [00:00<00:00, 83.15it/s]\n"
     ]
    },
    {
     "name": "stdout",
     "output_type": "stream",
     "text": [
      "folder already exists\n"
     ]
    },
    {
     "name": "stderr",
     "output_type": "stream",
     "text": [
      "100%|███████████████████████████████████████████████████████████████| 10/10 [00:05<00:00,  1.78it/s]\n",
      "100%|███████████████████████████████████████████████████████████████| 10/10 [00:12<00:00,  1.29s/it]\n"
     ]
    },
    {
     "name": "stdout",
     "output_type": "stream",
     "text": [
      "deterministic\n",
      "generating uncertainty maps\n"
     ]
    },
    {
     "name": "stderr",
     "output_type": "stream",
     "text": [
      "100%|███████████████████████████████████████████████████████████████| 10/10 [00:00<00:00, 10.85it/s]\n"
     ]
    },
    {
     "name": "stdout",
     "output_type": "stream",
     "text": [
      "folder already exists\n"
     ]
    },
    {
     "name": "stderr",
     "output_type": "stream",
     "text": [
      "100%|███████████████████████████████████████████████████████████████| 10/10 [00:05<00:00,  1.92it/s]\n",
      "100%|███████████████████████████████████████████████████████████████| 10/10 [00:12<00:00,  1.23s/it]\n"
     ]
    },
    {
     "name": "stdout",
     "output_type": "stream",
     "text": [
      "deterministic\n",
      "generating uncertainty maps\n"
     ]
    },
    {
     "name": "stderr",
     "output_type": "stream",
     "text": [
      "100%|███████████████████████████████████████████████████████████████| 10/10 [00:00<00:00, 23.34it/s]\n"
     ]
    },
    {
     "name": "stdout",
     "output_type": "stream",
     "text": [
      "folder already exists\n"
     ]
    },
    {
     "name": "stderr",
     "output_type": "stream",
     "text": [
      "100%|███████████████████████████████████████████████████████████████| 10/10 [00:05<00:00,  1.78it/s]\n"
     ]
    }
   ],
   "source": [
    "evaluate_dataset(litmodel, mss3_ds, mss3_ids, mss3_output_dir)"
   ]
  },
  {
   "cell_type": "code",
   "execution_count": null,
   "id": "a2bf9ad7-1096-4f65-a99c-fa1ba9aaf5d8",
   "metadata": {},
   "outputs": [],
   "source": []
  },
  {
   "cell_type": "code",
   "execution_count": null,
   "id": "74c14b36-c260-4c9f-92cd-7a6d17abd86c",
   "metadata": {},
   "outputs": [],
   "source": [
    "### now train the fazekas model"
   ]
  }
 ],
 "metadata": {
  "kernelspec": {
   "display_name": "Python 3 (ipykernel)",
   "language": "python",
   "name": "python3"
  },
  "language_info": {
   "codemirror_mode": {
    "name": "ipython",
    "version": 3
   },
   "file_extension": ".py",
   "mimetype": "text/x-python",
   "name": "python",
   "nbconvert_exporter": "python",
   "pygments_lexer": "ipython3",
   "version": "3.11.11"
  }
 },
 "nbformat": 4,
 "nbformat_minor": 5
}
