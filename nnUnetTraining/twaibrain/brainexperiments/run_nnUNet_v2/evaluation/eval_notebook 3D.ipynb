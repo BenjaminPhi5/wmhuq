{
 "cells": [
  {
   "cell_type": "markdown",
   "id": "f7705cec-1a60-40eb-8a22-3dc28bea40fa",
   "metadata": {},
   "source": [
    "### running the evaluation for the challenge dataset"
   ]
  },
  {
   "cell_type": "code",
   "execution_count": 1,
   "id": "0d1924ce-955d-4eac-99bf-5962f5cb6eef",
   "metadata": {},
   "outputs": [],
   "source": [
    "%load_ext autoreload"
   ]
  },
  {
   "cell_type": "code",
   "execution_count": 2,
   "id": "63cf7422-bf0a-45bd-b171-2ded47bd5cb2",
   "metadata": {},
   "outputs": [],
   "source": [
    "%autoreload"
   ]
  },
  {
   "cell_type": "code",
<<<<<<< HEAD
   "execution_count": 3,
=======
   "execution_count": null,
>>>>>>> origin/wmhuq
   "id": "fa14325f-b699-4d1d-806c-11ab977230d9",
   "metadata": {},
   "outputs": [],
   "source": [
    "import torch\n",
    "import torch.nn as nn\n",
    "import numpy as np\n",
    "import os\n",
    "import matplotlib.pyplot as plt\n",
    "from torchinfo import summary\n",
    "from collections import defaultdict, namedtuple\n",
    "import pandas as pd\n",
<<<<<<< HEAD
=======
    "import proplot as pplt\n",
>>>>>>> origin/wmhuq
    "import warnings\n",
    "warnings.filterwarnings(\"ignore\") # I should only put this in place when I am doing plotting and using proplot....\n",
    "from twaibrain.braintorch.utils.resize import crop_or_pad_dims\n",
    "from twaibrain.brainpreprep.utils.image_io import load_image\n",
    "import scipy\n",
    "import scipy.stats\n",
    "\n",
    "# model architecture\n",
    "import json\n",
    "from twaibrain.braintorch.models.nnUNet.nnUNetV2_model_loader import get_network_from_plans\n",
    "from twaibrain.braintorch.models.ssn import SSN_Wrapped_Deep_Supervision, SSN_Wrapped_Deep_Supervision_LLO, Hierarchical_SSN_with_ConvRefine, Hierarchical_SSN_with_ConvSpatialAttention\n",
    "\n",
    "# fitting code\n",
    "from twaibrain.braintorch.fitting_and_inference.get_trainer import get_trainer\n",
    "from twaibrain.braintorch.fitting_and_inference.get_scratch_dir import scratch_dir\n",
    "from twaibrain.braintorch.fitting_and_inference.optimizer_constructor import OptimizerConfigurator\n",
    "from twaibrain.braintorch.fitting_and_inference.lightning_fitter import StandardLitModelWrapper\n",
    "\n",
    "# loss function\n",
    "from twaibrain.braintorch.losses.ssn_losses import DeepSupervisionSSN, SSNCombinedDiceXent_and_MC_loss, SSNCombinedDiceXent_and_MC_loss_FromSamples\n",
    "from twaibrain.braintorch.losses.generic_deep_supervision import MultiDeepSupervisionLoss, DeepSupervisionLoss\n",
    "from twaibrain.braintorch.losses.dice_loss import SoftDiceV2\n",
    "from twaibrain.braintorch.losses.xent import dice_xent_loss\n",
    "\n",
    "# data\n",
    "from twaibrain.brainexperiments.run_nnUNet_v2.old_dataloading.dataset_pipelines import load_data\n",
    "from twaibrain.braintorch.data.legacy_dataset_types.dataset_wrappers import MonaiAugmentedDataset\n",
    "from twaibrain.braintorch.augmentation.nnunet_augmentations import get_nnunet_transforms, get_val_transforms\n",
    "from torch.utils.data import ConcatDataset\n",
    "from twaibrain.braintorch.data.legacy_dataset_types.mri_dataset_inram import MRISegmentation3DDataset\n",
    "from twaibrain.braintorch.data.legacy_dataset_types.mri_dataset_from_file import MRISegmentationDatasetFromFile, ArrayMRISegmentationDatasetFromFile\n",
    "from twaibrain.braintorch.data.legacy_dataset_types.mri_dataset_directory_parsers import *\n",
    "\n",
    "# evaluation code\n",
    "from twaibrain.brainexperiments.run_nnUNet_v2.evaluation.eval_helper_functions import *\n",
    "from twaibrain.brainexperiments.run_nnUNet_v2.evaluation.model_predictions import *"
   ]
  },
  {
   "cell_type": "markdown",
   "id": "555ee30e-c703-4087-9cbf-960cd128ac38",
   "metadata": {},
   "source": [
    "### setting up params for the rest of the code to run"
   ]
  },
  {
   "cell_type": "code",
<<<<<<< HEAD
   "execution_count": 4,
=======
   "execution_count": null,
>>>>>>> origin/wmhuq
   "id": "b2162225-8732-4b26-a257-a8a33bd9b5f6",
   "metadata": {},
   "outputs": [],
   "source": [
    "ARGS = namedtuple(\"args\", \"dataset test_split val_split seed \" + \n",
    "                  \"empty_slice_retention batch_size cross_validate cv_split cv_test_fold_smooth no_test_fold \" +\n",
    "                  \"num_workers dice_factor xent_factor xent_reweighting eval_split uncertainty_type\"\n",
    ")"
   ]
  },
  {
   "cell_type": "code",
<<<<<<< HEAD
   "execution_count": 5,
=======
   "execution_count": null,
>>>>>>> origin/wmhuq
   "id": "7526adce-3f7e-473b-914c-a5494205ff5d",
   "metadata": {},
   "outputs": [],
   "source": [
    "VOXELS_TO_WMH_RATIO = 382\n",
    "VOXELS_TO_WMH_RATIO_EXCLUDING_EMPTY_SLICES = 140\n",
    "ESR = 0.5\n",
    "\n",
    "\n",
    "# setup xent reweighting factor\n",
    "XENT_VOXEL_RESCALE = VOXELS_TO_WMH_RATIO - (1-ESR) * (VOXELS_TO_WMH_RATIO - VOXELS_TO_WMH_RATIO_EXCLUDING_EMPTY_SLICES)\n",
    "\n",
    "XENT_WEIGHTING = XENT_VOXEL_RESCALE/2"
   ]
  },
  {
   "cell_type": "code",
<<<<<<< HEAD
   "execution_count": 6,
=======
   "execution_count": null,
>>>>>>> origin/wmhuq
   "id": "9cac5d8e-f4b5-4f59-ae62-2b00f0052dcd",
   "metadata": {},
   "outputs": [],
   "source": [
    "args = ARGS(\n",
    "    dataset = \"chal\",\n",
    "    \n",
    "    test_split=0.15,\n",
    "    val_split=0.15,\n",
    "    eval_split='all',\n",
    "\n",
    "    seed=5,\n",
    "\n",
    "    empty_slice_retention=ESR,\n",
    "\n",
<<<<<<< HEAD
    "    uncertainty_type=\"deterministic\",\n",
=======
    "    uncertainty_type=\"ssn\",\n",
>>>>>>> origin/wmhuq
    "\n",
    "    batch_size=2,\n",
    "    cross_validate=True,\n",
    "    cv_split=0,\n",
    "    cv_test_fold_smooth=1,\n",
    "    no_test_fold=\"false\",\n",
    "    num_workers=16,\n",
    "\n",
    "    dice_factor=1,\n",
    "    xent_factor=1,\n",
    "    xent_reweighting=XENT_WEIGHTING\n",
    ")"
   ]
  },
  {
   "cell_type": "markdown",
   "id": "845fb744-1fc3-42d7-b839-291269aac125",
   "metadata": {},
   "source": [
    "### loading eval data"
   ]
  },
  {
   "cell_type": "code",
<<<<<<< HEAD
   "execution_count": 7,
   "id": "9d644bf7-475f-4c17-8310-3992d81b22e8",
   "metadata": {},
   "outputs": [
    {
     "name": "stdout",
     "output_type": "stream",
     "text": [
      "39 9 12\n"
     ]
    }
   ],
=======
   "execution_count": null,
   "id": "9d644bf7-475f-4c17-8310-3992d81b22e8",
   "metadata": {},
   "outputs": [],
>>>>>>> origin/wmhuq
   "source": [
    "data_dict = load_data(\n",
    "    dataset=args.dataset, \n",
    "    test_proportion=args.test_split, \n",
    "    validation_proportion=args.val_split,\n",
    "    seed=args.seed,\n",
    "    empty_proportion_retained=args.empty_slice_retention,\n",
    "    batch_size=args.batch_size,\n",
    "    dataloader2d_only=False,\n",
    "    cross_validate=args.cross_validate,\n",
    "    cv_split=args.cv_split,\n",
    "    cv_test_fold_smooth=args.cv_test_fold_smooth,\n",
    "    merge_val_test=args.no_test_fold\n",
    ")"
   ]
  },
  {
   "cell_type": "code",
<<<<<<< HEAD
   "execution_count": 8,
=======
   "execution_count": null,
>>>>>>> origin/wmhuq
   "id": "392d0f59-ffa3-4e77-b271-69256f5b9c8c",
   "metadata": {},
   "outputs": [],
   "source": [
    "if args.eval_split == \"all\":\n",
    "    eval_ds = ConcatDataset([data_dict['train_dataset3d'], data_dict['val_dataset3d'], data_dict['test_dataset3d']])\n",
    "else:\n",
    "    eval_ds = data_dict[f'{args.eval_split}_dataset3d']"
   ]
  },
  {
   "cell_type": "code",
<<<<<<< HEAD
   "execution_count": 9,
=======
   "execution_count": 29,
>>>>>>> origin/wmhuq
   "id": "d3d721fc-5bcf-4b5a-ba94-30a0b77a6604",
   "metadata": {},
   "outputs": [
    {
     "data": {
      "text/plain": [
       "60"
      ]
     },
<<<<<<< HEAD
     "execution_count": 9,
=======
     "execution_count": 29,
>>>>>>> origin/wmhuq
     "metadata": {},
     "output_type": "execute_result"
    }
   ],
   "source": [
    "len(eval_ds)"
   ]
  },
  {
   "cell_type": "code",
<<<<<<< HEAD
   "execution_count": 10,
=======
   "execution_count": 121,
>>>>>>> origin/wmhuq
   "id": "37b7cd01-c699-4180-a229-1510d5ebff1c",
   "metadata": {},
   "outputs": [],
   "source": [
    "# get the xs and ys\n",
    "xs3d_test = []\n",
    "ys3d_test = []\n",
    "\n",
    "for i, data in enumerate(eval_ds):\n",
    "    ys3d_test.append(data[1].squeeze())\n",
    "    xs3d_test.append(data[0])"
   ]
  },
  {
   "cell_type": "code",
   "execution_count": null,
   "id": "f1ec98fb-513c-47b9-a253-f6fccef5e889",
   "metadata": {},
   "outputs": [],
   "source": []
  },
  {
   "cell_type": "code",
<<<<<<< HEAD
   "execution_count": 11,
=======
   "execution_count": 122,
>>>>>>> origin/wmhuq
   "id": "01d24f3a-e92d-4423-b977-ea19e11a715c",
   "metadata": {},
   "outputs": [],
   "source": [
    "ys3d_test = [y * (y==1).type(y.dtype) for y in ys3d_test] # fix bug with challenge data having 3 classes on cluster only?\n",
    "gt_vols = GT_volumes(ys3d_test)"
   ]
  },
  {
   "cell_type": "code",
<<<<<<< HEAD
   "execution_count": 12,
=======
   "execution_count": 123,
>>>>>>> origin/wmhuq
   "id": "e7af5266-6d3b-4cf3-b385-1edf344c17f7",
   "metadata": {
    "scrolled": true
   },
   "outputs": [],
   "source": [
    "# to run on the nnUnet version of the model,\n",
    "# I should crop the x and y to the min and max points\n",
    "# this will also effectively centre the images for evaluation.\n",
    "for i in range(len(xs3d_test)):\n",
    "    x = xs3d_test[i]\n",
    "    y = ys3d_test[i]\n",
    "    wheres = torch.where(x[-1])\n",
    "    zs = (wheres[0].min().item(), wheres[0].max().item())\n",
    "    xs = (wheres[1].min().item(), wheres[1].max().item())\n",
    "    ys = (wheres[2].min().item(), wheres[2].max().item())\n",
    "    # print(zs, xs, ys)\n",
    "    # print(x.shape, y.shape)\n",
    "\n",
    "    x = x[:, zs[0]:zs[1]+1, xs[0]:xs[1]+1, ys[0]:ys[1]+1]\n",
    "    y = y[zs[0]:zs[1]+1, xs[0]:xs[1]+1, ys[0]:ys[1]+1]\n",
    "\n",
    "    # print(x.shape, y.shape)\n",
    "    \n",
    "    x = crop_or_pad_dims(x, [1,2,3], [48, 192, 192])\n",
    "    y = crop_or_pad_dims(y, [0,1,2], [48, 192, 192])\n",
    "\n",
    "    x = x.unsqueeze(0)\n",
    "\n",
    "    # print(x.shape, y.shape)\n",
    "    # print()\n",
    "    xs3d_test[i] = x\n",
    "    ys3d_test[i] = y"
   ]
  },
  {
   "cell_type": "code",
<<<<<<< HEAD
   "execution_count": 13,
=======
   "execution_count": 129,
>>>>>>> origin/wmhuq
   "id": "fcc1dcca-b5bc-49ba-b4a9-de8b3a539595",
   "metadata": {},
   "outputs": [
    {
     "data": {
      "text/plain": [
       "(-0.5, 191.5, -0.5, 191.5)"
      ]
     },
<<<<<<< HEAD
     "execution_count": 13,
=======
     "execution_count": 129,
>>>>>>> origin/wmhuq
     "metadata": {},
     "output_type": "execute_result"
    },
    {
     "data": {
<<<<<<< HEAD
      "image/png": "iVBORw0KGgoAAAANSUhEUgAAAgMAAAD1CAYAAADNj/Z6AAAAOnRFWHRTb2Z0d2FyZQBNYXRwbG90bGliIHZlcnNpb24zLjEwLjAsIGh0dHBzOi8vbWF0cGxvdGxpYi5vcmcvlHJYcgAAAAlwSFlzAAAPYQAAD2EBqD+naQAApxZJREFUeJztvXmMZGl2FX5ijxf7mntWVdbSXdXLTM8MM+Oxxeg34AFjLBkZjQEhQLZAwkYCIxshC7PIljAw/xhLgNBYI7NYsrBBCLCF3ZaxJdsaz3ja4+6eXqtryz1j3/eI3x+pc/PGq9gzstbvSKXKjHjve99b8t373XvuuY7BYDCAgYGBgYGBwXML5+OegIGBgYGBgcHjhXEGDAwMDAwMnnMYZ8DAwMDAwOA5h3EGDAwMDAwMnnMYZ8DAwMDAwOA5h3EGDAwMDAwMnnMYZ8DAwMDAwOA5h3EGDAwMDAwMnnMYZ8DAwMDAwOA5h3vWDf/BP/gHSz/4YDCAw+GQnwHI7xcNfexZPp91m/OMuyzYj3WRxzb38GIw7h7+23/7bx/J8ZeJR3XNDAwMxmOa2PC5IgPjBp9V4djhcAxtO8tLYzAYPPRv0WPP8/mobUYdy/4Cn2fccWPyM/3dpM/sx7Jf52nHm/S5HeYePoxHfQ8NDAwMzotzOQPneRnbt530crZvr/cZ9dJ8VJh2rEnfjzvPUfvYr9G0z+aZi7mHT/89NDAwMDgvLiQycB7YX3jzvHAvEouuXsdhljD2It+N2ua8Y80Lcw+nj7/Me2hgYGBwXlxIZGCZeFJWQ4969XreFeKTtNo093C+70Zt86RcQwMDg2cTCzsDi656pn23zNz2pH1mzetOG29c3nvad5PGG4dJY03aZ9FjLfqduYeP7h4aGBgYLAMzVxMQZDUvsuoZxZDW2+ucMwlT41jd3H7WecxCBNPz0HPQx5qHUT5p7uO+X2QFOGquerxR4XFzD5/ue2hgYGCwTMztDJwnXDlrmHYasWqROcyzjzYWduN23lDzPIz081wv+/eLsOInHWuROZl7uLx7aGBgYLBMnFt0aFkvqIt40S065rjV3iIEtGXO4TxYhBU/L8w9nD6H88DwBgwMDC4K5+YMPO4X1KQX9bxzm5b/HbfKmzaHZRvJecabhTNg7uHTew8NDAwMloGFnYEnZdWzzHksmv+dts3jvFaTws/mHs6+zZN6Dw0MDAyWAdObwMDAwMDA4DnHzM7ALKHKaWVT00LW5/lcjz0tVKy3mZZDHrXdovuPmu+4cxp3vEnHmvVzcw+f3ntoYGBgcBGY2RmYFqrUTO1xL7JRY4wq+xr13aixxpVfjcoDjyoxs89/1pKzcXlmXR5m/04f036cUfMex7wflf+2H29Rxrq5h0/+PTQwMDC4CMxdWmiHNiDEuBfiKIwidI0acxZMK+OalE+e14DOOtYsOexxBnHWec57vZ1OJwaDAXq9Hnq9Hlwul7mHE7Z90u6hgYGBwbJxbmdg0ovrSSCUjcOold0iL+RFX96TVsyL7jdqpWz/LBqNAgB6vR663S56vR4cDgfcbjc8Ho84BoPBAJ1OB81mE81mc27Dbu7hYvvNcg8NDAwMlo2lRQaeNsyySrRj1Lk+aodnUgjfjkajgV6vh0AggEAgAIfDgXA4DADodrvodDro9XoAAJ/PB6/XC6/XC7f79LFot9uoVCpwOBxot9tDaQBGFhZZ/S8Lz8M9HJdeMDAwMFgmLjQy8LRiWrj5cR2fcLvdYsSJfr+PRqMBl8slnx0eHqLVauHatWtIJBLyndPphNfrhdPpRKfTgcPhgMvlQr/fR7/fh8PhgMfjgdfrhd/vRzAYxPHxsRybjkS73RbH4UnDk34PF5nHs/i3ZmBg8GTgyXyTP4eYlGPWcLlc2N7ext7eHrrdruxXKBTwa7/2a9jY2BDDHolEsLGxgWAwKMfQK3un0wm/3w+n04lutyvftdtttNttcQxarRYCgYDMwe12w+Vywev1otFoDJHfjMEyMDAwePpwLmdglhTBrGmEaWxs+2eL5odnndu83y06FsGQPre1LAtbW1uwLAu9Xg/9fl+29Xg8uH79Oh48eIAPP/wQ9+/fRzablVRAs9mEy+WSf1zxezwetNtttFotDAYDuN1uWJYFh8Mh4zPiwHm4XC44nU6JRujPu90uLMtCt9tFPp9HpVLB2trac3sPp+1n/xkYJlsu43oYGBgYLIKFuxYCo1eB00qqZg3fjntRL1q9MC1XPGnes2CSYRl3nfR3fr8fwGkI3+l0wrIsOJ1OtNttiQA4HKeVAK1WC5FIBIFAAD6fT0L5gUAAg8EAzWYTHo9HDL7P55Nj9ft94Qp0u10Ap3wBp9Mpxp7OAyMDTC/0+310u130+32JDPh8PjSbTQwGA2SzWdy+fRterxfNZhOf+tSnEAqFHromz+o9HLXvuPmM+nncNTCOgYGBwUVjZmdg1Mtt3sjAtJfdqJfrqNr3cfuPeplzPPvKy455IxzjVnmzjOf1esXYM/c+GAyGVvNerxf9fl/K/7Rhdzgc6HQ6aLVaEt73+XziCNCg03CzlJBz1eN2u120Wi3Zn+j3+xgMBvB6vWi1WkPRCW7ndDplLF6PdruNRqMh+9jvz7NyD2fdd9KzPm7/aedpYGBgsGzM7AxMMtCTXoKjXmiTXub23PksL+dFow3zYJFoxzh4PB5ZMdfrdfR6PTidTnEEdASABpWrehpp+3f6fxp/vbq3Gx5txBl5cDqdD52ny+USx4PbcI78X5clcn7RaBQOh0OciE6ng06ng36/j2g0CqdzWO/qabuHszoN4+Y/bX/798Y5MDAwuEgsxBk4j4FedLwnFePm22w20e12pWSPhtbhcEgJX6fTGTKwbrdbXvy9Xg/NZhP9fl8IezrEz2hAIBCA1+sVEp82/Mz101Dr+fIYXO13Op2h4zscpxUFACR6wOgEHQAAcm5er1f2jUQi2NzchMfjQb/fR7vdRq1WQ6PREJ6BdnrsjsGjxtPwzD0NczQwMHh6YaoJLgD9fh+Hh4fIZDK4cuUKNjY2EAqF4Ha7xTgDEEdAr8hpzLvd7tCKnQ4Bv3e73UgkEmg2m6jVaiiXy+h0OvD7/ahWq3C73QiHw0gmk4hEIhLS5/48HtMJeh46lN1sNkeG/OkM0ODTsYhGo7h16xbW19fR6/XQaDTQ6XQk9eH1elEsFuF0OoXvQE6DgYGBgcHjgXEGlgiG4Pf29tDr9XD58mUkEglZUUejUVmR61y/y+WSlT1X0s1mUyIANLYej0eciX6/j0AggNXVVTSbTZRKJWQyGWH9h8NhpFIppNNpWJYlK3s6BFofoNVqid6A/pxRA7uzwgoDolqtotFoIBQKYXt7G9euXZNUBtHr9dDpdACclkcGAgFEo1F4PB40Go2LuykGBgYGBlOxkDMwiUW9yPaTCISzjDmKlDVufDunYRqpbNzP9nkOBgPJiafT6SGyHUP9JAzqUD8FfJhr7/V6aLfbQ4aTx6Kj4PV6hRwYDAaRTqdxfHyMw8NDAKeh+2QyiWQyiWAwODRfnY7QjgYAGR840xKgyBD5BzqCwFW9ZVlIp9OIx+MIh8NCJNRpBqYRdJkj0wuhUAiWZSEcDuODDz6Qc3/U93DU/vMee9w+4+YxDtPGNzAwMFgmzs0ZWMb2dlLVtBfsvHNYZB/79qPmRsIfw/is4SdxjpUC3W4XlUoFPp9PDCQrAbiNLutjyJ3OAiMH2pgCp6ttt9sNv9+PSCQiAkLRaBThcFi4BDoNEAwGxUFgLp8rexphnarQjoNOLwBn1QTBYBAej0ecCpYs0rkgN8LtdqPT6cDpdEqUg45Fp9NBpVLB6uoq8vm8iBld9D3UmMfwzjsf+3ajjmWvnJhnfAMDA4PzYOHIwLwvqVEv9nFjjntpTyMrTlsljttn1OfjVo76d0r2kgBIw8t59Pt91Ot19Pt9WJaFWCwGy7LgdruHCHzkB/C4dAj0Kpw/04jT+JJXwHJFphsAiKNBw8uoBFMNXq9XVui9Xm+oYoARCs6VUQVGKtjkSDc6AiBODb+jo6P3pUPA68SxeJ10lOii7+EojNt+3HM56fd5nmVj+A0MDB4Xlh4ZmPTitpcNThtzkZfjsl6ok8Zpt9vw+/1CiCPoFDDk3+12Ua/X0W63EQgE0Gq1hoiEXH1rWWEem04BIw/M0dNRcLvdQ1oCHo8HlmVJdKLT6aBer6NWq8HhcIj6YLVaRb/fF+eBFQlMVVCGWEc2tPoh58DKBp4Hjbk+d46pKwf0tdIOkb52vV4PtVoN3W5Xuiwu+x6eZ/tpzsW0Z9kYfQMDgycNSycQTnrRzZMzfRTzWRTNZlPC8JTl5YqYoXNNBqxUKvD7/ahUKgiHw2LgydZnOJ7GkuOwNFFHHbjypyFlSJmOCVfirVYL1WoVhUIBrVZLiIWFQgHVahUAEAwGkUwmEYvFEA6H0e/3Ua1WpXqAK3h9TrymDO3rc6HTYFcq1CkGbq/PidwE8hPa7TYKhQJKpZJUGlBsycDAwMBg+VjYGZiXRMh97Hln+3fLyOfOMg9gNvLYqO+YI9fhcC0Z7HK54PF44PP5xAgzL08uAABZXQMQI6lX3Z1OR/oN8Fg0jkwXaCMNnKYuyNDPZrMAgGQyiVAoBIfjtOcBcNoLoVwuo1gsIhqN4vLly4hEInC5XCiVSqjVapLrDwQCIj7Ez0hibLVaQ2JJOsVBZ0CnCAaDgfxMZ8bv9yMWi2EwOJU0ZnVBr9fDe++9B5fLhZdeemmoI+N57+G8mJbjn2ccYtH9DAwMDJaNueWIifOE8Ee9WMelESY5EHqbeeY0S4Ri0hwHg4Gstlkh0O12xQGgEez3+1JayGoDcgMASFUBv6MB5c9cDbdaLVl1kwMQCAQkt99sNlGpVNBoNGTFXq1WZbudnR34/X7U63UpISSpMZvNolKp4Pj4GJubmwgEAuh2uxKxoMFnFIROCdMAdD60KBIjG4x0ME3BkshmsykCROQsOBwO1Ot1lEolDAYDpNNpbG1tIRqNwufzIZPJjDSki97DRRxSO6ZtM+q5nIXPMm0/AwMDg2Vjbjni86zQpxn2UQ6B/eVp/2zU75OOPc9+XBWzLI7GsdlsSj6dxLxWqyVGjQbe4/EgHA7D7XajWq1K+J4Gk4YZgPzMcDsrD5hr93q9QvyjoFCn00G5XEahUEA2m0WtVpP8v9frRSqVwsbGBmKxGBqNxhBXgat7t9uNXC6Hcrks6QLLsmBZFmq1GgCI0baXB1ILAcAQt4COAQmKdCKYfmg2m2g2m9JrgUJJe3t70oSJjZi8Xi8CgQCy2exQVGWee2jfbtQKf9FowaQ5THJSJmFZ8zMwMDCYFXOnCc7zojrvaus8L8R556idH670tSBPp9NBs9mUjn/sMMgXPT9zuVzw+/2yMqazwNU18+Q6/85/lDK2f+5wOFAqlZDP51EsFlGpVFAqlVCtViV/T4Kg3++Hy+VCr9eTagPd+IjRjEwmI2MzzaGvmW56xO3cbveQDLEmGtKBoNNDh0k3NaKWQbfbRa1WE7GkYDA45IC1222sra0hk8mM1CCYdg/n3X5WMuujeB7PexwDAwODWXAuAuG8+f1l5msvCjp6wRC2/o6rU66MadDpCNDI8h+NM40sOQStVmtIFZArbGoWsC2xw+FAs9kUYiDHYYTC7/fDsixp/sMIBY2w5hXQoOtjeTwexGIxqUjQ4kJaApklkzr8P6qxEY/LskJdnaB7IejUAq9jKBRCKBSS+ZNf4HA45iIQPukr6Xnn9qSfj4GBwdOPczkD84ZHF32hPcoXIY+lV706NK5Xx61WC+12W8h1en8aO3IIdKSg0+mIyI89AgGcKgiGw2H4fD6USiUUi0VpTcwIA1MFXEkDQCQSwZ07d6SFcKVSQaFQQDqdFidEVz7oKEAoFJIqAK7gdYhfGyQ6Fl6vV8ZiRITOACsltICSJgByLF1aSCVCrU2gHZtZSXTPmuF81s7HwMDgycNj6U2wzMjBeRjdo/bhqpdhcob1Neufq36ufEkM1E4BG/Nwe47H9EKtVhvqSEiHw+FwIBwOIxqNolgs4vDwEPV6XVb/oVAIg8EAwWAQfr9f/vEYJBKenJwgl8vB5/MhGo1ie3sbTqdTogwM3TebzaG2xO12G/V6XaoEaIw10U/rIvDctaHWrZHt/Q10VQHJlLqzIqMWHIfcAjpD57nvkzCNzDfqWMvgz1zU9gYGBgbz4IlqVDQPk9u+3zK29/l8SCQS6Pf7Q3K4FA9imJwGi9LCNKgk5wGQVTi3Y7if8r8kH9rD7CTM9Xo97O/vo9frYXV1VSIF5CawxLBcLqNSqQjZzu/3D8kgHx4eClFwe3sboVAI9Xp9SAqZPAKeK1fhDOMDkLnyd86F29qVFOk0aE2BVqslYk16H15XHofRFKYWOp2OlElOu4eLGs1FolmPijNw3mMZGBgYTMPczoA9XDwLm9u+/TSW9SKkxFFlYfafub3elp9ZliVldaztr1aroiCoV6zAmS4ADX2j0ZAVPI2vXlnXajXUarWh8UhIpNHUnfyOjo7Q6/WQTqcRDodlHABDxpSr7V6vh2w2i8PDQ7TbbVy6dEnkjwFgd3cX1WoVGxsbCIfDiMfj8Pv9KJfL4jjo8+Tc7SRClg2SHKj7ENB465JCjqHH0YRM3d/B4/EMkQnpSFQqFdy/fx+ZTAYOhwPpdBqXLl166B7q/2e553bMUuo3bpxRz90iq38N4wAYGBg8KpyrmmCSUzDK8E96uS2aIrC/dGeZn95Hh97b7baE8snIZz5bOyraMSC5jTlyrSOgtft1QyKuiBl+Z7qAof9ms4lcLieliSTP0fC3Wi0RMKLjUavV8O1vfxsffvghLl++jBdffBHJZBI+nw+9Xk8EhnZ3dxGLxaR+PxqNisiPVk4ksY+9F7SoEtMJ3I7nSUeB0QMdSaCx1+WS5CvQKWi328jn82i327J9q9VCqVSCx+PB1atXEY1GxWk7OTlBMpkc+2zoZ8D+/7ypqmnjjHru7M7DtDTDuLmZFIGBgcFFYymNikatvse9+Ka9bCe9+Cat0MbNb9rxgLM2wWTAMyXAsDtX4jwWZYY1Kz8YDD5U9ka+gWbYayIigCFege5XwNa+bBREtFqtoX4DrNOniBClkhOJhCgK0rGh09BsNgEAgUAAPp9PFBUdDgdqtdpQwyKG8XVpoc772+8Lr4/9meDqXzct0lGBTqeDfD6PfD4/5GCxD0QqlYLX6xVVR4fDIUJKo56BRQzvoumFeZ+3cdGJcZEz4wgYGBhcNM7NGRj3Mh338p32Yps1Rzsp4jBrNAIAqtWq5Ntp/Ggs9cqbq1wdAufqWDsOZOJTKEhHBbTioH7p82f+83q9SCaTQ7X2dEZYieDz+R7qW8CoBMsNdTqB1QcUSaKhBc66L4ZCoSENBBpvrv51xQPnynPRDYt0B0Yd0eC52CWK2UehVCpJPwY6R9RpSCQSAM7IiT6fD6lUCnfv3h0q/5z27Ix7LsdhmnM6Lfo1zTGY5XMDAwODi8a5uxYu68X2qEOhDPdTTZBkQB32ZhkehXu0wh5X7Hqlz7A2u/XRoLEEUYsS2Rv48NgAJBqhnQjdMhg4EzXiPKvV6hAZTzf+oTPhcrkQDAaHyH7tdhvNZhORSEScmVarJWNxXvbVrNYC0JoEujSRc2EqQO/Ln9vtNmq1GkqlEvr9PsLhsEQsuB/TJCQ3cgyWQ87iDBDzPmOzOqd2nCftZWBgYPCo8cRUEyz6EjzPy7PRaCAej4tTYG/6A0AiBXQGNLueK3OW6FmWhW63i0ajgVqtJhwARgcYReCcuTLmClsrEbKiQdf+02kh2ZHaAc1mE9VqVTgLjEyQoMjKhWaziVarJT0LeA1qtZqE4zknOgP2dAqNviYP0rGhg8WUAuWItSNAJ4UpmWaziXq9DqfTKb0I6CwwJcHOj4xAsBRRn+OThkVTDgYGBgaPAxf2Jl20jvqiyVN6hXvz5k0AZ1K7wGnInGkCrv41w57hdXIG6BBQQjcUCqFarcqcafRarZaMqUl2XFlzHjTM2jEgaMSDwSCCwaCQFhuNBkqlEgqFAsrlMo6OjnByciKcAo/HM5TS4LzIO4jH40PXhmkDgj9rI635AnQMeK4cgyt6HUHo9/tyLTgfkgLZWVGrPNJZoXPCFEggEEC9Xkc+n5f5j+KuzPtsTEsJzLr9oph0nFHcCAMDA4Nl4MJKC0dtM87QT3rZjXMM7GTCcfvYj1MqlZDJZPDyyy9LFz9q9jOnz9B+o9EYYrvrMDUNcafTgc/nkzGY7yfYlIfQegRMSWhWPjX96WyQy6AJg1whM/TPf5zn/v4+3n77bTSbTWxubiIYDEqqwu12D6VCgFPNALYs1m2FyU/QjZLouGgHgMab5ZEUZGLkwM6z0IRJ/gOASqUiTgOvDwWQqLZILkS73cbBwQF2d3fx9ttvo9vtYmdnB1evXh37/I16JiY9s3Y+zKhneZzxto87q5M7bnyTQjAwMLhILKW0kJj0gh21/aiXnV5xjnohTxuXq9BR37/zzjvI5XLY2tqS5kHclqtanZsfDAZiuGmcKCHM2n4aQ31MhrBZddBoNIRFD5ytsNm8R3MReCydVmAJni7F09UIiURCzuWtt95Co9FANpsdavpDfkO9XpfrBJxGCKrVqpwXHRJdSsh58Vrq9IN2Djim1+uVaIu9soDz4P/czp6S0BGZUCgkzgBwSvrMZrM4ODgQQqLT6cT+/j7q9TpeeeWVsc8GP5vkMNqfNztRcFIFwrioxCyOwKhxxx3HwMDAYJlYWppgWeH9874EJ60IqQDYaDTQaDQkLE3DTwOvVfRolHRdvF4RM6KglfZoSKmeRyldkv64MtflhjQ2OqSuDawmBXKeOqyfSqXg8XiQz+dx+/ZtOR9GELg/HR7uS3IijT5lirV4EI0trwnPg5UJvN7aqSEBkuegeQx0AuhU8BowCqKvod/vlyoIpgzYr6HT6YhAlMPhkH4P056NWZ6fSZ9NGmfSd9qpmOY4GxgYGDxKzOUMzJMWmDX3Om4VNutc5snl0tgwrx4Oh+H3+0URj44BDaPOhwNnGvq6858+Dg0dDSzTChzfXgZIgw1AVtEs6dMhec2+104Aj892x+vr60in07h7966U5FmWJVEDrf2vOwgyaqGjAnY9BF5XOkA8Js+Dn2vnheeryxHpQOioASMs+przGIyIkJhZqVQkkuHxeBAMBoccp36/j729PfT7fWxvb89sYGcx4ueFjnyNiwxMm4uBgYHBRWAuZ2DRldUyv7dvN8tKjqDAT6VSwZ07d2BZFra2tmS1rVv3Mr+tDT/H5vhcIdNoUbFQKwwy1aAFhWhcSMxj+SAdCQASEqcjwe1YwqgdBkYqAoGAaCZwjnQKPB6PCPSQoc+VO+dkV0nUq3p9XXX6hBUK+hrxe14je7Mm7WjoaIguZ9TnR8Im0xIsPWRZInDWU6FYLOKNN95Aq9XC1tbW0oz4srBoVMHA4HlEOBzG2toaBoMBbt++/bin80zjXGmCZZOaFlkZzTIHrkx1SDybzeKtt95Cu91GOp2WEsDB4FTQhmV6muxHw8NQP50IGnsaTl19wJU7HQTg4S59WthHn5cmGPI7OgMOhwOBQACWZUn4v1AooNFoiCJhPp/H4eGhjFcul4fy/3Q+WAGgqyS4MtfEQf5OY9zpdOD1ekWXgM6UdkS8Xi8sy0IoFILL5UK1WpVt7CkStk22Rz54X+jUUF+hVCrJdeH3kUgE/X4fpVJp7udlUi6fc5kHi/x9GKKggcEZfuAHfgC/+Iu/iEajIeXQBheDmZ2BRVnNszKwgdletqPSDKOOobd//fXXxUiurq5iZ2cHoVAI2WwWjUYDxWIRoVBIQuo0UrrmnsacxojGmivoVqslToPuVsheAlzV06jqnD6NuU4BUGNA5/t1SaLT6USr1ZKxaNRdLheuXr0q+xSLRTQaDVnFs/Zfz5U6BpQh5rzoyEQiEUQiEQSDQYk+AMD+/j5KpZKE/3WKiE4AHQJ2OeQ9YRRFO0OaN0DypcvlkpbOOqrgdDqRSqUQiURQKBSQy+XkWWg2m0NOwqRnY9KzNM9zOeoZnfXvZRIh0cDAwOBRYGZnQL+sxvECRq2gRr2IZ30528fkz5NWaqM+azQa8Hq92NjYwNWrV3HlyhVEo1FsbW2hVCqh0+mIiBAbBQFnJXEMddM4AhBCnG79q1n/JAjaVfOYTuAql9D5cgCyWufqnc6GXnVTv4AVBoPBAJZliTHVVQu6YZI2lkxdMNKhyYF+vx/r6+u4evUqUqmUGHRGRCzLEkIinRcaeM6HxpkVFTwP5vrb7Taq1arMh82ieM07nQ5qtZo0ObJ3QfT5fIjFYnA4HNKMiU7c7/7u7+Kzn/2sOC/6uZvl+dHOq/37UZ9NegZHjWkfex7HxcDgacTm5ia+9rWv4cqVKw91gh2F//bf/ht+8zd/c+jvxOBicGG9CezfzTOOxijHgtvrzyc5Ei6XS4xGJBIRw9Hv9xEIBCTnzZy07h/AfVkuR0Oqmf1cvRO6NTEdAW5L4aBAICARBV2+yDw+DTrZ/Vyx0ymhUdetkrWB5zloo6PJeHYhJV0C6PF4xFm6cuUK4vH4kEQwj+dyuZDL5USjgIacTgXPTYsq2eWDNSeBUQHgzAFjEyPeG153vZ3X60U4HBbHAzhLeWgC5KIY5QCM+nyW53+UU23/btRYBgZPI37lV35F+E8AYFkWNjc38eu//uv4m3/zb+L4+Hji/qz8Mrh4LOwM2KMDo1Y1015u0yIIo34fN96obfr9Pt57770h5j4VA1nup+v2ddiaBkpHDDTbXufdaUi1YdYhbV01wBB6JBKB0+lEtVoVA8/SORo03fDHzrLnip4rfhLw6LhoYiC/tztuur8B5+/3+xGLxbC6uopLly4hHo8PlRhyfO4biURgWZb0RtBVAOzFQGdHExJ1u2heE7/f/9DKX3MndGqDjgE5E4wc6A6U41YesxraSc/YLIZ71OeLpARMVODpxac//Wl8z/d8D1qtFv7Nv/k3j3s6jwxutxs/+ZM/ie/93u8dmev/c3/uz8Hv9z+GmRmMw7kbFY367DwvrvPmazV6vR7efffdIXY/V+dcWQPDL1stPsQVKL+jAQQwtOJ0OE5b7gYCgaEUAR0Be/7a7/cjHo/D7/dL+2CPxyP8Beb56/W65M3tDpZe0ds7DTKcrqMcdmIjt+G8LMuCZVkIBoNi4NvtNjKZjAgbMQWhV+eMGOiKDLfbLZwAHtserWC6QDtkOnrC7bUokR5PR2fo2GgHjef5pGGR59k4Ak8vPvvZz+InfuIn8Du/8ztjt3E4HPjCF74Ah8OBP/7jP0Y+n584Zjgcxmc+85mhzz744APs7u4uY8pLgcvlwuc//3n8wR/8AT71qU+JZLjBk4sns8uLDeepMmDPewAPGQwdHaBhpJNAsiDJedqo0oiRN8AURCwWQ7/fl1Wyrq/n8RnSXllZQTQaHWpH3G63USqVkM1m5R/PXa9yyXHQSoT8nqF5GmhuT0eB89Atib1eL1ZWVhAMBtHr9VCpVHB4eCg9Fl588UW8+uqrQyQ+nfLgsRjatyxLNBwox0yCpAbTMCQs0vjTmfD7/UORBBIcgTOHxq4CyWiMy+VCIBAYSkmcB+PSUIsY6kWrEwyePtTrdfzBH/wBvv/7v3/sNm63G6+//jqcTie+53u+B7/xG78xdlvLsvDZz34Wr7/++tDn//Sf/lN85StfQa/XQzabXdr8F0Wr1cIXv/hFAKfcnc9//vMz77uysoJ8Pi+RUYNHg3OnCZa576iX5LxsbIIG266Qpwl0FMDRioE0WlytApBVvm4fzDG1yh8b8NCoMcJAYw+cevXxeFycAV1h0O/3kUgksL6+jkKhgOPjYxwcHOD4+BilUkmqB7xerxyDxpChdhpYRhG0MeQ56ShBJBLB+vo6PB4Pjo6OcO/ePdy/fx9HR0doNBpwu924ceMGCoUCvvM7vxO3bt1CLBaTlT+dARr1SCSCra0teL1e1Ot1lEollMtlubecDzUf6KDxe/ZDYHohEAggEokgHA4PiTgxrcF7rxsl9ft9qQyZ1YDPk/fXz9gknGdfg2cDX/3qV/HVr3516nZ8P03D3/pbfwv/4T/8h4c+/5mf+Rn8zM/8DO7cuYPr168/UYQ7e4pyEhwOB+7cuYPv+q7vwp/8yZ88gtkZEAs3KhpH2hu3/ah9gYfTC/OStMZ9xs9piDudDsrlMsrlshhNnS/XeVyuTHXrXeDhyAKNaq1WQ6vVGiL4MVyujRzHp8RuMpmU/emE8J9lWdje3kY0GkU8HsfBwQEymQwqlcqQPgEdEs5Nk/V4XlRNpKPAyEEsFsPKygqcTie+9a1v4Y033sD+/j6azSY8Hg/8fj9arRbefPNN6aAYj8extbUFj8eDSqUiKoBs30znwuE41XJge2K7nLI9hM8oQ7fbRb1eF9nhTCYDn8+HtbU1xONxqULg/WDTopOTE5TLZeTzeSmlZLTA/kxMqnqxP7OTCH/TVviT/jYm7TuJDGvw7IGy2vz5PNjZ2UG5XJaFxpOAL37xi/jZn/1Z/PiP//jE7WKxGI6OjuD1evH1r38dP/IjPzKTI2WwHMytMzAvN2AWkuC47ccdd1Y4HKclbAzd69U0jbZdMIjHYR5fl9tpYiB5AdQQAM7C79rwkg3farXg9/uHZI95XHY9LJfL2Nvbw7e+9S0cHx/D7XYjGo0iHA4jlUohGAwik8mgWq0Odf/TDgD7JOhuiyT18ZjxeFwqBJrNJr797W/jG9/4Bo6OjoQ/QHVEyjVns1ncuXMH9+/fx4svvohEIiHH0lwKRmMcDgdarRbq9bpEYlhWqcsOtVHUPQq8Xi9isRiazSbK5TIODw+Fv6DFnrxeLxqNBo6Pj2WbZrMpKYZZnjH7szbpeZplnGmY5kiP+jsxkYRnG3yHnAf/9//+X/zYj/3YzFGGRwVGX6eBizfgLHJo8Ogwt87AMjDPWOc5LkvNdLmeNlpcNetugrolMP+oNDMfOCOo6WoBbdR0XpukOofDISI8unkRmfDNZhMHBwf4+te/jt/5nd/B4eEhnE4nEokEtra2sLKygkgkAr/fLw4A5YXpeDACwFW9Vk/kPJLJpGgG1Go1fPTRR+J8MMrAsDvPhcqBNLgUaeILjI4USy/z+TycTicqlQqazebQnLSCoCb+6evIc9L6DqVSCbVaDcViUZwG7svPWeJIwaNxJUnTKlTmfebmTZlN2t44AAaLolKp4P3333/c0xiJX/7lX8abb76JZDKJn//5n5+6/U/+5E/it3/7tx/BzAyIJ5pAuIySqnq9LqtShqqZJqDBo4NAo8RcM2vV7e14taHi/3Qc7FEMRh5YBkduAUV4SL47OjrCt7/9bfzhH/4h3nrrLZE+Pjo6wvHxMdLpNFZWVpBOpxGPx0Xel+V7PIdWqzWk+Ecj6/f7EQgEsLGxAb/fj2KxiAcPHuC9997D8fGxpDXoANAJoNHmCr1cLouDZXeKer3ekDNAQSeqEGppY147Rgl4nemYaadAVy/wGJRAZpqlVqtJ5INRHRJH7Tivsbf/Pu94xsgbLBu///u/j9/8zd983NMYi29961v41re+he3t7bHOQKvVEj7Ef/kv/wX7+/uPcorPPZYqOrRszEoknEQK02I6XEGzDl9/B2DIQAGnRMBGoyGrW66++b1OBdA40ZHQkQIy7ClcVK/XRUyDuUKmB958803k83kRJarVaqjX6zg+PkYkEhEVxa2tLQQCAWmprPUMNHeBjgLFPtLpNPL5PPb29vDtb38bd+/eHZIBphG2r9iZgtCVFQztazY/uRkAREOBjggjM5wbr51uXMTrrzUd6LQxusD5tFotqVbQ1RH63s+Ta5+H5HQeTCIrGhhMQiaTwbvvvotbt24Nff4rv/Ir+IVf+IXHNKvloF6v40d/9Ecf9zSeW5zbGVimIzDJqE/6fNJ3FLbgdqwooAHVYXxGDdhPgBUBjBaEQiExarqUjQaUXAQdadBsfxo4tuItlUpIJBKoVqu4c+cO7t69i2KxKCtoAMLa73a7yOVyqFarKBaLaLfb2N7eHmpU1Gw2ReuATgvPO5FI4MqVK0Opgffffx/1el0aG2lHiMekkdZdB9nxEID0NGBOkA4IV+0kSwaDwaFUjf2eMVVCY04HgNeU8+IY/J2cDZ3CYdWFbjetI0Djnr1xmEYEXFZkwEQMDKbhv//3/467d+/im9/8JoBTh1tXTRkYLIqFqgmA8SzoRb+bZtTHjTdtLB1u1jlqHYLmytjv98Pr9aJareLw8BC5XE4IdRQVIrGOOvsMl+sVOdMQDH9rgSOWGmqyXz6fx0cffYTj42N0u11YliWGnZUQdFr6/T4ymQzefvttVCoVXL58Gel0GrFYTDT8ScRhUyI2aAoEAnjjjTfwxhtv4O7du9LXQBMntRYAjbHf78fm5iauX7+OUCiEvb09tNtteDweZDIZ4S5oTka73YbX60UwGITb7Ua5XEahUBAdA+CsV0MoFBKlQwot0WHT82HkotlsolKpoFKpoFqtSvWD1lbgNfjmN78Jt9uNzc1N7OzsTHxm5n325nlmF4ls2Y9lYGAH+6sYGJwXczsD87CtR33HF984otSoUsR5jmX/nKtxrlbdbjeCwSBCoZBUBNTrdTFC1WoV+XwexWIRbrcbKysrSCQSQt6jgRwMhsWKNLOf56fz6uQKsLKA/7daLRSLReTzeakSYHSC+XStQ9BqtdDv93F8fCwrYjLvqWrIc6VCYDKZRDqdxrvvvos33ngDe3t7UgpJzf9gMCjGV9+jVCqFmzdv4sUXX8Tq6iqCwSD29/dxcnKCQCCAUqmEQqEgQk28Fu12W0SMstks9vf3ce/ePTQaDeTzeSFPsjLA7/cLD0KLNdEB4DVotVriWJAgqFUhGcUhMZSRnUVW/stcwU/bZ9xzb//bMDB4mrG3t4dYLAYAkk40eDLwyAmE8zClF10N6Zcpc+/VahWFQgF37txBqVSSFXGz2RQCWq1WkxLEQCCAVCol0QJdH888vc6hs06ewjc0YGwMpKV0G40GSqUSisUiyuXyUBMeEuh4DACywud8aUgbjQYODg5k9f/yyy9jdXUVvV4PuVwOnU4HPp8PyWQSHo8HH374IQ4PD0XJj84QNQK0EWazops3b+LWrVuIx+NiXOlcVatVlMtl6afAlIgmLzLMH41Gsbm5iWq1KpwNGu1erydlleQSAGfGHcAQl4CpAc070PoOmkhYLpcfebMTu7NrxzQC4riogokOGDztGAwGJpLxhOKJqyaYJ7w6aQyuori/z+dDo9HA7u6u1PADkBUtyWgM4+uugvV6XQwUm+kAGDLcjBpwDLLnGQHQZMVWq4VCoYBcLif5f8uyEIvF5A+FRk0bVRLsSBQcDAbSsjcYDOLy5cvY2tqC3+9HNpuVyITT6UQ2m8Xdu3dRqVSGyHa6lJDb+v1+JBIJ7Ozs4NatW1hbWxPnR0dZWErIzzgmQ/t0gCgalEgkxOnSzgDLEO/duyfOij6edhD0Pdb8A/2M8Lj8jFUhjxKTHIJpzsKo7Q0MiL29Pfzjf/yP8a/+1b963FMxeIZwLmdg0UqCWXKxxCzjjxpPG16HwyFEvHK5LCVsXGk6nc4hMSLW6LN/Qa1Wk/QAHQt7C2PgNOxFhUB7qF8rArbbbRSLRWSzWWQyGTQaDYRCIWxsbEipHHPh3FeTHLUxZ5rh4OAAe3t7olpIY8rV+oMHD0RdUKcD2H+B/3w+H9LpNHZ2dvDCCy9gbW0NHo9niB/BOem56Wuu74e+ZsFgUFoNc3uqCDocDok+MI0xqkMkozOapKmfHaLZbIoTYa8yWDYhcBwmObbLcHoNnk+cnJzg53/+5/Gn/tSfMsRBg6XhXM7Aoi+vZbOpJ4Vja7WarHZ1+Nnj8Yh+PUP5dBLI0NckwHq9LvtR1CYSiQgLPp/PI5/Po1arIRQKDRlYADI2V+HVahW5XA4HBwdwOByIRCK4fv06otEocrkcTk5OpD8ADbDWNOB41ALI5/N4//33ce3aNQSDQXEEWD3x4MEDFAoFSW0wBeF2u8Xg+nw+rK6u4oUXXpCIAHkN2pgyvaAdDhozHTWhLgDllhktYRSF+7bbbSQSCdy4cUOqJYrF4tA50BliZETfe35GZ8vlcsl1o9PW6/VQrVYBAKFQaO5naRlYlG9jYGBHs9nED/7gDz7uaRg8Q3ji0gTLBnX+qX7HfDjL3bgq5UqUJEB63DS2jDA0m82HOgKenJzIqjscDgPAUO7a5/OJ+JEO+dfrdZycnEhJ46VLlySvnsvl8O677+L+/fuoVCpDpXs6GsE8ebVaFYO/tbWFZrMpxMhyuYzd3V1UKpUhQh0dHYbaU6kUbt26hZdffhmbm5vC2mdenw6T3lerOzISoomPusyQ5YrM32vjXa1WYVmWkB1LpZL0a2CEhtccwBC/gp0jya1wu93CY6Czt7e3h3v37sHlcuEHfuAHjPE1MDAwUFjIGZi33OkiyqPsYdVRVQoEQ/ahUAiRSET0/rkq1jnwfr8vJDl7qJ1cANb183u2DV5bW4NlWdK4hyRAcg5oREmGczqdqNVqEv72+XzweDyIx+PY2NjA1tYW7t27h9u3b+P+/ftCCmTYm44A0xzVahWZTAalUgmNRkOiIg6HA3t7e6jVauLwMBrCJilutxuJREJ6IDCVAWCoAkJfZxpqff117wWel66G0KF/pg6ojcDSyJWVFZTLZVSrVdRqNbjdbokmkGfABlTkWlCVkU5BvV7H/v4+jo6OhvgCHo9n6Jkk7OmGWcL407Y1oX8DA4OnBQs5A4sQ+paNcRyBUcfy+XxDJDPNcueK1uPxSJkhjVa9XhfjxVQBDXG1WhXDGolEsLa2hlgshnA4PEQmpIIhV8x0Isgd0Ktkdttzu91YXV1FOp1GMBhEMBiEz+eTSgiG++lA0AA3m008ePAA165dA3BqlBh9IKFQ6y4wFeJyuRCLxbC+vo5oNColfJqXwGPxd0ZSdImgjqjotIHmDwCnJEy/3w+fzwe/3y/VDPl8XjgdOuXg9/uRTCZlDoFAQFpBx+NxhMNhUWOko0MdBKYhGGWwcw2mPVeTPp+2rXEEDAwMnhZcOIFwmm7ArLoCsx4PAAqFAg4ODlAoFACctR7W+W4K/uicM1d6bMvb7/elhwBJgfV6HZVKRQR7QqEQVldXsbm5ibW1NUSj0SFDTxIgcOaE0IhypcvIhS6No9a+y+VCMpnEzs4OXC6XpCOYR9fcgXa7LXPTOgYkGdIYa7VBztXr9SKRSCAUCkk+n/wGALKtjpToVAqdLbsDoJULGcXg6p3pGfIPmNIol8uiIsjtqA8RiUQkgsHST3vnRM2xYMknowzLripYNOq1iNCQ0RkwMDC4KFw4gXBaZcA8rOpZX7hcDefz+aFVaafTQbvdHlrJsmqAx9aStZQy1r0HtGFKpVJYW1vD2toaUqkUwuGwkOZGhc15fN0RUJcQ0oiSo8BeBx6PB+l0Ws7j8PBQjD2dC90NUa/O+RkjHnbHh+fmcDiGWhdrYiBTHDwHOgMcg6tvGl9d989rzfPVCo3aYdJiQiRiahnnfr8Pn8+HcDiMWCyGZDKJeDwuDoquGOB1bLfbaLVaACDcAa1ouAwsm/Q67juTcjAwMLhIPFGNipY1DklqXFlrsR6y67kipagQjRWNJSsHaKS5QrYsC9FoFCsrK9je3sbq6qpUFWhNAb2qtRtuXd9PIh6Z7+Qv0EC3Wi1YlgXLspBOp1GpVOD3+9FoNIZ6B+hURrPZhGVZIv2bz+dHroi1M0LDTVKeNvg0rFzBkxDIa0OnQ0dadGfCUVUGAORe1Ot1FItF0V2oVCqSouFcmBZh0yOWf3I+PB+SGPv9Pmq1Gsrl8lBKZZa+6ufFef4mJmkTGBgYGFwUnqhGRctCq9UScR0aAK4SG42GhNVZZcDeA/y51+sJ6Y/Gkav5ra0tXL16Fevr64jH4yIsxNVtp9OR0DjZ7zRadBKAM8EiGmMq6gFn5Xta3pjcgWQyCb/fL8ZYl/B1u10py7t16xbS6TT29/fx4MGDIcIhw/kkSwIQZ4AEOz0XOgI0yhRoYq8G3bWQKQ6WX9rBPhBMxQQCAUQiEbhcLmSzWXFmtIOiIyUkE1LFkCkfzpmOB69FPp8XJycQCDwSZ+A8fxNP4t+TgYHBs49nsrRQq+AxLx+NRhGLxRCJROD1etFut1Eul1Gv11Gr1cSg+Hw+IZtRBKfRaKBeryMWi2FnZwc7OzvSQIh5aBoirlhpqEiwowGnMSabn2FzhrjtLZY5TqvVgs/nQyKRQDKZxO7uLgBIPr7X68Hr9aLRaGB/fx8f+9jHkEqlZHWshYHoZNC4UytBh9C5PVfZjLBQdVB3F+Q86PxUq1WJbOhUiSYV8me/3494PI61tTVEIhG8++67kiagbHOhUEChUEA4HMbGxoZcIwBDVQtMZzAaUq/XJSITCAQQCoWkYZSBgYGBwRkW6lo4LqepMWve004gnGffcd9THrheryMUCuG1117DxsYGYrEYgsGgqO4xh1+r1VAsFiVffXR0hGq1KsbE4ThVx7t8+TLW19dl9UyDyPG48qdxJoudZXQ8Ho0qGfter3eoIQ+NKvPwXMFTdnh9fR3vvPOOqAnye5/PBwCSFvB6vRIZoaHXjYDYoKjT6Ug4Xbc9Jr+B50DnhFEVOgj21sBut1s4CpqfQP4AmykxwtBoNBCLxXDp0iX0ej1kMhmJcLBKol6vo1AoSC8HTfZkJEBXfjidTty8eROBQEDKC+mY2J+bcc+cfZtp29mfw1mf2VH/z3o8AwMDg2XgQroWjmM9T8uFzkuqGvc9w9UAkEgkcOnSJUSjUWHcs5yPeeRgMIh0Oj2Ud89kMrh9+zbu3LkjHfiSySR8Pt+QAdS181Q6ZGhbSwiTQ0DHQesa0AmgE1Gv1wFA0hw0YA7HqawyWxvT6AFnpDktZayFimiU6Whox4PkvYODA6mIYCtnnXNnJIFGi9eY56dLDUm+1CJDVHbs9/vyMzkWTMMEg8EhfoWuNtAOjZZl5n3gsalDsLW1hXQ6jXv37mF/fx/FYvEhx2UWYz2PQZ71edaOwrj/R21rYGBgcBGY2RkYt4If9cLUn9u3t4816TiTPp8kOqQZ9qw/Z26ZhoereGoM0DBaliWMdYoA5fN5qYXXRDkaVr2qZz4bwJBQT7PZlNUpV/s08jS2mrxI48qxeH5aV4Dz18I+XGlTfZCtmYHhEkDtzNBJOj4+Rj6fRygUgmVZQxUOzNnrXg40vpwDIx/2roM6hUJSpVZitF8T8jcoKsRUCFtPMypBHgOh7yfnlEql5HtyH95880288sorklYY91zZn+NxsK/kx4kOTVvxTyMPmtJCAwODi8LMzsC4Fc+4F+WkbRaJAEwaY9QLnIaKIXitca/D11x9cuU+GAzECWC3PsuyhFtARTwaN66QK5XKUO6aBloz/XVponagaEC1odYrWDoIdAbsq1vN0GflBOvqqRfA62Hv8keiIlMF7CjI45AgydW5rq6gA0RHiqkXjqu30dEPXfqojbe+PuxjQKM/GAwQiUQQiUQk6qDvtxYT4n1lZIUNknh/9/f38fLLL8/0bM6yIh+3z7xjjXOWF4lQGBgYGMyDx9K1cN6xph1n3GqKOWKdJ9ZGicZak+FYFcBwcyKRkLA1S+A4figUkpUujRENoI5CsAxw1Epeh8BpsBlCZ26czHoAInGsHRpNPhwMBpJfr9VqAIBgMPjQdeG1GAwGQv7juWuHyOPxSAkgcLb65nnqeVBnAICE/+3lnPyMlRxMnehcOe8bj800QyQSQSgUklQLj0cnQhMugTMiqXZaeK0eBRb9+1jEITEwMDA4Dx5L18JFxpr3xUrDQmPEVaE9z+xwOIba+FLcxuPxCAGQhLl2u42DgwMcHR09lMuPx+NYXV0d6m1Ah8Cu1KcJfMBZ0x0tw6tTEsyR8/NcLifRDJ6HXoFTgXFzc1MqENiGmKt4jscUCQBJLwwGA4TDYaRSKVSr1SHNBj1/rvJZSqirBBg54fUmCZCpFUYDNIfCnj5gSWGj0Riaq72LoY526LG0g8Df6XiRT6GjMIs8Y/M6qdMIi9OcYgMDA4OLwFJKC6dVCcwzxqiX5awvTv7O0jOn04lKpYKjoyOkUikxZhpay54RAOasacQZtiahjrXwPp8PqVQKV65cQSKRgNfrRavVQq1Wkxw7GfPMhZP4pp0SOik0XCQxcrtAICB6/LVaDXt7exK9sOflWUtfKpVQLpcRj8dFR0FHMAAMRS5IfGQqYmVlBQ6HAx988AGAU/If58nyPB32170JKpUKGo0GLMsaMthaJ4DaCzT01Cuo1+vSo6BYLKJUKokAFAWK2MPB7lRpGWT9TDidTliWhXg8Lk2c/uf//J8AgE996lO4cePGTM/npOdyVk6LfsZn5ceMOp6BgYHBMrE0nYFRhMF59lnE+I/6Tueh2cmPq11ux9U6DRUdCL/fP1TyR3IaV/uUtnU4Tln96+vreOGFF/DCCy/A5/OhWCwOdTwkYU3PUee2GYVgXl6XHbbbbSHxeb1eKcfb3d1FsViUVTLz6QDknIAzshy7EabTaRwcHAxVAjD60O12RdSI1411/lzN63TEYDBAo9HAYDBAIBAYil4wBULCJXsjkMTItESn05Hz8vv9aDab2N/fxwcffIBisSjHLpfLcDqdchyOSW0GplYY2dFcDd4zOj2WZSGRSKBerwv50M6/mPScTTLcowz/pHHmNfjLTMkZGBgY2LEUZ2DeHOekF+g8YddRDoQONbvdblG4ozHlilz/oxHmHDTpjwI7fr8foVAI1WoVxWIR0WgU6XQaKysrcDqdQxr7WvAIgBgrSiLrsLZezdJJ0VwBrqQ9Hg/q9Tru3bsn/RUYTdD5e5ZQsgrB6XQiGo3i2rVr0haYDgu5CFy5R6NRJBIJBAIBEWViWoGhd47NqAX1FHiOnBPTAXbeADDcvdCyLHQ6Hdy5cwdvv/02Dg4OZI68FkzlMBLC9A3PT5NBeR/5DHAMneoIBoNCsBzF8J/H6E4y6LNGEcbBOAAGBgaPCo9FgXCZIdBRL0waApLTdJMa/fLXpD+tFuj1eoXA12g0JOxdqVRE+IbsdAr96LG1cddlfdpwcu5k6vMfjSnnFQqFEIlEEAwGRY1PlyDyf13JsL6+jvX1dQQCATG8m5ub2NvbGyrH40qassCxWAzpdFpSHow00AnQhpcphXq9DofjrK8BWxxrZ4fERp6XjrhUq1UcHR3hnXfewd7enqgX0uDTCeH1z2azsh9JnuQm8NrzmP1+H81mE81mUypB2E7asqyHnIFJmDWcP8tnsz7ri+xjYGBgsAjmcgaWsVKZlied9xiTSFq6tI8GjYbYvlKjsSKxjKtfSvWenJygUCjIqpUyv7Va7aGoA8emk0EwzM25OBzDDYC0cedK1+PxiDPA9sSaYKjZ8Ty/VCqFlZUV6bPQ7/eRSCQQi8WQyWSGqhkcDoe0Bo7H44jH4wiFQkPlgDqCYGfj0/CzFFCfu67a4L3V5Z1MRdy7dw/Hx8dDzaGYymBkptFoSBvmcrksWgNMMzDkr0WZuH+r1UK9Xke1WkW1WpVox6wRrHk5MXancNYowKzbGhgYGCwbczkDo16Ioz6fNsakF+kyGNg69N1sNlEqlbCysgK/3y8rdIatdUibRpks/kgkAgAol8u4c+cOTk5OpIMgiYkrKysIh8OSBtCrXt2C1+4o6NWybhesDaZOE+hSP46p+QI8X5IN7UqDDLPbV+v8FwqFEI1Ghaeg1QXtHQp5bDvh0e12IxQKIRAISFhel/dpHsZgMJCUS7VaRTQaRSqVkpRNrVaTqglyOCqVCprNpkRHOD/O0efzSaqDMsyav9FoNISwyEjKpEqCScZ8nufX/qyO2lbzbeYhFRoYGBgsA4+ltHDeNMG044x6idN45fN5fPjhh/B6vVhZWRGSHPdhHplGiB0I6/U6wuEw0uk0BoOBrCxbrRYSiQQSiQQuX76MeDwOj8cjAj80eDRiDKFzPsy5+3y+oXw/nSSd79bn5vF4pD9CoVBAu91GsVgUZj8N8draGnZ2dhAMBoV7wFx7r9dDMBiUlXSr1ZIKiW63K0JD5EqQgMiqAIfjTDCI50fDqsv/XC6X7K8dG/Zn4PkwGrG5uSmfsxohk8nA7/cLd4G8BUZrKDzEqguSMVmhoJ1O/X+/30c+nxdHTZeHPgrM+yzPup+BgYHBebAU0aFJYdRlrmhmGYsrYb/fj1gsJiWC7777Lg4PD5FIJBCNRsW40ChxBU72OVejoVAI4XAYV65cwd27d/Hhhx/ixo0b+O7v/m5sbW3B6XSiVCpJ9z8aYE1qAyCyugDE6ajX6yiVSgAgugVabMfn82EwGKBUKokhZsqAbH1yG/r9PsrlMrLZLCzLQigUEgem2+2iUCjA5XLh8uXLqNfryOVyUlKYTqfx4osvIhaLSV69XC5jb28PxWJRyiJ57RmpqFQqYsTJ9nc4HENEPt0+utVqSfdAXnuKCNEZc7lcqNVqiMVisCwL/X4ft2/fxmAwkKgF7zP7L/B8LcsS1UL9rGjeBp2IweBU0ZCcj2nP2DzP8yyr+3E/zzKOgYGBwbKxsDOgX1TnWdXPg1nGcjhOa+03NjbwwgsvYH19He12G4VCQZj+hUJByHPhcFgML1exnU4HgUBACH40IlzJXr58GWtra3A4HFLPz/CvvaGOfXVsD7UzhUAynGblO51O1Ot1HB4eolqtwufzIRKJYGtra2glzZx9IBBAsVjEN7/5TVy+fBnBYBDdbhfFYhG7u7sIh8PY3t5GNpsVYl06ncYnP/lJbGxsYDAYSIc/Rkf0XBkFcDqdCIVCEs6n40SBIDoPzWZzqF8AjSlTNZVKRbot2lsxr66uitNwcHAgwkZ0Amq1Gvr9PsLhsPAh2IdCV4SwvwPvT6fTkQiIvYPhpGdsnvz/LKv7WciBxhEwMDB4VFjYGZg1938RkQE7A1x/RmdgbW0NGxsbiEQi6PV6CIVCQyx1GrdQKCSrXkYVdP26XcufeWZtyHX4mw4AjSnnQ5Ihj6M7HfJnHp/nwblooxqNRrGxsSFkuGazCb/fL04KcMpxuHv3rpDs2u02IpEIrl69inA4jE6ng3Q6jVAohPX1dVFOpFASSYI0mrqpku7t4PF4YFmWfM60A1MFjJJomWJdAsjz5Dnq47CnQDweh8/nQz6fH1IftCwLkUhEIj3BYFDuo+54yIZVuoSTjl+n08FHH32ESqWCF154YeLzZv/f/uxN4tOM+pm/249lYGBg8Dhw4ZyBeV9wszgYkzgHx8fH6Ha7SCaTImbD1Sjr9RlidzgcYjBJHNQdAdkK1+FwyM8U5aFojnYOAAyt/Lm655h2Nj2PR7If9wfOnA5GJ7RwElfn7DnA7nw3btyA3+/HwcEBCoWC9ETwer3Y2dnB1atXkc/n4Xa7sbKyIlLFDPlTVIlsewBDuXXeG/IeqAFAg04Hi9dbGz5eB12dQO0GALLS162SOQ+u7JlKID9idXUVyWQSoVBI7i35C7zeTPuQs+H1eiVN1G63Ua1WxaGZ9ryNe/7GPY+jiK/niQLMWgZpYGBgMC8ei87AJJx3dbS/vw+324319XUh/gEYKilkWJ1MdK7kSZjj9mTvA6eEN7L0ueIksY68AB0N0ex7Gk2+zHXonY4Gj6edEXsTpVHVDsFgEG63W37min9/fx9HR0di7NLpNKLRKI6Pj+HxeBCNRhGPx6VBEVssM6TPebLcjw4TDarD4RAHRUcLdFpAnwMjLaxo4PVkuoEERBppABIloMOkozPURYhGoxLd0UJMdFy0QBHvYzweRyAQQKlUkgjHRWDZK30TOTAwMLgoLIUzMO/389Ztz7sPyXsAxHDpHDK1/EkupLgNV7T2PgIkwfH3SqUiBDgAQytP3StACxcxF06jxrlwjqyX1zK75BuQXEhhHxLlyFdoNptoNBo4OTkR40qjR82AXC4n5LlkMimiSaVSSeR/tRFm7p0qjro0UK/yOS+G/judDizLGuJc6NJJkjt1bl9zKejw6NbGWlCJ+3MMr9cr10P3fQAgKRT7uOFwWEijvP6jVvGLYhrZcFHCoIkMGBgYXBTOxRlY9PtJYf7z7sMwNvP9mtnP0LVdz59GmatypgMopNNqtVAqlWQFe3h4iGw2i1QqhVAoNFRLTwNn73ioRX5Y/sZwNo2cjlQw3671BrQ6IqscWIqXy+WQyWRkNcz+BZFIBF6vF/fu3UO5XMalS5ckTN5oNKQkkv84RzoGoVBI5gFAIh1Mi5CN73A4hrQFAIgjReMMnLV4ZlqgUqkIb4IOG6Mk1BYol8tot9viBIRCIYmI0FmhI8aoDysNGMVhZMKyLCkv5XFHNbA6D6aRDRdNFZjIgIGBwUVhZmdgWSunSeMsg0Tldrvh8/mE/EYjw9WlVtDjip4EQDoFgUAAAGSVSQEchrL39/fxe7/3eyiVStjZ2UEkEpGxdcMhrqy5oiZ5jqx7OzFP6xQ4HA4RPWo0GiiVSiiVSkJGJGmOYj3xeBzf/va3sbe3h3A4DIfjtBSxVCrB5XIhl8sJlyIcDg+dP9UAB4PBECOfTgjJfTpF0Ol0hmSAgTPyZKvVkgoLHRHQaRNGFcg/YGknUzH1eh17e3u4ffs2arUaHA6H8D88Ho+cl9frlVJLTR6kU0ZtCEYQQqGQcD1ILrWrKp7neVzGPsuMUhgYGBjMgpmdgVHVAfOG+2fZ/rwvRh0V0MYegIToGR2gkeMKkzlxjlGr1bC/v4/Dw0Ps7u7i8PAQ9Xpdxtbd+KhKyIZFNOzkBdhXn3QMaCR1/TzPQ0c0NHGPIkLM2ZNZv7W1hXfffVdIg1Trq9VqyOfz0quBK2MddmaLYrvDxOvGVbcmDGrRJF6/ZrMpJYPa0eF2PDcaZEZJWq0WfD6faAvk83ncv38f+/v7AE5z/Sxh5LVnVKHZbCKRSIhDwKgAUzQApPSShFGeKyM7y2LzT0oP2DHu2bZXHRgYGBhcNOZOE+iX3TxGn/vOMv643+2OyKjvGUrXde2MEOgVqW4BrFfo2gCzxv/+/fs4OTlBPp+HZVm4efMmbt68ifX1dUQiEQmrc0WvOQoAZAWsjShXzFTTo3HkOY1yZmgISXTUqYlQKISNjQ08ePAArVZryCmiPj9D8DTCbN4zGAwQDAaHOhHyGrRarSEnio4ChYJIBuTxtAPElTqjLjpVApyVKTKaUK/Xsb+/j0wmg1wuh1KpJI2Fms2mpAA0n6NYLIoKYSgUGlI/LBQKoiRJoSTOU0eL7M/yrM/3KG6AJolOin6NKlOc9HegxzYwMDBYNpZeTTDv6mqWsqtZt6UR1WV5NMraIDocDgmxM0WgmwSxZj2bzSKTyeD4+FhUAC9fvoxPfvKTuHTp0lAzHK5GCZ3/5u/AWepB57e1PLI+D30+wFlFgZb0pUPR75+2L45EIjg8PBRDR5IjS/q08a1UKhKC15oCNIRac4Fz12RJgs4OnQFNjuR10OkEpg/IDSCBkg5Vs9lEPp9HuVweyu3bGx/1ej2pFiH/QJMZy+WyEDD9fr/cC+7Pe2I36NOiV/btFn2GZ9newMDA4FFgIWdgWih00ZDrMnKleoWmDTwFcZhDjkQisCxLRG0YEXA6nZJTr1QqyOfzKBaL6HQ6WF1dxSuvvILr168LYY6VCDRAXPXzd81boAGi86EVB2lkaYhpYO18A47d7XYRDAbFyLOCgIQ/yiPTeHIlTTEk8haYh9e6CXQgdLREl+zxOmsFP51CoFHXZYU6GqDH8ng8CIfD4thsbm7C4/FI7wSmG3R6h6F/pgSomEjHituz/JP9GLSeg47O8Jp2Oh3hW/C8J0UIzoNHwUUwMDAwmBUXUk0w7aU16cV23heeXrUyhM0wO+vas9ksisUi7t+/j8FgIARAzqvVaiGXy+H+/fvSOyAajeLy5cvY2tqCw+EQpwI4K8Vjvp1sexo88go4NhsYUdCIjoI9jG5fZXMMrra1DgIjCAz3UwlQKxuSvGhvfawjFaP4DTSW+jiDwQBer1e+53cej0dIlJR/1qt5RkOoUEgHx+/3w+l0IhaLYXNzE8ViEdlsFsfHx3C73QgGg1L9UK/XhSTKNESr1ZIog8/nE8IgnT5uz/lWq1VJkTSbTRwdHWF/fx9/8S/+xaU9i8vEkzQXAwODZw9zOwPnWaFMW2nNSkacVMfNFR7D5FqshvXvlmUhm82iVqvh/v374gw0m00Ui0Xk83lks1nkcjnRsk+n07h69SpisZh069M17CQi0ujU63UxvszTU3aXq3hWBjAUTtApoC4A6/Q5HkmDrK+ng6CNarvdHjKObKakyxU1J4HKfY1GQ0iGPp9vSFKY6RdGI8hd0M6X2+1GOp2GZVk4OjqSeTOioLkQekw6UZVKBQDkOvJ50U4GHQ2mF1hNoNs8syUzx9GKiN1uF6VSCUdHR6LSyB4Jszx/i2DSM2uqBwwMDB435iottIdPx1UWjNvWPpZ+Cc6TdphEriJZTRP1dFmbw3EqNrS2toZeryekQuCMNZ/NZlEqlSQXT8W+tbU1WJYlTY9Yl09yWrVaHQqR6yZCNDRabpjf0bhyta1z9TSW3Je18poAye24Ig4Gg3A4HKJv4Pf7h64Hj08nhdeFYX+t0cA6fN2/gdtooqGOKvj9fliWJSt/rtwZXWCvBCoBApBSSxp8rbbI6AJw2jGRksUsR6TEdCQSEWlifkcuBI9LhyOXy0llSDAYRCAQkPTDLH8D454/O0YRE8f9fVxE6s3AwMBgFsxVWjjJKE/7eZSjMAshcNyxx+2vX6pcjeswNo0cw9Y6x2xZluTw9/f3hStAQ+NyuUTDXxtRCgVpg6qJgrpygMaPxookOuCMXW9fjdvz9DoawYiEw+GQ3DiZ/kwbRKNRhMNhtNtt1Go1cYCYwmAFBudKlUUS8sLh8BAhk4aYjot2EFj6aK8e4Nw1YVKTI3nv+D9TIezfoO+ZrrqgqBP5F4wWsFyU1xWAVBgcHx+j1+thZWVF2lx3u11kMpmxz9e4Z3SW78Y9q/rneYmHBgYGBsvEXGmCWcP484yxjP30PGjoGMr3er1DTHadv2Ypos7bB4NBrK2tidAPjZCu76cTwRU9V7JaB0A7J3oFze9ZHqdZ/7oMjwbQzninAWdZHwBxDCzLQiKREGeA58eVMysqGN7XDZdIuGMOn8eKRCJDKQxC9yzQAks6ssHoA8fndzwXXkuSJYHhBk12VUdGeTS/Qt8bHbngteY9arVaordQq9WQSqWwsbGBWCwGr9crUZ79/X3k83lcuXIFkUhk7lTVRa7gTWmhgYHBReHcXQuX9fKbJQQ7C9eAhrlSqWBtbQ1+v3+IfW4nsxG67jwUComML40JV7p6Za/lhTl/LVqkV9P8noY5EAjA4Thr9kMjqOenz53GmWWSZM/rioNSqYRIJDLkWNBgk61v1znQ50A+go6gaCOrz9Ee6dH5fx0FYFkff7fzRnTJpZ6nbjNNXQR9PG7LVIfWcdCqgkylNJtNlMtl1Go1BAIBbGxsYGVlBX6/XxyVXq+Hjz76CLdv30Y6nZbKglGGf9yKfpa/hUnP80WSaw0MDAzG4dw6A8t6QZ0nBDsYDNBoNIQZ3u12kc1msbm5iWg0imazOVTGp5nxwJksrzZ6gUAAiURC8t75fB6NRgNra2twOBwSgSBJjwaHToNeNWvng1EBGiGG5blaZz8Ecg+0M0CnhAadq3PgjCHfbDaFSFev19FsNiX9oYmMNOB0bijco8V5aKB5TewpGBpf3iPOUXMHqB/A661ljUl0ZJkjuQ6VSkWaJ2nHRFdOUK2QioLaSdFcBUZJisUiCoUCPB4PdnZ2cOnSJSGA8h5ZloVoNCrOyzTDvyjO86wbGBgYXASeuBbGi+L111+XUrFYLIZSqYRKpYJAICChcKYP8vk8ms2m6NTrVSfr2LvdLsLhsJQZPnjwAH/yJ38ylHrQLYi5gtVd9GggGcYmyz0cDsPn84kEr67J1ytuXefPED7TA5ZlyXfaOPd6PXEGaOjY2Ij9AtrttsyJ6QMAwjcAIOJMmlfA8fr9vlQtcA78p+cLnLWCZpSBDg8AceC63a4Y90wmgw8//BAPHjwQ9cHBYCBpFY4TDocRCATkejMSwzQIHRn2luBY165dw4svvgi/3y+VHcCZEBGdMWOUDQwMnic8NmdgWi521s81KEmbSCSQTCbFSLB0rlKpIJPJ4P79+ygUClhdXUU6nR5irZOQ12w2RQ6XaYevfe1rOD4+xurqqjTlYWvi1dVVxGIx+Hw+UfXjStzn8yEYDCIcDiMcDiMUCkmKAACCweAQ8ZArWuCsrFDLEpOfwGoHrsZpZDXLnimLUCiEdrstDPpAIIBut4tqtTokukTOgsPhkPbHLDfUZYQ8ps5j6/w/HRuOzYgAqxAajYY4ANFoFIPBAHfv3sWbb76JO3fuoFgsDkkfc77sxBiPx8U5YNUEexGwMoH30Ol0YmVlBTs7O9jZ2YHT6US9Xh+6tkxFaE2HeZ7BR8H2N5wBAwODi8JjcwbsOdh5eAGjwHx/OBwWhjjZ83zp1+t1iRiwDfHGxsZQfTlL8TqdDmq1GqrVqoTwB4OB6AcEg0Eh61EUx+PxiKIfnRAaJl09wPNhmBo4M650IhwOh8gO69JCvY/W2WckodVqiQQvIxjVanUoCuJ0OsUhoTojoyF0KnT+nVEErQnAqgcabF4f/qyvJ7/TJYi6J0On08He3h6+8Y1vYG9vTyIV+noAp82GEokEUqmU9IQgeVKXlLJbY7PZRCQSwaVLl7C1tYV0Oo1AIDAkdsRz5j2v1+tCvpwHy3YEHiUx0cDAwOBczsB5VvHAdE34ccccBebwaSBqtZqExekM1Go1NBoNyS+Xy2W4XC4JNzOMzVUlVeoYmvf5fIjFYtje3kYqlRpafQ8GA9RqNVnBMwzNBjt2kR0AspJnaBs40/nXfAPN8tckSF4zrthZtkfVRa6Ai8UifD4fIpEIOp0OyuUyYrGYlBySe8CxeV94TK3QqCWe+U9XG9C50KRKnevXjg1z+ZlMBnfv3sXBwcHQufI6cLWeTCaxvr6OVCol3Q3b7bY4bPr47XYbsVgMOzs72N7eRjQaFUVG7QiwBJNSzaVSCY1GQ9IH8z6f9n3sn9kd4HGfjSImmsiAgYHBReHc1QTzfD5pW/vLcNr29hcoIwOMABSLRVnhsrlPuVxGuVxGvV6Xfbly50ra7XaL7G25XBZJXRqxUCiEVCqFWCz2kBHk6peqd1zRclWtnQKy9jUpjyBZjiF1zbxn/T0rCWhstSOgHQ7m+alIWK1WUSgUEIvFEA6HYVkWGo2GcCvoOAEQR4Tj2HkBPGd7qkAfTzP9tSNAouD+/j7u3buHk5MTudY6pcBzjsfj2N7exurqKsLh8FC6gREMzr/dbiMcDuPKlSvY2tpCLBYTp4Lj2Z8h3cCJ0RX9vI3CuGd10mf6u0mfjYKJDBgYGFwULiQycB6MW1HNsh2NV71el9WuLi0rFosolUrCnGfOnUQyrhK73S4qlYrk9Dk+9+GqW+fYaRBZ1qfL3hhx0CI8AITwxlWwZuQz1UB+gN6ePRF0pIHH0yWNdBTYmZHzLZVKKJVKSCaT0vaXwj1cZZP4aC9t1MZTOwG6KZE2+vp89XkMBgOUy2UcHBxgd3dXrgHTGDyvXq+HcDiMa9eu4dKlS+IIOByOIeNOXgfJjltbW7h69apUKLBUUT8/2kHRBMdFn1U7zssxGBUxMDAwMLgIXEhkYJmY5xh8sTOPXCgU0O120Wg0pGshc8K6zI5GkgaPtfwAxKHQYVrd2U8bcBpPjs8yPe6jKwy4L8PWmnhHo0Umvs6bU6Ofx9F5eh0h4PXw+XwIBAJD29FwVqtVaWxE4+/3+yWEznPXlQlap0CX32mhIq0yaO9aqDkEjUYD1WpVnCc6Y7yOnU4HoVAIL730Em7duiXXUo9J9UDqJHg8HqTTady4cQOxWExW+7xmukukvcwymUxidXUVx8fHQ8qIi+K8q/xZIwYGBgYG58XCzsCiq55p3wHzibFoA83QPFek/X4fpVIJ+XxeVuCjyt8YUdB5e1YgEFrJjvszKkCyIHDWwY+r7Xg8LmkGhvbtEslsSKTJeMxr0wkg6c3pdCISiQypCXJckgJ110TOhcelM1EsFnFyciLiR2zrHIvFYFkWarXaUEMhRiS4GufcOD9eWx5jMBhId0au9LUYULlcxsnJCXK5nPA9+v0+QqGQ5OzD4TBeeeUVvPLKKwAgAk28/kztNBoNlMtlBAIBbG9vSw8JlhTyGtBh0n0S6GjROQwGgwiFQnJe9hTILM/los/4OGhugYGBgcFFYOGuhYusekblxvX2k4hV9nG4PbejwI1WwKOBsa9s9SoWOFutsoSN5XBk2QNnBjqXy6FcLiMUColzoI0iHQMac+CsFFDn3bUUL/PsOhSvJXl5rnRgeG5ssMOSRZfLhePjY9y5cwfZbFaqIJhHL5VKYoxbrRZKpRKq1SpWV1cBDDsyFD5ihz8aaM4ZOMuzk8fAFXs4HJb9OR6jIE6nE7VaDR9++CFu376NXC4Hv9+PUCgklRpOpxOJRAJXr17F1atXAQCVSmWo3wHvGWWjWUUSj8fh8XjEEWBkg89Cs9lEv9+XdtZ0BClVnMlkhpzGSc/fuO8XWcXbDb49KmAcAQMDg4vE3M7AecKVoxjSk7YbFyYdt58m0NGgAWe5djoCDCtTNCgQCEg7YdasAxDSIWvSB4MBSqUS9vf3EY/Hh8LWevVrWZa83FnOxzw3X+z8XqckNG+AzglFkLQgEQBxfti6l/NgxILKfjwuDXiz2ZTcPJn41E0gsZLOie4cqKsIaPh5ztrR4jXSPAXeDxpkXk9GTgaDgaQLEokE0uk01tbWsLKyArfbPdR+mU6A2+1Gu91GuVyGx+NBLBaTdEi5XB5ST9RRIeoUMB1SqVTQaDTQbrfl2kwzvOepKpjnmbd/bxwCAwODi8K5dQaWRWw67zg0FFSQ00Q/r9crpEKuZvnid7vdiMfjominlfUAIBwOo1gsolgsiqjNRx99hFAohPX1dQnx67A5DTmjEowS2Bnquj5e9zrQjX/oBGgHgtEH3WWReXfyBWq1Gmq1mjhH0WgUlmWhUqkMMedLpRIKhcJQl0U6FHQO6FhpJ0qr9+lUAABR+9N1/OQzMBy/tbWFaDSKUqmEbDaLk5MTBINBXL58Gevr69JAiOWZ9meERNFut4tIJCJKjjqdopsb8bkIh8Pw+/2oVCqSPnI4TstGE4kEHA4HyuXyEJFw0Wfzosm1BgYGBsvCuTkDj/sFpcOqNE4ej0fa+VIjn4aVBoPRAkoEh0IhSRFQupj5+UAgAKfTKR3vjo6ORMN+dXUVDofjIdY/V8NcGetcN7cZ5Rzo6IF2CjS/QTf/4WqdYESg2WxKaF9rFHCFzOhBpVJBoVAQ1r12FHRPB02oY7pC90qg00BiHrkITHdo0qHX60UqlUIqlUKtVpOVOnP+sVhMoiKMCNivD49Np0h3j6RTxbloBxEAisUistksGo2GSDJTAMnr9eL4+Fi25f1ZNpt/nvEMZ8DAwOCisbAz8KSseviSpGwuSYShUEhC/lz50bhohTtdxsbf6TywaoDNfLjaZr+CarUqne8odMMVvi6NAzDUKpnQ2zL8TqPKMLiOBJAvEAgEhtoUMyfebDZxcnKCarU6RP7rdrtDfQkAiDPQaDRQqVSkORGNPBslMZXB66xLGfX15Iqc1QSMlPDc6GRwTlQgJOdhfX1dSJf9fl9C97rkUDugTqdTGhUBEDVEreNAQ0+nqdlsiiR1q9USrQVGd8g9YfniMp7PSc/tvNs+bsfbwMDg2cUz06jI4XBIYyK/349kMillZzSmZODbdeh1qRqdAhpuphEcDgcKhQIqlQoAiMEcDAbCQOeqXLcHplGhkdLkNB2toDNA48euhnQOuEIHINwEngtTEplMBvfu3UOr1RIjx/HZk4ARBzoDXq8X5XJZShDtAj5c+etqCa2jwL4LvJ50GKrV6kOaDAzZ1+t1VKtVWJaFYDAofRvYK6FWq8l1oNPD82aUQTc80tuTIwAAgUAAbrdbxuS9cbvdiEajiMViQrBkFISkQgMDA4PnCTM7A9MY/twGmF5NMK4ca9S+s37ebrdhWRZWVlawsrKCaDQqkrdcXbN+nQ6CvTud1g/g6pz19vF4HC+99BIqlQr29vZQqVSwu7sL4DRHvr29jWAwCODMYNrnx9UqjQ1D3bVaTbZlCJy5bBo+Rjx6vR7y+bxEO3gOpVIJe3t7yGazD/URsKcqdEWF0+kU8p4uTSTJj+F1GmGWMzYaDXEwmGZhWaLD4RCDzBQKx6NTxEgEiXuaI8Hrr9Ma2hnSaQ6SG3WqBYBEJ2q1GrrdLgKBgMgYs4dDpVKRTpfUheA9sFe9jGL6T3uO9feTnuNxFQsmEmBgYPCoMLMzMC1UaX/xTSq5GvWiHbXvJOfC/lkwGMTOzg6uXLkiRDAS+LhqpLFhiFpHBHQuXx+30Wig2WwiGAxiY2MDr732Gmq1GrLZLJrNJvL5PO7evSua+dT8Z1i/2WxKS2PdDAjAQ62TOUeHwyFlcZw756PTCSytY9lgpVKRKAGNNp0JplG4emdko9FoSCVBvV6XlTzH1/0BOB6dEEYSBoMBKpUKcrmcVAlsbGxIIyc6BsViEbVaTfgE9udAcz74O9MOvBZa+VBzAnTbYnI8eFzyATwej1wvOjwkN2pFyVarhWAw+NBzPOq5HfUca7Kn3lfzRux/C/Zn3TgCBgYGjxJLqyYY9dKcZXVj/16vqOZ5IcbjcWxtbYkBYr5bcwZ0DpvVBTpsz1x2JBIBAFl50gj5/X7s7OygXq/jzTffRCaTQblcRjAYRKFQEPW7F198EWtra3JM5rJpbPS5kszIeTEiwJW9Zunr9rwApFyS3Rn5u86b0/hzH5bUAZAVOVn+1WpVKgH0fFkdoWvy6/W6iB3p/DwN7p07d5DJZJBKpRAOh+WalstluceaB6DVGbVmA7/nnPlc2Z0CRjkYDeHY5APQmdGqjbyuHM/r9cr11NGGWZzRcYZ/1DaTxjMRAQMDg8eBczsDk15c5yEFzotQKIRIJCIGS8vNMhpAiVzmvIEzI1Gv18UQsrENDTNwajjL5bKI4QwGA9y/fx8nJydoNBrI5XLo9Xool8vCSmdnw0ajMcRwp8HmuJwvIwVer1cMq27YwyZDupEPz4F8CBo1vUId1TdAX2fKANP4a8IgSyWpnUDZXxotOhmWZSGRSGB1dRXdbhcffvihNHxiLj4YDAp5UztrPAfeI022tAsA6V4CnCOjHzriwrmTAKl1Eri/7qHACAOFmBKJxNRnblpabJH9Zk0jGBgYGCwTT4zOwKLo9Xo4OTmR0DXz9Yws6NI0Ghq2HtahcpaZ+f1+bG5uDmnl04hUq1WpVHjhhRcQj8exv7+P3d1d5HI5IagdHR0hlUpJuqDRaIw0xFTEY5UAADG8rBjQjYZY7sdWyUw/0Ghy9Uxnwev1wufzDVUbtFotkRpmKkBXDgBnxooRkWq1Ksaaq3gAcs0BSB+GaDQqUYCDgwPU63UhXTJczxU6HRptsGmYdchdRwV47ezPHPfRTg/vv24kZS/F5BwYialWqyiXy+KYTcJ5nN1ZywTtqQgDAwODi8CFRgYeBdrtNv7gD/4An/jEJ4bIX1zlNptNMSg6300jyO6EFCHK5/OoVCqiMMjcPeV1M5kMut2uRAhWV1eRTqfx5ptvYm9vT1IQHFdLJOt0hM7DAxCjT0eAZEbWwHNF7vP5RGq42+0iGAyKQaVRq9frQqbc2NjAysqKMPwPDg5w9+5d5PP5IVU/3ciHaQJGK0gYDIfDwsKng6GjKK1WCwcHB3LsdruNe/fu4fj4GIVCASsrK0LipCwwABFPYvkh0yQ6XcJ7TcdAp5IYIdHkQ91vQhtRe0pBn2+v1xMy5Xkxb3psGWMaGBgYLIpnorRwMBigWCyiUChIFQHldmkgdGMaivaQZDYYDKS2vFKp4KOPPkIymUQkEpEyO71ypjwuy+JefPFFuFwulEolnJycDBlQ7sOVPbsbut1uIRdaloVQKCQRC67iyYZnaJ0rXDbaYVqDBpFle36/Hx//+Mfxmc98Bi+//DLW19dhWRY6nQ4++ugjfOMb38C3vvUt3L59WzQGLMtCo9EQkiANvNYOoKb/2toaXC4X3n//fTidTkSjUXS7XRSLReRyOQCnfIZsNov79+/j8PAQvV4PGxsbuH79Oi5duiSpGR5DV0uw5JGfcQ6sDtFiTbyW+rPBYPAQWZMpE90VkekTljzyXD7/+c8/oifXwMDA4MnAuZyBWVIEs6YRZi3bsn/Pl3o+n8fBwQGA08oCu5gPV7rML6+trWEwGCAej6NWq8kqs1qtYn9/H2+88QY+9alPiXhRvV5HuVyWsjiu/oPBIFZWVnDlyhV88pOfxAcffCCMfB365vF1N0HLshCNRsXwFgoFES6KxWJwOp0oFotDJYAnJyeoVCpSxqeb8JDU97nPfQ5f/OIXcevWLaRSKYkyeL1erKys4NatW/jc5z6HP/zDP8Rv//ZvY3d3V6ImdHy4OtarazpU7Cmwt7eHBw8eSCti8gNYaeFyuaScsFwu4/3330ez2UQ4HMbm5iZisRhqtRoqlYrwHaiECJxVC/C50NLPOtrCyI/mDOimRuQdaBEiEjG5jRaIOs9zPGm/cZUy+lk2REIDA4PHgYW7FgKztXSdVI6lMYmdrfe1Vxq4XC6srKzg1VdfFcIeDQjFebRhACAku3Q6DZ/Ph2KxKGHrWCyGYDCIfD6PN954Azs7O1hbW0MkEhGngyx1rioLhQLi8Thu3ryJtbU1ya9TL18T2vg/V77cv1AoyEo/kUggGAxKbp/1+MViEaVSScLlzPvTMIbDYXz84x/HF77wBVy6dAmtVgt3794Vg0yFv3A4jO3tbYmQ/PZv/zY++ugjKblklQOVBavVqpQM1mo1aQ4UjUalsyO5DN1uF/l8Hv3+aTtilkuSPHh4eIjf//3fx6VLl7CxsYFkMolkMim9AgAMOQTAWaMp/SzQseO91Q4EUy90FFhWyJQAuQXamdQEznme9UnfjauyGffzOEfAOAYGBgYXjblFh+Z9SY2rqR41zqiXq71+e9SY1LRnUyCdJ9bqfnoskvYikYiUw2mFOuC0DO7DDz9EtVrF1tYWAoGAkPD06pTHIOlPy+9yxcvj0wCz8c+9e/dQLpcRDocRj8fFgTk5ORHRH7ZO3t/fl9W3vhdcNa+srODTn/40Ll++jG63K6WPjFAwOkDFRLfbjVu3bkm4vlAoDF178hLIV6BCYrPZRDabRaVSkXJEXgPKEgMQQ61D9G63G9lsVloGX758GTs7O4hGo6jX6yIepTsd6meB/3O1r52hUSWDdERIGNXaBLq80U4stD+Hk57rUc/tLM/6uP3t3xsYGBhcNOYWHQIeNtCTXoKzlE/pz+2M6XGrKfs2OiVAQ6HL+HRdOgAxjpTTZYc8NveJRqMAII2J2GkvHA7LypIiN7osjyF9LZBD54OrVBL2yuUyisUigNPVsGVZ0kmwXq9La2Uy3DOZDBqNhqj86cZI4XAYN2/exLVr1wAAx8fHOD4+Fmeg1WpJu2O/349QKCTM/1u3biGfz+Pdd9+VKAmFeajgyDF4jbSToNUVHY5T9UESLvUzwO9ZgknJY4/Hgxs3biAejwuxkSJMmhTKe203/FpdkdEX/s7mU51OB9VqFQDEAWR0gJwLuzMwCbM8l6O+GxVpmPY3YpwDAwODi8ZCnIFZDfQyx5sEstNppHUeGcAQCY1Ogm4pzH4GXJVXq1VJI1BBL5PJCEs+GAxK+1zgLB2hpXF5DM5P56fb7TbK5TJyuZzwFnw+nygJUs+AMr9cuddqtYe6I7KxUjqdxs2bNxGNRnF8fIz9/X3kcjmZJ8mKjEpwVd/tdpFOp/GJT3wCnU4HH374IZrNphhkig6REFkqlVAsFhEOh8Wx4TnT6JIQyPupc/n8jBwIlhgmEgmsrKxIqoGcAxp6OlhaiIlGnI4gHQD+zChIv99HqVSSe0g9CkYeOBZLIJ9EGEfAwMDgIvHUVxM4HA6ptydhTTfY4UtUdyUEMEQWo/Igw+3kA5DlT7Lg/v4+ACCdTsPv90tumnoBGrrzIEWHqI7IkH+xWEQkEoHD4UA2m5XcPHP6sVgM/X4ftVpNDCfnznRFIBCQMsfLly+jUCjg8PAQhUJBRJNYLaDV9ZhO6fV6iMfjuHbt2tBqfHd3V6omSNxrt9s4OTlBr9fD+vo6Njc3JaTvcDhEXIgdEnlteJ94D1qtlqQP6vU67t27h3A4jO/4ju9AIBBAvV4X50qnXbg6piIicFaSyZA/ZZipB+FyuVAsFrG/v4/Dw0OsrKwIt4Tz4jUtFovCmTAwMDB4nvDUOwM6f6xb3XI1yVW5XqHqiIHuc8+VK50Brrqj0SiSySROTk5QLpelxTHBPDQ19bX+P5sQra2tIRgM4ujoCHfu3ME777yDer0urHyWISaTSWxubko54OHhITKZDDKZDKrVqmgQNJtN1Ot1bG1t4fLly7h69Sp6vR7u3LmD3d3dIUldChRxxc/r0+12hfxHh6Jer6NUKuHg4GBIOZErc5IaGQVptVqoVqsolUrCw6DDpUP65A/wGrFqgumZd999F8lkEtevX5eeB3Yeif5dKzqSl8HngFUabrdbrvfu7i5qtRrcbjcODw+RSCTkPvM6HB4eYmdn5xE8tQYGBgZPFhZyBiaxqBfZfhKBcNqY/X4fBwcH+OCDD7C9vY1AICChYYoOAWfGQx+HK2wAEvLWnAPOQ8vpcvWujRv/0RlhK2Nut76+jsFggLfeegvvvfce7t27J/X4lUpF5hWNRrG+vo5EIiE6BOVyWfooMGTOHL3D4RAZZrfbjUwmg2w2i0ajAZ/PJ+WGJycnQpJkWSDLGTudDnK5HCKRCHw+H+LxuPAiNJmSqYl+vy9kS0Y26GxUKhWJCjAyopn+3W4X9XpdzoPnTUGkDz/8ELFYTM6fhpppCp63FgzSXAHdQ6Hf72N/fx/vvfeeSEWHw2H0+30cHx+LgJNWoTw6OsLOzs7MpL9JuXz79/OWDU4b38DAwGCZODdnYBnb20lV016w9m0bjQaKxSLW19clTaDz9Aw1cz/+Y75YK+7RiaA4kDaCLpcLoVBoqFxQlyvqMYBTud5YLAa/34/79+/jrbfewt7eHqrVqhhEdg2MxWKiGBiJRFCpVHDnzh3cvn0bBwcHQsoj+dDj8QjB0Ol0olarDQkUkT1PVUAa6a2tLVEt5PckDbINcTKZRDQaHeoGyDQKnaV+v49KpYJmswmfzzd0TXUkRl93SjzbCZ90PPb393Hp0iUkEgkEAoGHohvcj9eOhEB2QaTzU6/XUSwWUalUEIlEEI/HZe6VSgW9Xk/6JpAk6XK58LGPfWzuZ3rWvwX7dqOecXsUZJ7xDQwMDM6DhSMD876kNJN/HkM/jVzo8Xjw2muvCWFMh4vHMbe1I0ADq5nyJLUxH81Vqm6Io3PYwFnkQbfdJXu/Wq3iwYMHOD4+FrEbnd5gp8R4PA6/3y8CPnfu3MH+/r7k7nWZHssE6Ryw4qBarYoBZlj/5OQER0dH8Hq9CIVCSCaTQ44Oow+cNyWb7WRMnXIhaZLRBc5tVCMhHdpnukHfG167SqWCTCaD69evS7OlRqMBANJ3gttTd4FCUPqY1BSIRCIizMRrwTkDkGgDJaft+gb2527ccznp93meZWP4DQwMHheWHhkY5yjo8PysY87ycnS73bh69Sru3bs3ZCw5l1EkQs5F55tJqKMgkc/nE6PocDiGWt/qsjamB7haZYkduQjNZhMPHjyQiIDdqLI5UiQSQTAYBABks1mcnJzg+PgYlUplSIKXTgmdDRpGOgMkz3HO9XpdVP58Pp+E8nUzpGq1imKxiFQqJYRD5vY1v0BzMXh/6ABpQ625G7xe2iHQ5E7tnHU6HZRKJbRarSECJp0ffQ/orJE0yuMxYkLxKDo1JFwySsQ5aP7Doqv8ab/bPzNG38DA4EnD0gmEk1508+RM5wVDvjQQwJksLVeyNDrAmVIduwZSqjYcDssYOuytCYlMQ+geB2TqOxwOKVNsNBrY3d3FO++8g6OjIzHqOo0wGJyqGXIF22q1UKlUcHBwgGKxKM6K5jn0+31xIFglUK1WJR9PAl61WkWlUpGIBj8rFApSgcFc/8nJCdLptHxGSWdCM/p1eaaWWtZOklZ+ZCSF98IeMeC1JXeAZaJ+v19W8yR5Ml1DZ2ZtbW1IPZAqiuymqIWfSByls2L/zMDAwOB5xcLOwLwkQu6j86GjvpuFLzAKNCK6A51dclavQhlKtiwL3W4XXq93qEqAhoJGjQJDmlTo9/slX81cfTAYhMvlQqFQwJ07d/DWW2/h6OhIehpoo8rrRyJcvV5Ho9FAPp9HNptFoVAYklLW4XCfz4dEIoFYLAav1yukPkYKjo+Pcffu3SHVQhLx8vm8GP1IJAKv14tcLoeTkxOsrq4iGAwiGo3KtSK/QDsBuvWw/Zngqt4eLtc8Cx3FoYEHINfA4ThVlqxUKmg0GtKQiPeElR7kTOjIBADZzp7qoCOmiY0rKyu4fv36TM+u/TOe26yYli6bZT8DAwODZWNuOWJikZX9pMjAuDTCJAdCo1QqoVarDa1oGd6mI0CDpg0BV9FkydMw0angipXzcLlc8Pv9YlwYltcRiGaziaOjI9y7dw+ZTAYAhtjxNEoM99MBIQmQLX/1fjpXz5UuCX/8TFczeL1eXL16Fevr68hms/j6178OAKKi6Ha7Ua1W0Wg0EAgEhFtA40qVPnvzHm1wdXMf+73Txt8OHWmxX2MKMjWbTani6PV6krIBzgx9tVoV4SSmCLgdHa9arSY6Ebo9Me/nlStXEI/Hhz6bNXI1bZtRzsIkrsGs+xkYGBgsG3PLEZ8nxD/NsI9yCOwvT/tnRLlcxvHxseSLWWpGI68dBBoj8gTsL12GvfUKmLLFPp9PUhIMfzM3z9VupVJBLpdDoVAY0uwHzgwhDXu320WhUIDP50MoFBqqhuBc9Hkzl8+IAjAcCqeRZbqDssuUIH7xxReRSqWEcZ/JZLC2tgan0ynqh4FAQKSKy+WyHJscCebgtVOl+QV0lPR3+trzvtgjB07naetmEig5d54rORLkCDDXz/Nj5IYcDpaOZjIZ6QhJQugyUlXTIgPjPp+2yh8VgTDOgIGBwUVi7jTBeV5U511tTfqObHEtqkMjTsOjy9y4D5nw2knRCoZOp3OIhR8KhZDP50W6lhwCALKqrlaryOVyKJVKYhR1uFoT5waD0/LC4+NjVKtVDAan0so6taFD6owsMMxPoiB7KtCIApC0B+fPlIaeAwV3fD4fut0uqtWqpDQSiQQePHgg15gRCo6vyy71vdGhfLtDwLSDTi9oDgEdDV5TLRxFnge7Nmqjqh0hShTzfAqFAorFojhmdKJ06aJ+LmYls57HQM+zr3EEnm688MIL+Hf/7t/J73/v7/09fPDBB49xRgYGD+NcBMJ58/uLrnBm2Y+rysFgICtDGnNq5nMse9WBdgQ0r0CvXn0+H6LRKGKxmBi7drs9pElgWZasuIvFIhqNxtDxOL4+L7Lr6/W6OCZMOWj2vuY+DAYDSS8w6sAIhw7N69U5IyXU/Scpj8cLBoNDPQH6/T7i8fjQKlqv/Dl/beRH5ea5nb62o+6l5lHoa677OZDsyfOhk8UoDu87xYSy2SyOj4+Ry+VEz4HXYG1tDb1eD5ZlzfwcLgvz/g2YyMDTjUgkgu/+7u+W3//RP/pH+MpXviKpOwODJwHO6ZuMx7zh0UVfaLPsx7w5jQLr6DVZkL/TINlV8ngc5rD1P+ajLcsS5r9etfr9fvh8PjQaDRQKBVEqHBURILSRpHOhV6uTeBU02NRHoDOg5w6cVU2wTwE/A85IkFzF64ZEg8FAdA/o/NjD2/bP9fg8ht1hsDtG9oiCXt17vV4p7WREgJwOqj7yvjKVwDRKNpvF3bt3sbu7K84Aexfw/JLJpJRzPskwjsCzhb/9t/82Pv3pTz/uaRgYDOGx9CZYZuSAhoUhc9aTMzdMA0RDSQMGDDPKdQqBq1v+rrkBNEh6le5wOCQkz5p9lsTR+Olwvy7Z4/y50uXxdWRCr7I5J3IhHA6HGDoaT3sdPfsHxONxcWa0o6JTIpyTy+VCIpFAOBwWyWSWXOrz1vwAbezt4+l7q6+t3Tmwh/61gJT+Tl8fOg6sNshkMnjvvffwwQcfoFQqAYBwDzjeG2+8gc997nPSqnoamY/zs393Xv7MRW1vYGBgMA+eqEZFOp89737f+73fCwC4f/8+3nvvPRGdiUajQqbTgjN6RWs3WjQyXF33ej3R+GdjH512YFUAAORyOWQyGQlLa6a8vYWvNvx6Ja/D7FrQiPPS52Kvk9dpAzpEXq8XgUBAVPxo/Lk9oxz6OB6PB/F4HBsbG8hkMnKtSNzTbZS108KxdPMofW31z5oXwZU9x+BcGBEAIHwQHf2gM8LS0nw+jwcPHuCjjz6SigTOj1wQ3j9dKbFINOtRcQbOeyyDxw+7Qz+NRGpg8KgxtzOgjfUshnvU9tNY1ouQErnP4eEhqtUqNjY2sLm5KeF3PTZJZLpEToe26SwQZKVzxQ9Acuk8bigUQrVaRTablcZCDHdzJa+jFDr6oA05w+DkDWgSIVfllDmmqJLT6RSmPfdjKoMOQzAYFA4AVQ95L7Rx5/k6HA4Eg0HcuHFD2i3zWpGpT+h99XnzHHXagveAJEBN0uSYFH8KBALiADAFxNLBbreLYrGIfD6Per2OcrmMSqWCSqWCWq2GwWCAYDAoYkV0zOgMaFVHPa9J0QHtrNpTI6Oe80VW/xrGAXg28M1vflNaZhP2kl0Dg8eNc1UTTHIKRhn+SS+3RVME9peuZVkIhUK4ceMGVlZWhjQGdFRAr4TtPAIaYWC4VS6jAixz49iBQADxeFya5NBA0xHQoX5tRLSIDr/jfsAZqU6vqhmFoHohuQI+n++h+6TTEfydqQSdsqCzw3F0OuDKlSt48cUX8cEHH4iaIZ0BLRbE+XNMzs/OCSC4n36GeP8SiYToC7CEUad0KMz04MED5HI5tNttcYwYWaCzR84B732r1RL+xDypKn5m/3/Sc253HqalGcb9PZkUwdMN/p0aGDzJWEqjIvsLfdSLdtpqaZZow6QVGuH3+6WmnqI5DD9zDG1Yu93uUDhfOw50DrifLodj6NrpdErZHhnvdk6BNhj6d20Q7eeiw+Z67v1+H8FgUJQHdapAcxM0wz4UCsHv94sWgQ7Bc3w6JlrgqNvtIh6P4+bNm2g0Grh//77k4Ek21CkWws6VoDHW1Q328+a5UUgpEAhIREBfK53iCYfDIvtMh0A7V+QJtFqtoWqEz33ucxgMBgiFQkPP2yIG1/5MT3u+9bWaxYFedF4GBgYG8+DcnIFxL9NxDsO0F9usOdpxPzOfrkmD2hnQc6NhpDMAYEhJ0F7uRjDv7nA44PV6RdKXkQF7LtruxGhnxG4AtBOhj6vnH41GEQqFhhwXPXefzydhda6OA4HAkCHtdDpD3QpXV1fFiaDTQ37CpUuXUCqVJDJSr9eH8vqE5kZoZ0STBLUzZL8uvV5PHDm/3y9z4bXhPeJ1Jy+EksWa3KmrI9rtNoLBIFKpFAaDAS5dujSzgZ3mnE6Lfk1zDGb53MDAwOCice6uhct6sS0rFKqNqV7VA8OiOXQWWKYGnIkN6fy8bq5DY6nP0ev1IhqNwuVyoVKpiDPAse0d/OxGX89b/6z/aZ6Bx+NBMpkUMSVNhGQokrX0upugZVlCLKTTkslkRIwnGo3Kapz7MDoQi8Vw7do11Go1aYjEaAL5GPaUBM9DlwvqvgF0xnifuG0oFEIkEoHP5xty5lqt1kPaArxPzWZT9BGo98CoECshYrEYbty4MffzNKtzasd50l4GBgYGjxpPTDXBoi9B+36UCm6320JiY1dC1tzbc/TaOAHD9fC6AgA465pHQhCb5QwGAxQKhSEFQL1y1GQ5zU/gdqPSCdqh4LzYqY/1/9r5oXOgdQc4RjAYFNY9WxoXi0WR/00mk9jc3BRiIZ2ier0Oy7KwtbUl5LtCoSBtkOl4aANNo60dBLsTZRd+4j1YX19HKpWStAsjBOzIyHPSToHukBgOh5FIJODxeFAsFqUfgZ0seNFYNOVgYGCwOCzLwmAwkMZxBrPjwpyBRZjUozgF845TqVTQbDYRDAalzS+AIfEhGnuWyelSNZ1jBjBkgLSB1lECp9OJWq0m4jY6DcHVur1Frv0c7dwHfqbTFR6PB6urq9je3pb6fxr/wWAgjonWUdClf5VKBfl8Xow9JYcrlQpKpRJisZgQEdl7odfroVgsIplM4tKlS0Ju/MY3viH9GHTVAuet5YQJu0HWc+t2u4hEIrhx4wbW1takgZTmOtCp83g88Hq9GAwG0qyIksupVAqhUAjdbhcej0fklmcRF5olJTDr9oti0nHsz4iBgcEw/tN/+k/Y39/HP/yH//BxT+Wpw4WVFo7aZpyhn/SyG+cY2PPNxGc/+1ns7u7i4OAA6+vrSKfTQhLUq3+q8gEYIs7pvLRdnZAGicZXE/VY5mYnvOkVv563Jivadfq1BoDOt1uWhcuXLyORSKDZbEo/Al0a6ff7EYvFREmQIXSH41SQqVwuS8mdx+NBOByWBkkOh2NI958rfJbqRaNRbGxs4POf/zyCwSD++I//GCcnJ3ItBoPBQ2WcOuXAz+k8MELANMqlS5dw9epVBAIBABhyNAAMlYNqp4yaCMlkEolEAgBEAbJcLqNarYpTOOpZGvfM2vkwo57lccbbPu6sTu648U0KwcDA4CKxlNJCYtILdtT2o1522pCMeiFPG5dGlgaKJW52XYDBYACfzydlckwt0DDRGdBRABpurtL5PVeo5XJZVq922A2EZu3rLn4aWsDHsiysrq5iZ2cHlmXh8PBQRHXcbjeazSZyuRxyuRzW19cRCASGDGkikcDJycmQMeXPfr9feBOtVkscIM036HQ6KJVKkpN/9dVX4fV68fbbb+Pw8FDSI0wbMGfP42hlQqYVaNwHgwEsy8KNGzewubkpvQicTqcoO/r9/qHyLF4rtmPm/eS193g8qFQqOD4+xo0bN7C9vT3kQE5afdufNztRcNwzqec16e9gnGEfNe644xgYGIzGX/2rfxXRaBQ//MM//Lin8lRhaWmC84b3ifO+BO0rcHuoXK9SuQ0NiD2kTXIhw+r6GPZ/bD1MI69JczqETuOo8/L2VASNJoV4nE4nYrEYNjc3EY/HhTnP6EOn00GlUkEmk5HURzqdFoeADgtr7nkcOjd+v38oukADzZp86hK0Wi10Oh0Jyd+8eVPG29vbQ61WGzL8dgPK/3UVB69nMpnE9evXEYlEhsoldVWCJnPyGrO1NJ0MOn5ML1SrVfj9/pl7EExarU/aZpbvRnFCZt3XwMBgMv75P//n+MQnPoG1tTXcunXrcU/nqcNczsA8aYFZc6/jVmGzzmXU9syjM4zOVS4NUrfbRa1WkxI5Gju3241AICCCQrou3m687EbOzuy3bzfpetlXk4wYcK7hcBipVAqrq6twu90ol8twOE57BbAx0snJCYrFogjrdDodrK6uIhqNygqcTodOUUwSQ2GqIRQKicIh5wQAwWAQ169fR61WQ6PRkHJG5urt56ehhZX8fj92dnZw5cqVoUqIwWCAWq32EBlIV1c4HA6J/jDF4fV60el0xioNTrofo7CsEL2OfI2LDEybi4GBwWj8jb/xN3B0dIQ/+qM/wu3btx/3dJ46zOUMzPKSmrbNeb+3bzdqe66UT05OUK/X4ff7hwhxpVIJe3t7yOfzsCwLgUAAbrdb2hSnUimRvKVRs+sR6OOSKGivFuB32rhrcCzNVeDYuoY/EolgdXUV8XhcxHNoACuVCg4PD3F8fCz7ksRIsl04HJbcuk6dMIqgjZQmHzI6UKlUpJKBqYdcLgen04n19XVcvXoV5XIZpVIJpVJpSMBIg9ESpjZ47HQ6jddeew1bW1tDJMRmsyn6BqMEouiAUU6Zjp3b7cbx8bE4UkyBLIplGudFowoGBgbjcf36dXg8Hvzcz/0cfvVXf/VxT+epxLnSBMsmNS2yMhpH4Gq1Wjg6OsLJyQnW19cfks71er1YWVkRJT+usHd3d9FsNkX/fzAYIBAIYGVlBclkUlrkulwu+Hw+Yd+zc6CuSrBHCXS6Qnfu09vobbvdLgKBANLpNOLxOLxerzgCbrcbR0dHODg4EElenX6oVqsoFAoIBAKysmcJpN/vl5W0rnjQzYUoW0w+wmAwkOqBRqOB/f19DAanbY5XVlZw5coVZLNZVKtVcUS0YJBWBXS5XOI8pVIpfOITn8CnP/1pBAIBFItFSQnU63XUajVxysg1sEcadOklj3vv3j3cunULL7300tTnZdp3i67YF/n7MERBA4P54HQ68e1vfxvAwxVLBrNjZmdgUVbzrAxsYLaX7ag0g/0YJPZls1m8//77sCwLLpcL7XYbjUZDSs3W1tbEGQBONQr29/dx9+5dVCoVyY/TOOv5MxzO8HmtVpNKAvt8+U9HFnT43F41wM/a7TZWVlawtraGRCIhxLrBYIDd3V1kMhm0Wi2EQiHREWBjHxp/Evk0y585eK6YabS1XgCjE/1+X8o1efxCoYDj42Mkk0nU63Wk02lsbW0hm80ik8kgl8uJQiKNN1MVPp9PtCA2NjbwyU9+Ev/f//f/YXNzE+VyWVb79Xpd7gGvFyM4jJqwSkKnPwaDAcrlMvb393Hz5s2Rz9+sz9I8z+WoZ3TWv5dJhEQDA4PZ8NJLL+Gjjz563NN4ajGzM6BfVuN4AaNWUKNexLO+nO1jahKa/Tj6eDs7OxJy/v3f/33E43HE43G0Wi2Uy2XUajUpqdNKdm63G5ubm9jc3ESz2RRmvda4190E2QGQIXfd00DntYGzNINe2fIa6hQBcEZ6BE5TBPF4XFIdpVIJtVoN2WwWwWAQq6urACAKfPV6XdoXh8Nh+Hw+KbEjz4CGWTdS0nPm+TkcDiHi8Vpzv2AwiFAohFqthkgkglAohJ2dHRwdHSGTyQydJ68t5+l0OnHt2jV88pOfxKc//WlcunRJejo4HA5UKhVpSUz+B68tKzkoLsRzYw+GXq+Hg4MDnJyc4MUXXxyrjDjp+bE/j/YIjx5j1Diz8A9GjT2P42Jg8Lzjz/7ZP4v//J//s7zXRnGTDGbHhfUmsH83zzgaoxwLbq8/1/vTSLfbbRSLRdy9e1dWkXYxIXtrWzLRdXmgPb/OroEM11P2V3MAmJbQ14YGV0v0aoPJffmdZVlIJpOIRCIiu0t9hEAggEQiIaF/y7Lg9XpRKpWkSsHhcIjaIFfdLCPU15IsfJ1GYaqAYX2SA8ngD4VCkrao1WqIxWK4fPkyKpUK7ty5I62e9TFo7K9evYpPfepTePXVV7G9vS0cD4/HIyWejCbw3upoQKlUQj6fl/QJUw5MLWSzWbz66qtLM56jHIBRn8/y/I9yqu3fjRrLwMDgFP/6X/9rfPzjH8fdu3fxQz/0Q/L54eHhY5zV04+FnQF7dGDUqmbay21aBGHU7+PGG/fy7PV6ODw8FIPp8XgQDAZl1axX7AAkN+1wnFUg0Niz3I/OAAl5nKNdFEfX1uuIAR0IHmNUGqLf78vqnqmIwWAgZX10SphuIFmQoXgAQjZsNBqo1WrSVImOgo6KcM7aaaFjoiWK6fTw+CQCAqdaBq+++io++OADvPvuu8JJ4HjhcBjr6+viCLA6olqtotFowO/3Dzkm3Jf789pXKhXhSfj9fkSjUQwGp6qH+XwemUwG169fH/vszmpoJz1jsxjuUZ8vkhIwUQGDZxnf8R3fgS9+8YtoNpv48pe/PHHbH//xH8eXvvQl3LlzB7/3e7+H3/zN33xEs3z2ce5GRaM+O8+L67z5Wvu+6+vrAIB8Pi/qfPF4HNFoFJZlPWSgtR6B3RFgnl2z1mn8+TlXsFqsiIQ43cXPnhrgfHX0gI6Lz+eTfQKBAAKBgOgaMFpBo0wngjwByvWyx4BWN9TCP1Rj1M2AyD+gA8FzsNfz8zr5/X7cuHED3/Ed34Fut4tCoSCRmEAggK2tLbz22mt49dVXEY/H0e/3ZW7sGWF3iHhuAETwyOfzSQSALY9Zcnl4eDjVGXicWOR5No6AwbOM7/qu78JP//RPo1Kp4I033sD/+3//b6R0+Re+8AX81E/9FGKxGL7yla/gl37plx7TjJ9NPDGNiiZh0SoDj8eDL3zhCwCA119/HcViUQiBXq93SMhGRzN0GR4jBb1eb0ieWKsTctVKZwAY7mlAB0E7GtyXhpcrfF0R4PP5hDSnc/gAxBHQ++huiZQhZr6d1QZaAZAhf37OuQAYigJokSA6CXbZZUYBVlZW8IUvfAGxWAyHh4eoVqtwuVxIJBK4ceMGXn75ZQSDQeTzeeTzeSmDHAxONQU0Z0GrPdIJ6ff7CIfDuHz5MlqtFu7cuQOHw4FIJIKDgwN89NFHyOVyS19Nj+OzLHKMRasTDJ4tMN2Wy+Ue91SeCITDYbz++uu4du0a6vX60Hd+vx+vv/46HA4H8vn8Q2lIg/Pj3GmCZe476iU5LxubGPV7q9VCvV6X/DfL3QAM1a7rfzRUdBI4lsfjgc/nE34BKxb06pYOAw0/w+l6tcvf7Q4JAMTjcenARzIj2fhcyWvnARhe2WsRJO2Q8JqRB0FHhqkIRkI4luZS+P1+0WBgdQH35blcv34dL774opAdmWqIRCJDf8wUR6KWAUsYdcSFDg7liMvlsigKXrt2DX/0R3+E3/u934PX60WxWMTx8fFYXYdJz9M8ef9xz9isx5plX4NnH3/pL/0l/PRP/zRefPHFxz2VJwYOhwN37tyZuM1f/st/Gb/zO7/zaCb0HGHhRkWjCFCTth+1L/BwemFekta4z+xz+DN/5s/ga1/7Gvb39xEKhXD58mVsbW2Jyp42nFxRAxgycnbyF1euPp8Pa2trSKVSUsKom+twDrpjok4l6CoJ/kwJYlY8UE2PkQFdW6+VATWHgMfW5Xla34AtjYPB4FBjJb3iByCheRp/VmRsbGzIeQQCAYTDYRk3nU4jGAyi2WxKlIHOWLlcRqPRQLVaFVEhAEJs1AROEgqpLsj70+/3EYvF8Oqrr6JYLOLBgwfY3t7GZz/72YnPwqRnTz8v9rz+qOd92gp/0nM5ad9JVTUGBgYGF4G5dQbm5QaM2n6eFdOo484LHf5vNpvY29vDRx99hEQiIVUHesWs89U6KsBwOQ0bNQsoDHTp0iW89957yOfzI+ehqwtoRBkC12kEzoW8BAAS6qfsrz3lAEAcGDokVOZjdKHRaAylNiiqxHQIrxMjCwzJRyIRWZWXSiU0m00RMmJvg0gkglgsBr/fj0ajgePjY5knrx+dlF6vh1qtJsRBpmA4N0Ym2I3Q7XajUqlIJKPdbsvYdGRee+01RKPRIeXGSc/DKExzbpfFZ5nmSI/6OzGRBAMDg4vE3DoDy8A8Y533uPqFSmPTarWwv7+PVCqFtbU1qSqgI2BfqWtegD2UTqEfv9+PjY0NpFIpCYHrxj8M53Nc5t51qkLPGThbKeu0BSsEGKYHzvoi0DBzfm63G7FYDNFoFIFAAPl8/iGWPnAWveA1IFfAsixYloVqtYp8Pi8aAclkUmr6O53OUDlmt9sVA6/Fi5iGqdfrQ6RBRj2YJmCJJwmUsVgMiURCdCEsy5JzdTqdODk5QTabRTKZFPGoRcP3ixreeVNmk7Y3DoCBwXj83b/7d/HOO+887mk8k3iiCYTLIIHp/VdWVgCc9S4ol8vY2NgYMrq6goCGX4sSAWfGlwa90WjA6/VifX0dm5ubyOfzksMfF03RaQa7MA63ISGR86ER1KF+kuqYW/d4PKhWq+j3+1J5wDJKNjEidLqC/+vSQQoOnZycoNFoSKkjdQ+oB6AjE+12W8oYNdmSxrtcLqNcLg85S+12G/V6HfV6XX5utVoYDAY4OTmBZVlYWVnB+vo64vE4AoEAvF4vcrkcbt++PXS9530mZsG0ctd5xzNG3gAAbt++jV//9V/H3/k7fwdf+cpXHvd0Hhv+5E/+BP/hP/yHoc++9KUvIZVKye/dbhe/8Au/gF/6pV9CtVp91FN8LrBU0aFlY1Yi4axzuHz5Mi5fvoxqtYrf/d3fBYAhyV4aL65YR/EZ6CwwZE1in9vtxsbGBq5fv46TkxNJIxB6Nc6wOQ24Dhvrc3G73dKBj2MwVUHlQ7YzBiD6A7VaTRT5WE7YarWk/FBHKrTOAc9TS/6enJzg5OQE0WgUsVgMkUgEwJniIaszGo0G8vm8KAYy2qIdqcFggEKhgHq9PlTG6XK5EA6HEQgEhqoVGo0GSqUSstksisUicrkctra2kEql4HQ68f777+P9998X4uG8z8Oiz9EyolWjxjG8gOcL3/zmN1Eul/H222/jF37hF57b+/9bv/Vb+K3f+q2hz+LxOG7cuCG/t1ot/MiP/MijntpzhXM7A8t0BCYxvSd9Ps8+wKlRZbiaq1uG8ykmxHy+7htAOWJuz+2Yc08mk7h16xZOTk5Qq9VwcHAgzYvsjsUoYqI2kDwHCu0Eg0E0Gg2ZI/kPdExIGGw0GnA4HAgGg8L6r1QqUvnAsWnwWZ7Ic9ISy7lcDgcHB1hZWcHm5iYCgYCkAVwuFyKRiHAAisWilAORq2BvmczrrsWOKI+cTCZF0ZGRhk6ng1qthkKhgL29Pezt7aFer2N3dxeNRgMffPABKpUKQqHQEOFxUUdgHKYRAZcVGTARg+cXoVBInPtRqcPnDX/tr/21xz2F5w4LVRMA41nQi343r1Ef9/KeNhb/bzabuHPnDjY3N7G9vQ2fzycGi+I+OpdOg0YiX6fTQbValW2Z475x44Z0MGy32zg6OpLSOs1L0NULOnWglQ5ZvkjZXxLu+v2+qArSKaEQT7ValVU25Xm73S6CwaCcN3AadvN4PMJbsMsvM9yfSCSws7ODwWAgx2MTJF4v4KyxEsP1TIPo87N3HWR1hSYGMtVBR4uqkYFAAH6/H0dHR9jf38fx8TFqtRq+9KUvzfyszBtZmmW8eaoBFolsTZu7wdMPyogDwF/4C38Bv/Ebv/GYZ2TwPGJuZ2AetvWo70aFw8elA+apOphnDpFIBF/60pfwa7/2a7h9+zZCoRBWV1el2QU1AxiyZtMit9s95CTQALIaYTAYIBaL4eWXXxYj+cd//MfIZDJot9tDBETtmDAtoVfolmUhEonAsiz4/X5h8DPXzvmxooHOA3kChN/vFzljHsfv9w85DExhNBoN2cbtdmNlZUUMNp0Iy7JkFQOcGXRWWJBQyHGYQqFqIwmCPAd+z+tJx4BcCt0PIRwO4+DgAJFIBB//+MdnNpSLfr/MFfw8pMZJfxsGzyZ4n3/1V38V//Jf/kv87M/+7GOekcHzhkdOIJyHKb3oamiWEjEK+WxtbaFcLiMYDGJ9fV1W/wBkNV6pVNBoNODxeETGWLcjZt6dJLl4PI6XX35ZQu7f+MY3kMvlxMjRUWC6gAYZgKgfJpNJrK6uSkMgEhVbrRZKpRJ8Ph9SqRSq1SrK5TKq1ao0LyJZkNeC0Qa/3y/aAjrfz7mQQOhwnCo0RqPRh9IQHo9HSIw8jnZmtLOjmy/RMaDjxPEYXdBqkBperxd+vx+1Wg35fB65XE4iB08q7M6uHdMIiOOiCiY68OwjFArhR3/0R7G+vo6///f//rnG+l//638hnU7jF3/xF/Ef/+N/XNIMDZ5VPHHVBPOEVyeNMcvL+BOf+ATC4TAePHgAp9MpXQAZ7q7X61ImSGNJY655AEwb0CiGQiGk02lh3FerVbz//vsol8tC9tPkOV3CyPa829vb2NnZQTKZFIMbDoel1p/VAlT/06WK9hWkw+GQSMPx8TEqlYrU/FuWBQCSvyc4P5IrdZpEkyu10BGvu73ZEI08KxMsy0IsFhsSXNKVG1rWmUTHbDaL+/fvw7IspFKpCyWuLgOTnsFpz+eo7Q2eTWQyGfzET/wEvvzlL8t93trawq1btxYe0+l04stf/jK+8IUvIBQKCT/n3//7f7+saRs8gziXM7Bs1vaosO8s448ab1pkwOFwyB9cJpNBp9NBJBLB6uqq1M+TMMhVdDAYFEOlSX9U1uN3nU4HgUAAqVQKN2/eRL1eh9PpxIMHD0S0R7fqZajc5/MhEolgbW0NL730Eq5cuYJoNIpKpQKv14tAIIBQKCT8AB0+73a7UrJHMSHgTKGQRr3VaqHdbss2OjLAlwYdHob8tTqh5jTYoxwAhhqM6HRIv99HrVbD7u4uVldXEY1G5XPtOOjrwRRKPp/HnTt3sLu7ixs3bkiJ6CKY9swu08mY5Nguw+k1ePpRLBbxcz/3c/jMZz4Dh8OBP/2n/zTW1tawsrKC7/u+78P/+T//Z67xgsEgvu/7vg8/9mM/JpHLz3zmM6jVasYZMJiIczkDi768ls2mPu9LtFaroVgsot/vY2dnR8rngNMVs8/nQzAYRDAYfKi7IQ1spVKBx+OB3+8XQ+31epFOp/HZz34WwWAQb7/9Ng4ODlAsFiX9wBB8IBBALBbD+vo6rl27hk9/+tNYX18XI0Fhn1AohGg0KuJDZOPHYrGh1Tp/Jvmx2Wwim82iVCpJK2NWAzClwFA+AIk28GedPqHjQGeAK10dNbGv+l0uF1qtlnQatCs+ch+WHfI6FwoF3Lt3Dw8ePBCuwXlwXn7BRR3bOALPL3q9Hv7KX/krAICvfvWr+P7v/3587GMfw1e/+lV89rOfxd27d2cea3V1Fb/8y798UVM1eIbxxKUJHgd8Ph/y+Tzef/99FItFpNNpWJYltfWBQEBK9fRKV0cyGo0GyuWypAtarRY8Hg9CoRCuXLmCeDyOtbU1PHjwAEdHR8hms6hWq2LoGRHY3t7GpUuXcOXKFbjdbunORUeDc6lUKqjVauh0OvIdWxcDZ10EKUhExT+2+3U6nUI85Bg8F91RkfwAGm2eMx0idh2kg8D/SRjk3Mk34Iqf581j0Bjmcjlks1nRTygUCjg4OMAXv/hFfPKTn3x0D4WBwWPAD//wD+Of/JN/gn/2z/4ZYrEYbt++jUgkIulFYLhSh39DhK4KMjCYBws9OfOWO11EeZQ9rDqqSmHa8bntd37nd+Ktt97CO++8g8PDQ3S7XWxsbCAWi8Hj8cCyLASDQcl7M5TNMRgh4Grf6/VKSWCxWBQNgk996lN45ZVXpEFPtVqVksRIJCJkQYfjVPhIK/HZexH4/f6HVu+6a6ImA7rdbiQSCYRCIdTrdeRyOWn8w/JChv7t3Q01cY3G3uFwSH8AdjTkvuQeaHlizodCRCxR1M4ASzYpfVwqlaSp0fd8z/eMvOezfKbv/ajPiVHbz3KcSdua0L/BImA1werqKvb396XskHjjjTfwmc98BgBwdHSEWCz2GGZp8KxhIWdgEULfsjGOIzCOsDVpDPIHrl+/jk6ngz/8wz+E3+9HPB5HKBSSVbPT6YTf74fH45GVN2WCSTJk6RzZ8poln0qlEI/HsbKyItuWSiUpF2w0Gshms6jVamJMdPMiGkuK+thTFtqIM8/P+dg1ALiNz+eTls46rK85AJqDQPZ/q9VCrVYbkkh2OBwSoSAYESAngKJDwGmZIufdbreRy+XEEWCFBK/rrM+B/bNZfp423izHGfW5cQQMFgH/Jo6Pj3Hp0iXcvn176G/q4x//OPb29gCcKvU5nU78i3/xLyZKGuvIgoHBKFw4gXCabsCsugKzHm/UPsD0FzPL1agpkMvlsL6+jmQyKQ4AIwLM13M1zpUyV9qaVd/r9SSkH4lEhlbQjADkcjmUSiWJFrTbbTGinDvHY95ct0KmE8D8PedAJ4ROQK/XkxV7s9lEvV4f0k3QTgAjCt1uV/4RdEy4nS6t1GkGRjns8zw5OcH+/j58Ph8sy5JrcP/+fRwfHyOZTGJ7e/shRcZ57v2jWp0vGvWaVu0yakyjM/B8od/vY39//6HPvV4vNjc3AQA/+IM/iFqthnfeeQcHBwePeooGzxAunEA4bTU2D6t6kZf6vPu4XC5cv34d4XAYmUwGkUgE0WhUVscMjbdaLRH60Sp6dBCoKUDiHPP7NI5MA2QyGezt7YmcL7ehUec1Ac4aJGnmvc7V63C+/k4rKdIZ0UqK1B/QnAA9HiMAHI+VBnaegJ43oyJ0UnTUIp/P48MPP0S73UY0GkWn08Hh4SHu3r2LYrGI1dVVJJPJue/1KFz06vwiSK+jvjMpBwONdruNL3/5y/jf//t/iyCYgcF58EQ1KnoSXnYej0dKDrlSZStfn8+HWq0mq3MaP66GaUwpVdxutxEOh+H1emU/bsvufLlcTnoZ0HnQ9fk6BaANqm6mRGPMOQBnbZLtToEuE+RYXq9X0h7AWbUAHYZisQiH41SIyO12D2kQAGd8BUYktNOg5YrpUPR6PVnFJBIJ9Ho95HI59Ho9cVbOi8f5LJ3nb2KSNoHB84fBYIDf/d3fhcfjwUsvvYTV1VUAp417fuqnfuoxz87gWcIT1ajoScPly5fx0UcfoVAooNlsYmNjA81mE91uV0iCjAIwdO/xeFAqlfDgwQMUCgVcvXoViUQCjUYDhUIB8Xh8SPlP59tpRHUKgDl6khQ12Y7bAxBjz4gEnQ4Akt7Q7ZCBs3y+1+uFZVnSU0GXDdZqNZRKJbjdbmkIxDSA3++XcchhYNSDEQzyBdirwev1Ym1tDQ6HAz6fD6FQCAAQjUZx9erVR32LLwTn+Zt4lv+eDBbDn//zfx4A8F//63/FX//rf/0xz8bgWYWpQ5mCo6MjnJyc4O7du7h27RoSiQTcbjfi8bg0z/H5fNJEiKS8RqMhefHLly8DOC2bi0aj8sJvNBoiSMR9KpUKWq0WQqEQgsEggLNyPxpWGnQabW3cmWrQK2wKJ5EsWC6Xkc/nRbSIOgeaX0CmP4WW2DGR4kvAWXklHQNWULB8kGMwJdLr9ZBIJNDv96WiwcDAYHYY3ojBRWGhroXjcpoas+Y9x5WBzXrccePMQmycNFdu87nPfW5ohf7GG2+IEuD6+jq2t7extbWFjY0N0QQol8toNBpSJler1cSg0gg7HA4UCgXpKqgjBbVaDdVqVaIILM+jVLHX65WmQLoCgKvyUqmEcDgsUsPM71uWhXa7LZoIFDxqt9vY2tqSFsdUR2TJYCQSGdIXACAcCr/fL82Q+HO328XJyQl2d3dRLBal1XKn08HBwQFefvllXL169Vxk0nnuoX2bWZ+5eY6jt52XEDvq/1mPZ/D84Id+6Ifwta99DT/8wz+Mz33uc497OgbPGC6ka+E473WeMrB5jjvPOPOOaR/3lVdegdPpFAJcs9lEuVxGOp2G2+1GtVrF3t4eOp0O1tfXRXDIsixR1KPYEMV+3G63lBeyCVK5XEatVhPeAA06ANH1Z0UCIwd0WIDTsr1wOCz3IhQKwe/3iwJiPp8XZ6LX6yGdTovOgd/vFz4CuzX6fD5Z4TscDqmyYCdGCi1ls1kUCgUcHh4ik8mgVquJ/PHNmzcRDocfEkq56Hu46HFonOcxyPOOrbez/z9qW4PnF51OB7/0S7+EX/u1X0Or1Xrc0zF4xjCzMzBNyMX+Epy0+ppWVjVLZGDc77Ou+saNNW2lyPbA9Xpdauar1Sr29/eHWP7r6+tIJBLY3t5GLBaTXD8rEXgM5s4BSHgdgJAVWdbHtABFiEjW4zh0KprNphhgGnSKFFWrVezu7uLg4EAIe6yAKBQK8Hq9CIfD4jgAp2kStnGuVqtCgjw5OUEgEIBlWUOljOQYUNeg2+0iEAhgdXVVeAWP8x7O+hxx/0UiFOPKGqet+KeRB02I2KBQKKBQKDzuaRg8g5jZGRi34hn3opy0zSIRgEljjFplTTvOpLnO8tJNJpNDbYHZ+ZCywltbW1hbW0M0GhVmPvP9WhjI4Thj6bO8jw4CFQw1059kRcuyxEkAziR/uXrXPAGH41Qz4PDwEPv7+ygUCiIjPBgMYFkW9vb20Gg0kEwmEY/HEQ6HAUD4BYVCAZVKRcamRgCjCaweYIohHo9L5QFbK0+67o/jHo4af55nddo+8441zlleJEJhYGBgMA8eS9fCeceadpxlvyRnWbVdv35dfm61WigUCnC5XAgGg9jY2MDGxgYikYiUCJLMp0P5dBKoVcBqAQBCyOP+LGdkaiISiSAQCAxFDRyO0+oCRh+cTieCwaBEFPb399Fut6X1Mc/H5XLh3r17yGaziMViiEajwjdot9s4PDyUjoh0RrjyZ4qAnAWSEbe3t6XSYdT1m+WanwfzrLwvCosebxGHxMDAwOA8eCxdCxcZ63HnTScd2+fz4WMf+9hQTp8yxo1GQ0r4aLj5j+WIDLHrqgDgtB3p+vo6AoEASqWSKBkeHR2h1WphZWVFCHutVguNRgN+vx+NRgO7u7tCDux0Ojg5OcGDBw/w2muvSQMhYjAY4H/8j/8hREWmP9rttvQzoAZAIBCAz+cT0iD7pdMRcblcqNfrI6/Tk3wPgfnnt4iDMy0NNc0pNjAwMLgILKW0cFqVwDxjjHpZzvrinPa7fd9xY4/L7c7CPAeADz74AIVCAVtbW4hGowiHw7LC5wra4/GI8QcgugH8xzbIPp8Pq6urWFtbQ6PRQCaTwe7uLvb399FoNJBOp6VygFUIuVwOR0dHKJfLWF9fh8/nw8nJydDx7KBeAnBKNmSb4Xg8Lp0Y7WkMl8uFSCTy0PWIx+MPjf+03cNZjjXPvHWon2PNyo8ZdTwDAwODZWJpOgOjCFzz7LOI8R/13agxR+03Lq88jvw1bTy9v9vtlmY7brcbly5dQiqVknQAt2OenU4Cx+z3+0JGZFie0YVUKoVAIICTkxOUy2VRL/T7/cjn83jvvfcQCASwsbGBVCoFy7Ikbz8YDMaq+33v934vgOHOhIPBAKVSSVon67w1oxn6utiv4bjr8zTcw1mN8ah8/qTj63nPY/Afd1TFwMDg2cZSnIF5c5yTXqDzhF1HORCzvGAnHWvSOOPGG7UfyXntdhu7u7s4OjqCw+FAPB5HMBgUZj2bIFGVkKV+VO3T4zudToRCIQQCAWmYlMlkcHBwgMFgIN0M19fXkUqlMBgM0Gw2p0r8OhyOh1IHPIdwODy0rz53EiBnua7jrt2TfA9nwazjzBrt0DAOgIGBwaPCY1EgXGYIdJEX5qN+wbZaLSkn7Ha7OD4+Rr1eh9frRSqVQiKRQDAYFIeA2gIkEWqdf5Yy9no9kf8lL4DjhMPhoTTEoufrcJw1Sxr3/aTfZ8XTcA9nDefP8tmsc19kHwMDA4NFMJczsIyVyrQ86bzHuIiX5LI5EHo/KhOWy2V4PB60223s7+8jlUpJxIA6AisrK8LqZ7fESqWCk5MTNBoNiQSwMkCX7zENoRn9i5zHpHOb9Zyn4Wm7h9PGsvMLZo0CzLqtgYGBwbIxlzMw6oU46vNpY0x6kY4zMpOOMy8Ra9rn8+Z5J+WmR21Pgh7x9a9/HYlEQqSG3W43ksmkaAR0u11UKhUUCgWcnJygUChIaL/f7w/1A5g2P3MPl3MP5zl3+3FGbavTS/Ocr4GBgcEy8FhKC+dNE0w7zrwv5kVf5IvuNw2f+cxnHvqs3W7j3XffHbl9LBYb+p0CQeNwnms7z37P8z2cFU/6/AwMDJ5POKdvMh66RGqe7857vGVtM27bRec8bbzzzF9/Pu7nWcaZZ27mHs5+vHnGmPTzLOMYGBgYLBsLOwOTQs8ay1zRzDLWPNssexU2bbzzzH8cmew852Du4ez7Pan30MDAwGAZWNgZYP510vfAxawqWbbHf/qzUdvO+v+0uS6yOhx3nGkr8lHzsu9rP9a8MPdw9rmOm/u4sR7VPTQwMDBYBi6cMzDv6mYWYtos+Wr7trP+Pwnn2XbcvpOIbvbvlxUFmHdfcw+fnHtoYGBgcBE4F2fgImBCo6dY9nV4lNfV3MNTPM330MDA4PnCuTgDi34/iay2zH3mHW/RcWcJT88z1qQ5LEo2W9Y1X/Z45h5O/3zW7w0MDAwWxcJpgkVLpMZ9t8h451kpLZMwdxEEu0dRUmfu4XLmMW6sR1UWaWBgYHBezBwZWNbKadI4y16ZnXefUSu8WUrCljmHefeZdn3NPXy676GBgYHBRWBmZ8DhGG6/Cswf9iWxTK9wprGq530xTiKvzTNPjWklYct6cU9j92vwusxCZtPfmXv4dN9DAwMDg4vA3JyBcSxpjXEvw0WY69rw2I3YKKNj339cedi4F7AeY1bDOcowTrs2k1as01bd04zlqO/0mOYeDuNpvIcGBgYGy8TSuxaeJ1c7T8501vzzvOVni6zS7MZn3HfT5nMRc1sE5h4+/ffQwMDAYB4sVE0wLRS66ArmceZKZ8kjjzNUk1ZxF/Gyn3fMcaFocw/PPnsa76GBgYHBsnAuBcJFvgMmG5rH9cKbZ3U373iPG4uw1809fDruoYGBgcEyMLczcJ5V37SV1rhc8bhxlrkCXfZq9iLmNi7fPe+xzD189OMt+x4aGBgYLBNzlRbaf56lXGsayWoWozCJGa63GfVv1jEnfT+NLa+Pv8jxZpk7w8T2ec3Chp+V6Gbu4ZN/Dw0MDAwuAjMTCPkSm1aiNe7ncUzvUfuM2ndc3nvS/tPOZ9rvPOYspK9Zxpt1LpO+n3Rtp+1v7uH4bWcdb9a5TPr+PPfQwMDA4CIwV5pg1hDwPGMsY79F5jHLPrOy0KeFwsd9PstqdVkYF9439/Dpu4cGBgYGy8a5GhVNY6TPg1lCsJPm8bgwLsRrDwnr78etBi/KcE0a29zDp/8eGhgYGJwX59YZWNYL6jwh2GUfbxlj2Y3Fk3ydnuS5LXq8ZYz1NN1DAwMDg/PgiWthbGBgYGBgYPBo4RiYRKSBgYGBgcFzDRMZMDAwMDAweM5hnAEDAwMDA4PnHMYZMDAwMDAweM5hnAEDAwMDA4PnHMYZMDAwMDAweM5hnAEDAwMDA4PnHMYZMDAwMDAweM5hnAEDAwMDA4PnHMYZMDAwMDAweM7x/wMjYntUbGjC3QAAAABJRU5ErkJggg==",
      "text/plain": [
       "<Figure size 640x480 with 2 Axes>"
      ]
     },
     "metadata": {},
=======
      "image/png": "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",
      "text/plain": [
       "<Figure size 400x400 with 2 Axes>"
      ]
     },
     "metadata": {
      "image/png": {
       "height": 400,
       "width": 400
      }
     },
>>>>>>> origin/wmhuq
     "output_type": "display_data"
    }
   ],
   "source": [
    "plt.subplot(1,2,1)\n",
    "plt.imshow(xs3d_test[30][0][0][24], cmap='gray', origin='lower')\n",
    "plt.axis('off')\n",
    "plt.subplot(1,2,2)\n",
    "plt.imshow(ys3d_test[30][24], cmap='gray', origin='lower')\n",
    "plt.axis('off')"
   ]
  },
  {
   "cell_type": "markdown",
   "id": "0fb569f9-1531-47f4-8275-faaf9e030654",
   "metadata": {},
   "source": [
    "### load a model checkpoint and get relevant predictions"
   ]
  },
  {
   "cell_type": "code",
<<<<<<< HEAD
   "execution_count": 14,
=======
   "execution_count": 130,
>>>>>>> origin/wmhuq
   "id": "306bae4d-122d-405c-bdf8-475bf2de1471",
   "metadata": {},
   "outputs": [],
   "source": [
    "model_config = \"/home/s2208943/projects/twaibrain/twaibrain/braintorch/models/nnUNet/cvd_configs/nnUNetResEncUNetMPlans.json\"\n",
    "\n",
    "with open(model_config) as f:\n",
    "    model_config = json.load(f)"
   ]
  },
  {
   "cell_type": "code",
<<<<<<< HEAD
   "execution_count": 15,
=======
   "execution_count": 417,
>>>>>>> origin/wmhuq
   "id": "6095ad18-3907-4d2f-96a1-1cea9900b397",
   "metadata": {},
   "outputs": [],
   "source": [
    "dims = \"3d_fullres\"\n",
    "config = model_config['configurations'][dims]['architecture']\n",
    "network_name = config['network_class_name']\n",
    "kw_requires_import = config['_kw_requires_import']\n",
    "\n",
    "model = get_network_from_plans(\n",
    "    arch_class_name=network_name,\n",
    "    arch_kwargs=config['arch_kwargs'],\n",
    "    arch_kwargs_req_import=kw_requires_import,\n",
    "    input_channels=3,\n",
<<<<<<< HEAD
    "    output_channels=2,\n",
=======
    "    output_channels=32,\n",
>>>>>>> origin/wmhuq
    "    allow_init=True,\n",
    "    deep_supervision=True,\n",
    ")"
   ]
  },
  {
   "cell_type": "code",
<<<<<<< HEAD
   "execution_count": 16,
=======
   "execution_count": 418,
>>>>>>> origin/wmhuq
   "id": "ac2e9374-7700-4c22-a3ea-1ac7ced2fc8e",
   "metadata": {},
   "outputs": [],
   "source": [
    "# ckpt_folder = \"/home/s2208943/projects/twaibrain/twaibrain/brainexperiments/run_nnUNet_v2/training/model_ckpts\""
   ]
  },
  {
   "cell_type": "code",
<<<<<<< HEAD
   "execution_count": 17,
=======
   "execution_count": 419,
   "id": "7409a0a3-3203-4210-95e0-3ef7303f696a",
   "metadata": {},
   "outputs": [],
   "source": [
    "ssn_config = {\n",
    "    'intermediate_channels':32,\n",
    "    'out_channels':2,\n",
    "    'dims':3,\n",
    "    'rank':25,\n",
    "    'diagonal':False,\n",
    "}\n",
    "\n",
    "\n",
    "# ssn_model = Hierarchical_SSN_with_ConvSpatialAttention(model, ssn_config, refine_channels=10)\n",
    "\n",
    "# ssn_model = Hierarchical_SSN_with_ConvRefine(model, ssn_config, refine_channels=10)\n",
    "\n",
    "# ssn_model =  SSN_Wrapped_Deep_Supervision_LLO(model, ssn_config)\n",
    "\n",
    "# ssn_model = SSN_Wrapped_Deep_Supervision_LLO(model, ssn_config)\n",
    "ssn_model = SSN_Wrapped_Deep_Supervision(model, 5, ssn_config)\n",
    "\n",
    "# - [ ] sa rank 50\n",
    "# - [ ] ssn no dice 50\n",
    "# - [ ] ssn no dice 25\n"
   ]
  },
  {
   "cell_type": "code",
   "execution_count": 420,
>>>>>>> origin/wmhuq
   "id": "9a76753a-b22d-4e03-9c0c-a45f9df8d593",
   "metadata": {},
   "outputs": [],
   "source": [
    "def get_model_preds(cv_fold, model=model, model_name=\"nnunet\", ckpt_path=None, model_func=deterministic_mean, do_reorder_samples=False):\n",
<<<<<<< HEAD
    "    litmodel = load_best_checkpoint(model, None, ckpt_path, cv_fold, ckpt_path)\n",
=======
    "    litmodel = load_best_checkpoint(model, None, ckpt_folder, cv_fold, ckpt_path)\n",
>>>>>>> origin/wmhuq
    "\n",
    "    means, samples, miscs = get_means_and_samples(litmodel.model, zip(xs3d_test, ys3d_test), 10, model_func)\n",
    "\n",
    "    means = [m.squeeze(0).swapaxes(0, 1) for m in means]\n",
    "    means = [m[:,:2] for m in means]\n",
<<<<<<< HEAD
    "    if samples[0] is not None:\n",
    "        samples = [s.swapaxes(1, 2) for s in samples]\n",
    "        samples = [s[:,:,:2] for s in samples]\n",
=======
    "    samples = [s.swapaxes(1, 2) for s in samples]\n",
    "    samples = [s[:,:,:2] for s in samples]\n",
>>>>>>> origin/wmhuq
    "\n",
    "    chal_results = per_model_chal_stats(means, ys3d_test)\n",
    "\n",
    "    rmses = []\n",
    "    for m, y in zip(means, ys3d_test):\n",
    "        m = m.cuda()\n",
    "        m = m.softmax(dim=1)[:,:2]\n",
    "        rmses.append(fast_rmse(m, y.cuda()).cpu())\n",
    "    rmses = torch.Tensor(rmses)\n",
    "    chal_results['rmse'] = rmses\n",
    "\n",
    "    chal_results['gt_vols'] = gt_vols\n",
    "\n",
    "    # run the evaluation on the samples\n",
    "    print(\"GETTING PER SAMPLE RESULTS\")\n",
    "    if samples[0] is not None:\n",
    "        if do_reorder_samples:\n",
    "            samples = [reorder_samples(s) for s in samples]\n",
    "        sample_top_dices, sample_dices = per_sample_metric(samples, ys3d_test, f=fast_dice, do_argmax=True, do_softmax=False, minimise=False)\n",
    "        sample_best_avds, sample_avds = per_sample_metric(samples, ys3d_test, f=fast_avd, do_argmax=True, do_softmax=False, minimise=True)\n",
    "        sample_best_rmses, sample_rmses = per_sample_metric(samples, ys3d_test, f=fast_rmse, do_argmax=False, do_softmax=True, minimise=True)\n",
    "    \n",
    "        # best dice, avd, rmse\n",
    "        chal_results['best_dice'] = sample_top_dices\n",
    "        chal_results['best_avd'] = sample_best_avds\n",
    "        chal_results['best_rmse'] = sample_best_rmses\n",
    "        \n",
    "        _, sample_vds = per_sample_metric(samples, ys3d_test, f=fast_vd, do_argmax=True, do_softmax=False, minimise=True, take_abs=False)\n",
    "        sample_vd_skew = torch.from_numpy(scipy.stats.skew(sample_vds, axis=1, bias=True))\n",
    "    \n",
    "        # vd of the sample distribution\n",
    "        chal_results['sample_vd_skew'] = sample_vd_skew\n",
    "        for s in range(sample_vds.shape[1]):\n",
    "            chal_results[f'sample_{s}_vd'] = sample_vds[:,s]\n",
    "            \n",
    "        # ged score\n",
    "        geds = iou_GED(means, ys3d_test, samples)\n",
    "        chal_results['GED^2'] = geds\n",
    "\n",
    "    # get the uncertainty maps\n",
    "    print(\"GENREATING UNCERTAINTY MAPS\")\n",
    "    uncertainty_thresholds = torch.arange(0, 0.7, 0.01)\n",
    "    ent_maps = get_uncertainty_maps(means, samples, miscs, args)\n",
    "\n",
    "    # pavpu\n",
    "    print(\"PAVPU\")\n",
    "    all_acc_cert, all_uncert_inacc,all_pavpu = all_individuals_pavpu(means, ent_maps, ys3d_test, 4, 0.8, uncertainty_thresholds)\n",
    "    \n",
    "    for i, tau in enumerate(uncertainty_thresholds):\n",
    "        chal_results[f'p_acc_cert_{tau:.2f}'] = all_acc_cert[:,i]\n",
    "        chal_results[f'p_uncert_inacc_{tau:.2f}'] = all_uncert_inacc[:,i]\n",
    "        chal_results[f'pavpu_{tau:.2f}'] = all_pavpu[:,i]\n",
    "    \n",
    "    # sUEO score and UEO per threshold\n",
    "    print(\"UEO\")\n",
    "    sUEOs = get_sUEOs(means, ys3d_test, ent_maps)\n",
    "    chal_results['sUEO'] = sUEOs\n",
    "    ueos = UEO_per_threshold_analysis(uncertainty_thresholds, ys3d_test, ent_maps, means, 0.7)\n",
    "    for i, tau in enumerate(uncertainty_thresholds):\n",
    "        chal_results[f'UEO_{tau:.2f}'] = ueos[i]\n",
    "    \n",
    "    # 3D connected component analysis\n",
    "    print(\"3D CC ANALYSIS\")\n",
    "    num_lesions_all, sizes_all, mean_missed_area3d_all, mean_size_missed_lesions3d_all, mean_cov_mean_missed_lesions3d_all, prop_lesions_missed3d_all = do_3d_cc_analysis_per_individual(means, ys3d_test, ent_maps, uncertainty_thresholds)\n",
    "    for i, tau in enumerate(uncertainty_thresholds):\n",
    "        chal_results[f'mean_missed_area3d_all_{tau:.2f}'] = torch.stack(mean_missed_area3d_all)[:,i]\n",
    "        chal_results[f'mean_cov_mean_missed_lesions3d_all_{tau:.2f}'] = torch.stack(mean_cov_mean_missed_lesions3d_all)[:,i]\n",
    "        chal_results[f'mean_size_missed_lesions3d_all_{tau:.2f}'] = torch.stack(mean_size_missed_lesions3d_all)[:,i]\n",
    "        chal_results[f'prop_lesions_missed3d_all_{tau:.2f}'] = torch.stack(prop_lesions_missed3d_all)[:,i]\n",
    "        \n",
    "\n",
    "    # save the results\n",
    "    print(\"SAVING RESULTS\")\n",
    "    results_out_dir = \"/home/s2208943/ipdis/WMH_UQ_assessment/trustworthai/journal_run/evaluation/results/cross_validated_results/out_domain_results/\"\n",
    "    write_per_model_channel_stats(results_out_dir, model_name, f\"{model_name}0_cv{cv_fold}\", preds=None, ys3d_test=None, args=args, chal_results=chal_results)\n",
    "    \n",
    "    print(\"DONE\")"
   ]
  },
  {
<<<<<<< HEAD
   "cell_type": "markdown",
   "id": "d0f6ab00-ac42-4f7f-baff-2393d4172d70",
   "metadata": {},
   "source": [
    "### 3D model M"
=======
   "cell_type": "code",
   "execution_count": 410,
   "id": "bbb69110-80b7-4e85-bead-1fca802529c3",
   "metadata": {},
   "outputs": [],
   "source": [
    "%autoreload"
>>>>>>> origin/wmhuq
   ]
  },
  {
   "cell_type": "code",
<<<<<<< HEAD
   "execution_count": 19,
   "id": "f0c959ad-02fe-4158-bd81-a57a17aabe25",
   "metadata": {},
   "outputs": [
    {
     "name": "stdout",
     "output_type": "stream",
     "text": [
      "nnunet3D_ens0_cv4\n",
      "nnunet3D_ens0_cv3\n",
      "nnunet3D_ens0_cv0\n"
=======
   "execution_count": 422,
   "id": "fa0b6638-fea7-47c7-9207-fd62ce4dee3d",
   "metadata": {},
   "outputs": [
    {
     "name": "stderr",
     "output_type": "stream",
     "text": [
      "60it [00:18,  3.29it/s]\n",
      "100%|███████████████████████████████████████████████████████████████| 60/60 [00:55<00:00,  1.08it/s]\n"
     ]
    },
    {
     "name": "stdout",
     "output_type": "stream",
     "text": [
      "GETTING PER SAMPLE RESULTS\n"
>>>>>>> origin/wmhuq
     ]
    },
    {
     "name": "stderr",
     "output_type": "stream",
     "text": [
<<<<<<< HEAD
      "60it [00:16,  3.63it/s]\n",
      "100%|███████████████████████████████████████████████████████████████| 60/60 [00:59<00:00,  1.01it/s]\n"
=======
      "100%|█████████████████████████████████████████████████████████████████████████████████████████████████████████████████████████████████████████████████████████████████████████████████████████████████████████| 60/60 [00:03<00:00, 18.53it/s]\n",
      "100%|█████████████████████████████████████████████████████████████████████████████████████████████████████████████████████████████████████████████████████████████████████████████████████████████████████████| 60/60 [00:01<00:00, 53.50it/s]\n",
      "100%|█████████████████████████████████████████████████████████████████████████████████████████████████████████████████████████████████████████████████████████████████████████████████████████████████████████| 60/60 [00:01<00:00, 39.39it/s]\n",
      "100%|█████████████████████████████████████████████████████████████████████████████████████████████████████████████████████████████████████████████████████████████████████████████████████████████████████████| 60/60 [00:01<00:00, 47.07it/s]\n",
      "100%|███████████████████████████████████████████████████████████████| 60/60 [00:03<00:00, 17.18it/s]\n"
>>>>>>> origin/wmhuq
     ]
    },
    {
     "name": "stdout",
     "output_type": "stream",
     "text": [
<<<<<<< HEAD
      "GETTING PER SAMPLE RESULTS\n",
      "GENREATING UNCERTAINTY MAPS\n",
      "deterministic\n",
=======
      "GENREATING UNCERTAINTY MAPS\n",
      "ssn\n",
>>>>>>> origin/wmhuq
      "generating uncertainty maps\n"
     ]
    },
    {
     "name": "stderr",
     "output_type": "stream",
     "text": [
<<<<<<< HEAD
      "100%|███████████████████████████████████████████████████████████████| 60/60 [00:01<00:00, 51.01it/s]\n"
=======
      "100%|███████████████████████████████████████████████████████████████| 60/60 [00:10<00:00,  5.66it/s]\n"
>>>>>>> origin/wmhuq
     ]
    },
    {
     "name": "stdout",
     "output_type": "stream",
     "text": [
      "PAVPU\n"
     ]
    },
    {
     "name": "stderr",
     "output_type": "stream",
     "text": [
<<<<<<< HEAD
      "100%|███████████████████████████████████████████████████████████████| 60/60 [00:01<00:00, 45.60it/s]\n"
=======
      "100%|███████████████████████████████████████████████████████████████| 60/60 [00:01<00:00, 46.34it/s]\n"
>>>>>>> origin/wmhuq
     ]
    },
    {
     "name": "stdout",
     "output_type": "stream",
     "text": [
      "UEO\n"
     ]
    },
    {
     "name": "stderr",
     "output_type": "stream",
     "text": [
<<<<<<< HEAD
      "100%|███████████████████████████████████████████████████████████████| 60/60 [00:09<00:00,  6.38it/s]\n",
      "100%|███████████████████████████████████████████████████████████████| 60/60 [00:10<00:00,  5.47it/s]\n"
=======
      "100%|███████████████████████████████████████████████████████████████| 60/60 [00:09<00:00,  6.66it/s]\n",
      "100%|███████████████████████████████████████████████████████████████| 60/60 [00:10<00:00,  5.83it/s]\n"
>>>>>>> origin/wmhuq
     ]
    },
    {
     "name": "stdout",
     "output_type": "stream",
     "text": [
      "3D CC ANALYSIS\n"
     ]
    },
    {
     "name": "stderr",
     "output_type": "stream",
     "text": [
<<<<<<< HEAD
      "100%|███████████████████████████████████████████████████████████████| 60/60 [01:50<00:00,  1.84s/it]"
=======
      "100%|███████████████████████████████████████████████████████████████| 60/60 [01:48<00:00,  1.80s/it]\n"
>>>>>>> origin/wmhuq
     ]
    },
    {
     "name": "stdout",
     "output_type": "stream",
     "text": [
      "SAVING RESULTS\n",
<<<<<<< HEAD
      "DONE\n",
      "nnunet3D_ens0_cv2\n",
      "nnunet3D_ens0_cv5\n",
      "nnunet3D_ens0_cv1\n"
=======
      "DONE\n"
     ]
    }
   ],
   "source": [
    "ssn_ckpt_path = \"/home/s2208943/projects/twaibrain/twaibrain/brainexperiments/run_nnUNet_v2/training/model_ckpts/nnunet_ssn_ens0_cv0/epoch=379-step=17100.ckpt\"\n",
    "get_model_preds(0, model=ssn_model, model_name=\"nnunetSSN25\", ckpt_path=ssn_ckpt_path, model_func=ssn_mean_and_samples)"
   ]
  },
  {
   "cell_type": "code",
   "execution_count": null,
   "id": "a663fce7-4d50-471a-bc70-6af781d2501a",
   "metadata": {},
   "outputs": [
    {
     "name": "stderr",
     "output_type": "stream",
     "text": [
      "60it [00:11,  5.45it/s]\n",
      "100%|███████████████████████████████████████████████████████████████| 60/60 [00:52<00:00,  1.15it/s]\n"
     ]
    },
    {
     "name": "stdout",
     "output_type": "stream",
     "text": [
      "GETTING PER SAMPLE RESULTS\n"
>>>>>>> origin/wmhuq
     ]
    },
    {
     "name": "stderr",
     "output_type": "stream",
     "text": [
<<<<<<< HEAD
      "\n"
=======
      "100%|█████████████████████████████████████████████████████████████████████████████████████████████████████████████████████████████████████████████████████████████████████████████████████████████████████████| 60/60 [00:03<00:00, 19.16it/s]\n",
      "100%|█████████████████████████████████████████████████████████████████████████████████████████████████████████████████████████████████████████████████████████████████████████████████████████████████████████| 60/60 [00:01<00:00, 55.67it/s]\n",
      "100%|█████████████████████████████████████████████████████████████████████████████████████████████████████████████████████████████████████████████████████████████████████████████████████████████████████████| 60/60 [00:01<00:00, 43.61it/s]\n",
      "100%|█████████████████████████████████████████████████████████████████████████████████████████████████████████████████████████████████████████████████████████████████████████████████████████████████████████| 60/60 [00:01<00:00, 57.58it/s]\n",
      "100%|███████████████████████████████████████████████████████████████| 60/60 [00:03<00:00, 19.68it/s]\n"
     ]
    },
    {
     "name": "stdout",
     "output_type": "stream",
     "text": [
      "GENREATING UNCERTAINTY MAPS\n",
      "ssn\n",
      "generating uncertainty maps\n"
     ]
    },
    {
     "name": "stderr",
     "output_type": "stream",
     "text": [
      " 62%|██████████████████████████████████████▊                        | 37/60 [00:07<00:04,  5.43it/s]"
>>>>>>> origin/wmhuq
     ]
    }
   ],
   "source": [
<<<<<<< HEAD
    "base_folder = \"/home/s2208943/projects/twaibrain/twaibrain/brainexperiments/run_nnUNet_v2/training/model_ckpts/\"\n",
    "for folder in os.listdir(base_folder):\n",
    "    if \"2D\" in folder:\n",
    "        continue\n",
    "    print(folder)\n",
    "    cv_split = folder[-1]\n",
    "\n",
    "    if int(cv_split) != 0:\n",
    "        continue\n",
    "    \n",
    "    ckpt = sorted([f for f in os.listdir(os.path.join(base_folder, folder)) if f.endswith(\".ckpt\")])[-1]\n",
    "    get_model_preds(cv_split, model=model, model_name=\"nnunet3D\", ckpt_path=os.path.join(base_folder, folder, ckpt), model_func=deterministic_mean)"
=======
    "ssn_ckpt_path = \"/home/s2208943/projects/twaibrain/twaibrain/brainexperiments/run_nnUNet_v2/training/model_ckpts/nnunet_ssn_ens0_cv1/epoch=423-step=19080.ckpt\"\n",
    "get_model_preds(1, model=ssn_model, model_name=\"nnunetSSN25\", ckpt_path=ssn_ckpt_path, model_func=ssn_mean_and_samples)"
>>>>>>> origin/wmhuq
   ]
  },
  {
   "cell_type": "code",
<<<<<<< HEAD
   "execution_count": null,
   "id": "c9cafa41-f35d-4f59-9626-49425a95c4a4",
   "metadata": {},
   "outputs": [],
   "source": []
  },
  {
   "cell_type": "code",
   "execution_count": null,
   "id": "18190e25-468f-4128-8169-b824f8c9380a",
   "metadata": {},
   "outputs": [],
   "source": []
  },
  {
   "cell_type": "code",
   "execution_count": null,
   "id": "f4a3e316-86a4-4cc4-9660-ee15e37a2135",
   "metadata": {},
   "outputs": [],
   "source": []
  },
  {
   "cell_type": "code",
   "execution_count": null,
   "id": "033d2175-7996-45f5-b451-d4e4b6a8bb21",
=======
   "execution_count": 429,
   "id": "960acdfe-c9d0-4b4b-8e57-e765b0ccd039",
   "metadata": {},
   "outputs": [
    {
     "name": "stderr",
     "output_type": "stream",
     "text": [
      "60it [00:12,  4.70it/s]\n",
      "100%|███████████████████████████████████████████████████████████████| 60/60 [00:51<00:00,  1.15it/s]\n"
     ]
    },
    {
     "name": "stdout",
     "output_type": "stream",
     "text": [
      "GETTING PER SAMPLE RESULTS\n"
     ]
    },
    {
     "name": "stderr",
     "output_type": "stream",
     "text": [
      "100%|█████████████████████████████████████████████████████████████████████████████████████████████████████████████████████████████████████████████████████████████████████████████████████████████████████████| 60/60 [00:03<00:00, 18.92it/s]\n",
      "100%|█████████████████████████████████████████████████████████████████████████████████████████████████████████████████████████████████████████████████████████████████████████████████████████████████████████| 60/60 [00:01<00:00, 53.85it/s]\n",
      "100%|█████████████████████████████████████████████████████████████████████████████████████████████████████████████████████████████████████████████████████████████████████████████████████████████████████████| 60/60 [00:01<00:00, 37.71it/s]\n",
      "100%|█████████████████████████████████████████████████████████████████████████████████████████████████████████████████████████████████████████████████████████████████████████████████████████████████████████| 60/60 [00:01<00:00, 47.58it/s]\n",
      "100%|███████████████████████████████████████████████████████████████| 60/60 [00:03<00:00, 17.80it/s]\n"
     ]
    },
    {
     "name": "stdout",
     "output_type": "stream",
     "text": [
      "GENREATING UNCERTAINTY MAPS\n",
      "ssn\n",
      "generating uncertainty maps\n"
     ]
    },
    {
     "name": "stderr",
     "output_type": "stream",
     "text": [
      "100%|███████████████████████████████████████████████████████████████| 60/60 [00:09<00:00,  6.09it/s]\n"
     ]
    },
    {
     "name": "stdout",
     "output_type": "stream",
     "text": [
      "PAVPU\n"
     ]
    },
    {
     "name": "stderr",
     "output_type": "stream",
     "text": [
      "100%|███████████████████████████████████████████████████████████████| 60/60 [00:01<00:00, 47.09it/s]\n"
     ]
    },
    {
     "name": "stdout",
     "output_type": "stream",
     "text": [
      "UEO\n"
     ]
    },
    {
     "name": "stderr",
     "output_type": "stream",
     "text": [
      "100%|███████████████████████████████████████████████████████████████| 60/60 [00:09<00:00,  6.40it/s]\n",
      "100%|███████████████████████████████████████████████████████████████| 60/60 [00:10<00:00,  5.62it/s]\n"
     ]
    },
    {
     "name": "stdout",
     "output_type": "stream",
     "text": [
      "3D CC ANALYSIS\n"
     ]
    },
    {
     "name": "stderr",
     "output_type": "stream",
     "text": [
      "100%|███████████████████████████████████████████████████████████████| 60/60 [01:51<00:00,  1.85s/it]\n"
     ]
    },
    {
     "name": "stdout",
     "output_type": "stream",
     "text": [
      "SAVING RESULTS\n",
      "DONE\n"
     ]
    }
   ],
   "source": [
    "ssn_ckpt_path = \"/home/s2208943/projects/twaibrain/twaibrain/brainexperiments/run_nnUNet_v2/training/model_ckpts/nnunet_ssn_ens0_cv2/epoch=423-step=19080.ckpt\"\n",
    "get_model_preds(2, model=ssn_model, model_name=\"nnunetSSN25\", ckpt_path=ssn_ckpt_path, model_func=ssn_mean_and_samples)"
   ]
  },
  {
   "cell_type": "code",
   "execution_count": 430,
   "id": "091f152e-2d8b-4876-a4d6-116a3a85da6e",
   "metadata": {},
   "outputs": [
    {
     "name": "stderr",
     "output_type": "stream",
     "text": [
      "60it [00:11,  5.34it/s]\n",
      "100%|███████████████████████████████████████████████████████████████| 60/60 [00:51<00:00,  1.17it/s]\n"
     ]
    },
    {
     "name": "stdout",
     "output_type": "stream",
     "text": [
      "GETTING PER SAMPLE RESULTS\n"
     ]
    },
    {
     "name": "stderr",
     "output_type": "stream",
     "text": [
      "100%|█████████████████████████████████████████████████████████████████████████████████████████████████████████████████████████████████████████████████████████████████████████████████████████████████████████| 60/60 [00:03<00:00, 19.68it/s]\n",
      "100%|█████████████████████████████████████████████████████████████████████████████████████████████████████████████████████████████████████████████████████████████████████████████████████████████████████████| 60/60 [00:01<00:00, 51.38it/s]\n",
      "100%|█████████████████████████████████████████████████████████████████████████████████████████████████████████████████████████████████████████████████████████████████████████████████████████████████████████| 60/60 [00:01<00:00, 44.17it/s]\n",
      "100%|█████████████████████████████████████████████████████████████████████████████████████████████████████████████████████████████████████████████████████████████████████████████████████████████████████████| 60/60 [00:01<00:00, 57.28it/s]\n",
      "100%|███████████████████████████████████████████████████████████████| 60/60 [00:03<00:00, 19.58it/s]\n"
     ]
    },
    {
     "name": "stdout",
     "output_type": "stream",
     "text": [
      "GENREATING UNCERTAINTY MAPS\n",
      "ssn\n",
      "generating uncertainty maps\n"
     ]
    },
    {
     "name": "stderr",
     "output_type": "stream",
     "text": [
      "100%|███████████████████████████████████████████████████████████████| 60/60 [00:09<00:00,  6.02it/s]\n"
     ]
    },
    {
     "name": "stdout",
     "output_type": "stream",
     "text": [
      "PAVPU\n"
     ]
    },
    {
     "name": "stderr",
     "output_type": "stream",
     "text": [
      "100%|███████████████████████████████████████████████████████████████| 60/60 [00:01<00:00, 44.26it/s]\n"
     ]
    },
    {
     "name": "stdout",
     "output_type": "stream",
     "text": [
      "UEO\n"
     ]
    },
    {
     "name": "stderr",
     "output_type": "stream",
     "text": [
      "100%|███████████████████████████████████████████████████████████████| 60/60 [00:09<00:00,  6.41it/s]\n",
      "100%|███████████████████████████████████████████████████████████████| 60/60 [00:11<00:00,  5.43it/s]\n"
     ]
    },
    {
     "name": "stdout",
     "output_type": "stream",
     "text": [
      "3D CC ANALYSIS\n"
     ]
    },
    {
     "name": "stderr",
     "output_type": "stream",
     "text": [
      "100%|███████████████████████████████████████████████████████████████| 60/60 [01:48<00:00,  1.81s/it]\n"
     ]
    },
    {
     "name": "stdout",
     "output_type": "stream",
     "text": [
      "SAVING RESULTS\n",
      "DONE\n"
     ]
    }
   ],
   "source": [
    "ssn_ckpt_path = \"/home/s2208943/projects/twaibrain/twaibrain/brainexperiments/run_nnUNet_v2/training/model_ckpts/nnunet_ssn_ens0_cv3/epoch=472-step=21285.ckpt\"\n",
    "get_model_preds(3, model=ssn_model, model_name=\"nnunetSSN25\", ckpt_path=ssn_ckpt_path, model_func=ssn_mean_and_samples)"
   ]
  },
  {
   "cell_type": "code",
   "execution_count": 431,
   "id": "9704bfe1-0cbb-47ac-9d53-c8ce899b2c0a",
   "metadata": {},
   "outputs": [
    {
     "name": "stderr",
     "output_type": "stream",
     "text": [
      "60it [00:11,  5.39it/s]\n",
      "100%|███████████████████████████████████████████████████████████████| 60/60 [00:53<00:00,  1.13it/s]\n"
     ]
    },
    {
     "name": "stdout",
     "output_type": "stream",
     "text": [
      "GETTING PER SAMPLE RESULTS\n"
     ]
    },
    {
     "name": "stderr",
     "output_type": "stream",
     "text": [
      "100%|█████████████████████████████████████████████████████████████████████████████████████████████████████████████████████████████████████████████████████████████████████████████████████████████████████████| 60/60 [00:02<00:00, 21.65it/s]\n",
      "100%|█████████████████████████████████████████████████████████████████████████████████████████████████████████████████████████████████████████████████████████████████████████████████████████████████████████| 60/60 [00:00<00:00, 60.32it/s]\n",
      "100%|█████████████████████████████████████████████████████████████████████████████████████████████████████████████████████████████████████████████████████████████████████████████████████████████████████████| 60/60 [00:01<00:00, 42.91it/s]\n",
      "100%|█████████████████████████████████████████████████████████████████████████████████████████████████████████████████████████████████████████████████████████████████████████████████████████████████████████| 60/60 [00:01<00:00, 57.52it/s]\n",
      "100%|███████████████████████████████████████████████████████████████| 60/60 [00:03<00:00, 19.45it/s]\n"
     ]
    },
    {
     "name": "stdout",
     "output_type": "stream",
     "text": [
      "GENREATING UNCERTAINTY MAPS\n",
      "ssn\n",
      "generating uncertainty maps\n"
     ]
    },
    {
     "name": "stderr",
     "output_type": "stream",
     "text": [
      "100%|███████████████████████████████████████████████████████████████| 60/60 [00:08<00:00,  7.02it/s]\n"
     ]
    },
    {
     "name": "stdout",
     "output_type": "stream",
     "text": [
      "PAVPU\n"
     ]
    },
    {
     "name": "stderr",
     "output_type": "stream",
     "text": [
      "100%|███████████████████████████████████████████████████████████████| 60/60 [00:01<00:00, 54.91it/s]\n"
     ]
    },
    {
     "name": "stdout",
     "output_type": "stream",
     "text": [
      "UEO\n"
     ]
    },
    {
     "name": "stderr",
     "output_type": "stream",
     "text": [
      "100%|███████████████████████████████████████████████████████████████| 60/60 [00:08<00:00,  6.94it/s]\n",
      "100%|███████████████████████████████████████████████████████████████| 60/60 [00:10<00:00,  5.48it/s]\n"
     ]
    },
    {
     "name": "stdout",
     "output_type": "stream",
     "text": [
      "3D CC ANALYSIS\n"
     ]
    },
    {
     "name": "stderr",
     "output_type": "stream",
     "text": [
      "100%|███████████████████████████████████████████████████████████████| 60/60 [01:47<00:00,  1.79s/it]\n"
     ]
    },
    {
     "name": "stdout",
     "output_type": "stream",
     "text": [
      "SAVING RESULTS\n",
      "DONE\n"
     ]
    }
   ],
   "source": [
    "ssn_ckpt_path = \"/home/s2208943/projects/twaibrain/twaibrain/brainexperiments/run_nnUNet_v2/training/model_ckpts/nnunet_ssn_ens0_cv4/epoch=408-step=18405.ckpt\"\n",
    "get_model_preds(4, model=ssn_model, model_name=\"nnunetSSN25\", ckpt_path=ssn_ckpt_path, model_func=ssn_mean_and_samples)"
   ]
  },
  {
   "cell_type": "code",
   "execution_count": 432,
   "id": "a4c2dbd7-6406-4fd3-bbae-9963c6b878a8",
   "metadata": {},
   "outputs": [
    {
     "name": "stderr",
     "output_type": "stream",
     "text": [
      "60it [00:11,  5.39it/s]\n",
      "100%|███████████████████████████████████████████████████████████████| 60/60 [00:52<00:00,  1.15it/s]\n"
     ]
    },
    {
     "name": "stdout",
     "output_type": "stream",
     "text": [
      "GETTING PER SAMPLE RESULTS\n"
     ]
    },
    {
     "name": "stderr",
     "output_type": "stream",
     "text": [
      "100%|█████████████████████████████████████████████████████████████████████████████████████████████████████████████████████████████████████████████████████████████████████████████████████████████████████████| 60/60 [00:03<00:00, 19.07it/s]\n",
      "100%|█████████████████████████████████████████████████████████████████████████████████████████████████████████████████████████████████████████████████████████████████████████████████████████████████████████| 60/60 [00:01<00:00, 56.49it/s]\n",
      "100%|█████████████████████████████████████████████████████████████████████████████████████████████████████████████████████████████████████████████████████████████████████████████████████████████████████████| 60/60 [00:01<00:00, 42.23it/s]\n",
      "100%|█████████████████████████████████████████████████████████████████████████████████████████████████████████████████████████████████████████████████████████████████████████████████████████████████████████| 60/60 [00:01<00:00, 53.79it/s]\n",
      "100%|███████████████████████████████████████████████████████████████| 60/60 [00:03<00:00, 19.23it/s]\n"
     ]
    },
    {
     "name": "stdout",
     "output_type": "stream",
     "text": [
      "GENREATING UNCERTAINTY MAPS\n",
      "ssn\n",
      "generating uncertainty maps\n"
     ]
    },
    {
     "name": "stderr",
     "output_type": "stream",
     "text": [
      "100%|███████████████████████████████████████████████████████████████| 60/60 [00:10<00:00,  5.86it/s]\n"
     ]
    },
    {
     "name": "stdout",
     "output_type": "stream",
     "text": [
      "PAVPU\n"
     ]
    },
    {
     "name": "stderr",
     "output_type": "stream",
     "text": [
      "100%|███████████████████████████████████████████████████████████████| 60/60 [00:01<00:00, 49.38it/s]\n"
     ]
    },
    {
     "name": "stdout",
     "output_type": "stream",
     "text": [
      "UEO\n"
     ]
    },
    {
     "name": "stderr",
     "output_type": "stream",
     "text": [
      "100%|███████████████████████████████████████████████████████████████| 60/60 [00:08<00:00,  6.83it/s]\n",
      "100%|███████████████████████████████████████████████████████████████| 60/60 [00:10<00:00,  5.79it/s]\n"
     ]
    },
    {
     "name": "stdout",
     "output_type": "stream",
     "text": [
      "3D CC ANALYSIS\n"
     ]
    },
    {
     "name": "stderr",
     "output_type": "stream",
     "text": [
      "100%|███████████████████████████████████████████████████████████████| 60/60 [01:48<00:00,  1.80s/it]\n"
     ]
    },
    {
     "name": "stdout",
     "output_type": "stream",
     "text": [
      "SAVING RESULTS\n",
      "DONE\n"
     ]
    }
   ],
   "source": [
    "ssn_ckpt_path = \"/home/s2208943/projects/twaibrain/twaibrain/brainexperiments/run_nnUNet_v2/training/model_ckpts/nnunet_ssn_ens0_cv5/epoch=416-step=18765.ckpt\"\n",
    "get_model_preds(5, model=ssn_model, model_name=\"nnunetSSN25\", ckpt_path=ssn_ckpt_path, model_func=ssn_mean_and_samples)"
   ]
  },
  {
   "cell_type": "code",
   "execution_count": 427,
   "id": "e9b2b32b-15f0-42ad-9236-3f3ee7b97c11",
   "metadata": {},
   "outputs": [
    {
     "name": "stdout",
     "output_type": "stream",
     "text": [
      "done\n"
     ]
    }
   ],
   "source": [
    "print(\"done\")"
   ]
  },
  {
   "cell_type": "code",
   "execution_count": null,
   "id": "e31a5ece-4cfc-4546-a0f5-51c55518bdaf",
   "metadata": {},
   "outputs": [],
   "source": []
  },
  {
   "cell_type": "code",
   "execution_count": 402,
   "id": "63431f80-1ca4-4498-a4bf-4e6a3dfa3f18",
   "metadata": {},
   "outputs": [
    {
     "name": "stderr",
     "output_type": "stream",
     "text": [
      "60it [00:12,  4.72it/s]\n",
      "100%|███████████████████████████████████████████████████████████████| 60/60 [00:51<00:00,  1.18it/s]\n"
     ]
    },
    {
     "name": "stdout",
     "output_type": "stream",
     "text": [
      "GETTING PER SAMPLE RESULTS\n"
     ]
    },
    {
     "name": "stderr",
     "output_type": "stream",
     "text": [
      "100%|█████████████████████████████████████████████████████████████████████████████████████████████████████████████████████████████████████████████████████████████████████████████████████████████████████████| 60/60 [00:03<00:00, 19.23it/s]\n",
      "100%|█████████████████████████████████████████████████████████████████████████████████████████████████████████████████████████████████████████████████████████████████████████████████████████████████████████| 60/60 [00:01<00:00, 39.71it/s]\n",
      "100%|█████████████████████████████████████████████████████████████████████████████████████████████████████████████████████████████████████████████████████████████████████████████████████████████████████████| 60/60 [00:01<00:00, 35.53it/s]\n",
      "100%|█████████████████████████████████████████████████████████████████████████████████████████████████████████████████████████████████████████████████████████████████████████████████████████████████████████| 60/60 [00:01<00:00, 47.49it/s]\n",
      "100%|███████████████████████████████████████████████████████████████| 60/60 [00:03<00:00, 19.14it/s]\n"
     ]
    },
    {
     "name": "stdout",
     "output_type": "stream",
     "text": [
      "GENREATING UNCERTAINTY MAPS\n",
      "ssn\n",
      "generating uncertainty maps\n"
     ]
    },
    {
     "name": "stderr",
     "output_type": "stream",
     "text": [
      "100%|███████████████████████████████████████████████████████████████| 60/60 [00:03<00:00, 16.62it/s]\n"
     ]
    },
    {
     "name": "stdout",
     "output_type": "stream",
     "text": [
      "PAVPU\n"
     ]
    },
    {
     "name": "stderr",
     "output_type": "stream",
     "text": [
      "100%|███████████████████████████████████████████████████████████████| 60/60 [00:01<00:00, 46.97it/s]\n"
     ]
    },
    {
     "name": "stdout",
     "output_type": "stream",
     "text": [
      "UEO\n"
     ]
    },
    {
     "name": "stderr",
     "output_type": "stream",
     "text": [
      "100%|███████████████████████████████████████████████████████████████| 60/60 [00:08<00:00,  7.29it/s]\n",
      "100%|███████████████████████████████████████████████████████████████| 60/60 [00:10<00:00,  5.68it/s]\n"
     ]
    },
    {
     "name": "stdout",
     "output_type": "stream",
     "text": [
      "3D CC ANALYSIS\n"
     ]
    },
    {
     "name": "stderr",
     "output_type": "stream",
     "text": [
      "100%|███████████████████████████████████████████████████████████████| 60/60 [01:50<00:00,  1.84s/it]\n"
     ]
    },
    {
     "name": "stdout",
     "output_type": "stream",
     "text": [
      "SAVING RESULTS\n",
      "DONE\n"
     ]
    }
   ],
   "source": [
    "ssn_ckpt_path = \"/home/s2208943/projects/twaibrain/twaibrain/brainexperiments/run_nnUNet_v2/training/model_ckpts/nnunet_ssn_50_head/epoch=403-step=36360.ckpt\"\n",
    "get_model_preds(0, model=ssn_model, model_name=\"nnunetSSN50\", ckpt_path=ssn_ckpt_path, model_func=ssn_mean_and_samples)"
   ]
  },
  {
   "cell_type": "code",
   "execution_count": 401,
   "id": "78bc59a3-c594-40a4-a5da-f69b6c318d67",
   "metadata": {},
   "outputs": [],
   "source": [
    "# ssn_ckpt_path = \"/home/s2208943/projects/twaibrain/twaibrain/brainexperiments/run_nnUNet_v2/training/model_ckpts/nnunet_ssn_600_head_only/epoch=469-step=42300.ckpt\"\n",
    "# get_model_preds(0, model=ssn_model, model_name=\"nnunetSSN100\", ckpt_path=ssn_ckpt_path, model_func=ssn_mean_and_samples)"
   ]
  },
  {
   "cell_type": "code",
   "execution_count": 357,
   "id": "e3d947a4-9648-4fef-a0ff-fc48d77564c4",
   "metadata": {},
   "outputs": [],
   "source": [
    "get_model_preds(0)"
   ]
  },
  {
   "cell_type": "code",
   "execution_count": 336,
   "id": "fc5f2fbe-e99c-4d82-8993-9eb3b53716fe",
   "metadata": {},
   "outputs": [
    {
     "name": "stderr",
     "output_type": "stream",
     "text": [
      "60it [00:12,  4.71it/s]\n",
      "100%|███████████████████████████████████████████████████████████████| 60/60 [00:50<00:00,  1.19it/s]\n"
     ]
    },
    {
     "name": "stdout",
     "output_type": "stream",
     "text": [
      "GETTING PER SAMPLE RESULTS\n",
      "GENREATING UNCERTAINTY MAPS\n",
      "deterministic\n",
      "generating uncertainty maps\n"
     ]
    },
    {
     "name": "stderr",
     "output_type": "stream",
     "text": [
      "100%|██████████████████████████████████████████████████████████████| 60/60 [00:00<00:00, 242.08it/s]\n"
     ]
    },
    {
     "name": "stdout",
     "output_type": "stream",
     "text": [
      "PAVPU\n"
     ]
    },
    {
     "name": "stderr",
     "output_type": "stream",
     "text": [
      "100%|███████████████████████████████████████████████████████████████| 60/60 [00:01<00:00, 51.74it/s]\n"
     ]
    },
    {
     "name": "stdout",
     "output_type": "stream",
     "text": [
      "UEO\n"
     ]
    },
    {
     "name": "stderr",
     "output_type": "stream",
     "text": [
      "100%|███████████████████████████████████████████████████████████████| 60/60 [00:09<00:00,  6.40it/s]\n",
      "100%|███████████████████████████████████████████████████████████████| 60/60 [00:10<00:00,  5.46it/s]\n"
     ]
    },
    {
     "name": "stdout",
     "output_type": "stream",
     "text": [
      "3D CC ANALYSIS\n"
     ]
    },
    {
     "name": "stderr",
     "output_type": "stream",
     "text": [
      "100%|███████████████████████████████████████████████████████████████| 60/60 [01:49<00:00,  1.82s/it]\n"
     ]
    },
    {
     "name": "stdout",
     "output_type": "stream",
     "text": [
      "SAVING RESULTS\n",
      "DONE\n"
     ]
    }
   ],
   "source": [
    "get_model_preds(1)"
   ]
  },
  {
   "cell_type": "code",
   "execution_count": 337,
   "id": "e0061124-e622-48da-8f01-f7a66582a711",
   "metadata": {},
   "outputs": [
    {
     "name": "stderr",
     "output_type": "stream",
     "text": [
      "60it [00:12,  4.62it/s]\n",
      "100%|███████████████████████████████████████████████████████████████| 60/60 [00:50<00:00,  1.19it/s]\n"
     ]
    },
    {
     "name": "stdout",
     "output_type": "stream",
     "text": [
      "GETTING PER SAMPLE RESULTS\n",
      "GENREATING UNCERTAINTY MAPS\n",
      "deterministic\n",
      "generating uncertainty maps\n"
     ]
    },
    {
     "name": "stderr",
     "output_type": "stream",
     "text": [
      "100%|███████████████████████████████████████████████████████████████| 60/60 [00:05<00:00, 10.76it/s]\n"
     ]
    },
    {
     "name": "stdout",
     "output_type": "stream",
     "text": [
      "PAVPU\n"
     ]
    },
    {
     "name": "stderr",
     "output_type": "stream",
     "text": [
      "100%|███████████████████████████████████████████████████████████████| 60/60 [00:01<00:00, 54.40it/s]\n"
     ]
    },
    {
     "name": "stdout",
     "output_type": "stream",
     "text": [
      "UEO\n"
     ]
    },
    {
     "name": "stderr",
     "output_type": "stream",
     "text": [
      "100%|███████████████████████████████████████████████████████████████| 60/60 [00:08<00:00,  6.87it/s]\n",
      "100%|███████████████████████████████████████████████████████████████| 60/60 [00:09<00:00,  6.17it/s]\n"
     ]
    },
    {
     "name": "stdout",
     "output_type": "stream",
     "text": [
      "3D CC ANALYSIS\n"
     ]
    },
    {
     "name": "stderr",
     "output_type": "stream",
     "text": [
      "100%|███████████████████████████████████████████████████████████████| 60/60 [01:47<00:00,  1.79s/it]\n"
     ]
    },
    {
     "name": "stdout",
     "output_type": "stream",
     "text": [
      "SAVING RESULTS\n",
      "DONE\n"
     ]
    }
   ],
   "source": [
    "get_model_preds(2)"
   ]
  },
  {
   "cell_type": "code",
   "execution_count": 338,
   "id": "a72bffb7-dee5-4c50-bc81-2eb4c0fc56b1",
   "metadata": {},
   "outputs": [
    {
     "name": "stderr",
     "output_type": "stream",
     "text": [
      "60it [00:13,  4.51it/s]\n",
      "100%|███████████████████████████████████████████████████████████████| 60/60 [00:50<00:00,  1.20it/s]\n"
     ]
    },
    {
     "name": "stdout",
     "output_type": "stream",
     "text": [
      "GETTING PER SAMPLE RESULTS\n",
      "GENREATING UNCERTAINTY MAPS\n",
      "deterministic\n",
      "generating uncertainty maps\n"
     ]
    },
    {
     "name": "stderr",
     "output_type": "stream",
     "text": [
      "100%|██████████████████████████████████████████████████████████████| 60/60 [00:00<00:00, 133.47it/s]\n"
     ]
    },
    {
     "name": "stdout",
     "output_type": "stream",
     "text": [
      "PAVPU\n"
     ]
    },
    {
     "name": "stderr",
     "output_type": "stream",
     "text": [
      "100%|███████████████████████████████████████████████████████████████| 60/60 [00:01<00:00, 51.10it/s]\n"
     ]
    },
    {
     "name": "stdout",
     "output_type": "stream",
     "text": [
      "UEO\n"
     ]
    },
    {
     "name": "stderr",
     "output_type": "stream",
     "text": [
      "100%|███████████████████████████████████████████████████████████████| 60/60 [00:08<00:00,  7.01it/s]\n",
      "100%|███████████████████████████████████████████████████████████████| 60/60 [00:10<00:00,  5.76it/s]\n"
     ]
    },
    {
     "name": "stdout",
     "output_type": "stream",
     "text": [
      "3D CC ANALYSIS\n"
     ]
    },
    {
     "name": "stderr",
     "output_type": "stream",
     "text": [
      "100%|███████████████████████████████████████████████████████████████| 60/60 [01:47<00:00,  1.79s/it]\n"
     ]
    },
    {
     "name": "stdout",
     "output_type": "stream",
     "text": [
      "SAVING RESULTS\n",
      "DONE\n"
     ]
    }
   ],
   "source": [
    "get_model_preds(3)"
   ]
  },
  {
   "cell_type": "code",
   "execution_count": 339,
   "id": "32746972-ca80-4774-9f02-67204535b01e",
   "metadata": {},
   "outputs": [
    {
     "name": "stderr",
     "output_type": "stream",
     "text": [
      "60it [00:12,  4.64it/s]\n",
      "100%|███████████████████████████████████████████████████████████████| 60/60 [00:49<00:00,  1.21it/s]\n"
     ]
    },
    {
     "name": "stdout",
     "output_type": "stream",
     "text": [
      "GETTING PER SAMPLE RESULTS\n",
      "GENREATING UNCERTAINTY MAPS\n",
      "deterministic\n",
      "generating uncertainty maps\n"
     ]
    },
    {
     "name": "stderr",
     "output_type": "stream",
     "text": [
      "100%|███████████████████████████████████████████████████████████████| 60/60 [00:05<00:00, 10.46it/s]\n"
     ]
    },
    {
     "name": "stdout",
     "output_type": "stream",
     "text": [
      "PAVPU\n"
     ]
    },
    {
     "name": "stderr",
     "output_type": "stream",
     "text": [
      "100%|███████████████████████████████████████████████████████████████| 60/60 [00:01<00:00, 53.94it/s]\n"
     ]
    },
    {
     "name": "stdout",
     "output_type": "stream",
     "text": [
      "UEO\n"
     ]
    },
    {
     "name": "stderr",
     "output_type": "stream",
     "text": [
      "100%|███████████████████████████████████████████████████████████████| 60/60 [00:08<00:00,  6.68it/s]\n",
      "100%|███████████████████████████████████████████████████████████████| 60/60 [00:10<00:00,  5.67it/s]\n"
     ]
    },
    {
     "name": "stdout",
     "output_type": "stream",
     "text": [
      "3D CC ANALYSIS\n"
     ]
    },
    {
     "name": "stderr",
     "output_type": "stream",
     "text": [
      "100%|███████████████████████████████████████████████████████████████| 60/60 [01:49<00:00,  1.82s/it]\n"
     ]
    },
    {
     "name": "stdout",
     "output_type": "stream",
     "text": [
      "SAVING RESULTS\n",
      "DONE\n"
     ]
    }
   ],
   "source": [
    "get_model_preds(4)"
   ]
  },
  {
   "cell_type": "code",
   "execution_count": 340,
   "id": "8c7dc2e7-8151-4552-b22c-cdc2488af159",
   "metadata": {},
   "outputs": [
    {
     "name": "stderr",
     "output_type": "stream",
     "text": [
      "60it [00:12,  4.78it/s]\n",
      "100%|███████████████████████████████████████████████████████████████| 60/60 [00:49<00:00,  1.22it/s]\n"
     ]
    },
    {
     "name": "stdout",
     "output_type": "stream",
     "text": [
      "GETTING PER SAMPLE RESULTS\n",
      "GENREATING UNCERTAINTY MAPS\n",
      "deterministic\n",
      "generating uncertainty maps\n"
     ]
    },
    {
     "name": "stderr",
     "output_type": "stream",
     "text": [
      "100%|███████████████████████████████████████████████████████████████| 60/60 [00:00<00:00, 78.50it/s]\n"
     ]
    },
    {
     "name": "stdout",
     "output_type": "stream",
     "text": [
      "PAVPU\n"
     ]
    },
    {
     "name": "stderr",
     "output_type": "stream",
     "text": [
      "100%|███████████████████████████████████████████████████████████████| 60/60 [00:01<00:00, 51.44it/s]\n"
     ]
    },
    {
     "name": "stdout",
     "output_type": "stream",
     "text": [
      "UEO\n"
     ]
    },
    {
     "name": "stderr",
     "output_type": "stream",
     "text": [
      "100%|███████████████████████████████████████████████████████████████| 60/60 [00:08<00:00,  7.16it/s]\n",
      "100%|███████████████████████████████████████████████████████████████| 60/60 [00:09<00:00,  6.18it/s]\n"
     ]
    },
    {
     "name": "stdout",
     "output_type": "stream",
     "text": [
      "3D CC ANALYSIS\n"
     ]
    },
    {
     "name": "stderr",
     "output_type": "stream",
     "text": [
      "100%|███████████████████████████████████████████████████████████████| 60/60 [01:46<00:00,  1.78s/it]\n"
     ]
    },
    {
     "name": "stdout",
     "output_type": "stream",
     "text": [
      "SAVING RESULTS\n",
      "DONE\n"
     ]
    }
   ],
   "source": [
    "get_model_preds(5)"
   ]
  },
  {
   "cell_type": "markdown",
   "id": "c54e3fdf-2d54-40b1-a1b9-96be6bffb963",
   "metadata": {},
   "source": [
    "### storing the model outputs"
   ]
  },
  {
   "cell_type": "code",
   "execution_count": 210,
   "id": "10f67f10-3842-49f1-819b-3ac96437d026",
   "metadata": {},
   "outputs": [],
   "source": [
    "litmodel = get_model_preds(0)"
   ]
  },
  {
   "cell_type": "code",
   "execution_count": 307,
   "id": "8093cf75-6da1-4b91-8c2d-a4a793a77cc9",
   "metadata": {},
   "outputs": [],
   "source": [
    "def evaluate_dataset(model_raw, full_ds, mss3_ids, output_dir):\n",
    "    start = 0\n",
    "    end = 10\n",
    "    \n",
    "    while end < len(full_ds):\n",
    "        ds = LimitedSizeDataset(full_ds, start=start, end=end)\n",
    "        IDs = mss3_ids[start:end]\n",
    "    \n",
    "        start = end\n",
    "        end += 10\n",
    "    \n",
    "        # get predictions\n",
    "        means, samples, misc = get_nnunet_means_and_samples(model_raw, ds, num_samples=10, model_func_name=args.uncertainty_type, args=args)\n",
    "        means = [m.squeeze(0).swapaxes(0, 1)[:,:2] for m in means]\n",
    "        \n",
    "        # get uncertainty maps\n",
    "        ent_maps = get_uncertainty_maps(means, samples, misc, args)\n",
    "    \n",
    "        # write results\n",
    "        write__output_map_results_to_disk(args, IDs, ent_maps, means, output_dir=output_dir)\n",
    "\n",
    "        # break\n"
   ]
  },
  {
   "cell_type": "code",
   "execution_count": 209,
   "id": "ebaadcdf-e7b0-473b-9435-f72644a65a3c",
   "metadata": {},
   "outputs": [],
   "source": [
    "mss3_parser = MSS3MultiRaterDataParser(\n",
    "    # paths on the cluster for the in house data\n",
    "    \"/home/s2208943/datasets/Inter_observer\",\n",
    "    \"/home/s2208943/preprocessed_data/MSS3_InterRaterData\"\n",
    ")\n",
    "\n",
    "mss3_ds = ArrayMRISegmentationDatasetFromFile(mss3_parser) \n",
    "\n",
    "mss3_ids = [out[2] for out in mss3_ds]\n",
    "\n",
    "mss3_output_dir = \"/home/s2208943/preprocessed_data/MSS3_InterRaterData/output_maps/nnunet/\""
   ]
  },
  {
   "cell_type": "code",
   "execution_count": 322,
   "id": "da3b12ce-252b-474d-bd54-f6ef6d71633a",
   "metadata": {},
   "outputs": [
    {
     "data": {
      "text/plain": [
       "68"
      ]
     },
     "execution_count": 322,
     "metadata": {},
     "output_type": "execute_result"
    }
   ],
   "source": [
    "len(mss3_ids)"
   ]
  },
  {
   "cell_type": "code",
   "execution_count": 311,
   "id": "3bad908d-b4f8-414e-8572-3e275f5b5890",
   "metadata": {},
   "outputs": [],
   "source": [
    "domains_chal_train = [\"training_Singapore\", \"training_Utrecht\", \"training_Amsterdam_GE3T\"]\n",
    "    \n",
    "chal_ds_train = ConcatDataset([\n",
    "    MRISegmentation3DDataset(\"/home/s2208943/preprocessed_data/WMHChallenge_InterRaterData/collated\", no_labels=True, xy_only=False, domain_name=dn)\n",
    "    for dn in domains_chal_train\n",
    "])\n",
    "\n",
    "chal_train_ids = [out[2] for out in chal_ds_train]\n",
    "\n",
    "chal_train_output_dir = \"/home/s2208943/preprocessed_data/WMHChallenge_InterRaterData/output_maps/training/nnunet/\""
   ]
  },
  {
   "cell_type": "code",
   "execution_count": 317,
   "id": "d427020d-948d-4df7-9750-da40fba3b422",
   "metadata": {},
   "outputs": [],
   "source": [
    "domains_chal_test = [\"test_Amsterdam_GE1T5\", \"test_Amsterdam_Philips_VU_PETMR_01\", \"test_Utrecht\", \"test_Amsterdam_GE3T\", \"test_Singapore\"]\n",
    "    \n",
    "chal_ds_test = ConcatDataset([\n",
    "    MRISegmentation3DDataset(\"/home/s2208943/preprocessed_data/WMHChallenge_InterRaterData/collated\", no_labels=True, xy_only=False, domain_name=dn)\n",
    "    for dn in domains_chal_test\n",
    "])\n",
    "\n",
    "chal_test_ids = [out[2] for out in chal_ds_test]\n",
    "\n",
    "chal_test_output_dir = \"/home/s2208943/preprocessed_data/WMHChallenge_InterRaterData/output_maps/test/nnunet/\""
   ]
  },
  {
   "cell_type": "code",
   "execution_count": 319,
   "id": "66936af7-a514-4ccb-ad92-187395c2222c",
   "metadata": {},
   "outputs": [],
   "source": [
    "ADNI_ds = MRISegmentation3DDataset(\"/home/s2208943/preprocessed_data/ADNI300/collated\", no_labels=True, xy_only=False)\n",
    "adni_ids = [out[2] for out in ADNI_ds]\n",
    "adni_out_dir = \"/home/s2208943/preprocessed_data/ADNI300/ADNI_300_output_maps/nnunet/\""
   ]
  },
  {
   "cell_type": "code",
   "execution_count": 320,
   "id": "347eaf73-04fc-441a-a800-b1ebe5031679",
   "metadata": {},
   "outputs": [
    {
     "name": "stderr",
     "output_type": "stream",
     "text": [
      "100%|███████████████████████████████████████████████████████████████| 10/10 [00:04<00:00,  2.13it/s]\n"
     ]
    },
    {
     "name": "stdout",
     "output_type": "stream",
     "text": [
      "deterministic\n",
      "generating uncertainty maps\n"
     ]
    },
    {
     "name": "stderr",
     "output_type": "stream",
     "text": [
      "100%|███████████████████████████████████████████████████████████████| 10/10 [00:00<00:00, 10.51it/s]\n",
      "100%|███████████████████████████████████████████████████████████████| 10/10 [00:04<00:00,  2.25it/s]\n",
      "100%|███████████████████████████████████████████████████████████████| 10/10 [00:03<00:00,  3.02it/s]\n"
     ]
    },
    {
     "name": "stdout",
     "output_type": "stream",
     "text": [
      "deterministic\n",
      "generating uncertainty maps\n"
     ]
    },
    {
     "name": "stderr",
     "output_type": "stream",
     "text": [
      "100%|███████████████████████████████████████████████████████████████| 10/10 [00:00<00:00, 53.89it/s]\n"
     ]
    },
    {
     "name": "stdout",
     "output_type": "stream",
     "text": [
      "folder already exists\n"
     ]
    },
    {
     "name": "stderr",
     "output_type": "stream",
     "text": [
      "100%|███████████████████████████████████████████████████████████████| 10/10 [00:03<00:00,  2.77it/s]\n",
      "100%|███████████████████████████████████████████████████████████████| 10/10 [00:03<00:00,  3.22it/s]\n"
     ]
    },
    {
     "name": "stdout",
     "output_type": "stream",
     "text": [
      "deterministic\n",
      "generating uncertainty maps\n"
     ]
    },
    {
     "name": "stderr",
     "output_type": "stream",
     "text": [
      "100%|██████████████████████████████████████████████████████████████| 10/10 [00:00<00:00, 203.38it/s]\n"
     ]
    },
    {
     "name": "stdout",
     "output_type": "stream",
     "text": [
      "folder already exists\n"
     ]
    },
    {
     "name": "stderr",
     "output_type": "stream",
     "text": [
      "100%|███████████████████████████████████████████████████████████████| 10/10 [00:04<00:00,  2.18it/s]\n",
      "100%|███████████████████████████████████████████████████████████████| 10/10 [00:03<00:00,  3.19it/s]\n"
     ]
    },
    {
     "name": "stdout",
     "output_type": "stream",
     "text": [
      "deterministic\n",
      "generating uncertainty maps\n"
     ]
    },
    {
     "name": "stderr",
     "output_type": "stream",
     "text": [
      "100%|███████████████████████████████████████████████████████████████| 10/10 [00:00<00:00, 71.62it/s]\n"
     ]
    },
    {
     "name": "stdout",
     "output_type": "stream",
     "text": [
      "folder already exists\n"
     ]
    },
    {
     "name": "stderr",
     "output_type": "stream",
     "text": [
      "100%|███████████████████████████████████████████████████████████████| 10/10 [00:04<00:00,  2.21it/s]\n",
      "100%|███████████████████████████████████████████████████████████████| 10/10 [00:03<00:00,  3.22it/s]\n"
     ]
    },
    {
     "name": "stdout",
     "output_type": "stream",
     "text": [
      "deterministic\n",
      "generating uncertainty maps\n"
     ]
    },
    {
     "name": "stderr",
     "output_type": "stream",
     "text": [
      "100%|███████████████████████████████████████████████████████████████| 10/10 [00:00<00:00, 38.26it/s]\n"
     ]
    },
    {
     "name": "stdout",
     "output_type": "stream",
     "text": [
      "folder already exists\n"
     ]
    },
    {
     "name": "stderr",
     "output_type": "stream",
     "text": [
      "100%|███████████████████████████████████████████████████████████████| 10/10 [00:04<00:00,  2.25it/s]\n",
      "100%|███████████████████████████████████████████████████████████████| 10/10 [00:04<00:00,  2.19it/s]\n"
     ]
    },
    {
     "name": "stdout",
     "output_type": "stream",
     "text": [
      "deterministic\n",
      "generating uncertainty maps\n"
     ]
    },
    {
     "name": "stderr",
     "output_type": "stream",
     "text": [
      "100%|███████████████████████████████████████████████████████████████| 10/10 [00:00<00:00, 10.38it/s]\n"
     ]
    },
    {
     "name": "stdout",
     "output_type": "stream",
     "text": [
      "folder already exists\n"
     ]
    },
    {
     "name": "stderr",
     "output_type": "stream",
     "text": [
      "100%|███████████████████████████████████████████████████████████████| 10/10 [00:03<00:00,  2.85it/s]\n",
      "100%|███████████████████████████████████████████████████████████████| 10/10 [00:04<00:00,  2.26it/s]\n"
     ]
    },
    {
     "name": "stdout",
     "output_type": "stream",
     "text": [
      "deterministic\n",
      "generating uncertainty maps\n"
     ]
    },
    {
     "name": "stderr",
     "output_type": "stream",
     "text": [
      "100%|███████████████████████████████████████████████████████████████| 10/10 [00:00<00:00, 10.97it/s]\n"
     ]
    },
    {
     "name": "stdout",
     "output_type": "stream",
     "text": [
      "folder already exists\n"
     ]
    },
    {
     "name": "stderr",
     "output_type": "stream",
     "text": [
      "100%|███████████████████████████████████████████████████████████████| 10/10 [00:03<00:00,  2.61it/s]\n",
      "100%|███████████████████████████████████████████████████████████████| 10/10 [00:04<00:00,  2.20it/s]\n"
     ]
    },
    {
     "name": "stdout",
     "output_type": "stream",
     "text": [
      "deterministic\n",
      "generating uncertainty maps\n"
     ]
    },
    {
     "name": "stderr",
     "output_type": "stream",
     "text": [
      "100%|███████████████████████████████████████████████████████████████| 10/10 [00:00<00:00, 10.96it/s]\n"
     ]
    },
    {
     "name": "stdout",
     "output_type": "stream",
     "text": [
      "folder already exists\n"
     ]
    },
    {
     "name": "stderr",
     "output_type": "stream",
     "text": [
      "100%|███████████████████████████████████████████████████████████████| 10/10 [00:04<00:00,  2.27it/s]\n",
      "100%|███████████████████████████████████████████████████████████████| 10/10 [00:03<00:00,  3.05it/s]\n"
     ]
    },
    {
     "name": "stdout",
     "output_type": "stream",
     "text": [
      "deterministic\n",
      "generating uncertainty maps\n"
     ]
    },
    {
     "name": "stderr",
     "output_type": "stream",
     "text": [
      "100%|██████████████████████████████████████████████████████████████| 10/10 [00:00<00:00, 211.67it/s]\n"
     ]
    },
    {
     "name": "stdout",
     "output_type": "stream",
     "text": [
      "folder already exists\n"
     ]
    },
    {
     "name": "stderr",
     "output_type": "stream",
     "text": [
      "100%|███████████████████████████████████████████████████████████████| 10/10 [00:03<00:00,  2.75it/s]\n",
      "100%|███████████████████████████████████████████████████████████████| 10/10 [00:03<00:00,  3.12it/s]\n"
     ]
    },
    {
     "name": "stdout",
     "output_type": "stream",
     "text": [
      "deterministic\n",
      "generating uncertainty maps\n"
     ]
    },
    {
     "name": "stderr",
     "output_type": "stream",
     "text": [
      "100%|███████████████████████████████████████████████████████████████| 10/10 [00:00<00:00, 41.93it/s]\n"
     ]
    },
    {
     "name": "stdout",
     "output_type": "stream",
     "text": [
      "folder already exists\n"
     ]
    },
    {
     "name": "stderr",
     "output_type": "stream",
     "text": [
      "100%|███████████████████████████████████████████████████████████████| 10/10 [00:04<00:00,  2.32it/s]\n",
      "100%|███████████████████████████████████████████████████████████████| 10/10 [00:03<00:00,  3.08it/s]\n"
     ]
    },
    {
     "name": "stdout",
     "output_type": "stream",
     "text": [
      "deterministic\n",
      "generating uncertainty maps\n"
     ]
    },
    {
     "name": "stderr",
     "output_type": "stream",
     "text": [
      "100%|██████████████████████████████████████████████████████████████| 10/10 [00:00<00:00, 124.69it/s]\n"
     ]
    },
    {
     "name": "stdout",
     "output_type": "stream",
     "text": [
      "folder already exists\n"
     ]
    },
    {
     "name": "stderr",
     "output_type": "stream",
     "text": [
      "100%|███████████████████████████████████████████████████████████████| 10/10 [00:04<00:00,  2.24it/s]\n",
      "100%|███████████████████████████████████████████████████████████████| 10/10 [00:03<00:00,  3.07it/s]\n"
     ]
    },
    {
     "name": "stdout",
     "output_type": "stream",
     "text": [
      "deterministic\n",
      "generating uncertainty maps\n"
     ]
    },
    {
     "name": "stderr",
     "output_type": "stream",
     "text": [
      "100%|███████████████████████████████████████████████████████████████| 10/10 [00:00<00:00, 40.61it/s]\n"
     ]
    },
    {
     "name": "stdout",
     "output_type": "stream",
     "text": [
      "folder already exists\n"
     ]
    },
    {
     "name": "stderr",
     "output_type": "stream",
     "text": [
      "100%|███████████████████████████████████████████████████████████████| 10/10 [00:04<00:00,  2.19it/s]\n",
      "100%|███████████████████████████████████████████████████████████████| 10/10 [00:04<00:00,  2.15it/s]\n"
     ]
    },
    {
     "name": "stdout",
     "output_type": "stream",
     "text": [
      "deterministic\n",
      "generating uncertainty maps\n"
     ]
    },
    {
     "name": "stderr",
     "output_type": "stream",
     "text": [
      "100%|███████████████████████████████████████████████████████████████| 10/10 [00:00<00:00, 10.69it/s]\n"
     ]
    },
    {
     "name": "stdout",
     "output_type": "stream",
     "text": [
      "folder already exists\n"
     ]
    },
    {
     "name": "stderr",
     "output_type": "stream",
     "text": [
      "100%|███████████████████████████████████████████████████████████████| 10/10 [00:03<00:00,  2.71it/s]\n",
      "100%|███████████████████████████████████████████████████████████████| 10/10 [00:04<00:00,  2.18it/s]\n"
     ]
    },
    {
     "name": "stdout",
     "output_type": "stream",
     "text": [
      "deterministic\n",
      "generating uncertainty maps\n"
     ]
    },
    {
     "name": "stderr",
     "output_type": "stream",
     "text": [
      "100%|███████████████████████████████████████████████████████████████| 10/10 [00:00<00:00, 10.28it/s]\n"
     ]
    },
    {
     "name": "stdout",
     "output_type": "stream",
     "text": [
      "folder already exists\n"
     ]
    },
    {
     "name": "stderr",
     "output_type": "stream",
     "text": [
      "100%|███████████████████████████████████████████████████████████████| 10/10 [00:04<00:00,  2.28it/s]\n",
      "100%|███████████████████████████████████████████████████████████████| 10/10 [00:04<00:00,  2.17it/s]\n"
     ]
    },
    {
     "name": "stdout",
     "output_type": "stream",
     "text": [
      "deterministic\n",
      "generating uncertainty maps\n"
     ]
    },
    {
     "name": "stderr",
     "output_type": "stream",
     "text": [
      "100%|███████████████████████████████████████████████████████████████| 10/10 [00:00<00:00, 11.01it/s]\n"
     ]
    },
    {
     "name": "stdout",
     "output_type": "stream",
     "text": [
      "folder already exists\n"
     ]
    },
    {
     "name": "stderr",
     "output_type": "stream",
     "text": [
      "100%|███████████████████████████████████████████████████████████████| 10/10 [00:04<00:00,  2.24it/s]\n",
      "100%|███████████████████████████████████████████████████████████████| 10/10 [00:03<00:00,  3.15it/s]\n"
     ]
    },
    {
     "name": "stdout",
     "output_type": "stream",
     "text": [
      "deterministic\n",
      "generating uncertainty maps\n"
     ]
    },
    {
     "name": "stderr",
     "output_type": "stream",
     "text": [
      "100%|███████████████████████████████████████████████████████████████| 10/10 [00:00<00:00, 84.79it/s]\n"
     ]
    },
    {
     "name": "stdout",
     "output_type": "stream",
     "text": [
      "folder already exists\n"
     ]
    },
    {
     "name": "stderr",
     "output_type": "stream",
     "text": [
      "100%|███████████████████████████████████████████████████████████████| 10/10 [00:04<00:00,  2.29it/s]\n",
      "100%|███████████████████████████████████████████████████████████████| 10/10 [00:03<00:00,  3.29it/s]\n"
     ]
    },
    {
     "name": "stdout",
     "output_type": "stream",
     "text": [
      "deterministic\n",
      "generating uncertainty maps\n"
     ]
    },
    {
     "name": "stderr",
     "output_type": "stream",
     "text": [
      "100%|███████████████████████████████████████████████████████████████| 10/10 [00:00<00:00, 51.84it/s]\n"
     ]
    },
    {
     "name": "stdout",
     "output_type": "stream",
     "text": [
      "folder already exists\n"
     ]
    },
    {
     "name": "stderr",
     "output_type": "stream",
     "text": [
      "100%|███████████████████████████████████████████████████████████████| 10/10 [00:04<00:00,  2.22it/s]\n",
      "100%|███████████████████████████████████████████████████████████████| 10/10 [00:03<00:00,  2.79it/s]\n"
     ]
    },
    {
     "name": "stdout",
     "output_type": "stream",
     "text": [
      "deterministic\n",
      "generating uncertainty maps\n"
     ]
    },
    {
     "name": "stderr",
     "output_type": "stream",
     "text": [
      "100%|██████████████████████████████████████████████████████████████| 10/10 [00:00<00:00, 189.47it/s]\n"
     ]
    },
    {
     "name": "stdout",
     "output_type": "stream",
     "text": [
      "folder already exists\n"
     ]
    },
    {
     "name": "stderr",
     "output_type": "stream",
     "text": [
      "100%|███████████████████████████████████████████████████████████████| 10/10 [00:04<00:00,  2.27it/s]\n",
      "100%|███████████████████████████████████████████████████████████████| 10/10 [00:03<00:00,  3.14it/s]\n"
     ]
    },
    {
     "name": "stdout",
     "output_type": "stream",
     "text": [
      "deterministic\n",
      "generating uncertainty maps\n"
     ]
    },
    {
     "name": "stderr",
     "output_type": "stream",
     "text": [
      "100%|███████████████████████████████████████████████████████████████| 10/10 [00:01<00:00,  9.96it/s]\n"
     ]
    },
    {
     "name": "stdout",
     "output_type": "stream",
     "text": [
      "folder already exists\n"
     ]
    },
    {
     "name": "stderr",
     "output_type": "stream",
     "text": [
      "100%|███████████████████████████████████████████████████████████████| 10/10 [00:04<00:00,  2.32it/s]\n",
      "100%|███████████████████████████████████████████████████████████████| 10/10 [00:04<00:00,  2.18it/s]\n"
     ]
    },
    {
     "name": "stdout",
     "output_type": "stream",
     "text": [
      "deterministic\n",
      "generating uncertainty maps\n"
     ]
    },
    {
     "name": "stderr",
     "output_type": "stream",
     "text": [
      "100%|███████████████████████████████████████████████████████████████| 10/10 [00:00<00:00, 10.25it/s]\n"
     ]
    },
    {
     "name": "stdout",
     "output_type": "stream",
     "text": [
      "folder already exists\n"
     ]
    },
    {
     "name": "stderr",
     "output_type": "stream",
     "text": [
      "100%|███████████████████████████████████████████████████████████████| 10/10 [00:04<00:00,  2.30it/s]\n",
      "100%|███████████████████████████████████████████████████████████████| 10/10 [00:04<00:00,  2.24it/s]\n"
     ]
    },
    {
     "name": "stdout",
     "output_type": "stream",
     "text": [
      "deterministic\n",
      "generating uncertainty maps\n"
     ]
    },
    {
     "name": "stderr",
     "output_type": "stream",
     "text": [
      "100%|███████████████████████████████████████████████████████████████| 10/10 [00:00<00:00, 10.48it/s]\n"
     ]
    },
    {
     "name": "stdout",
     "output_type": "stream",
     "text": [
      "folder already exists\n"
     ]
    },
    {
     "name": "stderr",
     "output_type": "stream",
     "text": [
      "100%|███████████████████████████████████████████████████████████████| 10/10 [00:03<00:00,  2.74it/s]\n",
      "100%|███████████████████████████████████████████████████████████████| 10/10 [00:04<00:00,  2.20it/s]\n"
     ]
    },
    {
     "name": "stdout",
     "output_type": "stream",
     "text": [
      "deterministic\n",
      "generating uncertainty maps\n"
     ]
    },
    {
     "name": "stderr",
     "output_type": "stream",
     "text": [
      "100%|███████████████████████████████████████████████████████████████| 10/10 [00:00<00:00, 11.34it/s]\n"
     ]
    },
    {
     "name": "stdout",
     "output_type": "stream",
     "text": [
      "folder already exists\n"
     ]
    },
    {
     "name": "stderr",
     "output_type": "stream",
     "text": [
      "100%|███████████████████████████████████████████████████████████████| 10/10 [00:04<00:00,  2.25it/s]\n",
      "100%|███████████████████████████████████████████████████████████████| 10/10 [00:03<00:00,  3.06it/s]\n"
     ]
    },
    {
     "name": "stdout",
     "output_type": "stream",
     "text": [
      "deterministic\n",
      "generating uncertainty maps\n"
     ]
    },
    {
     "name": "stderr",
     "output_type": "stream",
     "text": [
      "100%|███████████████████████████████████████████████████████████████| 10/10 [00:00<00:00, 46.64it/s]\n"
     ]
    },
    {
     "name": "stdout",
     "output_type": "stream",
     "text": [
      "folder already exists\n"
     ]
    },
    {
     "name": "stderr",
     "output_type": "stream",
     "text": [
      "100%|███████████████████████████████████████████████████████████████| 10/10 [00:04<00:00,  2.21it/s]\n",
      "100%|███████████████████████████████████████████████████████████████| 10/10 [00:03<00:00,  2.95it/s]\n"
     ]
    },
    {
     "name": "stdout",
     "output_type": "stream",
     "text": [
      "deterministic\n",
      "generating uncertainty maps\n"
     ]
    },
    {
     "name": "stderr",
     "output_type": "stream",
     "text": [
      "100%|███████████████████████████████████████████████████████████████| 10/10 [00:00<00:00, 41.60it/s]\n"
     ]
    },
    {
     "name": "stdout",
     "output_type": "stream",
     "text": [
      "folder already exists\n"
     ]
    },
    {
     "name": "stderr",
     "output_type": "stream",
     "text": [
      "100%|███████████████████████████████████████████████████████████████| 10/10 [00:04<00:00,  2.25it/s]\n",
      "100%|███████████████████████████████████████████████████████████████| 10/10 [00:03<00:00,  3.30it/s]\n"
     ]
    },
    {
     "name": "stdout",
     "output_type": "stream",
     "text": [
      "deterministic\n",
      "generating uncertainty maps\n"
     ]
    },
    {
     "name": "stderr",
     "output_type": "stream",
     "text": [
      "100%|██████████████████████████████████████████████████████████████| 10/10 [00:00<00:00, 191.21it/s]\n"
     ]
    },
    {
     "name": "stdout",
     "output_type": "stream",
     "text": [
      "folder already exists\n"
     ]
    },
    {
     "name": "stderr",
     "output_type": "stream",
     "text": [
      "100%|███████████████████████████████████████████████████████████████| 10/10 [00:04<00:00,  2.28it/s]\n",
      "100%|███████████████████████████████████████████████████████████████| 10/10 [00:04<00:00,  2.37it/s]\n"
     ]
    },
    {
     "name": "stdout",
     "output_type": "stream",
     "text": [
      "deterministic\n",
      "generating uncertainty maps\n"
     ]
    },
    {
     "name": "stderr",
     "output_type": "stream",
     "text": [
      "100%|███████████████████████████████████████████████████████████████| 10/10 [00:01<00:00,  9.38it/s]\n"
     ]
    },
    {
     "name": "stdout",
     "output_type": "stream",
     "text": [
      "folder already exists\n"
     ]
    },
    {
     "name": "stderr",
     "output_type": "stream",
     "text": [
      "100%|███████████████████████████████████████████████████████████████| 10/10 [00:03<00:00,  2.69it/s]\n",
      "100%|███████████████████████████████████████████████████████████████| 10/10 [00:04<00:00,  2.16it/s]\n"
     ]
    },
    {
     "name": "stdout",
     "output_type": "stream",
     "text": [
      "deterministic\n",
      "generating uncertainty maps\n"
     ]
    },
    {
     "name": "stderr",
     "output_type": "stream",
     "text": [
      "100%|███████████████████████████████████████████████████████████████| 10/10 [00:00<00:00, 10.92it/s]\n"
     ]
    },
    {
     "name": "stdout",
     "output_type": "stream",
     "text": [
      "folder already exists\n"
     ]
    },
    {
     "name": "stderr",
     "output_type": "stream",
     "text": [
      "100%|███████████████████████████████████████████████████████████████| 10/10 [00:04<00:00,  2.43it/s]\n",
      "100%|███████████████████████████████████████████████████████████████| 10/10 [00:04<00:00,  2.17it/s]\n"
     ]
    },
    {
     "name": "stdout",
     "output_type": "stream",
     "text": [
      "deterministic\n",
      "generating uncertainty maps\n"
     ]
    },
    {
     "name": "stderr",
     "output_type": "stream",
     "text": [
      "100%|███████████████████████████████████████████████████████████████| 10/10 [00:00<00:00, 11.08it/s]\n"
     ]
    },
    {
     "name": "stdout",
     "output_type": "stream",
     "text": [
      "folder already exists\n"
     ]
    },
    {
     "name": "stderr",
     "output_type": "stream",
     "text": [
      "100%|███████████████████████████████████████████████████████████████| 10/10 [00:04<00:00,  2.16it/s]\n"
     ]
    }
   ],
   "source": [
    "evaluate_dataset(litmodel, ADNI_ds, adni_ids, adni_out_dir)"
   ]
  },
  {
   "cell_type": "code",
   "execution_count": null,
   "id": "3caf4586-54cc-4189-80e7-c3af0514c67b",
   "metadata": {},
   "outputs": [],
   "source": []
  },
  {
   "cell_type": "code",
   "execution_count": null,
   "id": "8aff8265-3a0d-4435-807a-2264c65d67ce",
   "metadata": {},
   "outputs": [],
   "source": []
  },
  {
   "cell_type": "code",
   "execution_count": 318,
   "id": "0de23183-40ad-4041-975e-d8aacd9058ab",
   "metadata": {},
   "outputs": [
    {
     "name": "stderr",
     "output_type": "stream",
     "text": [
      "100%|███████████████████████████████████████████████████████████████| 10/10 [00:04<00:00,  2.03it/s]\n"
     ]
    },
    {
     "name": "stdout",
     "output_type": "stream",
     "text": [
      "deterministic\n",
      "generating uncertainty maps\n"
     ]
    },
    {
     "name": "stderr",
     "output_type": "stream",
     "text": [
      "100%|███████████████████████████████████████████████████████████████| 10/10 [00:01<00:00,  9.95it/s]\n",
      "100%|███████████████████████████████████████████████████████████████| 10/10 [00:04<00:00,  2.14it/s]\n",
      "100%|███████████████████████████████████████████████████████████████| 10/10 [00:04<00:00,  2.13it/s]\n"
     ]
    },
    {
     "name": "stdout",
     "output_type": "stream",
     "text": [
      "deterministic\n",
      "generating uncertainty maps\n"
     ]
    },
    {
     "name": "stderr",
     "output_type": "stream",
     "text": [
      "100%|███████████████████████████████████████████████████████████████| 10/10 [00:00<00:00, 10.12it/s]\n"
     ]
    },
    {
     "name": "stdout",
     "output_type": "stream",
     "text": [
      "folder already exists\n"
     ]
    },
    {
     "name": "stderr",
     "output_type": "stream",
     "text": [
      "100%|███████████████████████████████████████████████████████████████| 10/10 [00:05<00:00,  1.89it/s]\n",
      "100%|███████████████████████████████████████████████████████████████| 10/10 [00:03<00:00,  2.79it/s]\n"
     ]
    },
    {
     "name": "stdout",
     "output_type": "stream",
     "text": [
      "deterministic\n",
      "generating uncertainty maps\n"
     ]
    },
    {
     "name": "stderr",
     "output_type": "stream",
     "text": [
      "100%|██████████████████████████████████████████████████████████████| 10/10 [00:00<00:00, 199.49it/s]\n"
     ]
    },
    {
     "name": "stdout",
     "output_type": "stream",
     "text": [
      "folder already exists\n"
     ]
    },
    {
     "name": "stderr",
     "output_type": "stream",
     "text": [
      "100%|███████████████████████████████████████████████████████████████| 10/10 [00:04<00:00,  2.27it/s]\n",
      "100%|███████████████████████████████████████████████████████████████| 10/10 [00:03<00:00,  3.06it/s]\n"
     ]
    },
    {
     "name": "stdout",
     "output_type": "stream",
     "text": [
      "deterministic\n",
      "generating uncertainty maps\n"
     ]
    },
    {
     "name": "stderr",
     "output_type": "stream",
     "text": [
      "100%|██████████████████████████████████████████████████████████████| 10/10 [00:00<00:00, 194.62it/s]\n"
     ]
    },
    {
     "name": "stdout",
     "output_type": "stream",
     "text": [
      "folder already exists\n"
     ]
    },
    {
     "name": "stderr",
     "output_type": "stream",
     "text": [
      "100%|███████████████████████████████████████████████████████████████| 10/10 [00:04<00:00,  2.25it/s]\n",
      "100%|███████████████████████████████████████████████████████████████| 10/10 [00:03<00:00,  3.01it/s]\n"
     ]
    },
    {
     "name": "stdout",
     "output_type": "stream",
     "text": [
      "deterministic\n",
      "generating uncertainty maps\n"
     ]
    },
    {
     "name": "stderr",
     "output_type": "stream",
     "text": [
      "100%|██████████████████████████████████████████████████████████████| 10/10 [00:00<00:00, 179.48it/s]\n"
     ]
    },
    {
     "name": "stdout",
     "output_type": "stream",
     "text": [
      "folder already exists\n"
     ]
    },
    {
     "name": "stderr",
     "output_type": "stream",
     "text": [
      "100%|███████████████████████████████████████████████████████████████| 10/10 [00:04<00:00,  2.24it/s]\n",
      "100%|███████████████████████████████████████████████████████████████| 10/10 [00:03<00:00,  3.05it/s]\n"
     ]
    },
    {
     "name": "stdout",
     "output_type": "stream",
     "text": [
      "deterministic\n",
      "generating uncertainty maps\n"
     ]
    },
    {
     "name": "stderr",
     "output_type": "stream",
     "text": [
      "100%|███████████████████████████████████████████████████████████████| 10/10 [00:00<00:00, 38.74it/s]\n"
     ]
    },
    {
     "name": "stdout",
     "output_type": "stream",
     "text": [
      "folder already exists\n"
     ]
    },
    {
     "name": "stderr",
     "output_type": "stream",
     "text": [
      "100%|███████████████████████████████████████████████████████████████| 10/10 [00:05<00:00,  1.89it/s]\n",
      "100%|███████████████████████████████████████████████████████████████| 10/10 [00:04<00:00,  2.04it/s]\n"
     ]
    },
    {
     "name": "stdout",
     "output_type": "stream",
     "text": [
      "deterministic\n",
      "generating uncertainty maps\n"
     ]
    },
    {
     "name": "stderr",
     "output_type": "stream",
     "text": [
      "100%|███████████████████████████████████████████████████████████████| 10/10 [00:00<00:00, 10.07it/s]\n"
     ]
    },
    {
     "name": "stdout",
     "output_type": "stream",
     "text": [
      "folder already exists\n"
     ]
    },
    {
     "name": "stderr",
     "output_type": "stream",
     "text": [
      "100%|███████████████████████████████████████████████████████████████| 10/10 [00:05<00:00,  1.88it/s]\n",
      "100%|███████████████████████████████████████████████████████████████| 10/10 [00:04<00:00,  2.11it/s]\n"
     ]
    },
    {
     "name": "stdout",
     "output_type": "stream",
     "text": [
      "deterministic\n",
      "generating uncertainty maps\n"
     ]
    },
    {
     "name": "stderr",
     "output_type": "stream",
     "text": [
      "100%|███████████████████████████████████████████████████████████████| 10/10 [00:00<00:00, 11.24it/s]\n"
     ]
    },
    {
     "name": "stdout",
     "output_type": "stream",
     "text": [
      "folder already exists\n"
     ]
    },
    {
     "name": "stderr",
     "output_type": "stream",
     "text": [
      "100%|███████████████████████████████████████████████████████████████| 10/10 [00:04<00:00,  2.41it/s]\n",
      "100%|███████████████████████████████████████████████████████████████| 10/10 [00:04<00:00,  2.26it/s]\n"
     ]
    },
    {
     "name": "stdout",
     "output_type": "stream",
     "text": [
      "deterministic\n",
      "generating uncertainty maps\n"
     ]
    },
    {
     "name": "stderr",
     "output_type": "stream",
     "text": [
      "100%|███████████████████████████████████████████████████████████████| 10/10 [00:00<00:00, 10.32it/s]\n"
     ]
    },
    {
     "name": "stdout",
     "output_type": "stream",
     "text": [
      "folder already exists\n"
     ]
    },
    {
     "name": "stderr",
     "output_type": "stream",
     "text": [
      "100%|███████████████████████████████████████████████████████████████| 10/10 [00:04<00:00,  2.44it/s]\n",
      "100%|███████████████████████████████████████████████████████████████| 10/10 [00:02<00:00,  3.37it/s]\n"
     ]
    },
    {
     "name": "stdout",
     "output_type": "stream",
     "text": [
      "deterministic\n",
      "generating uncertainty maps\n"
     ]
    },
    {
     "name": "stderr",
     "output_type": "stream",
     "text": [
      "100%|██████████████████████████████████████████████████████████████| 10/10 [00:00<00:00, 205.15it/s]\n"
     ]
    },
    {
     "name": "stdout",
     "output_type": "stream",
     "text": [
      "folder already exists\n"
     ]
    },
    {
     "name": "stderr",
     "output_type": "stream",
     "text": [
      "100%|███████████████████████████████████████████████████████████████| 10/10 [00:04<00:00,  2.25it/s]\n"
     ]
    }
   ],
   "source": [
    "evaluate_dataset(litmodel, chal_ds_test, chal_test_ids, chal_test_output_dir)"
   ]
  },
  {
   "cell_type": "code",
   "execution_count": 315,
   "id": "27a9a0b1-da99-4173-bd74-62adcf5413b7",
   "metadata": {},
   "outputs": [],
   "source": [
    "%autoreload"
   ]
  },
  {
   "cell_type": "code",
   "execution_count": 316,
   "id": "43aefbae-6cd6-4e0b-bdc1-197282fae98d",
   "metadata": {},
   "outputs": [
    {
     "name": "stderr",
     "output_type": "stream",
     "text": [
      "100%|███████████████████████████████████████████████████████████████| 10/10 [00:05<00:00,  1.87it/s]\n"
     ]
    },
    {
     "name": "stdout",
     "output_type": "stream",
     "text": [
      "deterministic\n",
      "generating uncertainty maps\n"
     ]
    },
    {
     "name": "stderr",
     "output_type": "stream",
     "text": [
      "100%|███████████████████████████████████████████████████████████████| 10/10 [00:00<00:00, 10.45it/s]\n",
      "100%|███████████████████████████████████████████████████████████████| 10/10 [00:04<00:00,  2.31it/s]\n",
      "100%|███████████████████████████████████████████████████████████████| 10/10 [00:04<00:00,  2.16it/s]\n"
     ]
    },
    {
     "name": "stdout",
     "output_type": "stream",
     "text": [
      "deterministic\n",
      "generating uncertainty maps\n"
     ]
    },
    {
     "name": "stderr",
     "output_type": "stream",
     "text": [
      "100%|███████████████████████████████████████████████████████████████| 10/10 [00:00<00:00, 10.60it/s]\n"
     ]
    },
    {
     "name": "stdout",
     "output_type": "stream",
     "text": [
      "folder already exists\n"
     ]
    },
    {
     "name": "stderr",
     "output_type": "stream",
     "text": [
      "100%|███████████████████████████████████████████████████████████████| 10/10 [00:04<00:00,  2.21it/s]\n",
      "100%|███████████████████████████████████████████████████████████████| 10/10 [00:04<00:00,  2.13it/s]\n"
     ]
    },
    {
     "name": "stdout",
     "output_type": "stream",
     "text": [
      "deterministic\n",
      "generating uncertainty maps\n"
     ]
    },
    {
     "name": "stderr",
     "output_type": "stream",
     "text": [
      "100%|███████████████████████████████████████████████████████████████| 10/10 [00:00<00:00, 10.41it/s]\n"
     ]
    },
    {
     "name": "stdout",
     "output_type": "stream",
     "text": [
      "folder already exists\n"
     ]
    },
    {
     "name": "stderr",
     "output_type": "stream",
     "text": [
      "100%|███████████████████████████████████████████████████████████████| 10/10 [00:04<00:00,  2.36it/s]\n",
      "100%|███████████████████████████████████████████████████████████████| 10/10 [00:03<00:00,  3.25it/s]\n"
     ]
    },
    {
     "name": "stdout",
     "output_type": "stream",
     "text": [
      "deterministic\n",
      "generating uncertainty maps\n"
     ]
    },
    {
     "name": "stderr",
     "output_type": "stream",
     "text": [
      "100%|██████████████████████████████████████████████████████████████| 10/10 [00:00<00:00, 166.19it/s]\n"
     ]
    },
    {
     "name": "stdout",
     "output_type": "stream",
     "text": [
      "folder already exists\n"
     ]
    },
    {
     "name": "stderr",
     "output_type": "stream",
     "text": [
      "100%|███████████████████████████████████████████████████████████████| 10/10 [00:04<00:00,  2.34it/s]\n",
      "100%|███████████████████████████████████████████████████████████████| 10/10 [00:03<00:00,  3.17it/s]\n"
     ]
    },
    {
     "name": "stdout",
     "output_type": "stream",
     "text": [
      "deterministic\n",
      "generating uncertainty maps\n"
     ]
    },
    {
     "name": "stderr",
     "output_type": "stream",
     "text": [
      "100%|███████████████████████████████████████████████████████████████| 10/10 [00:00<00:00, 43.14it/s]\n"
     ]
    },
    {
     "name": "stdout",
     "output_type": "stream",
     "text": [
      "folder already exists\n"
     ]
    },
    {
     "name": "stderr",
     "output_type": "stream",
     "text": [
      "100%|███████████████████████████████████████████████████████████████| 10/10 [00:05<00:00,  1.88it/s]\n"
     ]
    }
   ],
   "source": [
    "evaluate_dataset(litmodel, chal_ds_train, chal_train_ids, chal_train_output_dir)"
   ]
  },
  {
   "cell_type": "code",
   "execution_count": 245,
   "id": "e3890fad-013f-40fb-a265-3deda3c45161",
   "metadata": {},
   "outputs": [
    {
     "data": {
      "text/plain": [
       "68"
      ]
     },
     "execution_count": 245,
     "metadata": {},
     "output_type": "execute_result"
    }
   ],
   "source": [
    "len(mss3_ds)"
   ]
  },
  {
   "cell_type": "code",
   "execution_count": 308,
   "id": "5892a77e-ab98-41c6-8329-ae6579b1f680",
   "metadata": {},
   "outputs": [
    {
     "name": "stderr",
     "output_type": "stream",
     "text": [
      "100%|███████████████████████████████████████████████████████████████| 10/10 [00:10<00:00,  1.03s/it]\n"
     ]
    },
    {
     "name": "stdout",
     "output_type": "stream",
     "text": [
      "deterministic\n",
      "generating uncertainty maps\n"
     ]
    },
    {
     "name": "stderr",
     "output_type": "stream",
     "text": [
      "100%|███████████████████████████████████████████████████████████████| 10/10 [00:01<00:00,  9.92it/s]\n"
     ]
    },
    {
     "name": "stdout",
     "output_type": "stream",
     "text": [
      "folder already exists\n"
     ]
    },
    {
     "name": "stderr",
     "output_type": "stream",
     "text": [
      "100%|███████████████████████████████████████████████████████████████| 10/10 [00:05<00:00,  1.87it/s]\n",
      "100%|███████████████████████████████████████████████████████████████| 10/10 [00:13<00:00,  1.38s/it]\n"
     ]
    },
    {
     "name": "stdout",
     "output_type": "stream",
     "text": [
      "deterministic\n",
      "generating uncertainty maps\n"
     ]
    },
    {
     "name": "stderr",
     "output_type": "stream",
     "text": [
      "100%|███████████████████████████████████████████████████████████████| 10/10 [00:01<00:00,  8.47it/s]\n"
     ]
    },
    {
     "name": "stdout",
     "output_type": "stream",
     "text": [
      "folder already exists\n"
     ]
    },
    {
     "name": "stderr",
     "output_type": "stream",
     "text": [
      "100%|███████████████████████████████████████████████████████████████| 10/10 [00:05<00:00,  1.72it/s]\n",
      "100%|███████████████████████████████████████████████████████████████| 10/10 [00:11<00:00,  1.11s/it]\n"
     ]
    },
    {
     "name": "stdout",
     "output_type": "stream",
     "text": [
      "deterministic\n",
      "generating uncertainty maps\n"
     ]
    },
    {
     "name": "stderr",
     "output_type": "stream",
     "text": [
      "100%|██████████████████████████████████████████████████████████████| 10/10 [00:00<00:00, 142.03it/s]\n"
     ]
    },
    {
     "name": "stdout",
     "output_type": "stream",
     "text": [
      "folder already exists\n"
     ]
    },
    {
     "name": "stderr",
     "output_type": "stream",
     "text": [
      "100%|███████████████████████████████████████████████████████████████| 10/10 [00:05<00:00,  1.95it/s]\n",
      "100%|███████████████████████████████████████████████████████████████| 10/10 [00:10<00:00,  1.08s/it]\n"
     ]
    },
    {
     "name": "stdout",
     "output_type": "stream",
     "text": [
      "deterministic\n",
      "generating uncertainty maps\n"
     ]
    },
    {
     "name": "stderr",
     "output_type": "stream",
     "text": [
      "100%|███████████████████████████████████████████████████████████████| 10/10 [00:00<00:00, 83.15it/s]\n"
     ]
    },
    {
     "name": "stdout",
     "output_type": "stream",
     "text": [
      "folder already exists\n"
     ]
    },
    {
     "name": "stderr",
     "output_type": "stream",
     "text": [
      "100%|███████████████████████████████████████████████████████████████| 10/10 [00:05<00:00,  1.78it/s]\n",
      "100%|███████████████████████████████████████████████████████████████| 10/10 [00:12<00:00,  1.29s/it]\n"
     ]
    },
    {
     "name": "stdout",
     "output_type": "stream",
     "text": [
      "deterministic\n",
      "generating uncertainty maps\n"
     ]
    },
    {
     "name": "stderr",
     "output_type": "stream",
     "text": [
      "100%|███████████████████████████████████████████████████████████████| 10/10 [00:00<00:00, 10.85it/s]\n"
     ]
    },
    {
     "name": "stdout",
     "output_type": "stream",
     "text": [
      "folder already exists\n"
     ]
    },
    {
     "name": "stderr",
     "output_type": "stream",
     "text": [
      "100%|███████████████████████████████████████████████████████████████| 10/10 [00:05<00:00,  1.92it/s]\n",
      "100%|███████████████████████████████████████████████████████████████| 10/10 [00:12<00:00,  1.23s/it]\n"
     ]
    },
    {
     "name": "stdout",
     "output_type": "stream",
     "text": [
      "deterministic\n",
      "generating uncertainty maps\n"
     ]
    },
    {
     "name": "stderr",
     "output_type": "stream",
     "text": [
      "100%|███████████████████████████████████████████████████████████████| 10/10 [00:00<00:00, 23.34it/s]\n"
     ]
    },
    {
     "name": "stdout",
     "output_type": "stream",
     "text": [
      "folder already exists\n"
     ]
    },
    {
     "name": "stderr",
     "output_type": "stream",
     "text": [
      "100%|███████████████████████████████████████████████████████████████| 10/10 [00:05<00:00,  1.78it/s]\n"
     ]
    }
   ],
   "source": [
    "evaluate_dataset(litmodel, mss3_ds, mss3_ids, mss3_output_dir)"
   ]
  },
  {
   "cell_type": "code",
   "execution_count": null,
   "id": "a2bf9ad7-1096-4f65-a99c-fa1ba9aaf5d8",
>>>>>>> origin/wmhuq
   "metadata": {},
   "outputs": [],
   "source": []
  },
  {
   "cell_type": "code",
   "execution_count": null,
<<<<<<< HEAD
   "id": "c6a9b56b-b7f9-4186-a952-19c2d2bde082",
   "metadata": {},
   "outputs": [],
   "source": []
=======
   "id": "74c14b36-c260-4c9f-92cd-7a6d17abd86c",
   "metadata": {},
   "outputs": [],
   "source": [
    "### now train the fazekas model"
   ]
>>>>>>> origin/wmhuq
  }
 ],
 "metadata": {
  "kernelspec": {
   "display_name": "Python 3 (ipykernel)",
   "language": "python",
   "name": "python3"
  },
  "language_info": {
   "codemirror_mode": {
    "name": "ipython",
    "version": 3
   },
   "file_extension": ".py",
   "mimetype": "text/x-python",
   "name": "python",
   "nbconvert_exporter": "python",
   "pygments_lexer": "ipython3",
<<<<<<< HEAD
   "version": "3.12.8"
=======
   "version": "3.11.11"
>>>>>>> origin/wmhuq
  }
 },
 "nbformat": 4,
 "nbformat_minor": 5
}
