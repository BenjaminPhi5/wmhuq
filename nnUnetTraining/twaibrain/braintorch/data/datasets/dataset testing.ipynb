{
 "cells": [
  {
   "cell_type": "markdown",
   "id": "82b726f4-d49b-4930-bff5-b21ee570f629",
   "metadata": {},
   "source": [
    "## testing the torch dataset object for the new datasets"
   ]
  },
  {
   "cell_type": "code",
   "execution_count": 1,
   "id": "7001cae0-fd18-45df-919e-8b08a2e64061",
   "metadata": {},
   "outputs": [],
   "source": [
    "%load_ext autoreload"
   ]
  },
  {
   "cell_type": "code",
   "execution_count": 5,
   "id": "0f090c0b-503b-4851-87b4-e8e0ee2fde42",
   "metadata": {},
   "outputs": [],
   "source": [
    "%autoreload"
   ]
  },
  {
   "cell_type": "code",
   "execution_count": 6,
   "id": "b72aa3c8-26a8-48d8-a686-b188871dd4d6",
   "metadata": {},
   "outputs": [],
   "source": [
    "from twaibrain.braintorch.data import SingleVisitDataset_V1, MultiIndependentVisitDataset_V1, SitkImageDataset_V1, RandomSubjectVisitDataset_V1, SingleVisitDatasetInRam_V1, MultiIndependentVisitDatasetInRam_V1, RandomSubjectVisitDatasetInRam_V1\n",
    "import matplotlib.pyplot as plt\n",
    "import torch\n",
    "import pandas as pd\n",
    "import numpy as np\n",
    "from tqdm import tqdm"
   ]
  },
  {
   "cell_type": "code",
   "execution_count": 7,
   "id": "ab23d702-9a54-47d3-ab63-917ae30b1c8e",
   "metadata": {},
   "outputs": [
    {
     "name": "stderr",
     "output_type": "stream",
     "text": [
      "100%|███████████████████████████████████████████████████████████████| 69/69 [00:16<00:00,  4.11it/s]\n"
     ]
    }
   ],
   "source": [
    "lbc_val = SingleVisitDatasetInRam_V1(\n",
    "        dataset_folder=\"/home/s2208943/preprocessed_data/\",#\"/workspace/writeable/datasets/preprocessed_data\",\n",
    "        config_name=\"policyproblem_train\",\n",
    "        ds_name=\"LBC\",\n",
    "        visit_key=\"ses\",\n",
    "        ds_experiment_name='',\n",
    "        split='val',\n",
    "        resample=True,\n",
    "        out_spacing=[1,1,2],\n",
    "        fit_to_mask=True,\n",
    "        mask_pad=0,\n",
    "        fit_to_shape=True,\n",
    "        output_shape=[80,192,160]\n",
    "                           )"
   ]
  },
  {
   "cell_type": "code",
   "execution_count": null,
   "id": "acb5235b-6d21-47d8-84f3-51b2d64a314a",
   "metadata": {},
   "outputs": [],
   "source": []
  },
  {
   "cell_type": "code",
   "execution_count": null,
   "id": "7e4720a3-aed8-44bc-b3d0-f35eb524fd13",
   "metadata": {},
   "outputs": [],
   "source": [
    "lbc_train = RandomSubjectVisitDatasetInRam_V1(\n",
    "        dataset_folder=\"/home/s2208943/preprocessed_data/\",#\"/workspace/writeable/datasets/preprocessed_data\",\n",
    "        config_name=\"policyproblem_train\",\n",
    "        ds_name=\"LBC\",\n",
    "        visit_key=\"ses\",\n",
    "        ds_experiment_name='',\n",
    "        split='train',\n",
    "        resample=True,\n",
    "        out_spacing=[1,1,2],\n",
    "        fit_to_mask=True,\n",
    "        mask_pad=0,\n",
    "        fit_to_shape=True,\n",
    "        output_shape=[80,192,160]\n",
    "                           )"
   ]
  },
  {
   "cell_type": "code",
   "execution_count": 74,
   "id": "972397fc-43fc-4627-88fc-688480870f05",
   "metadata": {},
   "outputs": [
    {
     "data": {
      "text/plain": [
       "80"
      ]
     },
     "execution_count": 74,
     "metadata": {},
     "output_type": "execute_result"
    }
   ],
   "source": [
    "5 * 2**4"
   ]
  },
  {
   "cell_type": "code",
   "execution_count": null,
   "id": "e39c49f1-b371-49de-b486-9d390c08dc8c",
   "metadata": {},
   "outputs": [],
   "source": [
    "80, 192, 160"
   ]
  },
  {
   "cell_type": "code",
   "execution_count": 61,
   "id": "d359b00a-8e5d-4380-a336-95737819ee0c",
   "metadata": {},
   "outputs": [
    {
     "data": {
      "text/plain": [
       "(79, 188, 149)"
      ]
     },
     "execution_count": 61,
     "metadata": {},
     "output_type": "execute_result"
    }
   ],
   "source": [
    "maxz, maxx, maxy"
   ]
  },
  {
   "cell_type": "code",
   "execution_count": 20,
   "id": "b387d68d-875a-41cb-b7a6-02269a995238",
   "metadata": {},
   "outputs": [],
   "source": [
    "lbc_sitk = SitkImageDataset_V1(\n",
    "        dataset_folder=\"/home/s2208943/preprocessed_data/\",#\"/workspace/writeable/datasets/preprocessed_data\",\n",
    "        config_name=\"policyproblem_test\",\n",
    "        ds_name=\"LBC\",\n",
    "        visit_key=\"ses\",\n",
    "        ds_experiment_name='',\n",
    "        split='test',\n",
    ")\n",
    "\n",
    "lmslsc_sitk = SitkImageDataset_V1(\n",
    "        dataset_folder=\"/home/s2208943/preprocessed_data/\",\n",
    "        config_name=\"policyproblem_test\",\n",
    "        ds_name=\"LMSLSC\",\n",
    "        visit_key=\"ses\",\n",
    "        ds_experiment_name='',\n",
    "        split='test',\n",
    ")\n",
    "\n",
    "mss2_sitk = SitkImageDataset_V1(\n",
    "        dataset_folder=\"/home/s2208943/preprocessed_data/\",\n",
    "        config_name=\"policyproblem_test\",\n",
    "        ds_name=\"MSS2\",\n",
    "        visit_key=\"ses\",\n",
    "        ds_experiment_name='',\n",
    "        split='test',\n",
    ")\n",
    "\n",
    "mss3_sitk = SitkImageDataset_V1(\n",
    "        dataset_folder=\"/home/s2208943/preprocessed_data/\",\n",
    "        config_name=\"policyproblem_test\",\n",
    "        ds_name=\"MSS3\",\n",
    "        visit_key=\"ses\",\n",
    "        ds_experiment_name='wmhedited',\n",
    "        split='test',\n",
    ")\n",
    "\n",
    "msseg_sitk = SitkImageDataset_V1(\n",
    "        dataset_folder=\"/home/s2208943/preprocessed_data/\",\n",
    "        config_name=\"policyproblem_test\",\n",
    "        ds_name=\"MSSEG\",\n",
    "        visit_key=\"ses\",\n",
    "        ds_experiment_name='',\n",
    "        split='test',\n",
    ")\n",
    "\n",
    "shiftsms_sitk = SitkImageDataset_V1(\n",
    "        dataset_folder=\"/home/s2208943/preprocessed_data/\",\n",
    "        config_name=\"policyproblem_test\",\n",
    "        ds_name=\"ShiftsMS\",\n",
    "        visit_key=\"ses\",\n",
    "        ds_experiment_name='',\n",
    "        split='test',\n",
    ")\n",
    "\n",
    "wmhchallenge_sitk = SitkImageDataset_V1(\n",
    "        dataset_folder=\"/home/s2208943/preprocessed_data/\",\n",
    "        config_name=\"policyproblem_test\",\n",
    "        ds_name=\"WMHChallenge\",\n",
    "        visit_key=\"ses\",\n",
    "        ds_experiment_name='raterConsensus',\n",
    "        split='test',\n",
    ")"
   ]
  },
  {
   "cell_type": "code",
   "execution_count": 39,
   "id": "2d31cf9f-3901-4bcf-b4d4-46d6704b5b94",
   "metadata": {},
   "outputs": [
    {
     "name": "stdout",
     "output_type": "stream",
     "text": [
      "LMSLSC\n"
     ]
    },
    {
     "name": "stderr",
     "output_type": "stream",
     "text": [
      "100%|█████████████████████████████████████████████████████████████████| 5/5 [00:00<00:00,  9.97it/s]\n"
     ]
    },
    {
     "name": "stdout",
     "output_type": "stream",
     "text": [
      "MSS2\n"
     ]
    },
    {
     "name": "stderr",
     "output_type": "stream",
     "text": [
      "100%|█████████████████████████████████████████████████████████████| 188/188 [00:06<00:00, 30.57it/s]\n"
     ]
    },
    {
     "name": "stdout",
     "output_type": "stream",
     "text": [
      "MSS3\n"
     ]
    },
    {
     "name": "stderr",
     "output_type": "stream",
     "text": [
      "100%|█████████████████████████████████████████████████████████████| 229/229 [01:04<00:00,  3.58it/s]\n"
     ]
    },
    {
     "name": "stdout",
     "output_type": "stream",
     "text": [
      "MSSEG\n"
     ]
    },
    {
     "name": "stderr",
     "output_type": "stream",
     "text": [
      "100%|███████████████████████████████████████████████████████████████| 53/53 [00:52<00:00,  1.00it/s]\n"
     ]
    },
    {
     "name": "stdout",
     "output_type": "stream",
     "text": [
      "ShiftsMS\n"
     ]
    },
    {
     "name": "stderr",
     "output_type": "stream",
     "text": [
      "100%|███████████████████████████████████████████████████████████████| 46/46 [00:15<00:00,  2.92it/s]\n"
     ]
    },
    {
     "name": "stdout",
     "output_type": "stream",
     "text": [
      "WMHChallenge\n"
     ]
    },
    {
     "name": "stderr",
     "output_type": "stream",
     "text": [
      "100%|█████████████████████████████████████████████████████████████| 170/170 [00:13<00:00, 12.50it/s]\n"
     ]
    },
    {
     "name": "stdout",
     "output_type": "stream",
     "text": [
      "LBC\n"
     ]
    },
    {
     "name": "stderr",
     "output_type": "stream",
     "text": [
      "100%|█████████████████████████████████████████████████████████████| 689/689 [01:00<00:00, 11.39it/s]\n"
     ]
    }
   ],
   "source": [
    "spacing_details = {\n",
    "    \"dataset\":[],\n",
    "    \"x_mm\":[],\n",
    "    \"y_mm\":[],\n",
    "    \"z_mm\":[],\n",
    "    \"x_vox\":[],\n",
    "    \"y_vox\":[],\n",
    "    \"z_vox\":[]\n",
    "    \n",
    "}\n",
    "\n",
    "for ds in [lmslsc_sitk, mss2_sitk, mss3_sitk, msseg_sitk, shiftsms_sitk, wmhchallenge_sitk, lbc_sitk]:\n",
    "    print(ds.ds_name)\n",
    "    for data in tqdm(ds, ncols=100, total=len(ds)):\n",
    "        # print(data.keys())\n",
    "        # break\n",
    "        flair_img = data['FLAIR']\n",
    "        spacing = flair_img.GetSpacing()\n",
    "        size = flair_img.GetSize()\n",
    "        spacing_details['dataset'].append(ds.ds_name)\n",
    "        spacing_details['x_mm'].append(spacing[0])\n",
    "        spacing_details['y_mm'].append(spacing[1])\n",
    "        spacing_details['z_mm'].append(spacing[2])\n",
    "        spacing_details['x_vox'].append(size[0])\n",
    "        spacing_details['y_vox'].append(size[1])\n",
    "        spacing_details['z_vox'].append(size[2])\n",
    "    # break"
   ]
  },
  {
   "cell_type": "code",
   "execution_count": 40,
   "id": "9352a160-9e7f-4bfd-940e-be22aaf3a90d",
   "metadata": {},
   "outputs": [
    {
     "data": {
      "text/plain": [
       "(1.300046682357788, 1.2108999490737915, 3.0)"
      ]
     },
     "execution_count": 40,
     "metadata": {},
     "output_type": "execute_result"
    }
   ],
   "source": [
    "wmhchallenge_sitk[0]['FLAIR'].GetSpacing()"
   ]
  },
  {
   "cell_type": "code",
   "execution_count": null,
   "id": "8cdbb58f-a93c-4ea2-97ed-97c978d6599c",
   "metadata": {},
   "outputs": [],
   "source": []
  },
  {
   "cell_type": "code",
   "execution_count": 42,
   "id": "56dd4848-cffb-42fd-932b-e98f763e6bca",
   "metadata": {},
   "outputs": [],
   "source": [
    "spacing_df = pd.DataFrame(spacing_details)"
   ]
  },
  {
   "cell_type": "code",
   "execution_count": 43,
   "id": "b2f62544-4372-4ede-a360-baf529f0cd19",
   "metadata": {},
   "outputs": [
    {
     "data": {
      "text/html": [
       "<div>\n",
       "<style scoped>\n",
       "    .dataframe tbody tr th:only-of-type {\n",
       "        vertical-align: middle;\n",
       "    }\n",
       "\n",
       "    .dataframe tbody tr th {\n",
       "        vertical-align: top;\n",
       "    }\n",
       "\n",
       "    .dataframe thead th {\n",
       "        text-align: right;\n",
       "    }\n",
       "</style>\n",
       "<table border=\"1\" class=\"dataframe\">\n",
       "  <thead>\n",
       "    <tr style=\"text-align: right;\">\n",
       "      <th></th>\n",
       "      <th>dataset</th>\n",
       "      <th>x_mm</th>\n",
       "      <th>y_mm</th>\n",
       "      <th>z_mm</th>\n",
       "      <th>x_vox</th>\n",
       "      <th>y_vox</th>\n",
       "      <th>z_vox</th>\n",
       "    </tr>\n",
       "  </thead>\n",
       "  <tbody>\n",
       "    <tr>\n",
       "      <th>0</th>\n",
       "      <td>LMSLSC</td>\n",
       "      <td>1.0</td>\n",
       "      <td>1.0</td>\n",
       "      <td>1.0</td>\n",
       "      <td>181</td>\n",
       "      <td>217</td>\n",
       "      <td>181</td>\n",
       "    </tr>\n",
       "    <tr>\n",
       "      <th>1</th>\n",
       "      <td>LMSLSC</td>\n",
       "      <td>1.0</td>\n",
       "      <td>1.0</td>\n",
       "      <td>1.0</td>\n",
       "      <td>181</td>\n",
       "      <td>217</td>\n",
       "      <td>181</td>\n",
       "    </tr>\n",
       "    <tr>\n",
       "      <th>2</th>\n",
       "      <td>LMSLSC</td>\n",
       "      <td>1.0</td>\n",
       "      <td>1.0</td>\n",
       "      <td>1.0</td>\n",
       "      <td>181</td>\n",
       "      <td>217</td>\n",
       "      <td>181</td>\n",
       "    </tr>\n",
       "    <tr>\n",
       "      <th>3</th>\n",
       "      <td>LMSLSC</td>\n",
       "      <td>1.0</td>\n",
       "      <td>1.0</td>\n",
       "      <td>1.0</td>\n",
       "      <td>181</td>\n",
       "      <td>217</td>\n",
       "      <td>181</td>\n",
       "    </tr>\n",
       "    <tr>\n",
       "      <th>4</th>\n",
       "      <td>LMSLSC</td>\n",
       "      <td>1.0</td>\n",
       "      <td>1.0</td>\n",
       "      <td>1.0</td>\n",
       "      <td>181</td>\n",
       "      <td>217</td>\n",
       "      <td>181</td>\n",
       "    </tr>\n",
       "    <tr>\n",
       "      <th>...</th>\n",
       "      <td>...</td>\n",
       "      <td>...</td>\n",
       "      <td>...</td>\n",
       "      <td>...</td>\n",
       "      <td>...</td>\n",
       "      <td>...</td>\n",
       "      <td>...</td>\n",
       "    </tr>\n",
       "    <tr>\n",
       "      <th>1375</th>\n",
       "      <td>LBC</td>\n",
       "      <td>1.0</td>\n",
       "      <td>1.0</td>\n",
       "      <td>2.0</td>\n",
       "      <td>256</td>\n",
       "      <td>256</td>\n",
       "      <td>80</td>\n",
       "    </tr>\n",
       "    <tr>\n",
       "      <th>1376</th>\n",
       "      <td>LBC</td>\n",
       "      <td>1.0</td>\n",
       "      <td>1.0</td>\n",
       "      <td>2.0</td>\n",
       "      <td>256</td>\n",
       "      <td>256</td>\n",
       "      <td>80</td>\n",
       "    </tr>\n",
       "    <tr>\n",
       "      <th>1377</th>\n",
       "      <td>LBC</td>\n",
       "      <td>1.0</td>\n",
       "      <td>1.0</td>\n",
       "      <td>2.0</td>\n",
       "      <td>256</td>\n",
       "      <td>256</td>\n",
       "      <td>80</td>\n",
       "    </tr>\n",
       "    <tr>\n",
       "      <th>1378</th>\n",
       "      <td>LBC</td>\n",
       "      <td>1.0</td>\n",
       "      <td>1.0</td>\n",
       "      <td>2.0</td>\n",
       "      <td>256</td>\n",
       "      <td>256</td>\n",
       "      <td>80</td>\n",
       "    </tr>\n",
       "    <tr>\n",
       "      <th>1379</th>\n",
       "      <td>LBC</td>\n",
       "      <td>1.0</td>\n",
       "      <td>1.0</td>\n",
       "      <td>2.0</td>\n",
       "      <td>256</td>\n",
       "      <td>256</td>\n",
       "      <td>80</td>\n",
       "    </tr>\n",
       "  </tbody>\n",
       "</table>\n",
       "<p>1380 rows × 7 columns</p>\n",
       "</div>"
      ],
      "text/plain": [
       "     dataset  x_mm  y_mm  z_mm  x_vox  y_vox  z_vox\n",
       "0     LMSLSC   1.0   1.0   1.0    181    217    181\n",
       "1     LMSLSC   1.0   1.0   1.0    181    217    181\n",
       "2     LMSLSC   1.0   1.0   1.0    181    217    181\n",
       "3     LMSLSC   1.0   1.0   1.0    181    217    181\n",
       "4     LMSLSC   1.0   1.0   1.0    181    217    181\n",
       "...      ...   ...   ...   ...    ...    ...    ...\n",
       "1375     LBC   1.0   1.0   2.0    256    256     80\n",
       "1376     LBC   1.0   1.0   2.0    256    256     80\n",
       "1377     LBC   1.0   1.0   2.0    256    256     80\n",
       "1378     LBC   1.0   1.0   2.0    256    256     80\n",
       "1379     LBC   1.0   1.0   2.0    256    256     80\n",
       "\n",
       "[1380 rows x 7 columns]"
      ]
     },
     "execution_count": 43,
     "metadata": {},
     "output_type": "execute_result"
    }
   ],
   "source": [
    "spacing_df"
   ]
  },
  {
   "cell_type": "code",
   "execution_count": null,
   "id": "105b75db-4ce4-4901-8827-5b0a6446b0ab",
   "metadata": {},
   "outputs": [],
   "source": [
    "import seaborn as sns\n",
    "sns.set_style(\"darkgrid\", {\"axes.facecolor\": \".9\"})"
   ]
  },
  {
   "cell_type": "code",
   "execution_count": 49,
   "id": "70ec0d71-d77b-474b-9bdc-153ed8de8df2",
   "metadata": {},
   "outputs": [
    {
     "data": {
      "image/png": "[encoded data removed]",
      "text/plain": [
       "<Figure size 1000x600 with 1 Axes>"
      ]
     },
     "metadata": {},
     "output_type": "display_data"
    }
   ],
   "source": [
    "# Transform DataFrame for seaborn stripplot\n",
    "df_melted = spacing_df.melt(id_vars=[\"dataset\"], value_vars=[\"x_mm\", \"y_mm\", \"z_mm\"], \n",
    "                     var_name=\"Dimension\", value_name=\"Value\")\n",
    "\n",
    "# Create the strip plot\n",
    "plt.figure(figsize=(10, 6))\n",
    "sns.stripplot(data=df_melted, x=\"Dimension\", y=\"Value\", hue=\"dataset\", jitter=True, dodge=True)\n",
    "\n",
    "# Improve plot readability\n",
    "plt.xlabel(\"Coordinate Dimension\")\n",
    "plt.ylabel(\"Spacing (mm)\")\n",
    "plt.title(\"Strip Plot of x, y, z mm values grouped by Dataset\")\n",
    "plt.legend(title=\"Dataset\")\n",
    "plt.show()"
   ]
  },
  {
   "cell_type": "code",
   "execution_count": 48,
   "id": "eb69d259-c4b8-4b28-b5f1-1dbb40ef5caa",
   "metadata": {},
   "outputs": [
    {
     "data": {
      "image/png": "[encoded data removed]",
      "text/plain": [
       "<Figure size 1000x600 with 1 Axes>"
      ]
     },
     "metadata": {},
     "output_type": "display_data"
    }
   ],
   "source": [
    "# Transform DataFrame for seaborn stripplot\n",
    "df_melted = spacing_df.melt(id_vars=[\"dataset\"], value_vars=[\"x_vox\", \"y_vox\", \"z_vox\"], \n",
    "                     var_name=\"Dimension\", value_name=\"Value\")\n",
    "\n",
    "# Create the strip plot\n",
    "plt.figure(figsize=(10, 6))\n",
    "sns.stripplot(data=df_melted, x=\"Dimension\", y=\"Value\", hue=\"dataset\", jitter=True, dodge=True)\n",
    "\n",
    "# Improve plot readability\n",
    "plt.xlabel(\"Coordinate Dimension\")\n",
    "plt.ylabel(\"Number of voxels\")\n",
    "plt.title(\"Strip Plot of x, y, z voxel count values grouped by Dataset\")\n",
    "plt.legend(title=\"Dataset\")\n",
    "plt.show()"
   ]
  },
  {
   "cell_type": "markdown",
   "id": "9004b289-c9c9-422f-a7d2-0ceab6e922d5",
   "metadata": {},
   "source": [
    "### notes:\n",
    "based on this, for now, I have moved on to output sizes of [80, 192, 160] (z first) and resample to [1, 1, 2] (z last) spacing. for the MS only models, this may not be a prudent idea\n",
    "\n",
    "an alternative may be to not resample the images at all, and essentially treat brains as 160, 192, 160 in 1,1,1 dim and then go from there, or to impose a minimum spacing...\n",
    "\n",
    "\n",
    "there are complexities here and the code will need to be modified if we arrange some kind of dynamic spacing procedure..."
   ]
  },
  {
   "cell_type": "code",
   "execution_count": null,
   "id": "73bead68-2436-4457-a69d-bb32819ddc74",
   "metadata": {},
   "outputs": [],
   "source": []
  },
  {
   "cell_type": "code",
   "execution_count": null,
   "id": "73f47933-f308-4f7f-a969-3131319fe7a3",
   "metadata": {},
   "outputs": [],
   "source": []
  },
  {
   "cell_type": "code",
   "execution_count": null,
   "id": "cc9ad25e-eea8-4ff7-adee-b043ea915bdd",
   "metadata": {},
   "outputs": [],
   "source": []
  },
  {
   "cell_type": "code",
   "execution_count": null,
   "id": "0af0343e-a491-49bc-93b7-81160f950a34",
   "metadata": {},
   "outputs": [],
   "source": []
  },
  {
   "cell_type": "code",
   "execution_count": null,
   "id": "6f17f461-d552-4f40-b601-9d20c6bc43e7",
   "metadata": {},
   "outputs": [],
   "source": []
  }
 ],
 "metadata": {
  "kernelspec": {
   "display_name": "Python 3 (ipykernel)",
   "language": "python",
   "name": "python3"
  },
  "language_info": {
   "codemirror_mode": {
    "name": "ipython",
    "version": 3
   },
   "file_extension": ".py",
   "mimetype": "text/x-python",
   "name": "python",
   "nbconvert_exporter": "python",
   "pygments_lexer": "ipython3",
   "version": "3.12.8"
  }
 },
 "nbformat": 4,
 "nbformat_minor": 5
}
